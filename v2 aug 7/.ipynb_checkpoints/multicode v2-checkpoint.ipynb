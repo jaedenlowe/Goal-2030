{
 "cells": [
  {
   "cell_type": "markdown",
   "metadata": {},
   "source": [
    "### MultiOutput"
   ]
  },
  {
   "cell_type": "code",
   "execution_count": 44,
   "metadata": {},
   "outputs": [
    {
     "name": "stdout",
     "output_type": "stream",
     "text": [
      "Model Accuracy: 0.5429\n"
     ]
    }
   ],
   "source": [
    "import numpy as np\n",
    "import pandas as pd\n",
    "from sklearn.model_selection import train_test_split\n",
    "from sklearn.multioutput import MultiOutputClassifier\n",
    "from sklearn.linear_model import LogisticRegression\n",
    "\n",
    "# Load the CSV file into a DataFrame\n",
    "df = pd.read_csv('multidata_binary172.csv')\n",
    "\n",
    "# Assuming the last columns are the target labels and the rest are features\n",
    "X = df.iloc[:, :-10]  # Replace 'n' with the number of target columns\n",
    "y = df.iloc[:, -8:]  # Replace 'n' with the number of target columns\n",
    "\n",
    "# Split the data into training and testing sets\n",
    "X_train, X_test, y_train, y_test = train_test_split(X, y, test_size=0.2, random_state=42)\n",
    "\n",
    "# Initialize and train the MultiOutputClassifier with LogisticRegression\n",
    "clf = MultiOutputClassifier(LogisticRegression()).fit(X_train, y_train)\n",
    "\n",
    "# Evaluate the model on the test set\n",
    "score = clf.score(X_test, y_test)\n",
    "\n",
    "print(f\"Model Accuracy: {score:.4f}\")"
   ]
  },
  {
   "cell_type": "markdown",
   "metadata": {},
   "source": [
    "### RandomForest"
   ]
  },
  {
   "cell_type": "code",
   "execution_count": 3,
   "metadata": {},
   "outputs": [
    {
     "name": "stdout",
     "output_type": "stream",
     "text": [
      "Model Accuracy: 0.6571\n"
     ]
    }
   ],
   "source": [
    "import numpy as np\n",
    "import pandas as pd\n",
    "from sklearn.model_selection import train_test_split\n",
    "from sklearn.multioutput import MultiOutputClassifier\n",
    "from sklearn.ensemble import RandomForestClassifier\n",
    "\n",
    "# Load the CSV file into a DataFrame\n",
    "df = pd.read_csv('multidata_binary172.csv')\n",
    "\n",
    "# Assuming the last columns are the target labels and the rest are features\n",
    "X = df.iloc[:, :-10]  # Replace 'n' with the number of target columns\n",
    "y = df.iloc[:, -8:]  # Replace 'n' with the number of target columns\n",
    "\n",
    "# Split the data into training and testing sets\n",
    "X_train, X_test, y_train, y_test = train_test_split(X, y, test_size=0.2, random_state=42)\n",
    "\n",
    "# Initialize and train the MultiOutputClassifier with RandomForestClassifier\n",
    "clf = MultiOutputClassifier(RandomForestClassifier(random_state=42)).fit(X_train, y_train)\n",
    "\n",
    "# Evaluate the model on the test set\n",
    "score = clf.score(X_test, y_test)\n",
    "\n",
    "print(f\"Model Accuracy: {score:.4f}\")"
   ]
  },
  {
   "cell_type": "markdown",
   "metadata": {},
   "source": [
    "### Xgboost"
   ]
  },
  {
   "cell_type": "code",
   "execution_count": 20,
   "metadata": {},
   "outputs": [
    {
     "name": "stdout",
     "output_type": "stream",
     "text": [
      "Model Accuracy: 0.5714\n"
     ]
    }
   ],
   "source": [
    "import numpy as np\n",
    "import pandas as pd\n",
    "from sklearn.model_selection import train_test_split\n",
    "from sklearn.multioutput import MultiOutputClassifier\n",
    "import xgboost as xgb\n",
    "\n",
    "# Load the CSV file into a DataFrame\n",
    "df = pd.read_csv('multidata_binary172.csv')\n",
    "\n",
    "# Assuming the last columns are the target labels and the rest are features\n",
    "X = df.iloc[:, :-10]  # Replace 'n' with the number of target columns\n",
    "y = df.iloc[:, -8:]  # Replace 'n' with the number of target columns\n",
    "\n",
    "# Split the data into training and testing sets\n",
    "X_train, X_test, y_train, y_test = train_test_split(X, y, test_size=0.2, random_state=42)\n",
    "\n",
    "# Initialize and train the MultiOutputClassifier with XGBoost\n",
    "clf = MultiOutputClassifier(xgb.XGBClassifier()).fit(X_train, y_train)\n",
    "\n",
    "# Evaluate the model on the test set\n",
    "score = clf.score(X_test, y_test)\n",
    "\n",
    "print(f\"Model Accuracy: {score:.4f}\")"
   ]
  },
  {
   "cell_type": "markdown",
   "metadata": {},
   "source": [
    "### Gradientboost"
   ]
  },
  {
   "cell_type": "code",
   "execution_count": 25,
   "metadata": {},
   "outputs": [
    {
     "name": "stdout",
     "output_type": "stream",
     "text": [
      "Model Accuracy: 0.5714\n"
     ]
    }
   ],
   "source": [
    "import numpy as np\n",
    "import pandas as pd\n",
    "from sklearn.model_selection import train_test_split\n",
    "from sklearn.multioutput import MultiOutputClassifier\n",
    "from sklearn.ensemble import GradientBoostingClassifier\n",
    "\n",
    "# Load the CSV file into a DataFrame\n",
    "df = pd.read_csv('multidata_binary172.csv')\n",
    "\n",
    "# Assuming the last columns are the target labels and the rest are features\n",
    "X = df.iloc[:, :-10]  # Replace 'n' with the number of target columns\n",
    "y = df.iloc[:, -8:]  # Replace 'n' with the number of target columns\n",
    "\n",
    "# Split the data into training and testing sets\n",
    "X_train, X_test, y_train, y_test = train_test_split(X, y, test_size=0.2, random_state=42)\n",
    "\n",
    "# Initialize and train the MultiOutputClassifier with GradientBoostingClassifier\n",
    "clf = MultiOutputClassifier(GradientBoostingClassifier()).fit(X_train, y_train)\n",
    "\n",
    "# Evaluate the model on the test set\n",
    "score = clf.score(X_test, y_test)\n",
    "\n",
    "print(f\"Model Accuracy: {score:.4f}\")\n"
   ]
  },
  {
   "cell_type": "markdown",
   "metadata": {},
   "source": [
    "### DecisionTree"
   ]
  },
  {
   "cell_type": "code",
   "execution_count": 30,
   "metadata": {},
   "outputs": [
    {
     "name": "stdout",
     "output_type": "stream",
     "text": [
      "Model Accuracy: 0.3714\n"
     ]
    }
   ],
   "source": [
    "import numpy as np\n",
    "import pandas as pd\n",
    "from sklearn.model_selection import train_test_split\n",
    "from sklearn.multioutput import MultiOutputClassifier\n",
    "from sklearn.tree import DecisionTreeClassifier\n",
    "\n",
    "# Load the CSV file into a DataFrame\n",
    "df = pd.read_csv('multidata_binary172.csv')\n",
    "\n",
    "# Assuming the last columns are the target labels and the rest are features\n",
    "X = df.iloc[:, :-10]  # Replace 'n' with the number of target columns\n",
    "y = df.iloc[:, -8:]  # Replace 'n' with the number of target columns\n",
    "\n",
    "# Split the data into training and testing sets\n",
    "X_train, X_test, y_train, y_test = train_test_split(X, y, test_size=0.2, random_state=42)\n",
    "\n",
    "# Initialize and train the MultiOutputClassifier with DecisionTreeClassifier\n",
    "clf = MultiOutputClassifier(DecisionTreeClassifier()).fit(X_train, y_train)\n",
    "\n",
    "# Evaluate the model on the test set\n",
    "score = clf.score(X_test, y_test)\n",
    "\n",
    "print(f\"Model Accuracy: {score:.4f}\")\n"
   ]
  }
 ],
 "metadata": {
  "kernelspec": {
   "display_name": "Python 3 (ipykernel)",
   "language": "python",
   "name": "python3"
  },
  "language_info": {
   "codemirror_mode": {
    "name": "ipython",
    "version": 3
   },
   "file_extension": ".py",
   "mimetype": "text/x-python",
   "name": "python",
   "nbconvert_exporter": "python",
   "pygments_lexer": "ipython3",
   "version": "3.12.4"
  }
 },
 "nbformat": 4,
 "nbformat_minor": 4
}
