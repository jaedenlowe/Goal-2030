{
 "cells": [
  {
   "cell_type": "code",
   "execution_count": 6,
   "id": "fffef016-9936-4836-a973-8a96588c0a24",
   "metadata": {},
   "outputs": [
    {
     "name": "stdout",
     "output_type": "stream",
     "text": [
      "                  target  accuracy\n",
      "0  Ball Playing Defender  0.857143\n",
      "1  Box to Box Midfielder  0.885714\n",
      "2           Goal Poacher  0.828571\n",
      "3     Midfield Playmaker  0.885714\n",
      "4   No Nonsense Defender  0.914286\n"
     ]
    }
   ],
   "source": [
    "import pandas as pd\n",
    "import os\n",
    "\n",
    "# ... your code ...\n",
    "\n",
    "# Save the results to a PKL file\n",
    "results_df.to_pickle('model_results.pkl')\n",
    "\n",
    "# Check if the file exists before loading\n",
    "file_path = 'model_results.pkl'\n",
    "if os.path.exists(file_path):\n",
    "    try:\n",
    "        results_df = pd.read_pickle(file_path)\n",
    "        print(results_df.head())  # Check if data is loaded correctly\n",
    "    except Exception as e:\n",
    "        print(f\"Error loading PKL file: {e}\")\n",
    "else:\n",
    "    print(f\"File '{file_path}' not found.\")"
   ]
  },
  {
   "cell_type": "code",
   "execution_count": 8,
   "id": "75fe2342-e77f-4fc9-8b47-a2ec55ec16e3",
   "metadata": {},
   "outputs": [],
   "source": [
    "import joblib\n",
    "\n",
    "results_df = joblib.load('model_resultsjoblib.pkl')"
   ]
  }
 ],
 "metadata": {
  "kernelspec": {
   "display_name": "Python 3 (ipykernel)",
   "language": "python",
   "name": "python3"
  },
  "language_info": {
   "codemirror_mode": {
    "name": "ipython",
    "version": 3
   },
   "file_extension": ".py",
   "mimetype": "text/x-python",
   "name": "python",
   "nbconvert_exporter": "python",
   "pygments_lexer": "ipython3",
   "version": "3.11.9"
  }
 },
 "nbformat": 4,
 "nbformat_minor": 5
}
