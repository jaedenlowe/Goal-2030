{
 "cells": [
  {
   "cell_type": "markdown",
   "id": "fea0285e",
   "metadata": {},
   "source": [
    "## Import Libraries"
   ]
  },
  {
   "cell_type": "code",
   "execution_count": 6,
   "id": "d19dde6b",
   "metadata": {},
   "outputs": [],
   "source": [
    "#Import libraries\n",
    "from selenium import webdriver\n",
    "from selenium.webdriver.common.by import By\n",
    "import time\n",
    "from bs4 import BeautifulSoup as bs\n",
    "import pandas as pd\n",
    "import re\n",
    "import requests"
   ]
  },
  {
   "cell_type": "markdown",
   "id": "4d436999",
   "metadata": {},
   "source": [
    "## Find players and their page links"
   ]
  },
  {
   "cell_type": "code",
   "execution_count": 8,
   "id": "12178ce5",
   "metadata": {},
   "outputs": [
    {
     "data": {
      "text/plain": [
       "'\\n# Intialize a list to store player names\\nplayer_names = []\\n\\n# Initialize the WebDriver (Make sure you have the appropriate driver installed, e.g., chromedriver for Chrome)\\ndriver = webdriver.Chrome()\\n\\n# Navigate to the webpage\\ndriver.get(\\'https://www.sofascore.com/team/football/tampines-rovers/3043\\')\\n\\n# Find all div elements with the specified class name using a CSS selector\\ndiv_elements = driver.find_elements(By.CSS_SELECTOR, \"div.Box.Flex.bkAbuN.jLRkRA\")\\n\\n# Print out the number of elements found and their text content\\nprint(f\"Number of divs found: {len(div_elements)}\")\\nfor i in range(len(div_elements)):\\n    if i % 3 == 0:\\n        player_names.append(div_elements[i].text)\\n        print(div.text)\\n\\n# Close the WebDriver\\ndriver.quit()\\n'"
      ]
     },
     "execution_count": 8,
     "metadata": {},
     "output_type": "execute_result"
    }
   ],
   "source": [
    "''' Testing Cell - Disregard '''\n",
    "\n",
    "'''\n",
    "# Intialize a list to store player names\n",
    "player_names = []\n",
    "\n",
    "# Initialize the WebDriver (Make sure you have the appropriate driver installed, e.g., chromedriver for Chrome)\n",
    "driver = webdriver.Chrome()\n",
    "\n",
    "# Navigate to the webpage\n",
    "driver.get('https://www.sofascore.com/team/football/tampines-rovers/3043')\n",
    "\n",
    "# Find all div elements with the specified class name using a CSS selector\n",
    "div_elements = driver.find_elements(By.CSS_SELECTOR, \"div.Box.Flex.bkAbuN.jLRkRA\")\n",
    "\n",
    "# Print out the number of elements found and their text content\n",
    "print(f\"Number of divs found: {len(div_elements)}\")\n",
    "for i in range(len(div_elements)):\n",
    "    if i % 3 == 0:\n",
    "        player_names.append(div_elements[i].text)\n",
    "        print(div.text)\n",
    "\n",
    "# Close the WebDriver\n",
    "driver.quit()\n",
    "'''"
   ]
  },
  {
   "cell_type": "code",
   "execution_count": 9,
   "id": "1e482b4d",
   "metadata": {},
   "outputs": [
    {
     "ename": "NoSuchElementException",
     "evalue": "Message: no such element: Unable to locate element: {\"method\":\"xpath\",\"selector\":\"/html/body/div[1]/main/div[2]/div/div[2]/div[2]/div[4]/div[2]/div/button/div/span\"}\n  (Session info: chrome=127.0.6533.120); For documentation on this error, please visit: https://www.selenium.dev/documentation/webdriver/troubleshooting/errors#no-such-element-exception\nStacktrace:\n\tGetHandleVerifier [0x00007FF76EF29642+30946]\n\t(No symbol) [0x00007FF76EEDE3D9]\n\t(No symbol) [0x00007FF76EDD6FDA]\n\t(No symbol) [0x00007FF76EE2822C]\n\t(No symbol) [0x00007FF76EE2850C]\n\t(No symbol) [0x00007FF76EE6DCB7]\n\t(No symbol) [0x00007FF76EE4CAAF]\n\t(No symbol) [0x00007FF76EE6B041]\n\t(No symbol) [0x00007FF76EE4C813]\n\t(No symbol) [0x00007FF76EE1A6E5]\n\t(No symbol) [0x00007FF76EE1B021]\n\tGetHandleVerifier [0x00007FF76F05F84D+1301229]\n\tGetHandleVerifier [0x00007FF76F06BDC7+1351783]\n\tGetHandleVerifier [0x00007FF76F062A13+1313971]\n\tGetHandleVerifier [0x00007FF76EF5DD16+245686]\n\t(No symbol) [0x00007FF76EEE759F]\n\t(No symbol) [0x00007FF76EEE3814]\n\t(No symbol) [0x00007FF76EEE39A2]\n\t(No symbol) [0x00007FF76EEDA3FF]\n\tBaseThreadInitThunk [0x00007FFC5AB4257D+29]\n\tRtlUserThreadStart [0x00007FFC5CBEAF28+40]\n",
     "output_type": "error",
     "traceback": [
      "\u001b[1;31m---------------------------------------------------------------------------\u001b[0m",
      "\u001b[1;31mNoSuchElementException\u001b[0m                    Traceback (most recent call last)",
      "Cell \u001b[1;32mIn[9], line 11\u001b[0m\n\u001b[0;32m      8\u001b[0m driver\u001b[38;5;241m.\u001b[39mget(\u001b[38;5;124m'\u001b[39m\u001b[38;5;124mhttps://www.sofascore.com/team/football/tampines-rovers/3043\u001b[39m\u001b[38;5;124m'\u001b[39m)\n\u001b[0;32m     10\u001b[0m \u001b[38;5;66;03m# Find the element using XPath and click it\u001b[39;00m\n\u001b[1;32m---> 11\u001b[0m element \u001b[38;5;241m=\u001b[39m driver\u001b[38;5;241m.\u001b[39mfind_element(By\u001b[38;5;241m.\u001b[39mXPATH, \u001b[38;5;124m\"\u001b[39m\u001b[38;5;124m/html/body/div[1]/main/div[2]/div/div[2]/div[2]/div[4]/div[2]/div/button/div/span\u001b[39m\u001b[38;5;124m\"\u001b[39m)\n\u001b[0;32m     12\u001b[0m element\u001b[38;5;241m.\u001b[39mclick()\n\u001b[0;32m     14\u001b[0m \u001b[38;5;66;03m# Find all div elements with the specified class name using a CSS selector\u001b[39;00m\n",
      "File \u001b[1;32m~\\AppData\\Roaming\\Python\\Python312\\site-packages\\selenium\\webdriver\\remote\\webdriver.py:748\u001b[0m, in \u001b[0;36mWebDriver.find_element\u001b[1;34m(self, by, value)\u001b[0m\n\u001b[0;32m    745\u001b[0m     by \u001b[38;5;241m=\u001b[39m By\u001b[38;5;241m.\u001b[39mCSS_SELECTOR\n\u001b[0;32m    746\u001b[0m     value \u001b[38;5;241m=\u001b[39m \u001b[38;5;124mf\u001b[39m\u001b[38;5;124m'\u001b[39m\u001b[38;5;124m[name=\u001b[39m\u001b[38;5;124m\"\u001b[39m\u001b[38;5;132;01m{\u001b[39;00mvalue\u001b[38;5;132;01m}\u001b[39;00m\u001b[38;5;124m\"\u001b[39m\u001b[38;5;124m]\u001b[39m\u001b[38;5;124m'\u001b[39m\n\u001b[1;32m--> 748\u001b[0m \u001b[38;5;28;01mreturn\u001b[39;00m \u001b[38;5;28mself\u001b[39m\u001b[38;5;241m.\u001b[39mexecute(Command\u001b[38;5;241m.\u001b[39mFIND_ELEMENT, {\u001b[38;5;124m\"\u001b[39m\u001b[38;5;124musing\u001b[39m\u001b[38;5;124m\"\u001b[39m: by, \u001b[38;5;124m\"\u001b[39m\u001b[38;5;124mvalue\u001b[39m\u001b[38;5;124m\"\u001b[39m: value})[\u001b[38;5;124m\"\u001b[39m\u001b[38;5;124mvalue\u001b[39m\u001b[38;5;124m\"\u001b[39m]\n",
      "File \u001b[1;32m~\\AppData\\Roaming\\Python\\Python312\\site-packages\\selenium\\webdriver\\remote\\webdriver.py:354\u001b[0m, in \u001b[0;36mWebDriver.execute\u001b[1;34m(self, driver_command, params)\u001b[0m\n\u001b[0;32m    352\u001b[0m response \u001b[38;5;241m=\u001b[39m \u001b[38;5;28mself\u001b[39m\u001b[38;5;241m.\u001b[39mcommand_executor\u001b[38;5;241m.\u001b[39mexecute(driver_command, params)\n\u001b[0;32m    353\u001b[0m \u001b[38;5;28;01mif\u001b[39;00m response:\n\u001b[1;32m--> 354\u001b[0m     \u001b[38;5;28mself\u001b[39m\u001b[38;5;241m.\u001b[39merror_handler\u001b[38;5;241m.\u001b[39mcheck_response(response)\n\u001b[0;32m    355\u001b[0m     response[\u001b[38;5;124m\"\u001b[39m\u001b[38;5;124mvalue\u001b[39m\u001b[38;5;124m\"\u001b[39m] \u001b[38;5;241m=\u001b[39m \u001b[38;5;28mself\u001b[39m\u001b[38;5;241m.\u001b[39m_unwrap_value(response\u001b[38;5;241m.\u001b[39mget(\u001b[38;5;124m\"\u001b[39m\u001b[38;5;124mvalue\u001b[39m\u001b[38;5;124m\"\u001b[39m, \u001b[38;5;28;01mNone\u001b[39;00m))\n\u001b[0;32m    356\u001b[0m     \u001b[38;5;28;01mreturn\u001b[39;00m response\n",
      "File \u001b[1;32m~\\AppData\\Roaming\\Python\\Python312\\site-packages\\selenium\\webdriver\\remote\\errorhandler.py:229\u001b[0m, in \u001b[0;36mErrorHandler.check_response\u001b[1;34m(self, response)\u001b[0m\n\u001b[0;32m    227\u001b[0m         alert_text \u001b[38;5;241m=\u001b[39m value[\u001b[38;5;124m\"\u001b[39m\u001b[38;5;124malert\u001b[39m\u001b[38;5;124m\"\u001b[39m]\u001b[38;5;241m.\u001b[39mget(\u001b[38;5;124m\"\u001b[39m\u001b[38;5;124mtext\u001b[39m\u001b[38;5;124m\"\u001b[39m)\n\u001b[0;32m    228\u001b[0m     \u001b[38;5;28;01mraise\u001b[39;00m exception_class(message, screen, stacktrace, alert_text)  \u001b[38;5;66;03m# type: ignore[call-arg]  # mypy is not smart enough here\u001b[39;00m\n\u001b[1;32m--> 229\u001b[0m \u001b[38;5;28;01mraise\u001b[39;00m exception_class(message, screen, stacktrace)\n",
      "\u001b[1;31mNoSuchElementException\u001b[0m: Message: no such element: Unable to locate element: {\"method\":\"xpath\",\"selector\":\"/html/body/div[1]/main/div[2]/div/div[2]/div[2]/div[4]/div[2]/div/button/div/span\"}\n  (Session info: chrome=127.0.6533.120); For documentation on this error, please visit: https://www.selenium.dev/documentation/webdriver/troubleshooting/errors#no-such-element-exception\nStacktrace:\n\tGetHandleVerifier [0x00007FF76EF29642+30946]\n\t(No symbol) [0x00007FF76EEDE3D9]\n\t(No symbol) [0x00007FF76EDD6FDA]\n\t(No symbol) [0x00007FF76EE2822C]\n\t(No symbol) [0x00007FF76EE2850C]\n\t(No symbol) [0x00007FF76EE6DCB7]\n\t(No symbol) [0x00007FF76EE4CAAF]\n\t(No symbol) [0x00007FF76EE6B041]\n\t(No symbol) [0x00007FF76EE4C813]\n\t(No symbol) [0x00007FF76EE1A6E5]\n\t(No symbol) [0x00007FF76EE1B021]\n\tGetHandleVerifier [0x00007FF76F05F84D+1301229]\n\tGetHandleVerifier [0x00007FF76F06BDC7+1351783]\n\tGetHandleVerifier [0x00007FF76F062A13+1313971]\n\tGetHandleVerifier [0x00007FF76EF5DD16+245686]\n\t(No symbol) [0x00007FF76EEE759F]\n\t(No symbol) [0x00007FF76EEE3814]\n\t(No symbol) [0x00007FF76EEE39A2]\n\t(No symbol) [0x00007FF76EEDA3FF]\n\tBaseThreadInitThunk [0x00007FFC5AB4257D+29]\n\tRtlUserThreadStart [0x00007FFC5CBEAF28+40]\n"
     ]
    }
   ],
   "source": [
    "from selenium import webdriver\n",
    "from selenium.webdriver.common.by import By\n",
    "\n",
    "# Initialize the WebDriver (Make sure you have the appropriate driver installed, e.g., chromedriver for Chrome)\n",
    "driver = webdriver.Chrome()\n",
    "\n",
    "# Navigate to the webpage\n",
    "driver.get('https://www.sofascore.com/team/football/tampines-rovers/3043')\n",
    "\n",
    "# Find the element using XPath and click it\n",
    "element = driver.find_element(By.XPATH, \"/html/body/div[1]/main/div[2]/div/div[2]/div[2]/div[4]/div[2]/div/button/div/span\")\n",
    "element.click()\n",
    "\n",
    "# Find all div elements with the specified class name using a CSS selector\n",
    "div_elements = driver.find_elements(By.CSS_SELECTOR, \"div.Box.idbnlH\")\n",
    "\n",
    "# Create a list to store all the player page urls\n",
    "player_urls = []\n",
    "\n",
    "# Loop through each div element and find all a elements within it\n",
    "for div in div_elements:\n",
    "    # Find all <a> elements within the current <div>\n",
    "    link_elements = div.find_elements(By.CSS_SELECTOR, \"a\")\n",
    "    \n",
    "    # Loop through each <a> element and print its href attribute\n",
    "    for link in link_elements:\n",
    "        href = link.get_attribute('href')\n",
    "        player_urls.append(href)\n",
    "        print(href)\n",
    "\n",
    "# Close the WebDriver\n",
    "driver.quit()"
   ]
  },
  {
   "cell_type": "markdown",
   "id": "39542239",
   "metadata": {},
   "source": [
    "## ii) Retrieve player attributes from Player Page"
   ]
  },
  {
   "cell_type": "code",
   "execution_count": null,
   "id": "1007ecfd",
   "metadata": {},
   "outputs": [],
   "source": [
    "# Initialize the WebDriver (Make sure you have the appropriate driver installed, e.g., chromedriver for Chrome)\n",
    "driver = webdriver.Chrome()\n",
    "\n",
    "# Instantiate a list to store the stats of each player\n",
    "players_list = []\n",
    "\n",
    "# REMOVE THE [0:2] FROM THE NEXT LINE SO THAT IT EXTRACTS INFO FOR ALL PLAYERS!!!!\n",
    "for player_url in player_urls:\n",
    "    \n",
    "    # Navigate to the webpage\n",
    "    driver.get(player_url)\n",
    "    \n",
    "    # Find all div elements with the specified class name using a CSS selector\n",
    "    div_elements = driver.find_elements(By.CSS_SELECTOR, \"div.Box.Flex.dlyXLO.bnpRyo\")\n",
    "\n",
    "    player_list = []\n",
    "    \n",
    "    # Print out the elements' text content\n",
    "    for div in div_elements:\n",
    "        player_list.append(div.text.split(\"\\n\")[0])\n",
    "        player_list.append(div.text.split(\"\\n\")[1])\n",
    "    \n",
    "    # Initialize an empty dictionary\n",
    "    player_dict = {}\n",
    "\n",
    "    # Extract the string between the last two backslashes\n",
    "    last_part = player_url.rstrip('/').split('/')[-2]\n",
    "\n",
    "    # Remove any hyphens from the extracted string\n",
    "    last_part_cleaned = last_part.replace('-', ' ')\n",
    "\n",
    "    # Store player name\n",
    "    player_dict[\"Player Name\"] = last_part_cleaned\n",
    "\n",
    "    # Loop through the list with index\n",
    "    for i in range(0, len(player_list), 2):\n",
    "        # Assign even-indexed value as key and odd-indexed value as value\n",
    "        player_dict[player_list[i]] = player_list[i + 1]\n",
    "\n",
    "    # Print the resulting dictionary\n",
    "    players_list.append(player_dict)\n",
    "    \n",
    "driver.quit()\n",
    "\n",
    "# Create and display data frame of players\n",
    "players_df = pd.DataFrame(players_list)\n",
    "players_df"
   ]
  },
  {
   "cell_type": "markdown",
   "id": "5ec51f3f",
   "metadata": {},
   "source": [
    "## iii) Export data to csv"
   ]
  },
  {
   "cell_type": "code",
   "execution_count": null,
   "id": "95d65f13",
   "metadata": {},
   "outputs": [],
   "source": [
    "# Export extracted data to csv file\n",
    "players_df.to_csv('data.csv', index=False)"
   ]
  }
 ],
 "metadata": {
  "kernelspec": {
   "display_name": "Python 3 (ipykernel)",
   "language": "python",
   "name": "python3"
  },
  "language_info": {
   "codemirror_mode": {
    "name": "ipython",
    "version": 3
   },
   "file_extension": ".py",
   "mimetype": "text/x-python",
   "name": "python",
   "nbconvert_exporter": "python",
   "pygments_lexer": "ipython3",
   "version": "3.12.4"
  }
 },
 "nbformat": 4,
 "nbformat_minor": 5
}
