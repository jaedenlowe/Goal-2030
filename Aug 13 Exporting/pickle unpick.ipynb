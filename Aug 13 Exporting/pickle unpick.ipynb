{
 "cells": [
  {
   "cell_type": "code",
   "execution_count": 18,
   "id": "6d8f89f0-33f3-4c5a-b50d-672b8479dd67",
   "metadata": {},
   "outputs": [
    {
     "name": "stdout",
     "output_type": "stream",
     "text": [
      "Pipeline(memory=Memory(location=None),\n",
      "         steps=[('numerical_imputer',\n",
      "                 TransformerWrapper(include=['x1_one_on_one', 'x2_goals',\n",
      "                                             'x3_passing_accuracy', 'x4_vision',\n",
      "                                             'x5_tackles', 'x6_strength',\n",
      "                                             'x7_speed', 'x8_aerial_duels'],\n",
      "                                    transformer=SimpleImputer())),\n",
      "                ('categorical_imputer',\n",
      "                 TransformerWrapper(include=[],\n",
      "                                    transformer=SimpleImputer(strategy='most_frequent'))),\n",
      "                ('clean_column_names',\n",
      "                 TransformerWrapper(transformer=CleanColumnNames())),\n",
      "                ('trained_model',\n",
      "                 LogisticRegression(max_iter=1000, random_state=6199))])\n"
     ]
    }
   ],
   "source": [
    "import joblib\n",
    "\n",
    "# Load the saved results\n",
    "loaded_results = joblib.load('bestmodel.pkl')\n",
    "\n",
    "# Print the loaded data\n",
    "print(loaded_results)"
   ]
  }
 ],
 "metadata": {
  "kernelspec": {
   "display_name": "Python 3 (ipykernel)",
   "language": "python",
   "name": "python3"
  },
  "language_info": {
   "codemirror_mode": {
    "name": "ipython",
    "version": 3
   },
   "file_extension": ".py",
   "mimetype": "text/x-python",
   "name": "python",
   "nbconvert_exporter": "python",
   "pygments_lexer": "ipython3",
   "version": "3.11.7"
  }
 },
 "nbformat": 4,
 "nbformat_minor": 5
}
