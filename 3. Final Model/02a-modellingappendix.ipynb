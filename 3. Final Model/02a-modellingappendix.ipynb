{
 "cells": [
  {
   "cell_type": "markdown",
   "metadata": {},
   "source": [
    "# Modelling Appendix"
   ]
  },
  {
   "cell_type": "markdown",
   "metadata": {},
   "source": [
    "To get the individual breakdown of all models' performance on each role, we run the code with y as a single column rather than as a whole in 02-modelling. This allows us to store all the results for each role as an individual dataframe."
   ]
  },
  {
   "cell_type": "markdown",
   "metadata": {},
   "source": [
    "### Contents\n",
    "\n",
    "- [Traditional Keeper](#Traditional-Keeper)\n",
    "- [Sweeper Keeper](#Sweeper-Keeper)\n",
    "- [Ball-Playing Defender](#Ball-Playing-Defender)\n",
    "- [No-Nonsense Defender](#No-Nonsense-Defender)\n",
    "- [Full-Back](#Full-Back)\n",
    "- [All-Action Midfielder](#All-Action-Midfielder)\n",
    "- [Midfield Playmaker](#Midfield-Playmaker)\n",
    "- [Traditional Winger](#Traditional-Winger)\n",
    "- [Inverted Winger](#Inverted-Winger)\n",
    "- [Goal Poacher](#Goal-Poacher)\n",
    "- [Target Man](#Target-Man)"
   ]
  },
  {
   "cell_type": "markdown",
   "metadata": {},
   "source": [
    "## Traditional Keeper"
   ]
  },
  {
   "cell_type": "code",
   "execution_count": 14,
   "metadata": {},
   "outputs": [
    {
     "data": {
      "text/html": [
       "<style type=\"text/css\">\n",
       "#T_91135_row8_col1 {\n",
       "  background-color: lightgreen;\n",
       "}\n",
       "</style>\n",
       "<table id=\"T_91135\">\n",
       "  <thead>\n",
       "    <tr>\n",
       "      <th class=\"blank level0\" >&nbsp;</th>\n",
       "      <th id=\"T_91135_level0_col0\" class=\"col_heading level0 col0\" >Description</th>\n",
       "      <th id=\"T_91135_level0_col1\" class=\"col_heading level0 col1\" >Value</th>\n",
       "    </tr>\n",
       "  </thead>\n",
       "  <tbody>\n",
       "    <tr>\n",
       "      <th id=\"T_91135_level0_row0\" class=\"row_heading level0 row0\" >0</th>\n",
       "      <td id=\"T_91135_row0_col0\" class=\"data row0 col0\" >Session id</td>\n",
       "      <td id=\"T_91135_row0_col1\" class=\"data row0 col1\" >42</td>\n",
       "    </tr>\n",
       "    <tr>\n",
       "      <th id=\"T_91135_level0_row1\" class=\"row_heading level0 row1\" >1</th>\n",
       "      <td id=\"T_91135_row1_col0\" class=\"data row1 col0\" >Target</td>\n",
       "      <td id=\"T_91135_row1_col1\" class=\"data row1 col1\" >Class_Traditional Keeper</td>\n",
       "    </tr>\n",
       "    <tr>\n",
       "      <th id=\"T_91135_level0_row2\" class=\"row_heading level0 row2\" >2</th>\n",
       "      <td id=\"T_91135_row2_col0\" class=\"data row2 col0\" >Target type</td>\n",
       "      <td id=\"T_91135_row2_col1\" class=\"data row2 col1\" >Binary</td>\n",
       "    </tr>\n",
       "    <tr>\n",
       "      <th id=\"T_91135_level0_row3\" class=\"row_heading level0 row3\" >3</th>\n",
       "      <td id=\"T_91135_row3_col0\" class=\"data row3 col0\" >Original data shape</td>\n",
       "      <td id=\"T_91135_row3_col1\" class=\"data row3 col1\" >(91, 15)</td>\n",
       "    </tr>\n",
       "    <tr>\n",
       "      <th id=\"T_91135_level0_row4\" class=\"row_heading level0 row4\" >4</th>\n",
       "      <td id=\"T_91135_row4_col0\" class=\"data row4 col0\" >Transformed data shape</td>\n",
       "      <td id=\"T_91135_row4_col1\" class=\"data row4 col1\" >(91, 15)</td>\n",
       "    </tr>\n",
       "    <tr>\n",
       "      <th id=\"T_91135_level0_row5\" class=\"row_heading level0 row5\" >5</th>\n",
       "      <td id=\"T_91135_row5_col0\" class=\"data row5 col0\" >Transformed train set shape</td>\n",
       "      <td id=\"T_91135_row5_col1\" class=\"data row5 col1\" >(63, 15)</td>\n",
       "    </tr>\n",
       "    <tr>\n",
       "      <th id=\"T_91135_level0_row6\" class=\"row_heading level0 row6\" >6</th>\n",
       "      <td id=\"T_91135_row6_col0\" class=\"data row6 col0\" >Transformed test set shape</td>\n",
       "      <td id=\"T_91135_row6_col1\" class=\"data row6 col1\" >(28, 15)</td>\n",
       "    </tr>\n",
       "    <tr>\n",
       "      <th id=\"T_91135_level0_row7\" class=\"row_heading level0 row7\" >7</th>\n",
       "      <td id=\"T_91135_row7_col0\" class=\"data row7 col0\" >Numeric features</td>\n",
       "      <td id=\"T_91135_row7_col1\" class=\"data row7 col1\" >14</td>\n",
       "    </tr>\n",
       "    <tr>\n",
       "      <th id=\"T_91135_level0_row8\" class=\"row_heading level0 row8\" >8</th>\n",
       "      <td id=\"T_91135_row8_col0\" class=\"data row8 col0\" >Preprocess</td>\n",
       "      <td id=\"T_91135_row8_col1\" class=\"data row8 col1\" >True</td>\n",
       "    </tr>\n",
       "    <tr>\n",
       "      <th id=\"T_91135_level0_row9\" class=\"row_heading level0 row9\" >9</th>\n",
       "      <td id=\"T_91135_row9_col0\" class=\"data row9 col0\" >Imputation type</td>\n",
       "      <td id=\"T_91135_row9_col1\" class=\"data row9 col1\" >simple</td>\n",
       "    </tr>\n",
       "    <tr>\n",
       "      <th id=\"T_91135_level0_row10\" class=\"row_heading level0 row10\" >10</th>\n",
       "      <td id=\"T_91135_row10_col0\" class=\"data row10 col0\" >Numeric imputation</td>\n",
       "      <td id=\"T_91135_row10_col1\" class=\"data row10 col1\" >mean</td>\n",
       "    </tr>\n",
       "    <tr>\n",
       "      <th id=\"T_91135_level0_row11\" class=\"row_heading level0 row11\" >11</th>\n",
       "      <td id=\"T_91135_row11_col0\" class=\"data row11 col0\" >Categorical imputation</td>\n",
       "      <td id=\"T_91135_row11_col1\" class=\"data row11 col1\" >mode</td>\n",
       "    </tr>\n",
       "    <tr>\n",
       "      <th id=\"T_91135_level0_row12\" class=\"row_heading level0 row12\" >12</th>\n",
       "      <td id=\"T_91135_row12_col0\" class=\"data row12 col0\" >Fold Generator</td>\n",
       "      <td id=\"T_91135_row12_col1\" class=\"data row12 col1\" >StratifiedKFold</td>\n",
       "    </tr>\n",
       "    <tr>\n",
       "      <th id=\"T_91135_level0_row13\" class=\"row_heading level0 row13\" >13</th>\n",
       "      <td id=\"T_91135_row13_col0\" class=\"data row13 col0\" >Fold Number</td>\n",
       "      <td id=\"T_91135_row13_col1\" class=\"data row13 col1\" >10</td>\n",
       "    </tr>\n",
       "    <tr>\n",
       "      <th id=\"T_91135_level0_row14\" class=\"row_heading level0 row14\" >14</th>\n",
       "      <td id=\"T_91135_row14_col0\" class=\"data row14 col0\" >CPU Jobs</td>\n",
       "      <td id=\"T_91135_row14_col1\" class=\"data row14 col1\" >-1</td>\n",
       "    </tr>\n",
       "    <tr>\n",
       "      <th id=\"T_91135_level0_row15\" class=\"row_heading level0 row15\" >15</th>\n",
       "      <td id=\"T_91135_row15_col0\" class=\"data row15 col0\" >Use GPU</td>\n",
       "      <td id=\"T_91135_row15_col1\" class=\"data row15 col1\" >False</td>\n",
       "    </tr>\n",
       "    <tr>\n",
       "      <th id=\"T_91135_level0_row16\" class=\"row_heading level0 row16\" >16</th>\n",
       "      <td id=\"T_91135_row16_col0\" class=\"data row16 col0\" >Log Experiment</td>\n",
       "      <td id=\"T_91135_row16_col1\" class=\"data row16 col1\" >False</td>\n",
       "    </tr>\n",
       "    <tr>\n",
       "      <th id=\"T_91135_level0_row17\" class=\"row_heading level0 row17\" >17</th>\n",
       "      <td id=\"T_91135_row17_col0\" class=\"data row17 col0\" >Experiment Name</td>\n",
       "      <td id=\"T_91135_row17_col1\" class=\"data row17 col1\" >clf-default-name</td>\n",
       "    </tr>\n",
       "    <tr>\n",
       "      <th id=\"T_91135_level0_row18\" class=\"row_heading level0 row18\" >18</th>\n",
       "      <td id=\"T_91135_row18_col0\" class=\"data row18 col0\" >USI</td>\n",
       "      <td id=\"T_91135_row18_col1\" class=\"data row18 col1\" >6374</td>\n",
       "    </tr>\n",
       "  </tbody>\n",
       "</table>\n"
      ],
      "text/plain": [
       "<pandas.io.formats.style.Styler at 0x27fe548c8d0>"
      ]
     },
     "metadata": {},
     "output_type": "display_data"
    },
    {
     "data": {
      "text/html": [],
      "text/plain": [
       "<IPython.core.display.HTML object>"
      ]
     },
     "metadata": {},
     "output_type": "display_data"
    },
    {
     "data": {
      "text/html": [
       "<style type=\"text/css\">\n",
       "#T_c164e th {\n",
       "  text-align: left;\n",
       "}\n",
       "#T_c164e_row0_col0, #T_c164e_row0_col6, #T_c164e_row1_col0, #T_c164e_row1_col2, #T_c164e_row1_col6, #T_c164e_row2_col0, #T_c164e_row2_col2, #T_c164e_row2_col6, #T_c164e_row3_col0, #T_c164e_row3_col3, #T_c164e_row3_col4, #T_c164e_row3_col5, #T_c164e_row3_col6, #T_c164e_row3_col7, #T_c164e_row4_col0, #T_c164e_row4_col2, #T_c164e_row4_col6, #T_c164e_row5_col0, #T_c164e_row5_col1, #T_c164e_row5_col2, #T_c164e_row5_col3, #T_c164e_row5_col4, #T_c164e_row5_col5, #T_c164e_row5_col6, #T_c164e_row5_col7, #T_c164e_row6_col0, #T_c164e_row6_col1, #T_c164e_row6_col2, #T_c164e_row6_col3, #T_c164e_row6_col4, #T_c164e_row6_col5, #T_c164e_row6_col6, #T_c164e_row6_col7, #T_c164e_row7_col0, #T_c164e_row7_col1, #T_c164e_row7_col3, #T_c164e_row7_col4, #T_c164e_row7_col5, #T_c164e_row7_col6, #T_c164e_row7_col7, #T_c164e_row8_col0, #T_c164e_row8_col1, #T_c164e_row8_col3, #T_c164e_row8_col4, #T_c164e_row8_col5, #T_c164e_row8_col6, #T_c164e_row8_col7, #T_c164e_row9_col0, #T_c164e_row9_col1, #T_c164e_row9_col2, #T_c164e_row9_col3, #T_c164e_row9_col4, #T_c164e_row9_col5, #T_c164e_row9_col6, #T_c164e_row9_col7, #T_c164e_row10_col0, #T_c164e_row10_col1, #T_c164e_row10_col2, #T_c164e_row10_col4, #T_c164e_row10_col5, #T_c164e_row10_col6, #T_c164e_row10_col7, #T_c164e_row11_col0, #T_c164e_row11_col1, #T_c164e_row11_col3, #T_c164e_row11_col4, #T_c164e_row11_col5, #T_c164e_row11_col6, #T_c164e_row11_col7, #T_c164e_row12_col0, #T_c164e_row12_col1, #T_c164e_row12_col2, #T_c164e_row12_col3, #T_c164e_row12_col4, #T_c164e_row12_col5, #T_c164e_row12_col6, #T_c164e_row12_col7, #T_c164e_row13_col0, #T_c164e_row13_col1, #T_c164e_row13_col2, #T_c164e_row13_col3, #T_c164e_row13_col4, #T_c164e_row13_col5, #T_c164e_row13_col6, #T_c164e_row13_col7, #T_c164e_row14_col0, #T_c164e_row14_col1, #T_c164e_row14_col2, #T_c164e_row14_col3, #T_c164e_row14_col4, #T_c164e_row14_col5, #T_c164e_row14_col6, #T_c164e_row14_col7 {\n",
       "  text-align: left;\n",
       "}\n",
       "#T_c164e_row0_col1, #T_c164e_row0_col2, #T_c164e_row0_col3, #T_c164e_row0_col4, #T_c164e_row0_col5, #T_c164e_row0_col7, #T_c164e_row1_col1, #T_c164e_row1_col3, #T_c164e_row1_col4, #T_c164e_row1_col5, #T_c164e_row1_col7, #T_c164e_row2_col1, #T_c164e_row2_col3, #T_c164e_row2_col4, #T_c164e_row2_col5, #T_c164e_row2_col7, #T_c164e_row3_col1, #T_c164e_row3_col2, #T_c164e_row4_col1, #T_c164e_row4_col3, #T_c164e_row4_col4, #T_c164e_row4_col5, #T_c164e_row4_col7, #T_c164e_row7_col2, #T_c164e_row8_col2, #T_c164e_row10_col3, #T_c164e_row11_col2 {\n",
       "  text-align: left;\n",
       "  background-color: yellow;\n",
       "}\n",
       "#T_c164e_row0_col8, #T_c164e_row1_col8, #T_c164e_row2_col8, #T_c164e_row3_col8, #T_c164e_row4_col8, #T_c164e_row5_col8, #T_c164e_row6_col8, #T_c164e_row7_col8, #T_c164e_row8_col8, #T_c164e_row9_col8, #T_c164e_row10_col8, #T_c164e_row11_col8, #T_c164e_row12_col8, #T_c164e_row13_col8 {\n",
       "  text-align: left;\n",
       "  background-color: lightgrey;\n",
       "}\n",
       "#T_c164e_row14_col8 {\n",
       "  text-align: left;\n",
       "  background-color: yellow;\n",
       "  background-color: lightgrey;\n",
       "}\n",
       "</style>\n",
       "<table id=\"T_c164e\">\n",
       "  <thead>\n",
       "    <tr>\n",
       "      <th class=\"blank level0\" >&nbsp;</th>\n",
       "      <th id=\"T_c164e_level0_col0\" class=\"col_heading level0 col0\" >Model</th>\n",
       "      <th id=\"T_c164e_level0_col1\" class=\"col_heading level0 col1\" >Accuracy</th>\n",
       "      <th id=\"T_c164e_level0_col2\" class=\"col_heading level0 col2\" >AUC</th>\n",
       "      <th id=\"T_c164e_level0_col3\" class=\"col_heading level0 col3\" >Recall</th>\n",
       "      <th id=\"T_c164e_level0_col4\" class=\"col_heading level0 col4\" >Prec.</th>\n",
       "      <th id=\"T_c164e_level0_col5\" class=\"col_heading level0 col5\" >F1</th>\n",
       "      <th id=\"T_c164e_level0_col6\" class=\"col_heading level0 col6\" >Kappa</th>\n",
       "      <th id=\"T_c164e_level0_col7\" class=\"col_heading level0 col7\" >MCC</th>\n",
       "      <th id=\"T_c164e_level0_col8\" class=\"col_heading level0 col8\" >TT (Sec)</th>\n",
       "    </tr>\n",
       "  </thead>\n",
       "  <tbody>\n",
       "    <tr>\n",
       "      <th id=\"T_c164e_level0_row0\" class=\"row_heading level0 row0\" >knn</th>\n",
       "      <td id=\"T_c164e_row0_col0\" class=\"data row0 col0\" >K Neighbors Classifier</td>\n",
       "      <td id=\"T_c164e_row0_col1\" class=\"data row0 col1\" >0.9833</td>\n",
       "      <td id=\"T_c164e_row0_col2\" class=\"data row0 col2\" >0.9000</td>\n",
       "      <td id=\"T_c164e_row0_col3\" class=\"data row0 col3\" >0.9000</td>\n",
       "      <td id=\"T_c164e_row0_col4\" class=\"data row0 col4\" >0.8500</td>\n",
       "      <td id=\"T_c164e_row0_col5\" class=\"data row0 col5\" >0.8667</td>\n",
       "      <td id=\"T_c164e_row0_col6\" class=\"data row0 col6\" >nan</td>\n",
       "      <td id=\"T_c164e_row0_col7\" class=\"data row0 col7\" >0.8632</td>\n",
       "      <td id=\"T_c164e_row0_col8\" class=\"data row0 col8\" >0.0220</td>\n",
       "    </tr>\n",
       "    <tr>\n",
       "      <th id=\"T_c164e_level0_row1\" class=\"row_heading level0 row1\" >dt</th>\n",
       "      <td id=\"T_c164e_row1_col0\" class=\"data row1 col0\" >Decision Tree Classifier</td>\n",
       "      <td id=\"T_c164e_row1_col1\" class=\"data row1 col1\" >0.9833</td>\n",
       "      <td id=\"T_c164e_row1_col2\" class=\"data row1 col2\" >0.8900</td>\n",
       "      <td id=\"T_c164e_row1_col3\" class=\"data row1 col3\" >0.9000</td>\n",
       "      <td id=\"T_c164e_row1_col4\" class=\"data row1 col4\" >0.8500</td>\n",
       "      <td id=\"T_c164e_row1_col5\" class=\"data row1 col5\" >0.8667</td>\n",
       "      <td id=\"T_c164e_row1_col6\" class=\"data row1 col6\" >nan</td>\n",
       "      <td id=\"T_c164e_row1_col7\" class=\"data row1 col7\" >0.8632</td>\n",
       "      <td id=\"T_c164e_row1_col8\" class=\"data row1 col8\" >0.0140</td>\n",
       "    </tr>\n",
       "    <tr>\n",
       "      <th id=\"T_c164e_level0_row2\" class=\"row_heading level0 row2\" >ridge</th>\n",
       "      <td id=\"T_c164e_row2_col0\" class=\"data row2 col0\" >Ridge Classifier</td>\n",
       "      <td id=\"T_c164e_row2_col1\" class=\"data row2 col1\" >0.9833</td>\n",
       "      <td id=\"T_c164e_row2_col2\" class=\"data row2 col2\" >0.8800</td>\n",
       "      <td id=\"T_c164e_row2_col3\" class=\"data row2 col3\" >0.9000</td>\n",
       "      <td id=\"T_c164e_row2_col4\" class=\"data row2 col4\" >0.8500</td>\n",
       "      <td id=\"T_c164e_row2_col5\" class=\"data row2 col5\" >0.8667</td>\n",
       "      <td id=\"T_c164e_row2_col6\" class=\"data row2 col6\" >nan</td>\n",
       "      <td id=\"T_c164e_row2_col7\" class=\"data row2 col7\" >0.8632</td>\n",
       "      <td id=\"T_c164e_row2_col8\" class=\"data row2 col8\" >0.0160</td>\n",
       "    </tr>\n",
       "    <tr>\n",
       "      <th id=\"T_c164e_level0_row3\" class=\"row_heading level0 row3\" >rf</th>\n",
       "      <td id=\"T_c164e_row3_col0\" class=\"data row3 col0\" >Random Forest Classifier</td>\n",
       "      <td id=\"T_c164e_row3_col1\" class=\"data row3 col1\" >0.9833</td>\n",
       "      <td id=\"T_c164e_row3_col2\" class=\"data row3 col2\" >0.9000</td>\n",
       "      <td id=\"T_c164e_row3_col3\" class=\"data row3 col3\" >0.8000</td>\n",
       "      <td id=\"T_c164e_row3_col4\" class=\"data row3 col4\" >0.8000</td>\n",
       "      <td id=\"T_c164e_row3_col5\" class=\"data row3 col5\" >0.8000</td>\n",
       "      <td id=\"T_c164e_row3_col6\" class=\"data row3 col6\" >nan</td>\n",
       "      <td id=\"T_c164e_row3_col7\" class=\"data row3 col7\" >0.8000</td>\n",
       "      <td id=\"T_c164e_row3_col8\" class=\"data row3 col8\" >0.0950</td>\n",
       "    </tr>\n",
       "    <tr>\n",
       "      <th id=\"T_c164e_level0_row4\" class=\"row_heading level0 row4\" >lda</th>\n",
       "      <td id=\"T_c164e_row4_col0\" class=\"data row4 col0\" >Linear Discriminant Analysis</td>\n",
       "      <td id=\"T_c164e_row4_col1\" class=\"data row4 col1\" >0.9833</td>\n",
       "      <td id=\"T_c164e_row4_col2\" class=\"data row4 col2\" >0.8800</td>\n",
       "      <td id=\"T_c164e_row4_col3\" class=\"data row4 col3\" >0.9000</td>\n",
       "      <td id=\"T_c164e_row4_col4\" class=\"data row4 col4\" >0.8500</td>\n",
       "      <td id=\"T_c164e_row4_col5\" class=\"data row4 col5\" >0.8667</td>\n",
       "      <td id=\"T_c164e_row4_col6\" class=\"data row4 col6\" >nan</td>\n",
       "      <td id=\"T_c164e_row4_col7\" class=\"data row4 col7\" >0.8632</td>\n",
       "      <td id=\"T_c164e_row4_col8\" class=\"data row4 col8\" >0.0150</td>\n",
       "    </tr>\n",
       "    <tr>\n",
       "      <th id=\"T_c164e_level0_row5\" class=\"row_heading level0 row5\" >ada</th>\n",
       "      <td id=\"T_c164e_row5_col0\" class=\"data row5 col0\" >Ada Boost Classifier</td>\n",
       "      <td id=\"T_c164e_row5_col1\" class=\"data row5 col1\" >0.9667</td>\n",
       "      <td id=\"T_c164e_row5_col2\" class=\"data row5 col2\" >0.8900</td>\n",
       "      <td id=\"T_c164e_row5_col3\" class=\"data row5 col3\" >0.8000</td>\n",
       "      <td id=\"T_c164e_row5_col4\" class=\"data row5 col4\" >0.7500</td>\n",
       "      <td id=\"T_c164e_row5_col5\" class=\"data row5 col5\" >0.7667</td>\n",
       "      <td id=\"T_c164e_row5_col6\" class=\"data row5 col6\" >nan</td>\n",
       "      <td id=\"T_c164e_row5_col7\" class=\"data row5 col7\" >0.7632</td>\n",
       "      <td id=\"T_c164e_row5_col8\" class=\"data row5 col8\" >0.0460</td>\n",
       "    </tr>\n",
       "    <tr>\n",
       "      <th id=\"T_c164e_level0_row6\" class=\"row_heading level0 row6\" >gbc</th>\n",
       "      <td id=\"T_c164e_row6_col0\" class=\"data row6 col0\" >Gradient Boosting Classifier</td>\n",
       "      <td id=\"T_c164e_row6_col1\" class=\"data row6 col1\" >0.9667</td>\n",
       "      <td id=\"T_c164e_row6_col2\" class=\"data row6 col2\" >0.8900</td>\n",
       "      <td id=\"T_c164e_row6_col3\" class=\"data row6 col3\" >0.8000</td>\n",
       "      <td id=\"T_c164e_row6_col4\" class=\"data row6 col4\" >0.7500</td>\n",
       "      <td id=\"T_c164e_row6_col5\" class=\"data row6 col5\" >0.7667</td>\n",
       "      <td id=\"T_c164e_row6_col6\" class=\"data row6 col6\" >nan</td>\n",
       "      <td id=\"T_c164e_row6_col7\" class=\"data row6 col7\" >0.7632</td>\n",
       "      <td id=\"T_c164e_row6_col8\" class=\"data row6 col8\" >0.0460</td>\n",
       "    </tr>\n",
       "    <tr>\n",
       "      <th id=\"T_c164e_level0_row7\" class=\"row_heading level0 row7\" >et</th>\n",
       "      <td id=\"T_c164e_row7_col0\" class=\"data row7 col0\" >Extra Trees Classifier</td>\n",
       "      <td id=\"T_c164e_row7_col1\" class=\"data row7 col1\" >0.9667</td>\n",
       "      <td id=\"T_c164e_row7_col2\" class=\"data row7 col2\" >0.9000</td>\n",
       "      <td id=\"T_c164e_row7_col3\" class=\"data row7 col3\" >0.8000</td>\n",
       "      <td id=\"T_c164e_row7_col4\" class=\"data row7 col4\" >0.7500</td>\n",
       "      <td id=\"T_c164e_row7_col5\" class=\"data row7 col5\" >0.7667</td>\n",
       "      <td id=\"T_c164e_row7_col6\" class=\"data row7 col6\" >nan</td>\n",
       "      <td id=\"T_c164e_row7_col7\" class=\"data row7 col7\" >0.7632</td>\n",
       "      <td id=\"T_c164e_row7_col8\" class=\"data row7 col8\" >0.0720</td>\n",
       "    </tr>\n",
       "    <tr>\n",
       "      <th id=\"T_c164e_level0_row8\" class=\"row_heading level0 row8\" >xgboost</th>\n",
       "      <td id=\"T_c164e_row8_col0\" class=\"data row8 col0\" >Extreme Gradient Boosting</td>\n",
       "      <td id=\"T_c164e_row8_col1\" class=\"data row8 col1\" >0.9667</td>\n",
       "      <td id=\"T_c164e_row8_col2\" class=\"data row8 col2\" >0.9000</td>\n",
       "      <td id=\"T_c164e_row8_col3\" class=\"data row8 col3\" >0.8000</td>\n",
       "      <td id=\"T_c164e_row8_col4\" class=\"data row8 col4\" >0.7500</td>\n",
       "      <td id=\"T_c164e_row8_col5\" class=\"data row8 col5\" >0.7667</td>\n",
       "      <td id=\"T_c164e_row8_col6\" class=\"data row8 col6\" >nan</td>\n",
       "      <td id=\"T_c164e_row8_col7\" class=\"data row8 col7\" >0.7632</td>\n",
       "      <td id=\"T_c164e_row8_col8\" class=\"data row8 col8\" >0.1510</td>\n",
       "    </tr>\n",
       "    <tr>\n",
       "      <th id=\"T_c164e_level0_row9\" class=\"row_heading level0 row9\" >lr</th>\n",
       "      <td id=\"T_c164e_row9_col0\" class=\"data row9 col0\" >Logistic Regression</td>\n",
       "      <td id=\"T_c164e_row9_col1\" class=\"data row9 col1\" >0.9524</td>\n",
       "      <td id=\"T_c164e_row9_col2\" class=\"data row9 col2\" >0.8800</td>\n",
       "      <td id=\"T_c164e_row9_col3\" class=\"data row9 col3\" >0.8000</td>\n",
       "      <td id=\"T_c164e_row9_col4\" class=\"data row9 col4\" >0.7000</td>\n",
       "      <td id=\"T_c164e_row9_col5\" class=\"data row9 col5\" >0.7333</td>\n",
       "      <td id=\"T_c164e_row9_col6\" class=\"data row9 col6\" >nan</td>\n",
       "      <td id=\"T_c164e_row9_col7\" class=\"data row9 col7\" >0.7278</td>\n",
       "      <td id=\"T_c164e_row9_col8\" class=\"data row9 col8\" >1.6280</td>\n",
       "    </tr>\n",
       "    <tr>\n",
       "      <th id=\"T_c164e_level0_row10\" class=\"row_heading level0 row10\" >nb</th>\n",
       "      <td id=\"T_c164e_row10_col0\" class=\"data row10 col0\" >Naive Bayes</td>\n",
       "      <td id=\"T_c164e_row10_col1\" class=\"data row10 col1\" >0.9524</td>\n",
       "      <td id=\"T_c164e_row10_col2\" class=\"data row10 col2\" >0.8900</td>\n",
       "      <td id=\"T_c164e_row10_col3\" class=\"data row10 col3\" >0.9000</td>\n",
       "      <td id=\"T_c164e_row10_col4\" class=\"data row10 col4\" >0.7500</td>\n",
       "      <td id=\"T_c164e_row10_col5\" class=\"data row10 col5\" >0.8000</td>\n",
       "      <td id=\"T_c164e_row10_col6\" class=\"data row10 col6\" >nan</td>\n",
       "      <td id=\"T_c164e_row10_col7\" class=\"data row10 col7\" >0.7910</td>\n",
       "      <td id=\"T_c164e_row10_col8\" class=\"data row10 col8\" >0.0160</td>\n",
       "    </tr>\n",
       "    <tr>\n",
       "      <th id=\"T_c164e_level0_row11\" class=\"row_heading level0 row11\" >svm</th>\n",
       "      <td id=\"T_c164e_row11_col0\" class=\"data row11 col0\" >SVM - Linear Kernel</td>\n",
       "      <td id=\"T_c164e_row11_col1\" class=\"data row11 col1\" >0.9524</td>\n",
       "      <td id=\"T_c164e_row11_col2\" class=\"data row11 col2\" >0.9000</td>\n",
       "      <td id=\"T_c164e_row11_col3\" class=\"data row11 col3\" >0.7000</td>\n",
       "      <td id=\"T_c164e_row11_col4\" class=\"data row11 col4\" >0.6500</td>\n",
       "      <td id=\"T_c164e_row11_col5\" class=\"data row11 col5\" >0.6667</td>\n",
       "      <td id=\"T_c164e_row11_col6\" class=\"data row11 col6\" >nan</td>\n",
       "      <td id=\"T_c164e_row11_col7\" class=\"data row11 col7\" >0.6632</td>\n",
       "      <td id=\"T_c164e_row11_col8\" class=\"data row11 col8\" >0.0170</td>\n",
       "    </tr>\n",
       "    <tr>\n",
       "      <th id=\"T_c164e_level0_row12\" class=\"row_heading level0 row12\" >lightgbm</th>\n",
       "      <td id=\"T_c164e_row12_col0\" class=\"data row12 col0\" >Light Gradient Boosting Machine</td>\n",
       "      <td id=\"T_c164e_row12_col1\" class=\"data row12 col1\" >0.9524</td>\n",
       "      <td id=\"T_c164e_row12_col2\" class=\"data row12 col2\" >0.8433</td>\n",
       "      <td id=\"T_c164e_row12_col3\" class=\"data row12 col3\" >0.6000</td>\n",
       "      <td id=\"T_c164e_row12_col4\" class=\"data row12 col4\" >0.6000</td>\n",
       "      <td id=\"T_c164e_row12_col5\" class=\"data row12 col5\" >0.6000</td>\n",
       "      <td id=\"T_c164e_row12_col6\" class=\"data row12 col6\" >nan</td>\n",
       "      <td id=\"T_c164e_row12_col7\" class=\"data row12 col7\" >0.6000</td>\n",
       "      <td id=\"T_c164e_row12_col8\" class=\"data row12 col8\" >0.0390</td>\n",
       "    </tr>\n",
       "    <tr>\n",
       "      <th id=\"T_c164e_level0_row13\" class=\"row_heading level0 row13\" >qda</th>\n",
       "      <td id=\"T_c164e_row13_col0\" class=\"data row13 col0\" >Quadratic Discriminant Analysis</td>\n",
       "      <td id=\"T_c164e_row13_col1\" class=\"data row13 col1\" >0.8571</td>\n",
       "      <td id=\"T_c164e_row13_col2\" class=\"data row13 col2\" >0.7067</td>\n",
       "      <td id=\"T_c164e_row13_col3\" class=\"data row13 col3\" >0.0000</td>\n",
       "      <td id=\"T_c164e_row13_col4\" class=\"data row13 col4\" >0.0000</td>\n",
       "      <td id=\"T_c164e_row13_col5\" class=\"data row13 col5\" >0.0000</td>\n",
       "      <td id=\"T_c164e_row13_col6\" class=\"data row13 col6\" >nan</td>\n",
       "      <td id=\"T_c164e_row13_col7\" class=\"data row13 col7\" >0.0000</td>\n",
       "      <td id=\"T_c164e_row13_col8\" class=\"data row13 col8\" >0.0180</td>\n",
       "    </tr>\n",
       "    <tr>\n",
       "      <th id=\"T_c164e_level0_row14\" class=\"row_heading level0 row14\" >dummy</th>\n",
       "      <td id=\"T_c164e_row14_col0\" class=\"data row14 col0\" >Dummy Classifier</td>\n",
       "      <td id=\"T_c164e_row14_col1\" class=\"data row14 col1\" >0.8571</td>\n",
       "      <td id=\"T_c164e_row14_col2\" class=\"data row14 col2\" >0.4500</td>\n",
       "      <td id=\"T_c164e_row14_col3\" class=\"data row14 col3\" >0.0000</td>\n",
       "      <td id=\"T_c164e_row14_col4\" class=\"data row14 col4\" >0.0000</td>\n",
       "      <td id=\"T_c164e_row14_col5\" class=\"data row14 col5\" >0.0000</td>\n",
       "      <td id=\"T_c164e_row14_col6\" class=\"data row14 col6\" >nan</td>\n",
       "      <td id=\"T_c164e_row14_col7\" class=\"data row14 col7\" >0.0000</td>\n",
       "      <td id=\"T_c164e_row14_col8\" class=\"data row14 col8\" >0.0130</td>\n",
       "    </tr>\n",
       "  </tbody>\n",
       "</table>\n"
      ],
      "text/plain": [
       "<pandas.io.formats.style.Styler at 0x27fe1f1e490>"
      ]
     },
     "metadata": {},
     "output_type": "display_data"
    },
    {
     "data": {
      "application/vnd.jupyter.widget-view+json": {
       "model_id": "cf3870a0c21f44e59cd793e855414a81",
       "version_major": 2,
       "version_minor": 0
      },
      "text/plain": [
       "Processing:   0%|          | 0/65 [00:00<?, ?it/s]"
      ]
     },
     "metadata": {},
     "output_type": "display_data"
    },
    {
     "data": {
      "text/html": [],
      "text/plain": [
       "<IPython.core.display.HTML object>"
      ]
     },
     "metadata": {},
     "output_type": "display_data"
    },
    {
     "data": {
      "text/html": [
       "<style type=\"text/css\">\n",
       "#T_4e29d th {\n",
       "  text-align: left;\n",
       "}\n",
       "#T_4e29d_row0_col0, #T_4e29d_row0_col6 {\n",
       "  text-align: left;\n",
       "}\n",
       "#T_4e29d_row0_col1, #T_4e29d_row0_col2, #T_4e29d_row0_col3, #T_4e29d_row0_col4, #T_4e29d_row0_col5, #T_4e29d_row0_col7 {\n",
       "  text-align: left;\n",
       "  background-color: yellow;\n",
       "}\n",
       "#T_4e29d_row0_col8 {\n",
       "  text-align: left;\n",
       "  background-color: yellow;\n",
       "  background-color: lightgrey;\n",
       "}\n",
       "</style>\n",
       "<table id=\"T_4e29d\">\n",
       "  <thead>\n",
       "    <tr>\n",
       "      <th class=\"blank level0\" >&nbsp;</th>\n",
       "      <th id=\"T_4e29d_level0_col0\" class=\"col_heading level0 col0\" >Model</th>\n",
       "      <th id=\"T_4e29d_level0_col1\" class=\"col_heading level0 col1\" >Accuracy</th>\n",
       "      <th id=\"T_4e29d_level0_col2\" class=\"col_heading level0 col2\" >AUC</th>\n",
       "      <th id=\"T_4e29d_level0_col3\" class=\"col_heading level0 col3\" >Recall</th>\n",
       "      <th id=\"T_4e29d_level0_col4\" class=\"col_heading level0 col4\" >Prec.</th>\n",
       "      <th id=\"T_4e29d_level0_col5\" class=\"col_heading level0 col5\" >F1</th>\n",
       "      <th id=\"T_4e29d_level0_col6\" class=\"col_heading level0 col6\" >Kappa</th>\n",
       "      <th id=\"T_4e29d_level0_col7\" class=\"col_heading level0 col7\" >MCC</th>\n",
       "      <th id=\"T_4e29d_level0_col8\" class=\"col_heading level0 col8\" >TT (Sec)</th>\n",
       "    </tr>\n",
       "  </thead>\n",
       "  <tbody>\n",
       "    <tr>\n",
       "      <th id=\"T_4e29d_level0_row0\" class=\"row_heading level0 row0\" >knn</th>\n",
       "      <td id=\"T_4e29d_row0_col0\" class=\"data row0 col0\" >K Neighbors Classifier</td>\n",
       "      <td id=\"T_4e29d_row0_col1\" class=\"data row0 col1\" >0.9833</td>\n",
       "      <td id=\"T_4e29d_row0_col2\" class=\"data row0 col2\" >0.9000</td>\n",
       "      <td id=\"T_4e29d_row0_col3\" class=\"data row0 col3\" >0.9000</td>\n",
       "      <td id=\"T_4e29d_row0_col4\" class=\"data row0 col4\" >0.8500</td>\n",
       "      <td id=\"T_4e29d_row0_col5\" class=\"data row0 col5\" >0.8667</td>\n",
       "      <td id=\"T_4e29d_row0_col6\" class=\"data row0 col6\" >nan</td>\n",
       "      <td id=\"T_4e29d_row0_col7\" class=\"data row0 col7\" >0.8632</td>\n",
       "      <td id=\"T_4e29d_row0_col8\" class=\"data row0 col8\" >0.0250</td>\n",
       "    </tr>\n",
       "  </tbody>\n",
       "</table>\n"
      ],
      "text/plain": [
       "<pandas.io.formats.style.Styler at 0x27fe2eeb890>"
      ]
     },
     "metadata": {},
     "output_type": "display_data"
    },
    {
     "data": {
      "application/vnd.jupyter.widget-view+json": {
       "model_id": "f00eea7112ea4f9689f43a92435241cf",
       "version_major": 2,
       "version_minor": 0
      },
      "text/plain": [
       "Processing:   0%|          | 0/9 [00:00<?, ?it/s]"
      ]
     },
     "metadata": {},
     "output_type": "display_data"
    },
    {
     "data": {
      "text/html": [],
      "text/plain": [
       "<IPython.core.display.HTML object>"
      ]
     },
     "metadata": {},
     "output_type": "display_data"
    },
    {
     "data": {
      "text/html": [],
      "text/plain": [
       "<IPython.core.display.HTML object>"
      ]
     },
     "metadata": {},
     "output_type": "display_data"
    },
    {
     "data": {
      "text/html": [],
      "text/plain": [
       "<IPython.core.display.HTML object>"
      ]
     },
     "metadata": {},
     "output_type": "display_data"
    },
    {
     "data": {
      "text/html": [
       "<style type=\"text/css\">\n",
       "#T_60fc0 th {\n",
       "  text-align: left;\n",
       "}\n",
       "#T_60fc0_row0_col0, #T_60fc0_row0_col6 {\n",
       "  text-align: left;\n",
       "}\n",
       "#T_60fc0_row0_col1, #T_60fc0_row0_col2, #T_60fc0_row0_col3, #T_60fc0_row0_col4, #T_60fc0_row0_col5, #T_60fc0_row0_col7 {\n",
       "  text-align: left;\n",
       "  background-color: yellow;\n",
       "}\n",
       "#T_60fc0_row0_col8 {\n",
       "  text-align: left;\n",
       "  background-color: yellow;\n",
       "  background-color: lightgrey;\n",
       "}\n",
       "</style>\n",
       "<table id=\"T_60fc0\">\n",
       "  <thead>\n",
       "    <tr>\n",
       "      <th class=\"blank level0\" >&nbsp;</th>\n",
       "      <th id=\"T_60fc0_level0_col0\" class=\"col_heading level0 col0\" >Model</th>\n",
       "      <th id=\"T_60fc0_level0_col1\" class=\"col_heading level0 col1\" >Accuracy</th>\n",
       "      <th id=\"T_60fc0_level0_col2\" class=\"col_heading level0 col2\" >AUC</th>\n",
       "      <th id=\"T_60fc0_level0_col3\" class=\"col_heading level0 col3\" >Recall</th>\n",
       "      <th id=\"T_60fc0_level0_col4\" class=\"col_heading level0 col4\" >Prec.</th>\n",
       "      <th id=\"T_60fc0_level0_col5\" class=\"col_heading level0 col5\" >F1</th>\n",
       "      <th id=\"T_60fc0_level0_col6\" class=\"col_heading level0 col6\" >Kappa</th>\n",
       "      <th id=\"T_60fc0_level0_col7\" class=\"col_heading level0 col7\" >MCC</th>\n",
       "      <th id=\"T_60fc0_level0_col8\" class=\"col_heading level0 col8\" >TT (Sec)</th>\n",
       "    </tr>\n",
       "  </thead>\n",
       "  <tbody>\n",
       "    <tr>\n",
       "      <th id=\"T_60fc0_level0_row0\" class=\"row_heading level0 row0\" >dt</th>\n",
       "      <td id=\"T_60fc0_row0_col0\" class=\"data row0 col0\" >Decision Tree Classifier</td>\n",
       "      <td id=\"T_60fc0_row0_col1\" class=\"data row0 col1\" >0.9833</td>\n",
       "      <td id=\"T_60fc0_row0_col2\" class=\"data row0 col2\" >0.8900</td>\n",
       "      <td id=\"T_60fc0_row0_col3\" class=\"data row0 col3\" >0.9000</td>\n",
       "      <td id=\"T_60fc0_row0_col4\" class=\"data row0 col4\" >0.8500</td>\n",
       "      <td id=\"T_60fc0_row0_col5\" class=\"data row0 col5\" >0.8667</td>\n",
       "      <td id=\"T_60fc0_row0_col6\" class=\"data row0 col6\" >nan</td>\n",
       "      <td id=\"T_60fc0_row0_col7\" class=\"data row0 col7\" >0.8632</td>\n",
       "      <td id=\"T_60fc0_row0_col8\" class=\"data row0 col8\" >0.0180</td>\n",
       "    </tr>\n",
       "  </tbody>\n",
       "</table>\n"
      ],
      "text/plain": [
       "<pandas.io.formats.style.Styler at 0x27fe1f12b50>"
      ]
     },
     "metadata": {},
     "output_type": "display_data"
    },
    {
     "data": {
      "application/vnd.jupyter.widget-view+json": {
       "model_id": "f335f605230a45d8a4fa2b6a17fede92",
       "version_major": 2,
       "version_minor": 0
      },
      "text/plain": [
       "Processing:   0%|          | 0/9 [00:00<?, ?it/s]"
      ]
     },
     "metadata": {},
     "output_type": "display_data"
    },
    {
     "data": {
      "text/html": [],
      "text/plain": [
       "<IPython.core.display.HTML object>"
      ]
     },
     "metadata": {},
     "output_type": "display_data"
    },
    {
     "data": {
      "text/html": [],
      "text/plain": [
       "<IPython.core.display.HTML object>"
      ]
     },
     "metadata": {},
     "output_type": "display_data"
    },
    {
     "data": {
      "text/html": [],
      "text/plain": [
       "<IPython.core.display.HTML object>"
      ]
     },
     "metadata": {},
     "output_type": "display_data"
    },
    {
     "data": {
      "text/html": [
       "<style type=\"text/css\">\n",
       "#T_112d4 th {\n",
       "  text-align: left;\n",
       "}\n",
       "#T_112d4_row0_col0, #T_112d4_row0_col6 {\n",
       "  text-align: left;\n",
       "}\n",
       "#T_112d4_row0_col1, #T_112d4_row0_col2, #T_112d4_row0_col3, #T_112d4_row0_col4, #T_112d4_row0_col5, #T_112d4_row0_col7 {\n",
       "  text-align: left;\n",
       "  background-color: yellow;\n",
       "}\n",
       "#T_112d4_row0_col8 {\n",
       "  text-align: left;\n",
       "  background-color: yellow;\n",
       "  background-color: lightgrey;\n",
       "}\n",
       "</style>\n",
       "<table id=\"T_112d4\">\n",
       "  <thead>\n",
       "    <tr>\n",
       "      <th class=\"blank level0\" >&nbsp;</th>\n",
       "      <th id=\"T_112d4_level0_col0\" class=\"col_heading level0 col0\" >Model</th>\n",
       "      <th id=\"T_112d4_level0_col1\" class=\"col_heading level0 col1\" >Accuracy</th>\n",
       "      <th id=\"T_112d4_level0_col2\" class=\"col_heading level0 col2\" >AUC</th>\n",
       "      <th id=\"T_112d4_level0_col3\" class=\"col_heading level0 col3\" >Recall</th>\n",
       "      <th id=\"T_112d4_level0_col4\" class=\"col_heading level0 col4\" >Prec.</th>\n",
       "      <th id=\"T_112d4_level0_col5\" class=\"col_heading level0 col5\" >F1</th>\n",
       "      <th id=\"T_112d4_level0_col6\" class=\"col_heading level0 col6\" >Kappa</th>\n",
       "      <th id=\"T_112d4_level0_col7\" class=\"col_heading level0 col7\" >MCC</th>\n",
       "      <th id=\"T_112d4_level0_col8\" class=\"col_heading level0 col8\" >TT (Sec)</th>\n",
       "    </tr>\n",
       "  </thead>\n",
       "  <tbody>\n",
       "    <tr>\n",
       "      <th id=\"T_112d4_level0_row0\" class=\"row_heading level0 row0\" >ridge</th>\n",
       "      <td id=\"T_112d4_row0_col0\" class=\"data row0 col0\" >Ridge Classifier</td>\n",
       "      <td id=\"T_112d4_row0_col1\" class=\"data row0 col1\" >0.9833</td>\n",
       "      <td id=\"T_112d4_row0_col2\" class=\"data row0 col2\" >0.8800</td>\n",
       "      <td id=\"T_112d4_row0_col3\" class=\"data row0 col3\" >0.9000</td>\n",
       "      <td id=\"T_112d4_row0_col4\" class=\"data row0 col4\" >0.8500</td>\n",
       "      <td id=\"T_112d4_row0_col5\" class=\"data row0 col5\" >0.8667</td>\n",
       "      <td id=\"T_112d4_row0_col6\" class=\"data row0 col6\" >nan</td>\n",
       "      <td id=\"T_112d4_row0_col7\" class=\"data row0 col7\" >0.8632</td>\n",
       "      <td id=\"T_112d4_row0_col8\" class=\"data row0 col8\" >0.0160</td>\n",
       "    </tr>\n",
       "  </tbody>\n",
       "</table>\n"
      ],
      "text/plain": [
       "<pandas.io.formats.style.Styler at 0x27fe56a6d50>"
      ]
     },
     "metadata": {},
     "output_type": "display_data"
    },
    {
     "data": {
      "application/vnd.jupyter.widget-view+json": {
       "model_id": "51a4e48f5fe14562b75f09aa0f494b14",
       "version_major": 2,
       "version_minor": 0
      },
      "text/plain": [
       "Processing:   0%|          | 0/9 [00:00<?, ?it/s]"
      ]
     },
     "metadata": {},
     "output_type": "display_data"
    },
    {
     "data": {
      "text/html": [],
      "text/plain": [
       "<IPython.core.display.HTML object>"
      ]
     },
     "metadata": {},
     "output_type": "display_data"
    },
    {
     "data": {
      "text/html": [],
      "text/plain": [
       "<IPython.core.display.HTML object>"
      ]
     },
     "metadata": {},
     "output_type": "display_data"
    },
    {
     "data": {
      "text/html": [],
      "text/plain": [
       "<IPython.core.display.HTML object>"
      ]
     },
     "metadata": {},
     "output_type": "display_data"
    },
    {
     "data": {
      "text/html": [
       "<style type=\"text/css\">\n",
       "#T_90b4d th {\n",
       "  text-align: left;\n",
       "}\n",
       "#T_90b4d_row0_col0, #T_90b4d_row0_col6 {\n",
       "  text-align: left;\n",
       "}\n",
       "#T_90b4d_row0_col1, #T_90b4d_row0_col2, #T_90b4d_row0_col3, #T_90b4d_row0_col4, #T_90b4d_row0_col5, #T_90b4d_row0_col7 {\n",
       "  text-align: left;\n",
       "  background-color: yellow;\n",
       "}\n",
       "#T_90b4d_row0_col8 {\n",
       "  text-align: left;\n",
       "  background-color: yellow;\n",
       "  background-color: lightgrey;\n",
       "}\n",
       "</style>\n",
       "<table id=\"T_90b4d\">\n",
       "  <thead>\n",
       "    <tr>\n",
       "      <th class=\"blank level0\" >&nbsp;</th>\n",
       "      <th id=\"T_90b4d_level0_col0\" class=\"col_heading level0 col0\" >Model</th>\n",
       "      <th id=\"T_90b4d_level0_col1\" class=\"col_heading level0 col1\" >Accuracy</th>\n",
       "      <th id=\"T_90b4d_level0_col2\" class=\"col_heading level0 col2\" >AUC</th>\n",
       "      <th id=\"T_90b4d_level0_col3\" class=\"col_heading level0 col3\" >Recall</th>\n",
       "      <th id=\"T_90b4d_level0_col4\" class=\"col_heading level0 col4\" >Prec.</th>\n",
       "      <th id=\"T_90b4d_level0_col5\" class=\"col_heading level0 col5\" >F1</th>\n",
       "      <th id=\"T_90b4d_level0_col6\" class=\"col_heading level0 col6\" >Kappa</th>\n",
       "      <th id=\"T_90b4d_level0_col7\" class=\"col_heading level0 col7\" >MCC</th>\n",
       "      <th id=\"T_90b4d_level0_col8\" class=\"col_heading level0 col8\" >TT (Sec)</th>\n",
       "    </tr>\n",
       "  </thead>\n",
       "  <tbody>\n",
       "    <tr>\n",
       "      <th id=\"T_90b4d_level0_row0\" class=\"row_heading level0 row0\" >rf</th>\n",
       "      <td id=\"T_90b4d_row0_col0\" class=\"data row0 col0\" >Random Forest Classifier</td>\n",
       "      <td id=\"T_90b4d_row0_col1\" class=\"data row0 col1\" >0.9833</td>\n",
       "      <td id=\"T_90b4d_row0_col2\" class=\"data row0 col2\" >0.9000</td>\n",
       "      <td id=\"T_90b4d_row0_col3\" class=\"data row0 col3\" >0.8000</td>\n",
       "      <td id=\"T_90b4d_row0_col4\" class=\"data row0 col4\" >0.8000</td>\n",
       "      <td id=\"T_90b4d_row0_col5\" class=\"data row0 col5\" >0.8000</td>\n",
       "      <td id=\"T_90b4d_row0_col6\" class=\"data row0 col6\" >nan</td>\n",
       "      <td id=\"T_90b4d_row0_col7\" class=\"data row0 col7\" >0.8000</td>\n",
       "      <td id=\"T_90b4d_row0_col8\" class=\"data row0 col8\" >0.0980</td>\n",
       "    </tr>\n",
       "  </tbody>\n",
       "</table>\n"
      ],
      "text/plain": [
       "<pandas.io.formats.style.Styler at 0x27fdf15ad10>"
      ]
     },
     "metadata": {},
     "output_type": "display_data"
    },
    {
     "data": {
      "application/vnd.jupyter.widget-view+json": {
       "model_id": "5de668755f1e45c386b0a627126e25e3",
       "version_major": 2,
       "version_minor": 0
      },
      "text/plain": [
       "Processing:   0%|          | 0/9 [00:00<?, ?it/s]"
      ]
     },
     "metadata": {},
     "output_type": "display_data"
    },
    {
     "data": {
      "text/html": [],
      "text/plain": [
       "<IPython.core.display.HTML object>"
      ]
     },
     "metadata": {},
     "output_type": "display_data"
    },
    {
     "data": {
      "text/html": [],
      "text/plain": [
       "<IPython.core.display.HTML object>"
      ]
     },
     "metadata": {},
     "output_type": "display_data"
    },
    {
     "data": {
      "text/html": [],
      "text/plain": [
       "<IPython.core.display.HTML object>"
      ]
     },
     "metadata": {},
     "output_type": "display_data"
    },
    {
     "data": {
      "text/html": [
       "<style type=\"text/css\">\n",
       "#T_b3bec th {\n",
       "  text-align: left;\n",
       "}\n",
       "#T_b3bec_row0_col0, #T_b3bec_row0_col6 {\n",
       "  text-align: left;\n",
       "}\n",
       "#T_b3bec_row0_col1, #T_b3bec_row0_col2, #T_b3bec_row0_col3, #T_b3bec_row0_col4, #T_b3bec_row0_col5, #T_b3bec_row0_col7 {\n",
       "  text-align: left;\n",
       "  background-color: yellow;\n",
       "}\n",
       "#T_b3bec_row0_col8 {\n",
       "  text-align: left;\n",
       "  background-color: yellow;\n",
       "  background-color: lightgrey;\n",
       "}\n",
       "</style>\n",
       "<table id=\"T_b3bec\">\n",
       "  <thead>\n",
       "    <tr>\n",
       "      <th class=\"blank level0\" >&nbsp;</th>\n",
       "      <th id=\"T_b3bec_level0_col0\" class=\"col_heading level0 col0\" >Model</th>\n",
       "      <th id=\"T_b3bec_level0_col1\" class=\"col_heading level0 col1\" >Accuracy</th>\n",
       "      <th id=\"T_b3bec_level0_col2\" class=\"col_heading level0 col2\" >AUC</th>\n",
       "      <th id=\"T_b3bec_level0_col3\" class=\"col_heading level0 col3\" >Recall</th>\n",
       "      <th id=\"T_b3bec_level0_col4\" class=\"col_heading level0 col4\" >Prec.</th>\n",
       "      <th id=\"T_b3bec_level0_col5\" class=\"col_heading level0 col5\" >F1</th>\n",
       "      <th id=\"T_b3bec_level0_col6\" class=\"col_heading level0 col6\" >Kappa</th>\n",
       "      <th id=\"T_b3bec_level0_col7\" class=\"col_heading level0 col7\" >MCC</th>\n",
       "      <th id=\"T_b3bec_level0_col8\" class=\"col_heading level0 col8\" >TT (Sec)</th>\n",
       "    </tr>\n",
       "  </thead>\n",
       "  <tbody>\n",
       "    <tr>\n",
       "      <th id=\"T_b3bec_level0_row0\" class=\"row_heading level0 row0\" >lda</th>\n",
       "      <td id=\"T_b3bec_row0_col0\" class=\"data row0 col0\" >Linear Discriminant Analysis</td>\n",
       "      <td id=\"T_b3bec_row0_col1\" class=\"data row0 col1\" >0.9833</td>\n",
       "      <td id=\"T_b3bec_row0_col2\" class=\"data row0 col2\" >0.8800</td>\n",
       "      <td id=\"T_b3bec_row0_col3\" class=\"data row0 col3\" >0.9000</td>\n",
       "      <td id=\"T_b3bec_row0_col4\" class=\"data row0 col4\" >0.8500</td>\n",
       "      <td id=\"T_b3bec_row0_col5\" class=\"data row0 col5\" >0.8667</td>\n",
       "      <td id=\"T_b3bec_row0_col6\" class=\"data row0 col6\" >nan</td>\n",
       "      <td id=\"T_b3bec_row0_col7\" class=\"data row0 col7\" >0.8632</td>\n",
       "      <td id=\"T_b3bec_row0_col8\" class=\"data row0 col8\" >0.0150</td>\n",
       "    </tr>\n",
       "  </tbody>\n",
       "</table>\n"
      ],
      "text/plain": [
       "<pandas.io.formats.style.Styler at 0x27fe2122c90>"
      ]
     },
     "metadata": {},
     "output_type": "display_data"
    },
    {
     "data": {
      "application/vnd.jupyter.widget-view+json": {
       "model_id": "88de358394bd480ea82d50e6b04fc26c",
       "version_major": 2,
       "version_minor": 0
      },
      "text/plain": [
       "Processing:   0%|          | 0/9 [00:00<?, ?it/s]"
      ]
     },
     "metadata": {},
     "output_type": "display_data"
    },
    {
     "data": {
      "text/html": [],
      "text/plain": [
       "<IPython.core.display.HTML object>"
      ]
     },
     "metadata": {},
     "output_type": "display_data"
    },
    {
     "data": {
      "text/html": [],
      "text/plain": [
       "<IPython.core.display.HTML object>"
      ]
     },
     "metadata": {},
     "output_type": "display_data"
    },
    {
     "data": {
      "text/html": [],
      "text/plain": [
       "<IPython.core.display.HTML object>"
      ]
     },
     "metadata": {},
     "output_type": "display_data"
    },
    {
     "data": {
      "text/html": [
       "<style type=\"text/css\">\n",
       "#T_9abb9 th {\n",
       "  text-align: left;\n",
       "}\n",
       "#T_9abb9_row0_col0, #T_9abb9_row0_col6 {\n",
       "  text-align: left;\n",
       "}\n",
       "#T_9abb9_row0_col1, #T_9abb9_row0_col2, #T_9abb9_row0_col3, #T_9abb9_row0_col4, #T_9abb9_row0_col5, #T_9abb9_row0_col7 {\n",
       "  text-align: left;\n",
       "  background-color: yellow;\n",
       "}\n",
       "#T_9abb9_row0_col8 {\n",
       "  text-align: left;\n",
       "  background-color: yellow;\n",
       "  background-color: lightgrey;\n",
       "}\n",
       "</style>\n",
       "<table id=\"T_9abb9\">\n",
       "  <thead>\n",
       "    <tr>\n",
       "      <th class=\"blank level0\" >&nbsp;</th>\n",
       "      <th id=\"T_9abb9_level0_col0\" class=\"col_heading level0 col0\" >Model</th>\n",
       "      <th id=\"T_9abb9_level0_col1\" class=\"col_heading level0 col1\" >Accuracy</th>\n",
       "      <th id=\"T_9abb9_level0_col2\" class=\"col_heading level0 col2\" >AUC</th>\n",
       "      <th id=\"T_9abb9_level0_col3\" class=\"col_heading level0 col3\" >Recall</th>\n",
       "      <th id=\"T_9abb9_level0_col4\" class=\"col_heading level0 col4\" >Prec.</th>\n",
       "      <th id=\"T_9abb9_level0_col5\" class=\"col_heading level0 col5\" >F1</th>\n",
       "      <th id=\"T_9abb9_level0_col6\" class=\"col_heading level0 col6\" >Kappa</th>\n",
       "      <th id=\"T_9abb9_level0_col7\" class=\"col_heading level0 col7\" >MCC</th>\n",
       "      <th id=\"T_9abb9_level0_col8\" class=\"col_heading level0 col8\" >TT (Sec)</th>\n",
       "    </tr>\n",
       "  </thead>\n",
       "  <tbody>\n",
       "    <tr>\n",
       "      <th id=\"T_9abb9_level0_row0\" class=\"row_heading level0 row0\" >ada</th>\n",
       "      <td id=\"T_9abb9_row0_col0\" class=\"data row0 col0\" >Ada Boost Classifier</td>\n",
       "      <td id=\"T_9abb9_row0_col1\" class=\"data row0 col1\" >0.9667</td>\n",
       "      <td id=\"T_9abb9_row0_col2\" class=\"data row0 col2\" >0.8900</td>\n",
       "      <td id=\"T_9abb9_row0_col3\" class=\"data row0 col3\" >0.8000</td>\n",
       "      <td id=\"T_9abb9_row0_col4\" class=\"data row0 col4\" >0.7500</td>\n",
       "      <td id=\"T_9abb9_row0_col5\" class=\"data row0 col5\" >0.7667</td>\n",
       "      <td id=\"T_9abb9_row0_col6\" class=\"data row0 col6\" >nan</td>\n",
       "      <td id=\"T_9abb9_row0_col7\" class=\"data row0 col7\" >0.7632</td>\n",
       "      <td id=\"T_9abb9_row0_col8\" class=\"data row0 col8\" >0.0520</td>\n",
       "    </tr>\n",
       "  </tbody>\n",
       "</table>\n"
      ],
      "text/plain": [
       "<pandas.io.formats.style.Styler at 0x27fe24f44d0>"
      ]
     },
     "metadata": {},
     "output_type": "display_data"
    },
    {
     "data": {
      "application/vnd.jupyter.widget-view+json": {
       "model_id": "86842e045a9e411088d90eb77136c209",
       "version_major": 2,
       "version_minor": 0
      },
      "text/plain": [
       "Processing:   0%|          | 0/9 [00:00<?, ?it/s]"
      ]
     },
     "metadata": {},
     "output_type": "display_data"
    },
    {
     "data": {
      "text/html": [],
      "text/plain": [
       "<IPython.core.display.HTML object>"
      ]
     },
     "metadata": {},
     "output_type": "display_data"
    },
    {
     "data": {
      "text/html": [],
      "text/plain": [
       "<IPython.core.display.HTML object>"
      ]
     },
     "metadata": {},
     "output_type": "display_data"
    },
    {
     "data": {
      "text/html": [],
      "text/plain": [
       "<IPython.core.display.HTML object>"
      ]
     },
     "metadata": {},
     "output_type": "display_data"
    },
    {
     "data": {
      "text/html": [
       "<style type=\"text/css\">\n",
       "#T_149a4 th {\n",
       "  text-align: left;\n",
       "}\n",
       "#T_149a4_row0_col0, #T_149a4_row0_col6 {\n",
       "  text-align: left;\n",
       "}\n",
       "#T_149a4_row0_col1, #T_149a4_row0_col2, #T_149a4_row0_col3, #T_149a4_row0_col4, #T_149a4_row0_col5, #T_149a4_row0_col7 {\n",
       "  text-align: left;\n",
       "  background-color: yellow;\n",
       "}\n",
       "#T_149a4_row0_col8 {\n",
       "  text-align: left;\n",
       "  background-color: yellow;\n",
       "  background-color: lightgrey;\n",
       "}\n",
       "</style>\n",
       "<table id=\"T_149a4\">\n",
       "  <thead>\n",
       "    <tr>\n",
       "      <th class=\"blank level0\" >&nbsp;</th>\n",
       "      <th id=\"T_149a4_level0_col0\" class=\"col_heading level0 col0\" >Model</th>\n",
       "      <th id=\"T_149a4_level0_col1\" class=\"col_heading level0 col1\" >Accuracy</th>\n",
       "      <th id=\"T_149a4_level0_col2\" class=\"col_heading level0 col2\" >AUC</th>\n",
       "      <th id=\"T_149a4_level0_col3\" class=\"col_heading level0 col3\" >Recall</th>\n",
       "      <th id=\"T_149a4_level0_col4\" class=\"col_heading level0 col4\" >Prec.</th>\n",
       "      <th id=\"T_149a4_level0_col5\" class=\"col_heading level0 col5\" >F1</th>\n",
       "      <th id=\"T_149a4_level0_col6\" class=\"col_heading level0 col6\" >Kappa</th>\n",
       "      <th id=\"T_149a4_level0_col7\" class=\"col_heading level0 col7\" >MCC</th>\n",
       "      <th id=\"T_149a4_level0_col8\" class=\"col_heading level0 col8\" >TT (Sec)</th>\n",
       "    </tr>\n",
       "  </thead>\n",
       "  <tbody>\n",
       "    <tr>\n",
       "      <th id=\"T_149a4_level0_row0\" class=\"row_heading level0 row0\" >gbc</th>\n",
       "      <td id=\"T_149a4_row0_col0\" class=\"data row0 col0\" >Gradient Boosting Classifier</td>\n",
       "      <td id=\"T_149a4_row0_col1\" class=\"data row0 col1\" >0.9667</td>\n",
       "      <td id=\"T_149a4_row0_col2\" class=\"data row0 col2\" >0.8900</td>\n",
       "      <td id=\"T_149a4_row0_col3\" class=\"data row0 col3\" >0.8000</td>\n",
       "      <td id=\"T_149a4_row0_col4\" class=\"data row0 col4\" >0.7500</td>\n",
       "      <td id=\"T_149a4_row0_col5\" class=\"data row0 col5\" >0.7667</td>\n",
       "      <td id=\"T_149a4_row0_col6\" class=\"data row0 col6\" >nan</td>\n",
       "      <td id=\"T_149a4_row0_col7\" class=\"data row0 col7\" >0.7632</td>\n",
       "      <td id=\"T_149a4_row0_col8\" class=\"data row0 col8\" >0.0470</td>\n",
       "    </tr>\n",
       "  </tbody>\n",
       "</table>\n"
      ],
      "text/plain": [
       "<pandas.io.formats.style.Styler at 0x27fe565add0>"
      ]
     },
     "metadata": {},
     "output_type": "display_data"
    },
    {
     "data": {
      "application/vnd.jupyter.widget-view+json": {
       "model_id": "52db20c0c98344b690b9e775c4a9f2d6",
       "version_major": 2,
       "version_minor": 0
      },
      "text/plain": [
       "Processing:   0%|          | 0/9 [00:00<?, ?it/s]"
      ]
     },
     "metadata": {},
     "output_type": "display_data"
    },
    {
     "data": {
      "text/html": [],
      "text/plain": [
       "<IPython.core.display.HTML object>"
      ]
     },
     "metadata": {},
     "output_type": "display_data"
    },
    {
     "data": {
      "text/html": [],
      "text/plain": [
       "<IPython.core.display.HTML object>"
      ]
     },
     "metadata": {},
     "output_type": "display_data"
    },
    {
     "data": {
      "text/html": [],
      "text/plain": [
       "<IPython.core.display.HTML object>"
      ]
     },
     "metadata": {},
     "output_type": "display_data"
    },
    {
     "data": {
      "text/html": [
       "<style type=\"text/css\">\n",
       "#T_3cedb th {\n",
       "  text-align: left;\n",
       "}\n",
       "#T_3cedb_row0_col0, #T_3cedb_row0_col6 {\n",
       "  text-align: left;\n",
       "}\n",
       "#T_3cedb_row0_col1, #T_3cedb_row0_col2, #T_3cedb_row0_col3, #T_3cedb_row0_col4, #T_3cedb_row0_col5, #T_3cedb_row0_col7 {\n",
       "  text-align: left;\n",
       "  background-color: yellow;\n",
       "}\n",
       "#T_3cedb_row0_col8 {\n",
       "  text-align: left;\n",
       "  background-color: yellow;\n",
       "  background-color: lightgrey;\n",
       "}\n",
       "</style>\n",
       "<table id=\"T_3cedb\">\n",
       "  <thead>\n",
       "    <tr>\n",
       "      <th class=\"blank level0\" >&nbsp;</th>\n",
       "      <th id=\"T_3cedb_level0_col0\" class=\"col_heading level0 col0\" >Model</th>\n",
       "      <th id=\"T_3cedb_level0_col1\" class=\"col_heading level0 col1\" >Accuracy</th>\n",
       "      <th id=\"T_3cedb_level0_col2\" class=\"col_heading level0 col2\" >AUC</th>\n",
       "      <th id=\"T_3cedb_level0_col3\" class=\"col_heading level0 col3\" >Recall</th>\n",
       "      <th id=\"T_3cedb_level0_col4\" class=\"col_heading level0 col4\" >Prec.</th>\n",
       "      <th id=\"T_3cedb_level0_col5\" class=\"col_heading level0 col5\" >F1</th>\n",
       "      <th id=\"T_3cedb_level0_col6\" class=\"col_heading level0 col6\" >Kappa</th>\n",
       "      <th id=\"T_3cedb_level0_col7\" class=\"col_heading level0 col7\" >MCC</th>\n",
       "      <th id=\"T_3cedb_level0_col8\" class=\"col_heading level0 col8\" >TT (Sec)</th>\n",
       "    </tr>\n",
       "  </thead>\n",
       "  <tbody>\n",
       "    <tr>\n",
       "      <th id=\"T_3cedb_level0_row0\" class=\"row_heading level0 row0\" >et</th>\n",
       "      <td id=\"T_3cedb_row0_col0\" class=\"data row0 col0\" >Extra Trees Classifier</td>\n",
       "      <td id=\"T_3cedb_row0_col1\" class=\"data row0 col1\" >0.9667</td>\n",
       "      <td id=\"T_3cedb_row0_col2\" class=\"data row0 col2\" >0.9000</td>\n",
       "      <td id=\"T_3cedb_row0_col3\" class=\"data row0 col3\" >0.8000</td>\n",
       "      <td id=\"T_3cedb_row0_col4\" class=\"data row0 col4\" >0.7500</td>\n",
       "      <td id=\"T_3cedb_row0_col5\" class=\"data row0 col5\" >0.7667</td>\n",
       "      <td id=\"T_3cedb_row0_col6\" class=\"data row0 col6\" >nan</td>\n",
       "      <td id=\"T_3cedb_row0_col7\" class=\"data row0 col7\" >0.7632</td>\n",
       "      <td id=\"T_3cedb_row0_col8\" class=\"data row0 col8\" >0.0770</td>\n",
       "    </tr>\n",
       "  </tbody>\n",
       "</table>\n"
      ],
      "text/plain": [
       "<pandas.io.formats.style.Styler at 0x27fe54eef90>"
      ]
     },
     "metadata": {},
     "output_type": "display_data"
    },
    {
     "data": {
      "application/vnd.jupyter.widget-view+json": {
       "model_id": "29e0dbb732e74dffb2fed59888dac571",
       "version_major": 2,
       "version_minor": 0
      },
      "text/plain": [
       "Processing:   0%|          | 0/9 [00:00<?, ?it/s]"
      ]
     },
     "metadata": {},
     "output_type": "display_data"
    },
    {
     "data": {
      "text/html": [],
      "text/plain": [
       "<IPython.core.display.HTML object>"
      ]
     },
     "metadata": {},
     "output_type": "display_data"
    },
    {
     "data": {
      "text/html": [],
      "text/plain": [
       "<IPython.core.display.HTML object>"
      ]
     },
     "metadata": {},
     "output_type": "display_data"
    },
    {
     "data": {
      "text/html": [],
      "text/plain": [
       "<IPython.core.display.HTML object>"
      ]
     },
     "metadata": {},
     "output_type": "display_data"
    },
    {
     "data": {
      "text/html": [
       "<style type=\"text/css\">\n",
       "#T_339f8 th {\n",
       "  text-align: left;\n",
       "}\n",
       "#T_339f8_row0_col0, #T_339f8_row0_col6 {\n",
       "  text-align: left;\n",
       "}\n",
       "#T_339f8_row0_col1, #T_339f8_row0_col2, #T_339f8_row0_col3, #T_339f8_row0_col4, #T_339f8_row0_col5, #T_339f8_row0_col7 {\n",
       "  text-align: left;\n",
       "  background-color: yellow;\n",
       "}\n",
       "#T_339f8_row0_col8 {\n",
       "  text-align: left;\n",
       "  background-color: yellow;\n",
       "  background-color: lightgrey;\n",
       "}\n",
       "</style>\n",
       "<table id=\"T_339f8\">\n",
       "  <thead>\n",
       "    <tr>\n",
       "      <th class=\"blank level0\" >&nbsp;</th>\n",
       "      <th id=\"T_339f8_level0_col0\" class=\"col_heading level0 col0\" >Model</th>\n",
       "      <th id=\"T_339f8_level0_col1\" class=\"col_heading level0 col1\" >Accuracy</th>\n",
       "      <th id=\"T_339f8_level0_col2\" class=\"col_heading level0 col2\" >AUC</th>\n",
       "      <th id=\"T_339f8_level0_col3\" class=\"col_heading level0 col3\" >Recall</th>\n",
       "      <th id=\"T_339f8_level0_col4\" class=\"col_heading level0 col4\" >Prec.</th>\n",
       "      <th id=\"T_339f8_level0_col5\" class=\"col_heading level0 col5\" >F1</th>\n",
       "      <th id=\"T_339f8_level0_col6\" class=\"col_heading level0 col6\" >Kappa</th>\n",
       "      <th id=\"T_339f8_level0_col7\" class=\"col_heading level0 col7\" >MCC</th>\n",
       "      <th id=\"T_339f8_level0_col8\" class=\"col_heading level0 col8\" >TT (Sec)</th>\n",
       "    </tr>\n",
       "  </thead>\n",
       "  <tbody>\n",
       "    <tr>\n",
       "      <th id=\"T_339f8_level0_row0\" class=\"row_heading level0 row0\" >xgboost</th>\n",
       "      <td id=\"T_339f8_row0_col0\" class=\"data row0 col0\" >Extreme Gradient Boosting</td>\n",
       "      <td id=\"T_339f8_row0_col1\" class=\"data row0 col1\" >0.9667</td>\n",
       "      <td id=\"T_339f8_row0_col2\" class=\"data row0 col2\" >0.9000</td>\n",
       "      <td id=\"T_339f8_row0_col3\" class=\"data row0 col3\" >0.8000</td>\n",
       "      <td id=\"T_339f8_row0_col4\" class=\"data row0 col4\" >0.7500</td>\n",
       "      <td id=\"T_339f8_row0_col5\" class=\"data row0 col5\" >0.7667</td>\n",
       "      <td id=\"T_339f8_row0_col6\" class=\"data row0 col6\" >nan</td>\n",
       "      <td id=\"T_339f8_row0_col7\" class=\"data row0 col7\" >0.7632</td>\n",
       "      <td id=\"T_339f8_row0_col8\" class=\"data row0 col8\" >0.0350</td>\n",
       "    </tr>\n",
       "  </tbody>\n",
       "</table>\n"
      ],
      "text/plain": [
       "<pandas.io.formats.style.Styler at 0x27fe0248d90>"
      ]
     },
     "metadata": {},
     "output_type": "display_data"
    },
    {
     "data": {
      "application/vnd.jupyter.widget-view+json": {
       "model_id": "902ecbe28ea0475cacb9c834fd9f3e5e",
       "version_major": 2,
       "version_minor": 0
      },
      "text/plain": [
       "Processing:   0%|          | 0/9 [00:00<?, ?it/s]"
      ]
     },
     "metadata": {},
     "output_type": "display_data"
    },
    {
     "data": {
      "text/html": [],
      "text/plain": [
       "<IPython.core.display.HTML object>"
      ]
     },
     "metadata": {},
     "output_type": "display_data"
    },
    {
     "data": {
      "text/html": [],
      "text/plain": [
       "<IPython.core.display.HTML object>"
      ]
     },
     "metadata": {},
     "output_type": "display_data"
    },
    {
     "data": {
      "text/html": [],
      "text/plain": [
       "<IPython.core.display.HTML object>"
      ]
     },
     "metadata": {},
     "output_type": "display_data"
    },
    {
     "data": {
      "text/html": [
       "<style type=\"text/css\">\n",
       "#T_c4d53 th {\n",
       "  text-align: left;\n",
       "}\n",
       "#T_c4d53_row0_col0, #T_c4d53_row0_col6 {\n",
       "  text-align: left;\n",
       "}\n",
       "#T_c4d53_row0_col1, #T_c4d53_row0_col2, #T_c4d53_row0_col3, #T_c4d53_row0_col4, #T_c4d53_row0_col5, #T_c4d53_row0_col7 {\n",
       "  text-align: left;\n",
       "  background-color: yellow;\n",
       "}\n",
       "#T_c4d53_row0_col8 {\n",
       "  text-align: left;\n",
       "  background-color: yellow;\n",
       "  background-color: lightgrey;\n",
       "}\n",
       "</style>\n",
       "<table id=\"T_c4d53\">\n",
       "  <thead>\n",
       "    <tr>\n",
       "      <th class=\"blank level0\" >&nbsp;</th>\n",
       "      <th id=\"T_c4d53_level0_col0\" class=\"col_heading level0 col0\" >Model</th>\n",
       "      <th id=\"T_c4d53_level0_col1\" class=\"col_heading level0 col1\" >Accuracy</th>\n",
       "      <th id=\"T_c4d53_level0_col2\" class=\"col_heading level0 col2\" >AUC</th>\n",
       "      <th id=\"T_c4d53_level0_col3\" class=\"col_heading level0 col3\" >Recall</th>\n",
       "      <th id=\"T_c4d53_level0_col4\" class=\"col_heading level0 col4\" >Prec.</th>\n",
       "      <th id=\"T_c4d53_level0_col5\" class=\"col_heading level0 col5\" >F1</th>\n",
       "      <th id=\"T_c4d53_level0_col6\" class=\"col_heading level0 col6\" >Kappa</th>\n",
       "      <th id=\"T_c4d53_level0_col7\" class=\"col_heading level0 col7\" >MCC</th>\n",
       "      <th id=\"T_c4d53_level0_col8\" class=\"col_heading level0 col8\" >TT (Sec)</th>\n",
       "    </tr>\n",
       "  </thead>\n",
       "  <tbody>\n",
       "    <tr>\n",
       "      <th id=\"T_c4d53_level0_row0\" class=\"row_heading level0 row0\" >lr</th>\n",
       "      <td id=\"T_c4d53_row0_col0\" class=\"data row0 col0\" >Logistic Regression</td>\n",
       "      <td id=\"T_c4d53_row0_col1\" class=\"data row0 col1\" >0.9524</td>\n",
       "      <td id=\"T_c4d53_row0_col2\" class=\"data row0 col2\" >0.8800</td>\n",
       "      <td id=\"T_c4d53_row0_col3\" class=\"data row0 col3\" >0.8000</td>\n",
       "      <td id=\"T_c4d53_row0_col4\" class=\"data row0 col4\" >0.7000</td>\n",
       "      <td id=\"T_c4d53_row0_col5\" class=\"data row0 col5\" >0.7333</td>\n",
       "      <td id=\"T_c4d53_row0_col6\" class=\"data row0 col6\" >nan</td>\n",
       "      <td id=\"T_c4d53_row0_col7\" class=\"data row0 col7\" >0.7278</td>\n",
       "      <td id=\"T_c4d53_row0_col8\" class=\"data row0 col8\" >0.0230</td>\n",
       "    </tr>\n",
       "  </tbody>\n",
       "</table>\n"
      ],
      "text/plain": [
       "<pandas.io.formats.style.Styler at 0x27fe1d59790>"
      ]
     },
     "metadata": {},
     "output_type": "display_data"
    },
    {
     "data": {
      "application/vnd.jupyter.widget-view+json": {
       "model_id": "aecfa928b9fc415f85bd10b3766a3504",
       "version_major": 2,
       "version_minor": 0
      },
      "text/plain": [
       "Processing:   0%|          | 0/9 [00:00<?, ?it/s]"
      ]
     },
     "metadata": {},
     "output_type": "display_data"
    },
    {
     "data": {
      "text/html": [],
      "text/plain": [
       "<IPython.core.display.HTML object>"
      ]
     },
     "metadata": {},
     "output_type": "display_data"
    },
    {
     "data": {
      "text/html": [],
      "text/plain": [
       "<IPython.core.display.HTML object>"
      ]
     },
     "metadata": {},
     "output_type": "display_data"
    },
    {
     "data": {
      "text/html": [],
      "text/plain": [
       "<IPython.core.display.HTML object>"
      ]
     },
     "metadata": {},
     "output_type": "display_data"
    },
    {
     "data": {
      "text/html": [
       "<style type=\"text/css\">\n",
       "#T_3f8a4 th {\n",
       "  text-align: left;\n",
       "}\n",
       "#T_3f8a4_row0_col0, #T_3f8a4_row0_col6 {\n",
       "  text-align: left;\n",
       "}\n",
       "#T_3f8a4_row0_col1, #T_3f8a4_row0_col2, #T_3f8a4_row0_col3, #T_3f8a4_row0_col4, #T_3f8a4_row0_col5, #T_3f8a4_row0_col7 {\n",
       "  text-align: left;\n",
       "  background-color: yellow;\n",
       "}\n",
       "#T_3f8a4_row0_col8 {\n",
       "  text-align: left;\n",
       "  background-color: yellow;\n",
       "  background-color: lightgrey;\n",
       "}\n",
       "</style>\n",
       "<table id=\"T_3f8a4\">\n",
       "  <thead>\n",
       "    <tr>\n",
       "      <th class=\"blank level0\" >&nbsp;</th>\n",
       "      <th id=\"T_3f8a4_level0_col0\" class=\"col_heading level0 col0\" >Model</th>\n",
       "      <th id=\"T_3f8a4_level0_col1\" class=\"col_heading level0 col1\" >Accuracy</th>\n",
       "      <th id=\"T_3f8a4_level0_col2\" class=\"col_heading level0 col2\" >AUC</th>\n",
       "      <th id=\"T_3f8a4_level0_col3\" class=\"col_heading level0 col3\" >Recall</th>\n",
       "      <th id=\"T_3f8a4_level0_col4\" class=\"col_heading level0 col4\" >Prec.</th>\n",
       "      <th id=\"T_3f8a4_level0_col5\" class=\"col_heading level0 col5\" >F1</th>\n",
       "      <th id=\"T_3f8a4_level0_col6\" class=\"col_heading level0 col6\" >Kappa</th>\n",
       "      <th id=\"T_3f8a4_level0_col7\" class=\"col_heading level0 col7\" >MCC</th>\n",
       "      <th id=\"T_3f8a4_level0_col8\" class=\"col_heading level0 col8\" >TT (Sec)</th>\n",
       "    </tr>\n",
       "  </thead>\n",
       "  <tbody>\n",
       "    <tr>\n",
       "      <th id=\"T_3f8a4_level0_row0\" class=\"row_heading level0 row0\" >nb</th>\n",
       "      <td id=\"T_3f8a4_row0_col0\" class=\"data row0 col0\" >Naive Bayes</td>\n",
       "      <td id=\"T_3f8a4_row0_col1\" class=\"data row0 col1\" >0.9524</td>\n",
       "      <td id=\"T_3f8a4_row0_col2\" class=\"data row0 col2\" >0.8900</td>\n",
       "      <td id=\"T_3f8a4_row0_col3\" class=\"data row0 col3\" >0.9000</td>\n",
       "      <td id=\"T_3f8a4_row0_col4\" class=\"data row0 col4\" >0.7500</td>\n",
       "      <td id=\"T_3f8a4_row0_col5\" class=\"data row0 col5\" >0.8000</td>\n",
       "      <td id=\"T_3f8a4_row0_col6\" class=\"data row0 col6\" >nan</td>\n",
       "      <td id=\"T_3f8a4_row0_col7\" class=\"data row0 col7\" >0.7910</td>\n",
       "      <td id=\"T_3f8a4_row0_col8\" class=\"data row0 col8\" >0.0150</td>\n",
       "    </tr>\n",
       "  </tbody>\n",
       "</table>\n"
      ],
      "text/plain": [
       "<pandas.io.formats.style.Styler at 0x27fe5615b10>"
      ]
     },
     "metadata": {},
     "output_type": "display_data"
    },
    {
     "data": {
      "application/vnd.jupyter.widget-view+json": {
       "model_id": "5bf39890ccb84bd4a7309f188e951957",
       "version_major": 2,
       "version_minor": 0
      },
      "text/plain": [
       "Processing:   0%|          | 0/9 [00:00<?, ?it/s]"
      ]
     },
     "metadata": {},
     "output_type": "display_data"
    },
    {
     "data": {
      "text/html": [],
      "text/plain": [
       "<IPython.core.display.HTML object>"
      ]
     },
     "metadata": {},
     "output_type": "display_data"
    },
    {
     "data": {
      "text/html": [],
      "text/plain": [
       "<IPython.core.display.HTML object>"
      ]
     },
     "metadata": {},
     "output_type": "display_data"
    },
    {
     "data": {
      "text/html": [],
      "text/plain": [
       "<IPython.core.display.HTML object>"
      ]
     },
     "metadata": {},
     "output_type": "display_data"
    },
    {
     "data": {
      "text/html": [
       "<style type=\"text/css\">\n",
       "#T_3ac11 th {\n",
       "  text-align: left;\n",
       "}\n",
       "#T_3ac11_row0_col0, #T_3ac11_row0_col6 {\n",
       "  text-align: left;\n",
       "}\n",
       "#T_3ac11_row0_col1, #T_3ac11_row0_col2, #T_3ac11_row0_col3, #T_3ac11_row0_col4, #T_3ac11_row0_col5, #T_3ac11_row0_col7 {\n",
       "  text-align: left;\n",
       "  background-color: yellow;\n",
       "}\n",
       "#T_3ac11_row0_col8 {\n",
       "  text-align: left;\n",
       "  background-color: yellow;\n",
       "  background-color: lightgrey;\n",
       "}\n",
       "</style>\n",
       "<table id=\"T_3ac11\">\n",
       "  <thead>\n",
       "    <tr>\n",
       "      <th class=\"blank level0\" >&nbsp;</th>\n",
       "      <th id=\"T_3ac11_level0_col0\" class=\"col_heading level0 col0\" >Model</th>\n",
       "      <th id=\"T_3ac11_level0_col1\" class=\"col_heading level0 col1\" >Accuracy</th>\n",
       "      <th id=\"T_3ac11_level0_col2\" class=\"col_heading level0 col2\" >AUC</th>\n",
       "      <th id=\"T_3ac11_level0_col3\" class=\"col_heading level0 col3\" >Recall</th>\n",
       "      <th id=\"T_3ac11_level0_col4\" class=\"col_heading level0 col4\" >Prec.</th>\n",
       "      <th id=\"T_3ac11_level0_col5\" class=\"col_heading level0 col5\" >F1</th>\n",
       "      <th id=\"T_3ac11_level0_col6\" class=\"col_heading level0 col6\" >Kappa</th>\n",
       "      <th id=\"T_3ac11_level0_col7\" class=\"col_heading level0 col7\" >MCC</th>\n",
       "      <th id=\"T_3ac11_level0_col8\" class=\"col_heading level0 col8\" >TT (Sec)</th>\n",
       "    </tr>\n",
       "  </thead>\n",
       "  <tbody>\n",
       "    <tr>\n",
       "      <th id=\"T_3ac11_level0_row0\" class=\"row_heading level0 row0\" >svm</th>\n",
       "      <td id=\"T_3ac11_row0_col0\" class=\"data row0 col0\" >SVM - Linear Kernel</td>\n",
       "      <td id=\"T_3ac11_row0_col1\" class=\"data row0 col1\" >0.9524</td>\n",
       "      <td id=\"T_3ac11_row0_col2\" class=\"data row0 col2\" >0.9000</td>\n",
       "      <td id=\"T_3ac11_row0_col3\" class=\"data row0 col3\" >0.7000</td>\n",
       "      <td id=\"T_3ac11_row0_col4\" class=\"data row0 col4\" >0.6500</td>\n",
       "      <td id=\"T_3ac11_row0_col5\" class=\"data row0 col5\" >0.6667</td>\n",
       "      <td id=\"T_3ac11_row0_col6\" class=\"data row0 col6\" >nan</td>\n",
       "      <td id=\"T_3ac11_row0_col7\" class=\"data row0 col7\" >0.6632</td>\n",
       "      <td id=\"T_3ac11_row0_col8\" class=\"data row0 col8\" >0.0200</td>\n",
       "    </tr>\n",
       "  </tbody>\n",
       "</table>\n"
      ],
      "text/plain": [
       "<pandas.io.formats.style.Styler at 0x27fe5703850>"
      ]
     },
     "metadata": {},
     "output_type": "display_data"
    },
    {
     "data": {
      "application/vnd.jupyter.widget-view+json": {
       "model_id": "60088373f3e940deb9710cc56044b304",
       "version_major": 2,
       "version_minor": 0
      },
      "text/plain": [
       "Processing:   0%|          | 0/9 [00:00<?, ?it/s]"
      ]
     },
     "metadata": {},
     "output_type": "display_data"
    },
    {
     "data": {
      "text/html": [],
      "text/plain": [
       "<IPython.core.display.HTML object>"
      ]
     },
     "metadata": {},
     "output_type": "display_data"
    },
    {
     "data": {
      "text/html": [],
      "text/plain": [
       "<IPython.core.display.HTML object>"
      ]
     },
     "metadata": {},
     "output_type": "display_data"
    },
    {
     "data": {
      "text/html": [],
      "text/plain": [
       "<IPython.core.display.HTML object>"
      ]
     },
     "metadata": {},
     "output_type": "display_data"
    },
    {
     "data": {
      "text/html": [
       "<style type=\"text/css\">\n",
       "#T_5e802 th {\n",
       "  text-align: left;\n",
       "}\n",
       "#T_5e802_row0_col0, #T_5e802_row0_col6 {\n",
       "  text-align: left;\n",
       "}\n",
       "#T_5e802_row0_col1, #T_5e802_row0_col2, #T_5e802_row0_col3, #T_5e802_row0_col4, #T_5e802_row0_col5, #T_5e802_row0_col7 {\n",
       "  text-align: left;\n",
       "  background-color: yellow;\n",
       "}\n",
       "#T_5e802_row0_col8 {\n",
       "  text-align: left;\n",
       "  background-color: yellow;\n",
       "  background-color: lightgrey;\n",
       "}\n",
       "</style>\n",
       "<table id=\"T_5e802\">\n",
       "  <thead>\n",
       "    <tr>\n",
       "      <th class=\"blank level0\" >&nbsp;</th>\n",
       "      <th id=\"T_5e802_level0_col0\" class=\"col_heading level0 col0\" >Model</th>\n",
       "      <th id=\"T_5e802_level0_col1\" class=\"col_heading level0 col1\" >Accuracy</th>\n",
       "      <th id=\"T_5e802_level0_col2\" class=\"col_heading level0 col2\" >AUC</th>\n",
       "      <th id=\"T_5e802_level0_col3\" class=\"col_heading level0 col3\" >Recall</th>\n",
       "      <th id=\"T_5e802_level0_col4\" class=\"col_heading level0 col4\" >Prec.</th>\n",
       "      <th id=\"T_5e802_level0_col5\" class=\"col_heading level0 col5\" >F1</th>\n",
       "      <th id=\"T_5e802_level0_col6\" class=\"col_heading level0 col6\" >Kappa</th>\n",
       "      <th id=\"T_5e802_level0_col7\" class=\"col_heading level0 col7\" >MCC</th>\n",
       "      <th id=\"T_5e802_level0_col8\" class=\"col_heading level0 col8\" >TT (Sec)</th>\n",
       "    </tr>\n",
       "  </thead>\n",
       "  <tbody>\n",
       "    <tr>\n",
       "      <th id=\"T_5e802_level0_row0\" class=\"row_heading level0 row0\" >lightgbm</th>\n",
       "      <td id=\"T_5e802_row0_col0\" class=\"data row0 col0\" >Light Gradient Boosting Machine</td>\n",
       "      <td id=\"T_5e802_row0_col1\" class=\"data row0 col1\" >0.9524</td>\n",
       "      <td id=\"T_5e802_row0_col2\" class=\"data row0 col2\" >0.8433</td>\n",
       "      <td id=\"T_5e802_row0_col3\" class=\"data row0 col3\" >0.6000</td>\n",
       "      <td id=\"T_5e802_row0_col4\" class=\"data row0 col4\" >0.6000</td>\n",
       "      <td id=\"T_5e802_row0_col5\" class=\"data row0 col5\" >0.6000</td>\n",
       "      <td id=\"T_5e802_row0_col6\" class=\"data row0 col6\" >nan</td>\n",
       "      <td id=\"T_5e802_row0_col7\" class=\"data row0 col7\" >0.6000</td>\n",
       "      <td id=\"T_5e802_row0_col8\" class=\"data row0 col8\" >0.0380</td>\n",
       "    </tr>\n",
       "  </tbody>\n",
       "</table>\n"
      ],
      "text/plain": [
       "<pandas.io.formats.style.Styler at 0x27fe21a6150>"
      ]
     },
     "metadata": {},
     "output_type": "display_data"
    },
    {
     "data": {
      "application/vnd.jupyter.widget-view+json": {
       "model_id": "d58c95d988d74344a159e0e278adfc6c",
       "version_major": 2,
       "version_minor": 0
      },
      "text/plain": [
       "Processing:   0%|          | 0/9 [00:00<?, ?it/s]"
      ]
     },
     "metadata": {},
     "output_type": "display_data"
    },
    {
     "data": {
      "text/html": [],
      "text/plain": [
       "<IPython.core.display.HTML object>"
      ]
     },
     "metadata": {},
     "output_type": "display_data"
    },
    {
     "data": {
      "text/html": [],
      "text/plain": [
       "<IPython.core.display.HTML object>"
      ]
     },
     "metadata": {},
     "output_type": "display_data"
    },
    {
     "data": {
      "text/html": [],
      "text/plain": [
       "<IPython.core.display.HTML object>"
      ]
     },
     "metadata": {},
     "output_type": "display_data"
    },
    {
     "data": {
      "text/html": [
       "<style type=\"text/css\">\n",
       "#T_272dc th {\n",
       "  text-align: left;\n",
       "}\n",
       "#T_272dc_row0_col0, #T_272dc_row0_col6 {\n",
       "  text-align: left;\n",
       "}\n",
       "#T_272dc_row0_col1, #T_272dc_row0_col2, #T_272dc_row0_col3, #T_272dc_row0_col4, #T_272dc_row0_col5, #T_272dc_row0_col7 {\n",
       "  text-align: left;\n",
       "  background-color: yellow;\n",
       "}\n",
       "#T_272dc_row0_col8 {\n",
       "  text-align: left;\n",
       "  background-color: yellow;\n",
       "  background-color: lightgrey;\n",
       "}\n",
       "</style>\n",
       "<table id=\"T_272dc\">\n",
       "  <thead>\n",
       "    <tr>\n",
       "      <th class=\"blank level0\" >&nbsp;</th>\n",
       "      <th id=\"T_272dc_level0_col0\" class=\"col_heading level0 col0\" >Model</th>\n",
       "      <th id=\"T_272dc_level0_col1\" class=\"col_heading level0 col1\" >Accuracy</th>\n",
       "      <th id=\"T_272dc_level0_col2\" class=\"col_heading level0 col2\" >AUC</th>\n",
       "      <th id=\"T_272dc_level0_col3\" class=\"col_heading level0 col3\" >Recall</th>\n",
       "      <th id=\"T_272dc_level0_col4\" class=\"col_heading level0 col4\" >Prec.</th>\n",
       "      <th id=\"T_272dc_level0_col5\" class=\"col_heading level0 col5\" >F1</th>\n",
       "      <th id=\"T_272dc_level0_col6\" class=\"col_heading level0 col6\" >Kappa</th>\n",
       "      <th id=\"T_272dc_level0_col7\" class=\"col_heading level0 col7\" >MCC</th>\n",
       "      <th id=\"T_272dc_level0_col8\" class=\"col_heading level0 col8\" >TT (Sec)</th>\n",
       "    </tr>\n",
       "  </thead>\n",
       "  <tbody>\n",
       "    <tr>\n",
       "      <th id=\"T_272dc_level0_row0\" class=\"row_heading level0 row0\" >dummy</th>\n",
       "      <td id=\"T_272dc_row0_col0\" class=\"data row0 col0\" >Dummy Classifier</td>\n",
       "      <td id=\"T_272dc_row0_col1\" class=\"data row0 col1\" >0.8571</td>\n",
       "      <td id=\"T_272dc_row0_col2\" class=\"data row0 col2\" >0.4500</td>\n",
       "      <td id=\"T_272dc_row0_col3\" class=\"data row0 col3\" >0.0000</td>\n",
       "      <td id=\"T_272dc_row0_col4\" class=\"data row0 col4\" >0.0000</td>\n",
       "      <td id=\"T_272dc_row0_col5\" class=\"data row0 col5\" >0.0000</td>\n",
       "      <td id=\"T_272dc_row0_col6\" class=\"data row0 col6\" >nan</td>\n",
       "      <td id=\"T_272dc_row0_col7\" class=\"data row0 col7\" >0.0000</td>\n",
       "      <td id=\"T_272dc_row0_col8\" class=\"data row0 col8\" >0.0160</td>\n",
       "    </tr>\n",
       "  </tbody>\n",
       "</table>\n"
      ],
      "text/plain": [
       "<pandas.io.formats.style.Styler at 0x27fe2a05650>"
      ]
     },
     "metadata": {},
     "output_type": "display_data"
    },
    {
     "data": {
      "application/vnd.jupyter.widget-view+json": {
       "model_id": "a21a95075a034102a7508b88bc78ac4e",
       "version_major": 2,
       "version_minor": 0
      },
      "text/plain": [
       "Processing:   0%|          | 0/9 [00:00<?, ?it/s]"
      ]
     },
     "metadata": {},
     "output_type": "display_data"
    },
    {
     "data": {
      "text/html": [],
      "text/plain": [
       "<IPython.core.display.HTML object>"
      ]
     },
     "metadata": {},
     "output_type": "display_data"
    },
    {
     "data": {
      "text/html": [],
      "text/plain": [
       "<IPython.core.display.HTML object>"
      ]
     },
     "metadata": {},
     "output_type": "display_data"
    }
   ],
   "source": [
    "import pandas as pd\n",
    "from pycaret.classification import setup, compare_models, predict_model, finalize_model, pull\n",
    "from sklearn.metrics import accuracy_score, f1_score\n",
    "from sklearn.model_selection import train_test_split\n",
    "import joblib\n",
    "\n",
    "# Load the CSV file into a DataFrame\n",
    "df = pd.read_csv('../data/players_df_sin_reco.csv')\n",
    "\n",
    "# Select features (columns 7 to 20, 0-based index: 6 to 19)\n",
    "X = df.iloc[:, 6:20]\n",
    "\n",
    "# Select the 11th column from the end as the target\n",
    "y = df.iloc[:, -11]\n",
    "\n",
    "# Split data into training and testing sets\n",
    "X_train, X_test, y_train, y_test = train_test_split(X, y, test_size=0.2, random_state=42)\n",
    "\n",
    "# Create an empty DataFrame to store results\n",
    "traditionalkeeper_df = pd.DataFrame(columns=['model', 'train_accuracy', 'test_accuracy', 'train_f1', 'test_f1', 'TT'])\n",
    "\n",
    "# Concatenate X_train and y_train into a DataFrame for PyCaret setup\n",
    "df_target = pd.concat([X_train, y_train], axis=1)\n",
    "\n",
    "# Setup PyCaret environment\n",
    "clf = setup(data=df_target, target=y.name, session_id=42)\n",
    "\n",
    "# Compare different models and store the results\n",
    "best_model = compare_models()  # This returns the top model\n",
    "compare_results = pull()  # Pulls all model results as a DataFrame\n",
    "\n",
    "# Define the mapping from model names to PyCaret identifiers\n",
    "model_mapping = {\n",
    "    'K Neighbors Classifier': 'knn',\n",
    "    'Random Forest Classifier': 'rf',\n",
    "    'Logistic Regression': 'lr',\n",
    "    'Decision Tree Classifier': 'dt',\n",
    "    'Ada Boost Classifier': 'ada',\n",
    "    'Gradient Boosting Classifier': 'gbc',\n",
    "    'Naive Bayes': 'nb',\n",
    "    'SVM - Linear Kernel': 'svm',\n",
    "    'Extra Trees Classifier': 'et',\n",
    "    'Light Gradient Boosting Machine': 'lightgbm',\n",
    "    'Ridge Classifier': 'ridge',\n",
    "    'Linear Discriminant Analysis': 'lda',\n",
    "    'Extreme Gradient Boosting': 'xgboost',\n",
    "    'Dummy Classifier': 'dummy'\n",
    "}\n",
    "\n",
    "# Loop over each model in the compare_results DataFrame\n",
    "for idx, row in compare_results.iterrows():\n",
    "    model_name = row['Model']\n",
    "    testing_time = row['TT (Sec)']\n",
    "\n",
    "    # Get the PyCaret identifier for the model\n",
    "    model_identifier = model_mapping.get(model_name)\n",
    "\n",
    "    # Instead of finalizing by the model name, select the model by identifier\n",
    "    if model_identifier:\n",
    "        best_model = compare_models(include=[model_identifier], n_select=1)\n",
    "\n",
    "        # Finalize the model (train it on the entire dataset)\n",
    "        final_model = finalize_model(best_model)\n",
    "\n",
    "        # Predict on train and test sets\n",
    "        predictions_train = predict_model(final_model, data=X_train)\n",
    "        predictions_test = predict_model(final_model, data=X_test)\n",
    "\n",
    "        # Calculate test accuracy and F1 score\n",
    "        y_pred_test = predictions_test['prediction_label']\n",
    "        test_accuracy = accuracy_score(y_test, y_pred_test)\n",
    "        test_f1 = f1_score(y_test, y_pred_test, average='weighted')\n",
    "\n",
    "        # Calculate train accuracy and F1 score\n",
    "        y_pred_train = predictions_train['prediction_label']\n",
    "        train_accuracy = accuracy_score(y_train, y_pred_train)\n",
    "        train_f1 = f1_score(y_train, y_pred_train, average='weighted')\n",
    "\n",
    "        # Append the metrics for each model to the results DataFrame\n",
    "        new_row = pd.DataFrame({\n",
    "            'model': model_name,\n",
    "            'train_accuracy': train_accuracy,\n",
    "            'test_accuracy': test_accuracy,\n",
    "            'train_f1': train_f1,\n",
    "            'test_f1': test_f1,\n",
    "            'TT': testing_time\n",
    "        }, index=[0])\n",
    "\n",
    "        traditionalkeeper_df = pd.concat([traditionalkeeper_df, new_row], ignore_index=True)\n"
   ]
  },
  {
   "cell_type": "code",
   "execution_count": 13,
   "metadata": {},
   "outputs": [
    {
     "data": {
      "text/html": [
       "<div>\n",
       "<style scoped>\n",
       "    .dataframe tbody tr th:only-of-type {\n",
       "        vertical-align: middle;\n",
       "    }\n",
       "\n",
       "    .dataframe tbody tr th {\n",
       "        vertical-align: top;\n",
       "    }\n",
       "\n",
       "    .dataframe thead th {\n",
       "        text-align: right;\n",
       "    }\n",
       "</style>\n",
       "<table border=\"1\" class=\"dataframe\">\n",
       "  <thead>\n",
       "    <tr style=\"text-align: right;\">\n",
       "      <th></th>\n",
       "      <th>model</th>\n",
       "      <th>train_accuracy</th>\n",
       "      <th>test_accuracy</th>\n",
       "      <th>train_f1</th>\n",
       "      <th>test_f1</th>\n",
       "      <th>TT</th>\n",
       "    </tr>\n",
       "  </thead>\n",
       "  <tbody>\n",
       "    <tr>\n",
       "      <th>0</th>\n",
       "      <td>K Neighbors Classifier</td>\n",
       "      <td>0.978022</td>\n",
       "      <td>1.000000</td>\n",
       "      <td>0.978664</td>\n",
       "      <td>1.000000</td>\n",
       "      <td>0.034</td>\n",
       "    </tr>\n",
       "    <tr>\n",
       "      <th>1</th>\n",
       "      <td>Decision Tree Classifier</td>\n",
       "      <td>1.000000</td>\n",
       "      <td>1.000000</td>\n",
       "      <td>1.000000</td>\n",
       "      <td>1.000000</td>\n",
       "      <td>0.016</td>\n",
       "    </tr>\n",
       "    <tr>\n",
       "      <th>2</th>\n",
       "      <td>Ridge Classifier</td>\n",
       "      <td>0.978022</td>\n",
       "      <td>1.000000</td>\n",
       "      <td>0.978664</td>\n",
       "      <td>1.000000</td>\n",
       "      <td>0.015</td>\n",
       "    </tr>\n",
       "    <tr>\n",
       "      <th>3</th>\n",
       "      <td>Random Forest Classifier</td>\n",
       "      <td>1.000000</td>\n",
       "      <td>1.000000</td>\n",
       "      <td>1.000000</td>\n",
       "      <td>1.000000</td>\n",
       "      <td>0.096</td>\n",
       "    </tr>\n",
       "    <tr>\n",
       "      <th>4</th>\n",
       "      <td>Linear Discriminant Analysis</td>\n",
       "      <td>0.978022</td>\n",
       "      <td>1.000000</td>\n",
       "      <td>0.978664</td>\n",
       "      <td>1.000000</td>\n",
       "      <td>0.015</td>\n",
       "    </tr>\n",
       "    <tr>\n",
       "      <th>5</th>\n",
       "      <td>Ada Boost Classifier</td>\n",
       "      <td>1.000000</td>\n",
       "      <td>1.000000</td>\n",
       "      <td>1.000000</td>\n",
       "      <td>1.000000</td>\n",
       "      <td>0.058</td>\n",
       "    </tr>\n",
       "    <tr>\n",
       "      <th>6</th>\n",
       "      <td>Gradient Boosting Classifier</td>\n",
       "      <td>1.000000</td>\n",
       "      <td>1.000000</td>\n",
       "      <td>1.000000</td>\n",
       "      <td>1.000000</td>\n",
       "      <td>0.080</td>\n",
       "    </tr>\n",
       "    <tr>\n",
       "      <th>7</th>\n",
       "      <td>Extra Trees Classifier</td>\n",
       "      <td>1.000000</td>\n",
       "      <td>1.000000</td>\n",
       "      <td>1.000000</td>\n",
       "      <td>1.000000</td>\n",
       "      <td>0.083</td>\n",
       "    </tr>\n",
       "    <tr>\n",
       "      <th>8</th>\n",
       "      <td>Extreme Gradient Boosting</td>\n",
       "      <td>1.000000</td>\n",
       "      <td>1.000000</td>\n",
       "      <td>1.000000</td>\n",
       "      <td>1.000000</td>\n",
       "      <td>0.025</td>\n",
       "    </tr>\n",
       "    <tr>\n",
       "      <th>9</th>\n",
       "      <td>Logistic Regression</td>\n",
       "      <td>1.000000</td>\n",
       "      <td>1.000000</td>\n",
       "      <td>1.000000</td>\n",
       "      <td>1.000000</td>\n",
       "      <td>0.030</td>\n",
       "    </tr>\n",
       "    <tr>\n",
       "      <th>10</th>\n",
       "      <td>Naive Bayes</td>\n",
       "      <td>0.857143</td>\n",
       "      <td>0.913043</td>\n",
       "      <td>0.874459</td>\n",
       "      <td>0.925362</td>\n",
       "      <td>0.019</td>\n",
       "    </tr>\n",
       "    <tr>\n",
       "      <th>11</th>\n",
       "      <td>SVM - Linear Kernel</td>\n",
       "      <td>1.000000</td>\n",
       "      <td>1.000000</td>\n",
       "      <td>1.000000</td>\n",
       "      <td>1.000000</td>\n",
       "      <td>0.020</td>\n",
       "    </tr>\n",
       "    <tr>\n",
       "      <th>12</th>\n",
       "      <td>Light Gradient Boosting Machine</td>\n",
       "      <td>1.000000</td>\n",
       "      <td>0.956522</td>\n",
       "      <td>1.000000</td>\n",
       "      <td>0.949781</td>\n",
       "      <td>0.039</td>\n",
       "    </tr>\n",
       "    <tr>\n",
       "      <th>13</th>\n",
       "      <td>Dummy Classifier</td>\n",
       "      <td>0.857143</td>\n",
       "      <td>0.913043</td>\n",
       "      <td>0.791209</td>\n",
       "      <td>0.871542</td>\n",
       "      <td>0.018</td>\n",
       "    </tr>\n",
       "  </tbody>\n",
       "</table>\n",
       "</div>"
      ],
      "text/plain": [
       "                              model  train_accuracy  test_accuracy  train_f1  \\\n",
       "0            K Neighbors Classifier        0.978022       1.000000  0.978664   \n",
       "1          Decision Tree Classifier        1.000000       1.000000  1.000000   \n",
       "2                  Ridge Classifier        0.978022       1.000000  0.978664   \n",
       "3          Random Forest Classifier        1.000000       1.000000  1.000000   \n",
       "4      Linear Discriminant Analysis        0.978022       1.000000  0.978664   \n",
       "5              Ada Boost Classifier        1.000000       1.000000  1.000000   \n",
       "6      Gradient Boosting Classifier        1.000000       1.000000  1.000000   \n",
       "7            Extra Trees Classifier        1.000000       1.000000  1.000000   \n",
       "8         Extreme Gradient Boosting        1.000000       1.000000  1.000000   \n",
       "9               Logistic Regression        1.000000       1.000000  1.000000   \n",
       "10                      Naive Bayes        0.857143       0.913043  0.874459   \n",
       "11              SVM - Linear Kernel        1.000000       1.000000  1.000000   \n",
       "12  Light Gradient Boosting Machine        1.000000       0.956522  1.000000   \n",
       "13                 Dummy Classifier        0.857143       0.913043  0.791209   \n",
       "\n",
       "     test_f1     TT  \n",
       "0   1.000000  0.034  \n",
       "1   1.000000  0.016  \n",
       "2   1.000000  0.015  \n",
       "3   1.000000  0.096  \n",
       "4   1.000000  0.015  \n",
       "5   1.000000  0.058  \n",
       "6   1.000000  0.080  \n",
       "7   1.000000  0.083  \n",
       "8   1.000000  0.025  \n",
       "9   1.000000  0.030  \n",
       "10  0.925362  0.019  \n",
       "11  1.000000  0.020  \n",
       "12  0.949781  0.039  \n",
       "13  0.871542  0.018  "
      ]
     },
     "execution_count": 13,
     "metadata": {},
     "output_type": "execute_result"
    }
   ],
   "source": [
    "traditionalkeeper_df"
   ]
  },
  {
   "cell_type": "markdown",
   "metadata": {},
   "source": [
    "## Sweeper Keeper"
   ]
  },
  {
   "cell_type": "code",
   "execution_count": 15,
   "metadata": {},
   "outputs": [
    {
     "data": {
      "text/html": [
       "<style type=\"text/css\">\n",
       "#T_61cff_row8_col1 {\n",
       "  background-color: lightgreen;\n",
       "}\n",
       "</style>\n",
       "<table id=\"T_61cff\">\n",
       "  <thead>\n",
       "    <tr>\n",
       "      <th class=\"blank level0\" >&nbsp;</th>\n",
       "      <th id=\"T_61cff_level0_col0\" class=\"col_heading level0 col0\" >Description</th>\n",
       "      <th id=\"T_61cff_level0_col1\" class=\"col_heading level0 col1\" >Value</th>\n",
       "    </tr>\n",
       "  </thead>\n",
       "  <tbody>\n",
       "    <tr>\n",
       "      <th id=\"T_61cff_level0_row0\" class=\"row_heading level0 row0\" >0</th>\n",
       "      <td id=\"T_61cff_row0_col0\" class=\"data row0 col0\" >Session id</td>\n",
       "      <td id=\"T_61cff_row0_col1\" class=\"data row0 col1\" >42</td>\n",
       "    </tr>\n",
       "    <tr>\n",
       "      <th id=\"T_61cff_level0_row1\" class=\"row_heading level0 row1\" >1</th>\n",
       "      <td id=\"T_61cff_row1_col0\" class=\"data row1 col0\" >Target</td>\n",
       "      <td id=\"T_61cff_row1_col1\" class=\"data row1 col1\" >Class_Sweeper Keeper</td>\n",
       "    </tr>\n",
       "    <tr>\n",
       "      <th id=\"T_61cff_level0_row2\" class=\"row_heading level0 row2\" >2</th>\n",
       "      <td id=\"T_61cff_row2_col0\" class=\"data row2 col0\" >Target type</td>\n",
       "      <td id=\"T_61cff_row2_col1\" class=\"data row2 col1\" >Binary</td>\n",
       "    </tr>\n",
       "    <tr>\n",
       "      <th id=\"T_61cff_level0_row3\" class=\"row_heading level0 row3\" >3</th>\n",
       "      <td id=\"T_61cff_row3_col0\" class=\"data row3 col0\" >Original data shape</td>\n",
       "      <td id=\"T_61cff_row3_col1\" class=\"data row3 col1\" >(91, 15)</td>\n",
       "    </tr>\n",
       "    <tr>\n",
       "      <th id=\"T_61cff_level0_row4\" class=\"row_heading level0 row4\" >4</th>\n",
       "      <td id=\"T_61cff_row4_col0\" class=\"data row4 col0\" >Transformed data shape</td>\n",
       "      <td id=\"T_61cff_row4_col1\" class=\"data row4 col1\" >(91, 15)</td>\n",
       "    </tr>\n",
       "    <tr>\n",
       "      <th id=\"T_61cff_level0_row5\" class=\"row_heading level0 row5\" >5</th>\n",
       "      <td id=\"T_61cff_row5_col0\" class=\"data row5 col0\" >Transformed train set shape</td>\n",
       "      <td id=\"T_61cff_row5_col1\" class=\"data row5 col1\" >(63, 15)</td>\n",
       "    </tr>\n",
       "    <tr>\n",
       "      <th id=\"T_61cff_level0_row6\" class=\"row_heading level0 row6\" >6</th>\n",
       "      <td id=\"T_61cff_row6_col0\" class=\"data row6 col0\" >Transformed test set shape</td>\n",
       "      <td id=\"T_61cff_row6_col1\" class=\"data row6 col1\" >(28, 15)</td>\n",
       "    </tr>\n",
       "    <tr>\n",
       "      <th id=\"T_61cff_level0_row7\" class=\"row_heading level0 row7\" >7</th>\n",
       "      <td id=\"T_61cff_row7_col0\" class=\"data row7 col0\" >Numeric features</td>\n",
       "      <td id=\"T_61cff_row7_col1\" class=\"data row7 col1\" >14</td>\n",
       "    </tr>\n",
       "    <tr>\n",
       "      <th id=\"T_61cff_level0_row8\" class=\"row_heading level0 row8\" >8</th>\n",
       "      <td id=\"T_61cff_row8_col0\" class=\"data row8 col0\" >Preprocess</td>\n",
       "      <td id=\"T_61cff_row8_col1\" class=\"data row8 col1\" >True</td>\n",
       "    </tr>\n",
       "    <tr>\n",
       "      <th id=\"T_61cff_level0_row9\" class=\"row_heading level0 row9\" >9</th>\n",
       "      <td id=\"T_61cff_row9_col0\" class=\"data row9 col0\" >Imputation type</td>\n",
       "      <td id=\"T_61cff_row9_col1\" class=\"data row9 col1\" >simple</td>\n",
       "    </tr>\n",
       "    <tr>\n",
       "      <th id=\"T_61cff_level0_row10\" class=\"row_heading level0 row10\" >10</th>\n",
       "      <td id=\"T_61cff_row10_col0\" class=\"data row10 col0\" >Numeric imputation</td>\n",
       "      <td id=\"T_61cff_row10_col1\" class=\"data row10 col1\" >mean</td>\n",
       "    </tr>\n",
       "    <tr>\n",
       "      <th id=\"T_61cff_level0_row11\" class=\"row_heading level0 row11\" >11</th>\n",
       "      <td id=\"T_61cff_row11_col0\" class=\"data row11 col0\" >Categorical imputation</td>\n",
       "      <td id=\"T_61cff_row11_col1\" class=\"data row11 col1\" >mode</td>\n",
       "    </tr>\n",
       "    <tr>\n",
       "      <th id=\"T_61cff_level0_row12\" class=\"row_heading level0 row12\" >12</th>\n",
       "      <td id=\"T_61cff_row12_col0\" class=\"data row12 col0\" >Fold Generator</td>\n",
       "      <td id=\"T_61cff_row12_col1\" class=\"data row12 col1\" >StratifiedKFold</td>\n",
       "    </tr>\n",
       "    <tr>\n",
       "      <th id=\"T_61cff_level0_row13\" class=\"row_heading level0 row13\" >13</th>\n",
       "      <td id=\"T_61cff_row13_col0\" class=\"data row13 col0\" >Fold Number</td>\n",
       "      <td id=\"T_61cff_row13_col1\" class=\"data row13 col1\" >10</td>\n",
       "    </tr>\n",
       "    <tr>\n",
       "      <th id=\"T_61cff_level0_row14\" class=\"row_heading level0 row14\" >14</th>\n",
       "      <td id=\"T_61cff_row14_col0\" class=\"data row14 col0\" >CPU Jobs</td>\n",
       "      <td id=\"T_61cff_row14_col1\" class=\"data row14 col1\" >-1</td>\n",
       "    </tr>\n",
       "    <tr>\n",
       "      <th id=\"T_61cff_level0_row15\" class=\"row_heading level0 row15\" >15</th>\n",
       "      <td id=\"T_61cff_row15_col0\" class=\"data row15 col0\" >Use GPU</td>\n",
       "      <td id=\"T_61cff_row15_col1\" class=\"data row15 col1\" >False</td>\n",
       "    </tr>\n",
       "    <tr>\n",
       "      <th id=\"T_61cff_level0_row16\" class=\"row_heading level0 row16\" >16</th>\n",
       "      <td id=\"T_61cff_row16_col0\" class=\"data row16 col0\" >Log Experiment</td>\n",
       "      <td id=\"T_61cff_row16_col1\" class=\"data row16 col1\" >False</td>\n",
       "    </tr>\n",
       "    <tr>\n",
       "      <th id=\"T_61cff_level0_row17\" class=\"row_heading level0 row17\" >17</th>\n",
       "      <td id=\"T_61cff_row17_col0\" class=\"data row17 col0\" >Experiment Name</td>\n",
       "      <td id=\"T_61cff_row17_col1\" class=\"data row17 col1\" >clf-default-name</td>\n",
       "    </tr>\n",
       "    <tr>\n",
       "      <th id=\"T_61cff_level0_row18\" class=\"row_heading level0 row18\" >18</th>\n",
       "      <td id=\"T_61cff_row18_col0\" class=\"data row18 col0\" >USI</td>\n",
       "      <td id=\"T_61cff_row18_col1\" class=\"data row18 col1\" >f568</td>\n",
       "    </tr>\n",
       "  </tbody>\n",
       "</table>\n"
      ],
      "text/plain": [
       "<pandas.io.formats.style.Styler at 0x27fe53c4a50>"
      ]
     },
     "metadata": {},
     "output_type": "display_data"
    },
    {
     "data": {
      "text/html": [],
      "text/plain": [
       "<IPython.core.display.HTML object>"
      ]
     },
     "metadata": {},
     "output_type": "display_data"
    },
    {
     "data": {
      "text/html": [
       "<style type=\"text/css\">\n",
       "#T_14108 th {\n",
       "  text-align: left;\n",
       "}\n",
       "#T_14108_row0_col0, #T_14108_row1_col0, #T_14108_row1_col1, #T_14108_row1_col3, #T_14108_row1_col5, #T_14108_row1_col6, #T_14108_row1_col7, #T_14108_row2_col0, #T_14108_row2_col1, #T_14108_row2_col2, #T_14108_row2_col3, #T_14108_row2_col5, #T_14108_row2_col6, #T_14108_row2_col7, #T_14108_row3_col0, #T_14108_row3_col1, #T_14108_row3_col3, #T_14108_row3_col5, #T_14108_row3_col6, #T_14108_row3_col7, #T_14108_row4_col0, #T_14108_row4_col1, #T_14108_row4_col2, #T_14108_row4_col3, #T_14108_row4_col4, #T_14108_row4_col5, #T_14108_row4_col6, #T_14108_row4_col7, #T_14108_row5_col0, #T_14108_row5_col1, #T_14108_row5_col2, #T_14108_row5_col3, #T_14108_row5_col4, #T_14108_row5_col5, #T_14108_row5_col6, #T_14108_row5_col7, #T_14108_row6_col0, #T_14108_row6_col1, #T_14108_row6_col2, #T_14108_row6_col3, #T_14108_row6_col4, #T_14108_row6_col5, #T_14108_row6_col6, #T_14108_row6_col7, #T_14108_row7_col0, #T_14108_row7_col1, #T_14108_row7_col2, #T_14108_row7_col3, #T_14108_row7_col4, #T_14108_row7_col5, #T_14108_row7_col6, #T_14108_row7_col7, #T_14108_row8_col0, #T_14108_row8_col1, #T_14108_row8_col2, #T_14108_row8_col3, #T_14108_row8_col4, #T_14108_row8_col5, #T_14108_row8_col6, #T_14108_row8_col7, #T_14108_row9_col0, #T_14108_row9_col1, #T_14108_row9_col2, #T_14108_row9_col3, #T_14108_row9_col4, #T_14108_row9_col5, #T_14108_row9_col6, #T_14108_row9_col7, #T_14108_row10_col0, #T_14108_row10_col1, #T_14108_row10_col2, #T_14108_row10_col3, #T_14108_row10_col4, #T_14108_row10_col5, #T_14108_row10_col6, #T_14108_row10_col7, #T_14108_row11_col0, #T_14108_row11_col1, #T_14108_row11_col2, #T_14108_row11_col3, #T_14108_row11_col4, #T_14108_row11_col5, #T_14108_row11_col6, #T_14108_row11_col7, #T_14108_row12_col0, #T_14108_row12_col1, #T_14108_row12_col2, #T_14108_row12_col3, #T_14108_row12_col4, #T_14108_row12_col5, #T_14108_row12_col6, #T_14108_row12_col7, #T_14108_row13_col0, #T_14108_row13_col1, #T_14108_row13_col2, #T_14108_row13_col3, #T_14108_row13_col4, #T_14108_row13_col5, #T_14108_row13_col6, #T_14108_row13_col7, #T_14108_row14_col0, #T_14108_row14_col1, #T_14108_row14_col2, #T_14108_row14_col3, #T_14108_row14_col4, #T_14108_row14_col5, #T_14108_row14_col6, #T_14108_row14_col7 {\n",
       "  text-align: left;\n",
       "}\n",
       "#T_14108_row0_col1, #T_14108_row0_col2, #T_14108_row0_col3, #T_14108_row0_col4, #T_14108_row0_col5, #T_14108_row0_col6, #T_14108_row0_col7, #T_14108_row1_col2, #T_14108_row1_col4, #T_14108_row2_col4, #T_14108_row3_col2, #T_14108_row3_col4 {\n",
       "  text-align: left;\n",
       "  background-color: yellow;\n",
       "}\n",
       "#T_14108_row0_col8, #T_14108_row1_col8, #T_14108_row2_col8, #T_14108_row3_col8, #T_14108_row4_col8, #T_14108_row5_col8, #T_14108_row6_col8, #T_14108_row7_col8, #T_14108_row8_col8, #T_14108_row9_col8, #T_14108_row10_col8, #T_14108_row11_col8, #T_14108_row12_col8, #T_14108_row13_col8 {\n",
       "  text-align: left;\n",
       "  background-color: lightgrey;\n",
       "}\n",
       "#T_14108_row14_col8 {\n",
       "  text-align: left;\n",
       "  background-color: yellow;\n",
       "  background-color: lightgrey;\n",
       "}\n",
       "</style>\n",
       "<table id=\"T_14108\">\n",
       "  <thead>\n",
       "    <tr>\n",
       "      <th class=\"blank level0\" >&nbsp;</th>\n",
       "      <th id=\"T_14108_level0_col0\" class=\"col_heading level0 col0\" >Model</th>\n",
       "      <th id=\"T_14108_level0_col1\" class=\"col_heading level0 col1\" >Accuracy</th>\n",
       "      <th id=\"T_14108_level0_col2\" class=\"col_heading level0 col2\" >AUC</th>\n",
       "      <th id=\"T_14108_level0_col3\" class=\"col_heading level0 col3\" >Recall</th>\n",
       "      <th id=\"T_14108_level0_col4\" class=\"col_heading level0 col4\" >Prec.</th>\n",
       "      <th id=\"T_14108_level0_col5\" class=\"col_heading level0 col5\" >F1</th>\n",
       "      <th id=\"T_14108_level0_col6\" class=\"col_heading level0 col6\" >Kappa</th>\n",
       "      <th id=\"T_14108_level0_col7\" class=\"col_heading level0 col7\" >MCC</th>\n",
       "      <th id=\"T_14108_level0_col8\" class=\"col_heading level0 col8\" >TT (Sec)</th>\n",
       "    </tr>\n",
       "  </thead>\n",
       "  <tbody>\n",
       "    <tr>\n",
       "      <th id=\"T_14108_level0_row0\" class=\"row_heading level0 row0\" >lr</th>\n",
       "      <td id=\"T_14108_row0_col0\" class=\"data row0 col0\" >Logistic Regression</td>\n",
       "      <td id=\"T_14108_row0_col1\" class=\"data row0 col1\" >0.9833</td>\n",
       "      <td id=\"T_14108_row0_col2\" class=\"data row0 col2\" >0.9875</td>\n",
       "      <td id=\"T_14108_row0_col3\" class=\"data row0 col3\" >0.9500</td>\n",
       "      <td id=\"T_14108_row0_col4\" class=\"data row0 col4\" >1.0000</td>\n",
       "      <td id=\"T_14108_row0_col5\" class=\"data row0 col5\" >0.9667</td>\n",
       "      <td id=\"T_14108_row0_col6\" class=\"data row0 col6\" >0.9571</td>\n",
       "      <td id=\"T_14108_row0_col7\" class=\"data row0 col7\" >0.9632</td>\n",
       "      <td id=\"T_14108_row0_col8\" class=\"data row0 col8\" >1.3730</td>\n",
       "    </tr>\n",
       "    <tr>\n",
       "      <th id=\"T_14108_level0_row1\" class=\"row_heading level0 row1\" >et</th>\n",
       "      <td id=\"T_14108_row1_col0\" class=\"data row1 col0\" >Extra Trees Classifier</td>\n",
       "      <td id=\"T_14108_row1_col1\" class=\"data row1 col1\" >0.9548</td>\n",
       "      <td id=\"T_14108_row1_col2\" class=\"data row1 col2\" >0.9875</td>\n",
       "      <td id=\"T_14108_row1_col3\" class=\"data row1 col3\" >0.8500</td>\n",
       "      <td id=\"T_14108_row1_col4\" class=\"data row1 col4\" >1.0000</td>\n",
       "      <td id=\"T_14108_row1_col5\" class=\"data row1 col5\" >0.9000</td>\n",
       "      <td id=\"T_14108_row1_col6\" class=\"data row1 col6\" >0.8748</td>\n",
       "      <td id=\"T_14108_row1_col7\" class=\"data row1 col7\" >0.8923</td>\n",
       "      <td id=\"T_14108_row1_col8\" class=\"data row1 col8\" >0.1100</td>\n",
       "    </tr>\n",
       "    <tr>\n",
       "      <th id=\"T_14108_level0_row2\" class=\"row_heading level0 row2\" >nb</th>\n",
       "      <td id=\"T_14108_row2_col0\" class=\"data row2 col0\" >Naive Bayes</td>\n",
       "      <td id=\"T_14108_row2_col1\" class=\"data row2 col1\" >0.9238</td>\n",
       "      <td id=\"T_14108_row2_col2\" class=\"data row2 col2\" >0.9600</td>\n",
       "      <td id=\"T_14108_row2_col3\" class=\"data row2 col3\" >0.7500</td>\n",
       "      <td id=\"T_14108_row2_col4\" class=\"data row2 col4\" >1.0000</td>\n",
       "      <td id=\"T_14108_row2_col5\" class=\"data row2 col5\" >0.8333</td>\n",
       "      <td id=\"T_14108_row2_col6\" class=\"data row2 col6\" >0.7908</td>\n",
       "      <td id=\"T_14108_row2_col7\" class=\"data row2 col7\" >0.8201</td>\n",
       "      <td id=\"T_14108_row2_col8\" class=\"data row2 col8\" >0.0140</td>\n",
       "    </tr>\n",
       "    <tr>\n",
       "      <th id=\"T_14108_level0_row3\" class=\"row_heading level0 row3\" >rf</th>\n",
       "      <td id=\"T_14108_row3_col0\" class=\"data row3 col0\" >Random Forest Classifier</td>\n",
       "      <td id=\"T_14108_row3_col1\" class=\"data row3 col1\" >0.9238</td>\n",
       "      <td id=\"T_14108_row3_col2\" class=\"data row3 col2\" >0.9875</td>\n",
       "      <td id=\"T_14108_row3_col3\" class=\"data row3 col3\" >0.7500</td>\n",
       "      <td id=\"T_14108_row3_col4\" class=\"data row3 col4\" >1.0000</td>\n",
       "      <td id=\"T_14108_row3_col5\" class=\"data row3 col5\" >0.8333</td>\n",
       "      <td id=\"T_14108_row3_col6\" class=\"data row3 col6\" >0.7908</td>\n",
       "      <td id=\"T_14108_row3_col7\" class=\"data row3 col7\" >0.8201</td>\n",
       "      <td id=\"T_14108_row3_col8\" class=\"data row3 col8\" >0.0980</td>\n",
       "    </tr>\n",
       "    <tr>\n",
       "      <th id=\"T_14108_level0_row4\" class=\"row_heading level0 row4\" >knn</th>\n",
       "      <td id=\"T_14108_row4_col0\" class=\"data row4 col0\" >K Neighbors Classifier</td>\n",
       "      <td id=\"T_14108_row4_col1\" class=\"data row4 col1\" >0.9214</td>\n",
       "      <td id=\"T_14108_row4_col2\" class=\"data row4 col2\" >0.9688</td>\n",
       "      <td id=\"T_14108_row4_col3\" class=\"data row4 col3\" >0.7500</td>\n",
       "      <td id=\"T_14108_row4_col4\" class=\"data row4 col4\" >0.9000</td>\n",
       "      <td id=\"T_14108_row4_col5\" class=\"data row4 col5\" >0.8000</td>\n",
       "      <td id=\"T_14108_row4_col6\" class=\"data row4 col6\" >0.7748</td>\n",
       "      <td id=\"T_14108_row4_col7\" class=\"data row4 col7\" >0.7923</td>\n",
       "      <td id=\"T_14108_row4_col8\" class=\"data row4 col8\" >0.0250</td>\n",
       "    </tr>\n",
       "    <tr>\n",
       "      <th id=\"T_14108_level0_row5\" class=\"row_heading level0 row5\" >ridge</th>\n",
       "      <td id=\"T_14108_row5_col0\" class=\"data row5 col0\" >Ridge Classifier</td>\n",
       "      <td id=\"T_14108_row5_col1\" class=\"data row5 col1\" >0.9214</td>\n",
       "      <td id=\"T_14108_row5_col2\" class=\"data row5 col2\" >0.9475</td>\n",
       "      <td id=\"T_14108_row5_col3\" class=\"data row5 col3\" >0.8000</td>\n",
       "      <td id=\"T_14108_row5_col4\" class=\"data row5 col4\" >0.9500</td>\n",
       "      <td id=\"T_14108_row5_col5\" class=\"data row5 col5\" >0.8500</td>\n",
       "      <td id=\"T_14108_row5_col6\" class=\"data row5 col6\" >0.7998</td>\n",
       "      <td id=\"T_14108_row5_col7\" class=\"data row5 col7\" >0.8173</td>\n",
       "      <td id=\"T_14108_row5_col8\" class=\"data row5 col8\" >0.0180</td>\n",
       "    </tr>\n",
       "    <tr>\n",
       "      <th id=\"T_14108_level0_row6\" class=\"row_heading level0 row6\" >lda</th>\n",
       "      <td id=\"T_14108_row6_col0\" class=\"data row6 col0\" >Linear Discriminant Analysis</td>\n",
       "      <td id=\"T_14108_row6_col1\" class=\"data row6 col1\" >0.9214</td>\n",
       "      <td id=\"T_14108_row6_col2\" class=\"data row6 col2\" >0.9475</td>\n",
       "      <td id=\"T_14108_row6_col3\" class=\"data row6 col3\" >0.8000</td>\n",
       "      <td id=\"T_14108_row6_col4\" class=\"data row6 col4\" >0.9500</td>\n",
       "      <td id=\"T_14108_row6_col5\" class=\"data row6 col5\" >0.8500</td>\n",
       "      <td id=\"T_14108_row6_col6\" class=\"data row6 col6\" >0.7998</td>\n",
       "      <td id=\"T_14108_row6_col7\" class=\"data row6 col7\" >0.8173</td>\n",
       "      <td id=\"T_14108_row6_col8\" class=\"data row6 col8\" >0.0200</td>\n",
       "    </tr>\n",
       "    <tr>\n",
       "      <th id=\"T_14108_level0_row7\" class=\"row_heading level0 row7\" >xgboost</th>\n",
       "      <td id=\"T_14108_row7_col0\" class=\"data row7 col0\" >Extreme Gradient Boosting</td>\n",
       "      <td id=\"T_14108_row7_col1\" class=\"data row7 col1\" >0.9071</td>\n",
       "      <td id=\"T_14108_row7_col2\" class=\"data row7 col2\" >0.9500</td>\n",
       "      <td id=\"T_14108_row7_col3\" class=\"data row7 col3\" >0.8000</td>\n",
       "      <td id=\"T_14108_row7_col4\" class=\"data row7 col4\" >0.9167</td>\n",
       "      <td id=\"T_14108_row7_col5\" class=\"data row7 col5\" >0.8133</td>\n",
       "      <td id=\"T_14108_row7_col6\" class=\"data row7 col6\" >0.7574</td>\n",
       "      <td id=\"T_14108_row7_col7\" class=\"data row7 col7\" >0.7909</td>\n",
       "      <td id=\"T_14108_row7_col8\" class=\"data row7 col8\" >0.2500</td>\n",
       "    </tr>\n",
       "    <tr>\n",
       "      <th id=\"T_14108_level0_row8\" class=\"row_heading level0 row8\" >svm</th>\n",
       "      <td id=\"T_14108_row8_col0\" class=\"data row8 col0\" >SVM - Linear Kernel</td>\n",
       "      <td id=\"T_14108_row8_col1\" class=\"data row8 col1\" >0.8905</td>\n",
       "      <td id=\"T_14108_row8_col2\" class=\"data row8 col2\" >0.9675</td>\n",
       "      <td id=\"T_14108_row8_col3\" class=\"data row8 col3\" >0.8500</td>\n",
       "      <td id=\"T_14108_row8_col4\" class=\"data row8 col4\" >0.7500</td>\n",
       "      <td id=\"T_14108_row8_col5\" class=\"data row8 col5\" >0.7733</td>\n",
       "      <td id=\"T_14108_row8_col6\" class=\"data row8 col6\" >0.7160</td>\n",
       "      <td id=\"T_14108_row8_col7\" class=\"data row8 col7\" >0.7399</td>\n",
       "      <td id=\"T_14108_row8_col8\" class=\"data row8 col8\" >0.0130</td>\n",
       "    </tr>\n",
       "    <tr>\n",
       "      <th id=\"T_14108_level0_row9\" class=\"row_heading level0 row9\" >lightgbm</th>\n",
       "      <td id=\"T_14108_row9_col0\" class=\"data row9 col0\" >Light Gradient Boosting Machine</td>\n",
       "      <td id=\"T_14108_row9_col1\" class=\"data row9 col1\" >0.8881</td>\n",
       "      <td id=\"T_14108_row9_col2\" class=\"data row9 col2\" >0.9200</td>\n",
       "      <td id=\"T_14108_row9_col3\" class=\"data row9 col3\" >0.8000</td>\n",
       "      <td id=\"T_14108_row9_col4\" class=\"data row9 col4\" >0.8500</td>\n",
       "      <td id=\"T_14108_row9_col5\" class=\"data row9 col5\" >0.7667</td>\n",
       "      <td id=\"T_14108_row9_col6\" class=\"data row9 col6\" >0.7034</td>\n",
       "      <td id=\"T_14108_row9_col7\" class=\"data row9 col7\" >0.7453</td>\n",
       "      <td id=\"T_14108_row9_col8\" class=\"data row9 col8\" >0.0370</td>\n",
       "    </tr>\n",
       "    <tr>\n",
       "      <th id=\"T_14108_level0_row10\" class=\"row_heading level0 row10\" >ada</th>\n",
       "      <td id=\"T_14108_row10_col0\" class=\"data row10 col0\" >Ada Boost Classifier</td>\n",
       "      <td id=\"T_14108_row10_col1\" class=\"data row10 col1\" >0.8690</td>\n",
       "      <td id=\"T_14108_row10_col2\" class=\"data row10 col2\" >0.9375</td>\n",
       "      <td id=\"T_14108_row10_col3\" class=\"data row10 col3\" >0.8500</td>\n",
       "      <td id=\"T_14108_row10_col4\" class=\"data row10 col4\" >0.8000</td>\n",
       "      <td id=\"T_14108_row10_col5\" class=\"data row10 col5\" >0.7867</td>\n",
       "      <td id=\"T_14108_row10_col6\" class=\"data row10 col6\" >0.6969</td>\n",
       "      <td id=\"T_14108_row10_col7\" class=\"data row10 col7\" >0.7250</td>\n",
       "      <td id=\"T_14108_row10_col8\" class=\"data row10 col8\" >0.0540</td>\n",
       "    </tr>\n",
       "    <tr>\n",
       "      <th id=\"T_14108_level0_row11\" class=\"row_heading level0 row11\" >gbc</th>\n",
       "      <td id=\"T_14108_row11_col0\" class=\"data row11 col0\" >Gradient Boosting Classifier</td>\n",
       "      <td id=\"T_14108_row11_col1\" class=\"data row11 col1\" >0.8381</td>\n",
       "      <td id=\"T_14108_row11_col2\" class=\"data row11 col2\" >0.7737</td>\n",
       "      <td id=\"T_14108_row11_col3\" class=\"data row11 col3\" >0.7000</td>\n",
       "      <td id=\"T_14108_row11_col4\" class=\"data row11 col4\" >0.7000</td>\n",
       "      <td id=\"T_14108_row11_col5\" class=\"data row11 col5\" >0.6533</td>\n",
       "      <td id=\"T_14108_row11_col6\" class=\"data row11 col6\" >0.5557</td>\n",
       "      <td id=\"T_14108_row11_col7\" class=\"data row11 col7\" >0.5895</td>\n",
       "      <td id=\"T_14108_row11_col8\" class=\"data row11 col8\" >0.0450</td>\n",
       "    </tr>\n",
       "    <tr>\n",
       "      <th id=\"T_14108_level0_row12\" class=\"row_heading level0 row12\" >dt</th>\n",
       "      <td id=\"T_14108_row12_col0\" class=\"data row12 col0\" >Decision Tree Classifier</td>\n",
       "      <td id=\"T_14108_row12_col1\" class=\"data row12 col1\" >0.7905</td>\n",
       "      <td id=\"T_14108_row12_col2\" class=\"data row12 col2\" >0.7175</td>\n",
       "      <td id=\"T_14108_row12_col3\" class=\"data row12 col3\" >0.5500</td>\n",
       "      <td id=\"T_14108_row12_col4\" class=\"data row12 col4\" >0.5333</td>\n",
       "      <td id=\"T_14108_row12_col5\" class=\"data row12 col5\" >0.5067</td>\n",
       "      <td id=\"T_14108_row12_col6\" class=\"data row12 col6\" >0.4017</td>\n",
       "      <td id=\"T_14108_row12_col7\" class=\"data row12 col7\" >0.4227</td>\n",
       "      <td id=\"T_14108_row12_col8\" class=\"data row12 col8\" >0.0150</td>\n",
       "    </tr>\n",
       "    <tr>\n",
       "      <th id=\"T_14108_level0_row13\" class=\"row_heading level0 row13\" >qda</th>\n",
       "      <td id=\"T_14108_row13_col0\" class=\"data row13 col0\" >Quadratic Discriminant Analysis</td>\n",
       "      <td id=\"T_14108_row13_col1\" class=\"data row13 col1\" >0.7310</td>\n",
       "      <td id=\"T_14108_row13_col2\" class=\"data row13 col2\" >0.0000</td>\n",
       "      <td id=\"T_14108_row13_col3\" class=\"data row13 col3\" >0.0000</td>\n",
       "      <td id=\"T_14108_row13_col4\" class=\"data row13 col4\" >0.0000</td>\n",
       "      <td id=\"T_14108_row13_col5\" class=\"data row13 col5\" >0.0000</td>\n",
       "      <td id=\"T_14108_row13_col6\" class=\"data row13 col6\" >0.0000</td>\n",
       "      <td id=\"T_14108_row13_col7\" class=\"data row13 col7\" >0.0000</td>\n",
       "      <td id=\"T_14108_row13_col8\" class=\"data row13 col8\" >0.0150</td>\n",
       "    </tr>\n",
       "    <tr>\n",
       "      <th id=\"T_14108_level0_row14\" class=\"row_heading level0 row14\" >dummy</th>\n",
       "      <td id=\"T_14108_row14_col0\" class=\"data row14 col0\" >Dummy Classifier</td>\n",
       "      <td id=\"T_14108_row14_col1\" class=\"data row14 col1\" >0.7310</td>\n",
       "      <td id=\"T_14108_row14_col2\" class=\"data row14 col2\" >0.5000</td>\n",
       "      <td id=\"T_14108_row14_col3\" class=\"data row14 col3\" >0.0000</td>\n",
       "      <td id=\"T_14108_row14_col4\" class=\"data row14 col4\" >0.0000</td>\n",
       "      <td id=\"T_14108_row14_col5\" class=\"data row14 col5\" >0.0000</td>\n",
       "      <td id=\"T_14108_row14_col6\" class=\"data row14 col6\" >0.0000</td>\n",
       "      <td id=\"T_14108_row14_col7\" class=\"data row14 col7\" >0.0000</td>\n",
       "      <td id=\"T_14108_row14_col8\" class=\"data row14 col8\" >0.0120</td>\n",
       "    </tr>\n",
       "  </tbody>\n",
       "</table>\n"
      ],
      "text/plain": [
       "<pandas.io.formats.style.Styler at 0x27fe2356650>"
      ]
     },
     "metadata": {},
     "output_type": "display_data"
    },
    {
     "data": {
      "application/vnd.jupyter.widget-view+json": {
       "model_id": "a3cc9ad79f7245debf9145943697bf18",
       "version_major": 2,
       "version_minor": 0
      },
      "text/plain": [
       "Processing:   0%|          | 0/65 [00:00<?, ?it/s]"
      ]
     },
     "metadata": {},
     "output_type": "display_data"
    },
    {
     "data": {
      "text/html": [],
      "text/plain": [
       "<IPython.core.display.HTML object>"
      ]
     },
     "metadata": {},
     "output_type": "display_data"
    },
    {
     "data": {
      "text/html": [
       "<style type=\"text/css\">\n",
       "#T_c2e20 th {\n",
       "  text-align: left;\n",
       "}\n",
       "#T_c2e20_row0_col0 {\n",
       "  text-align: left;\n",
       "}\n",
       "#T_c2e20_row0_col1, #T_c2e20_row0_col2, #T_c2e20_row0_col3, #T_c2e20_row0_col4, #T_c2e20_row0_col5, #T_c2e20_row0_col6, #T_c2e20_row0_col7 {\n",
       "  text-align: left;\n",
       "  background-color: yellow;\n",
       "}\n",
       "#T_c2e20_row0_col8 {\n",
       "  text-align: left;\n",
       "  background-color: yellow;\n",
       "  background-color: lightgrey;\n",
       "}\n",
       "</style>\n",
       "<table id=\"T_c2e20\">\n",
       "  <thead>\n",
       "    <tr>\n",
       "      <th class=\"blank level0\" >&nbsp;</th>\n",
       "      <th id=\"T_c2e20_level0_col0\" class=\"col_heading level0 col0\" >Model</th>\n",
       "      <th id=\"T_c2e20_level0_col1\" class=\"col_heading level0 col1\" >Accuracy</th>\n",
       "      <th id=\"T_c2e20_level0_col2\" class=\"col_heading level0 col2\" >AUC</th>\n",
       "      <th id=\"T_c2e20_level0_col3\" class=\"col_heading level0 col3\" >Recall</th>\n",
       "      <th id=\"T_c2e20_level0_col4\" class=\"col_heading level0 col4\" >Prec.</th>\n",
       "      <th id=\"T_c2e20_level0_col5\" class=\"col_heading level0 col5\" >F1</th>\n",
       "      <th id=\"T_c2e20_level0_col6\" class=\"col_heading level0 col6\" >Kappa</th>\n",
       "      <th id=\"T_c2e20_level0_col7\" class=\"col_heading level0 col7\" >MCC</th>\n",
       "      <th id=\"T_c2e20_level0_col8\" class=\"col_heading level0 col8\" >TT (Sec)</th>\n",
       "    </tr>\n",
       "  </thead>\n",
       "  <tbody>\n",
       "    <tr>\n",
       "      <th id=\"T_c2e20_level0_row0\" class=\"row_heading level0 row0\" >lr</th>\n",
       "      <td id=\"T_c2e20_row0_col0\" class=\"data row0 col0\" >Logistic Regression</td>\n",
       "      <td id=\"T_c2e20_row0_col1\" class=\"data row0 col1\" >0.9833</td>\n",
       "      <td id=\"T_c2e20_row0_col2\" class=\"data row0 col2\" >0.9875</td>\n",
       "      <td id=\"T_c2e20_row0_col3\" class=\"data row0 col3\" >0.9500</td>\n",
       "      <td id=\"T_c2e20_row0_col4\" class=\"data row0 col4\" >1.0000</td>\n",
       "      <td id=\"T_c2e20_row0_col5\" class=\"data row0 col5\" >0.9667</td>\n",
       "      <td id=\"T_c2e20_row0_col6\" class=\"data row0 col6\" >0.9571</td>\n",
       "      <td id=\"T_c2e20_row0_col7\" class=\"data row0 col7\" >0.9632</td>\n",
       "      <td id=\"T_c2e20_row0_col8\" class=\"data row0 col8\" >0.0270</td>\n",
       "    </tr>\n",
       "  </tbody>\n",
       "</table>\n"
      ],
      "text/plain": [
       "<pandas.io.formats.style.Styler at 0x27fe2330510>"
      ]
     },
     "metadata": {},
     "output_type": "display_data"
    },
    {
     "data": {
      "application/vnd.jupyter.widget-view+json": {
       "model_id": "8d417e5ca82349b28487d1b64281c650",
       "version_major": 2,
       "version_minor": 0
      },
      "text/plain": [
       "Processing:   0%|          | 0/9 [00:00<?, ?it/s]"
      ]
     },
     "metadata": {},
     "output_type": "display_data"
    },
    {
     "data": {
      "text/html": [],
      "text/plain": [
       "<IPython.core.display.HTML object>"
      ]
     },
     "metadata": {},
     "output_type": "display_data"
    },
    {
     "data": {
      "text/html": [],
      "text/plain": [
       "<IPython.core.display.HTML object>"
      ]
     },
     "metadata": {},
     "output_type": "display_data"
    },
    {
     "data": {
      "text/html": [],
      "text/plain": [
       "<IPython.core.display.HTML object>"
      ]
     },
     "metadata": {},
     "output_type": "display_data"
    },
    {
     "data": {
      "text/html": [
       "<style type=\"text/css\">\n",
       "#T_750e6 th {\n",
       "  text-align: left;\n",
       "}\n",
       "#T_750e6_row0_col0 {\n",
       "  text-align: left;\n",
       "}\n",
       "#T_750e6_row0_col1, #T_750e6_row0_col2, #T_750e6_row0_col3, #T_750e6_row0_col4, #T_750e6_row0_col5, #T_750e6_row0_col6, #T_750e6_row0_col7 {\n",
       "  text-align: left;\n",
       "  background-color: yellow;\n",
       "}\n",
       "#T_750e6_row0_col8 {\n",
       "  text-align: left;\n",
       "  background-color: yellow;\n",
       "  background-color: lightgrey;\n",
       "}\n",
       "</style>\n",
       "<table id=\"T_750e6\">\n",
       "  <thead>\n",
       "    <tr>\n",
       "      <th class=\"blank level0\" >&nbsp;</th>\n",
       "      <th id=\"T_750e6_level0_col0\" class=\"col_heading level0 col0\" >Model</th>\n",
       "      <th id=\"T_750e6_level0_col1\" class=\"col_heading level0 col1\" >Accuracy</th>\n",
       "      <th id=\"T_750e6_level0_col2\" class=\"col_heading level0 col2\" >AUC</th>\n",
       "      <th id=\"T_750e6_level0_col3\" class=\"col_heading level0 col3\" >Recall</th>\n",
       "      <th id=\"T_750e6_level0_col4\" class=\"col_heading level0 col4\" >Prec.</th>\n",
       "      <th id=\"T_750e6_level0_col5\" class=\"col_heading level0 col5\" >F1</th>\n",
       "      <th id=\"T_750e6_level0_col6\" class=\"col_heading level0 col6\" >Kappa</th>\n",
       "      <th id=\"T_750e6_level0_col7\" class=\"col_heading level0 col7\" >MCC</th>\n",
       "      <th id=\"T_750e6_level0_col8\" class=\"col_heading level0 col8\" >TT (Sec)</th>\n",
       "    </tr>\n",
       "  </thead>\n",
       "  <tbody>\n",
       "    <tr>\n",
       "      <th id=\"T_750e6_level0_row0\" class=\"row_heading level0 row0\" >et</th>\n",
       "      <td id=\"T_750e6_row0_col0\" class=\"data row0 col0\" >Extra Trees Classifier</td>\n",
       "      <td id=\"T_750e6_row0_col1\" class=\"data row0 col1\" >0.9548</td>\n",
       "      <td id=\"T_750e6_row0_col2\" class=\"data row0 col2\" >0.9875</td>\n",
       "      <td id=\"T_750e6_row0_col3\" class=\"data row0 col3\" >0.8500</td>\n",
       "      <td id=\"T_750e6_row0_col4\" class=\"data row0 col4\" >1.0000</td>\n",
       "      <td id=\"T_750e6_row0_col5\" class=\"data row0 col5\" >0.9000</td>\n",
       "      <td id=\"T_750e6_row0_col6\" class=\"data row0 col6\" >0.8748</td>\n",
       "      <td id=\"T_750e6_row0_col7\" class=\"data row0 col7\" >0.8923</td>\n",
       "      <td id=\"T_750e6_row0_col8\" class=\"data row0 col8\" >0.0820</td>\n",
       "    </tr>\n",
       "  </tbody>\n",
       "</table>\n"
      ],
      "text/plain": [
       "<pandas.io.formats.style.Styler at 0x27fe538bd50>"
      ]
     },
     "metadata": {},
     "output_type": "display_data"
    },
    {
     "data": {
      "application/vnd.jupyter.widget-view+json": {
       "model_id": "1eee18a46b12457ba338f0ef2bdadaa9",
       "version_major": 2,
       "version_minor": 0
      },
      "text/plain": [
       "Processing:   0%|          | 0/9 [00:00<?, ?it/s]"
      ]
     },
     "metadata": {},
     "output_type": "display_data"
    },
    {
     "data": {
      "text/html": [],
      "text/plain": [
       "<IPython.core.display.HTML object>"
      ]
     },
     "metadata": {},
     "output_type": "display_data"
    },
    {
     "data": {
      "text/html": [],
      "text/plain": [
       "<IPython.core.display.HTML object>"
      ]
     },
     "metadata": {},
     "output_type": "display_data"
    },
    {
     "data": {
      "text/html": [],
      "text/plain": [
       "<IPython.core.display.HTML object>"
      ]
     },
     "metadata": {},
     "output_type": "display_data"
    },
    {
     "data": {
      "text/html": [
       "<style type=\"text/css\">\n",
       "#T_d1e7c th {\n",
       "  text-align: left;\n",
       "}\n",
       "#T_d1e7c_row0_col0 {\n",
       "  text-align: left;\n",
       "}\n",
       "#T_d1e7c_row0_col1, #T_d1e7c_row0_col2, #T_d1e7c_row0_col3, #T_d1e7c_row0_col4, #T_d1e7c_row0_col5, #T_d1e7c_row0_col6, #T_d1e7c_row0_col7 {\n",
       "  text-align: left;\n",
       "  background-color: yellow;\n",
       "}\n",
       "#T_d1e7c_row0_col8 {\n",
       "  text-align: left;\n",
       "  background-color: yellow;\n",
       "  background-color: lightgrey;\n",
       "}\n",
       "</style>\n",
       "<table id=\"T_d1e7c\">\n",
       "  <thead>\n",
       "    <tr>\n",
       "      <th class=\"blank level0\" >&nbsp;</th>\n",
       "      <th id=\"T_d1e7c_level0_col0\" class=\"col_heading level0 col0\" >Model</th>\n",
       "      <th id=\"T_d1e7c_level0_col1\" class=\"col_heading level0 col1\" >Accuracy</th>\n",
       "      <th id=\"T_d1e7c_level0_col2\" class=\"col_heading level0 col2\" >AUC</th>\n",
       "      <th id=\"T_d1e7c_level0_col3\" class=\"col_heading level0 col3\" >Recall</th>\n",
       "      <th id=\"T_d1e7c_level0_col4\" class=\"col_heading level0 col4\" >Prec.</th>\n",
       "      <th id=\"T_d1e7c_level0_col5\" class=\"col_heading level0 col5\" >F1</th>\n",
       "      <th id=\"T_d1e7c_level0_col6\" class=\"col_heading level0 col6\" >Kappa</th>\n",
       "      <th id=\"T_d1e7c_level0_col7\" class=\"col_heading level0 col7\" >MCC</th>\n",
       "      <th id=\"T_d1e7c_level0_col8\" class=\"col_heading level0 col8\" >TT (Sec)</th>\n",
       "    </tr>\n",
       "  </thead>\n",
       "  <tbody>\n",
       "    <tr>\n",
       "      <th id=\"T_d1e7c_level0_row0\" class=\"row_heading level0 row0\" >nb</th>\n",
       "      <td id=\"T_d1e7c_row0_col0\" class=\"data row0 col0\" >Naive Bayes</td>\n",
       "      <td id=\"T_d1e7c_row0_col1\" class=\"data row0 col1\" >0.9238</td>\n",
       "      <td id=\"T_d1e7c_row0_col2\" class=\"data row0 col2\" >0.9600</td>\n",
       "      <td id=\"T_d1e7c_row0_col3\" class=\"data row0 col3\" >0.7500</td>\n",
       "      <td id=\"T_d1e7c_row0_col4\" class=\"data row0 col4\" >1.0000</td>\n",
       "      <td id=\"T_d1e7c_row0_col5\" class=\"data row0 col5\" >0.8333</td>\n",
       "      <td id=\"T_d1e7c_row0_col6\" class=\"data row0 col6\" >0.7908</td>\n",
       "      <td id=\"T_d1e7c_row0_col7\" class=\"data row0 col7\" >0.8201</td>\n",
       "      <td id=\"T_d1e7c_row0_col8\" class=\"data row0 col8\" >0.0180</td>\n",
       "    </tr>\n",
       "  </tbody>\n",
       "</table>\n"
      ],
      "text/plain": [
       "<pandas.io.formats.style.Styler at 0x27fe5390890>"
      ]
     },
     "metadata": {},
     "output_type": "display_data"
    },
    {
     "data": {
      "application/vnd.jupyter.widget-view+json": {
       "model_id": "19b44f07ad9449339107c3649de7f4d2",
       "version_major": 2,
       "version_minor": 0
      },
      "text/plain": [
       "Processing:   0%|          | 0/9 [00:00<?, ?it/s]"
      ]
     },
     "metadata": {},
     "output_type": "display_data"
    },
    {
     "data": {
      "text/html": [],
      "text/plain": [
       "<IPython.core.display.HTML object>"
      ]
     },
     "metadata": {},
     "output_type": "display_data"
    },
    {
     "data": {
      "text/html": [],
      "text/plain": [
       "<IPython.core.display.HTML object>"
      ]
     },
     "metadata": {},
     "output_type": "display_data"
    },
    {
     "data": {
      "text/html": [],
      "text/plain": [
       "<IPython.core.display.HTML object>"
      ]
     },
     "metadata": {},
     "output_type": "display_data"
    },
    {
     "data": {
      "text/html": [
       "<style type=\"text/css\">\n",
       "#T_3583c th {\n",
       "  text-align: left;\n",
       "}\n",
       "#T_3583c_row0_col0 {\n",
       "  text-align: left;\n",
       "}\n",
       "#T_3583c_row0_col1, #T_3583c_row0_col2, #T_3583c_row0_col3, #T_3583c_row0_col4, #T_3583c_row0_col5, #T_3583c_row0_col6, #T_3583c_row0_col7 {\n",
       "  text-align: left;\n",
       "  background-color: yellow;\n",
       "}\n",
       "#T_3583c_row0_col8 {\n",
       "  text-align: left;\n",
       "  background-color: yellow;\n",
       "  background-color: lightgrey;\n",
       "}\n",
       "</style>\n",
       "<table id=\"T_3583c\">\n",
       "  <thead>\n",
       "    <tr>\n",
       "      <th class=\"blank level0\" >&nbsp;</th>\n",
       "      <th id=\"T_3583c_level0_col0\" class=\"col_heading level0 col0\" >Model</th>\n",
       "      <th id=\"T_3583c_level0_col1\" class=\"col_heading level0 col1\" >Accuracy</th>\n",
       "      <th id=\"T_3583c_level0_col2\" class=\"col_heading level0 col2\" >AUC</th>\n",
       "      <th id=\"T_3583c_level0_col3\" class=\"col_heading level0 col3\" >Recall</th>\n",
       "      <th id=\"T_3583c_level0_col4\" class=\"col_heading level0 col4\" >Prec.</th>\n",
       "      <th id=\"T_3583c_level0_col5\" class=\"col_heading level0 col5\" >F1</th>\n",
       "      <th id=\"T_3583c_level0_col6\" class=\"col_heading level0 col6\" >Kappa</th>\n",
       "      <th id=\"T_3583c_level0_col7\" class=\"col_heading level0 col7\" >MCC</th>\n",
       "      <th id=\"T_3583c_level0_col8\" class=\"col_heading level0 col8\" >TT (Sec)</th>\n",
       "    </tr>\n",
       "  </thead>\n",
       "  <tbody>\n",
       "    <tr>\n",
       "      <th id=\"T_3583c_level0_row0\" class=\"row_heading level0 row0\" >rf</th>\n",
       "      <td id=\"T_3583c_row0_col0\" class=\"data row0 col0\" >Random Forest Classifier</td>\n",
       "      <td id=\"T_3583c_row0_col1\" class=\"data row0 col1\" >0.9238</td>\n",
       "      <td id=\"T_3583c_row0_col2\" class=\"data row0 col2\" >0.9875</td>\n",
       "      <td id=\"T_3583c_row0_col3\" class=\"data row0 col3\" >0.7500</td>\n",
       "      <td id=\"T_3583c_row0_col4\" class=\"data row0 col4\" >1.0000</td>\n",
       "      <td id=\"T_3583c_row0_col5\" class=\"data row0 col5\" >0.8333</td>\n",
       "      <td id=\"T_3583c_row0_col6\" class=\"data row0 col6\" >0.7908</td>\n",
       "      <td id=\"T_3583c_row0_col7\" class=\"data row0 col7\" >0.8201</td>\n",
       "      <td id=\"T_3583c_row0_col8\" class=\"data row0 col8\" >0.0820</td>\n",
       "    </tr>\n",
       "  </tbody>\n",
       "</table>\n"
      ],
      "text/plain": [
       "<pandas.io.formats.style.Styler at 0x27fe53c9110>"
      ]
     },
     "metadata": {},
     "output_type": "display_data"
    },
    {
     "data": {
      "application/vnd.jupyter.widget-view+json": {
       "model_id": "b5e09c2254e948adac8c15877d6b836e",
       "version_major": 2,
       "version_minor": 0
      },
      "text/plain": [
       "Processing:   0%|          | 0/9 [00:00<?, ?it/s]"
      ]
     },
     "metadata": {},
     "output_type": "display_data"
    },
    {
     "data": {
      "text/html": [],
      "text/plain": [
       "<IPython.core.display.HTML object>"
      ]
     },
     "metadata": {},
     "output_type": "display_data"
    },
    {
     "data": {
      "text/html": [],
      "text/plain": [
       "<IPython.core.display.HTML object>"
      ]
     },
     "metadata": {},
     "output_type": "display_data"
    },
    {
     "data": {
      "text/html": [],
      "text/plain": [
       "<IPython.core.display.HTML object>"
      ]
     },
     "metadata": {},
     "output_type": "display_data"
    },
    {
     "data": {
      "text/html": [
       "<style type=\"text/css\">\n",
       "#T_7b96e th {\n",
       "  text-align: left;\n",
       "}\n",
       "#T_7b96e_row0_col0 {\n",
       "  text-align: left;\n",
       "}\n",
       "#T_7b96e_row0_col1, #T_7b96e_row0_col2, #T_7b96e_row0_col3, #T_7b96e_row0_col4, #T_7b96e_row0_col5, #T_7b96e_row0_col6, #T_7b96e_row0_col7 {\n",
       "  text-align: left;\n",
       "  background-color: yellow;\n",
       "}\n",
       "#T_7b96e_row0_col8 {\n",
       "  text-align: left;\n",
       "  background-color: yellow;\n",
       "  background-color: lightgrey;\n",
       "}\n",
       "</style>\n",
       "<table id=\"T_7b96e\">\n",
       "  <thead>\n",
       "    <tr>\n",
       "      <th class=\"blank level0\" >&nbsp;</th>\n",
       "      <th id=\"T_7b96e_level0_col0\" class=\"col_heading level0 col0\" >Model</th>\n",
       "      <th id=\"T_7b96e_level0_col1\" class=\"col_heading level0 col1\" >Accuracy</th>\n",
       "      <th id=\"T_7b96e_level0_col2\" class=\"col_heading level0 col2\" >AUC</th>\n",
       "      <th id=\"T_7b96e_level0_col3\" class=\"col_heading level0 col3\" >Recall</th>\n",
       "      <th id=\"T_7b96e_level0_col4\" class=\"col_heading level0 col4\" >Prec.</th>\n",
       "      <th id=\"T_7b96e_level0_col5\" class=\"col_heading level0 col5\" >F1</th>\n",
       "      <th id=\"T_7b96e_level0_col6\" class=\"col_heading level0 col6\" >Kappa</th>\n",
       "      <th id=\"T_7b96e_level0_col7\" class=\"col_heading level0 col7\" >MCC</th>\n",
       "      <th id=\"T_7b96e_level0_col8\" class=\"col_heading level0 col8\" >TT (Sec)</th>\n",
       "    </tr>\n",
       "  </thead>\n",
       "  <tbody>\n",
       "    <tr>\n",
       "      <th id=\"T_7b96e_level0_row0\" class=\"row_heading level0 row0\" >knn</th>\n",
       "      <td id=\"T_7b96e_row0_col0\" class=\"data row0 col0\" >K Neighbors Classifier</td>\n",
       "      <td id=\"T_7b96e_row0_col1\" class=\"data row0 col1\" >0.9214</td>\n",
       "      <td id=\"T_7b96e_row0_col2\" class=\"data row0 col2\" >0.9688</td>\n",
       "      <td id=\"T_7b96e_row0_col3\" class=\"data row0 col3\" >0.7500</td>\n",
       "      <td id=\"T_7b96e_row0_col4\" class=\"data row0 col4\" >0.9000</td>\n",
       "      <td id=\"T_7b96e_row0_col5\" class=\"data row0 col5\" >0.8000</td>\n",
       "      <td id=\"T_7b96e_row0_col6\" class=\"data row0 col6\" >0.7748</td>\n",
       "      <td id=\"T_7b96e_row0_col7\" class=\"data row0 col7\" >0.7923</td>\n",
       "      <td id=\"T_7b96e_row0_col8\" class=\"data row0 col8\" >0.0190</td>\n",
       "    </tr>\n",
       "  </tbody>\n",
       "</table>\n"
      ],
      "text/plain": [
       "<pandas.io.formats.style.Styler at 0x27fe53b7b10>"
      ]
     },
     "metadata": {},
     "output_type": "display_data"
    },
    {
     "data": {
      "application/vnd.jupyter.widget-view+json": {
       "model_id": "2b5cba970424417f98aa0c7c5151ca7b",
       "version_major": 2,
       "version_minor": 0
      },
      "text/plain": [
       "Processing:   0%|          | 0/9 [00:00<?, ?it/s]"
      ]
     },
     "metadata": {},
     "output_type": "display_data"
    },
    {
     "data": {
      "text/html": [],
      "text/plain": [
       "<IPython.core.display.HTML object>"
      ]
     },
     "metadata": {},
     "output_type": "display_data"
    },
    {
     "data": {
      "text/html": [],
      "text/plain": [
       "<IPython.core.display.HTML object>"
      ]
     },
     "metadata": {},
     "output_type": "display_data"
    },
    {
     "data": {
      "text/html": [],
      "text/plain": [
       "<IPython.core.display.HTML object>"
      ]
     },
     "metadata": {},
     "output_type": "display_data"
    },
    {
     "data": {
      "text/html": [
       "<style type=\"text/css\">\n",
       "#T_6e202 th {\n",
       "  text-align: left;\n",
       "}\n",
       "#T_6e202_row0_col0 {\n",
       "  text-align: left;\n",
       "}\n",
       "#T_6e202_row0_col1, #T_6e202_row0_col2, #T_6e202_row0_col3, #T_6e202_row0_col4, #T_6e202_row0_col5, #T_6e202_row0_col6, #T_6e202_row0_col7 {\n",
       "  text-align: left;\n",
       "  background-color: yellow;\n",
       "}\n",
       "#T_6e202_row0_col8 {\n",
       "  text-align: left;\n",
       "  background-color: yellow;\n",
       "  background-color: lightgrey;\n",
       "}\n",
       "</style>\n",
       "<table id=\"T_6e202\">\n",
       "  <thead>\n",
       "    <tr>\n",
       "      <th class=\"blank level0\" >&nbsp;</th>\n",
       "      <th id=\"T_6e202_level0_col0\" class=\"col_heading level0 col0\" >Model</th>\n",
       "      <th id=\"T_6e202_level0_col1\" class=\"col_heading level0 col1\" >Accuracy</th>\n",
       "      <th id=\"T_6e202_level0_col2\" class=\"col_heading level0 col2\" >AUC</th>\n",
       "      <th id=\"T_6e202_level0_col3\" class=\"col_heading level0 col3\" >Recall</th>\n",
       "      <th id=\"T_6e202_level0_col4\" class=\"col_heading level0 col4\" >Prec.</th>\n",
       "      <th id=\"T_6e202_level0_col5\" class=\"col_heading level0 col5\" >F1</th>\n",
       "      <th id=\"T_6e202_level0_col6\" class=\"col_heading level0 col6\" >Kappa</th>\n",
       "      <th id=\"T_6e202_level0_col7\" class=\"col_heading level0 col7\" >MCC</th>\n",
       "      <th id=\"T_6e202_level0_col8\" class=\"col_heading level0 col8\" >TT (Sec)</th>\n",
       "    </tr>\n",
       "  </thead>\n",
       "  <tbody>\n",
       "    <tr>\n",
       "      <th id=\"T_6e202_level0_row0\" class=\"row_heading level0 row0\" >ridge</th>\n",
       "      <td id=\"T_6e202_row0_col0\" class=\"data row0 col0\" >Ridge Classifier</td>\n",
       "      <td id=\"T_6e202_row0_col1\" class=\"data row0 col1\" >0.9214</td>\n",
       "      <td id=\"T_6e202_row0_col2\" class=\"data row0 col2\" >0.9475</td>\n",
       "      <td id=\"T_6e202_row0_col3\" class=\"data row0 col3\" >0.8000</td>\n",
       "      <td id=\"T_6e202_row0_col4\" class=\"data row0 col4\" >0.9500</td>\n",
       "      <td id=\"T_6e202_row0_col5\" class=\"data row0 col5\" >0.8500</td>\n",
       "      <td id=\"T_6e202_row0_col6\" class=\"data row0 col6\" >0.7998</td>\n",
       "      <td id=\"T_6e202_row0_col7\" class=\"data row0 col7\" >0.8173</td>\n",
       "      <td id=\"T_6e202_row0_col8\" class=\"data row0 col8\" >0.0190</td>\n",
       "    </tr>\n",
       "  </tbody>\n",
       "</table>\n"
      ],
      "text/plain": [
       "<pandas.io.formats.style.Styler at 0x27fe5428810>"
      ]
     },
     "metadata": {},
     "output_type": "display_data"
    },
    {
     "data": {
      "application/vnd.jupyter.widget-view+json": {
       "model_id": "f07eab0513da492eb70021e67f917ad5",
       "version_major": 2,
       "version_minor": 0
      },
      "text/plain": [
       "Processing:   0%|          | 0/9 [00:00<?, ?it/s]"
      ]
     },
     "metadata": {},
     "output_type": "display_data"
    },
    {
     "data": {
      "text/html": [],
      "text/plain": [
       "<IPython.core.display.HTML object>"
      ]
     },
     "metadata": {},
     "output_type": "display_data"
    },
    {
     "data": {
      "text/html": [],
      "text/plain": [
       "<IPython.core.display.HTML object>"
      ]
     },
     "metadata": {},
     "output_type": "display_data"
    },
    {
     "data": {
      "text/html": [],
      "text/plain": [
       "<IPython.core.display.HTML object>"
      ]
     },
     "metadata": {},
     "output_type": "display_data"
    },
    {
     "data": {
      "text/html": [
       "<style type=\"text/css\">\n",
       "#T_01985 th {\n",
       "  text-align: left;\n",
       "}\n",
       "#T_01985_row0_col0 {\n",
       "  text-align: left;\n",
       "}\n",
       "#T_01985_row0_col1, #T_01985_row0_col2, #T_01985_row0_col3, #T_01985_row0_col4, #T_01985_row0_col5, #T_01985_row0_col6, #T_01985_row0_col7 {\n",
       "  text-align: left;\n",
       "  background-color: yellow;\n",
       "}\n",
       "#T_01985_row0_col8 {\n",
       "  text-align: left;\n",
       "  background-color: yellow;\n",
       "  background-color: lightgrey;\n",
       "}\n",
       "</style>\n",
       "<table id=\"T_01985\">\n",
       "  <thead>\n",
       "    <tr>\n",
       "      <th class=\"blank level0\" >&nbsp;</th>\n",
       "      <th id=\"T_01985_level0_col0\" class=\"col_heading level0 col0\" >Model</th>\n",
       "      <th id=\"T_01985_level0_col1\" class=\"col_heading level0 col1\" >Accuracy</th>\n",
       "      <th id=\"T_01985_level0_col2\" class=\"col_heading level0 col2\" >AUC</th>\n",
       "      <th id=\"T_01985_level0_col3\" class=\"col_heading level0 col3\" >Recall</th>\n",
       "      <th id=\"T_01985_level0_col4\" class=\"col_heading level0 col4\" >Prec.</th>\n",
       "      <th id=\"T_01985_level0_col5\" class=\"col_heading level0 col5\" >F1</th>\n",
       "      <th id=\"T_01985_level0_col6\" class=\"col_heading level0 col6\" >Kappa</th>\n",
       "      <th id=\"T_01985_level0_col7\" class=\"col_heading level0 col7\" >MCC</th>\n",
       "      <th id=\"T_01985_level0_col8\" class=\"col_heading level0 col8\" >TT (Sec)</th>\n",
       "    </tr>\n",
       "  </thead>\n",
       "  <tbody>\n",
       "    <tr>\n",
       "      <th id=\"T_01985_level0_row0\" class=\"row_heading level0 row0\" >lda</th>\n",
       "      <td id=\"T_01985_row0_col0\" class=\"data row0 col0\" >Linear Discriminant Analysis</td>\n",
       "      <td id=\"T_01985_row0_col1\" class=\"data row0 col1\" >0.9214</td>\n",
       "      <td id=\"T_01985_row0_col2\" class=\"data row0 col2\" >0.9475</td>\n",
       "      <td id=\"T_01985_row0_col3\" class=\"data row0 col3\" >0.8000</td>\n",
       "      <td id=\"T_01985_row0_col4\" class=\"data row0 col4\" >0.9500</td>\n",
       "      <td id=\"T_01985_row0_col5\" class=\"data row0 col5\" >0.8500</td>\n",
       "      <td id=\"T_01985_row0_col6\" class=\"data row0 col6\" >0.7998</td>\n",
       "      <td id=\"T_01985_row0_col7\" class=\"data row0 col7\" >0.8173</td>\n",
       "      <td id=\"T_01985_row0_col8\" class=\"data row0 col8\" >0.0190</td>\n",
       "    </tr>\n",
       "  </tbody>\n",
       "</table>\n"
      ],
      "text/plain": [
       "<pandas.io.formats.style.Styler at 0x27fe5856290>"
      ]
     },
     "metadata": {},
     "output_type": "display_data"
    },
    {
     "data": {
      "application/vnd.jupyter.widget-view+json": {
       "model_id": "a95a6beaea3c474ba33f20b0917dcbbd",
       "version_major": 2,
       "version_minor": 0
      },
      "text/plain": [
       "Processing:   0%|          | 0/9 [00:00<?, ?it/s]"
      ]
     },
     "metadata": {},
     "output_type": "display_data"
    },
    {
     "data": {
      "text/html": [],
      "text/plain": [
       "<IPython.core.display.HTML object>"
      ]
     },
     "metadata": {},
     "output_type": "display_data"
    },
    {
     "data": {
      "text/html": [],
      "text/plain": [
       "<IPython.core.display.HTML object>"
      ]
     },
     "metadata": {},
     "output_type": "display_data"
    },
    {
     "data": {
      "text/html": [],
      "text/plain": [
       "<IPython.core.display.HTML object>"
      ]
     },
     "metadata": {},
     "output_type": "display_data"
    },
    {
     "data": {
      "text/html": [
       "<style type=\"text/css\">\n",
       "#T_db371 th {\n",
       "  text-align: left;\n",
       "}\n",
       "#T_db371_row0_col0 {\n",
       "  text-align: left;\n",
       "}\n",
       "#T_db371_row0_col1, #T_db371_row0_col2, #T_db371_row0_col3, #T_db371_row0_col4, #T_db371_row0_col5, #T_db371_row0_col6, #T_db371_row0_col7 {\n",
       "  text-align: left;\n",
       "  background-color: yellow;\n",
       "}\n",
       "#T_db371_row0_col8 {\n",
       "  text-align: left;\n",
       "  background-color: yellow;\n",
       "  background-color: lightgrey;\n",
       "}\n",
       "</style>\n",
       "<table id=\"T_db371\">\n",
       "  <thead>\n",
       "    <tr>\n",
       "      <th class=\"blank level0\" >&nbsp;</th>\n",
       "      <th id=\"T_db371_level0_col0\" class=\"col_heading level0 col0\" >Model</th>\n",
       "      <th id=\"T_db371_level0_col1\" class=\"col_heading level0 col1\" >Accuracy</th>\n",
       "      <th id=\"T_db371_level0_col2\" class=\"col_heading level0 col2\" >AUC</th>\n",
       "      <th id=\"T_db371_level0_col3\" class=\"col_heading level0 col3\" >Recall</th>\n",
       "      <th id=\"T_db371_level0_col4\" class=\"col_heading level0 col4\" >Prec.</th>\n",
       "      <th id=\"T_db371_level0_col5\" class=\"col_heading level0 col5\" >F1</th>\n",
       "      <th id=\"T_db371_level0_col6\" class=\"col_heading level0 col6\" >Kappa</th>\n",
       "      <th id=\"T_db371_level0_col7\" class=\"col_heading level0 col7\" >MCC</th>\n",
       "      <th id=\"T_db371_level0_col8\" class=\"col_heading level0 col8\" >TT (Sec)</th>\n",
       "    </tr>\n",
       "  </thead>\n",
       "  <tbody>\n",
       "    <tr>\n",
       "      <th id=\"T_db371_level0_row0\" class=\"row_heading level0 row0\" >xgboost</th>\n",
       "      <td id=\"T_db371_row0_col0\" class=\"data row0 col0\" >Extreme Gradient Boosting</td>\n",
       "      <td id=\"T_db371_row0_col1\" class=\"data row0 col1\" >0.9071</td>\n",
       "      <td id=\"T_db371_row0_col2\" class=\"data row0 col2\" >0.9500</td>\n",
       "      <td id=\"T_db371_row0_col3\" class=\"data row0 col3\" >0.8000</td>\n",
       "      <td id=\"T_db371_row0_col4\" class=\"data row0 col4\" >0.9167</td>\n",
       "      <td id=\"T_db371_row0_col5\" class=\"data row0 col5\" >0.8133</td>\n",
       "      <td id=\"T_db371_row0_col6\" class=\"data row0 col6\" >0.7574</td>\n",
       "      <td id=\"T_db371_row0_col7\" class=\"data row0 col7\" >0.7909</td>\n",
       "      <td id=\"T_db371_row0_col8\" class=\"data row0 col8\" >0.0280</td>\n",
       "    </tr>\n",
       "  </tbody>\n",
       "</table>\n"
      ],
      "text/plain": [
       "<pandas.io.formats.style.Styler at 0x27fe59e4510>"
      ]
     },
     "metadata": {},
     "output_type": "display_data"
    },
    {
     "data": {
      "application/vnd.jupyter.widget-view+json": {
       "model_id": "944427f27610448f82bd607940c93edc",
       "version_major": 2,
       "version_minor": 0
      },
      "text/plain": [
       "Processing:   0%|          | 0/9 [00:00<?, ?it/s]"
      ]
     },
     "metadata": {},
     "output_type": "display_data"
    },
    {
     "data": {
      "text/html": [],
      "text/plain": [
       "<IPython.core.display.HTML object>"
      ]
     },
     "metadata": {},
     "output_type": "display_data"
    },
    {
     "data": {
      "text/html": [],
      "text/plain": [
       "<IPython.core.display.HTML object>"
      ]
     },
     "metadata": {},
     "output_type": "display_data"
    },
    {
     "data": {
      "text/html": [],
      "text/plain": [
       "<IPython.core.display.HTML object>"
      ]
     },
     "metadata": {},
     "output_type": "display_data"
    },
    {
     "data": {
      "text/html": [
       "<style type=\"text/css\">\n",
       "#T_4d432 th {\n",
       "  text-align: left;\n",
       "}\n",
       "#T_4d432_row0_col0 {\n",
       "  text-align: left;\n",
       "}\n",
       "#T_4d432_row0_col1, #T_4d432_row0_col2, #T_4d432_row0_col3, #T_4d432_row0_col4, #T_4d432_row0_col5, #T_4d432_row0_col6, #T_4d432_row0_col7 {\n",
       "  text-align: left;\n",
       "  background-color: yellow;\n",
       "}\n",
       "#T_4d432_row0_col8 {\n",
       "  text-align: left;\n",
       "  background-color: yellow;\n",
       "  background-color: lightgrey;\n",
       "}\n",
       "</style>\n",
       "<table id=\"T_4d432\">\n",
       "  <thead>\n",
       "    <tr>\n",
       "      <th class=\"blank level0\" >&nbsp;</th>\n",
       "      <th id=\"T_4d432_level0_col0\" class=\"col_heading level0 col0\" >Model</th>\n",
       "      <th id=\"T_4d432_level0_col1\" class=\"col_heading level0 col1\" >Accuracy</th>\n",
       "      <th id=\"T_4d432_level0_col2\" class=\"col_heading level0 col2\" >AUC</th>\n",
       "      <th id=\"T_4d432_level0_col3\" class=\"col_heading level0 col3\" >Recall</th>\n",
       "      <th id=\"T_4d432_level0_col4\" class=\"col_heading level0 col4\" >Prec.</th>\n",
       "      <th id=\"T_4d432_level0_col5\" class=\"col_heading level0 col5\" >F1</th>\n",
       "      <th id=\"T_4d432_level0_col6\" class=\"col_heading level0 col6\" >Kappa</th>\n",
       "      <th id=\"T_4d432_level0_col7\" class=\"col_heading level0 col7\" >MCC</th>\n",
       "      <th id=\"T_4d432_level0_col8\" class=\"col_heading level0 col8\" >TT (Sec)</th>\n",
       "    </tr>\n",
       "  </thead>\n",
       "  <tbody>\n",
       "    <tr>\n",
       "      <th id=\"T_4d432_level0_row0\" class=\"row_heading level0 row0\" >svm</th>\n",
       "      <td id=\"T_4d432_row0_col0\" class=\"data row0 col0\" >SVM - Linear Kernel</td>\n",
       "      <td id=\"T_4d432_row0_col1\" class=\"data row0 col1\" >0.8905</td>\n",
       "      <td id=\"T_4d432_row0_col2\" class=\"data row0 col2\" >0.9675</td>\n",
       "      <td id=\"T_4d432_row0_col3\" class=\"data row0 col3\" >0.8500</td>\n",
       "      <td id=\"T_4d432_row0_col4\" class=\"data row0 col4\" >0.7500</td>\n",
       "      <td id=\"T_4d432_row0_col5\" class=\"data row0 col5\" >0.7733</td>\n",
       "      <td id=\"T_4d432_row0_col6\" class=\"data row0 col6\" >0.7160</td>\n",
       "      <td id=\"T_4d432_row0_col7\" class=\"data row0 col7\" >0.7399</td>\n",
       "      <td id=\"T_4d432_row0_col8\" class=\"data row0 col8\" >0.0170</td>\n",
       "    </tr>\n",
       "  </tbody>\n",
       "</table>\n"
      ],
      "text/plain": [
       "<pandas.io.formats.style.Styler at 0x27fe5389c90>"
      ]
     },
     "metadata": {},
     "output_type": "display_data"
    },
    {
     "data": {
      "application/vnd.jupyter.widget-view+json": {
       "model_id": "22dcd1813df6428d9418ac170f328974",
       "version_major": 2,
       "version_minor": 0
      },
      "text/plain": [
       "Processing:   0%|          | 0/9 [00:00<?, ?it/s]"
      ]
     },
     "metadata": {},
     "output_type": "display_data"
    },
    {
     "data": {
      "text/html": [],
      "text/plain": [
       "<IPython.core.display.HTML object>"
      ]
     },
     "metadata": {},
     "output_type": "display_data"
    },
    {
     "data": {
      "text/html": [],
      "text/plain": [
       "<IPython.core.display.HTML object>"
      ]
     },
     "metadata": {},
     "output_type": "display_data"
    },
    {
     "data": {
      "text/html": [],
      "text/plain": [
       "<IPython.core.display.HTML object>"
      ]
     },
     "metadata": {},
     "output_type": "display_data"
    },
    {
     "data": {
      "text/html": [
       "<style type=\"text/css\">\n",
       "#T_d32a9 th {\n",
       "  text-align: left;\n",
       "}\n",
       "#T_d32a9_row0_col0 {\n",
       "  text-align: left;\n",
       "}\n",
       "#T_d32a9_row0_col1, #T_d32a9_row0_col2, #T_d32a9_row0_col3, #T_d32a9_row0_col4, #T_d32a9_row0_col5, #T_d32a9_row0_col6, #T_d32a9_row0_col7 {\n",
       "  text-align: left;\n",
       "  background-color: yellow;\n",
       "}\n",
       "#T_d32a9_row0_col8 {\n",
       "  text-align: left;\n",
       "  background-color: yellow;\n",
       "  background-color: lightgrey;\n",
       "}\n",
       "</style>\n",
       "<table id=\"T_d32a9\">\n",
       "  <thead>\n",
       "    <tr>\n",
       "      <th class=\"blank level0\" >&nbsp;</th>\n",
       "      <th id=\"T_d32a9_level0_col0\" class=\"col_heading level0 col0\" >Model</th>\n",
       "      <th id=\"T_d32a9_level0_col1\" class=\"col_heading level0 col1\" >Accuracy</th>\n",
       "      <th id=\"T_d32a9_level0_col2\" class=\"col_heading level0 col2\" >AUC</th>\n",
       "      <th id=\"T_d32a9_level0_col3\" class=\"col_heading level0 col3\" >Recall</th>\n",
       "      <th id=\"T_d32a9_level0_col4\" class=\"col_heading level0 col4\" >Prec.</th>\n",
       "      <th id=\"T_d32a9_level0_col5\" class=\"col_heading level0 col5\" >F1</th>\n",
       "      <th id=\"T_d32a9_level0_col6\" class=\"col_heading level0 col6\" >Kappa</th>\n",
       "      <th id=\"T_d32a9_level0_col7\" class=\"col_heading level0 col7\" >MCC</th>\n",
       "      <th id=\"T_d32a9_level0_col8\" class=\"col_heading level0 col8\" >TT (Sec)</th>\n",
       "    </tr>\n",
       "  </thead>\n",
       "  <tbody>\n",
       "    <tr>\n",
       "      <th id=\"T_d32a9_level0_row0\" class=\"row_heading level0 row0\" >lightgbm</th>\n",
       "      <td id=\"T_d32a9_row0_col0\" class=\"data row0 col0\" >Light Gradient Boosting Machine</td>\n",
       "      <td id=\"T_d32a9_row0_col1\" class=\"data row0 col1\" >0.8881</td>\n",
       "      <td id=\"T_d32a9_row0_col2\" class=\"data row0 col2\" >0.9200</td>\n",
       "      <td id=\"T_d32a9_row0_col3\" class=\"data row0 col3\" >0.8000</td>\n",
       "      <td id=\"T_d32a9_row0_col4\" class=\"data row0 col4\" >0.8500</td>\n",
       "      <td id=\"T_d32a9_row0_col5\" class=\"data row0 col5\" >0.7667</td>\n",
       "      <td id=\"T_d32a9_row0_col6\" class=\"data row0 col6\" >0.7034</td>\n",
       "      <td id=\"T_d32a9_row0_col7\" class=\"data row0 col7\" >0.7453</td>\n",
       "      <td id=\"T_d32a9_row0_col8\" class=\"data row0 col8\" >0.0330</td>\n",
       "    </tr>\n",
       "  </tbody>\n",
       "</table>\n"
      ],
      "text/plain": [
       "<pandas.io.formats.style.Styler at 0x27fe5a3c4d0>"
      ]
     },
     "metadata": {},
     "output_type": "display_data"
    },
    {
     "data": {
      "application/vnd.jupyter.widget-view+json": {
       "model_id": "5cf9bf9562d54df4a6cfdd1cc5a89f46",
       "version_major": 2,
       "version_minor": 0
      },
      "text/plain": [
       "Processing:   0%|          | 0/9 [00:00<?, ?it/s]"
      ]
     },
     "metadata": {},
     "output_type": "display_data"
    },
    {
     "data": {
      "text/html": [],
      "text/plain": [
       "<IPython.core.display.HTML object>"
      ]
     },
     "metadata": {},
     "output_type": "display_data"
    },
    {
     "data": {
      "text/html": [],
      "text/plain": [
       "<IPython.core.display.HTML object>"
      ]
     },
     "metadata": {},
     "output_type": "display_data"
    },
    {
     "data": {
      "text/html": [],
      "text/plain": [
       "<IPython.core.display.HTML object>"
      ]
     },
     "metadata": {},
     "output_type": "display_data"
    },
    {
     "data": {
      "text/html": [
       "<style type=\"text/css\">\n",
       "#T_a1bfd th {\n",
       "  text-align: left;\n",
       "}\n",
       "#T_a1bfd_row0_col0 {\n",
       "  text-align: left;\n",
       "}\n",
       "#T_a1bfd_row0_col1, #T_a1bfd_row0_col2, #T_a1bfd_row0_col3, #T_a1bfd_row0_col4, #T_a1bfd_row0_col5, #T_a1bfd_row0_col6, #T_a1bfd_row0_col7 {\n",
       "  text-align: left;\n",
       "  background-color: yellow;\n",
       "}\n",
       "#T_a1bfd_row0_col8 {\n",
       "  text-align: left;\n",
       "  background-color: yellow;\n",
       "  background-color: lightgrey;\n",
       "}\n",
       "</style>\n",
       "<table id=\"T_a1bfd\">\n",
       "  <thead>\n",
       "    <tr>\n",
       "      <th class=\"blank level0\" >&nbsp;</th>\n",
       "      <th id=\"T_a1bfd_level0_col0\" class=\"col_heading level0 col0\" >Model</th>\n",
       "      <th id=\"T_a1bfd_level0_col1\" class=\"col_heading level0 col1\" >Accuracy</th>\n",
       "      <th id=\"T_a1bfd_level0_col2\" class=\"col_heading level0 col2\" >AUC</th>\n",
       "      <th id=\"T_a1bfd_level0_col3\" class=\"col_heading level0 col3\" >Recall</th>\n",
       "      <th id=\"T_a1bfd_level0_col4\" class=\"col_heading level0 col4\" >Prec.</th>\n",
       "      <th id=\"T_a1bfd_level0_col5\" class=\"col_heading level0 col5\" >F1</th>\n",
       "      <th id=\"T_a1bfd_level0_col6\" class=\"col_heading level0 col6\" >Kappa</th>\n",
       "      <th id=\"T_a1bfd_level0_col7\" class=\"col_heading level0 col7\" >MCC</th>\n",
       "      <th id=\"T_a1bfd_level0_col8\" class=\"col_heading level0 col8\" >TT (Sec)</th>\n",
       "    </tr>\n",
       "  </thead>\n",
       "  <tbody>\n",
       "    <tr>\n",
       "      <th id=\"T_a1bfd_level0_row0\" class=\"row_heading level0 row0\" >ada</th>\n",
       "      <td id=\"T_a1bfd_row0_col0\" class=\"data row0 col0\" >Ada Boost Classifier</td>\n",
       "      <td id=\"T_a1bfd_row0_col1\" class=\"data row0 col1\" >0.8690</td>\n",
       "      <td id=\"T_a1bfd_row0_col2\" class=\"data row0 col2\" >0.9375</td>\n",
       "      <td id=\"T_a1bfd_row0_col3\" class=\"data row0 col3\" >0.8500</td>\n",
       "      <td id=\"T_a1bfd_row0_col4\" class=\"data row0 col4\" >0.8000</td>\n",
       "      <td id=\"T_a1bfd_row0_col5\" class=\"data row0 col5\" >0.7867</td>\n",
       "      <td id=\"T_a1bfd_row0_col6\" class=\"data row0 col6\" >0.6969</td>\n",
       "      <td id=\"T_a1bfd_row0_col7\" class=\"data row0 col7\" >0.7250</td>\n",
       "      <td id=\"T_a1bfd_row0_col8\" class=\"data row0 col8\" >0.0460</td>\n",
       "    </tr>\n",
       "  </tbody>\n",
       "</table>\n"
      ],
      "text/plain": [
       "<pandas.io.formats.style.Styler at 0x27fe557ae90>"
      ]
     },
     "metadata": {},
     "output_type": "display_data"
    },
    {
     "data": {
      "application/vnd.jupyter.widget-view+json": {
       "model_id": "9f8ac7ba19ae4540a980bb1d0b28a940",
       "version_major": 2,
       "version_minor": 0
      },
      "text/plain": [
       "Processing:   0%|          | 0/9 [00:00<?, ?it/s]"
      ]
     },
     "metadata": {},
     "output_type": "display_data"
    },
    {
     "data": {
      "text/html": [],
      "text/plain": [
       "<IPython.core.display.HTML object>"
      ]
     },
     "metadata": {},
     "output_type": "display_data"
    },
    {
     "data": {
      "text/html": [],
      "text/plain": [
       "<IPython.core.display.HTML object>"
      ]
     },
     "metadata": {},
     "output_type": "display_data"
    },
    {
     "data": {
      "text/html": [],
      "text/plain": [
       "<IPython.core.display.HTML object>"
      ]
     },
     "metadata": {},
     "output_type": "display_data"
    },
    {
     "data": {
      "text/html": [
       "<style type=\"text/css\">\n",
       "#T_4b4cc th {\n",
       "  text-align: left;\n",
       "}\n",
       "#T_4b4cc_row0_col0 {\n",
       "  text-align: left;\n",
       "}\n",
       "#T_4b4cc_row0_col1, #T_4b4cc_row0_col2, #T_4b4cc_row0_col3, #T_4b4cc_row0_col4, #T_4b4cc_row0_col5, #T_4b4cc_row0_col6, #T_4b4cc_row0_col7 {\n",
       "  text-align: left;\n",
       "  background-color: yellow;\n",
       "}\n",
       "#T_4b4cc_row0_col8 {\n",
       "  text-align: left;\n",
       "  background-color: yellow;\n",
       "  background-color: lightgrey;\n",
       "}\n",
       "</style>\n",
       "<table id=\"T_4b4cc\">\n",
       "  <thead>\n",
       "    <tr>\n",
       "      <th class=\"blank level0\" >&nbsp;</th>\n",
       "      <th id=\"T_4b4cc_level0_col0\" class=\"col_heading level0 col0\" >Model</th>\n",
       "      <th id=\"T_4b4cc_level0_col1\" class=\"col_heading level0 col1\" >Accuracy</th>\n",
       "      <th id=\"T_4b4cc_level0_col2\" class=\"col_heading level0 col2\" >AUC</th>\n",
       "      <th id=\"T_4b4cc_level0_col3\" class=\"col_heading level0 col3\" >Recall</th>\n",
       "      <th id=\"T_4b4cc_level0_col4\" class=\"col_heading level0 col4\" >Prec.</th>\n",
       "      <th id=\"T_4b4cc_level0_col5\" class=\"col_heading level0 col5\" >F1</th>\n",
       "      <th id=\"T_4b4cc_level0_col6\" class=\"col_heading level0 col6\" >Kappa</th>\n",
       "      <th id=\"T_4b4cc_level0_col7\" class=\"col_heading level0 col7\" >MCC</th>\n",
       "      <th id=\"T_4b4cc_level0_col8\" class=\"col_heading level0 col8\" >TT (Sec)</th>\n",
       "    </tr>\n",
       "  </thead>\n",
       "  <tbody>\n",
       "    <tr>\n",
       "      <th id=\"T_4b4cc_level0_row0\" class=\"row_heading level0 row0\" >gbc</th>\n",
       "      <td id=\"T_4b4cc_row0_col0\" class=\"data row0 col0\" >Gradient Boosting Classifier</td>\n",
       "      <td id=\"T_4b4cc_row0_col1\" class=\"data row0 col1\" >0.8381</td>\n",
       "      <td id=\"T_4b4cc_row0_col2\" class=\"data row0 col2\" >0.7737</td>\n",
       "      <td id=\"T_4b4cc_row0_col3\" class=\"data row0 col3\" >0.7000</td>\n",
       "      <td id=\"T_4b4cc_row0_col4\" class=\"data row0 col4\" >0.7000</td>\n",
       "      <td id=\"T_4b4cc_row0_col5\" class=\"data row0 col5\" >0.6533</td>\n",
       "      <td id=\"T_4b4cc_row0_col6\" class=\"data row0 col6\" >0.5557</td>\n",
       "      <td id=\"T_4b4cc_row0_col7\" class=\"data row0 col7\" >0.5895</td>\n",
       "      <td id=\"T_4b4cc_row0_col8\" class=\"data row0 col8\" >0.0580</td>\n",
       "    </tr>\n",
       "  </tbody>\n",
       "</table>\n"
      ],
      "text/plain": [
       "<pandas.io.formats.style.Styler at 0x27fe573be10>"
      ]
     },
     "metadata": {},
     "output_type": "display_data"
    },
    {
     "data": {
      "application/vnd.jupyter.widget-view+json": {
       "model_id": "d3300deabeed43d387ae5b031ec3cbdb",
       "version_major": 2,
       "version_minor": 0
      },
      "text/plain": [
       "Processing:   0%|          | 0/9 [00:00<?, ?it/s]"
      ]
     },
     "metadata": {},
     "output_type": "display_data"
    },
    {
     "data": {
      "text/html": [],
      "text/plain": [
       "<IPython.core.display.HTML object>"
      ]
     },
     "metadata": {},
     "output_type": "display_data"
    },
    {
     "data": {
      "text/html": [],
      "text/plain": [
       "<IPython.core.display.HTML object>"
      ]
     },
     "metadata": {},
     "output_type": "display_data"
    },
    {
     "data": {
      "text/html": [],
      "text/plain": [
       "<IPython.core.display.HTML object>"
      ]
     },
     "metadata": {},
     "output_type": "display_data"
    },
    {
     "data": {
      "text/html": [
       "<style type=\"text/css\">\n",
       "#T_04285 th {\n",
       "  text-align: left;\n",
       "}\n",
       "#T_04285_row0_col0 {\n",
       "  text-align: left;\n",
       "}\n",
       "#T_04285_row0_col1, #T_04285_row0_col2, #T_04285_row0_col3, #T_04285_row0_col4, #T_04285_row0_col5, #T_04285_row0_col6, #T_04285_row0_col7 {\n",
       "  text-align: left;\n",
       "  background-color: yellow;\n",
       "}\n",
       "#T_04285_row0_col8 {\n",
       "  text-align: left;\n",
       "  background-color: yellow;\n",
       "  background-color: lightgrey;\n",
       "}\n",
       "</style>\n",
       "<table id=\"T_04285\">\n",
       "  <thead>\n",
       "    <tr>\n",
       "      <th class=\"blank level0\" >&nbsp;</th>\n",
       "      <th id=\"T_04285_level0_col0\" class=\"col_heading level0 col0\" >Model</th>\n",
       "      <th id=\"T_04285_level0_col1\" class=\"col_heading level0 col1\" >Accuracy</th>\n",
       "      <th id=\"T_04285_level0_col2\" class=\"col_heading level0 col2\" >AUC</th>\n",
       "      <th id=\"T_04285_level0_col3\" class=\"col_heading level0 col3\" >Recall</th>\n",
       "      <th id=\"T_04285_level0_col4\" class=\"col_heading level0 col4\" >Prec.</th>\n",
       "      <th id=\"T_04285_level0_col5\" class=\"col_heading level0 col5\" >F1</th>\n",
       "      <th id=\"T_04285_level0_col6\" class=\"col_heading level0 col6\" >Kappa</th>\n",
       "      <th id=\"T_04285_level0_col7\" class=\"col_heading level0 col7\" >MCC</th>\n",
       "      <th id=\"T_04285_level0_col8\" class=\"col_heading level0 col8\" >TT (Sec)</th>\n",
       "    </tr>\n",
       "  </thead>\n",
       "  <tbody>\n",
       "    <tr>\n",
       "      <th id=\"T_04285_level0_row0\" class=\"row_heading level0 row0\" >dt</th>\n",
       "      <td id=\"T_04285_row0_col0\" class=\"data row0 col0\" >Decision Tree Classifier</td>\n",
       "      <td id=\"T_04285_row0_col1\" class=\"data row0 col1\" >0.7905</td>\n",
       "      <td id=\"T_04285_row0_col2\" class=\"data row0 col2\" >0.7175</td>\n",
       "      <td id=\"T_04285_row0_col3\" class=\"data row0 col3\" >0.5500</td>\n",
       "      <td id=\"T_04285_row0_col4\" class=\"data row0 col4\" >0.5333</td>\n",
       "      <td id=\"T_04285_row0_col5\" class=\"data row0 col5\" >0.5067</td>\n",
       "      <td id=\"T_04285_row0_col6\" class=\"data row0 col6\" >0.4017</td>\n",
       "      <td id=\"T_04285_row0_col7\" class=\"data row0 col7\" >0.4227</td>\n",
       "      <td id=\"T_04285_row0_col8\" class=\"data row0 col8\" >0.0130</td>\n",
       "    </tr>\n",
       "  </tbody>\n",
       "</table>\n"
      ],
      "text/plain": [
       "<pandas.io.formats.style.Styler at 0x27fe56768d0>"
      ]
     },
     "metadata": {},
     "output_type": "display_data"
    },
    {
     "data": {
      "application/vnd.jupyter.widget-view+json": {
       "model_id": "3a2c414096fe469da84a930dd678348a",
       "version_major": 2,
       "version_minor": 0
      },
      "text/plain": [
       "Processing:   0%|          | 0/9 [00:00<?, ?it/s]"
      ]
     },
     "metadata": {},
     "output_type": "display_data"
    },
    {
     "data": {
      "text/html": [],
      "text/plain": [
       "<IPython.core.display.HTML object>"
      ]
     },
     "metadata": {},
     "output_type": "display_data"
    },
    {
     "data": {
      "text/html": [],
      "text/plain": [
       "<IPython.core.display.HTML object>"
      ]
     },
     "metadata": {},
     "output_type": "display_data"
    },
    {
     "data": {
      "text/html": [],
      "text/plain": [
       "<IPython.core.display.HTML object>"
      ]
     },
     "metadata": {},
     "output_type": "display_data"
    },
    {
     "data": {
      "text/html": [
       "<style type=\"text/css\">\n",
       "#T_05a6a th {\n",
       "  text-align: left;\n",
       "}\n",
       "#T_05a6a_row0_col0 {\n",
       "  text-align: left;\n",
       "}\n",
       "#T_05a6a_row0_col1, #T_05a6a_row0_col2, #T_05a6a_row0_col3, #T_05a6a_row0_col4, #T_05a6a_row0_col5, #T_05a6a_row0_col6, #T_05a6a_row0_col7 {\n",
       "  text-align: left;\n",
       "  background-color: yellow;\n",
       "}\n",
       "#T_05a6a_row0_col8 {\n",
       "  text-align: left;\n",
       "  background-color: yellow;\n",
       "  background-color: lightgrey;\n",
       "}\n",
       "</style>\n",
       "<table id=\"T_05a6a\">\n",
       "  <thead>\n",
       "    <tr>\n",
       "      <th class=\"blank level0\" >&nbsp;</th>\n",
       "      <th id=\"T_05a6a_level0_col0\" class=\"col_heading level0 col0\" >Model</th>\n",
       "      <th id=\"T_05a6a_level0_col1\" class=\"col_heading level0 col1\" >Accuracy</th>\n",
       "      <th id=\"T_05a6a_level0_col2\" class=\"col_heading level0 col2\" >AUC</th>\n",
       "      <th id=\"T_05a6a_level0_col3\" class=\"col_heading level0 col3\" >Recall</th>\n",
       "      <th id=\"T_05a6a_level0_col4\" class=\"col_heading level0 col4\" >Prec.</th>\n",
       "      <th id=\"T_05a6a_level0_col5\" class=\"col_heading level0 col5\" >F1</th>\n",
       "      <th id=\"T_05a6a_level0_col6\" class=\"col_heading level0 col6\" >Kappa</th>\n",
       "      <th id=\"T_05a6a_level0_col7\" class=\"col_heading level0 col7\" >MCC</th>\n",
       "      <th id=\"T_05a6a_level0_col8\" class=\"col_heading level0 col8\" >TT (Sec)</th>\n",
       "    </tr>\n",
       "  </thead>\n",
       "  <tbody>\n",
       "    <tr>\n",
       "      <th id=\"T_05a6a_level0_row0\" class=\"row_heading level0 row0\" >dummy</th>\n",
       "      <td id=\"T_05a6a_row0_col0\" class=\"data row0 col0\" >Dummy Classifier</td>\n",
       "      <td id=\"T_05a6a_row0_col1\" class=\"data row0 col1\" >0.7310</td>\n",
       "      <td id=\"T_05a6a_row0_col2\" class=\"data row0 col2\" >0.5000</td>\n",
       "      <td id=\"T_05a6a_row0_col3\" class=\"data row0 col3\" >0.0000</td>\n",
       "      <td id=\"T_05a6a_row0_col4\" class=\"data row0 col4\" >0.0000</td>\n",
       "      <td id=\"T_05a6a_row0_col5\" class=\"data row0 col5\" >0.0000</td>\n",
       "      <td id=\"T_05a6a_row0_col6\" class=\"data row0 col6\" >0.0000</td>\n",
       "      <td id=\"T_05a6a_row0_col7\" class=\"data row0 col7\" >0.0000</td>\n",
       "      <td id=\"T_05a6a_row0_col8\" class=\"data row0 col8\" >0.0120</td>\n",
       "    </tr>\n",
       "  </tbody>\n",
       "</table>\n"
      ],
      "text/plain": [
       "<pandas.io.formats.style.Styler at 0x27fe539cd10>"
      ]
     },
     "metadata": {},
     "output_type": "display_data"
    },
    {
     "data": {
      "application/vnd.jupyter.widget-view+json": {
       "model_id": "1e96d70adb3446d48def897222e09224",
       "version_major": 2,
       "version_minor": 0
      },
      "text/plain": [
       "Processing:   0%|          | 0/9 [00:00<?, ?it/s]"
      ]
     },
     "metadata": {},
     "output_type": "display_data"
    },
    {
     "data": {
      "text/html": [],
      "text/plain": [
       "<IPython.core.display.HTML object>"
      ]
     },
     "metadata": {},
     "output_type": "display_data"
    },
    {
     "data": {
      "text/html": [],
      "text/plain": [
       "<IPython.core.display.HTML object>"
      ]
     },
     "metadata": {},
     "output_type": "display_data"
    }
   ],
   "source": [
    "import pandas as pd\n",
    "from pycaret.classification import setup, compare_models, predict_model, finalize_model, pull\n",
    "from sklearn.metrics import accuracy_score, f1_score\n",
    "from sklearn.model_selection import train_test_split\n",
    "import joblib\n",
    "\n",
    "# Load the CSV file into a DataFrame\n",
    "df = pd.read_csv('../data/players_df_sin_reco.csv')\n",
    "\n",
    "# Select features (columns 7 to 20, 0-based index: 6 to 19)\n",
    "X = df.iloc[:, 6:20]\n",
    "\n",
    "# Select the 10th column from the end as the target\n",
    "y = df.iloc[:, -10]\n",
    "\n",
    "# Split data into training and testing sets\n",
    "X_train, X_test, y_train, y_test = train_test_split(X, y, test_size=0.2, random_state=42)\n",
    "\n",
    "# Create an empty DataFrame to store results\n",
    "sweeperkeeper_df = pd.DataFrame(columns=['model', 'train_accuracy', 'test_accuracy', 'train_f1', 'test_f1', 'TT'])\n",
    "\n",
    "# Concatenate X_train and y_train into a DataFrame for PyCaret setup\n",
    "df_target = pd.concat([X_train, y_train], axis=1)\n",
    "\n",
    "# Setup PyCaret environment\n",
    "clf = setup(data=df_target, target=y.name, session_id=42)\n",
    "\n",
    "# Compare different models and store the results\n",
    "best_model = compare_models()  # This returns the top model\n",
    "compare_results = pull()  # Pulls all model results as a DataFrame\n",
    "\n",
    "# Define the mapping from model names to PyCaret identifiers\n",
    "model_mapping = {\n",
    "    'K Neighbors Classifier': 'knn',\n",
    "    'Random Forest Classifier': 'rf',\n",
    "    'Logistic Regression': 'lr',\n",
    "    'Decision Tree Classifier': 'dt',\n",
    "    'Ada Boost Classifier': 'ada',\n",
    "    'Gradient Boosting Classifier': 'gbc',\n",
    "    'Naive Bayes': 'nb',\n",
    "    'SVM - Linear Kernel': 'svm',\n",
    "    'Extra Trees Classifier': 'et',\n",
    "    'Light Gradient Boosting Machine': 'lightgbm',\n",
    "    'Ridge Classifier': 'ridge',\n",
    "    'Linear Discriminant Analysis': 'lda',\n",
    "    'Extreme Gradient Boosting': 'xgboost',\n",
    "    'Dummy Classifier': 'dummy'\n",
    "}\n",
    "\n",
    "# Loop over each model in the compare_results DataFrame\n",
    "for idx, row in compare_results.iterrows():\n",
    "    model_name = row['Model']\n",
    "    testing_time = row['TT (Sec)']\n",
    "\n",
    "    # Get the PyCaret identifier for the model\n",
    "    model_identifier = model_mapping.get(model_name)\n",
    "\n",
    "    # Instead of finalizing by the model name, select the model by identifier\n",
    "    if model_identifier:\n",
    "        best_model = compare_models(include=[model_identifier], n_select=1)\n",
    "\n",
    "        # Finalize the model (train it on the entire dataset)\n",
    "        final_model = finalize_model(best_model)\n",
    "\n",
    "        # Predict on train and test sets\n",
    "        predictions_train = predict_model(final_model, data=X_train)\n",
    "        predictions_test = predict_model(final_model, data=X_test)\n",
    "\n",
    "        # Calculate test accuracy and F1 score\n",
    "        y_pred_test = predictions_test['prediction_label']\n",
    "        test_accuracy = accuracy_score(y_test, y_pred_test)\n",
    "        test_f1 = f1_score(y_test, y_pred_test, average='weighted')\n",
    "\n",
    "        # Calculate train accuracy and F1 score\n",
    "        y_pred_train = predictions_train['prediction_label']\n",
    "        train_accuracy = accuracy_score(y_train, y_pred_train)\n",
    "        train_f1 = f1_score(y_train, y_pred_train, average='weighted')\n",
    "\n",
    "        # Append the metrics for each model to the results DataFrame\n",
    "        new_row = pd.DataFrame({\n",
    "            'model': model_name,\n",
    "            'train_accuracy': train_accuracy,\n",
    "            'test_accuracy': test_accuracy,\n",
    "            'train_f1': train_f1,\n",
    "            'test_f1': test_f1,\n",
    "            'TT': testing_time\n",
    "        }, index=[0])\n",
    "\n",
    "        sweeperkeeper_df = pd.concat([sweeperkeeper_df, new_row], ignore_index=True)\n"
   ]
  },
  {
   "cell_type": "code",
   "execution_count": 16,
   "metadata": {},
   "outputs": [
    {
     "data": {
      "text/html": [
       "<div>\n",
       "<style scoped>\n",
       "    .dataframe tbody tr th:only-of-type {\n",
       "        vertical-align: middle;\n",
       "    }\n",
       "\n",
       "    .dataframe tbody tr th {\n",
       "        vertical-align: top;\n",
       "    }\n",
       "\n",
       "    .dataframe thead th {\n",
       "        text-align: right;\n",
       "    }\n",
       "</style>\n",
       "<table border=\"1\" class=\"dataframe\">\n",
       "  <thead>\n",
       "    <tr style=\"text-align: right;\">\n",
       "      <th></th>\n",
       "      <th>model</th>\n",
       "      <th>train_accuracy</th>\n",
       "      <th>test_accuracy</th>\n",
       "      <th>train_f1</th>\n",
       "      <th>test_f1</th>\n",
       "      <th>TT</th>\n",
       "    </tr>\n",
       "  </thead>\n",
       "  <tbody>\n",
       "    <tr>\n",
       "      <th>0</th>\n",
       "      <td>Logistic Regression</td>\n",
       "      <td>1.000000</td>\n",
       "      <td>1.000000</td>\n",
       "      <td>1.000000</td>\n",
       "      <td>1.000000</td>\n",
       "      <td>1.373</td>\n",
       "    </tr>\n",
       "    <tr>\n",
       "      <th>1</th>\n",
       "      <td>Extra Trees Classifier</td>\n",
       "      <td>1.000000</td>\n",
       "      <td>0.913043</td>\n",
       "      <td>1.000000</td>\n",
       "      <td>0.900725</td>\n",
       "      <td>0.110</td>\n",
       "    </tr>\n",
       "    <tr>\n",
       "      <th>2</th>\n",
       "      <td>Naive Bayes</td>\n",
       "      <td>0.934066</td>\n",
       "      <td>0.913043</td>\n",
       "      <td>0.930769</td>\n",
       "      <td>0.900725</td>\n",
       "      <td>0.014</td>\n",
       "    </tr>\n",
       "    <tr>\n",
       "      <th>3</th>\n",
       "      <td>Random Forest Classifier</td>\n",
       "      <td>1.000000</td>\n",
       "      <td>0.913043</td>\n",
       "      <td>1.000000</td>\n",
       "      <td>0.900725</td>\n",
       "      <td>0.098</td>\n",
       "    </tr>\n",
       "    <tr>\n",
       "      <th>4</th>\n",
       "      <td>K Neighbors Classifier</td>\n",
       "      <td>0.989011</td>\n",
       "      <td>0.956522</td>\n",
       "      <td>0.988935</td>\n",
       "      <td>0.953974</td>\n",
       "      <td>0.025</td>\n",
       "    </tr>\n",
       "    <tr>\n",
       "      <th>5</th>\n",
       "      <td>Ridge Classifier</td>\n",
       "      <td>0.945055</td>\n",
       "      <td>0.913043</td>\n",
       "      <td>0.943825</td>\n",
       "      <td>0.900725</td>\n",
       "      <td>0.018</td>\n",
       "    </tr>\n",
       "    <tr>\n",
       "      <th>6</th>\n",
       "      <td>Linear Discriminant Analysis</td>\n",
       "      <td>0.945055</td>\n",
       "      <td>0.913043</td>\n",
       "      <td>0.943825</td>\n",
       "      <td>0.900725</td>\n",
       "      <td>0.020</td>\n",
       "    </tr>\n",
       "    <tr>\n",
       "      <th>7</th>\n",
       "      <td>Extreme Gradient Boosting</td>\n",
       "      <td>1.000000</td>\n",
       "      <td>0.913043</td>\n",
       "      <td>1.000000</td>\n",
       "      <td>0.900725</td>\n",
       "      <td>0.250</td>\n",
       "    </tr>\n",
       "    <tr>\n",
       "      <th>8</th>\n",
       "      <td>SVM - Linear Kernel</td>\n",
       "      <td>0.956044</td>\n",
       "      <td>0.869565</td>\n",
       "      <td>0.956044</td>\n",
       "      <td>0.861921</td>\n",
       "      <td>0.013</td>\n",
       "    </tr>\n",
       "    <tr>\n",
       "      <th>9</th>\n",
       "      <td>Light Gradient Boosting Machine</td>\n",
       "      <td>1.000000</td>\n",
       "      <td>0.913043</td>\n",
       "      <td>1.000000</td>\n",
       "      <td>0.900725</td>\n",
       "      <td>0.037</td>\n",
       "    </tr>\n",
       "    <tr>\n",
       "      <th>10</th>\n",
       "      <td>Ada Boost Classifier</td>\n",
       "      <td>1.000000</td>\n",
       "      <td>0.913043</td>\n",
       "      <td>1.000000</td>\n",
       "      <td>0.900725</td>\n",
       "      <td>0.054</td>\n",
       "    </tr>\n",
       "    <tr>\n",
       "      <th>11</th>\n",
       "      <td>Gradient Boosting Classifier</td>\n",
       "      <td>1.000000</td>\n",
       "      <td>0.869565</td>\n",
       "      <td>1.000000</td>\n",
       "      <td>0.861921</td>\n",
       "      <td>0.045</td>\n",
       "    </tr>\n",
       "    <tr>\n",
       "      <th>12</th>\n",
       "      <td>Decision Tree Classifier</td>\n",
       "      <td>1.000000</td>\n",
       "      <td>0.869565</td>\n",
       "      <td>1.000000</td>\n",
       "      <td>0.861921</td>\n",
       "      <td>0.015</td>\n",
       "    </tr>\n",
       "    <tr>\n",
       "      <th>13</th>\n",
       "      <td>Dummy Classifier</td>\n",
       "      <td>0.736264</td>\n",
       "      <td>0.826087</td>\n",
       "      <td>0.624426</td>\n",
       "      <td>0.747412</td>\n",
       "      <td>0.012</td>\n",
       "    </tr>\n",
       "  </tbody>\n",
       "</table>\n",
       "</div>"
      ],
      "text/plain": [
       "                              model  train_accuracy  test_accuracy  train_f1  \\\n",
       "0               Logistic Regression        1.000000       1.000000  1.000000   \n",
       "1            Extra Trees Classifier        1.000000       0.913043  1.000000   \n",
       "2                       Naive Bayes        0.934066       0.913043  0.930769   \n",
       "3          Random Forest Classifier        1.000000       0.913043  1.000000   \n",
       "4            K Neighbors Classifier        0.989011       0.956522  0.988935   \n",
       "5                  Ridge Classifier        0.945055       0.913043  0.943825   \n",
       "6      Linear Discriminant Analysis        0.945055       0.913043  0.943825   \n",
       "7         Extreme Gradient Boosting        1.000000       0.913043  1.000000   \n",
       "8               SVM - Linear Kernel        0.956044       0.869565  0.956044   \n",
       "9   Light Gradient Boosting Machine        1.000000       0.913043  1.000000   \n",
       "10             Ada Boost Classifier        1.000000       0.913043  1.000000   \n",
       "11     Gradient Boosting Classifier        1.000000       0.869565  1.000000   \n",
       "12         Decision Tree Classifier        1.000000       0.869565  1.000000   \n",
       "13                 Dummy Classifier        0.736264       0.826087  0.624426   \n",
       "\n",
       "     test_f1     TT  \n",
       "0   1.000000  1.373  \n",
       "1   0.900725  0.110  \n",
       "2   0.900725  0.014  \n",
       "3   0.900725  0.098  \n",
       "4   0.953974  0.025  \n",
       "5   0.900725  0.018  \n",
       "6   0.900725  0.020  \n",
       "7   0.900725  0.250  \n",
       "8   0.861921  0.013  \n",
       "9   0.900725  0.037  \n",
       "10  0.900725  0.054  \n",
       "11  0.861921  0.045  \n",
       "12  0.861921  0.015  \n",
       "13  0.747412  0.012  "
      ]
     },
     "execution_count": 16,
     "metadata": {},
     "output_type": "execute_result"
    }
   ],
   "source": [
    "sweeperkeeper_df"
   ]
  },
  {
   "cell_type": "markdown",
   "metadata": {},
   "source": [
    "## Ball-Playing Defender"
   ]
  },
  {
   "cell_type": "code",
   "execution_count": 17,
   "metadata": {},
   "outputs": [
    {
     "data": {
      "text/html": [
       "<style type=\"text/css\">\n",
       "#T_64a37_row8_col1 {\n",
       "  background-color: lightgreen;\n",
       "}\n",
       "</style>\n",
       "<table id=\"T_64a37\">\n",
       "  <thead>\n",
       "    <tr>\n",
       "      <th class=\"blank level0\" >&nbsp;</th>\n",
       "      <th id=\"T_64a37_level0_col0\" class=\"col_heading level0 col0\" >Description</th>\n",
       "      <th id=\"T_64a37_level0_col1\" class=\"col_heading level0 col1\" >Value</th>\n",
       "    </tr>\n",
       "  </thead>\n",
       "  <tbody>\n",
       "    <tr>\n",
       "      <th id=\"T_64a37_level0_row0\" class=\"row_heading level0 row0\" >0</th>\n",
       "      <td id=\"T_64a37_row0_col0\" class=\"data row0 col0\" >Session id</td>\n",
       "      <td id=\"T_64a37_row0_col1\" class=\"data row0 col1\" >42</td>\n",
       "    </tr>\n",
       "    <tr>\n",
       "      <th id=\"T_64a37_level0_row1\" class=\"row_heading level0 row1\" >1</th>\n",
       "      <td id=\"T_64a37_row1_col0\" class=\"data row1 col0\" >Target</td>\n",
       "      <td id=\"T_64a37_row1_col1\" class=\"data row1 col1\" >Class_Ball Playing Defender</td>\n",
       "    </tr>\n",
       "    <tr>\n",
       "      <th id=\"T_64a37_level0_row2\" class=\"row_heading level0 row2\" >2</th>\n",
       "      <td id=\"T_64a37_row2_col0\" class=\"data row2 col0\" >Target type</td>\n",
       "      <td id=\"T_64a37_row2_col1\" class=\"data row2 col1\" >Binary</td>\n",
       "    </tr>\n",
       "    <tr>\n",
       "      <th id=\"T_64a37_level0_row3\" class=\"row_heading level0 row3\" >3</th>\n",
       "      <td id=\"T_64a37_row3_col0\" class=\"data row3 col0\" >Original data shape</td>\n",
       "      <td id=\"T_64a37_row3_col1\" class=\"data row3 col1\" >(91, 15)</td>\n",
       "    </tr>\n",
       "    <tr>\n",
       "      <th id=\"T_64a37_level0_row4\" class=\"row_heading level0 row4\" >4</th>\n",
       "      <td id=\"T_64a37_row4_col0\" class=\"data row4 col0\" >Transformed data shape</td>\n",
       "      <td id=\"T_64a37_row4_col1\" class=\"data row4 col1\" >(91, 15)</td>\n",
       "    </tr>\n",
       "    <tr>\n",
       "      <th id=\"T_64a37_level0_row5\" class=\"row_heading level0 row5\" >5</th>\n",
       "      <td id=\"T_64a37_row5_col0\" class=\"data row5 col0\" >Transformed train set shape</td>\n",
       "      <td id=\"T_64a37_row5_col1\" class=\"data row5 col1\" >(63, 15)</td>\n",
       "    </tr>\n",
       "    <tr>\n",
       "      <th id=\"T_64a37_level0_row6\" class=\"row_heading level0 row6\" >6</th>\n",
       "      <td id=\"T_64a37_row6_col0\" class=\"data row6 col0\" >Transformed test set shape</td>\n",
       "      <td id=\"T_64a37_row6_col1\" class=\"data row6 col1\" >(28, 15)</td>\n",
       "    </tr>\n",
       "    <tr>\n",
       "      <th id=\"T_64a37_level0_row7\" class=\"row_heading level0 row7\" >7</th>\n",
       "      <td id=\"T_64a37_row7_col0\" class=\"data row7 col0\" >Numeric features</td>\n",
       "      <td id=\"T_64a37_row7_col1\" class=\"data row7 col1\" >14</td>\n",
       "    </tr>\n",
       "    <tr>\n",
       "      <th id=\"T_64a37_level0_row8\" class=\"row_heading level0 row8\" >8</th>\n",
       "      <td id=\"T_64a37_row8_col0\" class=\"data row8 col0\" >Preprocess</td>\n",
       "      <td id=\"T_64a37_row8_col1\" class=\"data row8 col1\" >True</td>\n",
       "    </tr>\n",
       "    <tr>\n",
       "      <th id=\"T_64a37_level0_row9\" class=\"row_heading level0 row9\" >9</th>\n",
       "      <td id=\"T_64a37_row9_col0\" class=\"data row9 col0\" >Imputation type</td>\n",
       "      <td id=\"T_64a37_row9_col1\" class=\"data row9 col1\" >simple</td>\n",
       "    </tr>\n",
       "    <tr>\n",
       "      <th id=\"T_64a37_level0_row10\" class=\"row_heading level0 row10\" >10</th>\n",
       "      <td id=\"T_64a37_row10_col0\" class=\"data row10 col0\" >Numeric imputation</td>\n",
       "      <td id=\"T_64a37_row10_col1\" class=\"data row10 col1\" >mean</td>\n",
       "    </tr>\n",
       "    <tr>\n",
       "      <th id=\"T_64a37_level0_row11\" class=\"row_heading level0 row11\" >11</th>\n",
       "      <td id=\"T_64a37_row11_col0\" class=\"data row11 col0\" >Categorical imputation</td>\n",
       "      <td id=\"T_64a37_row11_col1\" class=\"data row11 col1\" >mode</td>\n",
       "    </tr>\n",
       "    <tr>\n",
       "      <th id=\"T_64a37_level0_row12\" class=\"row_heading level0 row12\" >12</th>\n",
       "      <td id=\"T_64a37_row12_col0\" class=\"data row12 col0\" >Fold Generator</td>\n",
       "      <td id=\"T_64a37_row12_col1\" class=\"data row12 col1\" >StratifiedKFold</td>\n",
       "    </tr>\n",
       "    <tr>\n",
       "      <th id=\"T_64a37_level0_row13\" class=\"row_heading level0 row13\" >13</th>\n",
       "      <td id=\"T_64a37_row13_col0\" class=\"data row13 col0\" >Fold Number</td>\n",
       "      <td id=\"T_64a37_row13_col1\" class=\"data row13 col1\" >10</td>\n",
       "    </tr>\n",
       "    <tr>\n",
       "      <th id=\"T_64a37_level0_row14\" class=\"row_heading level0 row14\" >14</th>\n",
       "      <td id=\"T_64a37_row14_col0\" class=\"data row14 col0\" >CPU Jobs</td>\n",
       "      <td id=\"T_64a37_row14_col1\" class=\"data row14 col1\" >-1</td>\n",
       "    </tr>\n",
       "    <tr>\n",
       "      <th id=\"T_64a37_level0_row15\" class=\"row_heading level0 row15\" >15</th>\n",
       "      <td id=\"T_64a37_row15_col0\" class=\"data row15 col0\" >Use GPU</td>\n",
       "      <td id=\"T_64a37_row15_col1\" class=\"data row15 col1\" >False</td>\n",
       "    </tr>\n",
       "    <tr>\n",
       "      <th id=\"T_64a37_level0_row16\" class=\"row_heading level0 row16\" >16</th>\n",
       "      <td id=\"T_64a37_row16_col0\" class=\"data row16 col0\" >Log Experiment</td>\n",
       "      <td id=\"T_64a37_row16_col1\" class=\"data row16 col1\" >False</td>\n",
       "    </tr>\n",
       "    <tr>\n",
       "      <th id=\"T_64a37_level0_row17\" class=\"row_heading level0 row17\" >17</th>\n",
       "      <td id=\"T_64a37_row17_col0\" class=\"data row17 col0\" >Experiment Name</td>\n",
       "      <td id=\"T_64a37_row17_col1\" class=\"data row17 col1\" >clf-default-name</td>\n",
       "    </tr>\n",
       "    <tr>\n",
       "      <th id=\"T_64a37_level0_row18\" class=\"row_heading level0 row18\" >18</th>\n",
       "      <td id=\"T_64a37_row18_col0\" class=\"data row18 col0\" >USI</td>\n",
       "      <td id=\"T_64a37_row18_col1\" class=\"data row18 col1\" >68b8</td>\n",
       "    </tr>\n",
       "  </tbody>\n",
       "</table>\n"
      ],
      "text/plain": [
       "<pandas.io.formats.style.Styler at 0x27fdfdc7950>"
      ]
     },
     "metadata": {},
     "output_type": "display_data"
    },
    {
     "data": {
      "text/html": [],
      "text/plain": [
       "<IPython.core.display.HTML object>"
      ]
     },
     "metadata": {},
     "output_type": "display_data"
    },
    {
     "data": {
      "text/html": [
       "<style type=\"text/css\">\n",
       "#T_56e1d th {\n",
       "  text-align: left;\n",
       "}\n",
       "#T_56e1d_row0_col0, #T_56e1d_row1_col0, #T_56e1d_row1_col1, #T_56e1d_row1_col3, #T_56e1d_row1_col4, #T_56e1d_row1_col5, #T_56e1d_row1_col6, #T_56e1d_row1_col7, #T_56e1d_row2_col0, #T_56e1d_row2_col1, #T_56e1d_row2_col3, #T_56e1d_row2_col4, #T_56e1d_row2_col5, #T_56e1d_row2_col6, #T_56e1d_row2_col7, #T_56e1d_row3_col0, #T_56e1d_row3_col1, #T_56e1d_row3_col2, #T_56e1d_row3_col3, #T_56e1d_row3_col4, #T_56e1d_row3_col5, #T_56e1d_row3_col6, #T_56e1d_row3_col7, #T_56e1d_row4_col0, #T_56e1d_row4_col1, #T_56e1d_row4_col3, #T_56e1d_row4_col4, #T_56e1d_row4_col5, #T_56e1d_row4_col6, #T_56e1d_row4_col7, #T_56e1d_row5_col0, #T_56e1d_row5_col1, #T_56e1d_row5_col3, #T_56e1d_row5_col4, #T_56e1d_row5_col5, #T_56e1d_row5_col6, #T_56e1d_row5_col7, #T_56e1d_row6_col0, #T_56e1d_row6_col1, #T_56e1d_row6_col3, #T_56e1d_row6_col4, #T_56e1d_row6_col5, #T_56e1d_row6_col6, #T_56e1d_row6_col7, #T_56e1d_row7_col0, #T_56e1d_row7_col1, #T_56e1d_row7_col2, #T_56e1d_row7_col3, #T_56e1d_row7_col4, #T_56e1d_row7_col5, #T_56e1d_row7_col6, #T_56e1d_row7_col7, #T_56e1d_row8_col0, #T_56e1d_row8_col1, #T_56e1d_row8_col2, #T_56e1d_row8_col3, #T_56e1d_row8_col4, #T_56e1d_row8_col5, #T_56e1d_row8_col6, #T_56e1d_row8_col7, #T_56e1d_row9_col0, #T_56e1d_row9_col1, #T_56e1d_row9_col3, #T_56e1d_row9_col4, #T_56e1d_row9_col5, #T_56e1d_row9_col6, #T_56e1d_row9_col7, #T_56e1d_row10_col0, #T_56e1d_row10_col1, #T_56e1d_row10_col3, #T_56e1d_row10_col4, #T_56e1d_row10_col5, #T_56e1d_row10_col6, #T_56e1d_row10_col7, #T_56e1d_row11_col0, #T_56e1d_row11_col1, #T_56e1d_row11_col2, #T_56e1d_row11_col3, #T_56e1d_row11_col4, #T_56e1d_row11_col5, #T_56e1d_row11_col6, #T_56e1d_row11_col7, #T_56e1d_row12_col0, #T_56e1d_row12_col1, #T_56e1d_row12_col2, #T_56e1d_row12_col3, #T_56e1d_row12_col4, #T_56e1d_row12_col5, #T_56e1d_row12_col6, #T_56e1d_row12_col7, #T_56e1d_row13_col0, #T_56e1d_row13_col1, #T_56e1d_row13_col2, #T_56e1d_row13_col4, #T_56e1d_row13_col5, #T_56e1d_row13_col6, #T_56e1d_row13_col7, #T_56e1d_row14_col0, #T_56e1d_row14_col1, #T_56e1d_row14_col2, #T_56e1d_row14_col3, #T_56e1d_row14_col4, #T_56e1d_row14_col5, #T_56e1d_row14_col6, #T_56e1d_row14_col7 {\n",
       "  text-align: left;\n",
       "}\n",
       "#T_56e1d_row0_col1, #T_56e1d_row0_col2, #T_56e1d_row0_col3, #T_56e1d_row0_col4, #T_56e1d_row0_col5, #T_56e1d_row0_col6, #T_56e1d_row0_col7, #T_56e1d_row1_col2, #T_56e1d_row2_col2, #T_56e1d_row4_col2, #T_56e1d_row5_col2, #T_56e1d_row6_col2, #T_56e1d_row9_col2, #T_56e1d_row10_col2, #T_56e1d_row13_col3 {\n",
       "  text-align: left;\n",
       "  background-color: yellow;\n",
       "}\n",
       "#T_56e1d_row0_col8, #T_56e1d_row1_col8, #T_56e1d_row2_col8, #T_56e1d_row3_col8, #T_56e1d_row4_col8, #T_56e1d_row5_col8, #T_56e1d_row6_col8, #T_56e1d_row7_col8, #T_56e1d_row8_col8, #T_56e1d_row9_col8, #T_56e1d_row10_col8, #T_56e1d_row11_col8, #T_56e1d_row12_col8, #T_56e1d_row14_col8 {\n",
       "  text-align: left;\n",
       "  background-color: lightgrey;\n",
       "}\n",
       "#T_56e1d_row13_col8 {\n",
       "  text-align: left;\n",
       "  background-color: yellow;\n",
       "  background-color: lightgrey;\n",
       "}\n",
       "</style>\n",
       "<table id=\"T_56e1d\">\n",
       "  <thead>\n",
       "    <tr>\n",
       "      <th class=\"blank level0\" >&nbsp;</th>\n",
       "      <th id=\"T_56e1d_level0_col0\" class=\"col_heading level0 col0\" >Model</th>\n",
       "      <th id=\"T_56e1d_level0_col1\" class=\"col_heading level0 col1\" >Accuracy</th>\n",
       "      <th id=\"T_56e1d_level0_col2\" class=\"col_heading level0 col2\" >AUC</th>\n",
       "      <th id=\"T_56e1d_level0_col3\" class=\"col_heading level0 col3\" >Recall</th>\n",
       "      <th id=\"T_56e1d_level0_col4\" class=\"col_heading level0 col4\" >Prec.</th>\n",
       "      <th id=\"T_56e1d_level0_col5\" class=\"col_heading level0 col5\" >F1</th>\n",
       "      <th id=\"T_56e1d_level0_col6\" class=\"col_heading level0 col6\" >Kappa</th>\n",
       "      <th id=\"T_56e1d_level0_col7\" class=\"col_heading level0 col7\" >MCC</th>\n",
       "      <th id=\"T_56e1d_level0_col8\" class=\"col_heading level0 col8\" >TT (Sec)</th>\n",
       "    </tr>\n",
       "  </thead>\n",
       "  <tbody>\n",
       "    <tr>\n",
       "      <th id=\"T_56e1d_level0_row0\" class=\"row_heading level0 row0\" >et</th>\n",
       "      <td id=\"T_56e1d_row0_col0\" class=\"data row0 col0\" >Extra Trees Classifier</td>\n",
       "      <td id=\"T_56e1d_row0_col1\" class=\"data row0 col1\" >0.9833</td>\n",
       "      <td id=\"T_56e1d_row0_col2\" class=\"data row0 col2\" >1.0000</td>\n",
       "      <td id=\"T_56e1d_row0_col3\" class=\"data row0 col3\" >1.0000</td>\n",
       "      <td id=\"T_56e1d_row0_col4\" class=\"data row0 col4\" >0.9833</td>\n",
       "      <td id=\"T_56e1d_row0_col5\" class=\"data row0 col5\" >0.9909</td>\n",
       "      <td id=\"T_56e1d_row0_col6\" class=\"data row0 col6\" >0.9000</td>\n",
       "      <td id=\"T_56e1d_row0_col7\" class=\"data row0 col7\" >0.9000</td>\n",
       "      <td id=\"T_56e1d_row0_col8\" class=\"data row0 col8\" >0.0650</td>\n",
       "    </tr>\n",
       "    <tr>\n",
       "      <th id=\"T_56e1d_level0_row1\" class=\"row_heading level0 row1\" >ridge</th>\n",
       "      <td id=\"T_56e1d_row1_col0\" class=\"data row1 col0\" >Ridge Classifier</td>\n",
       "      <td id=\"T_56e1d_row1_col1\" class=\"data row1 col1\" >0.9500</td>\n",
       "      <td id=\"T_56e1d_row1_col2\" class=\"data row1 col2\" >1.0000</td>\n",
       "      <td id=\"T_56e1d_row1_col3\" class=\"data row1 col3\" >0.9750</td>\n",
       "      <td id=\"T_56e1d_row1_col4\" class=\"data row1 col4\" >0.9667</td>\n",
       "      <td id=\"T_56e1d_row1_col5\" class=\"data row1 col5\" >0.9675</td>\n",
       "      <td id=\"T_56e1d_row1_col6\" class=\"data row1 col6\" >0.7667</td>\n",
       "      <td id=\"T_56e1d_row1_col7\" class=\"data row1 col7\" >0.7707</td>\n",
       "      <td id=\"T_56e1d_row1_col8\" class=\"data row1 col8\" >0.0180</td>\n",
       "    </tr>\n",
       "    <tr>\n",
       "      <th id=\"T_56e1d_level0_row2\" class=\"row_heading level0 row2\" >lda</th>\n",
       "      <td id=\"T_56e1d_row2_col0\" class=\"data row2 col0\" >Linear Discriminant Analysis</td>\n",
       "      <td id=\"T_56e1d_row2_col1\" class=\"data row2 col1\" >0.9500</td>\n",
       "      <td id=\"T_56e1d_row2_col2\" class=\"data row2 col2\" >1.0000</td>\n",
       "      <td id=\"T_56e1d_row2_col3\" class=\"data row2 col3\" >0.9750</td>\n",
       "      <td id=\"T_56e1d_row2_col4\" class=\"data row2 col4\" >0.9667</td>\n",
       "      <td id=\"T_56e1d_row2_col5\" class=\"data row2 col5\" >0.9675</td>\n",
       "      <td id=\"T_56e1d_row2_col6\" class=\"data row2 col6\" >0.7667</td>\n",
       "      <td id=\"T_56e1d_row2_col7\" class=\"data row2 col7\" >0.7707</td>\n",
       "      <td id=\"T_56e1d_row2_col8\" class=\"data row2 col8\" >0.0170</td>\n",
       "    </tr>\n",
       "    <tr>\n",
       "      <th id=\"T_56e1d_level0_row3\" class=\"row_heading level0 row3\" >knn</th>\n",
       "      <td id=\"T_56e1d_row3_col0\" class=\"data row3 col0\" >K Neighbors Classifier</td>\n",
       "      <td id=\"T_56e1d_row3_col1\" class=\"data row3 col1\" >0.9357</td>\n",
       "      <td id=\"T_56e1d_row3_col2\" class=\"data row3 col2\" >0.9850</td>\n",
       "      <td id=\"T_56e1d_row3_col3\" class=\"data row3 col3\" >0.9800</td>\n",
       "      <td id=\"T_56e1d_row3_col4\" class=\"data row3 col4\" >0.9467</td>\n",
       "      <td id=\"T_56e1d_row3_col5\" class=\"data row3 col5\" >0.9596</td>\n",
       "      <td id=\"T_56e1d_row3_col6\" class=\"data row3 col6\" >0.7267</td>\n",
       "      <td id=\"T_56e1d_row3_col7\" class=\"data row3 col7\" >0.7363</td>\n",
       "      <td id=\"T_56e1d_row3_col8\" class=\"data row3 col8\" >0.0250</td>\n",
       "    </tr>\n",
       "    <tr>\n",
       "      <th id=\"T_56e1d_level0_row4\" class=\"row_heading level0 row4\" >rf</th>\n",
       "      <td id=\"T_56e1d_row4_col0\" class=\"data row4 col0\" >Random Forest Classifier</td>\n",
       "      <td id=\"T_56e1d_row4_col1\" class=\"data row4 col1\" >0.9357</td>\n",
       "      <td id=\"T_56e1d_row4_col2\" class=\"data row4 col2\" >1.0000</td>\n",
       "      <td id=\"T_56e1d_row4_col3\" class=\"data row4 col3\" >0.9800</td>\n",
       "      <td id=\"T_56e1d_row4_col4\" class=\"data row4 col4\" >0.9500</td>\n",
       "      <td id=\"T_56e1d_row4_col5\" class=\"data row4 col5\" >0.9598</td>\n",
       "      <td id=\"T_56e1d_row4_col6\" class=\"data row4 col6\" >0.7696</td>\n",
       "      <td id=\"T_56e1d_row4_col7\" class=\"data row4 col7\" >0.7730</td>\n",
       "      <td id=\"T_56e1d_row4_col8\" class=\"data row4 col8\" >0.1040</td>\n",
       "    </tr>\n",
       "    <tr>\n",
       "      <th id=\"T_56e1d_level0_row5\" class=\"row_heading level0 row5\" >lightgbm</th>\n",
       "      <td id=\"T_56e1d_row5_col0\" class=\"data row5 col0\" >Light Gradient Boosting Machine</td>\n",
       "      <td id=\"T_56e1d_row5_col1\" class=\"data row5 col1\" >0.9357</td>\n",
       "      <td id=\"T_56e1d_row5_col2\" class=\"data row5 col2\" >1.0000</td>\n",
       "      <td id=\"T_56e1d_row5_col3\" class=\"data row5 col3\" >0.9550</td>\n",
       "      <td id=\"T_56e1d_row5_col4\" class=\"data row5 col4\" >0.9633</td>\n",
       "      <td id=\"T_56e1d_row5_col5\" class=\"data row5 col5\" >0.9544</td>\n",
       "      <td id=\"T_56e1d_row5_col6\" class=\"data row5 col6\" >0.7934</td>\n",
       "      <td id=\"T_56e1d_row5_col7\" class=\"data row5 col7\" >0.8070</td>\n",
       "      <td id=\"T_56e1d_row5_col8\" class=\"data row5 col8\" >0.0510</td>\n",
       "    </tr>\n",
       "    <tr>\n",
       "      <th id=\"T_56e1d_level0_row6\" class=\"row_heading level0 row6\" >lr</th>\n",
       "      <td id=\"T_56e1d_row6_col0\" class=\"data row6 col0\" >Logistic Regression</td>\n",
       "      <td id=\"T_56e1d_row6_col1\" class=\"data row6 col1\" >0.9333</td>\n",
       "      <td id=\"T_56e1d_row6_col2\" class=\"data row6 col2\" >1.0000</td>\n",
       "      <td id=\"T_56e1d_row6_col3\" class=\"data row6 col3\" >0.9750</td>\n",
       "      <td id=\"T_56e1d_row6_col4\" class=\"data row6 col4\" >0.9500</td>\n",
       "      <td id=\"T_56e1d_row6_col5\" class=\"data row6 col5\" >0.9584</td>\n",
       "      <td id=\"T_56e1d_row6_col6\" class=\"data row6 col6\" >0.6667</td>\n",
       "      <td id=\"T_56e1d_row6_col7\" class=\"data row6 col7\" >0.6707</td>\n",
       "      <td id=\"T_56e1d_row6_col8\" class=\"data row6 col8\" >0.0200</td>\n",
       "    </tr>\n",
       "    <tr>\n",
       "      <th id=\"T_56e1d_level0_row7\" class=\"row_heading level0 row7\" >nb</th>\n",
       "      <td id=\"T_56e1d_row7_col0\" class=\"data row7 col0\" >Naive Bayes</td>\n",
       "      <td id=\"T_56e1d_row7_col1\" class=\"data row7 col1\" >0.9333</td>\n",
       "      <td id=\"T_56e1d_row7_col2\" class=\"data row7 col2\" >0.9300</td>\n",
       "      <td id=\"T_56e1d_row7_col3\" class=\"data row7 col3\" >0.9550</td>\n",
       "      <td id=\"T_56e1d_row7_col4\" class=\"data row7 col4\" >0.9600</td>\n",
       "      <td id=\"T_56e1d_row7_col5\" class=\"data row7 col5\" >0.9546</td>\n",
       "      <td id=\"T_56e1d_row7_col6\" class=\"data row7 col6\" >0.8038</td>\n",
       "      <td id=\"T_56e1d_row7_col7\" class=\"data row7 col7\" >0.8140</td>\n",
       "      <td id=\"T_56e1d_row7_col8\" class=\"data row7 col8\" >0.0240</td>\n",
       "    </tr>\n",
       "    <tr>\n",
       "      <th id=\"T_56e1d_level0_row8\" class=\"row_heading level0 row8\" >ada</th>\n",
       "      <td id=\"T_56e1d_row8_col0\" class=\"data row8 col0\" >Ada Boost Classifier</td>\n",
       "      <td id=\"T_56e1d_row8_col1\" class=\"data row8 col1\" >0.9333</td>\n",
       "      <td id=\"T_56e1d_row8_col2\" class=\"data row8 col2\" >0.9900</td>\n",
       "      <td id=\"T_56e1d_row8_col3\" class=\"data row8 col3\" >0.9750</td>\n",
       "      <td id=\"T_56e1d_row8_col4\" class=\"data row8 col4\" >0.9467</td>\n",
       "      <td id=\"T_56e1d_row8_col5\" class=\"data row8 col5\" >0.9564</td>\n",
       "      <td id=\"T_56e1d_row8_col6\" class=\"data row8 col6\" >0.7238</td>\n",
       "      <td id=\"T_56e1d_row8_col7\" class=\"data row8 col7\" >0.7340</td>\n",
       "      <td id=\"T_56e1d_row8_col8\" class=\"data row8 col8\" >0.0610</td>\n",
       "    </tr>\n",
       "    <tr>\n",
       "      <th id=\"T_56e1d_level0_row9\" class=\"row_heading level0 row9\" >xgboost</th>\n",
       "      <td id=\"T_56e1d_row9_col0\" class=\"data row9 col0\" >Extreme Gradient Boosting</td>\n",
       "      <td id=\"T_56e1d_row9_col1\" class=\"data row9 col1\" >0.9214</td>\n",
       "      <td id=\"T_56e1d_row9_col2\" class=\"data row9 col2\" >1.0000</td>\n",
       "      <td id=\"T_56e1d_row9_col3\" class=\"data row9 col3\" >0.9550</td>\n",
       "      <td id=\"T_56e1d_row9_col4\" class=\"data row9 col4\" >0.9467</td>\n",
       "      <td id=\"T_56e1d_row9_col5\" class=\"data row9 col5\" >0.9453</td>\n",
       "      <td id=\"T_56e1d_row9_col6\" class=\"data row9 col6\" >0.7522</td>\n",
       "      <td id=\"T_56e1d_row9_col7\" class=\"data row9 col7\" >0.7715</td>\n",
       "      <td id=\"T_56e1d_row9_col8\" class=\"data row9 col8\" >0.0300</td>\n",
       "    </tr>\n",
       "    <tr>\n",
       "      <th id=\"T_56e1d_level0_row10\" class=\"row_heading level0 row10\" >svm</th>\n",
       "      <td id=\"T_56e1d_row10_col0\" class=\"data row10 col0\" >SVM - Linear Kernel</td>\n",
       "      <td id=\"T_56e1d_row10_col1\" class=\"data row10 col1\" >0.9167</td>\n",
       "      <td id=\"T_56e1d_row10_col2\" class=\"data row10 col2\" >1.0000</td>\n",
       "      <td id=\"T_56e1d_row10_col3\" class=\"data row10 col3\" >0.9550</td>\n",
       "      <td id=\"T_56e1d_row10_col4\" class=\"data row10 col4\" >0.9500</td>\n",
       "      <td id=\"T_56e1d_row10_col5\" class=\"data row10 col5\" >0.9473</td>\n",
       "      <td id=\"T_56e1d_row10_col6\" class=\"data row10 col6\" >0.6238</td>\n",
       "      <td id=\"T_56e1d_row10_col7\" class=\"data row10 col7\" >0.6340</td>\n",
       "      <td id=\"T_56e1d_row10_col8\" class=\"data row10 col8\" >0.0180</td>\n",
       "    </tr>\n",
       "    <tr>\n",
       "      <th id=\"T_56e1d_level0_row11\" class=\"row_heading level0 row11\" >dt</th>\n",
       "      <td id=\"T_56e1d_row11_col0\" class=\"data row11 col0\" >Decision Tree Classifier</td>\n",
       "      <td id=\"T_56e1d_row11_col1\" class=\"data row11 col1\" >0.8738</td>\n",
       "      <td id=\"T_56e1d_row11_col2\" class=\"data row11 col2\" >0.8300</td>\n",
       "      <td id=\"T_56e1d_row11_col3\" class=\"data row11 col3\" >0.9100</td>\n",
       "      <td id=\"T_56e1d_row11_col4\" class=\"data row11 col4\" >0.9250</td>\n",
       "      <td id=\"T_56e1d_row11_col5\" class=\"data row11 col5\" >0.9112</td>\n",
       "      <td id=\"T_56e1d_row11_col6\" class=\"data row11 col6\" >0.6360</td>\n",
       "      <td id=\"T_56e1d_row11_col7\" class=\"data row11 col7\" >0.6611</td>\n",
       "      <td id=\"T_56e1d_row11_col8\" class=\"data row11 col8\" >0.0200</td>\n",
       "    </tr>\n",
       "    <tr>\n",
       "      <th id=\"T_56e1d_level0_row12\" class=\"row_heading level0 row12\" >gbc</th>\n",
       "      <td id=\"T_56e1d_row12_col0\" class=\"data row12 col0\" >Gradient Boosting Classifier</td>\n",
       "      <td id=\"T_56e1d_row12_col1\" class=\"data row12 col1\" >0.8262</td>\n",
       "      <td id=\"T_56e1d_row12_col2\" class=\"data row12 col2\" >0.8838</td>\n",
       "      <td id=\"T_56e1d_row12_col3\" class=\"data row12 col3\" >0.8900</td>\n",
       "      <td id=\"T_56e1d_row12_col4\" class=\"data row12 col4\" >0.8981</td>\n",
       "      <td id=\"T_56e1d_row12_col5\" class=\"data row12 col5\" >0.8814</td>\n",
       "      <td id=\"T_56e1d_row12_col6\" class=\"data row12 col6\" >0.4998</td>\n",
       "      <td id=\"T_56e1d_row12_col7\" class=\"data row12 col7\" >0.5214</td>\n",
       "      <td id=\"T_56e1d_row12_col8\" class=\"data row12 col8\" >0.0540</td>\n",
       "    </tr>\n",
       "    <tr>\n",
       "      <th id=\"T_56e1d_level0_row13\" class=\"row_heading level0 row13\" >dummy</th>\n",
       "      <td id=\"T_56e1d_row13_col0\" class=\"data row13 col0\" >Dummy Classifier</td>\n",
       "      <td id=\"T_56e1d_row13_col1\" class=\"data row13 col1\" >0.7643</td>\n",
       "      <td id=\"T_56e1d_row13_col2\" class=\"data row13 col2\" >0.5000</td>\n",
       "      <td id=\"T_56e1d_row13_col3\" class=\"data row13 col3\" >1.0000</td>\n",
       "      <td id=\"T_56e1d_row13_col4\" class=\"data row13 col4\" >0.7643</td>\n",
       "      <td id=\"T_56e1d_row13_col5\" class=\"data row13 col5\" >0.8645</td>\n",
       "      <td id=\"T_56e1d_row13_col6\" class=\"data row13 col6\" >0.0000</td>\n",
       "      <td id=\"T_56e1d_row13_col7\" class=\"data row13 col7\" >0.0000</td>\n",
       "      <td id=\"T_56e1d_row13_col8\" class=\"data row13 col8\" >0.0160</td>\n",
       "    </tr>\n",
       "    <tr>\n",
       "      <th id=\"T_56e1d_level0_row14\" class=\"row_heading level0 row14\" >qda</th>\n",
       "      <td id=\"T_56e1d_row14_col0\" class=\"data row14 col0\" >Quadratic Discriminant Analysis</td>\n",
       "      <td id=\"T_56e1d_row14_col1\" class=\"data row14 col1\" >0.6976</td>\n",
       "      <td id=\"T_56e1d_row14_col2\" class=\"data row14 col2\" >0.7100</td>\n",
       "      <td id=\"T_56e1d_row14_col3\" class=\"data row14 col3\" >0.9000</td>\n",
       "      <td id=\"T_56e1d_row14_col4\" class=\"data row14 col4\" >0.6810</td>\n",
       "      <td id=\"T_56e1d_row14_col5\" class=\"data row14 col5\" >0.7736</td>\n",
       "      <td id=\"T_56e1d_row14_col6\" class=\"data row14 col6\" >0.0000</td>\n",
       "      <td id=\"T_56e1d_row14_col7\" class=\"data row14 col7\" >0.0000</td>\n",
       "      <td id=\"T_56e1d_row14_col8\" class=\"data row14 col8\" >0.0170</td>\n",
       "    </tr>\n",
       "  </tbody>\n",
       "</table>\n"
      ],
      "text/plain": [
       "<pandas.io.formats.style.Styler at 0x27fe54be350>"
      ]
     },
     "metadata": {},
     "output_type": "display_data"
    },
    {
     "data": {
      "application/vnd.jupyter.widget-view+json": {
       "model_id": "4fc840d7012b4accb61f98537a936ed6",
       "version_major": 2,
       "version_minor": 0
      },
      "text/plain": [
       "Processing:   0%|          | 0/65 [00:00<?, ?it/s]"
      ]
     },
     "metadata": {},
     "output_type": "display_data"
    },
    {
     "data": {
      "text/html": [],
      "text/plain": [
       "<IPython.core.display.HTML object>"
      ]
     },
     "metadata": {},
     "output_type": "display_data"
    },
    {
     "data": {
      "text/html": [
       "<style type=\"text/css\">\n",
       "#T_afbcb th {\n",
       "  text-align: left;\n",
       "}\n",
       "#T_afbcb_row0_col0 {\n",
       "  text-align: left;\n",
       "}\n",
       "#T_afbcb_row0_col1, #T_afbcb_row0_col2, #T_afbcb_row0_col3, #T_afbcb_row0_col4, #T_afbcb_row0_col5, #T_afbcb_row0_col6, #T_afbcb_row0_col7 {\n",
       "  text-align: left;\n",
       "  background-color: yellow;\n",
       "}\n",
       "#T_afbcb_row0_col8 {\n",
       "  text-align: left;\n",
       "  background-color: yellow;\n",
       "  background-color: lightgrey;\n",
       "}\n",
       "</style>\n",
       "<table id=\"T_afbcb\">\n",
       "  <thead>\n",
       "    <tr>\n",
       "      <th class=\"blank level0\" >&nbsp;</th>\n",
       "      <th id=\"T_afbcb_level0_col0\" class=\"col_heading level0 col0\" >Model</th>\n",
       "      <th id=\"T_afbcb_level0_col1\" class=\"col_heading level0 col1\" >Accuracy</th>\n",
       "      <th id=\"T_afbcb_level0_col2\" class=\"col_heading level0 col2\" >AUC</th>\n",
       "      <th id=\"T_afbcb_level0_col3\" class=\"col_heading level0 col3\" >Recall</th>\n",
       "      <th id=\"T_afbcb_level0_col4\" class=\"col_heading level0 col4\" >Prec.</th>\n",
       "      <th id=\"T_afbcb_level0_col5\" class=\"col_heading level0 col5\" >F1</th>\n",
       "      <th id=\"T_afbcb_level0_col6\" class=\"col_heading level0 col6\" >Kappa</th>\n",
       "      <th id=\"T_afbcb_level0_col7\" class=\"col_heading level0 col7\" >MCC</th>\n",
       "      <th id=\"T_afbcb_level0_col8\" class=\"col_heading level0 col8\" >TT (Sec)</th>\n",
       "    </tr>\n",
       "  </thead>\n",
       "  <tbody>\n",
       "    <tr>\n",
       "      <th id=\"T_afbcb_level0_row0\" class=\"row_heading level0 row0\" >et</th>\n",
       "      <td id=\"T_afbcb_row0_col0\" class=\"data row0 col0\" >Extra Trees Classifier</td>\n",
       "      <td id=\"T_afbcb_row0_col1\" class=\"data row0 col1\" >0.9833</td>\n",
       "      <td id=\"T_afbcb_row0_col2\" class=\"data row0 col2\" >1.0000</td>\n",
       "      <td id=\"T_afbcb_row0_col3\" class=\"data row0 col3\" >1.0000</td>\n",
       "      <td id=\"T_afbcb_row0_col4\" class=\"data row0 col4\" >0.9833</td>\n",
       "      <td id=\"T_afbcb_row0_col5\" class=\"data row0 col5\" >0.9909</td>\n",
       "      <td id=\"T_afbcb_row0_col6\" class=\"data row0 col6\" >0.9000</td>\n",
       "      <td id=\"T_afbcb_row0_col7\" class=\"data row0 col7\" >0.9000</td>\n",
       "      <td id=\"T_afbcb_row0_col8\" class=\"data row0 col8\" >0.0900</td>\n",
       "    </tr>\n",
       "  </tbody>\n",
       "</table>\n"
      ],
      "text/plain": [
       "<pandas.io.formats.style.Styler at 0x27fe5615850>"
      ]
     },
     "metadata": {},
     "output_type": "display_data"
    },
    {
     "data": {
      "application/vnd.jupyter.widget-view+json": {
       "model_id": "2621063d1a394c7eb5d58ce6844cf2ee",
       "version_major": 2,
       "version_minor": 0
      },
      "text/plain": [
       "Processing:   0%|          | 0/9 [00:00<?, ?it/s]"
      ]
     },
     "metadata": {},
     "output_type": "display_data"
    },
    {
     "data": {
      "text/html": [],
      "text/plain": [
       "<IPython.core.display.HTML object>"
      ]
     },
     "metadata": {},
     "output_type": "display_data"
    },
    {
     "data": {
      "text/html": [],
      "text/plain": [
       "<IPython.core.display.HTML object>"
      ]
     },
     "metadata": {},
     "output_type": "display_data"
    },
    {
     "data": {
      "text/html": [],
      "text/plain": [
       "<IPython.core.display.HTML object>"
      ]
     },
     "metadata": {},
     "output_type": "display_data"
    },
    {
     "data": {
      "text/html": [
       "<style type=\"text/css\">\n",
       "#T_95a3a th {\n",
       "  text-align: left;\n",
       "}\n",
       "#T_95a3a_row0_col0 {\n",
       "  text-align: left;\n",
       "}\n",
       "#T_95a3a_row0_col1, #T_95a3a_row0_col2, #T_95a3a_row0_col3, #T_95a3a_row0_col4, #T_95a3a_row0_col5, #T_95a3a_row0_col6, #T_95a3a_row0_col7 {\n",
       "  text-align: left;\n",
       "  background-color: yellow;\n",
       "}\n",
       "#T_95a3a_row0_col8 {\n",
       "  text-align: left;\n",
       "  background-color: yellow;\n",
       "  background-color: lightgrey;\n",
       "}\n",
       "</style>\n",
       "<table id=\"T_95a3a\">\n",
       "  <thead>\n",
       "    <tr>\n",
       "      <th class=\"blank level0\" >&nbsp;</th>\n",
       "      <th id=\"T_95a3a_level0_col0\" class=\"col_heading level0 col0\" >Model</th>\n",
       "      <th id=\"T_95a3a_level0_col1\" class=\"col_heading level0 col1\" >Accuracy</th>\n",
       "      <th id=\"T_95a3a_level0_col2\" class=\"col_heading level0 col2\" >AUC</th>\n",
       "      <th id=\"T_95a3a_level0_col3\" class=\"col_heading level0 col3\" >Recall</th>\n",
       "      <th id=\"T_95a3a_level0_col4\" class=\"col_heading level0 col4\" >Prec.</th>\n",
       "      <th id=\"T_95a3a_level0_col5\" class=\"col_heading level0 col5\" >F1</th>\n",
       "      <th id=\"T_95a3a_level0_col6\" class=\"col_heading level0 col6\" >Kappa</th>\n",
       "      <th id=\"T_95a3a_level0_col7\" class=\"col_heading level0 col7\" >MCC</th>\n",
       "      <th id=\"T_95a3a_level0_col8\" class=\"col_heading level0 col8\" >TT (Sec)</th>\n",
       "    </tr>\n",
       "  </thead>\n",
       "  <tbody>\n",
       "    <tr>\n",
       "      <th id=\"T_95a3a_level0_row0\" class=\"row_heading level0 row0\" >ridge</th>\n",
       "      <td id=\"T_95a3a_row0_col0\" class=\"data row0 col0\" >Ridge Classifier</td>\n",
       "      <td id=\"T_95a3a_row0_col1\" class=\"data row0 col1\" >0.9500</td>\n",
       "      <td id=\"T_95a3a_row0_col2\" class=\"data row0 col2\" >1.0000</td>\n",
       "      <td id=\"T_95a3a_row0_col3\" class=\"data row0 col3\" >0.9750</td>\n",
       "      <td id=\"T_95a3a_row0_col4\" class=\"data row0 col4\" >0.9667</td>\n",
       "      <td id=\"T_95a3a_row0_col5\" class=\"data row0 col5\" >0.9675</td>\n",
       "      <td id=\"T_95a3a_row0_col6\" class=\"data row0 col6\" >0.7667</td>\n",
       "      <td id=\"T_95a3a_row0_col7\" class=\"data row0 col7\" >0.7707</td>\n",
       "      <td id=\"T_95a3a_row0_col8\" class=\"data row0 col8\" >0.0250</td>\n",
       "    </tr>\n",
       "  </tbody>\n",
       "</table>\n"
      ],
      "text/plain": [
       "<pandas.io.formats.style.Styler at 0x27fe55163d0>"
      ]
     },
     "metadata": {},
     "output_type": "display_data"
    },
    {
     "data": {
      "application/vnd.jupyter.widget-view+json": {
       "model_id": "8754cfde70c14e16b83e35f54e3373d2",
       "version_major": 2,
       "version_minor": 0
      },
      "text/plain": [
       "Processing:   0%|          | 0/9 [00:00<?, ?it/s]"
      ]
     },
     "metadata": {},
     "output_type": "display_data"
    },
    {
     "data": {
      "text/html": [],
      "text/plain": [
       "<IPython.core.display.HTML object>"
      ]
     },
     "metadata": {},
     "output_type": "display_data"
    },
    {
     "data": {
      "text/html": [],
      "text/plain": [
       "<IPython.core.display.HTML object>"
      ]
     },
     "metadata": {},
     "output_type": "display_data"
    },
    {
     "data": {
      "text/html": [],
      "text/plain": [
       "<IPython.core.display.HTML object>"
      ]
     },
     "metadata": {},
     "output_type": "display_data"
    },
    {
     "data": {
      "text/html": [
       "<style type=\"text/css\">\n",
       "#T_f3c50 th {\n",
       "  text-align: left;\n",
       "}\n",
       "#T_f3c50_row0_col0 {\n",
       "  text-align: left;\n",
       "}\n",
       "#T_f3c50_row0_col1, #T_f3c50_row0_col2, #T_f3c50_row0_col3, #T_f3c50_row0_col4, #T_f3c50_row0_col5, #T_f3c50_row0_col6, #T_f3c50_row0_col7 {\n",
       "  text-align: left;\n",
       "  background-color: yellow;\n",
       "}\n",
       "#T_f3c50_row0_col8 {\n",
       "  text-align: left;\n",
       "  background-color: yellow;\n",
       "  background-color: lightgrey;\n",
       "}\n",
       "</style>\n",
       "<table id=\"T_f3c50\">\n",
       "  <thead>\n",
       "    <tr>\n",
       "      <th class=\"blank level0\" >&nbsp;</th>\n",
       "      <th id=\"T_f3c50_level0_col0\" class=\"col_heading level0 col0\" >Model</th>\n",
       "      <th id=\"T_f3c50_level0_col1\" class=\"col_heading level0 col1\" >Accuracy</th>\n",
       "      <th id=\"T_f3c50_level0_col2\" class=\"col_heading level0 col2\" >AUC</th>\n",
       "      <th id=\"T_f3c50_level0_col3\" class=\"col_heading level0 col3\" >Recall</th>\n",
       "      <th id=\"T_f3c50_level0_col4\" class=\"col_heading level0 col4\" >Prec.</th>\n",
       "      <th id=\"T_f3c50_level0_col5\" class=\"col_heading level0 col5\" >F1</th>\n",
       "      <th id=\"T_f3c50_level0_col6\" class=\"col_heading level0 col6\" >Kappa</th>\n",
       "      <th id=\"T_f3c50_level0_col7\" class=\"col_heading level0 col7\" >MCC</th>\n",
       "      <th id=\"T_f3c50_level0_col8\" class=\"col_heading level0 col8\" >TT (Sec)</th>\n",
       "    </tr>\n",
       "  </thead>\n",
       "  <tbody>\n",
       "    <tr>\n",
       "      <th id=\"T_f3c50_level0_row0\" class=\"row_heading level0 row0\" >lda</th>\n",
       "      <td id=\"T_f3c50_row0_col0\" class=\"data row0 col0\" >Linear Discriminant Analysis</td>\n",
       "      <td id=\"T_f3c50_row0_col1\" class=\"data row0 col1\" >0.9500</td>\n",
       "      <td id=\"T_f3c50_row0_col2\" class=\"data row0 col2\" >1.0000</td>\n",
       "      <td id=\"T_f3c50_row0_col3\" class=\"data row0 col3\" >0.9750</td>\n",
       "      <td id=\"T_f3c50_row0_col4\" class=\"data row0 col4\" >0.9667</td>\n",
       "      <td id=\"T_f3c50_row0_col5\" class=\"data row0 col5\" >0.9675</td>\n",
       "      <td id=\"T_f3c50_row0_col6\" class=\"data row0 col6\" >0.7667</td>\n",
       "      <td id=\"T_f3c50_row0_col7\" class=\"data row0 col7\" >0.7707</td>\n",
       "      <td id=\"T_f3c50_row0_col8\" class=\"data row0 col8\" >0.0170</td>\n",
       "    </tr>\n",
       "  </tbody>\n",
       "</table>\n"
      ],
      "text/plain": [
       "<pandas.io.formats.style.Styler at 0x27fe5499d10>"
      ]
     },
     "metadata": {},
     "output_type": "display_data"
    },
    {
     "data": {
      "application/vnd.jupyter.widget-view+json": {
       "model_id": "695c9470afe0499f94f69289e53f17d3",
       "version_major": 2,
       "version_minor": 0
      },
      "text/plain": [
       "Processing:   0%|          | 0/9 [00:00<?, ?it/s]"
      ]
     },
     "metadata": {},
     "output_type": "display_data"
    },
    {
     "data": {
      "text/html": [],
      "text/plain": [
       "<IPython.core.display.HTML object>"
      ]
     },
     "metadata": {},
     "output_type": "display_data"
    },
    {
     "data": {
      "text/html": [],
      "text/plain": [
       "<IPython.core.display.HTML object>"
      ]
     },
     "metadata": {},
     "output_type": "display_data"
    },
    {
     "data": {
      "text/html": [],
      "text/plain": [
       "<IPython.core.display.HTML object>"
      ]
     },
     "metadata": {},
     "output_type": "display_data"
    },
    {
     "data": {
      "text/html": [
       "<style type=\"text/css\">\n",
       "#T_e72bf th {\n",
       "  text-align: left;\n",
       "}\n",
       "#T_e72bf_row0_col0 {\n",
       "  text-align: left;\n",
       "}\n",
       "#T_e72bf_row0_col1, #T_e72bf_row0_col2, #T_e72bf_row0_col3, #T_e72bf_row0_col4, #T_e72bf_row0_col5, #T_e72bf_row0_col6, #T_e72bf_row0_col7 {\n",
       "  text-align: left;\n",
       "  background-color: yellow;\n",
       "}\n",
       "#T_e72bf_row0_col8 {\n",
       "  text-align: left;\n",
       "  background-color: yellow;\n",
       "  background-color: lightgrey;\n",
       "}\n",
       "</style>\n",
       "<table id=\"T_e72bf\">\n",
       "  <thead>\n",
       "    <tr>\n",
       "      <th class=\"blank level0\" >&nbsp;</th>\n",
       "      <th id=\"T_e72bf_level0_col0\" class=\"col_heading level0 col0\" >Model</th>\n",
       "      <th id=\"T_e72bf_level0_col1\" class=\"col_heading level0 col1\" >Accuracy</th>\n",
       "      <th id=\"T_e72bf_level0_col2\" class=\"col_heading level0 col2\" >AUC</th>\n",
       "      <th id=\"T_e72bf_level0_col3\" class=\"col_heading level0 col3\" >Recall</th>\n",
       "      <th id=\"T_e72bf_level0_col4\" class=\"col_heading level0 col4\" >Prec.</th>\n",
       "      <th id=\"T_e72bf_level0_col5\" class=\"col_heading level0 col5\" >F1</th>\n",
       "      <th id=\"T_e72bf_level0_col6\" class=\"col_heading level0 col6\" >Kappa</th>\n",
       "      <th id=\"T_e72bf_level0_col7\" class=\"col_heading level0 col7\" >MCC</th>\n",
       "      <th id=\"T_e72bf_level0_col8\" class=\"col_heading level0 col8\" >TT (Sec)</th>\n",
       "    </tr>\n",
       "  </thead>\n",
       "  <tbody>\n",
       "    <tr>\n",
       "      <th id=\"T_e72bf_level0_row0\" class=\"row_heading level0 row0\" >knn</th>\n",
       "      <td id=\"T_e72bf_row0_col0\" class=\"data row0 col0\" >K Neighbors Classifier</td>\n",
       "      <td id=\"T_e72bf_row0_col1\" class=\"data row0 col1\" >0.9357</td>\n",
       "      <td id=\"T_e72bf_row0_col2\" class=\"data row0 col2\" >0.9850</td>\n",
       "      <td id=\"T_e72bf_row0_col3\" class=\"data row0 col3\" >0.9800</td>\n",
       "      <td id=\"T_e72bf_row0_col4\" class=\"data row0 col4\" >0.9467</td>\n",
       "      <td id=\"T_e72bf_row0_col5\" class=\"data row0 col5\" >0.9596</td>\n",
       "      <td id=\"T_e72bf_row0_col6\" class=\"data row0 col6\" >0.7267</td>\n",
       "      <td id=\"T_e72bf_row0_col7\" class=\"data row0 col7\" >0.7363</td>\n",
       "      <td id=\"T_e72bf_row0_col8\" class=\"data row0 col8\" >0.0290</td>\n",
       "    </tr>\n",
       "  </tbody>\n",
       "</table>\n"
      ],
      "text/plain": [
       "<pandas.io.formats.style.Styler at 0x27fe5499d10>"
      ]
     },
     "metadata": {},
     "output_type": "display_data"
    },
    {
     "data": {
      "application/vnd.jupyter.widget-view+json": {
       "model_id": "cc4fbfb69cb54cf98ebd9374b7349ae2",
       "version_major": 2,
       "version_minor": 0
      },
      "text/plain": [
       "Processing:   0%|          | 0/9 [00:00<?, ?it/s]"
      ]
     },
     "metadata": {},
     "output_type": "display_data"
    },
    {
     "data": {
      "text/html": [],
      "text/plain": [
       "<IPython.core.display.HTML object>"
      ]
     },
     "metadata": {},
     "output_type": "display_data"
    },
    {
     "data": {
      "text/html": [],
      "text/plain": [
       "<IPython.core.display.HTML object>"
      ]
     },
     "metadata": {},
     "output_type": "display_data"
    },
    {
     "data": {
      "text/html": [],
      "text/plain": [
       "<IPython.core.display.HTML object>"
      ]
     },
     "metadata": {},
     "output_type": "display_data"
    },
    {
     "data": {
      "text/html": [
       "<style type=\"text/css\">\n",
       "#T_84158 th {\n",
       "  text-align: left;\n",
       "}\n",
       "#T_84158_row0_col0 {\n",
       "  text-align: left;\n",
       "}\n",
       "#T_84158_row0_col1, #T_84158_row0_col2, #T_84158_row0_col3, #T_84158_row0_col4, #T_84158_row0_col5, #T_84158_row0_col6, #T_84158_row0_col7 {\n",
       "  text-align: left;\n",
       "  background-color: yellow;\n",
       "}\n",
       "#T_84158_row0_col8 {\n",
       "  text-align: left;\n",
       "  background-color: yellow;\n",
       "  background-color: lightgrey;\n",
       "}\n",
       "</style>\n",
       "<table id=\"T_84158\">\n",
       "  <thead>\n",
       "    <tr>\n",
       "      <th class=\"blank level0\" >&nbsp;</th>\n",
       "      <th id=\"T_84158_level0_col0\" class=\"col_heading level0 col0\" >Model</th>\n",
       "      <th id=\"T_84158_level0_col1\" class=\"col_heading level0 col1\" >Accuracy</th>\n",
       "      <th id=\"T_84158_level0_col2\" class=\"col_heading level0 col2\" >AUC</th>\n",
       "      <th id=\"T_84158_level0_col3\" class=\"col_heading level0 col3\" >Recall</th>\n",
       "      <th id=\"T_84158_level0_col4\" class=\"col_heading level0 col4\" >Prec.</th>\n",
       "      <th id=\"T_84158_level0_col5\" class=\"col_heading level0 col5\" >F1</th>\n",
       "      <th id=\"T_84158_level0_col6\" class=\"col_heading level0 col6\" >Kappa</th>\n",
       "      <th id=\"T_84158_level0_col7\" class=\"col_heading level0 col7\" >MCC</th>\n",
       "      <th id=\"T_84158_level0_col8\" class=\"col_heading level0 col8\" >TT (Sec)</th>\n",
       "    </tr>\n",
       "  </thead>\n",
       "  <tbody>\n",
       "    <tr>\n",
       "      <th id=\"T_84158_level0_row0\" class=\"row_heading level0 row0\" >rf</th>\n",
       "      <td id=\"T_84158_row0_col0\" class=\"data row0 col0\" >Random Forest Classifier</td>\n",
       "      <td id=\"T_84158_row0_col1\" class=\"data row0 col1\" >0.9357</td>\n",
       "      <td id=\"T_84158_row0_col2\" class=\"data row0 col2\" >1.0000</td>\n",
       "      <td id=\"T_84158_row0_col3\" class=\"data row0 col3\" >0.9800</td>\n",
       "      <td id=\"T_84158_row0_col4\" class=\"data row0 col4\" >0.9500</td>\n",
       "      <td id=\"T_84158_row0_col5\" class=\"data row0 col5\" >0.9598</td>\n",
       "      <td id=\"T_84158_row0_col6\" class=\"data row0 col6\" >0.7696</td>\n",
       "      <td id=\"T_84158_row0_col7\" class=\"data row0 col7\" >0.7730</td>\n",
       "      <td id=\"T_84158_row0_col8\" class=\"data row0 col8\" >0.0950</td>\n",
       "    </tr>\n",
       "  </tbody>\n",
       "</table>\n"
      ],
      "text/plain": [
       "<pandas.io.formats.style.Styler at 0x27fe558a890>"
      ]
     },
     "metadata": {},
     "output_type": "display_data"
    },
    {
     "data": {
      "application/vnd.jupyter.widget-view+json": {
       "model_id": "64db653422b94beabd32c67246c65d40",
       "version_major": 2,
       "version_minor": 0
      },
      "text/plain": [
       "Processing:   0%|          | 0/9 [00:00<?, ?it/s]"
      ]
     },
     "metadata": {},
     "output_type": "display_data"
    },
    {
     "data": {
      "text/html": [],
      "text/plain": [
       "<IPython.core.display.HTML object>"
      ]
     },
     "metadata": {},
     "output_type": "display_data"
    },
    {
     "data": {
      "text/html": [],
      "text/plain": [
       "<IPython.core.display.HTML object>"
      ]
     },
     "metadata": {},
     "output_type": "display_data"
    },
    {
     "data": {
      "text/html": [],
      "text/plain": [
       "<IPython.core.display.HTML object>"
      ]
     },
     "metadata": {},
     "output_type": "display_data"
    },
    {
     "data": {
      "text/html": [
       "<style type=\"text/css\">\n",
       "#T_df92f th {\n",
       "  text-align: left;\n",
       "}\n",
       "#T_df92f_row0_col0 {\n",
       "  text-align: left;\n",
       "}\n",
       "#T_df92f_row0_col1, #T_df92f_row0_col2, #T_df92f_row0_col3, #T_df92f_row0_col4, #T_df92f_row0_col5, #T_df92f_row0_col6, #T_df92f_row0_col7 {\n",
       "  text-align: left;\n",
       "  background-color: yellow;\n",
       "}\n",
       "#T_df92f_row0_col8 {\n",
       "  text-align: left;\n",
       "  background-color: yellow;\n",
       "  background-color: lightgrey;\n",
       "}\n",
       "</style>\n",
       "<table id=\"T_df92f\">\n",
       "  <thead>\n",
       "    <tr>\n",
       "      <th class=\"blank level0\" >&nbsp;</th>\n",
       "      <th id=\"T_df92f_level0_col0\" class=\"col_heading level0 col0\" >Model</th>\n",
       "      <th id=\"T_df92f_level0_col1\" class=\"col_heading level0 col1\" >Accuracy</th>\n",
       "      <th id=\"T_df92f_level0_col2\" class=\"col_heading level0 col2\" >AUC</th>\n",
       "      <th id=\"T_df92f_level0_col3\" class=\"col_heading level0 col3\" >Recall</th>\n",
       "      <th id=\"T_df92f_level0_col4\" class=\"col_heading level0 col4\" >Prec.</th>\n",
       "      <th id=\"T_df92f_level0_col5\" class=\"col_heading level0 col5\" >F1</th>\n",
       "      <th id=\"T_df92f_level0_col6\" class=\"col_heading level0 col6\" >Kappa</th>\n",
       "      <th id=\"T_df92f_level0_col7\" class=\"col_heading level0 col7\" >MCC</th>\n",
       "      <th id=\"T_df92f_level0_col8\" class=\"col_heading level0 col8\" >TT (Sec)</th>\n",
       "    </tr>\n",
       "  </thead>\n",
       "  <tbody>\n",
       "    <tr>\n",
       "      <th id=\"T_df92f_level0_row0\" class=\"row_heading level0 row0\" >lightgbm</th>\n",
       "      <td id=\"T_df92f_row0_col0\" class=\"data row0 col0\" >Light Gradient Boosting Machine</td>\n",
       "      <td id=\"T_df92f_row0_col1\" class=\"data row0 col1\" >0.9357</td>\n",
       "      <td id=\"T_df92f_row0_col2\" class=\"data row0 col2\" >1.0000</td>\n",
       "      <td id=\"T_df92f_row0_col3\" class=\"data row0 col3\" >0.9550</td>\n",
       "      <td id=\"T_df92f_row0_col4\" class=\"data row0 col4\" >0.9633</td>\n",
       "      <td id=\"T_df92f_row0_col5\" class=\"data row0 col5\" >0.9544</td>\n",
       "      <td id=\"T_df92f_row0_col6\" class=\"data row0 col6\" >0.7934</td>\n",
       "      <td id=\"T_df92f_row0_col7\" class=\"data row0 col7\" >0.8070</td>\n",
       "      <td id=\"T_df92f_row0_col8\" class=\"data row0 col8\" >0.0540</td>\n",
       "    </tr>\n",
       "  </tbody>\n",
       "</table>\n"
      ],
      "text/plain": [
       "<pandas.io.formats.style.Styler at 0x27fe5856c10>"
      ]
     },
     "metadata": {},
     "output_type": "display_data"
    },
    {
     "data": {
      "application/vnd.jupyter.widget-view+json": {
       "model_id": "9d64ddf403d54c849d73a9bbb70542a8",
       "version_major": 2,
       "version_minor": 0
      },
      "text/plain": [
       "Processing:   0%|          | 0/9 [00:00<?, ?it/s]"
      ]
     },
     "metadata": {},
     "output_type": "display_data"
    },
    {
     "data": {
      "text/html": [],
      "text/plain": [
       "<IPython.core.display.HTML object>"
      ]
     },
     "metadata": {},
     "output_type": "display_data"
    },
    {
     "data": {
      "text/html": [],
      "text/plain": [
       "<IPython.core.display.HTML object>"
      ]
     },
     "metadata": {},
     "output_type": "display_data"
    },
    {
     "data": {
      "text/html": [],
      "text/plain": [
       "<IPython.core.display.HTML object>"
      ]
     },
     "metadata": {},
     "output_type": "display_data"
    },
    {
     "data": {
      "text/html": [
       "<style type=\"text/css\">\n",
       "#T_99b01 th {\n",
       "  text-align: left;\n",
       "}\n",
       "#T_99b01_row0_col0 {\n",
       "  text-align: left;\n",
       "}\n",
       "#T_99b01_row0_col1, #T_99b01_row0_col2, #T_99b01_row0_col3, #T_99b01_row0_col4, #T_99b01_row0_col5, #T_99b01_row0_col6, #T_99b01_row0_col7 {\n",
       "  text-align: left;\n",
       "  background-color: yellow;\n",
       "}\n",
       "#T_99b01_row0_col8 {\n",
       "  text-align: left;\n",
       "  background-color: yellow;\n",
       "  background-color: lightgrey;\n",
       "}\n",
       "</style>\n",
       "<table id=\"T_99b01\">\n",
       "  <thead>\n",
       "    <tr>\n",
       "      <th class=\"blank level0\" >&nbsp;</th>\n",
       "      <th id=\"T_99b01_level0_col0\" class=\"col_heading level0 col0\" >Model</th>\n",
       "      <th id=\"T_99b01_level0_col1\" class=\"col_heading level0 col1\" >Accuracy</th>\n",
       "      <th id=\"T_99b01_level0_col2\" class=\"col_heading level0 col2\" >AUC</th>\n",
       "      <th id=\"T_99b01_level0_col3\" class=\"col_heading level0 col3\" >Recall</th>\n",
       "      <th id=\"T_99b01_level0_col4\" class=\"col_heading level0 col4\" >Prec.</th>\n",
       "      <th id=\"T_99b01_level0_col5\" class=\"col_heading level0 col5\" >F1</th>\n",
       "      <th id=\"T_99b01_level0_col6\" class=\"col_heading level0 col6\" >Kappa</th>\n",
       "      <th id=\"T_99b01_level0_col7\" class=\"col_heading level0 col7\" >MCC</th>\n",
       "      <th id=\"T_99b01_level0_col8\" class=\"col_heading level0 col8\" >TT (Sec)</th>\n",
       "    </tr>\n",
       "  </thead>\n",
       "  <tbody>\n",
       "    <tr>\n",
       "      <th id=\"T_99b01_level0_row0\" class=\"row_heading level0 row0\" >lr</th>\n",
       "      <td id=\"T_99b01_row0_col0\" class=\"data row0 col0\" >Logistic Regression</td>\n",
       "      <td id=\"T_99b01_row0_col1\" class=\"data row0 col1\" >0.9333</td>\n",
       "      <td id=\"T_99b01_row0_col2\" class=\"data row0 col2\" >1.0000</td>\n",
       "      <td id=\"T_99b01_row0_col3\" class=\"data row0 col3\" >0.9750</td>\n",
       "      <td id=\"T_99b01_row0_col4\" class=\"data row0 col4\" >0.9500</td>\n",
       "      <td id=\"T_99b01_row0_col5\" class=\"data row0 col5\" >0.9584</td>\n",
       "      <td id=\"T_99b01_row0_col6\" class=\"data row0 col6\" >0.6667</td>\n",
       "      <td id=\"T_99b01_row0_col7\" class=\"data row0 col7\" >0.6707</td>\n",
       "      <td id=\"T_99b01_row0_col8\" class=\"data row0 col8\" >0.0170</td>\n",
       "    </tr>\n",
       "  </tbody>\n",
       "</table>\n"
      ],
      "text/plain": [
       "<pandas.io.formats.style.Styler at 0x27fe5498510>"
      ]
     },
     "metadata": {},
     "output_type": "display_data"
    },
    {
     "data": {
      "application/vnd.jupyter.widget-view+json": {
       "model_id": "eab26f848b9242ffbdd8340fe0ca23e5",
       "version_major": 2,
       "version_minor": 0
      },
      "text/plain": [
       "Processing:   0%|          | 0/9 [00:00<?, ?it/s]"
      ]
     },
     "metadata": {},
     "output_type": "display_data"
    },
    {
     "data": {
      "text/html": [],
      "text/plain": [
       "<IPython.core.display.HTML object>"
      ]
     },
     "metadata": {},
     "output_type": "display_data"
    },
    {
     "data": {
      "text/html": [],
      "text/plain": [
       "<IPython.core.display.HTML object>"
      ]
     },
     "metadata": {},
     "output_type": "display_data"
    },
    {
     "data": {
      "text/html": [],
      "text/plain": [
       "<IPython.core.display.HTML object>"
      ]
     },
     "metadata": {},
     "output_type": "display_data"
    },
    {
     "data": {
      "text/html": [
       "<style type=\"text/css\">\n",
       "#T_d119c th {\n",
       "  text-align: left;\n",
       "}\n",
       "#T_d119c_row0_col0 {\n",
       "  text-align: left;\n",
       "}\n",
       "#T_d119c_row0_col1, #T_d119c_row0_col2, #T_d119c_row0_col3, #T_d119c_row0_col4, #T_d119c_row0_col5, #T_d119c_row0_col6, #T_d119c_row0_col7 {\n",
       "  text-align: left;\n",
       "  background-color: yellow;\n",
       "}\n",
       "#T_d119c_row0_col8 {\n",
       "  text-align: left;\n",
       "  background-color: yellow;\n",
       "  background-color: lightgrey;\n",
       "}\n",
       "</style>\n",
       "<table id=\"T_d119c\">\n",
       "  <thead>\n",
       "    <tr>\n",
       "      <th class=\"blank level0\" >&nbsp;</th>\n",
       "      <th id=\"T_d119c_level0_col0\" class=\"col_heading level0 col0\" >Model</th>\n",
       "      <th id=\"T_d119c_level0_col1\" class=\"col_heading level0 col1\" >Accuracy</th>\n",
       "      <th id=\"T_d119c_level0_col2\" class=\"col_heading level0 col2\" >AUC</th>\n",
       "      <th id=\"T_d119c_level0_col3\" class=\"col_heading level0 col3\" >Recall</th>\n",
       "      <th id=\"T_d119c_level0_col4\" class=\"col_heading level0 col4\" >Prec.</th>\n",
       "      <th id=\"T_d119c_level0_col5\" class=\"col_heading level0 col5\" >F1</th>\n",
       "      <th id=\"T_d119c_level0_col6\" class=\"col_heading level0 col6\" >Kappa</th>\n",
       "      <th id=\"T_d119c_level0_col7\" class=\"col_heading level0 col7\" >MCC</th>\n",
       "      <th id=\"T_d119c_level0_col8\" class=\"col_heading level0 col8\" >TT (Sec)</th>\n",
       "    </tr>\n",
       "  </thead>\n",
       "  <tbody>\n",
       "    <tr>\n",
       "      <th id=\"T_d119c_level0_row0\" class=\"row_heading level0 row0\" >nb</th>\n",
       "      <td id=\"T_d119c_row0_col0\" class=\"data row0 col0\" >Naive Bayes</td>\n",
       "      <td id=\"T_d119c_row0_col1\" class=\"data row0 col1\" >0.9333</td>\n",
       "      <td id=\"T_d119c_row0_col2\" class=\"data row0 col2\" >0.9300</td>\n",
       "      <td id=\"T_d119c_row0_col3\" class=\"data row0 col3\" >0.9550</td>\n",
       "      <td id=\"T_d119c_row0_col4\" class=\"data row0 col4\" >0.9600</td>\n",
       "      <td id=\"T_d119c_row0_col5\" class=\"data row0 col5\" >0.9546</td>\n",
       "      <td id=\"T_d119c_row0_col6\" class=\"data row0 col6\" >0.8038</td>\n",
       "      <td id=\"T_d119c_row0_col7\" class=\"data row0 col7\" >0.8140</td>\n",
       "      <td id=\"T_d119c_row0_col8\" class=\"data row0 col8\" >0.0130</td>\n",
       "    </tr>\n",
       "  </tbody>\n",
       "</table>\n"
      ],
      "text/plain": [
       "<pandas.io.formats.style.Styler at 0x27fe5703810>"
      ]
     },
     "metadata": {},
     "output_type": "display_data"
    },
    {
     "data": {
      "application/vnd.jupyter.widget-view+json": {
       "model_id": "ca039502dbf54da49f834925fab31367",
       "version_major": 2,
       "version_minor": 0
      },
      "text/plain": [
       "Processing:   0%|          | 0/9 [00:00<?, ?it/s]"
      ]
     },
     "metadata": {},
     "output_type": "display_data"
    },
    {
     "data": {
      "text/html": [],
      "text/plain": [
       "<IPython.core.display.HTML object>"
      ]
     },
     "metadata": {},
     "output_type": "display_data"
    },
    {
     "data": {
      "text/html": [],
      "text/plain": [
       "<IPython.core.display.HTML object>"
      ]
     },
     "metadata": {},
     "output_type": "display_data"
    },
    {
     "data": {
      "text/html": [],
      "text/plain": [
       "<IPython.core.display.HTML object>"
      ]
     },
     "metadata": {},
     "output_type": "display_data"
    },
    {
     "data": {
      "text/html": [
       "<style type=\"text/css\">\n",
       "#T_4f324 th {\n",
       "  text-align: left;\n",
       "}\n",
       "#T_4f324_row0_col0 {\n",
       "  text-align: left;\n",
       "}\n",
       "#T_4f324_row0_col1, #T_4f324_row0_col2, #T_4f324_row0_col3, #T_4f324_row0_col4, #T_4f324_row0_col5, #T_4f324_row0_col6, #T_4f324_row0_col7 {\n",
       "  text-align: left;\n",
       "  background-color: yellow;\n",
       "}\n",
       "#T_4f324_row0_col8 {\n",
       "  text-align: left;\n",
       "  background-color: yellow;\n",
       "  background-color: lightgrey;\n",
       "}\n",
       "</style>\n",
       "<table id=\"T_4f324\">\n",
       "  <thead>\n",
       "    <tr>\n",
       "      <th class=\"blank level0\" >&nbsp;</th>\n",
       "      <th id=\"T_4f324_level0_col0\" class=\"col_heading level0 col0\" >Model</th>\n",
       "      <th id=\"T_4f324_level0_col1\" class=\"col_heading level0 col1\" >Accuracy</th>\n",
       "      <th id=\"T_4f324_level0_col2\" class=\"col_heading level0 col2\" >AUC</th>\n",
       "      <th id=\"T_4f324_level0_col3\" class=\"col_heading level0 col3\" >Recall</th>\n",
       "      <th id=\"T_4f324_level0_col4\" class=\"col_heading level0 col4\" >Prec.</th>\n",
       "      <th id=\"T_4f324_level0_col5\" class=\"col_heading level0 col5\" >F1</th>\n",
       "      <th id=\"T_4f324_level0_col6\" class=\"col_heading level0 col6\" >Kappa</th>\n",
       "      <th id=\"T_4f324_level0_col7\" class=\"col_heading level0 col7\" >MCC</th>\n",
       "      <th id=\"T_4f324_level0_col8\" class=\"col_heading level0 col8\" >TT (Sec)</th>\n",
       "    </tr>\n",
       "  </thead>\n",
       "  <tbody>\n",
       "    <tr>\n",
       "      <th id=\"T_4f324_level0_row0\" class=\"row_heading level0 row0\" >ada</th>\n",
       "      <td id=\"T_4f324_row0_col0\" class=\"data row0 col0\" >Ada Boost Classifier</td>\n",
       "      <td id=\"T_4f324_row0_col1\" class=\"data row0 col1\" >0.9333</td>\n",
       "      <td id=\"T_4f324_row0_col2\" class=\"data row0 col2\" >0.9900</td>\n",
       "      <td id=\"T_4f324_row0_col3\" class=\"data row0 col3\" >0.9750</td>\n",
       "      <td id=\"T_4f324_row0_col4\" class=\"data row0 col4\" >0.9467</td>\n",
       "      <td id=\"T_4f324_row0_col5\" class=\"data row0 col5\" >0.9564</td>\n",
       "      <td id=\"T_4f324_row0_col6\" class=\"data row0 col6\" >0.7238</td>\n",
       "      <td id=\"T_4f324_row0_col7\" class=\"data row0 col7\" >0.7340</td>\n",
       "      <td id=\"T_4f324_row0_col8\" class=\"data row0 col8\" >0.0480</td>\n",
       "    </tr>\n",
       "  </tbody>\n",
       "</table>\n"
      ],
      "text/plain": [
       "<pandas.io.formats.style.Styler at 0x27fe56ae6d0>"
      ]
     },
     "metadata": {},
     "output_type": "display_data"
    },
    {
     "data": {
      "application/vnd.jupyter.widget-view+json": {
       "model_id": "446c1aea4c6b4b1f8d7a0ddfeea9efe3",
       "version_major": 2,
       "version_minor": 0
      },
      "text/plain": [
       "Processing:   0%|          | 0/9 [00:00<?, ?it/s]"
      ]
     },
     "metadata": {},
     "output_type": "display_data"
    },
    {
     "data": {
      "text/html": [],
      "text/plain": [
       "<IPython.core.display.HTML object>"
      ]
     },
     "metadata": {},
     "output_type": "display_data"
    },
    {
     "data": {
      "text/html": [],
      "text/plain": [
       "<IPython.core.display.HTML object>"
      ]
     },
     "metadata": {},
     "output_type": "display_data"
    },
    {
     "data": {
      "text/html": [],
      "text/plain": [
       "<IPython.core.display.HTML object>"
      ]
     },
     "metadata": {},
     "output_type": "display_data"
    },
    {
     "data": {
      "text/html": [
       "<style type=\"text/css\">\n",
       "#T_db883 th {\n",
       "  text-align: left;\n",
       "}\n",
       "#T_db883_row0_col0 {\n",
       "  text-align: left;\n",
       "}\n",
       "#T_db883_row0_col1, #T_db883_row0_col2, #T_db883_row0_col3, #T_db883_row0_col4, #T_db883_row0_col5, #T_db883_row0_col6, #T_db883_row0_col7 {\n",
       "  text-align: left;\n",
       "  background-color: yellow;\n",
       "}\n",
       "#T_db883_row0_col8 {\n",
       "  text-align: left;\n",
       "  background-color: yellow;\n",
       "  background-color: lightgrey;\n",
       "}\n",
       "</style>\n",
       "<table id=\"T_db883\">\n",
       "  <thead>\n",
       "    <tr>\n",
       "      <th class=\"blank level0\" >&nbsp;</th>\n",
       "      <th id=\"T_db883_level0_col0\" class=\"col_heading level0 col0\" >Model</th>\n",
       "      <th id=\"T_db883_level0_col1\" class=\"col_heading level0 col1\" >Accuracy</th>\n",
       "      <th id=\"T_db883_level0_col2\" class=\"col_heading level0 col2\" >AUC</th>\n",
       "      <th id=\"T_db883_level0_col3\" class=\"col_heading level0 col3\" >Recall</th>\n",
       "      <th id=\"T_db883_level0_col4\" class=\"col_heading level0 col4\" >Prec.</th>\n",
       "      <th id=\"T_db883_level0_col5\" class=\"col_heading level0 col5\" >F1</th>\n",
       "      <th id=\"T_db883_level0_col6\" class=\"col_heading level0 col6\" >Kappa</th>\n",
       "      <th id=\"T_db883_level0_col7\" class=\"col_heading level0 col7\" >MCC</th>\n",
       "      <th id=\"T_db883_level0_col8\" class=\"col_heading level0 col8\" >TT (Sec)</th>\n",
       "    </tr>\n",
       "  </thead>\n",
       "  <tbody>\n",
       "    <tr>\n",
       "      <th id=\"T_db883_level0_row0\" class=\"row_heading level0 row0\" >xgboost</th>\n",
       "      <td id=\"T_db883_row0_col0\" class=\"data row0 col0\" >Extreme Gradient Boosting</td>\n",
       "      <td id=\"T_db883_row0_col1\" class=\"data row0 col1\" >0.9214</td>\n",
       "      <td id=\"T_db883_row0_col2\" class=\"data row0 col2\" >1.0000</td>\n",
       "      <td id=\"T_db883_row0_col3\" class=\"data row0 col3\" >0.9550</td>\n",
       "      <td id=\"T_db883_row0_col4\" class=\"data row0 col4\" >0.9467</td>\n",
       "      <td id=\"T_db883_row0_col5\" class=\"data row0 col5\" >0.9453</td>\n",
       "      <td id=\"T_db883_row0_col6\" class=\"data row0 col6\" >0.7522</td>\n",
       "      <td id=\"T_db883_row0_col7\" class=\"data row0 col7\" >0.7715</td>\n",
       "      <td id=\"T_db883_row0_col8\" class=\"data row0 col8\" >0.0260</td>\n",
       "    </tr>\n",
       "  </tbody>\n",
       "</table>\n"
      ],
      "text/plain": [
       "<pandas.io.formats.style.Styler at 0x27fe539ec90>"
      ]
     },
     "metadata": {},
     "output_type": "display_data"
    },
    {
     "data": {
      "application/vnd.jupyter.widget-view+json": {
       "model_id": "f4060762b38c42b6b96d625bd1e8cab3",
       "version_major": 2,
       "version_minor": 0
      },
      "text/plain": [
       "Processing:   0%|          | 0/9 [00:00<?, ?it/s]"
      ]
     },
     "metadata": {},
     "output_type": "display_data"
    },
    {
     "data": {
      "text/html": [],
      "text/plain": [
       "<IPython.core.display.HTML object>"
      ]
     },
     "metadata": {},
     "output_type": "display_data"
    },
    {
     "data": {
      "text/html": [],
      "text/plain": [
       "<IPython.core.display.HTML object>"
      ]
     },
     "metadata": {},
     "output_type": "display_data"
    },
    {
     "data": {
      "text/html": [],
      "text/plain": [
       "<IPython.core.display.HTML object>"
      ]
     },
     "metadata": {},
     "output_type": "display_data"
    },
    {
     "data": {
      "text/html": [
       "<style type=\"text/css\">\n",
       "#T_931e1 th {\n",
       "  text-align: left;\n",
       "}\n",
       "#T_931e1_row0_col0 {\n",
       "  text-align: left;\n",
       "}\n",
       "#T_931e1_row0_col1, #T_931e1_row0_col2, #T_931e1_row0_col3, #T_931e1_row0_col4, #T_931e1_row0_col5, #T_931e1_row0_col6, #T_931e1_row0_col7 {\n",
       "  text-align: left;\n",
       "  background-color: yellow;\n",
       "}\n",
       "#T_931e1_row0_col8 {\n",
       "  text-align: left;\n",
       "  background-color: yellow;\n",
       "  background-color: lightgrey;\n",
       "}\n",
       "</style>\n",
       "<table id=\"T_931e1\">\n",
       "  <thead>\n",
       "    <tr>\n",
       "      <th class=\"blank level0\" >&nbsp;</th>\n",
       "      <th id=\"T_931e1_level0_col0\" class=\"col_heading level0 col0\" >Model</th>\n",
       "      <th id=\"T_931e1_level0_col1\" class=\"col_heading level0 col1\" >Accuracy</th>\n",
       "      <th id=\"T_931e1_level0_col2\" class=\"col_heading level0 col2\" >AUC</th>\n",
       "      <th id=\"T_931e1_level0_col3\" class=\"col_heading level0 col3\" >Recall</th>\n",
       "      <th id=\"T_931e1_level0_col4\" class=\"col_heading level0 col4\" >Prec.</th>\n",
       "      <th id=\"T_931e1_level0_col5\" class=\"col_heading level0 col5\" >F1</th>\n",
       "      <th id=\"T_931e1_level0_col6\" class=\"col_heading level0 col6\" >Kappa</th>\n",
       "      <th id=\"T_931e1_level0_col7\" class=\"col_heading level0 col7\" >MCC</th>\n",
       "      <th id=\"T_931e1_level0_col8\" class=\"col_heading level0 col8\" >TT (Sec)</th>\n",
       "    </tr>\n",
       "  </thead>\n",
       "  <tbody>\n",
       "    <tr>\n",
       "      <th id=\"T_931e1_level0_row0\" class=\"row_heading level0 row0\" >svm</th>\n",
       "      <td id=\"T_931e1_row0_col0\" class=\"data row0 col0\" >SVM - Linear Kernel</td>\n",
       "      <td id=\"T_931e1_row0_col1\" class=\"data row0 col1\" >0.9167</td>\n",
       "      <td id=\"T_931e1_row0_col2\" class=\"data row0 col2\" >1.0000</td>\n",
       "      <td id=\"T_931e1_row0_col3\" class=\"data row0 col3\" >0.9550</td>\n",
       "      <td id=\"T_931e1_row0_col4\" class=\"data row0 col4\" >0.9500</td>\n",
       "      <td id=\"T_931e1_row0_col5\" class=\"data row0 col5\" >0.9473</td>\n",
       "      <td id=\"T_931e1_row0_col6\" class=\"data row0 col6\" >0.6238</td>\n",
       "      <td id=\"T_931e1_row0_col7\" class=\"data row0 col7\" >0.6340</td>\n",
       "      <td id=\"T_931e1_row0_col8\" class=\"data row0 col8\" >0.0180</td>\n",
       "    </tr>\n",
       "  </tbody>\n",
       "</table>\n"
      ],
      "text/plain": [
       "<pandas.io.formats.style.Styler at 0x27fe56ae210>"
      ]
     },
     "metadata": {},
     "output_type": "display_data"
    },
    {
     "data": {
      "application/vnd.jupyter.widget-view+json": {
       "model_id": "a2a87ce1a24344dca996accf18cc64c3",
       "version_major": 2,
       "version_minor": 0
      },
      "text/plain": [
       "Processing:   0%|          | 0/9 [00:00<?, ?it/s]"
      ]
     },
     "metadata": {},
     "output_type": "display_data"
    },
    {
     "data": {
      "text/html": [],
      "text/plain": [
       "<IPython.core.display.HTML object>"
      ]
     },
     "metadata": {},
     "output_type": "display_data"
    },
    {
     "data": {
      "text/html": [],
      "text/plain": [
       "<IPython.core.display.HTML object>"
      ]
     },
     "metadata": {},
     "output_type": "display_data"
    },
    {
     "data": {
      "text/html": [],
      "text/plain": [
       "<IPython.core.display.HTML object>"
      ]
     },
     "metadata": {},
     "output_type": "display_data"
    },
    {
     "data": {
      "text/html": [
       "<style type=\"text/css\">\n",
       "#T_9814d th {\n",
       "  text-align: left;\n",
       "}\n",
       "#T_9814d_row0_col0 {\n",
       "  text-align: left;\n",
       "}\n",
       "#T_9814d_row0_col1, #T_9814d_row0_col2, #T_9814d_row0_col3, #T_9814d_row0_col4, #T_9814d_row0_col5, #T_9814d_row0_col6, #T_9814d_row0_col7 {\n",
       "  text-align: left;\n",
       "  background-color: yellow;\n",
       "}\n",
       "#T_9814d_row0_col8 {\n",
       "  text-align: left;\n",
       "  background-color: yellow;\n",
       "  background-color: lightgrey;\n",
       "}\n",
       "</style>\n",
       "<table id=\"T_9814d\">\n",
       "  <thead>\n",
       "    <tr>\n",
       "      <th class=\"blank level0\" >&nbsp;</th>\n",
       "      <th id=\"T_9814d_level0_col0\" class=\"col_heading level0 col0\" >Model</th>\n",
       "      <th id=\"T_9814d_level0_col1\" class=\"col_heading level0 col1\" >Accuracy</th>\n",
       "      <th id=\"T_9814d_level0_col2\" class=\"col_heading level0 col2\" >AUC</th>\n",
       "      <th id=\"T_9814d_level0_col3\" class=\"col_heading level0 col3\" >Recall</th>\n",
       "      <th id=\"T_9814d_level0_col4\" class=\"col_heading level0 col4\" >Prec.</th>\n",
       "      <th id=\"T_9814d_level0_col5\" class=\"col_heading level0 col5\" >F1</th>\n",
       "      <th id=\"T_9814d_level0_col6\" class=\"col_heading level0 col6\" >Kappa</th>\n",
       "      <th id=\"T_9814d_level0_col7\" class=\"col_heading level0 col7\" >MCC</th>\n",
       "      <th id=\"T_9814d_level0_col8\" class=\"col_heading level0 col8\" >TT (Sec)</th>\n",
       "    </tr>\n",
       "  </thead>\n",
       "  <tbody>\n",
       "    <tr>\n",
       "      <th id=\"T_9814d_level0_row0\" class=\"row_heading level0 row0\" >dt</th>\n",
       "      <td id=\"T_9814d_row0_col0\" class=\"data row0 col0\" >Decision Tree Classifier</td>\n",
       "      <td id=\"T_9814d_row0_col1\" class=\"data row0 col1\" >0.8738</td>\n",
       "      <td id=\"T_9814d_row0_col2\" class=\"data row0 col2\" >0.8300</td>\n",
       "      <td id=\"T_9814d_row0_col3\" class=\"data row0 col3\" >0.9100</td>\n",
       "      <td id=\"T_9814d_row0_col4\" class=\"data row0 col4\" >0.9250</td>\n",
       "      <td id=\"T_9814d_row0_col5\" class=\"data row0 col5\" >0.9112</td>\n",
       "      <td id=\"T_9814d_row0_col6\" class=\"data row0 col6\" >0.6360</td>\n",
       "      <td id=\"T_9814d_row0_col7\" class=\"data row0 col7\" >0.6611</td>\n",
       "      <td id=\"T_9814d_row0_col8\" class=\"data row0 col8\" >0.0140</td>\n",
       "    </tr>\n",
       "  </tbody>\n",
       "</table>\n"
      ],
      "text/plain": [
       "<pandas.io.formats.style.Styler at 0x27fe538f910>"
      ]
     },
     "metadata": {},
     "output_type": "display_data"
    },
    {
     "data": {
      "application/vnd.jupyter.widget-view+json": {
       "model_id": "b53d4cd3e6f440b089c023a5d152d207",
       "version_major": 2,
       "version_minor": 0
      },
      "text/plain": [
       "Processing:   0%|          | 0/9 [00:00<?, ?it/s]"
      ]
     },
     "metadata": {},
     "output_type": "display_data"
    },
    {
     "data": {
      "text/html": [],
      "text/plain": [
       "<IPython.core.display.HTML object>"
      ]
     },
     "metadata": {},
     "output_type": "display_data"
    },
    {
     "data": {
      "text/html": [],
      "text/plain": [
       "<IPython.core.display.HTML object>"
      ]
     },
     "metadata": {},
     "output_type": "display_data"
    },
    {
     "data": {
      "text/html": [],
      "text/plain": [
       "<IPython.core.display.HTML object>"
      ]
     },
     "metadata": {},
     "output_type": "display_data"
    },
    {
     "data": {
      "text/html": [
       "<style type=\"text/css\">\n",
       "#T_9f90c th {\n",
       "  text-align: left;\n",
       "}\n",
       "#T_9f90c_row0_col0 {\n",
       "  text-align: left;\n",
       "}\n",
       "#T_9f90c_row0_col1, #T_9f90c_row0_col2, #T_9f90c_row0_col3, #T_9f90c_row0_col4, #T_9f90c_row0_col5, #T_9f90c_row0_col6, #T_9f90c_row0_col7 {\n",
       "  text-align: left;\n",
       "  background-color: yellow;\n",
       "}\n",
       "#T_9f90c_row0_col8 {\n",
       "  text-align: left;\n",
       "  background-color: yellow;\n",
       "  background-color: lightgrey;\n",
       "}\n",
       "</style>\n",
       "<table id=\"T_9f90c\">\n",
       "  <thead>\n",
       "    <tr>\n",
       "      <th class=\"blank level0\" >&nbsp;</th>\n",
       "      <th id=\"T_9f90c_level0_col0\" class=\"col_heading level0 col0\" >Model</th>\n",
       "      <th id=\"T_9f90c_level0_col1\" class=\"col_heading level0 col1\" >Accuracy</th>\n",
       "      <th id=\"T_9f90c_level0_col2\" class=\"col_heading level0 col2\" >AUC</th>\n",
       "      <th id=\"T_9f90c_level0_col3\" class=\"col_heading level0 col3\" >Recall</th>\n",
       "      <th id=\"T_9f90c_level0_col4\" class=\"col_heading level0 col4\" >Prec.</th>\n",
       "      <th id=\"T_9f90c_level0_col5\" class=\"col_heading level0 col5\" >F1</th>\n",
       "      <th id=\"T_9f90c_level0_col6\" class=\"col_heading level0 col6\" >Kappa</th>\n",
       "      <th id=\"T_9f90c_level0_col7\" class=\"col_heading level0 col7\" >MCC</th>\n",
       "      <th id=\"T_9f90c_level0_col8\" class=\"col_heading level0 col8\" >TT (Sec)</th>\n",
       "    </tr>\n",
       "  </thead>\n",
       "  <tbody>\n",
       "    <tr>\n",
       "      <th id=\"T_9f90c_level0_row0\" class=\"row_heading level0 row0\" >gbc</th>\n",
       "      <td id=\"T_9f90c_row0_col0\" class=\"data row0 col0\" >Gradient Boosting Classifier</td>\n",
       "      <td id=\"T_9f90c_row0_col1\" class=\"data row0 col1\" >0.8262</td>\n",
       "      <td id=\"T_9f90c_row0_col2\" class=\"data row0 col2\" >0.8838</td>\n",
       "      <td id=\"T_9f90c_row0_col3\" class=\"data row0 col3\" >0.8900</td>\n",
       "      <td id=\"T_9f90c_row0_col4\" class=\"data row0 col4\" >0.8981</td>\n",
       "      <td id=\"T_9f90c_row0_col5\" class=\"data row0 col5\" >0.8814</td>\n",
       "      <td id=\"T_9f90c_row0_col6\" class=\"data row0 col6\" >0.4998</td>\n",
       "      <td id=\"T_9f90c_row0_col7\" class=\"data row0 col7\" >0.5214</td>\n",
       "      <td id=\"T_9f90c_row0_col8\" class=\"data row0 col8\" >0.0470</td>\n",
       "    </tr>\n",
       "  </tbody>\n",
       "</table>\n"
      ],
      "text/plain": [
       "<pandas.io.formats.style.Styler at 0x27fe54c8550>"
      ]
     },
     "metadata": {},
     "output_type": "display_data"
    },
    {
     "data": {
      "application/vnd.jupyter.widget-view+json": {
       "model_id": "167123abaf6c4c58a3eaff23b53007ba",
       "version_major": 2,
       "version_minor": 0
      },
      "text/plain": [
       "Processing:   0%|          | 0/9 [00:00<?, ?it/s]"
      ]
     },
     "metadata": {},
     "output_type": "display_data"
    },
    {
     "data": {
      "text/html": [],
      "text/plain": [
       "<IPython.core.display.HTML object>"
      ]
     },
     "metadata": {},
     "output_type": "display_data"
    },
    {
     "data": {
      "text/html": [],
      "text/plain": [
       "<IPython.core.display.HTML object>"
      ]
     },
     "metadata": {},
     "output_type": "display_data"
    },
    {
     "data": {
      "text/html": [],
      "text/plain": [
       "<IPython.core.display.HTML object>"
      ]
     },
     "metadata": {},
     "output_type": "display_data"
    },
    {
     "data": {
      "text/html": [
       "<style type=\"text/css\">\n",
       "#T_6c7ca th {\n",
       "  text-align: left;\n",
       "}\n",
       "#T_6c7ca_row0_col0 {\n",
       "  text-align: left;\n",
       "}\n",
       "#T_6c7ca_row0_col1, #T_6c7ca_row0_col2, #T_6c7ca_row0_col3, #T_6c7ca_row0_col4, #T_6c7ca_row0_col5, #T_6c7ca_row0_col6, #T_6c7ca_row0_col7 {\n",
       "  text-align: left;\n",
       "  background-color: yellow;\n",
       "}\n",
       "#T_6c7ca_row0_col8 {\n",
       "  text-align: left;\n",
       "  background-color: yellow;\n",
       "  background-color: lightgrey;\n",
       "}\n",
       "</style>\n",
       "<table id=\"T_6c7ca\">\n",
       "  <thead>\n",
       "    <tr>\n",
       "      <th class=\"blank level0\" >&nbsp;</th>\n",
       "      <th id=\"T_6c7ca_level0_col0\" class=\"col_heading level0 col0\" >Model</th>\n",
       "      <th id=\"T_6c7ca_level0_col1\" class=\"col_heading level0 col1\" >Accuracy</th>\n",
       "      <th id=\"T_6c7ca_level0_col2\" class=\"col_heading level0 col2\" >AUC</th>\n",
       "      <th id=\"T_6c7ca_level0_col3\" class=\"col_heading level0 col3\" >Recall</th>\n",
       "      <th id=\"T_6c7ca_level0_col4\" class=\"col_heading level0 col4\" >Prec.</th>\n",
       "      <th id=\"T_6c7ca_level0_col5\" class=\"col_heading level0 col5\" >F1</th>\n",
       "      <th id=\"T_6c7ca_level0_col6\" class=\"col_heading level0 col6\" >Kappa</th>\n",
       "      <th id=\"T_6c7ca_level0_col7\" class=\"col_heading level0 col7\" >MCC</th>\n",
       "      <th id=\"T_6c7ca_level0_col8\" class=\"col_heading level0 col8\" >TT (Sec)</th>\n",
       "    </tr>\n",
       "  </thead>\n",
       "  <tbody>\n",
       "    <tr>\n",
       "      <th id=\"T_6c7ca_level0_row0\" class=\"row_heading level0 row0\" >dummy</th>\n",
       "      <td id=\"T_6c7ca_row0_col0\" class=\"data row0 col0\" >Dummy Classifier</td>\n",
       "      <td id=\"T_6c7ca_row0_col1\" class=\"data row0 col1\" >0.7643</td>\n",
       "      <td id=\"T_6c7ca_row0_col2\" class=\"data row0 col2\" >0.5000</td>\n",
       "      <td id=\"T_6c7ca_row0_col3\" class=\"data row0 col3\" >1.0000</td>\n",
       "      <td id=\"T_6c7ca_row0_col4\" class=\"data row0 col4\" >0.7643</td>\n",
       "      <td id=\"T_6c7ca_row0_col5\" class=\"data row0 col5\" >0.8645</td>\n",
       "      <td id=\"T_6c7ca_row0_col6\" class=\"data row0 col6\" >0.0000</td>\n",
       "      <td id=\"T_6c7ca_row0_col7\" class=\"data row0 col7\" >0.0000</td>\n",
       "      <td id=\"T_6c7ca_row0_col8\" class=\"data row0 col8\" >0.0120</td>\n",
       "    </tr>\n",
       "  </tbody>\n",
       "</table>\n"
      ],
      "text/plain": [
       "<pandas.io.formats.style.Styler at 0x27fe55b8110>"
      ]
     },
     "metadata": {},
     "output_type": "display_data"
    },
    {
     "data": {
      "application/vnd.jupyter.widget-view+json": {
       "model_id": "85ffe1e437c0492f98627903e431bbfa",
       "version_major": 2,
       "version_minor": 0
      },
      "text/plain": [
       "Processing:   0%|          | 0/9 [00:00<?, ?it/s]"
      ]
     },
     "metadata": {},
     "output_type": "display_data"
    },
    {
     "data": {
      "text/html": [],
      "text/plain": [
       "<IPython.core.display.HTML object>"
      ]
     },
     "metadata": {},
     "output_type": "display_data"
    },
    {
     "data": {
      "text/html": [],
      "text/plain": [
       "<IPython.core.display.HTML object>"
      ]
     },
     "metadata": {},
     "output_type": "display_data"
    }
   ],
   "source": [
    "import pandas as pd\n",
    "from pycaret.classification import setup, compare_models, predict_model, finalize_model, pull\n",
    "from sklearn.metrics import accuracy_score, f1_score\n",
    "from sklearn.model_selection import train_test_split\n",
    "import joblib\n",
    "\n",
    "# Load the CSV file into a DataFrame\n",
    "df = pd.read_csv('../data/players_df_sin_reco.csv')\n",
    "\n",
    "# Select features (columns 7 to 20, 0-based index: 6 to 19)\n",
    "X = df.iloc[:, 6:20]\n",
    "\n",
    "# Select the 9th column from the end as the target\n",
    "y = df.iloc[:, -9]\n",
    "\n",
    "# Split data into training and testing sets\n",
    "X_train, X_test, y_train, y_test = train_test_split(X, y, test_size=0.2, random_state=42)\n",
    "\n",
    "# Create an empty DataFrame to store results\n",
    "ballplayingdefender_df = pd.DataFrame(columns=['model', 'train_accuracy', 'test_accuracy', 'train_f1', 'test_f1', 'TT'])\n",
    "\n",
    "# Concatenate X_train and y_train into a DataFrame for PyCaret setup\n",
    "df_target = pd.concat([X_train, y_train], axis=1)\n",
    "\n",
    "# Setup PyCaret environment\n",
    "clf = setup(data=df_target, target=y.name, session_id=42)\n",
    "\n",
    "# Compare different models and store the results\n",
    "best_model = compare_models()  # This returns the top model\n",
    "compare_results = pull()  # Pulls all model results as a DataFrame\n",
    "\n",
    "# Define the mapping from model names to PyCaret identifiers\n",
    "model_mapping = {\n",
    "    'K Neighbors Classifier': 'knn',\n",
    "    'Random Forest Classifier': 'rf',\n",
    "    'Logistic Regression': 'lr',\n",
    "    'Decision Tree Classifier': 'dt',\n",
    "    'Ada Boost Classifier': 'ada',\n",
    "    'Gradient Boosting Classifier': 'gbc',\n",
    "    'Naive Bayes': 'nb',\n",
    "    'SVM - Linear Kernel': 'svm',\n",
    "    'Extra Trees Classifier': 'et',\n",
    "    'Light Gradient Boosting Machine': 'lightgbm',\n",
    "    'Ridge Classifier': 'ridge',\n",
    "    'Linear Discriminant Analysis': 'lda',\n",
    "    'Extreme Gradient Boosting': 'xgboost',\n",
    "    'Dummy Classifier': 'dummy'\n",
    "}\n",
    "\n",
    "# Loop over each model in the compare_results DataFrame\n",
    "for idx, row in compare_results.iterrows():\n",
    "    model_name = row['Model']\n",
    "    testing_time = row['TT (Sec)']\n",
    "\n",
    "    # Get the PyCaret identifier for the model\n",
    "    model_identifier = model_mapping.get(model_name)\n",
    "\n",
    "    # Instead of finalizing by the model name, select the model by identifier\n",
    "    if model_identifier:\n",
    "        best_model = compare_models(include=[model_identifier], n_select=1)\n",
    "\n",
    "        # Finalize the model (train it on the entire dataset)\n",
    "        final_model = finalize_model(best_model)\n",
    "\n",
    "        # Predict on train and test sets\n",
    "        predictions_train = predict_model(final_model, data=X_train)\n",
    "        predictions_test = predict_model(final_model, data=X_test)\n",
    "\n",
    "        # Calculate test accuracy and F1 score\n",
    "        y_pred_test = predictions_test['prediction_label']\n",
    "        test_accuracy = accuracy_score(y_test, y_pred_test)\n",
    "        test_f1 = f1_score(y_test, y_pred_test, average='weighted')\n",
    "\n",
    "        # Calculate train accuracy and F1 score\n",
    "        y_pred_train = predictions_train['prediction_label']\n",
    "        train_accuracy = accuracy_score(y_train, y_pred_train)\n",
    "        train_f1 = f1_score(y_train, y_pred_train, average='weighted')\n",
    "\n",
    "        # Append the metrics for each model to the results DataFrame\n",
    "        new_row = pd.DataFrame({\n",
    "            'model': model_name,\n",
    "            'train_accuracy': train_accuracy,\n",
    "            'test_accuracy': test_accuracy,\n",
    "            'train_f1': train_f1,\n",
    "            'test_f1': test_f1,\n",
    "            'TT': testing_time\n",
    "        }, index=[0])\n",
    "\n",
    "        ballplayingdefender_df = pd.concat([ballplayingdefender_df, new_row], ignore_index=True)\n"
   ]
  },
  {
   "cell_type": "code",
   "execution_count": 18,
   "metadata": {},
   "outputs": [
    {
     "data": {
      "text/html": [
       "<div>\n",
       "<style scoped>\n",
       "    .dataframe tbody tr th:only-of-type {\n",
       "        vertical-align: middle;\n",
       "    }\n",
       "\n",
       "    .dataframe tbody tr th {\n",
       "        vertical-align: top;\n",
       "    }\n",
       "\n",
       "    .dataframe thead th {\n",
       "        text-align: right;\n",
       "    }\n",
       "</style>\n",
       "<table border=\"1\" class=\"dataframe\">\n",
       "  <thead>\n",
       "    <tr style=\"text-align: right;\">\n",
       "      <th></th>\n",
       "      <th>model</th>\n",
       "      <th>train_accuracy</th>\n",
       "      <th>test_accuracy</th>\n",
       "      <th>train_f1</th>\n",
       "      <th>test_f1</th>\n",
       "      <th>TT</th>\n",
       "    </tr>\n",
       "  </thead>\n",
       "  <tbody>\n",
       "    <tr>\n",
       "      <th>0</th>\n",
       "      <td>Extra Trees Classifier</td>\n",
       "      <td>1.000000</td>\n",
       "      <td>0.956522</td>\n",
       "      <td>1.000000</td>\n",
       "      <td>0.960339</td>\n",
       "      <td>0.065</td>\n",
       "    </tr>\n",
       "    <tr>\n",
       "      <th>1</th>\n",
       "      <td>Ridge Classifier</td>\n",
       "      <td>0.978022</td>\n",
       "      <td>0.956522</td>\n",
       "      <td>0.977656</td>\n",
       "      <td>0.960339</td>\n",
       "      <td>0.018</td>\n",
       "    </tr>\n",
       "    <tr>\n",
       "      <th>2</th>\n",
       "      <td>Linear Discriminant Analysis</td>\n",
       "      <td>0.978022</td>\n",
       "      <td>0.956522</td>\n",
       "      <td>0.977656</td>\n",
       "      <td>0.960339</td>\n",
       "      <td>0.017</td>\n",
       "    </tr>\n",
       "    <tr>\n",
       "      <th>3</th>\n",
       "      <td>K Neighbors Classifier</td>\n",
       "      <td>0.956044</td>\n",
       "      <td>0.956522</td>\n",
       "      <td>0.954465</td>\n",
       "      <td>0.960339</td>\n",
       "      <td>0.025</td>\n",
       "    </tr>\n",
       "    <tr>\n",
       "      <th>4</th>\n",
       "      <td>Random Forest Classifier</td>\n",
       "      <td>1.000000</td>\n",
       "      <td>0.956522</td>\n",
       "      <td>1.000000</td>\n",
       "      <td>0.960339</td>\n",
       "      <td>0.104</td>\n",
       "    </tr>\n",
       "    <tr>\n",
       "      <th>5</th>\n",
       "      <td>Light Gradient Boosting Machine</td>\n",
       "      <td>1.000000</td>\n",
       "      <td>0.956522</td>\n",
       "      <td>1.000000</td>\n",
       "      <td>0.960339</td>\n",
       "      <td>0.051</td>\n",
       "    </tr>\n",
       "    <tr>\n",
       "      <th>6</th>\n",
       "      <td>Logistic Regression</td>\n",
       "      <td>1.000000</td>\n",
       "      <td>0.956522</td>\n",
       "      <td>1.000000</td>\n",
       "      <td>0.960339</td>\n",
       "      <td>0.020</td>\n",
       "    </tr>\n",
       "    <tr>\n",
       "      <th>7</th>\n",
       "      <td>Naive Bayes</td>\n",
       "      <td>0.956044</td>\n",
       "      <td>0.956522</td>\n",
       "      <td>0.956676</td>\n",
       "      <td>0.960339</td>\n",
       "      <td>0.024</td>\n",
       "    </tr>\n",
       "    <tr>\n",
       "      <th>8</th>\n",
       "      <td>Ada Boost Classifier</td>\n",
       "      <td>1.000000</td>\n",
       "      <td>0.956522</td>\n",
       "      <td>1.000000</td>\n",
       "      <td>0.960339</td>\n",
       "      <td>0.061</td>\n",
       "    </tr>\n",
       "    <tr>\n",
       "      <th>9</th>\n",
       "      <td>Extreme Gradient Boosting</td>\n",
       "      <td>1.000000</td>\n",
       "      <td>0.956522</td>\n",
       "      <td>1.000000</td>\n",
       "      <td>0.960339</td>\n",
       "      <td>0.030</td>\n",
       "    </tr>\n",
       "    <tr>\n",
       "      <th>10</th>\n",
       "      <td>SVM - Linear Kernel</td>\n",
       "      <td>1.000000</td>\n",
       "      <td>0.956522</td>\n",
       "      <td>1.000000</td>\n",
       "      <td>0.960339</td>\n",
       "      <td>0.018</td>\n",
       "    </tr>\n",
       "    <tr>\n",
       "      <th>11</th>\n",
       "      <td>Decision Tree Classifier</td>\n",
       "      <td>1.000000</td>\n",
       "      <td>0.956522</td>\n",
       "      <td>1.000000</td>\n",
       "      <td>0.960339</td>\n",
       "      <td>0.020</td>\n",
       "    </tr>\n",
       "    <tr>\n",
       "      <th>12</th>\n",
       "      <td>Gradient Boosting Classifier</td>\n",
       "      <td>1.000000</td>\n",
       "      <td>0.956522</td>\n",
       "      <td>1.000000</td>\n",
       "      <td>0.960339</td>\n",
       "      <td>0.054</td>\n",
       "    </tr>\n",
       "    <tr>\n",
       "      <th>13</th>\n",
       "      <td>Dummy Classifier</td>\n",
       "      <td>0.758242</td>\n",
       "      <td>0.913043</td>\n",
       "      <td>0.653984</td>\n",
       "      <td>0.871542</td>\n",
       "      <td>0.016</td>\n",
       "    </tr>\n",
       "  </tbody>\n",
       "</table>\n",
       "</div>"
      ],
      "text/plain": [
       "                              model  train_accuracy  test_accuracy  train_f1  \\\n",
       "0            Extra Trees Classifier        1.000000       0.956522  1.000000   \n",
       "1                  Ridge Classifier        0.978022       0.956522  0.977656   \n",
       "2      Linear Discriminant Analysis        0.978022       0.956522  0.977656   \n",
       "3            K Neighbors Classifier        0.956044       0.956522  0.954465   \n",
       "4          Random Forest Classifier        1.000000       0.956522  1.000000   \n",
       "5   Light Gradient Boosting Machine        1.000000       0.956522  1.000000   \n",
       "6               Logistic Regression        1.000000       0.956522  1.000000   \n",
       "7                       Naive Bayes        0.956044       0.956522  0.956676   \n",
       "8              Ada Boost Classifier        1.000000       0.956522  1.000000   \n",
       "9         Extreme Gradient Boosting        1.000000       0.956522  1.000000   \n",
       "10              SVM - Linear Kernel        1.000000       0.956522  1.000000   \n",
       "11         Decision Tree Classifier        1.000000       0.956522  1.000000   \n",
       "12     Gradient Boosting Classifier        1.000000       0.956522  1.000000   \n",
       "13                 Dummy Classifier        0.758242       0.913043  0.653984   \n",
       "\n",
       "     test_f1     TT  \n",
       "0   0.960339  0.065  \n",
       "1   0.960339  0.018  \n",
       "2   0.960339  0.017  \n",
       "3   0.960339  0.025  \n",
       "4   0.960339  0.104  \n",
       "5   0.960339  0.051  \n",
       "6   0.960339  0.020  \n",
       "7   0.960339  0.024  \n",
       "8   0.960339  0.061  \n",
       "9   0.960339  0.030  \n",
       "10  0.960339  0.018  \n",
       "11  0.960339  0.020  \n",
       "12  0.960339  0.054  \n",
       "13  0.871542  0.016  "
      ]
     },
     "execution_count": 18,
     "metadata": {},
     "output_type": "execute_result"
    }
   ],
   "source": [
    "ballplayingdefender_df"
   ]
  },
  {
   "cell_type": "markdown",
   "metadata": {},
   "source": [
    "## No-Nonsense Defender"
   ]
  },
  {
   "cell_type": "code",
   "execution_count": 19,
   "metadata": {},
   "outputs": [
    {
     "data": {
      "text/html": [
       "<style type=\"text/css\">\n",
       "#T_cad6c_row8_col1 {\n",
       "  background-color: lightgreen;\n",
       "}\n",
       "</style>\n",
       "<table id=\"T_cad6c\">\n",
       "  <thead>\n",
       "    <tr>\n",
       "      <th class=\"blank level0\" >&nbsp;</th>\n",
       "      <th id=\"T_cad6c_level0_col0\" class=\"col_heading level0 col0\" >Description</th>\n",
       "      <th id=\"T_cad6c_level0_col1\" class=\"col_heading level0 col1\" >Value</th>\n",
       "    </tr>\n",
       "  </thead>\n",
       "  <tbody>\n",
       "    <tr>\n",
       "      <th id=\"T_cad6c_level0_row0\" class=\"row_heading level0 row0\" >0</th>\n",
       "      <td id=\"T_cad6c_row0_col0\" class=\"data row0 col0\" >Session id</td>\n",
       "      <td id=\"T_cad6c_row0_col1\" class=\"data row0 col1\" >42</td>\n",
       "    </tr>\n",
       "    <tr>\n",
       "      <th id=\"T_cad6c_level0_row1\" class=\"row_heading level0 row1\" >1</th>\n",
       "      <td id=\"T_cad6c_row1_col0\" class=\"data row1 col0\" >Target</td>\n",
       "      <td id=\"T_cad6c_row1_col1\" class=\"data row1 col1\" >Class_No Nonsense Defender</td>\n",
       "    </tr>\n",
       "    <tr>\n",
       "      <th id=\"T_cad6c_level0_row2\" class=\"row_heading level0 row2\" >2</th>\n",
       "      <td id=\"T_cad6c_row2_col0\" class=\"data row2 col0\" >Target type</td>\n",
       "      <td id=\"T_cad6c_row2_col1\" class=\"data row2 col1\" >Binary</td>\n",
       "    </tr>\n",
       "    <tr>\n",
       "      <th id=\"T_cad6c_level0_row3\" class=\"row_heading level0 row3\" >3</th>\n",
       "      <td id=\"T_cad6c_row3_col0\" class=\"data row3 col0\" >Original data shape</td>\n",
       "      <td id=\"T_cad6c_row3_col1\" class=\"data row3 col1\" >(91, 15)</td>\n",
       "    </tr>\n",
       "    <tr>\n",
       "      <th id=\"T_cad6c_level0_row4\" class=\"row_heading level0 row4\" >4</th>\n",
       "      <td id=\"T_cad6c_row4_col0\" class=\"data row4 col0\" >Transformed data shape</td>\n",
       "      <td id=\"T_cad6c_row4_col1\" class=\"data row4 col1\" >(91, 15)</td>\n",
       "    </tr>\n",
       "    <tr>\n",
       "      <th id=\"T_cad6c_level0_row5\" class=\"row_heading level0 row5\" >5</th>\n",
       "      <td id=\"T_cad6c_row5_col0\" class=\"data row5 col0\" >Transformed train set shape</td>\n",
       "      <td id=\"T_cad6c_row5_col1\" class=\"data row5 col1\" >(63, 15)</td>\n",
       "    </tr>\n",
       "    <tr>\n",
       "      <th id=\"T_cad6c_level0_row6\" class=\"row_heading level0 row6\" >6</th>\n",
       "      <td id=\"T_cad6c_row6_col0\" class=\"data row6 col0\" >Transformed test set shape</td>\n",
       "      <td id=\"T_cad6c_row6_col1\" class=\"data row6 col1\" >(28, 15)</td>\n",
       "    </tr>\n",
       "    <tr>\n",
       "      <th id=\"T_cad6c_level0_row7\" class=\"row_heading level0 row7\" >7</th>\n",
       "      <td id=\"T_cad6c_row7_col0\" class=\"data row7 col0\" >Numeric features</td>\n",
       "      <td id=\"T_cad6c_row7_col1\" class=\"data row7 col1\" >14</td>\n",
       "    </tr>\n",
       "    <tr>\n",
       "      <th id=\"T_cad6c_level0_row8\" class=\"row_heading level0 row8\" >8</th>\n",
       "      <td id=\"T_cad6c_row8_col0\" class=\"data row8 col0\" >Preprocess</td>\n",
       "      <td id=\"T_cad6c_row8_col1\" class=\"data row8 col1\" >True</td>\n",
       "    </tr>\n",
       "    <tr>\n",
       "      <th id=\"T_cad6c_level0_row9\" class=\"row_heading level0 row9\" >9</th>\n",
       "      <td id=\"T_cad6c_row9_col0\" class=\"data row9 col0\" >Imputation type</td>\n",
       "      <td id=\"T_cad6c_row9_col1\" class=\"data row9 col1\" >simple</td>\n",
       "    </tr>\n",
       "    <tr>\n",
       "      <th id=\"T_cad6c_level0_row10\" class=\"row_heading level0 row10\" >10</th>\n",
       "      <td id=\"T_cad6c_row10_col0\" class=\"data row10 col0\" >Numeric imputation</td>\n",
       "      <td id=\"T_cad6c_row10_col1\" class=\"data row10 col1\" >mean</td>\n",
       "    </tr>\n",
       "    <tr>\n",
       "      <th id=\"T_cad6c_level0_row11\" class=\"row_heading level0 row11\" >11</th>\n",
       "      <td id=\"T_cad6c_row11_col0\" class=\"data row11 col0\" >Categorical imputation</td>\n",
       "      <td id=\"T_cad6c_row11_col1\" class=\"data row11 col1\" >mode</td>\n",
       "    </tr>\n",
       "    <tr>\n",
       "      <th id=\"T_cad6c_level0_row12\" class=\"row_heading level0 row12\" >12</th>\n",
       "      <td id=\"T_cad6c_row12_col0\" class=\"data row12 col0\" >Fold Generator</td>\n",
       "      <td id=\"T_cad6c_row12_col1\" class=\"data row12 col1\" >StratifiedKFold</td>\n",
       "    </tr>\n",
       "    <tr>\n",
       "      <th id=\"T_cad6c_level0_row13\" class=\"row_heading level0 row13\" >13</th>\n",
       "      <td id=\"T_cad6c_row13_col0\" class=\"data row13 col0\" >Fold Number</td>\n",
       "      <td id=\"T_cad6c_row13_col1\" class=\"data row13 col1\" >10</td>\n",
       "    </tr>\n",
       "    <tr>\n",
       "      <th id=\"T_cad6c_level0_row14\" class=\"row_heading level0 row14\" >14</th>\n",
       "      <td id=\"T_cad6c_row14_col0\" class=\"data row14 col0\" >CPU Jobs</td>\n",
       "      <td id=\"T_cad6c_row14_col1\" class=\"data row14 col1\" >-1</td>\n",
       "    </tr>\n",
       "    <tr>\n",
       "      <th id=\"T_cad6c_level0_row15\" class=\"row_heading level0 row15\" >15</th>\n",
       "      <td id=\"T_cad6c_row15_col0\" class=\"data row15 col0\" >Use GPU</td>\n",
       "      <td id=\"T_cad6c_row15_col1\" class=\"data row15 col1\" >False</td>\n",
       "    </tr>\n",
       "    <tr>\n",
       "      <th id=\"T_cad6c_level0_row16\" class=\"row_heading level0 row16\" >16</th>\n",
       "      <td id=\"T_cad6c_row16_col0\" class=\"data row16 col0\" >Log Experiment</td>\n",
       "      <td id=\"T_cad6c_row16_col1\" class=\"data row16 col1\" >False</td>\n",
       "    </tr>\n",
       "    <tr>\n",
       "      <th id=\"T_cad6c_level0_row17\" class=\"row_heading level0 row17\" >17</th>\n",
       "      <td id=\"T_cad6c_row17_col0\" class=\"data row17 col0\" >Experiment Name</td>\n",
       "      <td id=\"T_cad6c_row17_col1\" class=\"data row17 col1\" >clf-default-name</td>\n",
       "    </tr>\n",
       "    <tr>\n",
       "      <th id=\"T_cad6c_level0_row18\" class=\"row_heading level0 row18\" >18</th>\n",
       "      <td id=\"T_cad6c_row18_col0\" class=\"data row18 col0\" >USI</td>\n",
       "      <td id=\"T_cad6c_row18_col1\" class=\"data row18 col1\" >71ec</td>\n",
       "    </tr>\n",
       "  </tbody>\n",
       "</table>\n"
      ],
      "text/plain": [
       "<pandas.io.formats.style.Styler at 0x27fe5a55650>"
      ]
     },
     "metadata": {},
     "output_type": "display_data"
    },
    {
     "data": {
      "text/html": [],
      "text/plain": [
       "<IPython.core.display.HTML object>"
      ]
     },
     "metadata": {},
     "output_type": "display_data"
    },
    {
     "data": {
      "text/html": [
       "<style type=\"text/css\">\n",
       "#T_019e3 th {\n",
       "  text-align: left;\n",
       "}\n",
       "#T_019e3_row0_col0, #T_019e3_row0_col3, #T_019e3_row1_col0, #T_019e3_row1_col1, #T_019e3_row1_col3, #T_019e3_row1_col4, #T_019e3_row1_col5, #T_019e3_row1_col6, #T_019e3_row1_col7, #T_019e3_row2_col0, #T_019e3_row2_col1, #T_019e3_row2_col2, #T_019e3_row2_col3, #T_019e3_row2_col4, #T_019e3_row2_col5, #T_019e3_row2_col6, #T_019e3_row2_col7, #T_019e3_row3_col0, #T_019e3_row3_col1, #T_019e3_row3_col2, #T_019e3_row3_col3, #T_019e3_row3_col4, #T_019e3_row3_col5, #T_019e3_row3_col6, #T_019e3_row3_col7, #T_019e3_row4_col0, #T_019e3_row4_col1, #T_019e3_row4_col2, #T_019e3_row4_col3, #T_019e3_row4_col4, #T_019e3_row4_col5, #T_019e3_row4_col6, #T_019e3_row4_col7, #T_019e3_row5_col0, #T_019e3_row5_col1, #T_019e3_row5_col2, #T_019e3_row5_col3, #T_019e3_row5_col4, #T_019e3_row5_col5, #T_019e3_row5_col6, #T_019e3_row5_col7, #T_019e3_row6_col0, #T_019e3_row6_col1, #T_019e3_row6_col2, #T_019e3_row6_col3, #T_019e3_row6_col4, #T_019e3_row6_col5, #T_019e3_row6_col6, #T_019e3_row6_col7, #T_019e3_row7_col0, #T_019e3_row7_col1, #T_019e3_row7_col2, #T_019e3_row7_col3, #T_019e3_row7_col4, #T_019e3_row7_col5, #T_019e3_row7_col6, #T_019e3_row7_col7, #T_019e3_row8_col0, #T_019e3_row8_col1, #T_019e3_row8_col2, #T_019e3_row8_col3, #T_019e3_row8_col4, #T_019e3_row8_col5, #T_019e3_row8_col6, #T_019e3_row8_col7, #T_019e3_row9_col0, #T_019e3_row9_col1, #T_019e3_row9_col2, #T_019e3_row9_col3, #T_019e3_row9_col4, #T_019e3_row9_col5, #T_019e3_row9_col6, #T_019e3_row9_col7, #T_019e3_row10_col0, #T_019e3_row10_col1, #T_019e3_row10_col2, #T_019e3_row10_col3, #T_019e3_row10_col4, #T_019e3_row10_col5, #T_019e3_row10_col6, #T_019e3_row10_col7, #T_019e3_row11_col0, #T_019e3_row11_col1, #T_019e3_row11_col2, #T_019e3_row11_col3, #T_019e3_row11_col4, #T_019e3_row11_col5, #T_019e3_row11_col6, #T_019e3_row11_col7, #T_019e3_row12_col0, #T_019e3_row12_col1, #T_019e3_row12_col2, #T_019e3_row12_col3, #T_019e3_row12_col4, #T_019e3_row12_col5, #T_019e3_row12_col6, #T_019e3_row12_col7, #T_019e3_row13_col0, #T_019e3_row13_col1, #T_019e3_row13_col2, #T_019e3_row13_col3, #T_019e3_row13_col4, #T_019e3_row13_col5, #T_019e3_row13_col6, #T_019e3_row13_col7, #T_019e3_row14_col0, #T_019e3_row14_col1, #T_019e3_row14_col2, #T_019e3_row14_col4, #T_019e3_row14_col5, #T_019e3_row14_col6, #T_019e3_row14_col7 {\n",
       "  text-align: left;\n",
       "}\n",
       "#T_019e3_row0_col1, #T_019e3_row0_col2, #T_019e3_row0_col4, #T_019e3_row0_col5, #T_019e3_row0_col6, #T_019e3_row0_col7, #T_019e3_row1_col2, #T_019e3_row14_col3 {\n",
       "  text-align: left;\n",
       "  background-color: yellow;\n",
       "}\n",
       "#T_019e3_row0_col8, #T_019e3_row1_col8, #T_019e3_row2_col8, #T_019e3_row3_col8, #T_019e3_row4_col8, #T_019e3_row5_col8, #T_019e3_row6_col8, #T_019e3_row8_col8, #T_019e3_row9_col8, #T_019e3_row10_col8, #T_019e3_row11_col8, #T_019e3_row12_col8, #T_019e3_row13_col8, #T_019e3_row14_col8 {\n",
       "  text-align: left;\n",
       "  background-color: lightgrey;\n",
       "}\n",
       "#T_019e3_row7_col8 {\n",
       "  text-align: left;\n",
       "  background-color: yellow;\n",
       "  background-color: lightgrey;\n",
       "}\n",
       "</style>\n",
       "<table id=\"T_019e3\">\n",
       "  <thead>\n",
       "    <tr>\n",
       "      <th class=\"blank level0\" >&nbsp;</th>\n",
       "      <th id=\"T_019e3_level0_col0\" class=\"col_heading level0 col0\" >Model</th>\n",
       "      <th id=\"T_019e3_level0_col1\" class=\"col_heading level0 col1\" >Accuracy</th>\n",
       "      <th id=\"T_019e3_level0_col2\" class=\"col_heading level0 col2\" >AUC</th>\n",
       "      <th id=\"T_019e3_level0_col3\" class=\"col_heading level0 col3\" >Recall</th>\n",
       "      <th id=\"T_019e3_level0_col4\" class=\"col_heading level0 col4\" >Prec.</th>\n",
       "      <th id=\"T_019e3_level0_col5\" class=\"col_heading level0 col5\" >F1</th>\n",
       "      <th id=\"T_019e3_level0_col6\" class=\"col_heading level0 col6\" >Kappa</th>\n",
       "      <th id=\"T_019e3_level0_col7\" class=\"col_heading level0 col7\" >MCC</th>\n",
       "      <th id=\"T_019e3_level0_col8\" class=\"col_heading level0 col8\" >TT (Sec)</th>\n",
       "    </tr>\n",
       "  </thead>\n",
       "  <tbody>\n",
       "    <tr>\n",
       "      <th id=\"T_019e3_level0_row0\" class=\"row_heading level0 row0\" >lr</th>\n",
       "      <td id=\"T_019e3_row0_col0\" class=\"data row0 col0\" >Logistic Regression</td>\n",
       "      <td id=\"T_019e3_row0_col1\" class=\"data row0 col1\" >0.9690</td>\n",
       "      <td id=\"T_019e3_row0_col2\" class=\"data row0 col2\" >1.0000</td>\n",
       "      <td id=\"T_019e3_row0_col3\" class=\"data row0 col3\" >0.9800</td>\n",
       "      <td id=\"T_019e3_row0_col4\" class=\"data row0 col4\" >0.9800</td>\n",
       "      <td id=\"T_019e3_row0_col5\" class=\"data row0 col5\" >0.9778</td>\n",
       "      <td id=\"T_019e3_row0_col6\" class=\"data row0 col6\" >0.9267</td>\n",
       "      <td id=\"T_019e3_row0_col7\" class=\"data row0 col7\" >0.9363</td>\n",
       "      <td id=\"T_019e3_row0_col8\" class=\"data row0 col8\" >0.0300</td>\n",
       "    </tr>\n",
       "    <tr>\n",
       "      <th id=\"T_019e3_level0_row1\" class=\"row_heading level0 row1\" >et</th>\n",
       "      <td id=\"T_019e3_row1_col0\" class=\"data row1 col0\" >Extra Trees Classifier</td>\n",
       "      <td id=\"T_019e3_row1_col1\" class=\"data row1 col1\" >0.9381</td>\n",
       "      <td id=\"T_019e3_row1_col2\" class=\"data row1 col2\" >1.0000</td>\n",
       "      <td id=\"T_019e3_row1_col3\" class=\"data row1 col3\" >0.9750</td>\n",
       "      <td id=\"T_019e3_row1_col4\" class=\"data row1 col4\" >0.9433</td>\n",
       "      <td id=\"T_019e3_row1_col5\" class=\"data row1 col5\" >0.9544</td>\n",
       "      <td id=\"T_019e3_row1_col6\" class=\"data row1 col6\" >0.8451</td>\n",
       "      <td id=\"T_019e3_row1_col7\" class=\"data row1 col7\" >0.8660</td>\n",
       "      <td id=\"T_019e3_row1_col8\" class=\"data row1 col8\" >0.0790</td>\n",
       "    </tr>\n",
       "    <tr>\n",
       "      <th id=\"T_019e3_level0_row2\" class=\"row_heading level0 row2\" >lightgbm</th>\n",
       "      <td id=\"T_019e3_row2_col0\" class=\"data row2 col0\" >Light Gradient Boosting Machine</td>\n",
       "      <td id=\"T_019e3_row2_col1\" class=\"data row2 col1\" >0.9381</td>\n",
       "      <td id=\"T_019e3_row2_col2\" class=\"data row2 col2\" >0.9575</td>\n",
       "      <td id=\"T_019e3_row2_col3\" class=\"data row2 col3\" >0.9750</td>\n",
       "      <td id=\"T_019e3_row2_col4\" class=\"data row2 col4\" >0.9433</td>\n",
       "      <td id=\"T_019e3_row2_col5\" class=\"data row2 col5\" >0.9544</td>\n",
       "      <td id=\"T_019e3_row2_col6\" class=\"data row2 col6\" >0.8451</td>\n",
       "      <td id=\"T_019e3_row2_col7\" class=\"data row2 col7\" >0.8660</td>\n",
       "      <td id=\"T_019e3_row2_col8\" class=\"data row2 col8\" >0.0360</td>\n",
       "    </tr>\n",
       "    <tr>\n",
       "      <th id=\"T_019e3_level0_row3\" class=\"row_heading level0 row3\" >ada</th>\n",
       "      <td id=\"T_019e3_row3_col0\" class=\"data row3 col0\" >Ada Boost Classifier</td>\n",
       "      <td id=\"T_019e3_row3_col1\" class=\"data row3 col1\" >0.9238</td>\n",
       "      <td id=\"T_019e3_row3_col2\" class=\"data row3 col2\" >0.9750</td>\n",
       "      <td id=\"T_019e3_row3_col3\" class=\"data row3 col3\" >0.9550</td>\n",
       "      <td id=\"T_019e3_row3_col4\" class=\"data row3 col4\" >0.9433</td>\n",
       "      <td id=\"T_019e3_row3_col5\" class=\"data row3 col5\" >0.9433</td>\n",
       "      <td id=\"T_019e3_row3_col6\" class=\"data row3 col6\" >0.8147</td>\n",
       "      <td id=\"T_019e3_row3_col7\" class=\"data row3 col7\" >0.8391</td>\n",
       "      <td id=\"T_019e3_row3_col8\" class=\"data row3 col8\" >0.0660</td>\n",
       "    </tr>\n",
       "    <tr>\n",
       "      <th id=\"T_019e3_level0_row4\" class=\"row_heading level0 row4\" >xgboost</th>\n",
       "      <td id=\"T_019e3_row4_col0\" class=\"data row4 col0\" >Extreme Gradient Boosting</td>\n",
       "      <td id=\"T_019e3_row4_col1\" class=\"data row4 col1\" >0.9238</td>\n",
       "      <td id=\"T_019e3_row4_col2\" class=\"data row4 col2\" >0.9792</td>\n",
       "      <td id=\"T_019e3_row4_col3\" class=\"data row4 col3\" >0.9750</td>\n",
       "      <td id=\"T_019e3_row4_col4\" class=\"data row4 col4\" >0.9183</td>\n",
       "      <td id=\"T_019e3_row4_col5\" class=\"data row4 col5\" >0.9437</td>\n",
       "      <td id=\"T_019e3_row4_col6\" class=\"data row4 col6\" >0.8148</td>\n",
       "      <td id=\"T_019e3_row4_col7\" class=\"data row4 col7\" >0.8327</td>\n",
       "      <td id=\"T_019e3_row4_col8\" class=\"data row4 col8\" >0.0210</td>\n",
       "    </tr>\n",
       "    <tr>\n",
       "      <th id=\"T_019e3_level0_row5\" class=\"row_heading level0 row5\" >knn</th>\n",
       "      <td id=\"T_019e3_row5_col0\" class=\"data row5 col0\" >K Neighbors Classifier</td>\n",
       "      <td id=\"T_019e3_row5_col1\" class=\"data row5 col1\" >0.9167</td>\n",
       "      <td id=\"T_019e3_row5_col2\" class=\"data row5 col2\" >0.9875</td>\n",
       "      <td id=\"T_019e3_row5_col3\" class=\"data row5 col3\" >0.9750</td>\n",
       "      <td id=\"T_019e3_row5_col4\" class=\"data row5 col4\" >0.9200</td>\n",
       "      <td id=\"T_019e3_row5_col5\" class=\"data row5 col5\" >0.9413</td>\n",
       "      <td id=\"T_019e3_row5_col6\" class=\"data row5 col6\" >0.7952</td>\n",
       "      <td id=\"T_019e3_row5_col7\" class=\"data row5 col7\" >0.8237</td>\n",
       "      <td id=\"T_019e3_row5_col8\" class=\"data row5 col8\" >0.0280</td>\n",
       "    </tr>\n",
       "    <tr>\n",
       "      <th id=\"T_019e3_level0_row6\" class=\"row_heading level0 row6\" >ridge</th>\n",
       "      <td id=\"T_019e3_row6_col0\" class=\"data row6 col0\" >Ridge Classifier</td>\n",
       "      <td id=\"T_019e3_row6_col1\" class=\"data row6 col1\" >0.9048</td>\n",
       "      <td id=\"T_019e3_row6_col2\" class=\"data row6 col2\" >0.9875</td>\n",
       "      <td id=\"T_019e3_row6_col3\" class=\"data row6 col3\" >0.9550</td>\n",
       "      <td id=\"T_019e3_row6_col4\" class=\"data row6 col4\" >0.9183</td>\n",
       "      <td id=\"T_019e3_row6_col5\" class=\"data row6 col5\" >0.9326</td>\n",
       "      <td id=\"T_019e3_row6_col6\" class=\"data row6 col6\" >0.7677</td>\n",
       "      <td id=\"T_019e3_row6_col7\" class=\"data row6 col7\" >0.7891</td>\n",
       "      <td id=\"T_019e3_row6_col8\" class=\"data row6 col8\" >0.0170</td>\n",
       "    </tr>\n",
       "    <tr>\n",
       "      <th id=\"T_019e3_level0_row7\" class=\"row_heading level0 row7\" >lda</th>\n",
       "      <td id=\"T_019e3_row7_col0\" class=\"data row7 col0\" >Linear Discriminant Analysis</td>\n",
       "      <td id=\"T_019e3_row7_col1\" class=\"data row7 col1\" >0.9048</td>\n",
       "      <td id=\"T_019e3_row7_col2\" class=\"data row7 col2\" >0.9875</td>\n",
       "      <td id=\"T_019e3_row7_col3\" class=\"data row7 col3\" >0.9550</td>\n",
       "      <td id=\"T_019e3_row7_col4\" class=\"data row7 col4\" >0.9183</td>\n",
       "      <td id=\"T_019e3_row7_col5\" class=\"data row7 col5\" >0.9326</td>\n",
       "      <td id=\"T_019e3_row7_col6\" class=\"data row7 col6\" >0.7677</td>\n",
       "      <td id=\"T_019e3_row7_col7\" class=\"data row7 col7\" >0.7891</td>\n",
       "      <td id=\"T_019e3_row7_col8\" class=\"data row7 col8\" >0.0130</td>\n",
       "    </tr>\n",
       "    <tr>\n",
       "      <th id=\"T_019e3_level0_row8\" class=\"row_heading level0 row8\" >rf</th>\n",
       "      <td id=\"T_019e3_row8_col0\" class=\"data row8 col0\" >Random Forest Classifier</td>\n",
       "      <td id=\"T_019e3_row8_col1\" class=\"data row8 col1\" >0.8905</td>\n",
       "      <td id=\"T_019e3_row8_col2\" class=\"data row8 col2\" >0.9900</td>\n",
       "      <td id=\"T_019e3_row8_col3\" class=\"data row8 col3\" >0.9300</td>\n",
       "      <td id=\"T_019e3_row8_col4\" class=\"data row8 col4\" >0.9233</td>\n",
       "      <td id=\"T_019e3_row8_col5\" class=\"data row8 col5\" >0.9179</td>\n",
       "      <td id=\"T_019e3_row8_col6\" class=\"data row8 col6\" >0.7385</td>\n",
       "      <td id=\"T_019e3_row8_col7\" class=\"data row8 col7\" >0.7730</td>\n",
       "      <td id=\"T_019e3_row8_col8\" class=\"data row8 col8\" >0.1220</td>\n",
       "    </tr>\n",
       "    <tr>\n",
       "      <th id=\"T_019e3_level0_row9\" class=\"row_heading level0 row9\" >nb</th>\n",
       "      <td id=\"T_019e3_row9_col0\" class=\"data row9 col0\" >Naive Bayes</td>\n",
       "      <td id=\"T_019e3_row9_col1\" class=\"data row9 col1\" >0.8738</td>\n",
       "      <td id=\"T_019e3_row9_col2\" class=\"data row9 col2\" >0.9238</td>\n",
       "      <td id=\"T_019e3_row9_col3\" class=\"data row9 col3\" >0.9050</td>\n",
       "      <td id=\"T_019e3_row9_col4\" class=\"data row9 col4\" >0.9250</td>\n",
       "      <td id=\"T_019e3_row9_col5\" class=\"data row9 col5\" >0.9062</td>\n",
       "      <td id=\"T_019e3_row9_col6\" class=\"data row9 col6\" >0.6921</td>\n",
       "      <td id=\"T_019e3_row9_col7\" class=\"data row9 col7\" >0.7083</td>\n",
       "      <td id=\"T_019e3_row9_col8\" class=\"data row9 col8\" >0.0140</td>\n",
       "    </tr>\n",
       "    <tr>\n",
       "      <th id=\"T_019e3_level0_row10\" class=\"row_heading level0 row10\" >gbc</th>\n",
       "      <td id=\"T_019e3_row10_col0\" class=\"data row10 col0\" >Gradient Boosting Classifier</td>\n",
       "      <td id=\"T_019e3_row10_col1\" class=\"data row10 col1\" >0.8738</td>\n",
       "      <td id=\"T_019e3_row10_col2\" class=\"data row10 col2\" >0.9288</td>\n",
       "      <td id=\"T_019e3_row10_col3\" class=\"data row10 col3\" >0.9050</td>\n",
       "      <td id=\"T_019e3_row10_col4\" class=\"data row10 col4\" >0.9233</td>\n",
       "      <td id=\"T_019e3_row10_col5\" class=\"data row10 col5\" >0.9036</td>\n",
       "      <td id=\"T_019e3_row10_col6\" class=\"data row10 col6\" >0.7052</td>\n",
       "      <td id=\"T_019e3_row10_col7\" class=\"data row10 col7\" >0.7437</td>\n",
       "      <td id=\"T_019e3_row10_col8\" class=\"data row10 col8\" >0.0520</td>\n",
       "    </tr>\n",
       "    <tr>\n",
       "      <th id=\"T_019e3_level0_row11\" class=\"row_heading level0 row11\" >svm</th>\n",
       "      <td id=\"T_019e3_row11_col0\" class=\"data row11 col0\" >SVM - Linear Kernel</td>\n",
       "      <td id=\"T_019e3_row11_col1\" class=\"data row11 col1\" >0.8548</td>\n",
       "      <td id=\"T_019e3_row11_col2\" class=\"data row11 col2\" >0.9875</td>\n",
       "      <td id=\"T_019e3_row11_col3\" class=\"data row11 col3\" >0.9550</td>\n",
       "      <td id=\"T_019e3_row11_col4\" class=\"data row11 col4\" >0.8700</td>\n",
       "      <td id=\"T_019e3_row11_col5\" class=\"data row11 col5\" >0.9011</td>\n",
       "      <td id=\"T_019e3_row11_col6\" class=\"data row11 col6\" >0.6236</td>\n",
       "      <td id=\"T_019e3_row11_col7\" class=\"data row11 col7\" >0.6613</td>\n",
       "      <td id=\"T_019e3_row11_col8\" class=\"data row11 col8\" >0.0150</td>\n",
       "    </tr>\n",
       "    <tr>\n",
       "      <th id=\"T_019e3_level0_row12\" class=\"row_heading level0 row12\" >qda</th>\n",
       "      <td id=\"T_019e3_row12_col0\" class=\"data row12 col0\" >Quadratic Discriminant Analysis</td>\n",
       "      <td id=\"T_019e3_row12_col1\" class=\"data row12 col1\" >0.8238</td>\n",
       "      <td id=\"T_019e3_row12_col2\" class=\"data row12 col2\" >0.8233</td>\n",
       "      <td id=\"T_019e3_row12_col3\" class=\"data row12 col3\" >0.8750</td>\n",
       "      <td id=\"T_019e3_row12_col4\" class=\"data row12 col4\" >0.7850</td>\n",
       "      <td id=\"T_019e3_row12_col5\" class=\"data row12 col5\" >0.8237</td>\n",
       "      <td id=\"T_019e3_row12_col6\" class=\"data row12 col6\" >0.6148</td>\n",
       "      <td id=\"T_019e3_row12_col7\" class=\"data row12 col7\" >0.6327</td>\n",
       "      <td id=\"T_019e3_row12_col8\" class=\"data row12 col8\" >0.0190</td>\n",
       "    </tr>\n",
       "    <tr>\n",
       "      <th id=\"T_019e3_level0_row13\" class=\"row_heading level0 row13\" >dt</th>\n",
       "      <td id=\"T_019e3_row13_col0\" class=\"data row13 col0\" >Decision Tree Classifier</td>\n",
       "      <td id=\"T_019e3_row13_col1\" class=\"data row13 col1\" >0.7929</td>\n",
       "      <td id=\"T_019e3_row13_col2\" class=\"data row13 col2\" >0.7675</td>\n",
       "      <td id=\"T_019e3_row13_col3\" class=\"data row13 col3\" >0.8350</td>\n",
       "      <td id=\"T_019e3_row13_col4\" class=\"data row13 col4\" >0.8733</td>\n",
       "      <td id=\"T_019e3_row13_col5\" class=\"data row13 col5\" >0.8397</td>\n",
       "      <td id=\"T_019e3_row13_col6\" class=\"data row13 col6\" >0.5317</td>\n",
       "      <td id=\"T_019e3_row13_col7\" class=\"data row13 col7\" >0.5755</td>\n",
       "      <td id=\"T_019e3_row13_col8\" class=\"data row13 col8\" >0.0150</td>\n",
       "    </tr>\n",
       "    <tr>\n",
       "      <th id=\"T_019e3_level0_row14\" class=\"row_heading level0 row14\" >dummy</th>\n",
       "      <td id=\"T_019e3_row14_col0\" class=\"data row14 col0\" >Dummy Classifier</td>\n",
       "      <td id=\"T_019e3_row14_col1\" class=\"data row14 col1\" >0.6667</td>\n",
       "      <td id=\"T_019e3_row14_col2\" class=\"data row14 col2\" >0.5000</td>\n",
       "      <td id=\"T_019e3_row14_col3\" class=\"data row14 col3\" >1.0000</td>\n",
       "      <td id=\"T_019e3_row14_col4\" class=\"data row14 col4\" >0.6667</td>\n",
       "      <td id=\"T_019e3_row14_col5\" class=\"data row14 col5\" >0.7994</td>\n",
       "      <td id=\"T_019e3_row14_col6\" class=\"data row14 col6\" >0.0000</td>\n",
       "      <td id=\"T_019e3_row14_col7\" class=\"data row14 col7\" >0.0000</td>\n",
       "      <td id=\"T_019e3_row14_col8\" class=\"data row14 col8\" >0.0170</td>\n",
       "    </tr>\n",
       "  </tbody>\n",
       "</table>\n"
      ],
      "text/plain": [
       "<pandas.io.formats.style.Styler at 0x27fe58436d0>"
      ]
     },
     "metadata": {},
     "output_type": "display_data"
    },
    {
     "data": {
      "application/vnd.jupyter.widget-view+json": {
       "model_id": "2bbbc5ab5be54404aea0a5b7c7efe211",
       "version_major": 2,
       "version_minor": 0
      },
      "text/plain": [
       "Processing:   0%|          | 0/65 [00:00<?, ?it/s]"
      ]
     },
     "metadata": {},
     "output_type": "display_data"
    },
    {
     "data": {
      "text/html": [],
      "text/plain": [
       "<IPython.core.display.HTML object>"
      ]
     },
     "metadata": {},
     "output_type": "display_data"
    },
    {
     "data": {
      "text/html": [
       "<style type=\"text/css\">\n",
       "#T_d60bf th {\n",
       "  text-align: left;\n",
       "}\n",
       "#T_d60bf_row0_col0 {\n",
       "  text-align: left;\n",
       "}\n",
       "#T_d60bf_row0_col1, #T_d60bf_row0_col2, #T_d60bf_row0_col3, #T_d60bf_row0_col4, #T_d60bf_row0_col5, #T_d60bf_row0_col6, #T_d60bf_row0_col7 {\n",
       "  text-align: left;\n",
       "  background-color: yellow;\n",
       "}\n",
       "#T_d60bf_row0_col8 {\n",
       "  text-align: left;\n",
       "  background-color: yellow;\n",
       "  background-color: lightgrey;\n",
       "}\n",
       "</style>\n",
       "<table id=\"T_d60bf\">\n",
       "  <thead>\n",
       "    <tr>\n",
       "      <th class=\"blank level0\" >&nbsp;</th>\n",
       "      <th id=\"T_d60bf_level0_col0\" class=\"col_heading level0 col0\" >Model</th>\n",
       "      <th id=\"T_d60bf_level0_col1\" class=\"col_heading level0 col1\" >Accuracy</th>\n",
       "      <th id=\"T_d60bf_level0_col2\" class=\"col_heading level0 col2\" >AUC</th>\n",
       "      <th id=\"T_d60bf_level0_col3\" class=\"col_heading level0 col3\" >Recall</th>\n",
       "      <th id=\"T_d60bf_level0_col4\" class=\"col_heading level0 col4\" >Prec.</th>\n",
       "      <th id=\"T_d60bf_level0_col5\" class=\"col_heading level0 col5\" >F1</th>\n",
       "      <th id=\"T_d60bf_level0_col6\" class=\"col_heading level0 col6\" >Kappa</th>\n",
       "      <th id=\"T_d60bf_level0_col7\" class=\"col_heading level0 col7\" >MCC</th>\n",
       "      <th id=\"T_d60bf_level0_col8\" class=\"col_heading level0 col8\" >TT (Sec)</th>\n",
       "    </tr>\n",
       "  </thead>\n",
       "  <tbody>\n",
       "    <tr>\n",
       "      <th id=\"T_d60bf_level0_row0\" class=\"row_heading level0 row0\" >lr</th>\n",
       "      <td id=\"T_d60bf_row0_col0\" class=\"data row0 col0\" >Logistic Regression</td>\n",
       "      <td id=\"T_d60bf_row0_col1\" class=\"data row0 col1\" >0.9690</td>\n",
       "      <td id=\"T_d60bf_row0_col2\" class=\"data row0 col2\" >1.0000</td>\n",
       "      <td id=\"T_d60bf_row0_col3\" class=\"data row0 col3\" >0.9800</td>\n",
       "      <td id=\"T_d60bf_row0_col4\" class=\"data row0 col4\" >0.9800</td>\n",
       "      <td id=\"T_d60bf_row0_col5\" class=\"data row0 col5\" >0.9778</td>\n",
       "      <td id=\"T_d60bf_row0_col6\" class=\"data row0 col6\" >0.9267</td>\n",
       "      <td id=\"T_d60bf_row0_col7\" class=\"data row0 col7\" >0.9363</td>\n",
       "      <td id=\"T_d60bf_row0_col8\" class=\"data row0 col8\" >0.0410</td>\n",
       "    </tr>\n",
       "  </tbody>\n",
       "</table>\n"
      ],
      "text/plain": [
       "<pandas.io.formats.style.Styler at 0x27fe56a6890>"
      ]
     },
     "metadata": {},
     "output_type": "display_data"
    },
    {
     "data": {
      "application/vnd.jupyter.widget-view+json": {
       "model_id": "a63083e9d36a440d8b4fad381b51904e",
       "version_major": 2,
       "version_minor": 0
      },
      "text/plain": [
       "Processing:   0%|          | 0/9 [00:00<?, ?it/s]"
      ]
     },
     "metadata": {},
     "output_type": "display_data"
    },
    {
     "data": {
      "text/html": [],
      "text/plain": [
       "<IPython.core.display.HTML object>"
      ]
     },
     "metadata": {},
     "output_type": "display_data"
    },
    {
     "data": {
      "text/html": [],
      "text/plain": [
       "<IPython.core.display.HTML object>"
      ]
     },
     "metadata": {},
     "output_type": "display_data"
    },
    {
     "data": {
      "text/html": [],
      "text/plain": [
       "<IPython.core.display.HTML object>"
      ]
     },
     "metadata": {},
     "output_type": "display_data"
    },
    {
     "data": {
      "text/html": [
       "<style type=\"text/css\">\n",
       "#T_6f461 th {\n",
       "  text-align: left;\n",
       "}\n",
       "#T_6f461_row0_col0 {\n",
       "  text-align: left;\n",
       "}\n",
       "#T_6f461_row0_col1, #T_6f461_row0_col2, #T_6f461_row0_col3, #T_6f461_row0_col4, #T_6f461_row0_col5, #T_6f461_row0_col6, #T_6f461_row0_col7 {\n",
       "  text-align: left;\n",
       "  background-color: yellow;\n",
       "}\n",
       "#T_6f461_row0_col8 {\n",
       "  text-align: left;\n",
       "  background-color: yellow;\n",
       "  background-color: lightgrey;\n",
       "}\n",
       "</style>\n",
       "<table id=\"T_6f461\">\n",
       "  <thead>\n",
       "    <tr>\n",
       "      <th class=\"blank level0\" >&nbsp;</th>\n",
       "      <th id=\"T_6f461_level0_col0\" class=\"col_heading level0 col0\" >Model</th>\n",
       "      <th id=\"T_6f461_level0_col1\" class=\"col_heading level0 col1\" >Accuracy</th>\n",
       "      <th id=\"T_6f461_level0_col2\" class=\"col_heading level0 col2\" >AUC</th>\n",
       "      <th id=\"T_6f461_level0_col3\" class=\"col_heading level0 col3\" >Recall</th>\n",
       "      <th id=\"T_6f461_level0_col4\" class=\"col_heading level0 col4\" >Prec.</th>\n",
       "      <th id=\"T_6f461_level0_col5\" class=\"col_heading level0 col5\" >F1</th>\n",
       "      <th id=\"T_6f461_level0_col6\" class=\"col_heading level0 col6\" >Kappa</th>\n",
       "      <th id=\"T_6f461_level0_col7\" class=\"col_heading level0 col7\" >MCC</th>\n",
       "      <th id=\"T_6f461_level0_col8\" class=\"col_heading level0 col8\" >TT (Sec)</th>\n",
       "    </tr>\n",
       "  </thead>\n",
       "  <tbody>\n",
       "    <tr>\n",
       "      <th id=\"T_6f461_level0_row0\" class=\"row_heading level0 row0\" >et</th>\n",
       "      <td id=\"T_6f461_row0_col0\" class=\"data row0 col0\" >Extra Trees Classifier</td>\n",
       "      <td id=\"T_6f461_row0_col1\" class=\"data row0 col1\" >0.9381</td>\n",
       "      <td id=\"T_6f461_row0_col2\" class=\"data row0 col2\" >1.0000</td>\n",
       "      <td id=\"T_6f461_row0_col3\" class=\"data row0 col3\" >0.9750</td>\n",
       "      <td id=\"T_6f461_row0_col4\" class=\"data row0 col4\" >0.9433</td>\n",
       "      <td id=\"T_6f461_row0_col5\" class=\"data row0 col5\" >0.9544</td>\n",
       "      <td id=\"T_6f461_row0_col6\" class=\"data row0 col6\" >0.8451</td>\n",
       "      <td id=\"T_6f461_row0_col7\" class=\"data row0 col7\" >0.8660</td>\n",
       "      <td id=\"T_6f461_row0_col8\" class=\"data row0 col8\" >0.0690</td>\n",
       "    </tr>\n",
       "  </tbody>\n",
       "</table>\n"
      ],
      "text/plain": [
       "<pandas.io.formats.style.Styler at 0x27fdfdd29d0>"
      ]
     },
     "metadata": {},
     "output_type": "display_data"
    },
    {
     "data": {
      "application/vnd.jupyter.widget-view+json": {
       "model_id": "ea6ac108312d4719b10095a7fd6ccd62",
       "version_major": 2,
       "version_minor": 0
      },
      "text/plain": [
       "Processing:   0%|          | 0/9 [00:00<?, ?it/s]"
      ]
     },
     "metadata": {},
     "output_type": "display_data"
    },
    {
     "data": {
      "text/html": [],
      "text/plain": [
       "<IPython.core.display.HTML object>"
      ]
     },
     "metadata": {},
     "output_type": "display_data"
    },
    {
     "data": {
      "text/html": [],
      "text/plain": [
       "<IPython.core.display.HTML object>"
      ]
     },
     "metadata": {},
     "output_type": "display_data"
    },
    {
     "data": {
      "text/html": [],
      "text/plain": [
       "<IPython.core.display.HTML object>"
      ]
     },
     "metadata": {},
     "output_type": "display_data"
    },
    {
     "data": {
      "text/html": [
       "<style type=\"text/css\">\n",
       "#T_619d2 th {\n",
       "  text-align: left;\n",
       "}\n",
       "#T_619d2_row0_col0 {\n",
       "  text-align: left;\n",
       "}\n",
       "#T_619d2_row0_col1, #T_619d2_row0_col2, #T_619d2_row0_col3, #T_619d2_row0_col4, #T_619d2_row0_col5, #T_619d2_row0_col6, #T_619d2_row0_col7 {\n",
       "  text-align: left;\n",
       "  background-color: yellow;\n",
       "}\n",
       "#T_619d2_row0_col8 {\n",
       "  text-align: left;\n",
       "  background-color: yellow;\n",
       "  background-color: lightgrey;\n",
       "}\n",
       "</style>\n",
       "<table id=\"T_619d2\">\n",
       "  <thead>\n",
       "    <tr>\n",
       "      <th class=\"blank level0\" >&nbsp;</th>\n",
       "      <th id=\"T_619d2_level0_col0\" class=\"col_heading level0 col0\" >Model</th>\n",
       "      <th id=\"T_619d2_level0_col1\" class=\"col_heading level0 col1\" >Accuracy</th>\n",
       "      <th id=\"T_619d2_level0_col2\" class=\"col_heading level0 col2\" >AUC</th>\n",
       "      <th id=\"T_619d2_level0_col3\" class=\"col_heading level0 col3\" >Recall</th>\n",
       "      <th id=\"T_619d2_level0_col4\" class=\"col_heading level0 col4\" >Prec.</th>\n",
       "      <th id=\"T_619d2_level0_col5\" class=\"col_heading level0 col5\" >F1</th>\n",
       "      <th id=\"T_619d2_level0_col6\" class=\"col_heading level0 col6\" >Kappa</th>\n",
       "      <th id=\"T_619d2_level0_col7\" class=\"col_heading level0 col7\" >MCC</th>\n",
       "      <th id=\"T_619d2_level0_col8\" class=\"col_heading level0 col8\" >TT (Sec)</th>\n",
       "    </tr>\n",
       "  </thead>\n",
       "  <tbody>\n",
       "    <tr>\n",
       "      <th id=\"T_619d2_level0_row0\" class=\"row_heading level0 row0\" >lightgbm</th>\n",
       "      <td id=\"T_619d2_row0_col0\" class=\"data row0 col0\" >Light Gradient Boosting Machine</td>\n",
       "      <td id=\"T_619d2_row0_col1\" class=\"data row0 col1\" >0.9381</td>\n",
       "      <td id=\"T_619d2_row0_col2\" class=\"data row0 col2\" >0.9575</td>\n",
       "      <td id=\"T_619d2_row0_col3\" class=\"data row0 col3\" >0.9750</td>\n",
       "      <td id=\"T_619d2_row0_col4\" class=\"data row0 col4\" >0.9433</td>\n",
       "      <td id=\"T_619d2_row0_col5\" class=\"data row0 col5\" >0.9544</td>\n",
       "      <td id=\"T_619d2_row0_col6\" class=\"data row0 col6\" >0.8451</td>\n",
       "      <td id=\"T_619d2_row0_col7\" class=\"data row0 col7\" >0.8660</td>\n",
       "      <td id=\"T_619d2_row0_col8\" class=\"data row0 col8\" >0.0360</td>\n",
       "    </tr>\n",
       "  </tbody>\n",
       "</table>\n"
      ],
      "text/plain": [
       "<pandas.io.formats.style.Styler at 0x27fe2721190>"
      ]
     },
     "metadata": {},
     "output_type": "display_data"
    },
    {
     "data": {
      "application/vnd.jupyter.widget-view+json": {
       "model_id": "9301e5bb00be4e44b9557d8c7fa44db4",
       "version_major": 2,
       "version_minor": 0
      },
      "text/plain": [
       "Processing:   0%|          | 0/9 [00:00<?, ?it/s]"
      ]
     },
     "metadata": {},
     "output_type": "display_data"
    },
    {
     "data": {
      "text/html": [],
      "text/plain": [
       "<IPython.core.display.HTML object>"
      ]
     },
     "metadata": {},
     "output_type": "display_data"
    },
    {
     "data": {
      "text/html": [],
      "text/plain": [
       "<IPython.core.display.HTML object>"
      ]
     },
     "metadata": {},
     "output_type": "display_data"
    },
    {
     "data": {
      "text/html": [],
      "text/plain": [
       "<IPython.core.display.HTML object>"
      ]
     },
     "metadata": {},
     "output_type": "display_data"
    },
    {
     "data": {
      "text/html": [
       "<style type=\"text/css\">\n",
       "#T_6c54d th {\n",
       "  text-align: left;\n",
       "}\n",
       "#T_6c54d_row0_col0 {\n",
       "  text-align: left;\n",
       "}\n",
       "#T_6c54d_row0_col1, #T_6c54d_row0_col2, #T_6c54d_row0_col3, #T_6c54d_row0_col4, #T_6c54d_row0_col5, #T_6c54d_row0_col6, #T_6c54d_row0_col7 {\n",
       "  text-align: left;\n",
       "  background-color: yellow;\n",
       "}\n",
       "#T_6c54d_row0_col8 {\n",
       "  text-align: left;\n",
       "  background-color: yellow;\n",
       "  background-color: lightgrey;\n",
       "}\n",
       "</style>\n",
       "<table id=\"T_6c54d\">\n",
       "  <thead>\n",
       "    <tr>\n",
       "      <th class=\"blank level0\" >&nbsp;</th>\n",
       "      <th id=\"T_6c54d_level0_col0\" class=\"col_heading level0 col0\" >Model</th>\n",
       "      <th id=\"T_6c54d_level0_col1\" class=\"col_heading level0 col1\" >Accuracy</th>\n",
       "      <th id=\"T_6c54d_level0_col2\" class=\"col_heading level0 col2\" >AUC</th>\n",
       "      <th id=\"T_6c54d_level0_col3\" class=\"col_heading level0 col3\" >Recall</th>\n",
       "      <th id=\"T_6c54d_level0_col4\" class=\"col_heading level0 col4\" >Prec.</th>\n",
       "      <th id=\"T_6c54d_level0_col5\" class=\"col_heading level0 col5\" >F1</th>\n",
       "      <th id=\"T_6c54d_level0_col6\" class=\"col_heading level0 col6\" >Kappa</th>\n",
       "      <th id=\"T_6c54d_level0_col7\" class=\"col_heading level0 col7\" >MCC</th>\n",
       "      <th id=\"T_6c54d_level0_col8\" class=\"col_heading level0 col8\" >TT (Sec)</th>\n",
       "    </tr>\n",
       "  </thead>\n",
       "  <tbody>\n",
       "    <tr>\n",
       "      <th id=\"T_6c54d_level0_row0\" class=\"row_heading level0 row0\" >ada</th>\n",
       "      <td id=\"T_6c54d_row0_col0\" class=\"data row0 col0\" >Ada Boost Classifier</td>\n",
       "      <td id=\"T_6c54d_row0_col1\" class=\"data row0 col1\" >0.9238</td>\n",
       "      <td id=\"T_6c54d_row0_col2\" class=\"data row0 col2\" >0.9750</td>\n",
       "      <td id=\"T_6c54d_row0_col3\" class=\"data row0 col3\" >0.9550</td>\n",
       "      <td id=\"T_6c54d_row0_col4\" class=\"data row0 col4\" >0.9433</td>\n",
       "      <td id=\"T_6c54d_row0_col5\" class=\"data row0 col5\" >0.9433</td>\n",
       "      <td id=\"T_6c54d_row0_col6\" class=\"data row0 col6\" >0.8147</td>\n",
       "      <td id=\"T_6c54d_row0_col7\" class=\"data row0 col7\" >0.8391</td>\n",
       "      <td id=\"T_6c54d_row0_col8\" class=\"data row0 col8\" >0.0660</td>\n",
       "    </tr>\n",
       "  </tbody>\n",
       "</table>\n"
      ],
      "text/plain": [
       "<pandas.io.formats.style.Styler at 0x27fe54cb650>"
      ]
     },
     "metadata": {},
     "output_type": "display_data"
    },
    {
     "data": {
      "application/vnd.jupyter.widget-view+json": {
       "model_id": "d9ee471a5e2e43cbb1bff55b85f3970e",
       "version_major": 2,
       "version_minor": 0
      },
      "text/plain": [
       "Processing:   0%|          | 0/9 [00:00<?, ?it/s]"
      ]
     },
     "metadata": {},
     "output_type": "display_data"
    },
    {
     "data": {
      "text/html": [],
      "text/plain": [
       "<IPython.core.display.HTML object>"
      ]
     },
     "metadata": {},
     "output_type": "display_data"
    },
    {
     "data": {
      "text/html": [],
      "text/plain": [
       "<IPython.core.display.HTML object>"
      ]
     },
     "metadata": {},
     "output_type": "display_data"
    },
    {
     "data": {
      "text/html": [],
      "text/plain": [
       "<IPython.core.display.HTML object>"
      ]
     },
     "metadata": {},
     "output_type": "display_data"
    },
    {
     "data": {
      "text/html": [
       "<style type=\"text/css\">\n",
       "#T_931f7 th {\n",
       "  text-align: left;\n",
       "}\n",
       "#T_931f7_row0_col0 {\n",
       "  text-align: left;\n",
       "}\n",
       "#T_931f7_row0_col1, #T_931f7_row0_col2, #T_931f7_row0_col3, #T_931f7_row0_col4, #T_931f7_row0_col5, #T_931f7_row0_col6, #T_931f7_row0_col7 {\n",
       "  text-align: left;\n",
       "  background-color: yellow;\n",
       "}\n",
       "#T_931f7_row0_col8 {\n",
       "  text-align: left;\n",
       "  background-color: yellow;\n",
       "  background-color: lightgrey;\n",
       "}\n",
       "</style>\n",
       "<table id=\"T_931f7\">\n",
       "  <thead>\n",
       "    <tr>\n",
       "      <th class=\"blank level0\" >&nbsp;</th>\n",
       "      <th id=\"T_931f7_level0_col0\" class=\"col_heading level0 col0\" >Model</th>\n",
       "      <th id=\"T_931f7_level0_col1\" class=\"col_heading level0 col1\" >Accuracy</th>\n",
       "      <th id=\"T_931f7_level0_col2\" class=\"col_heading level0 col2\" >AUC</th>\n",
       "      <th id=\"T_931f7_level0_col3\" class=\"col_heading level0 col3\" >Recall</th>\n",
       "      <th id=\"T_931f7_level0_col4\" class=\"col_heading level0 col4\" >Prec.</th>\n",
       "      <th id=\"T_931f7_level0_col5\" class=\"col_heading level0 col5\" >F1</th>\n",
       "      <th id=\"T_931f7_level0_col6\" class=\"col_heading level0 col6\" >Kappa</th>\n",
       "      <th id=\"T_931f7_level0_col7\" class=\"col_heading level0 col7\" >MCC</th>\n",
       "      <th id=\"T_931f7_level0_col8\" class=\"col_heading level0 col8\" >TT (Sec)</th>\n",
       "    </tr>\n",
       "  </thead>\n",
       "  <tbody>\n",
       "    <tr>\n",
       "      <th id=\"T_931f7_level0_row0\" class=\"row_heading level0 row0\" >xgboost</th>\n",
       "      <td id=\"T_931f7_row0_col0\" class=\"data row0 col0\" >Extreme Gradient Boosting</td>\n",
       "      <td id=\"T_931f7_row0_col1\" class=\"data row0 col1\" >0.9238</td>\n",
       "      <td id=\"T_931f7_row0_col2\" class=\"data row0 col2\" >0.9792</td>\n",
       "      <td id=\"T_931f7_row0_col3\" class=\"data row0 col3\" >0.9750</td>\n",
       "      <td id=\"T_931f7_row0_col4\" class=\"data row0 col4\" >0.9183</td>\n",
       "      <td id=\"T_931f7_row0_col5\" class=\"data row0 col5\" >0.9437</td>\n",
       "      <td id=\"T_931f7_row0_col6\" class=\"data row0 col6\" >0.8148</td>\n",
       "      <td id=\"T_931f7_row0_col7\" class=\"data row0 col7\" >0.8327</td>\n",
       "      <td id=\"T_931f7_row0_col8\" class=\"data row0 col8\" >0.0360</td>\n",
       "    </tr>\n",
       "  </tbody>\n",
       "</table>\n"
      ],
      "text/plain": [
       "<pandas.io.formats.style.Styler at 0x27fe571c050>"
      ]
     },
     "metadata": {},
     "output_type": "display_data"
    },
    {
     "data": {
      "application/vnd.jupyter.widget-view+json": {
       "model_id": "a24f5da2514b4315a4c3e4879d3d4a50",
       "version_major": 2,
       "version_minor": 0
      },
      "text/plain": [
       "Processing:   0%|          | 0/9 [00:00<?, ?it/s]"
      ]
     },
     "metadata": {},
     "output_type": "display_data"
    },
    {
     "data": {
      "text/html": [],
      "text/plain": [
       "<IPython.core.display.HTML object>"
      ]
     },
     "metadata": {},
     "output_type": "display_data"
    },
    {
     "data": {
      "text/html": [],
      "text/plain": [
       "<IPython.core.display.HTML object>"
      ]
     },
     "metadata": {},
     "output_type": "display_data"
    },
    {
     "data": {
      "text/html": [],
      "text/plain": [
       "<IPython.core.display.HTML object>"
      ]
     },
     "metadata": {},
     "output_type": "display_data"
    },
    {
     "data": {
      "text/html": [
       "<style type=\"text/css\">\n",
       "#T_d0eac th {\n",
       "  text-align: left;\n",
       "}\n",
       "#T_d0eac_row0_col0 {\n",
       "  text-align: left;\n",
       "}\n",
       "#T_d0eac_row0_col1, #T_d0eac_row0_col2, #T_d0eac_row0_col3, #T_d0eac_row0_col4, #T_d0eac_row0_col5, #T_d0eac_row0_col6, #T_d0eac_row0_col7 {\n",
       "  text-align: left;\n",
       "  background-color: yellow;\n",
       "}\n",
       "#T_d0eac_row0_col8 {\n",
       "  text-align: left;\n",
       "  background-color: yellow;\n",
       "  background-color: lightgrey;\n",
       "}\n",
       "</style>\n",
       "<table id=\"T_d0eac\">\n",
       "  <thead>\n",
       "    <tr>\n",
       "      <th class=\"blank level0\" >&nbsp;</th>\n",
       "      <th id=\"T_d0eac_level0_col0\" class=\"col_heading level0 col0\" >Model</th>\n",
       "      <th id=\"T_d0eac_level0_col1\" class=\"col_heading level0 col1\" >Accuracy</th>\n",
       "      <th id=\"T_d0eac_level0_col2\" class=\"col_heading level0 col2\" >AUC</th>\n",
       "      <th id=\"T_d0eac_level0_col3\" class=\"col_heading level0 col3\" >Recall</th>\n",
       "      <th id=\"T_d0eac_level0_col4\" class=\"col_heading level0 col4\" >Prec.</th>\n",
       "      <th id=\"T_d0eac_level0_col5\" class=\"col_heading level0 col5\" >F1</th>\n",
       "      <th id=\"T_d0eac_level0_col6\" class=\"col_heading level0 col6\" >Kappa</th>\n",
       "      <th id=\"T_d0eac_level0_col7\" class=\"col_heading level0 col7\" >MCC</th>\n",
       "      <th id=\"T_d0eac_level0_col8\" class=\"col_heading level0 col8\" >TT (Sec)</th>\n",
       "    </tr>\n",
       "  </thead>\n",
       "  <tbody>\n",
       "    <tr>\n",
       "      <th id=\"T_d0eac_level0_row0\" class=\"row_heading level0 row0\" >knn</th>\n",
       "      <td id=\"T_d0eac_row0_col0\" class=\"data row0 col0\" >K Neighbors Classifier</td>\n",
       "      <td id=\"T_d0eac_row0_col1\" class=\"data row0 col1\" >0.9167</td>\n",
       "      <td id=\"T_d0eac_row0_col2\" class=\"data row0 col2\" >0.9875</td>\n",
       "      <td id=\"T_d0eac_row0_col3\" class=\"data row0 col3\" >0.9750</td>\n",
       "      <td id=\"T_d0eac_row0_col4\" class=\"data row0 col4\" >0.9200</td>\n",
       "      <td id=\"T_d0eac_row0_col5\" class=\"data row0 col5\" >0.9413</td>\n",
       "      <td id=\"T_d0eac_row0_col6\" class=\"data row0 col6\" >0.7952</td>\n",
       "      <td id=\"T_d0eac_row0_col7\" class=\"data row0 col7\" >0.8237</td>\n",
       "      <td id=\"T_d0eac_row0_col8\" class=\"data row0 col8\" >0.0220</td>\n",
       "    </tr>\n",
       "  </tbody>\n",
       "</table>\n"
      ],
      "text/plain": [
       "<pandas.io.formats.style.Styler at 0x27fe6a0fb90>"
      ]
     },
     "metadata": {},
     "output_type": "display_data"
    },
    {
     "data": {
      "application/vnd.jupyter.widget-view+json": {
       "model_id": "08f3239de55c4b21af85bb6d668b4802",
       "version_major": 2,
       "version_minor": 0
      },
      "text/plain": [
       "Processing:   0%|          | 0/9 [00:00<?, ?it/s]"
      ]
     },
     "metadata": {},
     "output_type": "display_data"
    },
    {
     "data": {
      "text/html": [],
      "text/plain": [
       "<IPython.core.display.HTML object>"
      ]
     },
     "metadata": {},
     "output_type": "display_data"
    },
    {
     "data": {
      "text/html": [],
      "text/plain": [
       "<IPython.core.display.HTML object>"
      ]
     },
     "metadata": {},
     "output_type": "display_data"
    },
    {
     "data": {
      "text/html": [],
      "text/plain": [
       "<IPython.core.display.HTML object>"
      ]
     },
     "metadata": {},
     "output_type": "display_data"
    },
    {
     "data": {
      "text/html": [
       "<style type=\"text/css\">\n",
       "#T_7312f th {\n",
       "  text-align: left;\n",
       "}\n",
       "#T_7312f_row0_col0 {\n",
       "  text-align: left;\n",
       "}\n",
       "#T_7312f_row0_col1, #T_7312f_row0_col2, #T_7312f_row0_col3, #T_7312f_row0_col4, #T_7312f_row0_col5, #T_7312f_row0_col6, #T_7312f_row0_col7 {\n",
       "  text-align: left;\n",
       "  background-color: yellow;\n",
       "}\n",
       "#T_7312f_row0_col8 {\n",
       "  text-align: left;\n",
       "  background-color: yellow;\n",
       "  background-color: lightgrey;\n",
       "}\n",
       "</style>\n",
       "<table id=\"T_7312f\">\n",
       "  <thead>\n",
       "    <tr>\n",
       "      <th class=\"blank level0\" >&nbsp;</th>\n",
       "      <th id=\"T_7312f_level0_col0\" class=\"col_heading level0 col0\" >Model</th>\n",
       "      <th id=\"T_7312f_level0_col1\" class=\"col_heading level0 col1\" >Accuracy</th>\n",
       "      <th id=\"T_7312f_level0_col2\" class=\"col_heading level0 col2\" >AUC</th>\n",
       "      <th id=\"T_7312f_level0_col3\" class=\"col_heading level0 col3\" >Recall</th>\n",
       "      <th id=\"T_7312f_level0_col4\" class=\"col_heading level0 col4\" >Prec.</th>\n",
       "      <th id=\"T_7312f_level0_col5\" class=\"col_heading level0 col5\" >F1</th>\n",
       "      <th id=\"T_7312f_level0_col6\" class=\"col_heading level0 col6\" >Kappa</th>\n",
       "      <th id=\"T_7312f_level0_col7\" class=\"col_heading level0 col7\" >MCC</th>\n",
       "      <th id=\"T_7312f_level0_col8\" class=\"col_heading level0 col8\" >TT (Sec)</th>\n",
       "    </tr>\n",
       "  </thead>\n",
       "  <tbody>\n",
       "    <tr>\n",
       "      <th id=\"T_7312f_level0_row0\" class=\"row_heading level0 row0\" >ridge</th>\n",
       "      <td id=\"T_7312f_row0_col0\" class=\"data row0 col0\" >Ridge Classifier</td>\n",
       "      <td id=\"T_7312f_row0_col1\" class=\"data row0 col1\" >0.9048</td>\n",
       "      <td id=\"T_7312f_row0_col2\" class=\"data row0 col2\" >0.9875</td>\n",
       "      <td id=\"T_7312f_row0_col3\" class=\"data row0 col3\" >0.9550</td>\n",
       "      <td id=\"T_7312f_row0_col4\" class=\"data row0 col4\" >0.9183</td>\n",
       "      <td id=\"T_7312f_row0_col5\" class=\"data row0 col5\" >0.9326</td>\n",
       "      <td id=\"T_7312f_row0_col6\" class=\"data row0 col6\" >0.7677</td>\n",
       "      <td id=\"T_7312f_row0_col7\" class=\"data row0 col7\" >0.7891</td>\n",
       "      <td id=\"T_7312f_row0_col8\" class=\"data row0 col8\" >0.0200</td>\n",
       "    </tr>\n",
       "  </tbody>\n",
       "</table>\n"
      ],
      "text/plain": [
       "<pandas.io.formats.style.Styler at 0x27fe573fc10>"
      ]
     },
     "metadata": {},
     "output_type": "display_data"
    },
    {
     "data": {
      "application/vnd.jupyter.widget-view+json": {
       "model_id": "3ea3d36759134947a56b05a558aa57a8",
       "version_major": 2,
       "version_minor": 0
      },
      "text/plain": [
       "Processing:   0%|          | 0/9 [00:00<?, ?it/s]"
      ]
     },
     "metadata": {},
     "output_type": "display_data"
    },
    {
     "data": {
      "text/html": [],
      "text/plain": [
       "<IPython.core.display.HTML object>"
      ]
     },
     "metadata": {},
     "output_type": "display_data"
    },
    {
     "data": {
      "text/html": [],
      "text/plain": [
       "<IPython.core.display.HTML object>"
      ]
     },
     "metadata": {},
     "output_type": "display_data"
    },
    {
     "data": {
      "text/html": [],
      "text/plain": [
       "<IPython.core.display.HTML object>"
      ]
     },
     "metadata": {},
     "output_type": "display_data"
    },
    {
     "data": {
      "text/html": [
       "<style type=\"text/css\">\n",
       "#T_cd514 th {\n",
       "  text-align: left;\n",
       "}\n",
       "#T_cd514_row0_col0 {\n",
       "  text-align: left;\n",
       "}\n",
       "#T_cd514_row0_col1, #T_cd514_row0_col2, #T_cd514_row0_col3, #T_cd514_row0_col4, #T_cd514_row0_col5, #T_cd514_row0_col6, #T_cd514_row0_col7 {\n",
       "  text-align: left;\n",
       "  background-color: yellow;\n",
       "}\n",
       "#T_cd514_row0_col8 {\n",
       "  text-align: left;\n",
       "  background-color: yellow;\n",
       "  background-color: lightgrey;\n",
       "}\n",
       "</style>\n",
       "<table id=\"T_cd514\">\n",
       "  <thead>\n",
       "    <tr>\n",
       "      <th class=\"blank level0\" >&nbsp;</th>\n",
       "      <th id=\"T_cd514_level0_col0\" class=\"col_heading level0 col0\" >Model</th>\n",
       "      <th id=\"T_cd514_level0_col1\" class=\"col_heading level0 col1\" >Accuracy</th>\n",
       "      <th id=\"T_cd514_level0_col2\" class=\"col_heading level0 col2\" >AUC</th>\n",
       "      <th id=\"T_cd514_level0_col3\" class=\"col_heading level0 col3\" >Recall</th>\n",
       "      <th id=\"T_cd514_level0_col4\" class=\"col_heading level0 col4\" >Prec.</th>\n",
       "      <th id=\"T_cd514_level0_col5\" class=\"col_heading level0 col5\" >F1</th>\n",
       "      <th id=\"T_cd514_level0_col6\" class=\"col_heading level0 col6\" >Kappa</th>\n",
       "      <th id=\"T_cd514_level0_col7\" class=\"col_heading level0 col7\" >MCC</th>\n",
       "      <th id=\"T_cd514_level0_col8\" class=\"col_heading level0 col8\" >TT (Sec)</th>\n",
       "    </tr>\n",
       "  </thead>\n",
       "  <tbody>\n",
       "    <tr>\n",
       "      <th id=\"T_cd514_level0_row0\" class=\"row_heading level0 row0\" >lda</th>\n",
       "      <td id=\"T_cd514_row0_col0\" class=\"data row0 col0\" >Linear Discriminant Analysis</td>\n",
       "      <td id=\"T_cd514_row0_col1\" class=\"data row0 col1\" >0.9048</td>\n",
       "      <td id=\"T_cd514_row0_col2\" class=\"data row0 col2\" >0.9875</td>\n",
       "      <td id=\"T_cd514_row0_col3\" class=\"data row0 col3\" >0.9550</td>\n",
       "      <td id=\"T_cd514_row0_col4\" class=\"data row0 col4\" >0.9183</td>\n",
       "      <td id=\"T_cd514_row0_col5\" class=\"data row0 col5\" >0.9326</td>\n",
       "      <td id=\"T_cd514_row0_col6\" class=\"data row0 col6\" >0.7677</td>\n",
       "      <td id=\"T_cd514_row0_col7\" class=\"data row0 col7\" >0.7891</td>\n",
       "      <td id=\"T_cd514_row0_col8\" class=\"data row0 col8\" >0.0180</td>\n",
       "    </tr>\n",
       "  </tbody>\n",
       "</table>\n"
      ],
      "text/plain": [
       "<pandas.io.formats.style.Styler at 0x27fe5533910>"
      ]
     },
     "metadata": {},
     "output_type": "display_data"
    },
    {
     "data": {
      "application/vnd.jupyter.widget-view+json": {
       "model_id": "4a37a9948d2e4f00a0b0e3c7d704c475",
       "version_major": 2,
       "version_minor": 0
      },
      "text/plain": [
       "Processing:   0%|          | 0/9 [00:00<?, ?it/s]"
      ]
     },
     "metadata": {},
     "output_type": "display_data"
    },
    {
     "data": {
      "text/html": [],
      "text/plain": [
       "<IPython.core.display.HTML object>"
      ]
     },
     "metadata": {},
     "output_type": "display_data"
    },
    {
     "data": {
      "text/html": [],
      "text/plain": [
       "<IPython.core.display.HTML object>"
      ]
     },
     "metadata": {},
     "output_type": "display_data"
    },
    {
     "data": {
      "text/html": [],
      "text/plain": [
       "<IPython.core.display.HTML object>"
      ]
     },
     "metadata": {},
     "output_type": "display_data"
    },
    {
     "data": {
      "text/html": [
       "<style type=\"text/css\">\n",
       "#T_0e0be th {\n",
       "  text-align: left;\n",
       "}\n",
       "#T_0e0be_row0_col0 {\n",
       "  text-align: left;\n",
       "}\n",
       "#T_0e0be_row0_col1, #T_0e0be_row0_col2, #T_0e0be_row0_col3, #T_0e0be_row0_col4, #T_0e0be_row0_col5, #T_0e0be_row0_col6, #T_0e0be_row0_col7 {\n",
       "  text-align: left;\n",
       "  background-color: yellow;\n",
       "}\n",
       "#T_0e0be_row0_col8 {\n",
       "  text-align: left;\n",
       "  background-color: yellow;\n",
       "  background-color: lightgrey;\n",
       "}\n",
       "</style>\n",
       "<table id=\"T_0e0be\">\n",
       "  <thead>\n",
       "    <tr>\n",
       "      <th class=\"blank level0\" >&nbsp;</th>\n",
       "      <th id=\"T_0e0be_level0_col0\" class=\"col_heading level0 col0\" >Model</th>\n",
       "      <th id=\"T_0e0be_level0_col1\" class=\"col_heading level0 col1\" >Accuracy</th>\n",
       "      <th id=\"T_0e0be_level0_col2\" class=\"col_heading level0 col2\" >AUC</th>\n",
       "      <th id=\"T_0e0be_level0_col3\" class=\"col_heading level0 col3\" >Recall</th>\n",
       "      <th id=\"T_0e0be_level0_col4\" class=\"col_heading level0 col4\" >Prec.</th>\n",
       "      <th id=\"T_0e0be_level0_col5\" class=\"col_heading level0 col5\" >F1</th>\n",
       "      <th id=\"T_0e0be_level0_col6\" class=\"col_heading level0 col6\" >Kappa</th>\n",
       "      <th id=\"T_0e0be_level0_col7\" class=\"col_heading level0 col7\" >MCC</th>\n",
       "      <th id=\"T_0e0be_level0_col8\" class=\"col_heading level0 col8\" >TT (Sec)</th>\n",
       "    </tr>\n",
       "  </thead>\n",
       "  <tbody>\n",
       "    <tr>\n",
       "      <th id=\"T_0e0be_level0_row0\" class=\"row_heading level0 row0\" >rf</th>\n",
       "      <td id=\"T_0e0be_row0_col0\" class=\"data row0 col0\" >Random Forest Classifier</td>\n",
       "      <td id=\"T_0e0be_row0_col1\" class=\"data row0 col1\" >0.8905</td>\n",
       "      <td id=\"T_0e0be_row0_col2\" class=\"data row0 col2\" >0.9900</td>\n",
       "      <td id=\"T_0e0be_row0_col3\" class=\"data row0 col3\" >0.9300</td>\n",
       "      <td id=\"T_0e0be_row0_col4\" class=\"data row0 col4\" >0.9233</td>\n",
       "      <td id=\"T_0e0be_row0_col5\" class=\"data row0 col5\" >0.9179</td>\n",
       "      <td id=\"T_0e0be_row0_col6\" class=\"data row0 col6\" >0.7385</td>\n",
       "      <td id=\"T_0e0be_row0_col7\" class=\"data row0 col7\" >0.7730</td>\n",
       "      <td id=\"T_0e0be_row0_col8\" class=\"data row0 col8\" >0.0890</td>\n",
       "    </tr>\n",
       "  </tbody>\n",
       "</table>\n"
      ],
      "text/plain": [
       "<pandas.io.formats.style.Styler at 0x27fe563a790>"
      ]
     },
     "metadata": {},
     "output_type": "display_data"
    },
    {
     "data": {
      "application/vnd.jupyter.widget-view+json": {
       "model_id": "6d0b321cd8a6405abf419a1e9d0413cc",
       "version_major": 2,
       "version_minor": 0
      },
      "text/plain": [
       "Processing:   0%|          | 0/9 [00:00<?, ?it/s]"
      ]
     },
     "metadata": {},
     "output_type": "display_data"
    },
    {
     "data": {
      "text/html": [],
      "text/plain": [
       "<IPython.core.display.HTML object>"
      ]
     },
     "metadata": {},
     "output_type": "display_data"
    },
    {
     "data": {
      "text/html": [],
      "text/plain": [
       "<IPython.core.display.HTML object>"
      ]
     },
     "metadata": {},
     "output_type": "display_data"
    },
    {
     "data": {
      "text/html": [],
      "text/plain": [
       "<IPython.core.display.HTML object>"
      ]
     },
     "metadata": {},
     "output_type": "display_data"
    },
    {
     "data": {
      "text/html": [
       "<style type=\"text/css\">\n",
       "#T_f3d4b th {\n",
       "  text-align: left;\n",
       "}\n",
       "#T_f3d4b_row0_col0 {\n",
       "  text-align: left;\n",
       "}\n",
       "#T_f3d4b_row0_col1, #T_f3d4b_row0_col2, #T_f3d4b_row0_col3, #T_f3d4b_row0_col4, #T_f3d4b_row0_col5, #T_f3d4b_row0_col6, #T_f3d4b_row0_col7 {\n",
       "  text-align: left;\n",
       "  background-color: yellow;\n",
       "}\n",
       "#T_f3d4b_row0_col8 {\n",
       "  text-align: left;\n",
       "  background-color: yellow;\n",
       "  background-color: lightgrey;\n",
       "}\n",
       "</style>\n",
       "<table id=\"T_f3d4b\">\n",
       "  <thead>\n",
       "    <tr>\n",
       "      <th class=\"blank level0\" >&nbsp;</th>\n",
       "      <th id=\"T_f3d4b_level0_col0\" class=\"col_heading level0 col0\" >Model</th>\n",
       "      <th id=\"T_f3d4b_level0_col1\" class=\"col_heading level0 col1\" >Accuracy</th>\n",
       "      <th id=\"T_f3d4b_level0_col2\" class=\"col_heading level0 col2\" >AUC</th>\n",
       "      <th id=\"T_f3d4b_level0_col3\" class=\"col_heading level0 col3\" >Recall</th>\n",
       "      <th id=\"T_f3d4b_level0_col4\" class=\"col_heading level0 col4\" >Prec.</th>\n",
       "      <th id=\"T_f3d4b_level0_col5\" class=\"col_heading level0 col5\" >F1</th>\n",
       "      <th id=\"T_f3d4b_level0_col6\" class=\"col_heading level0 col6\" >Kappa</th>\n",
       "      <th id=\"T_f3d4b_level0_col7\" class=\"col_heading level0 col7\" >MCC</th>\n",
       "      <th id=\"T_f3d4b_level0_col8\" class=\"col_heading level0 col8\" >TT (Sec)</th>\n",
       "    </tr>\n",
       "  </thead>\n",
       "  <tbody>\n",
       "    <tr>\n",
       "      <th id=\"T_f3d4b_level0_row0\" class=\"row_heading level0 row0\" >nb</th>\n",
       "      <td id=\"T_f3d4b_row0_col0\" class=\"data row0 col0\" >Naive Bayes</td>\n",
       "      <td id=\"T_f3d4b_row0_col1\" class=\"data row0 col1\" >0.8738</td>\n",
       "      <td id=\"T_f3d4b_row0_col2\" class=\"data row0 col2\" >0.9238</td>\n",
       "      <td id=\"T_f3d4b_row0_col3\" class=\"data row0 col3\" >0.9050</td>\n",
       "      <td id=\"T_f3d4b_row0_col4\" class=\"data row0 col4\" >0.9250</td>\n",
       "      <td id=\"T_f3d4b_row0_col5\" class=\"data row0 col5\" >0.9062</td>\n",
       "      <td id=\"T_f3d4b_row0_col6\" class=\"data row0 col6\" >0.6921</td>\n",
       "      <td id=\"T_f3d4b_row0_col7\" class=\"data row0 col7\" >0.7083</td>\n",
       "      <td id=\"T_f3d4b_row0_col8\" class=\"data row0 col8\" >0.0140</td>\n",
       "    </tr>\n",
       "  </tbody>\n",
       "</table>\n"
      ],
      "text/plain": [
       "<pandas.io.formats.style.Styler at 0x27fe5589450>"
      ]
     },
     "metadata": {},
     "output_type": "display_data"
    },
    {
     "data": {
      "application/vnd.jupyter.widget-view+json": {
       "model_id": "51a45856890042c8a28bbf5422be5deb",
       "version_major": 2,
       "version_minor": 0
      },
      "text/plain": [
       "Processing:   0%|          | 0/9 [00:00<?, ?it/s]"
      ]
     },
     "metadata": {},
     "output_type": "display_data"
    },
    {
     "data": {
      "text/html": [],
      "text/plain": [
       "<IPython.core.display.HTML object>"
      ]
     },
     "metadata": {},
     "output_type": "display_data"
    },
    {
     "data": {
      "text/html": [],
      "text/plain": [
       "<IPython.core.display.HTML object>"
      ]
     },
     "metadata": {},
     "output_type": "display_data"
    },
    {
     "data": {
      "text/html": [],
      "text/plain": [
       "<IPython.core.display.HTML object>"
      ]
     },
     "metadata": {},
     "output_type": "display_data"
    },
    {
     "data": {
      "text/html": [
       "<style type=\"text/css\">\n",
       "#T_70a4d th {\n",
       "  text-align: left;\n",
       "}\n",
       "#T_70a4d_row0_col0 {\n",
       "  text-align: left;\n",
       "}\n",
       "#T_70a4d_row0_col1, #T_70a4d_row0_col2, #T_70a4d_row0_col3, #T_70a4d_row0_col4, #T_70a4d_row0_col5, #T_70a4d_row0_col6, #T_70a4d_row0_col7 {\n",
       "  text-align: left;\n",
       "  background-color: yellow;\n",
       "}\n",
       "#T_70a4d_row0_col8 {\n",
       "  text-align: left;\n",
       "  background-color: yellow;\n",
       "  background-color: lightgrey;\n",
       "}\n",
       "</style>\n",
       "<table id=\"T_70a4d\">\n",
       "  <thead>\n",
       "    <tr>\n",
       "      <th class=\"blank level0\" >&nbsp;</th>\n",
       "      <th id=\"T_70a4d_level0_col0\" class=\"col_heading level0 col0\" >Model</th>\n",
       "      <th id=\"T_70a4d_level0_col1\" class=\"col_heading level0 col1\" >Accuracy</th>\n",
       "      <th id=\"T_70a4d_level0_col2\" class=\"col_heading level0 col2\" >AUC</th>\n",
       "      <th id=\"T_70a4d_level0_col3\" class=\"col_heading level0 col3\" >Recall</th>\n",
       "      <th id=\"T_70a4d_level0_col4\" class=\"col_heading level0 col4\" >Prec.</th>\n",
       "      <th id=\"T_70a4d_level0_col5\" class=\"col_heading level0 col5\" >F1</th>\n",
       "      <th id=\"T_70a4d_level0_col6\" class=\"col_heading level0 col6\" >Kappa</th>\n",
       "      <th id=\"T_70a4d_level0_col7\" class=\"col_heading level0 col7\" >MCC</th>\n",
       "      <th id=\"T_70a4d_level0_col8\" class=\"col_heading level0 col8\" >TT (Sec)</th>\n",
       "    </tr>\n",
       "  </thead>\n",
       "  <tbody>\n",
       "    <tr>\n",
       "      <th id=\"T_70a4d_level0_row0\" class=\"row_heading level0 row0\" >gbc</th>\n",
       "      <td id=\"T_70a4d_row0_col0\" class=\"data row0 col0\" >Gradient Boosting Classifier</td>\n",
       "      <td id=\"T_70a4d_row0_col1\" class=\"data row0 col1\" >0.8738</td>\n",
       "      <td id=\"T_70a4d_row0_col2\" class=\"data row0 col2\" >0.9288</td>\n",
       "      <td id=\"T_70a4d_row0_col3\" class=\"data row0 col3\" >0.9050</td>\n",
       "      <td id=\"T_70a4d_row0_col4\" class=\"data row0 col4\" >0.9233</td>\n",
       "      <td id=\"T_70a4d_row0_col5\" class=\"data row0 col5\" >0.9036</td>\n",
       "      <td id=\"T_70a4d_row0_col6\" class=\"data row0 col6\" >0.7052</td>\n",
       "      <td id=\"T_70a4d_row0_col7\" class=\"data row0 col7\" >0.7437</td>\n",
       "      <td id=\"T_70a4d_row0_col8\" class=\"data row0 col8\" >0.0680</td>\n",
       "    </tr>\n",
       "  </tbody>\n",
       "</table>\n"
      ],
      "text/plain": [
       "<pandas.io.formats.style.Styler at 0x27fe56c12d0>"
      ]
     },
     "metadata": {},
     "output_type": "display_data"
    },
    {
     "data": {
      "application/vnd.jupyter.widget-view+json": {
       "model_id": "6b60117654d44ae2985ff1a4d75b7a81",
       "version_major": 2,
       "version_minor": 0
      },
      "text/plain": [
       "Processing:   0%|          | 0/9 [00:00<?, ?it/s]"
      ]
     },
     "metadata": {},
     "output_type": "display_data"
    },
    {
     "data": {
      "text/html": [],
      "text/plain": [
       "<IPython.core.display.HTML object>"
      ]
     },
     "metadata": {},
     "output_type": "display_data"
    },
    {
     "data": {
      "text/html": [],
      "text/plain": [
       "<IPython.core.display.HTML object>"
      ]
     },
     "metadata": {},
     "output_type": "display_data"
    },
    {
     "data": {
      "text/html": [],
      "text/plain": [
       "<IPython.core.display.HTML object>"
      ]
     },
     "metadata": {},
     "output_type": "display_data"
    },
    {
     "data": {
      "text/html": [
       "<style type=\"text/css\">\n",
       "#T_4dc35 th {\n",
       "  text-align: left;\n",
       "}\n",
       "#T_4dc35_row0_col0 {\n",
       "  text-align: left;\n",
       "}\n",
       "#T_4dc35_row0_col1, #T_4dc35_row0_col2, #T_4dc35_row0_col3, #T_4dc35_row0_col4, #T_4dc35_row0_col5, #T_4dc35_row0_col6, #T_4dc35_row0_col7 {\n",
       "  text-align: left;\n",
       "  background-color: yellow;\n",
       "}\n",
       "#T_4dc35_row0_col8 {\n",
       "  text-align: left;\n",
       "  background-color: yellow;\n",
       "  background-color: lightgrey;\n",
       "}\n",
       "</style>\n",
       "<table id=\"T_4dc35\">\n",
       "  <thead>\n",
       "    <tr>\n",
       "      <th class=\"blank level0\" >&nbsp;</th>\n",
       "      <th id=\"T_4dc35_level0_col0\" class=\"col_heading level0 col0\" >Model</th>\n",
       "      <th id=\"T_4dc35_level0_col1\" class=\"col_heading level0 col1\" >Accuracy</th>\n",
       "      <th id=\"T_4dc35_level0_col2\" class=\"col_heading level0 col2\" >AUC</th>\n",
       "      <th id=\"T_4dc35_level0_col3\" class=\"col_heading level0 col3\" >Recall</th>\n",
       "      <th id=\"T_4dc35_level0_col4\" class=\"col_heading level0 col4\" >Prec.</th>\n",
       "      <th id=\"T_4dc35_level0_col5\" class=\"col_heading level0 col5\" >F1</th>\n",
       "      <th id=\"T_4dc35_level0_col6\" class=\"col_heading level0 col6\" >Kappa</th>\n",
       "      <th id=\"T_4dc35_level0_col7\" class=\"col_heading level0 col7\" >MCC</th>\n",
       "      <th id=\"T_4dc35_level0_col8\" class=\"col_heading level0 col8\" >TT (Sec)</th>\n",
       "    </tr>\n",
       "  </thead>\n",
       "  <tbody>\n",
       "    <tr>\n",
       "      <th id=\"T_4dc35_level0_row0\" class=\"row_heading level0 row0\" >svm</th>\n",
       "      <td id=\"T_4dc35_row0_col0\" class=\"data row0 col0\" >SVM - Linear Kernel</td>\n",
       "      <td id=\"T_4dc35_row0_col1\" class=\"data row0 col1\" >0.8548</td>\n",
       "      <td id=\"T_4dc35_row0_col2\" class=\"data row0 col2\" >0.9875</td>\n",
       "      <td id=\"T_4dc35_row0_col3\" class=\"data row0 col3\" >0.9550</td>\n",
       "      <td id=\"T_4dc35_row0_col4\" class=\"data row0 col4\" >0.8700</td>\n",
       "      <td id=\"T_4dc35_row0_col5\" class=\"data row0 col5\" >0.9011</td>\n",
       "      <td id=\"T_4dc35_row0_col6\" class=\"data row0 col6\" >0.6236</td>\n",
       "      <td id=\"T_4dc35_row0_col7\" class=\"data row0 col7\" >0.6613</td>\n",
       "      <td id=\"T_4dc35_row0_col8\" class=\"data row0 col8\" >0.0250</td>\n",
       "    </tr>\n",
       "  </tbody>\n",
       "</table>\n"
      ],
      "text/plain": [
       "<pandas.io.formats.style.Styler at 0x27fe57f0310>"
      ]
     },
     "metadata": {},
     "output_type": "display_data"
    },
    {
     "data": {
      "application/vnd.jupyter.widget-view+json": {
       "model_id": "cbea596d1aaa46a6a9d375e3f7ecdb64",
       "version_major": 2,
       "version_minor": 0
      },
      "text/plain": [
       "Processing:   0%|          | 0/9 [00:00<?, ?it/s]"
      ]
     },
     "metadata": {},
     "output_type": "display_data"
    },
    {
     "data": {
      "text/html": [],
      "text/plain": [
       "<IPython.core.display.HTML object>"
      ]
     },
     "metadata": {},
     "output_type": "display_data"
    },
    {
     "data": {
      "text/html": [],
      "text/plain": [
       "<IPython.core.display.HTML object>"
      ]
     },
     "metadata": {},
     "output_type": "display_data"
    },
    {
     "data": {
      "text/html": [],
      "text/plain": [
       "<IPython.core.display.HTML object>"
      ]
     },
     "metadata": {},
     "output_type": "display_data"
    },
    {
     "data": {
      "text/html": [
       "<style type=\"text/css\">\n",
       "#T_1524f th {\n",
       "  text-align: left;\n",
       "}\n",
       "#T_1524f_row0_col0 {\n",
       "  text-align: left;\n",
       "}\n",
       "#T_1524f_row0_col1, #T_1524f_row0_col2, #T_1524f_row0_col3, #T_1524f_row0_col4, #T_1524f_row0_col5, #T_1524f_row0_col6, #T_1524f_row0_col7 {\n",
       "  text-align: left;\n",
       "  background-color: yellow;\n",
       "}\n",
       "#T_1524f_row0_col8 {\n",
       "  text-align: left;\n",
       "  background-color: yellow;\n",
       "  background-color: lightgrey;\n",
       "}\n",
       "</style>\n",
       "<table id=\"T_1524f\">\n",
       "  <thead>\n",
       "    <tr>\n",
       "      <th class=\"blank level0\" >&nbsp;</th>\n",
       "      <th id=\"T_1524f_level0_col0\" class=\"col_heading level0 col0\" >Model</th>\n",
       "      <th id=\"T_1524f_level0_col1\" class=\"col_heading level0 col1\" >Accuracy</th>\n",
       "      <th id=\"T_1524f_level0_col2\" class=\"col_heading level0 col2\" >AUC</th>\n",
       "      <th id=\"T_1524f_level0_col3\" class=\"col_heading level0 col3\" >Recall</th>\n",
       "      <th id=\"T_1524f_level0_col4\" class=\"col_heading level0 col4\" >Prec.</th>\n",
       "      <th id=\"T_1524f_level0_col5\" class=\"col_heading level0 col5\" >F1</th>\n",
       "      <th id=\"T_1524f_level0_col6\" class=\"col_heading level0 col6\" >Kappa</th>\n",
       "      <th id=\"T_1524f_level0_col7\" class=\"col_heading level0 col7\" >MCC</th>\n",
       "      <th id=\"T_1524f_level0_col8\" class=\"col_heading level0 col8\" >TT (Sec)</th>\n",
       "    </tr>\n",
       "  </thead>\n",
       "  <tbody>\n",
       "    <tr>\n",
       "      <th id=\"T_1524f_level0_row0\" class=\"row_heading level0 row0\" >dt</th>\n",
       "      <td id=\"T_1524f_row0_col0\" class=\"data row0 col0\" >Decision Tree Classifier</td>\n",
       "      <td id=\"T_1524f_row0_col1\" class=\"data row0 col1\" >0.7929</td>\n",
       "      <td id=\"T_1524f_row0_col2\" class=\"data row0 col2\" >0.7675</td>\n",
       "      <td id=\"T_1524f_row0_col3\" class=\"data row0 col3\" >0.8350</td>\n",
       "      <td id=\"T_1524f_row0_col4\" class=\"data row0 col4\" >0.8733</td>\n",
       "      <td id=\"T_1524f_row0_col5\" class=\"data row0 col5\" >0.8397</td>\n",
       "      <td id=\"T_1524f_row0_col6\" class=\"data row0 col6\" >0.5317</td>\n",
       "      <td id=\"T_1524f_row0_col7\" class=\"data row0 col7\" >0.5755</td>\n",
       "      <td id=\"T_1524f_row0_col8\" class=\"data row0 col8\" >0.0160</td>\n",
       "    </tr>\n",
       "  </tbody>\n",
       "</table>\n"
      ],
      "text/plain": [
       "<pandas.io.formats.style.Styler at 0x27fe571c710>"
      ]
     },
     "metadata": {},
     "output_type": "display_data"
    },
    {
     "data": {
      "application/vnd.jupyter.widget-view+json": {
       "model_id": "e9189d3d03864368b38d998a79c5f9ba",
       "version_major": 2,
       "version_minor": 0
      },
      "text/plain": [
       "Processing:   0%|          | 0/9 [00:00<?, ?it/s]"
      ]
     },
     "metadata": {},
     "output_type": "display_data"
    },
    {
     "data": {
      "text/html": [],
      "text/plain": [
       "<IPython.core.display.HTML object>"
      ]
     },
     "metadata": {},
     "output_type": "display_data"
    },
    {
     "data": {
      "text/html": [],
      "text/plain": [
       "<IPython.core.display.HTML object>"
      ]
     },
     "metadata": {},
     "output_type": "display_data"
    },
    {
     "data": {
      "text/html": [],
      "text/plain": [
       "<IPython.core.display.HTML object>"
      ]
     },
     "metadata": {},
     "output_type": "display_data"
    },
    {
     "data": {
      "text/html": [
       "<style type=\"text/css\">\n",
       "#T_52676 th {\n",
       "  text-align: left;\n",
       "}\n",
       "#T_52676_row0_col0 {\n",
       "  text-align: left;\n",
       "}\n",
       "#T_52676_row0_col1, #T_52676_row0_col2, #T_52676_row0_col3, #T_52676_row0_col4, #T_52676_row0_col5, #T_52676_row0_col6, #T_52676_row0_col7 {\n",
       "  text-align: left;\n",
       "  background-color: yellow;\n",
       "}\n",
       "#T_52676_row0_col8 {\n",
       "  text-align: left;\n",
       "  background-color: yellow;\n",
       "  background-color: lightgrey;\n",
       "}\n",
       "</style>\n",
       "<table id=\"T_52676\">\n",
       "  <thead>\n",
       "    <tr>\n",
       "      <th class=\"blank level0\" >&nbsp;</th>\n",
       "      <th id=\"T_52676_level0_col0\" class=\"col_heading level0 col0\" >Model</th>\n",
       "      <th id=\"T_52676_level0_col1\" class=\"col_heading level0 col1\" >Accuracy</th>\n",
       "      <th id=\"T_52676_level0_col2\" class=\"col_heading level0 col2\" >AUC</th>\n",
       "      <th id=\"T_52676_level0_col3\" class=\"col_heading level0 col3\" >Recall</th>\n",
       "      <th id=\"T_52676_level0_col4\" class=\"col_heading level0 col4\" >Prec.</th>\n",
       "      <th id=\"T_52676_level0_col5\" class=\"col_heading level0 col5\" >F1</th>\n",
       "      <th id=\"T_52676_level0_col6\" class=\"col_heading level0 col6\" >Kappa</th>\n",
       "      <th id=\"T_52676_level0_col7\" class=\"col_heading level0 col7\" >MCC</th>\n",
       "      <th id=\"T_52676_level0_col8\" class=\"col_heading level0 col8\" >TT (Sec)</th>\n",
       "    </tr>\n",
       "  </thead>\n",
       "  <tbody>\n",
       "    <tr>\n",
       "      <th id=\"T_52676_level0_row0\" class=\"row_heading level0 row0\" >dummy</th>\n",
       "      <td id=\"T_52676_row0_col0\" class=\"data row0 col0\" >Dummy Classifier</td>\n",
       "      <td id=\"T_52676_row0_col1\" class=\"data row0 col1\" >0.6667</td>\n",
       "      <td id=\"T_52676_row0_col2\" class=\"data row0 col2\" >0.5000</td>\n",
       "      <td id=\"T_52676_row0_col3\" class=\"data row0 col3\" >1.0000</td>\n",
       "      <td id=\"T_52676_row0_col4\" class=\"data row0 col4\" >0.6667</td>\n",
       "      <td id=\"T_52676_row0_col5\" class=\"data row0 col5\" >0.7994</td>\n",
       "      <td id=\"T_52676_row0_col6\" class=\"data row0 col6\" >0.0000</td>\n",
       "      <td id=\"T_52676_row0_col7\" class=\"data row0 col7\" >0.0000</td>\n",
       "      <td id=\"T_52676_row0_col8\" class=\"data row0 col8\" >0.0120</td>\n",
       "    </tr>\n",
       "  </tbody>\n",
       "</table>\n"
      ],
      "text/plain": [
       "<pandas.io.formats.style.Styler at 0x27fe2701ad0>"
      ]
     },
     "metadata": {},
     "output_type": "display_data"
    },
    {
     "data": {
      "application/vnd.jupyter.widget-view+json": {
       "model_id": "39e405a88b5c4a32b670592f5e390182",
       "version_major": 2,
       "version_minor": 0
      },
      "text/plain": [
       "Processing:   0%|          | 0/9 [00:00<?, ?it/s]"
      ]
     },
     "metadata": {},
     "output_type": "display_data"
    },
    {
     "data": {
      "text/html": [],
      "text/plain": [
       "<IPython.core.display.HTML object>"
      ]
     },
     "metadata": {},
     "output_type": "display_data"
    },
    {
     "data": {
      "text/html": [],
      "text/plain": [
       "<IPython.core.display.HTML object>"
      ]
     },
     "metadata": {},
     "output_type": "display_data"
    }
   ],
   "source": [
    "import pandas as pd\n",
    "from pycaret.classification import setup, compare_models, predict_model, finalize_model, pull\n",
    "from sklearn.metrics import accuracy_score, f1_score\n",
    "from sklearn.model_selection import train_test_split\n",
    "import joblib\n",
    "\n",
    "# Load the CSV file into a DataFrame\n",
    "df = pd.read_csv('../data/players_df_sin_reco.csv')\n",
    "\n",
    "# Select features (columns 7 to 20, 0-based index: 6 to 19)\n",
    "X = df.iloc[:, 6:20]\n",
    "\n",
    "# Select the 8th column from the end as the target\n",
    "y = df.iloc[:, -8]\n",
    "\n",
    "# Split data into training and testing sets\n",
    "X_train, X_test, y_train, y_test = train_test_split(X, y, test_size=0.2, random_state=42)\n",
    "\n",
    "# Create an empty DataFrame to store results\n",
    "nononsensedefender_df = pd.DataFrame(columns=['model', 'train_accuracy', 'test_accuracy', 'train_f1', 'test_f1', 'TT'])\n",
    "\n",
    "# Concatenate X_train and y_train into a DataFrame for PyCaret setup\n",
    "df_target = pd.concat([X_train, y_train], axis=1)\n",
    "\n",
    "# Setup PyCaret environment\n",
    "clf = setup(data=df_target, target=y.name, session_id=42)\n",
    "\n",
    "# Compare different models and store the results\n",
    "best_model = compare_models()  # This returns the top model\n",
    "compare_results = pull()  # Pulls all model results as a DataFrame\n",
    "\n",
    "# Define the mapping from model names to PyCaret identifiers\n",
    "model_mapping = {\n",
    "    'K Neighbors Classifier': 'knn',\n",
    "    'Random Forest Classifier': 'rf',\n",
    "    'Logistic Regression': 'lr',\n",
    "    'Decision Tree Classifier': 'dt',\n",
    "    'Ada Boost Classifier': 'ada',\n",
    "    'Gradient Boosting Classifier': 'gbc',\n",
    "    'Naive Bayes': 'nb',\n",
    "    'SVM - Linear Kernel': 'svm',\n",
    "    'Extra Trees Classifier': 'et',\n",
    "    'Light Gradient Boosting Machine': 'lightgbm',\n",
    "    'Ridge Classifier': 'ridge',\n",
    "    'Linear Discriminant Analysis': 'lda',\n",
    "    'Extreme Gradient Boosting': 'xgboost',\n",
    "    'Dummy Classifier': 'dummy'\n",
    "}\n",
    "\n",
    "# Loop over each model in the compare_results DataFrame\n",
    "for idx, row in compare_results.iterrows():\n",
    "    model_name = row['Model']\n",
    "    testing_time = row['TT (Sec)']\n",
    "\n",
    "    # Get the PyCaret identifier for the model\n",
    "    model_identifier = model_mapping.get(model_name)\n",
    "\n",
    "    # Instead of finalizing by the model name, select the model by identifier\n",
    "    if model_identifier:\n",
    "        best_model = compare_models(include=[model_identifier], n_select=1)\n",
    "\n",
    "        # Finalize the model (train it on the entire dataset)\n",
    "        final_model = finalize_model(best_model)\n",
    "\n",
    "        # Predict on train and test sets\n",
    "        predictions_train = predict_model(final_model, data=X_train)\n",
    "        predictions_test = predict_model(final_model, data=X_test)\n",
    "\n",
    "        # Calculate test accuracy and F1 score\n",
    "        y_pred_test = predictions_test['prediction_label']\n",
    "        test_accuracy = accuracy_score(y_test, y_pred_test)\n",
    "        test_f1 = f1_score(y_test, y_pred_test, average='weighted')\n",
    "\n",
    "        # Calculate train accuracy and F1 score\n",
    "        y_pred_train = predictions_train['prediction_label']\n",
    "        train_accuracy = accuracy_score(y_train, y_pred_train)\n",
    "        train_f1 = f1_score(y_train, y_pred_train, average='weighted')\n",
    "\n",
    "        # Append the metrics for each model to the results DataFrame\n",
    "        new_row = pd.DataFrame({\n",
    "            'model': model_name,\n",
    "            'train_accuracy': train_accuracy,\n",
    "            'test_accuracy': test_accuracy,\n",
    "            'train_f1': train_f1,\n",
    "            'test_f1': test_f1,\n",
    "            'TT': testing_time\n",
    "        }, index=[0])\n",
    "\n",
    "        nononsensedefender_df = pd.concat([nononsensedefender_df, new_row], ignore_index=True)\n"
   ]
  },
  {
   "cell_type": "code",
   "execution_count": 20,
   "metadata": {},
   "outputs": [
    {
     "data": {
      "text/html": [
       "<div>\n",
       "<style scoped>\n",
       "    .dataframe tbody tr th:only-of-type {\n",
       "        vertical-align: middle;\n",
       "    }\n",
       "\n",
       "    .dataframe tbody tr th {\n",
       "        vertical-align: top;\n",
       "    }\n",
       "\n",
       "    .dataframe thead th {\n",
       "        text-align: right;\n",
       "    }\n",
       "</style>\n",
       "<table border=\"1\" class=\"dataframe\">\n",
       "  <thead>\n",
       "    <tr style=\"text-align: right;\">\n",
       "      <th></th>\n",
       "      <th>model</th>\n",
       "      <th>train_accuracy</th>\n",
       "      <th>test_accuracy</th>\n",
       "      <th>train_f1</th>\n",
       "      <th>test_f1</th>\n",
       "      <th>TT</th>\n",
       "    </tr>\n",
       "  </thead>\n",
       "  <tbody>\n",
       "    <tr>\n",
       "      <th>0</th>\n",
       "      <td>Logistic Regression</td>\n",
       "      <td>1.000000</td>\n",
       "      <td>0.956522</td>\n",
       "      <td>1.000000</td>\n",
       "      <td>0.954694</td>\n",
       "      <td>0.030</td>\n",
       "    </tr>\n",
       "    <tr>\n",
       "      <th>1</th>\n",
       "      <td>Extra Trees Classifier</td>\n",
       "      <td>1.000000</td>\n",
       "      <td>0.826087</td>\n",
       "      <td>1.000000</td>\n",
       "      <td>0.808924</td>\n",
       "      <td>0.079</td>\n",
       "    </tr>\n",
       "    <tr>\n",
       "      <th>2</th>\n",
       "      <td>Light Gradient Boosting Machine</td>\n",
       "      <td>1.000000</td>\n",
       "      <td>0.826087</td>\n",
       "      <td>1.000000</td>\n",
       "      <td>0.808924</td>\n",
       "      <td>0.036</td>\n",
       "    </tr>\n",
       "    <tr>\n",
       "      <th>3</th>\n",
       "      <td>Ada Boost Classifier</td>\n",
       "      <td>1.000000</td>\n",
       "      <td>0.869565</td>\n",
       "      <td>1.000000</td>\n",
       "      <td>0.846632</td>\n",
       "      <td>0.066</td>\n",
       "    </tr>\n",
       "    <tr>\n",
       "      <th>4</th>\n",
       "      <td>Extreme Gradient Boosting</td>\n",
       "      <td>1.000000</td>\n",
       "      <td>0.869565</td>\n",
       "      <td>1.000000</td>\n",
       "      <td>0.846632</td>\n",
       "      <td>0.021</td>\n",
       "    </tr>\n",
       "    <tr>\n",
       "      <th>5</th>\n",
       "      <td>K Neighbors Classifier</td>\n",
       "      <td>0.901099</td>\n",
       "      <td>0.782609</td>\n",
       "      <td>0.897531</td>\n",
       "      <td>0.773469</td>\n",
       "      <td>0.028</td>\n",
       "    </tr>\n",
       "    <tr>\n",
       "      <th>6</th>\n",
       "      <td>Ridge Classifier</td>\n",
       "      <td>0.956044</td>\n",
       "      <td>0.869565</td>\n",
       "      <td>0.955672</td>\n",
       "      <td>0.864081</td>\n",
       "      <td>0.017</td>\n",
       "    </tr>\n",
       "    <tr>\n",
       "      <th>7</th>\n",
       "      <td>Linear Discriminant Analysis</td>\n",
       "      <td>0.956044</td>\n",
       "      <td>0.869565</td>\n",
       "      <td>0.955672</td>\n",
       "      <td>0.864081</td>\n",
       "      <td>0.013</td>\n",
       "    </tr>\n",
       "    <tr>\n",
       "      <th>8</th>\n",
       "      <td>Random Forest Classifier</td>\n",
       "      <td>1.000000</td>\n",
       "      <td>0.826087</td>\n",
       "      <td>1.000000</td>\n",
       "      <td>0.808924</td>\n",
       "      <td>0.122</td>\n",
       "    </tr>\n",
       "    <tr>\n",
       "      <th>9</th>\n",
       "      <td>Naive Bayes</td>\n",
       "      <td>0.912088</td>\n",
       "      <td>0.782609</td>\n",
       "      <td>0.912717</td>\n",
       "      <td>0.773469</td>\n",
       "      <td>0.014</td>\n",
       "    </tr>\n",
       "    <tr>\n",
       "      <th>10</th>\n",
       "      <td>Gradient Boosting Classifier</td>\n",
       "      <td>1.000000</td>\n",
       "      <td>0.869565</td>\n",
       "      <td>1.000000</td>\n",
       "      <td>0.846632</td>\n",
       "      <td>0.052</td>\n",
       "    </tr>\n",
       "    <tr>\n",
       "      <th>11</th>\n",
       "      <td>SVM - Linear Kernel</td>\n",
       "      <td>0.890110</td>\n",
       "      <td>0.826087</td>\n",
       "      <td>0.883770</td>\n",
       "      <td>0.808924</td>\n",
       "      <td>0.015</td>\n",
       "    </tr>\n",
       "    <tr>\n",
       "      <th>12</th>\n",
       "      <td>Decision Tree Classifier</td>\n",
       "      <td>1.000000</td>\n",
       "      <td>0.652174</td>\n",
       "      <td>1.000000</td>\n",
       "      <td>0.680124</td>\n",
       "      <td>0.015</td>\n",
       "    </tr>\n",
       "    <tr>\n",
       "      <th>13</th>\n",
       "      <td>Dummy Classifier</td>\n",
       "      <td>0.659341</td>\n",
       "      <td>0.782609</td>\n",
       "      <td>0.523979</td>\n",
       "      <td>0.687169</td>\n",
       "      <td>0.017</td>\n",
       "    </tr>\n",
       "  </tbody>\n",
       "</table>\n",
       "</div>"
      ],
      "text/plain": [
       "                              model  train_accuracy  test_accuracy  train_f1  \\\n",
       "0               Logistic Regression        1.000000       0.956522  1.000000   \n",
       "1            Extra Trees Classifier        1.000000       0.826087  1.000000   \n",
       "2   Light Gradient Boosting Machine        1.000000       0.826087  1.000000   \n",
       "3              Ada Boost Classifier        1.000000       0.869565  1.000000   \n",
       "4         Extreme Gradient Boosting        1.000000       0.869565  1.000000   \n",
       "5            K Neighbors Classifier        0.901099       0.782609  0.897531   \n",
       "6                  Ridge Classifier        0.956044       0.869565  0.955672   \n",
       "7      Linear Discriminant Analysis        0.956044       0.869565  0.955672   \n",
       "8          Random Forest Classifier        1.000000       0.826087  1.000000   \n",
       "9                       Naive Bayes        0.912088       0.782609  0.912717   \n",
       "10     Gradient Boosting Classifier        1.000000       0.869565  1.000000   \n",
       "11              SVM - Linear Kernel        0.890110       0.826087  0.883770   \n",
       "12         Decision Tree Classifier        1.000000       0.652174  1.000000   \n",
       "13                 Dummy Classifier        0.659341       0.782609  0.523979   \n",
       "\n",
       "     test_f1     TT  \n",
       "0   0.954694  0.030  \n",
       "1   0.808924  0.079  \n",
       "2   0.808924  0.036  \n",
       "3   0.846632  0.066  \n",
       "4   0.846632  0.021  \n",
       "5   0.773469  0.028  \n",
       "6   0.864081  0.017  \n",
       "7   0.864081  0.013  \n",
       "8   0.808924  0.122  \n",
       "9   0.773469  0.014  \n",
       "10  0.846632  0.052  \n",
       "11  0.808924  0.015  \n",
       "12  0.680124  0.015  \n",
       "13  0.687169  0.017  "
      ]
     },
     "execution_count": 20,
     "metadata": {},
     "output_type": "execute_result"
    }
   ],
   "source": [
    "nononsensedefender_df"
   ]
  },
  {
   "cell_type": "markdown",
   "metadata": {},
   "source": [
    "## Full-Back"
   ]
  },
  {
   "cell_type": "code",
   "execution_count": 21,
   "metadata": {},
   "outputs": [
    {
     "data": {
      "text/html": [
       "<style type=\"text/css\">\n",
       "#T_a47d4_row8_col1 {\n",
       "  background-color: lightgreen;\n",
       "}\n",
       "</style>\n",
       "<table id=\"T_a47d4\">\n",
       "  <thead>\n",
       "    <tr>\n",
       "      <th class=\"blank level0\" >&nbsp;</th>\n",
       "      <th id=\"T_a47d4_level0_col0\" class=\"col_heading level0 col0\" >Description</th>\n",
       "      <th id=\"T_a47d4_level0_col1\" class=\"col_heading level0 col1\" >Value</th>\n",
       "    </tr>\n",
       "  </thead>\n",
       "  <tbody>\n",
       "    <tr>\n",
       "      <th id=\"T_a47d4_level0_row0\" class=\"row_heading level0 row0\" >0</th>\n",
       "      <td id=\"T_a47d4_row0_col0\" class=\"data row0 col0\" >Session id</td>\n",
       "      <td id=\"T_a47d4_row0_col1\" class=\"data row0 col1\" >42</td>\n",
       "    </tr>\n",
       "    <tr>\n",
       "      <th id=\"T_a47d4_level0_row1\" class=\"row_heading level0 row1\" >1</th>\n",
       "      <td id=\"T_a47d4_row1_col0\" class=\"data row1 col0\" >Target</td>\n",
       "      <td id=\"T_a47d4_row1_col1\" class=\"data row1 col1\" >Class_Full Back</td>\n",
       "    </tr>\n",
       "    <tr>\n",
       "      <th id=\"T_a47d4_level0_row2\" class=\"row_heading level0 row2\" >2</th>\n",
       "      <td id=\"T_a47d4_row2_col0\" class=\"data row2 col0\" >Target type</td>\n",
       "      <td id=\"T_a47d4_row2_col1\" class=\"data row2 col1\" >Binary</td>\n",
       "    </tr>\n",
       "    <tr>\n",
       "      <th id=\"T_a47d4_level0_row3\" class=\"row_heading level0 row3\" >3</th>\n",
       "      <td id=\"T_a47d4_row3_col0\" class=\"data row3 col0\" >Original data shape</td>\n",
       "      <td id=\"T_a47d4_row3_col1\" class=\"data row3 col1\" >(91, 15)</td>\n",
       "    </tr>\n",
       "    <tr>\n",
       "      <th id=\"T_a47d4_level0_row4\" class=\"row_heading level0 row4\" >4</th>\n",
       "      <td id=\"T_a47d4_row4_col0\" class=\"data row4 col0\" >Transformed data shape</td>\n",
       "      <td id=\"T_a47d4_row4_col1\" class=\"data row4 col1\" >(91, 15)</td>\n",
       "    </tr>\n",
       "    <tr>\n",
       "      <th id=\"T_a47d4_level0_row5\" class=\"row_heading level0 row5\" >5</th>\n",
       "      <td id=\"T_a47d4_row5_col0\" class=\"data row5 col0\" >Transformed train set shape</td>\n",
       "      <td id=\"T_a47d4_row5_col1\" class=\"data row5 col1\" >(63, 15)</td>\n",
       "    </tr>\n",
       "    <tr>\n",
       "      <th id=\"T_a47d4_level0_row6\" class=\"row_heading level0 row6\" >6</th>\n",
       "      <td id=\"T_a47d4_row6_col0\" class=\"data row6 col0\" >Transformed test set shape</td>\n",
       "      <td id=\"T_a47d4_row6_col1\" class=\"data row6 col1\" >(28, 15)</td>\n",
       "    </tr>\n",
       "    <tr>\n",
       "      <th id=\"T_a47d4_level0_row7\" class=\"row_heading level0 row7\" >7</th>\n",
       "      <td id=\"T_a47d4_row7_col0\" class=\"data row7 col0\" >Numeric features</td>\n",
       "      <td id=\"T_a47d4_row7_col1\" class=\"data row7 col1\" >14</td>\n",
       "    </tr>\n",
       "    <tr>\n",
       "      <th id=\"T_a47d4_level0_row8\" class=\"row_heading level0 row8\" >8</th>\n",
       "      <td id=\"T_a47d4_row8_col0\" class=\"data row8 col0\" >Preprocess</td>\n",
       "      <td id=\"T_a47d4_row8_col1\" class=\"data row8 col1\" >True</td>\n",
       "    </tr>\n",
       "    <tr>\n",
       "      <th id=\"T_a47d4_level0_row9\" class=\"row_heading level0 row9\" >9</th>\n",
       "      <td id=\"T_a47d4_row9_col0\" class=\"data row9 col0\" >Imputation type</td>\n",
       "      <td id=\"T_a47d4_row9_col1\" class=\"data row9 col1\" >simple</td>\n",
       "    </tr>\n",
       "    <tr>\n",
       "      <th id=\"T_a47d4_level0_row10\" class=\"row_heading level0 row10\" >10</th>\n",
       "      <td id=\"T_a47d4_row10_col0\" class=\"data row10 col0\" >Numeric imputation</td>\n",
       "      <td id=\"T_a47d4_row10_col1\" class=\"data row10 col1\" >mean</td>\n",
       "    </tr>\n",
       "    <tr>\n",
       "      <th id=\"T_a47d4_level0_row11\" class=\"row_heading level0 row11\" >11</th>\n",
       "      <td id=\"T_a47d4_row11_col0\" class=\"data row11 col0\" >Categorical imputation</td>\n",
       "      <td id=\"T_a47d4_row11_col1\" class=\"data row11 col1\" >mode</td>\n",
       "    </tr>\n",
       "    <tr>\n",
       "      <th id=\"T_a47d4_level0_row12\" class=\"row_heading level0 row12\" >12</th>\n",
       "      <td id=\"T_a47d4_row12_col0\" class=\"data row12 col0\" >Fold Generator</td>\n",
       "      <td id=\"T_a47d4_row12_col1\" class=\"data row12 col1\" >StratifiedKFold</td>\n",
       "    </tr>\n",
       "    <tr>\n",
       "      <th id=\"T_a47d4_level0_row13\" class=\"row_heading level0 row13\" >13</th>\n",
       "      <td id=\"T_a47d4_row13_col0\" class=\"data row13 col0\" >Fold Number</td>\n",
       "      <td id=\"T_a47d4_row13_col1\" class=\"data row13 col1\" >10</td>\n",
       "    </tr>\n",
       "    <tr>\n",
       "      <th id=\"T_a47d4_level0_row14\" class=\"row_heading level0 row14\" >14</th>\n",
       "      <td id=\"T_a47d4_row14_col0\" class=\"data row14 col0\" >CPU Jobs</td>\n",
       "      <td id=\"T_a47d4_row14_col1\" class=\"data row14 col1\" >-1</td>\n",
       "    </tr>\n",
       "    <tr>\n",
       "      <th id=\"T_a47d4_level0_row15\" class=\"row_heading level0 row15\" >15</th>\n",
       "      <td id=\"T_a47d4_row15_col0\" class=\"data row15 col0\" >Use GPU</td>\n",
       "      <td id=\"T_a47d4_row15_col1\" class=\"data row15 col1\" >False</td>\n",
       "    </tr>\n",
       "    <tr>\n",
       "      <th id=\"T_a47d4_level0_row16\" class=\"row_heading level0 row16\" >16</th>\n",
       "      <td id=\"T_a47d4_row16_col0\" class=\"data row16 col0\" >Log Experiment</td>\n",
       "      <td id=\"T_a47d4_row16_col1\" class=\"data row16 col1\" >False</td>\n",
       "    </tr>\n",
       "    <tr>\n",
       "      <th id=\"T_a47d4_level0_row17\" class=\"row_heading level0 row17\" >17</th>\n",
       "      <td id=\"T_a47d4_row17_col0\" class=\"data row17 col0\" >Experiment Name</td>\n",
       "      <td id=\"T_a47d4_row17_col1\" class=\"data row17 col1\" >clf-default-name</td>\n",
       "    </tr>\n",
       "    <tr>\n",
       "      <th id=\"T_a47d4_level0_row18\" class=\"row_heading level0 row18\" >18</th>\n",
       "      <td id=\"T_a47d4_row18_col0\" class=\"data row18 col0\" >USI</td>\n",
       "      <td id=\"T_a47d4_row18_col1\" class=\"data row18 col1\" >cc30</td>\n",
       "    </tr>\n",
       "  </tbody>\n",
       "</table>\n"
      ],
      "text/plain": [
       "<pandas.io.formats.style.Styler at 0x27fe571bcd0>"
      ]
     },
     "metadata": {},
     "output_type": "display_data"
    },
    {
     "data": {
      "text/html": [],
      "text/plain": [
       "<IPython.core.display.HTML object>"
      ]
     },
     "metadata": {},
     "output_type": "display_data"
    },
    {
     "data": {
      "text/html": [
       "<style type=\"text/css\">\n",
       "#T_a48fd th {\n",
       "  text-align: left;\n",
       "}\n",
       "#T_a48fd_row0_col0, #T_a48fd_row0_col2, #T_a48fd_row0_col3, #T_a48fd_row1_col0, #T_a48fd_row1_col1, #T_a48fd_row1_col2, #T_a48fd_row1_col3, #T_a48fd_row1_col4, #T_a48fd_row1_col5, #T_a48fd_row1_col6, #T_a48fd_row1_col7, #T_a48fd_row2_col0, #T_a48fd_row2_col1, #T_a48fd_row2_col2, #T_a48fd_row2_col3, #T_a48fd_row2_col4, #T_a48fd_row2_col5, #T_a48fd_row2_col6, #T_a48fd_row2_col7, #T_a48fd_row3_col0, #T_a48fd_row3_col1, #T_a48fd_row3_col2, #T_a48fd_row3_col3, #T_a48fd_row3_col4, #T_a48fd_row3_col5, #T_a48fd_row3_col6, #T_a48fd_row3_col7, #T_a48fd_row4_col0, #T_a48fd_row4_col1, #T_a48fd_row4_col3, #T_a48fd_row4_col4, #T_a48fd_row4_col5, #T_a48fd_row4_col6, #T_a48fd_row4_col7, #T_a48fd_row5_col0, #T_a48fd_row5_col1, #T_a48fd_row5_col2, #T_a48fd_row5_col3, #T_a48fd_row5_col4, #T_a48fd_row5_col5, #T_a48fd_row5_col6, #T_a48fd_row5_col7, #T_a48fd_row6_col0, #T_a48fd_row6_col1, #T_a48fd_row6_col2, #T_a48fd_row6_col3, #T_a48fd_row6_col4, #T_a48fd_row6_col5, #T_a48fd_row6_col6, #T_a48fd_row6_col7, #T_a48fd_row7_col0, #T_a48fd_row7_col1, #T_a48fd_row7_col2, #T_a48fd_row7_col3, #T_a48fd_row7_col4, #T_a48fd_row7_col5, #T_a48fd_row7_col6, #T_a48fd_row7_col7, #T_a48fd_row8_col0, #T_a48fd_row8_col1, #T_a48fd_row8_col2, #T_a48fd_row8_col3, #T_a48fd_row8_col4, #T_a48fd_row8_col5, #T_a48fd_row8_col6, #T_a48fd_row8_col7, #T_a48fd_row9_col0, #T_a48fd_row9_col1, #T_a48fd_row9_col2, #T_a48fd_row9_col3, #T_a48fd_row9_col4, #T_a48fd_row9_col5, #T_a48fd_row9_col6, #T_a48fd_row9_col7, #T_a48fd_row10_col0, #T_a48fd_row10_col1, #T_a48fd_row10_col2, #T_a48fd_row10_col3, #T_a48fd_row10_col4, #T_a48fd_row10_col5, #T_a48fd_row10_col6, #T_a48fd_row10_col7, #T_a48fd_row11_col0, #T_a48fd_row11_col1, #T_a48fd_row11_col2, #T_a48fd_row11_col3, #T_a48fd_row11_col4, #T_a48fd_row11_col5, #T_a48fd_row11_col6, #T_a48fd_row11_col7, #T_a48fd_row12_col0, #T_a48fd_row12_col1, #T_a48fd_row12_col2, #T_a48fd_row12_col3, #T_a48fd_row12_col4, #T_a48fd_row12_col5, #T_a48fd_row12_col6, #T_a48fd_row12_col7, #T_a48fd_row13_col0, #T_a48fd_row13_col1, #T_a48fd_row13_col2, #T_a48fd_row13_col3, #T_a48fd_row13_col4, #T_a48fd_row13_col5, #T_a48fd_row13_col6, #T_a48fd_row13_col7, #T_a48fd_row14_col0, #T_a48fd_row14_col1, #T_a48fd_row14_col2, #T_a48fd_row14_col4, #T_a48fd_row14_col5, #T_a48fd_row14_col6, #T_a48fd_row14_col7 {\n",
       "  text-align: left;\n",
       "}\n",
       "#T_a48fd_row0_col1, #T_a48fd_row0_col4, #T_a48fd_row0_col5, #T_a48fd_row0_col6, #T_a48fd_row0_col7, #T_a48fd_row4_col2, #T_a48fd_row14_col3 {\n",
       "  text-align: left;\n",
       "  background-color: yellow;\n",
       "}\n",
       "#T_a48fd_row0_col8, #T_a48fd_row1_col8, #T_a48fd_row2_col8, #T_a48fd_row3_col8, #T_a48fd_row4_col8, #T_a48fd_row5_col8, #T_a48fd_row6_col8, #T_a48fd_row7_col8, #T_a48fd_row8_col8, #T_a48fd_row9_col8, #T_a48fd_row10_col8, #T_a48fd_row11_col8, #T_a48fd_row12_col8, #T_a48fd_row13_col8 {\n",
       "  text-align: left;\n",
       "  background-color: lightgrey;\n",
       "}\n",
       "#T_a48fd_row14_col8 {\n",
       "  text-align: left;\n",
       "  background-color: yellow;\n",
       "  background-color: lightgrey;\n",
       "}\n",
       "</style>\n",
       "<table id=\"T_a48fd\">\n",
       "  <thead>\n",
       "    <tr>\n",
       "      <th class=\"blank level0\" >&nbsp;</th>\n",
       "      <th id=\"T_a48fd_level0_col0\" class=\"col_heading level0 col0\" >Model</th>\n",
       "      <th id=\"T_a48fd_level0_col1\" class=\"col_heading level0 col1\" >Accuracy</th>\n",
       "      <th id=\"T_a48fd_level0_col2\" class=\"col_heading level0 col2\" >AUC</th>\n",
       "      <th id=\"T_a48fd_level0_col3\" class=\"col_heading level0 col3\" >Recall</th>\n",
       "      <th id=\"T_a48fd_level0_col4\" class=\"col_heading level0 col4\" >Prec.</th>\n",
       "      <th id=\"T_a48fd_level0_col5\" class=\"col_heading level0 col5\" >F1</th>\n",
       "      <th id=\"T_a48fd_level0_col6\" class=\"col_heading level0 col6\" >Kappa</th>\n",
       "      <th id=\"T_a48fd_level0_col7\" class=\"col_heading level0 col7\" >MCC</th>\n",
       "      <th id=\"T_a48fd_level0_col8\" class=\"col_heading level0 col8\" >TT (Sec)</th>\n",
       "    </tr>\n",
       "  </thead>\n",
       "  <tbody>\n",
       "    <tr>\n",
       "      <th id=\"T_a48fd_level0_row0\" class=\"row_heading level0 row0\" >lr</th>\n",
       "      <td id=\"T_a48fd_row0_col0\" class=\"data row0 col0\" >Logistic Regression</td>\n",
       "      <td id=\"T_a48fd_row0_col1\" class=\"data row0 col1\" >0.9214</td>\n",
       "      <td id=\"T_a48fd_row0_col2\" class=\"data row0 col2\" >0.9675</td>\n",
       "      <td id=\"T_a48fd_row0_col3\" class=\"data row0 col3\" >0.9550</td>\n",
       "      <td id=\"T_a48fd_row0_col4\" class=\"data row0 col4\" >0.9500</td>\n",
       "      <td id=\"T_a48fd_row0_col5\" class=\"data row0 col5\" >0.9455</td>\n",
       "      <td id=\"T_a48fd_row0_col6\" class=\"data row0 col6\" >0.7951</td>\n",
       "      <td id=\"T_a48fd_row0_col7\" class=\"data row0 col7\" >0.8083</td>\n",
       "      <td id=\"T_a48fd_row0_col8\" class=\"data row0 col8\" >0.0340</td>\n",
       "    </tr>\n",
       "    <tr>\n",
       "      <th id=\"T_a48fd_level0_row1\" class=\"row_heading level0 row1\" >ridge</th>\n",
       "      <td id=\"T_a48fd_row1_col0\" class=\"data row1 col0\" >Ridge Classifier</td>\n",
       "      <td id=\"T_a48fd_row1_col1\" class=\"data row1 col1\" >0.8881</td>\n",
       "      <td id=\"T_a48fd_row1_col2\" class=\"data row1 col2\" >0.9550</td>\n",
       "      <td id=\"T_a48fd_row1_col3\" class=\"data row1 col3\" >0.9550</td>\n",
       "      <td id=\"T_a48fd_row1_col4\" class=\"data row1 col4\" >0.9033</td>\n",
       "      <td id=\"T_a48fd_row1_col5\" class=\"data row1 col5\" >0.9211</td>\n",
       "      <td id=\"T_a48fd_row1_col6\" class=\"data row1 col6\" >0.7236</td>\n",
       "      <td id=\"T_a48fd_row1_col7\" class=\"data row1 col7\" >0.7613</td>\n",
       "      <td id=\"T_a48fd_row1_col8\" class=\"data row1 col8\" >0.0190</td>\n",
       "    </tr>\n",
       "    <tr>\n",
       "      <th id=\"T_a48fd_level0_row2\" class=\"row_heading level0 row2\" >et</th>\n",
       "      <td id=\"T_a48fd_row2_col0\" class=\"data row2 col0\" >Extra Trees Classifier</td>\n",
       "      <td id=\"T_a48fd_row2_col1\" class=\"data row2 col1\" >0.8738</td>\n",
       "      <td id=\"T_a48fd_row2_col2\" class=\"data row2 col2\" >0.9500</td>\n",
       "      <td id=\"T_a48fd_row2_col3\" class=\"data row2 col3\" >0.9550</td>\n",
       "      <td id=\"T_a48fd_row2_col4\" class=\"data row2 col4\" >0.8914</td>\n",
       "      <td id=\"T_a48fd_row2_col5\" class=\"data row2 col5\" >0.9135</td>\n",
       "      <td id=\"T_a48fd_row2_col6\" class=\"data row2 col6\" >0.6648</td>\n",
       "      <td id=\"T_a48fd_row2_col7\" class=\"data row2 col7\" >0.6967</td>\n",
       "      <td id=\"T_a48fd_row2_col8\" class=\"data row2 col8\" >0.1080</td>\n",
       "    </tr>\n",
       "    <tr>\n",
       "      <th id=\"T_a48fd_level0_row3\" class=\"row_heading level0 row3\" >lda</th>\n",
       "      <td id=\"T_a48fd_row3_col0\" class=\"data row3 col0\" >Linear Discriminant Analysis</td>\n",
       "      <td id=\"T_a48fd_row3_col1\" class=\"data row3 col1\" >0.8714</td>\n",
       "      <td id=\"T_a48fd_row3_col2\" class=\"data row3 col2\" >0.9550</td>\n",
       "      <td id=\"T_a48fd_row3_col3\" class=\"data row3 col3\" >0.9300</td>\n",
       "      <td id=\"T_a48fd_row3_col4\" class=\"data row3 col4\" >0.8983</td>\n",
       "      <td id=\"T_a48fd_row3_col5\" class=\"data row3 col5\" >0.9072</td>\n",
       "      <td id=\"T_a48fd_row3_col6\" class=\"data row3 col6\" >0.6915</td>\n",
       "      <td id=\"T_a48fd_row3_col7\" class=\"data row3 col7\" >0.7230</td>\n",
       "      <td id=\"T_a48fd_row3_col8\" class=\"data row3 col8\" >0.0130</td>\n",
       "    </tr>\n",
       "    <tr>\n",
       "      <th id=\"T_a48fd_level0_row4\" class=\"row_heading level0 row4\" >knn</th>\n",
       "      <td id=\"T_a48fd_row4_col0\" class=\"data row4 col0\" >K Neighbors Classifier</td>\n",
       "      <td id=\"T_a48fd_row4_col1\" class=\"data row4 col1\" >0.8690</td>\n",
       "      <td id=\"T_a48fd_row4_col2\" class=\"data row4 col2\" >0.9938</td>\n",
       "      <td id=\"T_a48fd_row4_col3\" class=\"data row4 col3\" >0.9550</td>\n",
       "      <td id=\"T_a48fd_row4_col4\" class=\"data row4 col4\" >0.8933</td>\n",
       "      <td id=\"T_a48fd_row4_col5\" class=\"data row4 col5\" >0.9124</td>\n",
       "      <td id=\"T_a48fd_row4_col6\" class=\"data row4 col6\" >0.6505</td>\n",
       "      <td id=\"T_a48fd_row4_col7\" class=\"data row4 col7\" >0.6702</td>\n",
       "      <td id=\"T_a48fd_row4_col8\" class=\"data row4 col8\" >0.0220</td>\n",
       "    </tr>\n",
       "    <tr>\n",
       "      <th id=\"T_a48fd_level0_row5\" class=\"row_heading level0 row5\" >rf</th>\n",
       "      <td id=\"T_a48fd_row5_col0\" class=\"data row5 col0\" >Random Forest Classifier</td>\n",
       "      <td id=\"T_a48fd_row5_col1\" class=\"data row5 col1\" >0.8405</td>\n",
       "      <td id=\"T_a48fd_row5_col2\" class=\"data row5 col2\" >0.9438</td>\n",
       "      <td id=\"T_a48fd_row5_col3\" class=\"data row5 col3\" >0.9550</td>\n",
       "      <td id=\"T_a48fd_row5_col4\" class=\"data row5 col4\" >0.8648</td>\n",
       "      <td id=\"T_a48fd_row5_col5\" class=\"data row5 col5\" >0.8957</td>\n",
       "      <td id=\"T_a48fd_row5_col6\" class=\"data row5 col6\" >0.5505</td>\n",
       "      <td id=\"T_a48fd_row5_col7\" class=\"data row5 col7\" >0.5702</td>\n",
       "      <td id=\"T_a48fd_row5_col8\" class=\"data row5 col8\" >0.0910</td>\n",
       "    </tr>\n",
       "    <tr>\n",
       "      <th id=\"T_a48fd_level0_row6\" class=\"row_heading level0 row6\" >ada</th>\n",
       "      <td id=\"T_a48fd_row6_col0\" class=\"data row6 col0\" >Ada Boost Classifier</td>\n",
       "      <td id=\"T_a48fd_row6_col1\" class=\"data row6 col1\" >0.8405</td>\n",
       "      <td id=\"T_a48fd_row6_col2\" class=\"data row6 col2\" >0.8875</td>\n",
       "      <td id=\"T_a48fd_row6_col3\" class=\"data row6 col3\" >0.9300</td>\n",
       "      <td id=\"T_a48fd_row6_col4\" class=\"data row6 col4\" >0.8650</td>\n",
       "      <td id=\"T_a48fd_row6_col5\" class=\"data row6 col5\" >0.8894</td>\n",
       "      <td id=\"T_a48fd_row6_col6\" class=\"data row6 col6\" >0.5948</td>\n",
       "      <td id=\"T_a48fd_row6_col7\" class=\"data row6 col7\" >0.6168</td>\n",
       "      <td id=\"T_a48fd_row6_col8\" class=\"data row6 col8\" >0.0580</td>\n",
       "    </tr>\n",
       "    <tr>\n",
       "      <th id=\"T_a48fd_level0_row7\" class=\"row_heading level0 row7\" >nb</th>\n",
       "      <td id=\"T_a48fd_row7_col0\" class=\"data row7 col0\" >Naive Bayes</td>\n",
       "      <td id=\"T_a48fd_row7_col1\" class=\"data row7 col1\" >0.8381</td>\n",
       "      <td id=\"T_a48fd_row7_col2\" class=\"data row7 col2\" >0.8900</td>\n",
       "      <td id=\"T_a48fd_row7_col3\" class=\"data row7 col3\" >0.8800</td>\n",
       "      <td id=\"T_a48fd_row7_col4\" class=\"data row7 col4\" >0.8767</td>\n",
       "      <td id=\"T_a48fd_row7_col5\" class=\"data row7 col5\" >0.8719</td>\n",
       "      <td id=\"T_a48fd_row7_col6\" class=\"data row7 col6\" >0.6427</td>\n",
       "      <td id=\"T_a48fd_row7_col7\" class=\"data row7 col7\" >0.6641</td>\n",
       "      <td id=\"T_a48fd_row7_col8\" class=\"data row7 col8\" >0.0160</td>\n",
       "    </tr>\n",
       "    <tr>\n",
       "      <th id=\"T_a48fd_level0_row8\" class=\"row_heading level0 row8\" >xgboost</th>\n",
       "      <td id=\"T_a48fd_row8_col0\" class=\"data row8 col0\" >Extreme Gradient Boosting</td>\n",
       "      <td id=\"T_a48fd_row8_col1\" class=\"data row8 col1\" >0.8381</td>\n",
       "      <td id=\"T_a48fd_row8_col2\" class=\"data row8 col2\" >0.9025</td>\n",
       "      <td id=\"T_a48fd_row8_col3\" class=\"data row8 col3\" >0.9300</td>\n",
       "      <td id=\"T_a48fd_row8_col4\" class=\"data row8 col4\" >0.8717</td>\n",
       "      <td id=\"T_a48fd_row8_col5\" class=\"data row8 col5\" >0.8894</td>\n",
       "      <td id=\"T_a48fd_row8_col6\" class=\"data row8 col6\" >0.5772</td>\n",
       "      <td id=\"T_a48fd_row8_col7\" class=\"data row8 col7\" >0.5965</td>\n",
       "      <td id=\"T_a48fd_row8_col8\" class=\"data row8 col8\" >0.0290</td>\n",
       "    </tr>\n",
       "    <tr>\n",
       "      <th id=\"T_a48fd_level0_row9\" class=\"row_heading level0 row9\" >lightgbm</th>\n",
       "      <td id=\"T_a48fd_row9_col0\" class=\"data row9 col0\" >Light Gradient Boosting Machine</td>\n",
       "      <td id=\"T_a48fd_row9_col1\" class=\"data row9 col1\" >0.8071</td>\n",
       "      <td id=\"T_a48fd_row9_col2\" class=\"data row9 col2\" >0.9125</td>\n",
       "      <td id=\"T_a48fd_row9_col3\" class=\"data row9 col3\" >0.9050</td>\n",
       "      <td id=\"T_a48fd_row9_col4\" class=\"data row9 col4\" >0.8514</td>\n",
       "      <td id=\"T_a48fd_row9_col5\" class=\"data row9 col5\" >0.8640</td>\n",
       "      <td id=\"T_a48fd_row9_col6\" class=\"data row9 col6\" >0.4934</td>\n",
       "      <td id=\"T_a48fd_row9_col7\" class=\"data row9 col7\" >0.5070</td>\n",
       "      <td id=\"T_a48fd_row9_col8\" class=\"data row9 col8\" >0.0310</td>\n",
       "    </tr>\n",
       "    <tr>\n",
       "      <th id=\"T_a48fd_level0_row10\" class=\"row_heading level0 row10\" >dt</th>\n",
       "      <td id=\"T_a48fd_row10_col0\" class=\"data row10 col0\" >Decision Tree Classifier</td>\n",
       "      <td id=\"T_a48fd_row10_col1\" class=\"data row10 col1\" >0.8048</td>\n",
       "      <td id=\"T_a48fd_row10_col2\" class=\"data row10 col2\" >0.7675</td>\n",
       "      <td id=\"T_a48fd_row10_col3\" class=\"data row10 col3\" >0.8850</td>\n",
       "      <td id=\"T_a48fd_row10_col4\" class=\"data row10 col4\" >0.8567</td>\n",
       "      <td id=\"T_a48fd_row10_col5\" class=\"data row10 col5\" >0.8606</td>\n",
       "      <td id=\"T_a48fd_row10_col6\" class=\"data row10 col6\" >0.5247</td>\n",
       "      <td id=\"T_a48fd_row10_col7\" class=\"data row10 col7\" >0.5364</td>\n",
       "      <td id=\"T_a48fd_row10_col8\" class=\"data row10 col8\" >0.0290</td>\n",
       "    </tr>\n",
       "    <tr>\n",
       "      <th id=\"T_a48fd_level0_row11\" class=\"row_heading level0 row11\" >qda</th>\n",
       "      <td id=\"T_a48fd_row11_col0\" class=\"data row11 col0\" >Quadratic Discriminant Analysis</td>\n",
       "      <td id=\"T_a48fd_row11_col1\" class=\"data row11 col1\" >0.7929</td>\n",
       "      <td id=\"T_a48fd_row11_col2\" class=\"data row11 col2\" >0.7225</td>\n",
       "      <td id=\"T_a48fd_row11_col3\" class=\"data row11 col3\" >0.8800</td>\n",
       "      <td id=\"T_a48fd_row11_col4\" class=\"data row11 col4\" >0.7614</td>\n",
       "      <td id=\"T_a48fd_row11_col5\" class=\"data row11 col5\" >0.8098</td>\n",
       "      <td id=\"T_a48fd_row11_col6\" class=\"data row11 col6\" >0.4998</td>\n",
       "      <td id=\"T_a48fd_row11_col7\" class=\"data row11 col7\" >0.5273</td>\n",
       "      <td id=\"T_a48fd_row11_col8\" class=\"data row11 col8\" >0.0140</td>\n",
       "    </tr>\n",
       "    <tr>\n",
       "      <th id=\"T_a48fd_level0_row12\" class=\"row_heading level0 row12\" >gbc</th>\n",
       "      <td id=\"T_a48fd_row12_col0\" class=\"data row12 col0\" >Gradient Boosting Classifier</td>\n",
       "      <td id=\"T_a48fd_row12_col1\" class=\"data row12 col1\" >0.7881</td>\n",
       "      <td id=\"T_a48fd_row12_col2\" class=\"data row12 col2\" >0.8088</td>\n",
       "      <td id=\"T_a48fd_row12_col3\" class=\"data row12 col3\" >0.8800</td>\n",
       "      <td id=\"T_a48fd_row12_col4\" class=\"data row12 col4\" >0.8217</td>\n",
       "      <td id=\"T_a48fd_row12_col5\" class=\"data row12 col5\" >0.8370</td>\n",
       "      <td id=\"T_a48fd_row12_col6\" class=\"data row12 col6\" >0.4905</td>\n",
       "      <td id=\"T_a48fd_row12_col7\" class=\"data row12 col7\" >0.5008</td>\n",
       "      <td id=\"T_a48fd_row12_col8\" class=\"data row12 col8\" >0.0570</td>\n",
       "    </tr>\n",
       "    <tr>\n",
       "      <th id=\"T_a48fd_level0_row13\" class=\"row_heading level0 row13\" >svm</th>\n",
       "      <td id=\"T_a48fd_row13_col0\" class=\"data row13 col0\" >SVM - Linear Kernel</td>\n",
       "      <td id=\"T_a48fd_row13_col1\" class=\"data row13 col1\" >0.7214</td>\n",
       "      <td id=\"T_a48fd_row13_col2\" class=\"data row13 col2\" >0.9275</td>\n",
       "      <td id=\"T_a48fd_row13_col3\" class=\"data row13 col3\" >0.6500</td>\n",
       "      <td id=\"T_a48fd_row13_col4\" class=\"data row13 col4\" >0.8633</td>\n",
       "      <td id=\"T_a48fd_row13_col5\" class=\"data row13 col5\" >0.6992</td>\n",
       "      <td id=\"T_a48fd_row13_col6\" class=\"data row13 col6\" >0.5114</td>\n",
       "      <td id=\"T_a48fd_row13_col7\" class=\"data row13 col7\" >0.5646</td>\n",
       "      <td id=\"T_a48fd_row13_col8\" class=\"data row13 col8\" >0.0160</td>\n",
       "    </tr>\n",
       "    <tr>\n",
       "      <th id=\"T_a48fd_level0_row14\" class=\"row_heading level0 row14\" >dummy</th>\n",
       "      <td id=\"T_a48fd_row14_col0\" class=\"data row14 col0\" >Dummy Classifier</td>\n",
       "      <td id=\"T_a48fd_row14_col1\" class=\"data row14 col1\" >0.6976</td>\n",
       "      <td id=\"T_a48fd_row14_col2\" class=\"data row14 col2\" >0.5000</td>\n",
       "      <td id=\"T_a48fd_row14_col3\" class=\"data row14 col3\" >1.0000</td>\n",
       "      <td id=\"T_a48fd_row14_col4\" class=\"data row14 col4\" >0.6976</td>\n",
       "      <td id=\"T_a48fd_row14_col5\" class=\"data row14 col5\" >0.8209</td>\n",
       "      <td id=\"T_a48fd_row14_col6\" class=\"data row14 col6\" >0.0000</td>\n",
       "      <td id=\"T_a48fd_row14_col7\" class=\"data row14 col7\" >0.0000</td>\n",
       "      <td id=\"T_a48fd_row14_col8\" class=\"data row14 col8\" >0.0120</td>\n",
       "    </tr>\n",
       "  </tbody>\n",
       "</table>\n"
      ],
      "text/plain": [
       "<pandas.io.formats.style.Styler at 0x27fe56b2750>"
      ]
     },
     "metadata": {},
     "output_type": "display_data"
    },
    {
     "data": {
      "application/vnd.jupyter.widget-view+json": {
       "model_id": "76628d1a5431493d96ae96e2e24a4377",
       "version_major": 2,
       "version_minor": 0
      },
      "text/plain": [
       "Processing:   0%|          | 0/65 [00:00<?, ?it/s]"
      ]
     },
     "metadata": {},
     "output_type": "display_data"
    },
    {
     "data": {
      "text/html": [],
      "text/plain": [
       "<IPython.core.display.HTML object>"
      ]
     },
     "metadata": {},
     "output_type": "display_data"
    },
    {
     "data": {
      "text/html": [
       "<style type=\"text/css\">\n",
       "#T_3183e th {\n",
       "  text-align: left;\n",
       "}\n",
       "#T_3183e_row0_col0 {\n",
       "  text-align: left;\n",
       "}\n",
       "#T_3183e_row0_col1, #T_3183e_row0_col2, #T_3183e_row0_col3, #T_3183e_row0_col4, #T_3183e_row0_col5, #T_3183e_row0_col6, #T_3183e_row0_col7 {\n",
       "  text-align: left;\n",
       "  background-color: yellow;\n",
       "}\n",
       "#T_3183e_row0_col8 {\n",
       "  text-align: left;\n",
       "  background-color: yellow;\n",
       "  background-color: lightgrey;\n",
       "}\n",
       "</style>\n",
       "<table id=\"T_3183e\">\n",
       "  <thead>\n",
       "    <tr>\n",
       "      <th class=\"blank level0\" >&nbsp;</th>\n",
       "      <th id=\"T_3183e_level0_col0\" class=\"col_heading level0 col0\" >Model</th>\n",
       "      <th id=\"T_3183e_level0_col1\" class=\"col_heading level0 col1\" >Accuracy</th>\n",
       "      <th id=\"T_3183e_level0_col2\" class=\"col_heading level0 col2\" >AUC</th>\n",
       "      <th id=\"T_3183e_level0_col3\" class=\"col_heading level0 col3\" >Recall</th>\n",
       "      <th id=\"T_3183e_level0_col4\" class=\"col_heading level0 col4\" >Prec.</th>\n",
       "      <th id=\"T_3183e_level0_col5\" class=\"col_heading level0 col5\" >F1</th>\n",
       "      <th id=\"T_3183e_level0_col6\" class=\"col_heading level0 col6\" >Kappa</th>\n",
       "      <th id=\"T_3183e_level0_col7\" class=\"col_heading level0 col7\" >MCC</th>\n",
       "      <th id=\"T_3183e_level0_col8\" class=\"col_heading level0 col8\" >TT (Sec)</th>\n",
       "    </tr>\n",
       "  </thead>\n",
       "  <tbody>\n",
       "    <tr>\n",
       "      <th id=\"T_3183e_level0_row0\" class=\"row_heading level0 row0\" >lr</th>\n",
       "      <td id=\"T_3183e_row0_col0\" class=\"data row0 col0\" >Logistic Regression</td>\n",
       "      <td id=\"T_3183e_row0_col1\" class=\"data row0 col1\" >0.9214</td>\n",
       "      <td id=\"T_3183e_row0_col2\" class=\"data row0 col2\" >0.9675</td>\n",
       "      <td id=\"T_3183e_row0_col3\" class=\"data row0 col3\" >0.9550</td>\n",
       "      <td id=\"T_3183e_row0_col4\" class=\"data row0 col4\" >0.9500</td>\n",
       "      <td id=\"T_3183e_row0_col5\" class=\"data row0 col5\" >0.9455</td>\n",
       "      <td id=\"T_3183e_row0_col6\" class=\"data row0 col6\" >0.7951</td>\n",
       "      <td id=\"T_3183e_row0_col7\" class=\"data row0 col7\" >0.8083</td>\n",
       "      <td id=\"T_3183e_row0_col8\" class=\"data row0 col8\" >0.0350</td>\n",
       "    </tr>\n",
       "  </tbody>\n",
       "</table>\n"
      ],
      "text/plain": [
       "<pandas.io.formats.style.Styler at 0x27fe54fe6d0>"
      ]
     },
     "metadata": {},
     "output_type": "display_data"
    },
    {
     "data": {
      "application/vnd.jupyter.widget-view+json": {
       "model_id": "248af77618ad469db34d96e27b6398a6",
       "version_major": 2,
       "version_minor": 0
      },
      "text/plain": [
       "Processing:   0%|          | 0/9 [00:00<?, ?it/s]"
      ]
     },
     "metadata": {},
     "output_type": "display_data"
    },
    {
     "data": {
      "text/html": [],
      "text/plain": [
       "<IPython.core.display.HTML object>"
      ]
     },
     "metadata": {},
     "output_type": "display_data"
    },
    {
     "data": {
      "text/html": [],
      "text/plain": [
       "<IPython.core.display.HTML object>"
      ]
     },
     "metadata": {},
     "output_type": "display_data"
    },
    {
     "data": {
      "text/html": [],
      "text/plain": [
       "<IPython.core.display.HTML object>"
      ]
     },
     "metadata": {},
     "output_type": "display_data"
    },
    {
     "data": {
      "text/html": [
       "<style type=\"text/css\">\n",
       "#T_ded51 th {\n",
       "  text-align: left;\n",
       "}\n",
       "#T_ded51_row0_col0 {\n",
       "  text-align: left;\n",
       "}\n",
       "#T_ded51_row0_col1, #T_ded51_row0_col2, #T_ded51_row0_col3, #T_ded51_row0_col4, #T_ded51_row0_col5, #T_ded51_row0_col6, #T_ded51_row0_col7 {\n",
       "  text-align: left;\n",
       "  background-color: yellow;\n",
       "}\n",
       "#T_ded51_row0_col8 {\n",
       "  text-align: left;\n",
       "  background-color: yellow;\n",
       "  background-color: lightgrey;\n",
       "}\n",
       "</style>\n",
       "<table id=\"T_ded51\">\n",
       "  <thead>\n",
       "    <tr>\n",
       "      <th class=\"blank level0\" >&nbsp;</th>\n",
       "      <th id=\"T_ded51_level0_col0\" class=\"col_heading level0 col0\" >Model</th>\n",
       "      <th id=\"T_ded51_level0_col1\" class=\"col_heading level0 col1\" >Accuracy</th>\n",
       "      <th id=\"T_ded51_level0_col2\" class=\"col_heading level0 col2\" >AUC</th>\n",
       "      <th id=\"T_ded51_level0_col3\" class=\"col_heading level0 col3\" >Recall</th>\n",
       "      <th id=\"T_ded51_level0_col4\" class=\"col_heading level0 col4\" >Prec.</th>\n",
       "      <th id=\"T_ded51_level0_col5\" class=\"col_heading level0 col5\" >F1</th>\n",
       "      <th id=\"T_ded51_level0_col6\" class=\"col_heading level0 col6\" >Kappa</th>\n",
       "      <th id=\"T_ded51_level0_col7\" class=\"col_heading level0 col7\" >MCC</th>\n",
       "      <th id=\"T_ded51_level0_col8\" class=\"col_heading level0 col8\" >TT (Sec)</th>\n",
       "    </tr>\n",
       "  </thead>\n",
       "  <tbody>\n",
       "    <tr>\n",
       "      <th id=\"T_ded51_level0_row0\" class=\"row_heading level0 row0\" >ridge</th>\n",
       "      <td id=\"T_ded51_row0_col0\" class=\"data row0 col0\" >Ridge Classifier</td>\n",
       "      <td id=\"T_ded51_row0_col1\" class=\"data row0 col1\" >0.8881</td>\n",
       "      <td id=\"T_ded51_row0_col2\" class=\"data row0 col2\" >0.9550</td>\n",
       "      <td id=\"T_ded51_row0_col3\" class=\"data row0 col3\" >0.9550</td>\n",
       "      <td id=\"T_ded51_row0_col4\" class=\"data row0 col4\" >0.9033</td>\n",
       "      <td id=\"T_ded51_row0_col5\" class=\"data row0 col5\" >0.9211</td>\n",
       "      <td id=\"T_ded51_row0_col6\" class=\"data row0 col6\" >0.7236</td>\n",
       "      <td id=\"T_ded51_row0_col7\" class=\"data row0 col7\" >0.7613</td>\n",
       "      <td id=\"T_ded51_row0_col8\" class=\"data row0 col8\" >0.0140</td>\n",
       "    </tr>\n",
       "  </tbody>\n",
       "</table>\n"
      ],
      "text/plain": [
       "<pandas.io.formats.style.Styler at 0x27fe2721310>"
      ]
     },
     "metadata": {},
     "output_type": "display_data"
    },
    {
     "data": {
      "application/vnd.jupyter.widget-view+json": {
       "model_id": "8ff578d51e294eed9a64fb7a666dc942",
       "version_major": 2,
       "version_minor": 0
      },
      "text/plain": [
       "Processing:   0%|          | 0/9 [00:00<?, ?it/s]"
      ]
     },
     "metadata": {},
     "output_type": "display_data"
    },
    {
     "data": {
      "text/html": [],
      "text/plain": [
       "<IPython.core.display.HTML object>"
      ]
     },
     "metadata": {},
     "output_type": "display_data"
    },
    {
     "data": {
      "text/html": [],
      "text/plain": [
       "<IPython.core.display.HTML object>"
      ]
     },
     "metadata": {},
     "output_type": "display_data"
    },
    {
     "data": {
      "text/html": [],
      "text/plain": [
       "<IPython.core.display.HTML object>"
      ]
     },
     "metadata": {},
     "output_type": "display_data"
    },
    {
     "data": {
      "text/html": [
       "<style type=\"text/css\">\n",
       "#T_898fd th {\n",
       "  text-align: left;\n",
       "}\n",
       "#T_898fd_row0_col0 {\n",
       "  text-align: left;\n",
       "}\n",
       "#T_898fd_row0_col1, #T_898fd_row0_col2, #T_898fd_row0_col3, #T_898fd_row0_col4, #T_898fd_row0_col5, #T_898fd_row0_col6, #T_898fd_row0_col7 {\n",
       "  text-align: left;\n",
       "  background-color: yellow;\n",
       "}\n",
       "#T_898fd_row0_col8 {\n",
       "  text-align: left;\n",
       "  background-color: yellow;\n",
       "  background-color: lightgrey;\n",
       "}\n",
       "</style>\n",
       "<table id=\"T_898fd\">\n",
       "  <thead>\n",
       "    <tr>\n",
       "      <th class=\"blank level0\" >&nbsp;</th>\n",
       "      <th id=\"T_898fd_level0_col0\" class=\"col_heading level0 col0\" >Model</th>\n",
       "      <th id=\"T_898fd_level0_col1\" class=\"col_heading level0 col1\" >Accuracy</th>\n",
       "      <th id=\"T_898fd_level0_col2\" class=\"col_heading level0 col2\" >AUC</th>\n",
       "      <th id=\"T_898fd_level0_col3\" class=\"col_heading level0 col3\" >Recall</th>\n",
       "      <th id=\"T_898fd_level0_col4\" class=\"col_heading level0 col4\" >Prec.</th>\n",
       "      <th id=\"T_898fd_level0_col5\" class=\"col_heading level0 col5\" >F1</th>\n",
       "      <th id=\"T_898fd_level0_col6\" class=\"col_heading level0 col6\" >Kappa</th>\n",
       "      <th id=\"T_898fd_level0_col7\" class=\"col_heading level0 col7\" >MCC</th>\n",
       "      <th id=\"T_898fd_level0_col8\" class=\"col_heading level0 col8\" >TT (Sec)</th>\n",
       "    </tr>\n",
       "  </thead>\n",
       "  <tbody>\n",
       "    <tr>\n",
       "      <th id=\"T_898fd_level0_row0\" class=\"row_heading level0 row0\" >et</th>\n",
       "      <td id=\"T_898fd_row0_col0\" class=\"data row0 col0\" >Extra Trees Classifier</td>\n",
       "      <td id=\"T_898fd_row0_col1\" class=\"data row0 col1\" >0.8738</td>\n",
       "      <td id=\"T_898fd_row0_col2\" class=\"data row0 col2\" >0.9500</td>\n",
       "      <td id=\"T_898fd_row0_col3\" class=\"data row0 col3\" >0.9550</td>\n",
       "      <td id=\"T_898fd_row0_col4\" class=\"data row0 col4\" >0.8914</td>\n",
       "      <td id=\"T_898fd_row0_col5\" class=\"data row0 col5\" >0.9135</td>\n",
       "      <td id=\"T_898fd_row0_col6\" class=\"data row0 col6\" >0.6648</td>\n",
       "      <td id=\"T_898fd_row0_col7\" class=\"data row0 col7\" >0.6967</td>\n",
       "      <td id=\"T_898fd_row0_col8\" class=\"data row0 col8\" >0.0780</td>\n",
       "    </tr>\n",
       "  </tbody>\n",
       "</table>\n"
      ],
      "text/plain": [
       "<pandas.io.formats.style.Styler at 0x27fe5a561d0>"
      ]
     },
     "metadata": {},
     "output_type": "display_data"
    },
    {
     "data": {
      "application/vnd.jupyter.widget-view+json": {
       "model_id": "2346cab09e424da6844e8577e6365610",
       "version_major": 2,
       "version_minor": 0
      },
      "text/plain": [
       "Processing:   0%|          | 0/9 [00:00<?, ?it/s]"
      ]
     },
     "metadata": {},
     "output_type": "display_data"
    },
    {
     "data": {
      "text/html": [],
      "text/plain": [
       "<IPython.core.display.HTML object>"
      ]
     },
     "metadata": {},
     "output_type": "display_data"
    },
    {
     "data": {
      "text/html": [],
      "text/plain": [
       "<IPython.core.display.HTML object>"
      ]
     },
     "metadata": {},
     "output_type": "display_data"
    },
    {
     "data": {
      "text/html": [],
      "text/plain": [
       "<IPython.core.display.HTML object>"
      ]
     },
     "metadata": {},
     "output_type": "display_data"
    },
    {
     "data": {
      "text/html": [
       "<style type=\"text/css\">\n",
       "#T_f664d th {\n",
       "  text-align: left;\n",
       "}\n",
       "#T_f664d_row0_col0 {\n",
       "  text-align: left;\n",
       "}\n",
       "#T_f664d_row0_col1, #T_f664d_row0_col2, #T_f664d_row0_col3, #T_f664d_row0_col4, #T_f664d_row0_col5, #T_f664d_row0_col6, #T_f664d_row0_col7 {\n",
       "  text-align: left;\n",
       "  background-color: yellow;\n",
       "}\n",
       "#T_f664d_row0_col8 {\n",
       "  text-align: left;\n",
       "  background-color: yellow;\n",
       "  background-color: lightgrey;\n",
       "}\n",
       "</style>\n",
       "<table id=\"T_f664d\">\n",
       "  <thead>\n",
       "    <tr>\n",
       "      <th class=\"blank level0\" >&nbsp;</th>\n",
       "      <th id=\"T_f664d_level0_col0\" class=\"col_heading level0 col0\" >Model</th>\n",
       "      <th id=\"T_f664d_level0_col1\" class=\"col_heading level0 col1\" >Accuracy</th>\n",
       "      <th id=\"T_f664d_level0_col2\" class=\"col_heading level0 col2\" >AUC</th>\n",
       "      <th id=\"T_f664d_level0_col3\" class=\"col_heading level0 col3\" >Recall</th>\n",
       "      <th id=\"T_f664d_level0_col4\" class=\"col_heading level0 col4\" >Prec.</th>\n",
       "      <th id=\"T_f664d_level0_col5\" class=\"col_heading level0 col5\" >F1</th>\n",
       "      <th id=\"T_f664d_level0_col6\" class=\"col_heading level0 col6\" >Kappa</th>\n",
       "      <th id=\"T_f664d_level0_col7\" class=\"col_heading level0 col7\" >MCC</th>\n",
       "      <th id=\"T_f664d_level0_col8\" class=\"col_heading level0 col8\" >TT (Sec)</th>\n",
       "    </tr>\n",
       "  </thead>\n",
       "  <tbody>\n",
       "    <tr>\n",
       "      <th id=\"T_f664d_level0_row0\" class=\"row_heading level0 row0\" >lda</th>\n",
       "      <td id=\"T_f664d_row0_col0\" class=\"data row0 col0\" >Linear Discriminant Analysis</td>\n",
       "      <td id=\"T_f664d_row0_col1\" class=\"data row0 col1\" >0.8714</td>\n",
       "      <td id=\"T_f664d_row0_col2\" class=\"data row0 col2\" >0.9550</td>\n",
       "      <td id=\"T_f664d_row0_col3\" class=\"data row0 col3\" >0.9300</td>\n",
       "      <td id=\"T_f664d_row0_col4\" class=\"data row0 col4\" >0.8983</td>\n",
       "      <td id=\"T_f664d_row0_col5\" class=\"data row0 col5\" >0.9072</td>\n",
       "      <td id=\"T_f664d_row0_col6\" class=\"data row0 col6\" >0.6915</td>\n",
       "      <td id=\"T_f664d_row0_col7\" class=\"data row0 col7\" >0.7230</td>\n",
       "      <td id=\"T_f664d_row0_col8\" class=\"data row0 col8\" >0.0240</td>\n",
       "    </tr>\n",
       "  </tbody>\n",
       "</table>\n"
      ],
      "text/plain": [
       "<pandas.io.formats.style.Styler at 0x27fe54cbd10>"
      ]
     },
     "metadata": {},
     "output_type": "display_data"
    },
    {
     "data": {
      "application/vnd.jupyter.widget-view+json": {
       "model_id": "a0cdb6ddb5b34c67822d3c29c434dcef",
       "version_major": 2,
       "version_minor": 0
      },
      "text/plain": [
       "Processing:   0%|          | 0/9 [00:00<?, ?it/s]"
      ]
     },
     "metadata": {},
     "output_type": "display_data"
    },
    {
     "data": {
      "text/html": [],
      "text/plain": [
       "<IPython.core.display.HTML object>"
      ]
     },
     "metadata": {},
     "output_type": "display_data"
    },
    {
     "data": {
      "text/html": [],
      "text/plain": [
       "<IPython.core.display.HTML object>"
      ]
     },
     "metadata": {},
     "output_type": "display_data"
    },
    {
     "data": {
      "text/html": [],
      "text/plain": [
       "<IPython.core.display.HTML object>"
      ]
     },
     "metadata": {},
     "output_type": "display_data"
    },
    {
     "data": {
      "text/html": [
       "<style type=\"text/css\">\n",
       "#T_53c87 th {\n",
       "  text-align: left;\n",
       "}\n",
       "#T_53c87_row0_col0 {\n",
       "  text-align: left;\n",
       "}\n",
       "#T_53c87_row0_col1, #T_53c87_row0_col2, #T_53c87_row0_col3, #T_53c87_row0_col4, #T_53c87_row0_col5, #T_53c87_row0_col6, #T_53c87_row0_col7 {\n",
       "  text-align: left;\n",
       "  background-color: yellow;\n",
       "}\n",
       "#T_53c87_row0_col8 {\n",
       "  text-align: left;\n",
       "  background-color: yellow;\n",
       "  background-color: lightgrey;\n",
       "}\n",
       "</style>\n",
       "<table id=\"T_53c87\">\n",
       "  <thead>\n",
       "    <tr>\n",
       "      <th class=\"blank level0\" >&nbsp;</th>\n",
       "      <th id=\"T_53c87_level0_col0\" class=\"col_heading level0 col0\" >Model</th>\n",
       "      <th id=\"T_53c87_level0_col1\" class=\"col_heading level0 col1\" >Accuracy</th>\n",
       "      <th id=\"T_53c87_level0_col2\" class=\"col_heading level0 col2\" >AUC</th>\n",
       "      <th id=\"T_53c87_level0_col3\" class=\"col_heading level0 col3\" >Recall</th>\n",
       "      <th id=\"T_53c87_level0_col4\" class=\"col_heading level0 col4\" >Prec.</th>\n",
       "      <th id=\"T_53c87_level0_col5\" class=\"col_heading level0 col5\" >F1</th>\n",
       "      <th id=\"T_53c87_level0_col6\" class=\"col_heading level0 col6\" >Kappa</th>\n",
       "      <th id=\"T_53c87_level0_col7\" class=\"col_heading level0 col7\" >MCC</th>\n",
       "      <th id=\"T_53c87_level0_col8\" class=\"col_heading level0 col8\" >TT (Sec)</th>\n",
       "    </tr>\n",
       "  </thead>\n",
       "  <tbody>\n",
       "    <tr>\n",
       "      <th id=\"T_53c87_level0_row0\" class=\"row_heading level0 row0\" >knn</th>\n",
       "      <td id=\"T_53c87_row0_col0\" class=\"data row0 col0\" >K Neighbors Classifier</td>\n",
       "      <td id=\"T_53c87_row0_col1\" class=\"data row0 col1\" >0.8690</td>\n",
       "      <td id=\"T_53c87_row0_col2\" class=\"data row0 col2\" >0.9938</td>\n",
       "      <td id=\"T_53c87_row0_col3\" class=\"data row0 col3\" >0.9550</td>\n",
       "      <td id=\"T_53c87_row0_col4\" class=\"data row0 col4\" >0.8933</td>\n",
       "      <td id=\"T_53c87_row0_col5\" class=\"data row0 col5\" >0.9124</td>\n",
       "      <td id=\"T_53c87_row0_col6\" class=\"data row0 col6\" >0.6505</td>\n",
       "      <td id=\"T_53c87_row0_col7\" class=\"data row0 col7\" >0.6702</td>\n",
       "      <td id=\"T_53c87_row0_col8\" class=\"data row0 col8\" >0.0320</td>\n",
       "    </tr>\n",
       "  </tbody>\n",
       "</table>\n"
      ],
      "text/plain": [
       "<pandas.io.formats.style.Styler at 0x27fe2702290>"
      ]
     },
     "metadata": {},
     "output_type": "display_data"
    },
    {
     "data": {
      "application/vnd.jupyter.widget-view+json": {
       "model_id": "2b6990772d7f4ca0aece678d67170154",
       "version_major": 2,
       "version_minor": 0
      },
      "text/plain": [
       "Processing:   0%|          | 0/9 [00:00<?, ?it/s]"
      ]
     },
     "metadata": {},
     "output_type": "display_data"
    },
    {
     "data": {
      "text/html": [],
      "text/plain": [
       "<IPython.core.display.HTML object>"
      ]
     },
     "metadata": {},
     "output_type": "display_data"
    },
    {
     "data": {
      "text/html": [],
      "text/plain": [
       "<IPython.core.display.HTML object>"
      ]
     },
     "metadata": {},
     "output_type": "display_data"
    },
    {
     "data": {
      "text/html": [],
      "text/plain": [
       "<IPython.core.display.HTML object>"
      ]
     },
     "metadata": {},
     "output_type": "display_data"
    },
    {
     "data": {
      "text/html": [
       "<style type=\"text/css\">\n",
       "#T_0aa4a th {\n",
       "  text-align: left;\n",
       "}\n",
       "#T_0aa4a_row0_col0 {\n",
       "  text-align: left;\n",
       "}\n",
       "#T_0aa4a_row0_col1, #T_0aa4a_row0_col2, #T_0aa4a_row0_col3, #T_0aa4a_row0_col4, #T_0aa4a_row0_col5, #T_0aa4a_row0_col6, #T_0aa4a_row0_col7 {\n",
       "  text-align: left;\n",
       "  background-color: yellow;\n",
       "}\n",
       "#T_0aa4a_row0_col8 {\n",
       "  text-align: left;\n",
       "  background-color: yellow;\n",
       "  background-color: lightgrey;\n",
       "}\n",
       "</style>\n",
       "<table id=\"T_0aa4a\">\n",
       "  <thead>\n",
       "    <tr>\n",
       "      <th class=\"blank level0\" >&nbsp;</th>\n",
       "      <th id=\"T_0aa4a_level0_col0\" class=\"col_heading level0 col0\" >Model</th>\n",
       "      <th id=\"T_0aa4a_level0_col1\" class=\"col_heading level0 col1\" >Accuracy</th>\n",
       "      <th id=\"T_0aa4a_level0_col2\" class=\"col_heading level0 col2\" >AUC</th>\n",
       "      <th id=\"T_0aa4a_level0_col3\" class=\"col_heading level0 col3\" >Recall</th>\n",
       "      <th id=\"T_0aa4a_level0_col4\" class=\"col_heading level0 col4\" >Prec.</th>\n",
       "      <th id=\"T_0aa4a_level0_col5\" class=\"col_heading level0 col5\" >F1</th>\n",
       "      <th id=\"T_0aa4a_level0_col6\" class=\"col_heading level0 col6\" >Kappa</th>\n",
       "      <th id=\"T_0aa4a_level0_col7\" class=\"col_heading level0 col7\" >MCC</th>\n",
       "      <th id=\"T_0aa4a_level0_col8\" class=\"col_heading level0 col8\" >TT (Sec)</th>\n",
       "    </tr>\n",
       "  </thead>\n",
       "  <tbody>\n",
       "    <tr>\n",
       "      <th id=\"T_0aa4a_level0_row0\" class=\"row_heading level0 row0\" >rf</th>\n",
       "      <td id=\"T_0aa4a_row0_col0\" class=\"data row0 col0\" >Random Forest Classifier</td>\n",
       "      <td id=\"T_0aa4a_row0_col1\" class=\"data row0 col1\" >0.8405</td>\n",
       "      <td id=\"T_0aa4a_row0_col2\" class=\"data row0 col2\" >0.9438</td>\n",
       "      <td id=\"T_0aa4a_row0_col3\" class=\"data row0 col3\" >0.9550</td>\n",
       "      <td id=\"T_0aa4a_row0_col4\" class=\"data row0 col4\" >0.8648</td>\n",
       "      <td id=\"T_0aa4a_row0_col5\" class=\"data row0 col5\" >0.8957</td>\n",
       "      <td id=\"T_0aa4a_row0_col6\" class=\"data row0 col6\" >0.5505</td>\n",
       "      <td id=\"T_0aa4a_row0_col7\" class=\"data row0 col7\" >0.5702</td>\n",
       "      <td id=\"T_0aa4a_row0_col8\" class=\"data row0 col8\" >0.0870</td>\n",
       "    </tr>\n",
       "  </tbody>\n",
       "</table>\n"
      ],
      "text/plain": [
       "<pandas.io.formats.style.Styler at 0x27fe5853f50>"
      ]
     },
     "metadata": {},
     "output_type": "display_data"
    },
    {
     "data": {
      "application/vnd.jupyter.widget-view+json": {
       "model_id": "7aba8bad3aae4f4086b5d7695875ec83",
       "version_major": 2,
       "version_minor": 0
      },
      "text/plain": [
       "Processing:   0%|          | 0/9 [00:00<?, ?it/s]"
      ]
     },
     "metadata": {},
     "output_type": "display_data"
    },
    {
     "data": {
      "text/html": [],
      "text/plain": [
       "<IPython.core.display.HTML object>"
      ]
     },
     "metadata": {},
     "output_type": "display_data"
    },
    {
     "data": {
      "text/html": [],
      "text/plain": [
       "<IPython.core.display.HTML object>"
      ]
     },
     "metadata": {},
     "output_type": "display_data"
    },
    {
     "data": {
      "text/html": [],
      "text/plain": [
       "<IPython.core.display.HTML object>"
      ]
     },
     "metadata": {},
     "output_type": "display_data"
    },
    {
     "data": {
      "text/html": [
       "<style type=\"text/css\">\n",
       "#T_e9559 th {\n",
       "  text-align: left;\n",
       "}\n",
       "#T_e9559_row0_col0 {\n",
       "  text-align: left;\n",
       "}\n",
       "#T_e9559_row0_col1, #T_e9559_row0_col2, #T_e9559_row0_col3, #T_e9559_row0_col4, #T_e9559_row0_col5, #T_e9559_row0_col6, #T_e9559_row0_col7 {\n",
       "  text-align: left;\n",
       "  background-color: yellow;\n",
       "}\n",
       "#T_e9559_row0_col8 {\n",
       "  text-align: left;\n",
       "  background-color: yellow;\n",
       "  background-color: lightgrey;\n",
       "}\n",
       "</style>\n",
       "<table id=\"T_e9559\">\n",
       "  <thead>\n",
       "    <tr>\n",
       "      <th class=\"blank level0\" >&nbsp;</th>\n",
       "      <th id=\"T_e9559_level0_col0\" class=\"col_heading level0 col0\" >Model</th>\n",
       "      <th id=\"T_e9559_level0_col1\" class=\"col_heading level0 col1\" >Accuracy</th>\n",
       "      <th id=\"T_e9559_level0_col2\" class=\"col_heading level0 col2\" >AUC</th>\n",
       "      <th id=\"T_e9559_level0_col3\" class=\"col_heading level0 col3\" >Recall</th>\n",
       "      <th id=\"T_e9559_level0_col4\" class=\"col_heading level0 col4\" >Prec.</th>\n",
       "      <th id=\"T_e9559_level0_col5\" class=\"col_heading level0 col5\" >F1</th>\n",
       "      <th id=\"T_e9559_level0_col6\" class=\"col_heading level0 col6\" >Kappa</th>\n",
       "      <th id=\"T_e9559_level0_col7\" class=\"col_heading level0 col7\" >MCC</th>\n",
       "      <th id=\"T_e9559_level0_col8\" class=\"col_heading level0 col8\" >TT (Sec)</th>\n",
       "    </tr>\n",
       "  </thead>\n",
       "  <tbody>\n",
       "    <tr>\n",
       "      <th id=\"T_e9559_level0_row0\" class=\"row_heading level0 row0\" >ada</th>\n",
       "      <td id=\"T_e9559_row0_col0\" class=\"data row0 col0\" >Ada Boost Classifier</td>\n",
       "      <td id=\"T_e9559_row0_col1\" class=\"data row0 col1\" >0.8405</td>\n",
       "      <td id=\"T_e9559_row0_col2\" class=\"data row0 col2\" >0.8875</td>\n",
       "      <td id=\"T_e9559_row0_col3\" class=\"data row0 col3\" >0.9300</td>\n",
       "      <td id=\"T_e9559_row0_col4\" class=\"data row0 col4\" >0.8650</td>\n",
       "      <td id=\"T_e9559_row0_col5\" class=\"data row0 col5\" >0.8894</td>\n",
       "      <td id=\"T_e9559_row0_col6\" class=\"data row0 col6\" >0.5948</td>\n",
       "      <td id=\"T_e9559_row0_col7\" class=\"data row0 col7\" >0.6168</td>\n",
       "      <td id=\"T_e9559_row0_col8\" class=\"data row0 col8\" >0.0480</td>\n",
       "    </tr>\n",
       "  </tbody>\n",
       "</table>\n"
      ],
      "text/plain": [
       "<pandas.io.formats.style.Styler at 0x27fe5766a90>"
      ]
     },
     "metadata": {},
     "output_type": "display_data"
    },
    {
     "data": {
      "application/vnd.jupyter.widget-view+json": {
       "model_id": "a26b89f29c7b4789b2a71a774d000dbb",
       "version_major": 2,
       "version_minor": 0
      },
      "text/plain": [
       "Processing:   0%|          | 0/9 [00:00<?, ?it/s]"
      ]
     },
     "metadata": {},
     "output_type": "display_data"
    },
    {
     "data": {
      "text/html": [],
      "text/plain": [
       "<IPython.core.display.HTML object>"
      ]
     },
     "metadata": {},
     "output_type": "display_data"
    },
    {
     "data": {
      "text/html": [],
      "text/plain": [
       "<IPython.core.display.HTML object>"
      ]
     },
     "metadata": {},
     "output_type": "display_data"
    },
    {
     "data": {
      "text/html": [],
      "text/plain": [
       "<IPython.core.display.HTML object>"
      ]
     },
     "metadata": {},
     "output_type": "display_data"
    },
    {
     "data": {
      "text/html": [
       "<style type=\"text/css\">\n",
       "#T_b6ecf th {\n",
       "  text-align: left;\n",
       "}\n",
       "#T_b6ecf_row0_col0 {\n",
       "  text-align: left;\n",
       "}\n",
       "#T_b6ecf_row0_col1, #T_b6ecf_row0_col2, #T_b6ecf_row0_col3, #T_b6ecf_row0_col4, #T_b6ecf_row0_col5, #T_b6ecf_row0_col6, #T_b6ecf_row0_col7 {\n",
       "  text-align: left;\n",
       "  background-color: yellow;\n",
       "}\n",
       "#T_b6ecf_row0_col8 {\n",
       "  text-align: left;\n",
       "  background-color: yellow;\n",
       "  background-color: lightgrey;\n",
       "}\n",
       "</style>\n",
       "<table id=\"T_b6ecf\">\n",
       "  <thead>\n",
       "    <tr>\n",
       "      <th class=\"blank level0\" >&nbsp;</th>\n",
       "      <th id=\"T_b6ecf_level0_col0\" class=\"col_heading level0 col0\" >Model</th>\n",
       "      <th id=\"T_b6ecf_level0_col1\" class=\"col_heading level0 col1\" >Accuracy</th>\n",
       "      <th id=\"T_b6ecf_level0_col2\" class=\"col_heading level0 col2\" >AUC</th>\n",
       "      <th id=\"T_b6ecf_level0_col3\" class=\"col_heading level0 col3\" >Recall</th>\n",
       "      <th id=\"T_b6ecf_level0_col4\" class=\"col_heading level0 col4\" >Prec.</th>\n",
       "      <th id=\"T_b6ecf_level0_col5\" class=\"col_heading level0 col5\" >F1</th>\n",
       "      <th id=\"T_b6ecf_level0_col6\" class=\"col_heading level0 col6\" >Kappa</th>\n",
       "      <th id=\"T_b6ecf_level0_col7\" class=\"col_heading level0 col7\" >MCC</th>\n",
       "      <th id=\"T_b6ecf_level0_col8\" class=\"col_heading level0 col8\" >TT (Sec)</th>\n",
       "    </tr>\n",
       "  </thead>\n",
       "  <tbody>\n",
       "    <tr>\n",
       "      <th id=\"T_b6ecf_level0_row0\" class=\"row_heading level0 row0\" >nb</th>\n",
       "      <td id=\"T_b6ecf_row0_col0\" class=\"data row0 col0\" >Naive Bayes</td>\n",
       "      <td id=\"T_b6ecf_row0_col1\" class=\"data row0 col1\" >0.8381</td>\n",
       "      <td id=\"T_b6ecf_row0_col2\" class=\"data row0 col2\" >0.8900</td>\n",
       "      <td id=\"T_b6ecf_row0_col3\" class=\"data row0 col3\" >0.8800</td>\n",
       "      <td id=\"T_b6ecf_row0_col4\" class=\"data row0 col4\" >0.8767</td>\n",
       "      <td id=\"T_b6ecf_row0_col5\" class=\"data row0 col5\" >0.8719</td>\n",
       "      <td id=\"T_b6ecf_row0_col6\" class=\"data row0 col6\" >0.6427</td>\n",
       "      <td id=\"T_b6ecf_row0_col7\" class=\"data row0 col7\" >0.6641</td>\n",
       "      <td id=\"T_b6ecf_row0_col8\" class=\"data row0 col8\" >0.0200</td>\n",
       "    </tr>\n",
       "  </tbody>\n",
       "</table>\n"
      ],
      "text/plain": [
       "<pandas.io.formats.style.Styler at 0x27fe2707890>"
      ]
     },
     "metadata": {},
     "output_type": "display_data"
    },
    {
     "data": {
      "application/vnd.jupyter.widget-view+json": {
       "model_id": "26c95cae40b7476e84c823113aa19558",
       "version_major": 2,
       "version_minor": 0
      },
      "text/plain": [
       "Processing:   0%|          | 0/9 [00:00<?, ?it/s]"
      ]
     },
     "metadata": {},
     "output_type": "display_data"
    },
    {
     "data": {
      "text/html": [],
      "text/plain": [
       "<IPython.core.display.HTML object>"
      ]
     },
     "metadata": {},
     "output_type": "display_data"
    },
    {
     "data": {
      "text/html": [],
      "text/plain": [
       "<IPython.core.display.HTML object>"
      ]
     },
     "metadata": {},
     "output_type": "display_data"
    },
    {
     "data": {
      "text/html": [],
      "text/plain": [
       "<IPython.core.display.HTML object>"
      ]
     },
     "metadata": {},
     "output_type": "display_data"
    },
    {
     "data": {
      "text/html": [
       "<style type=\"text/css\">\n",
       "#T_6613c th {\n",
       "  text-align: left;\n",
       "}\n",
       "#T_6613c_row0_col0 {\n",
       "  text-align: left;\n",
       "}\n",
       "#T_6613c_row0_col1, #T_6613c_row0_col2, #T_6613c_row0_col3, #T_6613c_row0_col4, #T_6613c_row0_col5, #T_6613c_row0_col6, #T_6613c_row0_col7 {\n",
       "  text-align: left;\n",
       "  background-color: yellow;\n",
       "}\n",
       "#T_6613c_row0_col8 {\n",
       "  text-align: left;\n",
       "  background-color: yellow;\n",
       "  background-color: lightgrey;\n",
       "}\n",
       "</style>\n",
       "<table id=\"T_6613c\">\n",
       "  <thead>\n",
       "    <tr>\n",
       "      <th class=\"blank level0\" >&nbsp;</th>\n",
       "      <th id=\"T_6613c_level0_col0\" class=\"col_heading level0 col0\" >Model</th>\n",
       "      <th id=\"T_6613c_level0_col1\" class=\"col_heading level0 col1\" >Accuracy</th>\n",
       "      <th id=\"T_6613c_level0_col2\" class=\"col_heading level0 col2\" >AUC</th>\n",
       "      <th id=\"T_6613c_level0_col3\" class=\"col_heading level0 col3\" >Recall</th>\n",
       "      <th id=\"T_6613c_level0_col4\" class=\"col_heading level0 col4\" >Prec.</th>\n",
       "      <th id=\"T_6613c_level0_col5\" class=\"col_heading level0 col5\" >F1</th>\n",
       "      <th id=\"T_6613c_level0_col6\" class=\"col_heading level0 col6\" >Kappa</th>\n",
       "      <th id=\"T_6613c_level0_col7\" class=\"col_heading level0 col7\" >MCC</th>\n",
       "      <th id=\"T_6613c_level0_col8\" class=\"col_heading level0 col8\" >TT (Sec)</th>\n",
       "    </tr>\n",
       "  </thead>\n",
       "  <tbody>\n",
       "    <tr>\n",
       "      <th id=\"T_6613c_level0_row0\" class=\"row_heading level0 row0\" >xgboost</th>\n",
       "      <td id=\"T_6613c_row0_col0\" class=\"data row0 col0\" >Extreme Gradient Boosting</td>\n",
       "      <td id=\"T_6613c_row0_col1\" class=\"data row0 col1\" >0.8381</td>\n",
       "      <td id=\"T_6613c_row0_col2\" class=\"data row0 col2\" >0.9025</td>\n",
       "      <td id=\"T_6613c_row0_col3\" class=\"data row0 col3\" >0.9300</td>\n",
       "      <td id=\"T_6613c_row0_col4\" class=\"data row0 col4\" >0.8717</td>\n",
       "      <td id=\"T_6613c_row0_col5\" class=\"data row0 col5\" >0.8894</td>\n",
       "      <td id=\"T_6613c_row0_col6\" class=\"data row0 col6\" >0.5772</td>\n",
       "      <td id=\"T_6613c_row0_col7\" class=\"data row0 col7\" >0.5965</td>\n",
       "      <td id=\"T_6613c_row0_col8\" class=\"data row0 col8\" >0.0360</td>\n",
       "    </tr>\n",
       "  </tbody>\n",
       "</table>\n"
      ],
      "text/plain": [
       "<pandas.io.formats.style.Styler at 0x27fe55638d0>"
      ]
     },
     "metadata": {},
     "output_type": "display_data"
    },
    {
     "data": {
      "application/vnd.jupyter.widget-view+json": {
       "model_id": "37121148d13b4de5be8d7f7b97aeae13",
       "version_major": 2,
       "version_minor": 0
      },
      "text/plain": [
       "Processing:   0%|          | 0/9 [00:00<?, ?it/s]"
      ]
     },
     "metadata": {},
     "output_type": "display_data"
    },
    {
     "data": {
      "text/html": [],
      "text/plain": [
       "<IPython.core.display.HTML object>"
      ]
     },
     "metadata": {},
     "output_type": "display_data"
    },
    {
     "data": {
      "text/html": [],
      "text/plain": [
       "<IPython.core.display.HTML object>"
      ]
     },
     "metadata": {},
     "output_type": "display_data"
    },
    {
     "data": {
      "text/html": [],
      "text/plain": [
       "<IPython.core.display.HTML object>"
      ]
     },
     "metadata": {},
     "output_type": "display_data"
    },
    {
     "data": {
      "text/html": [
       "<style type=\"text/css\">\n",
       "#T_ce7b6 th {\n",
       "  text-align: left;\n",
       "}\n",
       "#T_ce7b6_row0_col0 {\n",
       "  text-align: left;\n",
       "}\n",
       "#T_ce7b6_row0_col1, #T_ce7b6_row0_col2, #T_ce7b6_row0_col3, #T_ce7b6_row0_col4, #T_ce7b6_row0_col5, #T_ce7b6_row0_col6, #T_ce7b6_row0_col7 {\n",
       "  text-align: left;\n",
       "  background-color: yellow;\n",
       "}\n",
       "#T_ce7b6_row0_col8 {\n",
       "  text-align: left;\n",
       "  background-color: yellow;\n",
       "  background-color: lightgrey;\n",
       "}\n",
       "</style>\n",
       "<table id=\"T_ce7b6\">\n",
       "  <thead>\n",
       "    <tr>\n",
       "      <th class=\"blank level0\" >&nbsp;</th>\n",
       "      <th id=\"T_ce7b6_level0_col0\" class=\"col_heading level0 col0\" >Model</th>\n",
       "      <th id=\"T_ce7b6_level0_col1\" class=\"col_heading level0 col1\" >Accuracy</th>\n",
       "      <th id=\"T_ce7b6_level0_col2\" class=\"col_heading level0 col2\" >AUC</th>\n",
       "      <th id=\"T_ce7b6_level0_col3\" class=\"col_heading level0 col3\" >Recall</th>\n",
       "      <th id=\"T_ce7b6_level0_col4\" class=\"col_heading level0 col4\" >Prec.</th>\n",
       "      <th id=\"T_ce7b6_level0_col5\" class=\"col_heading level0 col5\" >F1</th>\n",
       "      <th id=\"T_ce7b6_level0_col6\" class=\"col_heading level0 col6\" >Kappa</th>\n",
       "      <th id=\"T_ce7b6_level0_col7\" class=\"col_heading level0 col7\" >MCC</th>\n",
       "      <th id=\"T_ce7b6_level0_col8\" class=\"col_heading level0 col8\" >TT (Sec)</th>\n",
       "    </tr>\n",
       "  </thead>\n",
       "  <tbody>\n",
       "    <tr>\n",
       "      <th id=\"T_ce7b6_level0_row0\" class=\"row_heading level0 row0\" >lightgbm</th>\n",
       "      <td id=\"T_ce7b6_row0_col0\" class=\"data row0 col0\" >Light Gradient Boosting Machine</td>\n",
       "      <td id=\"T_ce7b6_row0_col1\" class=\"data row0 col1\" >0.8071</td>\n",
       "      <td id=\"T_ce7b6_row0_col2\" class=\"data row0 col2\" >0.9125</td>\n",
       "      <td id=\"T_ce7b6_row0_col3\" class=\"data row0 col3\" >0.9050</td>\n",
       "      <td id=\"T_ce7b6_row0_col4\" class=\"data row0 col4\" >0.8514</td>\n",
       "      <td id=\"T_ce7b6_row0_col5\" class=\"data row0 col5\" >0.8640</td>\n",
       "      <td id=\"T_ce7b6_row0_col6\" class=\"data row0 col6\" >0.4934</td>\n",
       "      <td id=\"T_ce7b6_row0_col7\" class=\"data row0 col7\" >0.5070</td>\n",
       "      <td id=\"T_ce7b6_row0_col8\" class=\"data row0 col8\" >0.0330</td>\n",
       "    </tr>\n",
       "  </tbody>\n",
       "</table>\n"
      ],
      "text/plain": [
       "<pandas.io.formats.style.Styler at 0x27fe55a7a50>"
      ]
     },
     "metadata": {},
     "output_type": "display_data"
    },
    {
     "data": {
      "application/vnd.jupyter.widget-view+json": {
       "model_id": "c7776aa416e541bfa7d90614aec2556a",
       "version_major": 2,
       "version_minor": 0
      },
      "text/plain": [
       "Processing:   0%|          | 0/9 [00:00<?, ?it/s]"
      ]
     },
     "metadata": {},
     "output_type": "display_data"
    },
    {
     "data": {
      "text/html": [],
      "text/plain": [
       "<IPython.core.display.HTML object>"
      ]
     },
     "metadata": {},
     "output_type": "display_data"
    },
    {
     "data": {
      "text/html": [],
      "text/plain": [
       "<IPython.core.display.HTML object>"
      ]
     },
     "metadata": {},
     "output_type": "display_data"
    },
    {
     "data": {
      "text/html": [],
      "text/plain": [
       "<IPython.core.display.HTML object>"
      ]
     },
     "metadata": {},
     "output_type": "display_data"
    },
    {
     "data": {
      "text/html": [
       "<style type=\"text/css\">\n",
       "#T_c854b th {\n",
       "  text-align: left;\n",
       "}\n",
       "#T_c854b_row0_col0 {\n",
       "  text-align: left;\n",
       "}\n",
       "#T_c854b_row0_col1, #T_c854b_row0_col2, #T_c854b_row0_col3, #T_c854b_row0_col4, #T_c854b_row0_col5, #T_c854b_row0_col6, #T_c854b_row0_col7 {\n",
       "  text-align: left;\n",
       "  background-color: yellow;\n",
       "}\n",
       "#T_c854b_row0_col8 {\n",
       "  text-align: left;\n",
       "  background-color: yellow;\n",
       "  background-color: lightgrey;\n",
       "}\n",
       "</style>\n",
       "<table id=\"T_c854b\">\n",
       "  <thead>\n",
       "    <tr>\n",
       "      <th class=\"blank level0\" >&nbsp;</th>\n",
       "      <th id=\"T_c854b_level0_col0\" class=\"col_heading level0 col0\" >Model</th>\n",
       "      <th id=\"T_c854b_level0_col1\" class=\"col_heading level0 col1\" >Accuracy</th>\n",
       "      <th id=\"T_c854b_level0_col2\" class=\"col_heading level0 col2\" >AUC</th>\n",
       "      <th id=\"T_c854b_level0_col3\" class=\"col_heading level0 col3\" >Recall</th>\n",
       "      <th id=\"T_c854b_level0_col4\" class=\"col_heading level0 col4\" >Prec.</th>\n",
       "      <th id=\"T_c854b_level0_col5\" class=\"col_heading level0 col5\" >F1</th>\n",
       "      <th id=\"T_c854b_level0_col6\" class=\"col_heading level0 col6\" >Kappa</th>\n",
       "      <th id=\"T_c854b_level0_col7\" class=\"col_heading level0 col7\" >MCC</th>\n",
       "      <th id=\"T_c854b_level0_col8\" class=\"col_heading level0 col8\" >TT (Sec)</th>\n",
       "    </tr>\n",
       "  </thead>\n",
       "  <tbody>\n",
       "    <tr>\n",
       "      <th id=\"T_c854b_level0_row0\" class=\"row_heading level0 row0\" >dt</th>\n",
       "      <td id=\"T_c854b_row0_col0\" class=\"data row0 col0\" >Decision Tree Classifier</td>\n",
       "      <td id=\"T_c854b_row0_col1\" class=\"data row0 col1\" >0.8048</td>\n",
       "      <td id=\"T_c854b_row0_col2\" class=\"data row0 col2\" >0.7675</td>\n",
       "      <td id=\"T_c854b_row0_col3\" class=\"data row0 col3\" >0.8850</td>\n",
       "      <td id=\"T_c854b_row0_col4\" class=\"data row0 col4\" >0.8567</td>\n",
       "      <td id=\"T_c854b_row0_col5\" class=\"data row0 col5\" >0.8606</td>\n",
       "      <td id=\"T_c854b_row0_col6\" class=\"data row0 col6\" >0.5247</td>\n",
       "      <td id=\"T_c854b_row0_col7\" class=\"data row0 col7\" >0.5364</td>\n",
       "      <td id=\"T_c854b_row0_col8\" class=\"data row0 col8\" >0.0190</td>\n",
       "    </tr>\n",
       "  </tbody>\n",
       "</table>\n"
      ],
      "text/plain": [
       "<pandas.io.formats.style.Styler at 0x27fe5850050>"
      ]
     },
     "metadata": {},
     "output_type": "display_data"
    },
    {
     "data": {
      "application/vnd.jupyter.widget-view+json": {
       "model_id": "c6f4741c9cd24a26bf94043af903b2b0",
       "version_major": 2,
       "version_minor": 0
      },
      "text/plain": [
       "Processing:   0%|          | 0/9 [00:00<?, ?it/s]"
      ]
     },
     "metadata": {},
     "output_type": "display_data"
    },
    {
     "data": {
      "text/html": [],
      "text/plain": [
       "<IPython.core.display.HTML object>"
      ]
     },
     "metadata": {},
     "output_type": "display_data"
    },
    {
     "data": {
      "text/html": [],
      "text/plain": [
       "<IPython.core.display.HTML object>"
      ]
     },
     "metadata": {},
     "output_type": "display_data"
    },
    {
     "data": {
      "text/html": [],
      "text/plain": [
       "<IPython.core.display.HTML object>"
      ]
     },
     "metadata": {},
     "output_type": "display_data"
    },
    {
     "data": {
      "text/html": [
       "<style type=\"text/css\">\n",
       "#T_e979f th {\n",
       "  text-align: left;\n",
       "}\n",
       "#T_e979f_row0_col0 {\n",
       "  text-align: left;\n",
       "}\n",
       "#T_e979f_row0_col1, #T_e979f_row0_col2, #T_e979f_row0_col3, #T_e979f_row0_col4, #T_e979f_row0_col5, #T_e979f_row0_col6, #T_e979f_row0_col7 {\n",
       "  text-align: left;\n",
       "  background-color: yellow;\n",
       "}\n",
       "#T_e979f_row0_col8 {\n",
       "  text-align: left;\n",
       "  background-color: yellow;\n",
       "  background-color: lightgrey;\n",
       "}\n",
       "</style>\n",
       "<table id=\"T_e979f\">\n",
       "  <thead>\n",
       "    <tr>\n",
       "      <th class=\"blank level0\" >&nbsp;</th>\n",
       "      <th id=\"T_e979f_level0_col0\" class=\"col_heading level0 col0\" >Model</th>\n",
       "      <th id=\"T_e979f_level0_col1\" class=\"col_heading level0 col1\" >Accuracy</th>\n",
       "      <th id=\"T_e979f_level0_col2\" class=\"col_heading level0 col2\" >AUC</th>\n",
       "      <th id=\"T_e979f_level0_col3\" class=\"col_heading level0 col3\" >Recall</th>\n",
       "      <th id=\"T_e979f_level0_col4\" class=\"col_heading level0 col4\" >Prec.</th>\n",
       "      <th id=\"T_e979f_level0_col5\" class=\"col_heading level0 col5\" >F1</th>\n",
       "      <th id=\"T_e979f_level0_col6\" class=\"col_heading level0 col6\" >Kappa</th>\n",
       "      <th id=\"T_e979f_level0_col7\" class=\"col_heading level0 col7\" >MCC</th>\n",
       "      <th id=\"T_e979f_level0_col8\" class=\"col_heading level0 col8\" >TT (Sec)</th>\n",
       "    </tr>\n",
       "  </thead>\n",
       "  <tbody>\n",
       "    <tr>\n",
       "      <th id=\"T_e979f_level0_row0\" class=\"row_heading level0 row0\" >gbc</th>\n",
       "      <td id=\"T_e979f_row0_col0\" class=\"data row0 col0\" >Gradient Boosting Classifier</td>\n",
       "      <td id=\"T_e979f_row0_col1\" class=\"data row0 col1\" >0.7881</td>\n",
       "      <td id=\"T_e979f_row0_col2\" class=\"data row0 col2\" >0.8088</td>\n",
       "      <td id=\"T_e979f_row0_col3\" class=\"data row0 col3\" >0.8800</td>\n",
       "      <td id=\"T_e979f_row0_col4\" class=\"data row0 col4\" >0.8217</td>\n",
       "      <td id=\"T_e979f_row0_col5\" class=\"data row0 col5\" >0.8370</td>\n",
       "      <td id=\"T_e979f_row0_col6\" class=\"data row0 col6\" >0.4905</td>\n",
       "      <td id=\"T_e979f_row0_col7\" class=\"data row0 col7\" >0.5008</td>\n",
       "      <td id=\"T_e979f_row0_col8\" class=\"data row0 col8\" >0.0580</td>\n",
       "    </tr>\n",
       "  </tbody>\n",
       "</table>\n"
      ],
      "text/plain": [
       "<pandas.io.formats.style.Styler at 0x27fe57f39d0>"
      ]
     },
     "metadata": {},
     "output_type": "display_data"
    },
    {
     "data": {
      "application/vnd.jupyter.widget-view+json": {
       "model_id": "8b880b212e5a43a78b4a949bf0f252c0",
       "version_major": 2,
       "version_minor": 0
      },
      "text/plain": [
       "Processing:   0%|          | 0/9 [00:00<?, ?it/s]"
      ]
     },
     "metadata": {},
     "output_type": "display_data"
    },
    {
     "data": {
      "text/html": [],
      "text/plain": [
       "<IPython.core.display.HTML object>"
      ]
     },
     "metadata": {},
     "output_type": "display_data"
    },
    {
     "data": {
      "text/html": [],
      "text/plain": [
       "<IPython.core.display.HTML object>"
      ]
     },
     "metadata": {},
     "output_type": "display_data"
    },
    {
     "data": {
      "text/html": [],
      "text/plain": [
       "<IPython.core.display.HTML object>"
      ]
     },
     "metadata": {},
     "output_type": "display_data"
    },
    {
     "data": {
      "text/html": [
       "<style type=\"text/css\">\n",
       "#T_dc00d th {\n",
       "  text-align: left;\n",
       "}\n",
       "#T_dc00d_row0_col0 {\n",
       "  text-align: left;\n",
       "}\n",
       "#T_dc00d_row0_col1, #T_dc00d_row0_col2, #T_dc00d_row0_col3, #T_dc00d_row0_col4, #T_dc00d_row0_col5, #T_dc00d_row0_col6, #T_dc00d_row0_col7 {\n",
       "  text-align: left;\n",
       "  background-color: yellow;\n",
       "}\n",
       "#T_dc00d_row0_col8 {\n",
       "  text-align: left;\n",
       "  background-color: yellow;\n",
       "  background-color: lightgrey;\n",
       "}\n",
       "</style>\n",
       "<table id=\"T_dc00d\">\n",
       "  <thead>\n",
       "    <tr>\n",
       "      <th class=\"blank level0\" >&nbsp;</th>\n",
       "      <th id=\"T_dc00d_level0_col0\" class=\"col_heading level0 col0\" >Model</th>\n",
       "      <th id=\"T_dc00d_level0_col1\" class=\"col_heading level0 col1\" >Accuracy</th>\n",
       "      <th id=\"T_dc00d_level0_col2\" class=\"col_heading level0 col2\" >AUC</th>\n",
       "      <th id=\"T_dc00d_level0_col3\" class=\"col_heading level0 col3\" >Recall</th>\n",
       "      <th id=\"T_dc00d_level0_col4\" class=\"col_heading level0 col4\" >Prec.</th>\n",
       "      <th id=\"T_dc00d_level0_col5\" class=\"col_heading level0 col5\" >F1</th>\n",
       "      <th id=\"T_dc00d_level0_col6\" class=\"col_heading level0 col6\" >Kappa</th>\n",
       "      <th id=\"T_dc00d_level0_col7\" class=\"col_heading level0 col7\" >MCC</th>\n",
       "      <th id=\"T_dc00d_level0_col8\" class=\"col_heading level0 col8\" >TT (Sec)</th>\n",
       "    </tr>\n",
       "  </thead>\n",
       "  <tbody>\n",
       "    <tr>\n",
       "      <th id=\"T_dc00d_level0_row0\" class=\"row_heading level0 row0\" >svm</th>\n",
       "      <td id=\"T_dc00d_row0_col0\" class=\"data row0 col0\" >SVM - Linear Kernel</td>\n",
       "      <td id=\"T_dc00d_row0_col1\" class=\"data row0 col1\" >0.7214</td>\n",
       "      <td id=\"T_dc00d_row0_col2\" class=\"data row0 col2\" >0.9275</td>\n",
       "      <td id=\"T_dc00d_row0_col3\" class=\"data row0 col3\" >0.6500</td>\n",
       "      <td id=\"T_dc00d_row0_col4\" class=\"data row0 col4\" >0.8633</td>\n",
       "      <td id=\"T_dc00d_row0_col5\" class=\"data row0 col5\" >0.6992</td>\n",
       "      <td id=\"T_dc00d_row0_col6\" class=\"data row0 col6\" >0.5114</td>\n",
       "      <td id=\"T_dc00d_row0_col7\" class=\"data row0 col7\" >0.5646</td>\n",
       "      <td id=\"T_dc00d_row0_col8\" class=\"data row0 col8\" >0.0150</td>\n",
       "    </tr>\n",
       "  </tbody>\n",
       "</table>\n"
      ],
      "text/plain": [
       "<pandas.io.formats.style.Styler at 0x27fe6ae5dd0>"
      ]
     },
     "metadata": {},
     "output_type": "display_data"
    },
    {
     "data": {
      "application/vnd.jupyter.widget-view+json": {
       "model_id": "14f7de5dce104b01b959dae1f6262240",
       "version_major": 2,
       "version_minor": 0
      },
      "text/plain": [
       "Processing:   0%|          | 0/9 [00:00<?, ?it/s]"
      ]
     },
     "metadata": {},
     "output_type": "display_data"
    },
    {
     "data": {
      "text/html": [],
      "text/plain": [
       "<IPython.core.display.HTML object>"
      ]
     },
     "metadata": {},
     "output_type": "display_data"
    },
    {
     "data": {
      "text/html": [],
      "text/plain": [
       "<IPython.core.display.HTML object>"
      ]
     },
     "metadata": {},
     "output_type": "display_data"
    },
    {
     "data": {
      "text/html": [],
      "text/plain": [
       "<IPython.core.display.HTML object>"
      ]
     },
     "metadata": {},
     "output_type": "display_data"
    },
    {
     "data": {
      "text/html": [
       "<style type=\"text/css\">\n",
       "#T_03dd5 th {\n",
       "  text-align: left;\n",
       "}\n",
       "#T_03dd5_row0_col0 {\n",
       "  text-align: left;\n",
       "}\n",
       "#T_03dd5_row0_col1, #T_03dd5_row0_col2, #T_03dd5_row0_col3, #T_03dd5_row0_col4, #T_03dd5_row0_col5, #T_03dd5_row0_col6, #T_03dd5_row0_col7 {\n",
       "  text-align: left;\n",
       "  background-color: yellow;\n",
       "}\n",
       "#T_03dd5_row0_col8 {\n",
       "  text-align: left;\n",
       "  background-color: yellow;\n",
       "  background-color: lightgrey;\n",
       "}\n",
       "</style>\n",
       "<table id=\"T_03dd5\">\n",
       "  <thead>\n",
       "    <tr>\n",
       "      <th class=\"blank level0\" >&nbsp;</th>\n",
       "      <th id=\"T_03dd5_level0_col0\" class=\"col_heading level0 col0\" >Model</th>\n",
       "      <th id=\"T_03dd5_level0_col1\" class=\"col_heading level0 col1\" >Accuracy</th>\n",
       "      <th id=\"T_03dd5_level0_col2\" class=\"col_heading level0 col2\" >AUC</th>\n",
       "      <th id=\"T_03dd5_level0_col3\" class=\"col_heading level0 col3\" >Recall</th>\n",
       "      <th id=\"T_03dd5_level0_col4\" class=\"col_heading level0 col4\" >Prec.</th>\n",
       "      <th id=\"T_03dd5_level0_col5\" class=\"col_heading level0 col5\" >F1</th>\n",
       "      <th id=\"T_03dd5_level0_col6\" class=\"col_heading level0 col6\" >Kappa</th>\n",
       "      <th id=\"T_03dd5_level0_col7\" class=\"col_heading level0 col7\" >MCC</th>\n",
       "      <th id=\"T_03dd5_level0_col8\" class=\"col_heading level0 col8\" >TT (Sec)</th>\n",
       "    </tr>\n",
       "  </thead>\n",
       "  <tbody>\n",
       "    <tr>\n",
       "      <th id=\"T_03dd5_level0_row0\" class=\"row_heading level0 row0\" >dummy</th>\n",
       "      <td id=\"T_03dd5_row0_col0\" class=\"data row0 col0\" >Dummy Classifier</td>\n",
       "      <td id=\"T_03dd5_row0_col1\" class=\"data row0 col1\" >0.6976</td>\n",
       "      <td id=\"T_03dd5_row0_col2\" class=\"data row0 col2\" >0.5000</td>\n",
       "      <td id=\"T_03dd5_row0_col3\" class=\"data row0 col3\" >1.0000</td>\n",
       "      <td id=\"T_03dd5_row0_col4\" class=\"data row0 col4\" >0.6976</td>\n",
       "      <td id=\"T_03dd5_row0_col5\" class=\"data row0 col5\" >0.8209</td>\n",
       "      <td id=\"T_03dd5_row0_col6\" class=\"data row0 col6\" >0.0000</td>\n",
       "      <td id=\"T_03dd5_row0_col7\" class=\"data row0 col7\" >0.0000</td>\n",
       "      <td id=\"T_03dd5_row0_col8\" class=\"data row0 col8\" >0.0150</td>\n",
       "    </tr>\n",
       "  </tbody>\n",
       "</table>\n"
      ],
      "text/plain": [
       "<pandas.io.formats.style.Styler at 0x27fe5a961d0>"
      ]
     },
     "metadata": {},
     "output_type": "display_data"
    },
    {
     "data": {
      "application/vnd.jupyter.widget-view+json": {
       "model_id": "d3d591f842af4ad4abd637c07780ff45",
       "version_major": 2,
       "version_minor": 0
      },
      "text/plain": [
       "Processing:   0%|          | 0/9 [00:00<?, ?it/s]"
      ]
     },
     "metadata": {},
     "output_type": "display_data"
    },
    {
     "data": {
      "text/html": [],
      "text/plain": [
       "<IPython.core.display.HTML object>"
      ]
     },
     "metadata": {},
     "output_type": "display_data"
    },
    {
     "data": {
      "text/html": [],
      "text/plain": [
       "<IPython.core.display.HTML object>"
      ]
     },
     "metadata": {},
     "output_type": "display_data"
    }
   ],
   "source": [
    "import pandas as pd\n",
    "from pycaret.classification import setup, compare_models, predict_model, finalize_model, pull\n",
    "from sklearn.metrics import accuracy_score, f1_score\n",
    "from sklearn.model_selection import train_test_split\n",
    "import joblib\n",
    "\n",
    "# Load the CSV file into a DataFrame\n",
    "df = pd.read_csv('../data/players_df_sin_reco.csv')\n",
    "\n",
    "# Select features (columns 7 to 20, 0-based index: 6 to 19)\n",
    "X = df.iloc[:, 6:20]\n",
    "\n",
    "# Select the 7th column from the end as the target\n",
    "y = df.iloc[:, -7]\n",
    "\n",
    "# Split data into training and testing sets\n",
    "X_train, X_test, y_train, y_test = train_test_split(X, y, test_size=0.2, random_state=42)\n",
    "\n",
    "# Create an empty DataFrame to store results\n",
    "fullback_df = pd.DataFrame(columns=['model', 'train_accuracy', 'test_accuracy', 'train_f1', 'test_f1', 'TT'])\n",
    "\n",
    "# Concatenate X_train and y_train into a DataFrame for PyCaret setup\n",
    "df_target = pd.concat([X_train, y_train], axis=1)\n",
    "\n",
    "# Setup PyCaret environment\n",
    "clf = setup(data=df_target, target=y.name, session_id=42)\n",
    "\n",
    "# Compare different models and store the results\n",
    "best_model = compare_models()  # This returns the top model\n",
    "compare_results = pull()  # Pulls all model results as a DataFrame\n",
    "\n",
    "# Define the mapping from model names to PyCaret identifiers\n",
    "model_mapping = {\n",
    "    'K Neighbors Classifier': 'knn',\n",
    "    'Random Forest Classifier': 'rf',\n",
    "    'Logistic Regression': 'lr',\n",
    "    'Decision Tree Classifier': 'dt',\n",
    "    'Ada Boost Classifier': 'ada',\n",
    "    'Gradient Boosting Classifier': 'gbc',\n",
    "    'Naive Bayes': 'nb',\n",
    "    'SVM - Linear Kernel': 'svm',\n",
    "    'Extra Trees Classifier': 'et',\n",
    "    'Light Gradient Boosting Machine': 'lightgbm',\n",
    "    'Ridge Classifier': 'ridge',\n",
    "    'Linear Discriminant Analysis': 'lda',\n",
    "    'Extreme Gradient Boosting': 'xgboost',\n",
    "    'Dummy Classifier': 'dummy'\n",
    "}\n",
    "\n",
    "# Loop over each model in the compare_results DataFrame\n",
    "for idx, row in compare_results.iterrows():\n",
    "    model_name = row['Model']\n",
    "    testing_time = row['TT (Sec)']\n",
    "\n",
    "    # Get the PyCaret identifier for the model\n",
    "    model_identifier = model_mapping.get(model_name)\n",
    "\n",
    "    # Instead of finalizing by the model name, select the model by identifier\n",
    "    if model_identifier:\n",
    "        best_model = compare_models(include=[model_identifier], n_select=1)\n",
    "\n",
    "        # Finalize the model (train it on the entire dataset)\n",
    "        final_model = finalize_model(best_model)\n",
    "\n",
    "        # Predict on train and test sets\n",
    "        predictions_train = predict_model(final_model, data=X_train)\n",
    "        predictions_test = predict_model(final_model, data=X_test)\n",
    "\n",
    "        # Calculate test accuracy and F1 score\n",
    "        y_pred_test = predictions_test['prediction_label']\n",
    "        test_accuracy = accuracy_score(y_test, y_pred_test)\n",
    "        test_f1 = f1_score(y_test, y_pred_test, average='weighted')\n",
    "\n",
    "        # Calculate train accuracy and F1 score\n",
    "        y_pred_train = predictions_train['prediction_label']\n",
    "        train_accuracy = accuracy_score(y_train, y_pred_train)\n",
    "        train_f1 = f1_score(y_train, y_pred_train, average='weighted')\n",
    "\n",
    "        # Append the metrics for each model to the results DataFrame\n",
    "        new_row = pd.DataFrame({\n",
    "            'model': model_name,\n",
    "            'train_accuracy': train_accuracy,\n",
    "            'test_accuracy': test_accuracy,\n",
    "            'train_f1': train_f1,\n",
    "            'test_f1': test_f1,\n",
    "            'TT': testing_time\n",
    "        }, index=[0])\n",
    "\n",
    "        fullback_df = pd.concat([fullback_df, new_row], ignore_index=True)\n"
   ]
  },
  {
   "cell_type": "code",
   "execution_count": 22,
   "metadata": {},
   "outputs": [
    {
     "data": {
      "text/html": [
       "<div>\n",
       "<style scoped>\n",
       "    .dataframe tbody tr th:only-of-type {\n",
       "        vertical-align: middle;\n",
       "    }\n",
       "\n",
       "    .dataframe tbody tr th {\n",
       "        vertical-align: top;\n",
       "    }\n",
       "\n",
       "    .dataframe thead th {\n",
       "        text-align: right;\n",
       "    }\n",
       "</style>\n",
       "<table border=\"1\" class=\"dataframe\">\n",
       "  <thead>\n",
       "    <tr style=\"text-align: right;\">\n",
       "      <th></th>\n",
       "      <th>model</th>\n",
       "      <th>train_accuracy</th>\n",
       "      <th>test_accuracy</th>\n",
       "      <th>train_f1</th>\n",
       "      <th>test_f1</th>\n",
       "      <th>TT</th>\n",
       "    </tr>\n",
       "  </thead>\n",
       "  <tbody>\n",
       "    <tr>\n",
       "      <th>0</th>\n",
       "      <td>Logistic Regression</td>\n",
       "      <td>1.000000</td>\n",
       "      <td>0.956522</td>\n",
       "      <td>1.000000</td>\n",
       "      <td>0.952704</td>\n",
       "      <td>0.034</td>\n",
       "    </tr>\n",
       "    <tr>\n",
       "      <th>1</th>\n",
       "      <td>Ridge Classifier</td>\n",
       "      <td>0.967033</td>\n",
       "      <td>0.913043</td>\n",
       "      <td>0.966441</td>\n",
       "      <td>0.913043</td>\n",
       "      <td>0.019</td>\n",
       "    </tr>\n",
       "    <tr>\n",
       "      <th>2</th>\n",
       "      <td>Extra Trees Classifier</td>\n",
       "      <td>1.000000</td>\n",
       "      <td>0.913043</td>\n",
       "      <td>1.000000</td>\n",
       "      <td>0.913043</td>\n",
       "      <td>0.108</td>\n",
       "    </tr>\n",
       "    <tr>\n",
       "      <th>3</th>\n",
       "      <td>Linear Discriminant Analysis</td>\n",
       "      <td>0.967033</td>\n",
       "      <td>0.913043</td>\n",
       "      <td>0.966441</td>\n",
       "      <td>0.913043</td>\n",
       "      <td>0.013</td>\n",
       "    </tr>\n",
       "    <tr>\n",
       "      <th>4</th>\n",
       "      <td>K Neighbors Classifier</td>\n",
       "      <td>0.901099</td>\n",
       "      <td>0.913043</td>\n",
       "      <td>0.899323</td>\n",
       "      <td>0.913043</td>\n",
       "      <td>0.022</td>\n",
       "    </tr>\n",
       "    <tr>\n",
       "      <th>5</th>\n",
       "      <td>Random Forest Classifier</td>\n",
       "      <td>1.000000</td>\n",
       "      <td>0.913043</td>\n",
       "      <td>1.000000</td>\n",
       "      <td>0.913043</td>\n",
       "      <td>0.091</td>\n",
       "    </tr>\n",
       "    <tr>\n",
       "      <th>6</th>\n",
       "      <td>Ada Boost Classifier</td>\n",
       "      <td>1.000000</td>\n",
       "      <td>0.956522</td>\n",
       "      <td>1.000000</td>\n",
       "      <td>0.952704</td>\n",
       "      <td>0.058</td>\n",
       "    </tr>\n",
       "    <tr>\n",
       "      <th>7</th>\n",
       "      <td>Naive Bayes</td>\n",
       "      <td>0.912088</td>\n",
       "      <td>0.869565</td>\n",
       "      <td>0.912088</td>\n",
       "      <td>0.877210</td>\n",
       "      <td>0.016</td>\n",
       "    </tr>\n",
       "    <tr>\n",
       "      <th>8</th>\n",
       "      <td>Extreme Gradient Boosting</td>\n",
       "      <td>1.000000</td>\n",
       "      <td>0.913043</td>\n",
       "      <td>1.000000</td>\n",
       "      <td>0.913043</td>\n",
       "      <td>0.029</td>\n",
       "    </tr>\n",
       "    <tr>\n",
       "      <th>9</th>\n",
       "      <td>Light Gradient Boosting Machine</td>\n",
       "      <td>1.000000</td>\n",
       "      <td>0.956522</td>\n",
       "      <td>1.000000</td>\n",
       "      <td>0.952704</td>\n",
       "      <td>0.031</td>\n",
       "    </tr>\n",
       "    <tr>\n",
       "      <th>10</th>\n",
       "      <td>Decision Tree Classifier</td>\n",
       "      <td>1.000000</td>\n",
       "      <td>0.913043</td>\n",
       "      <td>1.000000</td>\n",
       "      <td>0.913043</td>\n",
       "      <td>0.029</td>\n",
       "    </tr>\n",
       "    <tr>\n",
       "      <th>11</th>\n",
       "      <td>Gradient Boosting Classifier</td>\n",
       "      <td>1.000000</td>\n",
       "      <td>0.956522</td>\n",
       "      <td>1.000000</td>\n",
       "      <td>0.952704</td>\n",
       "      <td>0.057</td>\n",
       "    </tr>\n",
       "    <tr>\n",
       "      <th>12</th>\n",
       "      <td>SVM - Linear Kernel</td>\n",
       "      <td>0.934066</td>\n",
       "      <td>0.869565</td>\n",
       "      <td>0.935276</td>\n",
       "      <td>0.877210</td>\n",
       "      <td>0.016</td>\n",
       "    </tr>\n",
       "    <tr>\n",
       "      <th>13</th>\n",
       "      <td>Dummy Classifier</td>\n",
       "      <td>0.703297</td>\n",
       "      <td>0.869565</td>\n",
       "      <td>0.580787</td>\n",
       "      <td>0.808898</td>\n",
       "      <td>0.012</td>\n",
       "    </tr>\n",
       "  </tbody>\n",
       "</table>\n",
       "</div>"
      ],
      "text/plain": [
       "                              model  train_accuracy  test_accuracy  train_f1  \\\n",
       "0               Logistic Regression        1.000000       0.956522  1.000000   \n",
       "1                  Ridge Classifier        0.967033       0.913043  0.966441   \n",
       "2            Extra Trees Classifier        1.000000       0.913043  1.000000   \n",
       "3      Linear Discriminant Analysis        0.967033       0.913043  0.966441   \n",
       "4            K Neighbors Classifier        0.901099       0.913043  0.899323   \n",
       "5          Random Forest Classifier        1.000000       0.913043  1.000000   \n",
       "6              Ada Boost Classifier        1.000000       0.956522  1.000000   \n",
       "7                       Naive Bayes        0.912088       0.869565  0.912088   \n",
       "8         Extreme Gradient Boosting        1.000000       0.913043  1.000000   \n",
       "9   Light Gradient Boosting Machine        1.000000       0.956522  1.000000   \n",
       "10         Decision Tree Classifier        1.000000       0.913043  1.000000   \n",
       "11     Gradient Boosting Classifier        1.000000       0.956522  1.000000   \n",
       "12              SVM - Linear Kernel        0.934066       0.869565  0.935276   \n",
       "13                 Dummy Classifier        0.703297       0.869565  0.580787   \n",
       "\n",
       "     test_f1     TT  \n",
       "0   0.952704  0.034  \n",
       "1   0.913043  0.019  \n",
       "2   0.913043  0.108  \n",
       "3   0.913043  0.013  \n",
       "4   0.913043  0.022  \n",
       "5   0.913043  0.091  \n",
       "6   0.952704  0.058  \n",
       "7   0.877210  0.016  \n",
       "8   0.913043  0.029  \n",
       "9   0.952704  0.031  \n",
       "10  0.913043  0.029  \n",
       "11  0.952704  0.057  \n",
       "12  0.877210  0.016  \n",
       "13  0.808898  0.012  "
      ]
     },
     "execution_count": 22,
     "metadata": {},
     "output_type": "execute_result"
    }
   ],
   "source": [
    "fullback_df"
   ]
  },
  {
   "cell_type": "markdown",
   "metadata": {},
   "source": [
    "## All-Action Midfielder"
   ]
  },
  {
   "cell_type": "code",
   "execution_count": 23,
   "metadata": {},
   "outputs": [
    {
     "data": {
      "text/html": [
       "<style type=\"text/css\">\n",
       "#T_d1177_row8_col1 {\n",
       "  background-color: lightgreen;\n",
       "}\n",
       "</style>\n",
       "<table id=\"T_d1177\">\n",
       "  <thead>\n",
       "    <tr>\n",
       "      <th class=\"blank level0\" >&nbsp;</th>\n",
       "      <th id=\"T_d1177_level0_col0\" class=\"col_heading level0 col0\" >Description</th>\n",
       "      <th id=\"T_d1177_level0_col1\" class=\"col_heading level0 col1\" >Value</th>\n",
       "    </tr>\n",
       "  </thead>\n",
       "  <tbody>\n",
       "    <tr>\n",
       "      <th id=\"T_d1177_level0_row0\" class=\"row_heading level0 row0\" >0</th>\n",
       "      <td id=\"T_d1177_row0_col0\" class=\"data row0 col0\" >Session id</td>\n",
       "      <td id=\"T_d1177_row0_col1\" class=\"data row0 col1\" >42</td>\n",
       "    </tr>\n",
       "    <tr>\n",
       "      <th id=\"T_d1177_level0_row1\" class=\"row_heading level0 row1\" >1</th>\n",
       "      <td id=\"T_d1177_row1_col0\" class=\"data row1 col0\" >Target</td>\n",
       "      <td id=\"T_d1177_row1_col1\" class=\"data row1 col1\" >Class_All Action Midfielder</td>\n",
       "    </tr>\n",
       "    <tr>\n",
       "      <th id=\"T_d1177_level0_row2\" class=\"row_heading level0 row2\" >2</th>\n",
       "      <td id=\"T_d1177_row2_col0\" class=\"data row2 col0\" >Target type</td>\n",
       "      <td id=\"T_d1177_row2_col1\" class=\"data row2 col1\" >Binary</td>\n",
       "    </tr>\n",
       "    <tr>\n",
       "      <th id=\"T_d1177_level0_row3\" class=\"row_heading level0 row3\" >3</th>\n",
       "      <td id=\"T_d1177_row3_col0\" class=\"data row3 col0\" >Original data shape</td>\n",
       "      <td id=\"T_d1177_row3_col1\" class=\"data row3 col1\" >(91, 15)</td>\n",
       "    </tr>\n",
       "    <tr>\n",
       "      <th id=\"T_d1177_level0_row4\" class=\"row_heading level0 row4\" >4</th>\n",
       "      <td id=\"T_d1177_row4_col0\" class=\"data row4 col0\" >Transformed data shape</td>\n",
       "      <td id=\"T_d1177_row4_col1\" class=\"data row4 col1\" >(91, 15)</td>\n",
       "    </tr>\n",
       "    <tr>\n",
       "      <th id=\"T_d1177_level0_row5\" class=\"row_heading level0 row5\" >5</th>\n",
       "      <td id=\"T_d1177_row5_col0\" class=\"data row5 col0\" >Transformed train set shape</td>\n",
       "      <td id=\"T_d1177_row5_col1\" class=\"data row5 col1\" >(63, 15)</td>\n",
       "    </tr>\n",
       "    <tr>\n",
       "      <th id=\"T_d1177_level0_row6\" class=\"row_heading level0 row6\" >6</th>\n",
       "      <td id=\"T_d1177_row6_col0\" class=\"data row6 col0\" >Transformed test set shape</td>\n",
       "      <td id=\"T_d1177_row6_col1\" class=\"data row6 col1\" >(28, 15)</td>\n",
       "    </tr>\n",
       "    <tr>\n",
       "      <th id=\"T_d1177_level0_row7\" class=\"row_heading level0 row7\" >7</th>\n",
       "      <td id=\"T_d1177_row7_col0\" class=\"data row7 col0\" >Numeric features</td>\n",
       "      <td id=\"T_d1177_row7_col1\" class=\"data row7 col1\" >14</td>\n",
       "    </tr>\n",
       "    <tr>\n",
       "      <th id=\"T_d1177_level0_row8\" class=\"row_heading level0 row8\" >8</th>\n",
       "      <td id=\"T_d1177_row8_col0\" class=\"data row8 col0\" >Preprocess</td>\n",
       "      <td id=\"T_d1177_row8_col1\" class=\"data row8 col1\" >True</td>\n",
       "    </tr>\n",
       "    <tr>\n",
       "      <th id=\"T_d1177_level0_row9\" class=\"row_heading level0 row9\" >9</th>\n",
       "      <td id=\"T_d1177_row9_col0\" class=\"data row9 col0\" >Imputation type</td>\n",
       "      <td id=\"T_d1177_row9_col1\" class=\"data row9 col1\" >simple</td>\n",
       "    </tr>\n",
       "    <tr>\n",
       "      <th id=\"T_d1177_level0_row10\" class=\"row_heading level0 row10\" >10</th>\n",
       "      <td id=\"T_d1177_row10_col0\" class=\"data row10 col0\" >Numeric imputation</td>\n",
       "      <td id=\"T_d1177_row10_col1\" class=\"data row10 col1\" >mean</td>\n",
       "    </tr>\n",
       "    <tr>\n",
       "      <th id=\"T_d1177_level0_row11\" class=\"row_heading level0 row11\" >11</th>\n",
       "      <td id=\"T_d1177_row11_col0\" class=\"data row11 col0\" >Categorical imputation</td>\n",
       "      <td id=\"T_d1177_row11_col1\" class=\"data row11 col1\" >mode</td>\n",
       "    </tr>\n",
       "    <tr>\n",
       "      <th id=\"T_d1177_level0_row12\" class=\"row_heading level0 row12\" >12</th>\n",
       "      <td id=\"T_d1177_row12_col0\" class=\"data row12 col0\" >Fold Generator</td>\n",
       "      <td id=\"T_d1177_row12_col1\" class=\"data row12 col1\" >StratifiedKFold</td>\n",
       "    </tr>\n",
       "    <tr>\n",
       "      <th id=\"T_d1177_level0_row13\" class=\"row_heading level0 row13\" >13</th>\n",
       "      <td id=\"T_d1177_row13_col0\" class=\"data row13 col0\" >Fold Number</td>\n",
       "      <td id=\"T_d1177_row13_col1\" class=\"data row13 col1\" >10</td>\n",
       "    </tr>\n",
       "    <tr>\n",
       "      <th id=\"T_d1177_level0_row14\" class=\"row_heading level0 row14\" >14</th>\n",
       "      <td id=\"T_d1177_row14_col0\" class=\"data row14 col0\" >CPU Jobs</td>\n",
       "      <td id=\"T_d1177_row14_col1\" class=\"data row14 col1\" >-1</td>\n",
       "    </tr>\n",
       "    <tr>\n",
       "      <th id=\"T_d1177_level0_row15\" class=\"row_heading level0 row15\" >15</th>\n",
       "      <td id=\"T_d1177_row15_col0\" class=\"data row15 col0\" >Use GPU</td>\n",
       "      <td id=\"T_d1177_row15_col1\" class=\"data row15 col1\" >False</td>\n",
       "    </tr>\n",
       "    <tr>\n",
       "      <th id=\"T_d1177_level0_row16\" class=\"row_heading level0 row16\" >16</th>\n",
       "      <td id=\"T_d1177_row16_col0\" class=\"data row16 col0\" >Log Experiment</td>\n",
       "      <td id=\"T_d1177_row16_col1\" class=\"data row16 col1\" >False</td>\n",
       "    </tr>\n",
       "    <tr>\n",
       "      <th id=\"T_d1177_level0_row17\" class=\"row_heading level0 row17\" >17</th>\n",
       "      <td id=\"T_d1177_row17_col0\" class=\"data row17 col0\" >Experiment Name</td>\n",
       "      <td id=\"T_d1177_row17_col1\" class=\"data row17 col1\" >clf-default-name</td>\n",
       "    </tr>\n",
       "    <tr>\n",
       "      <th id=\"T_d1177_level0_row18\" class=\"row_heading level0 row18\" >18</th>\n",
       "      <td id=\"T_d1177_row18_col0\" class=\"data row18 col0\" >USI</td>\n",
       "      <td id=\"T_d1177_row18_col1\" class=\"data row18 col1\" >bbb2</td>\n",
       "    </tr>\n",
       "  </tbody>\n",
       "</table>\n"
      ],
      "text/plain": [
       "<pandas.io.formats.style.Styler at 0x27fe551f690>"
      ]
     },
     "metadata": {},
     "output_type": "display_data"
    },
    {
     "data": {
      "text/html": [],
      "text/plain": [
       "<IPython.core.display.HTML object>"
      ]
     },
     "metadata": {},
     "output_type": "display_data"
    },
    {
     "data": {
      "text/html": [
       "<style type=\"text/css\">\n",
       "#T_d6ecf th {\n",
       "  text-align: left;\n",
       "}\n",
       "#T_d6ecf_row0_col0, #T_d6ecf_row0_col3, #T_d6ecf_row0_col5, #T_d6ecf_row1_col0, #T_d6ecf_row1_col1, #T_d6ecf_row1_col2, #T_d6ecf_row1_col4, #T_d6ecf_row1_col6, #T_d6ecf_row1_col7, #T_d6ecf_row2_col0, #T_d6ecf_row2_col1, #T_d6ecf_row2_col2, #T_d6ecf_row2_col3, #T_d6ecf_row2_col4, #T_d6ecf_row2_col5, #T_d6ecf_row2_col6, #T_d6ecf_row2_col7, #T_d6ecf_row3_col0, #T_d6ecf_row3_col1, #T_d6ecf_row3_col2, #T_d6ecf_row3_col3, #T_d6ecf_row3_col4, #T_d6ecf_row3_col5, #T_d6ecf_row3_col6, #T_d6ecf_row3_col7, #T_d6ecf_row4_col0, #T_d6ecf_row4_col1, #T_d6ecf_row4_col2, #T_d6ecf_row4_col3, #T_d6ecf_row4_col4, #T_d6ecf_row4_col5, #T_d6ecf_row4_col6, #T_d6ecf_row4_col7, #T_d6ecf_row5_col0, #T_d6ecf_row5_col1, #T_d6ecf_row5_col2, #T_d6ecf_row5_col3, #T_d6ecf_row5_col4, #T_d6ecf_row5_col5, #T_d6ecf_row5_col6, #T_d6ecf_row5_col7, #T_d6ecf_row6_col0, #T_d6ecf_row6_col1, #T_d6ecf_row6_col2, #T_d6ecf_row6_col3, #T_d6ecf_row6_col4, #T_d6ecf_row6_col5, #T_d6ecf_row6_col6, #T_d6ecf_row6_col7, #T_d6ecf_row7_col0, #T_d6ecf_row7_col1, #T_d6ecf_row7_col2, #T_d6ecf_row7_col3, #T_d6ecf_row7_col4, #T_d6ecf_row7_col5, #T_d6ecf_row7_col6, #T_d6ecf_row7_col7, #T_d6ecf_row8_col0, #T_d6ecf_row8_col1, #T_d6ecf_row8_col2, #T_d6ecf_row8_col3, #T_d6ecf_row8_col4, #T_d6ecf_row8_col5, #T_d6ecf_row8_col6, #T_d6ecf_row8_col7, #T_d6ecf_row9_col0, #T_d6ecf_row9_col1, #T_d6ecf_row9_col2, #T_d6ecf_row9_col3, #T_d6ecf_row9_col4, #T_d6ecf_row9_col5, #T_d6ecf_row9_col6, #T_d6ecf_row9_col7, #T_d6ecf_row10_col0, #T_d6ecf_row10_col1, #T_d6ecf_row10_col2, #T_d6ecf_row10_col3, #T_d6ecf_row10_col4, #T_d6ecf_row10_col5, #T_d6ecf_row10_col6, #T_d6ecf_row10_col7, #T_d6ecf_row11_col0, #T_d6ecf_row11_col1, #T_d6ecf_row11_col2, #T_d6ecf_row11_col3, #T_d6ecf_row11_col4, #T_d6ecf_row11_col5, #T_d6ecf_row11_col6, #T_d6ecf_row11_col7, #T_d6ecf_row12_col0, #T_d6ecf_row12_col1, #T_d6ecf_row12_col2, #T_d6ecf_row12_col3, #T_d6ecf_row12_col4, #T_d6ecf_row12_col5, #T_d6ecf_row12_col6, #T_d6ecf_row12_col7, #T_d6ecf_row13_col0, #T_d6ecf_row13_col1, #T_d6ecf_row13_col2, #T_d6ecf_row13_col3, #T_d6ecf_row13_col4, #T_d6ecf_row13_col5, #T_d6ecf_row13_col6, #T_d6ecf_row13_col7, #T_d6ecf_row14_col0, #T_d6ecf_row14_col1, #T_d6ecf_row14_col2, #T_d6ecf_row14_col4, #T_d6ecf_row14_col5, #T_d6ecf_row14_col6, #T_d6ecf_row14_col7 {\n",
       "  text-align: left;\n",
       "}\n",
       "#T_d6ecf_row0_col1, #T_d6ecf_row0_col2, #T_d6ecf_row0_col4, #T_d6ecf_row0_col6, #T_d6ecf_row0_col7, #T_d6ecf_row1_col3, #T_d6ecf_row1_col5, #T_d6ecf_row14_col3 {\n",
       "  text-align: left;\n",
       "  background-color: yellow;\n",
       "}\n",
       "#T_d6ecf_row0_col8, #T_d6ecf_row1_col8, #T_d6ecf_row2_col8, #T_d6ecf_row3_col8, #T_d6ecf_row5_col8, #T_d6ecf_row6_col8, #T_d6ecf_row7_col8, #T_d6ecf_row8_col8, #T_d6ecf_row9_col8, #T_d6ecf_row10_col8, #T_d6ecf_row11_col8, #T_d6ecf_row12_col8 {\n",
       "  text-align: left;\n",
       "  background-color: lightgrey;\n",
       "}\n",
       "#T_d6ecf_row4_col8, #T_d6ecf_row13_col8, #T_d6ecf_row14_col8 {\n",
       "  text-align: left;\n",
       "  background-color: yellow;\n",
       "  background-color: lightgrey;\n",
       "}\n",
       "</style>\n",
       "<table id=\"T_d6ecf\">\n",
       "  <thead>\n",
       "    <tr>\n",
       "      <th class=\"blank level0\" >&nbsp;</th>\n",
       "      <th id=\"T_d6ecf_level0_col0\" class=\"col_heading level0 col0\" >Model</th>\n",
       "      <th id=\"T_d6ecf_level0_col1\" class=\"col_heading level0 col1\" >Accuracy</th>\n",
       "      <th id=\"T_d6ecf_level0_col2\" class=\"col_heading level0 col2\" >AUC</th>\n",
       "      <th id=\"T_d6ecf_level0_col3\" class=\"col_heading level0 col3\" >Recall</th>\n",
       "      <th id=\"T_d6ecf_level0_col4\" class=\"col_heading level0 col4\" >Prec.</th>\n",
       "      <th id=\"T_d6ecf_level0_col5\" class=\"col_heading level0 col5\" >F1</th>\n",
       "      <th id=\"T_d6ecf_level0_col6\" class=\"col_heading level0 col6\" >Kappa</th>\n",
       "      <th id=\"T_d6ecf_level0_col7\" class=\"col_heading level0 col7\" >MCC</th>\n",
       "      <th id=\"T_d6ecf_level0_col8\" class=\"col_heading level0 col8\" >TT (Sec)</th>\n",
       "    </tr>\n",
       "  </thead>\n",
       "  <tbody>\n",
       "    <tr>\n",
       "      <th id=\"T_d6ecf_level0_row0\" class=\"row_heading level0 row0\" >lr</th>\n",
       "      <td id=\"T_d6ecf_row0_col0\" class=\"data row0 col0\" >Logistic Regression</td>\n",
       "      <td id=\"T_d6ecf_row0_col1\" class=\"data row0 col1\" >0.9381</td>\n",
       "      <td id=\"T_d6ecf_row0_col2\" class=\"data row0 col2\" >1.0000</td>\n",
       "      <td id=\"T_d6ecf_row0_col3\" class=\"data row0 col3\" >0.9550</td>\n",
       "      <td id=\"T_d6ecf_row0_col4\" class=\"data row0 col4\" >0.9600</td>\n",
       "      <td id=\"T_d6ecf_row0_col5\" class=\"data row0 col5\" >0.9524</td>\n",
       "      <td id=\"T_d6ecf_row0_col6\" class=\"data row0 col6\" >0.8559</td>\n",
       "      <td id=\"T_d6ecf_row0_col7\" class=\"data row0 col7\" >0.8745</td>\n",
       "      <td id=\"T_d6ecf_row0_col8\" class=\"data row0 col8\" >0.0330</td>\n",
       "    </tr>\n",
       "    <tr>\n",
       "      <th id=\"T_d6ecf_level0_row1\" class=\"row_heading level0 row1\" >knn</th>\n",
       "      <td id=\"T_d6ecf_row1_col0\" class=\"data row1 col0\" >K Neighbors Classifier</td>\n",
       "      <td id=\"T_d6ecf_row1_col1\" class=\"data row1 col1\" >0.9333</td>\n",
       "      <td id=\"T_d6ecf_row1_col2\" class=\"data row1 col2\" >0.9375</td>\n",
       "      <td id=\"T_d6ecf_row1_col3\" class=\"data row1 col3\" >1.0000</td>\n",
       "      <td id=\"T_d6ecf_row1_col4\" class=\"data row1 col4\" >0.9267</td>\n",
       "      <td id=\"T_d6ecf_row1_col5\" class=\"data row1 col5\" >0.9578</td>\n",
       "      <td id=\"T_d6ecf_row1_col6\" class=\"data row1 col6\" >0.8143</td>\n",
       "      <td id=\"T_d6ecf_row1_col7\" class=\"data row1 col7\" >0.8265</td>\n",
       "      <td id=\"T_d6ecf_row1_col8\" class=\"data row1 col8\" >0.0230</td>\n",
       "    </tr>\n",
       "    <tr>\n",
       "      <th id=\"T_d6ecf_level0_row2\" class=\"row_heading level0 row2\" >ridge</th>\n",
       "      <td id=\"T_d6ecf_row2_col0\" class=\"data row2 col0\" >Ridge Classifier</td>\n",
       "      <td id=\"T_d6ecf_row2_col1\" class=\"data row2 col1\" >0.9048</td>\n",
       "      <td id=\"T_d6ecf_row2_col2\" class=\"data row2 col2\" >0.9792</td>\n",
       "      <td id=\"T_d6ecf_row2_col3\" class=\"data row2 col3\" >0.9800</td>\n",
       "      <td id=\"T_d6ecf_row2_col4\" class=\"data row2 col4\" >0.9000</td>\n",
       "      <td id=\"T_d6ecf_row2_col5\" class=\"data row2 col5\" >0.9333</td>\n",
       "      <td id=\"T_d6ecf_row2_col6\" class=\"data row2 col6\" >0.7677</td>\n",
       "      <td id=\"T_d6ecf_row2_col7\" class=\"data row2 col7\" >0.7990</td>\n",
       "      <td id=\"T_d6ecf_row2_col8\" class=\"data row2 col8\" >0.0170</td>\n",
       "    </tr>\n",
       "    <tr>\n",
       "      <th id=\"T_d6ecf_level0_row3\" class=\"row_heading level0 row3\" >gbc</th>\n",
       "      <td id=\"T_d6ecf_row3_col0\" class=\"data row3 col0\" >Gradient Boosting Classifier</td>\n",
       "      <td id=\"T_d6ecf_row3_col1\" class=\"data row3 col1\" >0.9048</td>\n",
       "      <td id=\"T_d6ecf_row3_col2\" class=\"data row3 col2\" >0.9317</td>\n",
       "      <td id=\"T_d6ecf_row3_col3\" class=\"data row3 col3\" >0.9050</td>\n",
       "      <td id=\"T_d6ecf_row3_col4\" class=\"data row3 col4\" >0.9500</td>\n",
       "      <td id=\"T_d6ecf_row3_col5\" class=\"data row3 col5\" >0.9246</td>\n",
       "      <td id=\"T_d6ecf_row3_col6\" class=\"data row3 col6\" >0.7916</td>\n",
       "      <td id=\"T_d6ecf_row3_col7\" class=\"data row3 col7\" >0.7980</td>\n",
       "      <td id=\"T_d6ecf_row3_col8\" class=\"data row3 col8\" >0.0540</td>\n",
       "    </tr>\n",
       "    <tr>\n",
       "      <th id=\"T_d6ecf_level0_row4\" class=\"row_heading level0 row4\" >lda</th>\n",
       "      <td id=\"T_d6ecf_row4_col0\" class=\"data row4 col0\" >Linear Discriminant Analysis</td>\n",
       "      <td id=\"T_d6ecf_row4_col1\" class=\"data row4 col1\" >0.9048</td>\n",
       "      <td id=\"T_d6ecf_row4_col2\" class=\"data row4 col2\" >0.9792</td>\n",
       "      <td id=\"T_d6ecf_row4_col3\" class=\"data row4 col3\" >0.9800</td>\n",
       "      <td id=\"T_d6ecf_row4_col4\" class=\"data row4 col4\" >0.9000</td>\n",
       "      <td id=\"T_d6ecf_row4_col5\" class=\"data row4 col5\" >0.9333</td>\n",
       "      <td id=\"T_d6ecf_row4_col6\" class=\"data row4 col6\" >0.7677</td>\n",
       "      <td id=\"T_d6ecf_row4_col7\" class=\"data row4 col7\" >0.7990</td>\n",
       "      <td id=\"T_d6ecf_row4_col8\" class=\"data row4 col8\" >0.0130</td>\n",
       "    </tr>\n",
       "    <tr>\n",
       "      <th id=\"T_d6ecf_level0_row5\" class=\"row_heading level0 row5\" >nb</th>\n",
       "      <td id=\"T_d6ecf_row5_col0\" class=\"data row5 col0\" >Naive Bayes</td>\n",
       "      <td id=\"T_d6ecf_row5_col1\" class=\"data row5 col1\" >0.8905</td>\n",
       "      <td id=\"T_d6ecf_row5_col2\" class=\"data row5 col2\" >0.9192</td>\n",
       "      <td id=\"T_d6ecf_row5_col3\" class=\"data row5 col3\" >0.8850</td>\n",
       "      <td id=\"T_d6ecf_row5_col4\" class=\"data row5 col4\" >0.9550</td>\n",
       "      <td id=\"T_d6ecf_row5_col5\" class=\"data row5 col5\" >0.9103</td>\n",
       "      <td id=\"T_d6ecf_row5_col6\" class=\"data row5 col6\" >0.7670</td>\n",
       "      <td id=\"T_d6ecf_row5_col7\" class=\"data row5 col7\" >0.7887</td>\n",
       "      <td id=\"T_d6ecf_row5_col8\" class=\"data row5 col8\" >0.0140</td>\n",
       "    </tr>\n",
       "    <tr>\n",
       "      <th id=\"T_d6ecf_level0_row6\" class=\"row_heading level0 row6\" >dt</th>\n",
       "      <td id=\"T_d6ecf_row6_col0\" class=\"data row6 col0\" >Decision Tree Classifier</td>\n",
       "      <td id=\"T_d6ecf_row6_col1\" class=\"data row6 col1\" >0.8881</td>\n",
       "      <td id=\"T_d6ecf_row6_col2\" class=\"data row6 col2\" >0.8775</td>\n",
       "      <td id=\"T_d6ecf_row6_col3\" class=\"data row6 col3\" >0.9050</td>\n",
       "      <td id=\"T_d6ecf_row6_col4\" class=\"data row6 col4\" >0.9300</td>\n",
       "      <td id=\"T_d6ecf_row6_col5\" class=\"data row6 col5\" >0.9135</td>\n",
       "      <td id=\"T_d6ecf_row6_col6\" class=\"data row6 col6\" >0.7487</td>\n",
       "      <td id=\"T_d6ecf_row6_col7\" class=\"data row6 col7\" >0.7613</td>\n",
       "      <td id=\"T_d6ecf_row6_col8\" class=\"data row6 col8\" >0.0150</td>\n",
       "    </tr>\n",
       "    <tr>\n",
       "      <th id=\"T_d6ecf_level0_row7\" class=\"row_heading level0 row7\" >xgboost</th>\n",
       "      <td id=\"T_d6ecf_row7_col0\" class=\"data row7 col0\" >Extreme Gradient Boosting</td>\n",
       "      <td id=\"T_d6ecf_row7_col1\" class=\"data row7 col1\" >0.8738</td>\n",
       "      <td id=\"T_d6ecf_row7_col2\" class=\"data row7 col2\" >0.9292</td>\n",
       "      <td id=\"T_d6ecf_row7_col3\" class=\"data row7 col3\" >0.9300</td>\n",
       "      <td id=\"T_d6ecf_row7_col4\" class=\"data row7 col4\" >0.8900</td>\n",
       "      <td id=\"T_d6ecf_row7_col5\" class=\"data row7 col5\" >0.9056</td>\n",
       "      <td id=\"T_d6ecf_row7_col6\" class=\"data row7 col6\" >0.7077</td>\n",
       "      <td id=\"T_d6ecf_row7_col7\" class=\"data row7 col7\" >0.7294</td>\n",
       "      <td id=\"T_d6ecf_row7_col8\" class=\"data row7 col8\" >0.0240</td>\n",
       "    </tr>\n",
       "    <tr>\n",
       "      <th id=\"T_d6ecf_level0_row8\" class=\"row_heading level0 row8\" >rf</th>\n",
       "      <td id=\"T_d6ecf_row8_col0\" class=\"data row8 col0\" >Random Forest Classifier</td>\n",
       "      <td id=\"T_d6ecf_row8_col1\" class=\"data row8 col1\" >0.8714</td>\n",
       "      <td id=\"T_d6ecf_row8_col2\" class=\"data row8 col2\" >0.9667</td>\n",
       "      <td id=\"T_d6ecf_row8_col3\" class=\"data row8 col3\" >0.9500</td>\n",
       "      <td id=\"T_d6ecf_row8_col4\" class=\"data row8 col4\" >0.8700</td>\n",
       "      <td id=\"T_d6ecf_row8_col5\" class=\"data row8 col5\" >0.9056</td>\n",
       "      <td id=\"T_d6ecf_row8_col6\" class=\"data row8 col6\" >0.6952</td>\n",
       "      <td id=\"T_d6ecf_row8_col7\" class=\"data row8 col7\" >0.7196</td>\n",
       "      <td id=\"T_d6ecf_row8_col8\" class=\"data row8 col8\" >0.1050</td>\n",
       "    </tr>\n",
       "    <tr>\n",
       "      <th id=\"T_d6ecf_level0_row9\" class=\"row_heading level0 row9\" >lightgbm</th>\n",
       "      <td id=\"T_d6ecf_row9_col0\" class=\"data row9 col0\" >Light Gradient Boosting Machine</td>\n",
       "      <td id=\"T_d6ecf_row9_col1\" class=\"data row9 col1\" >0.8690</td>\n",
       "      <td id=\"T_d6ecf_row9_col2\" class=\"data row9 col2\" >0.9750</td>\n",
       "      <td id=\"T_d6ecf_row9_col3\" class=\"data row9 col3\" >0.9800</td>\n",
       "      <td id=\"T_d6ecf_row9_col4\" class=\"data row9 col4\" >0.8733</td>\n",
       "      <td id=\"T_d6ecf_row9_col5\" class=\"data row9 col5\" >0.9156</td>\n",
       "      <td id=\"T_d6ecf_row9_col6\" class=\"data row9 col6\" >0.6410</td>\n",
       "      <td id=\"T_d6ecf_row9_col7\" class=\"data row9 col7\" >0.6628</td>\n",
       "      <td id=\"T_d6ecf_row9_col8\" class=\"data row9 col8\" >0.0450</td>\n",
       "    </tr>\n",
       "    <tr>\n",
       "      <th id=\"T_d6ecf_level0_row10\" class=\"row_heading level0 row10\" >ada</th>\n",
       "      <td id=\"T_d6ecf_row10_col0\" class=\"data row10 col0\" >Ada Boost Classifier</td>\n",
       "      <td id=\"T_d6ecf_row10_col1\" class=\"data row10 col1\" >0.8571</td>\n",
       "      <td id=\"T_d6ecf_row10_col2\" class=\"data row10 col2\" >0.9667</td>\n",
       "      <td id=\"T_d6ecf_row10_col3\" class=\"data row10 col3\" >0.9100</td>\n",
       "      <td id=\"T_d6ecf_row10_col4\" class=\"data row10 col4\" >0.8950</td>\n",
       "      <td id=\"T_d6ecf_row10_col5\" class=\"data row10 col5\" >0.8913</td>\n",
       "      <td id=\"T_d6ecf_row10_col6\" class=\"data row10 col6\" >0.6717</td>\n",
       "      <td id=\"T_d6ecf_row10_col7\" class=\"data row10 col7\" >0.7078</td>\n",
       "      <td id=\"T_d6ecf_row10_col8\" class=\"data row10 col8\" >0.0450</td>\n",
       "    </tr>\n",
       "    <tr>\n",
       "      <th id=\"T_d6ecf_level0_row11\" class=\"row_heading level0 row11\" >et</th>\n",
       "      <td id=\"T_d6ecf_row11_col0\" class=\"data row11 col0\" >Extra Trees Classifier</td>\n",
       "      <td id=\"T_d6ecf_row11_col1\" class=\"data row11 col1\" >0.8571</td>\n",
       "      <td id=\"T_d6ecf_row11_col2\" class=\"data row11 col2\" >0.9417</td>\n",
       "      <td id=\"T_d6ecf_row11_col3\" class=\"data row11 col3\" >0.9300</td>\n",
       "      <td id=\"T_d6ecf_row11_col4\" class=\"data row11 col4\" >0.8700</td>\n",
       "      <td id=\"T_d6ecf_row11_col5\" class=\"data row11 col5\" >0.8944</td>\n",
       "      <td id=\"T_d6ecf_row11_col6\" class=\"data row11 col6\" >0.6648</td>\n",
       "      <td id=\"T_d6ecf_row11_col7\" class=\"data row11 col7\" >0.6927</td>\n",
       "      <td id=\"T_d6ecf_row11_col8\" class=\"data row11 col8\" >0.0770</td>\n",
       "    </tr>\n",
       "    <tr>\n",
       "      <th id=\"T_d6ecf_level0_row12\" class=\"row_heading level0 row12\" >svm</th>\n",
       "      <td id=\"T_d6ecf_row12_col0\" class=\"data row12 col0\" >SVM - Linear Kernel</td>\n",
       "      <td id=\"T_d6ecf_row12_col1\" class=\"data row12 col1\" >0.8548</td>\n",
       "      <td id=\"T_d6ecf_row12_col2\" class=\"data row12 col2\" >0.9625</td>\n",
       "      <td id=\"T_d6ecf_row12_col3\" class=\"data row12 col3\" >0.9050</td>\n",
       "      <td id=\"T_d6ecf_row12_col4\" class=\"data row12 col4\" >0.8867</td>\n",
       "      <td id=\"T_d6ecf_row12_col5\" class=\"data row12 col5\" >0.8873</td>\n",
       "      <td id=\"T_d6ecf_row12_col6\" class=\"data row12 col6\" >0.6772</td>\n",
       "      <td id=\"T_d6ecf_row12_col7\" class=\"data row12 col7\" >0.7065</td>\n",
       "      <td id=\"T_d6ecf_row12_col8\" class=\"data row12 col8\" >0.0200</td>\n",
       "    </tr>\n",
       "    <tr>\n",
       "      <th id=\"T_d6ecf_level0_row13\" class=\"row_heading level0 row13\" >qda</th>\n",
       "      <td id=\"T_d6ecf_row13_col0\" class=\"data row13 col0\" >Quadratic Discriminant Analysis</td>\n",
       "      <td id=\"T_d6ecf_row13_col1\" class=\"data row13 col1\" >0.8214</td>\n",
       "      <td id=\"T_d6ecf_row13_col2\" class=\"data row13 col2\" >0.8542</td>\n",
       "      <td id=\"T_d6ecf_row13_col3\" class=\"data row13 col3\" >0.9800</td>\n",
       "      <td id=\"T_d6ecf_row13_col4\" class=\"data row13 col4\" >0.8200</td>\n",
       "      <td id=\"T_d6ecf_row13_col5\" class=\"data row13 col5\" >0.8844</td>\n",
       "      <td id=\"T_d6ecf_row13_col6\" class=\"data row13 col6\" >0.5106</td>\n",
       "      <td id=\"T_d6ecf_row13_col7\" class=\"data row13 col7\" >0.5358</td>\n",
       "      <td id=\"T_d6ecf_row13_col8\" class=\"data row13 col8\" >0.0130</td>\n",
       "    </tr>\n",
       "    <tr>\n",
       "      <th id=\"T_d6ecf_level0_row14\" class=\"row_heading level0 row14\" >dummy</th>\n",
       "      <td id=\"T_d6ecf_row14_col0\" class=\"data row14 col0\" >Dummy Classifier</td>\n",
       "      <td id=\"T_d6ecf_row14_col1\" class=\"data row14 col1\" >0.6667</td>\n",
       "      <td id=\"T_d6ecf_row14_col2\" class=\"data row14 col2\" >0.5000</td>\n",
       "      <td id=\"T_d6ecf_row14_col3\" class=\"data row14 col3\" >1.0000</td>\n",
       "      <td id=\"T_d6ecf_row14_col4\" class=\"data row14 col4\" >0.6667</td>\n",
       "      <td id=\"T_d6ecf_row14_col5\" class=\"data row14 col5\" >0.7994</td>\n",
       "      <td id=\"T_d6ecf_row14_col6\" class=\"data row14 col6\" >0.0000</td>\n",
       "      <td id=\"T_d6ecf_row14_col7\" class=\"data row14 col7\" >0.0000</td>\n",
       "      <td id=\"T_d6ecf_row14_col8\" class=\"data row14 col8\" >0.0130</td>\n",
       "    </tr>\n",
       "  </tbody>\n",
       "</table>\n"
      ],
      "text/plain": [
       "<pandas.io.formats.style.Styler at 0x27fe55151d0>"
      ]
     },
     "metadata": {},
     "output_type": "display_data"
    },
    {
     "data": {
      "application/vnd.jupyter.widget-view+json": {
       "model_id": "fd273285f43040d0bdb96d141471aaa5",
       "version_major": 2,
       "version_minor": 0
      },
      "text/plain": [
       "Processing:   0%|          | 0/65 [00:00<?, ?it/s]"
      ]
     },
     "metadata": {},
     "output_type": "display_data"
    },
    {
     "data": {
      "text/html": [],
      "text/plain": [
       "<IPython.core.display.HTML object>"
      ]
     },
     "metadata": {},
     "output_type": "display_data"
    },
    {
     "data": {
      "text/html": [
       "<style type=\"text/css\">\n",
       "#T_4a4b8 th {\n",
       "  text-align: left;\n",
       "}\n",
       "#T_4a4b8_row0_col0 {\n",
       "  text-align: left;\n",
       "}\n",
       "#T_4a4b8_row0_col1, #T_4a4b8_row0_col2, #T_4a4b8_row0_col3, #T_4a4b8_row0_col4, #T_4a4b8_row0_col5, #T_4a4b8_row0_col6, #T_4a4b8_row0_col7 {\n",
       "  text-align: left;\n",
       "  background-color: yellow;\n",
       "}\n",
       "#T_4a4b8_row0_col8 {\n",
       "  text-align: left;\n",
       "  background-color: yellow;\n",
       "  background-color: lightgrey;\n",
       "}\n",
       "</style>\n",
       "<table id=\"T_4a4b8\">\n",
       "  <thead>\n",
       "    <tr>\n",
       "      <th class=\"blank level0\" >&nbsp;</th>\n",
       "      <th id=\"T_4a4b8_level0_col0\" class=\"col_heading level0 col0\" >Model</th>\n",
       "      <th id=\"T_4a4b8_level0_col1\" class=\"col_heading level0 col1\" >Accuracy</th>\n",
       "      <th id=\"T_4a4b8_level0_col2\" class=\"col_heading level0 col2\" >AUC</th>\n",
       "      <th id=\"T_4a4b8_level0_col3\" class=\"col_heading level0 col3\" >Recall</th>\n",
       "      <th id=\"T_4a4b8_level0_col4\" class=\"col_heading level0 col4\" >Prec.</th>\n",
       "      <th id=\"T_4a4b8_level0_col5\" class=\"col_heading level0 col5\" >F1</th>\n",
       "      <th id=\"T_4a4b8_level0_col6\" class=\"col_heading level0 col6\" >Kappa</th>\n",
       "      <th id=\"T_4a4b8_level0_col7\" class=\"col_heading level0 col7\" >MCC</th>\n",
       "      <th id=\"T_4a4b8_level0_col8\" class=\"col_heading level0 col8\" >TT (Sec)</th>\n",
       "    </tr>\n",
       "  </thead>\n",
       "  <tbody>\n",
       "    <tr>\n",
       "      <th id=\"T_4a4b8_level0_row0\" class=\"row_heading level0 row0\" >lr</th>\n",
       "      <td id=\"T_4a4b8_row0_col0\" class=\"data row0 col0\" >Logistic Regression</td>\n",
       "      <td id=\"T_4a4b8_row0_col1\" class=\"data row0 col1\" >0.9381</td>\n",
       "      <td id=\"T_4a4b8_row0_col2\" class=\"data row0 col2\" >1.0000</td>\n",
       "      <td id=\"T_4a4b8_row0_col3\" class=\"data row0 col3\" >0.9550</td>\n",
       "      <td id=\"T_4a4b8_row0_col4\" class=\"data row0 col4\" >0.9600</td>\n",
       "      <td id=\"T_4a4b8_row0_col5\" class=\"data row0 col5\" >0.9524</td>\n",
       "      <td id=\"T_4a4b8_row0_col6\" class=\"data row0 col6\" >0.8559</td>\n",
       "      <td id=\"T_4a4b8_row0_col7\" class=\"data row0 col7\" >0.8745</td>\n",
       "      <td id=\"T_4a4b8_row0_col8\" class=\"data row0 col8\" >0.0330</td>\n",
       "    </tr>\n",
       "  </tbody>\n",
       "</table>\n"
      ],
      "text/plain": [
       "<pandas.io.formats.style.Styler at 0x27fe5514e50>"
      ]
     },
     "metadata": {},
     "output_type": "display_data"
    },
    {
     "data": {
      "application/vnd.jupyter.widget-view+json": {
       "model_id": "9c55da4333254f5fb461b67e3dc714a5",
       "version_major": 2,
       "version_minor": 0
      },
      "text/plain": [
       "Processing:   0%|          | 0/9 [00:00<?, ?it/s]"
      ]
     },
     "metadata": {},
     "output_type": "display_data"
    },
    {
     "data": {
      "text/html": [],
      "text/plain": [
       "<IPython.core.display.HTML object>"
      ]
     },
     "metadata": {},
     "output_type": "display_data"
    },
    {
     "data": {
      "text/html": [],
      "text/plain": [
       "<IPython.core.display.HTML object>"
      ]
     },
     "metadata": {},
     "output_type": "display_data"
    },
    {
     "data": {
      "text/html": [],
      "text/plain": [
       "<IPython.core.display.HTML object>"
      ]
     },
     "metadata": {},
     "output_type": "display_data"
    },
    {
     "data": {
      "text/html": [
       "<style type=\"text/css\">\n",
       "#T_5efe4 th {\n",
       "  text-align: left;\n",
       "}\n",
       "#T_5efe4_row0_col0 {\n",
       "  text-align: left;\n",
       "}\n",
       "#T_5efe4_row0_col1, #T_5efe4_row0_col2, #T_5efe4_row0_col3, #T_5efe4_row0_col4, #T_5efe4_row0_col5, #T_5efe4_row0_col6, #T_5efe4_row0_col7 {\n",
       "  text-align: left;\n",
       "  background-color: yellow;\n",
       "}\n",
       "#T_5efe4_row0_col8 {\n",
       "  text-align: left;\n",
       "  background-color: yellow;\n",
       "  background-color: lightgrey;\n",
       "}\n",
       "</style>\n",
       "<table id=\"T_5efe4\">\n",
       "  <thead>\n",
       "    <tr>\n",
       "      <th class=\"blank level0\" >&nbsp;</th>\n",
       "      <th id=\"T_5efe4_level0_col0\" class=\"col_heading level0 col0\" >Model</th>\n",
       "      <th id=\"T_5efe4_level0_col1\" class=\"col_heading level0 col1\" >Accuracy</th>\n",
       "      <th id=\"T_5efe4_level0_col2\" class=\"col_heading level0 col2\" >AUC</th>\n",
       "      <th id=\"T_5efe4_level0_col3\" class=\"col_heading level0 col3\" >Recall</th>\n",
       "      <th id=\"T_5efe4_level0_col4\" class=\"col_heading level0 col4\" >Prec.</th>\n",
       "      <th id=\"T_5efe4_level0_col5\" class=\"col_heading level0 col5\" >F1</th>\n",
       "      <th id=\"T_5efe4_level0_col6\" class=\"col_heading level0 col6\" >Kappa</th>\n",
       "      <th id=\"T_5efe4_level0_col7\" class=\"col_heading level0 col7\" >MCC</th>\n",
       "      <th id=\"T_5efe4_level0_col8\" class=\"col_heading level0 col8\" >TT (Sec)</th>\n",
       "    </tr>\n",
       "  </thead>\n",
       "  <tbody>\n",
       "    <tr>\n",
       "      <th id=\"T_5efe4_level0_row0\" class=\"row_heading level0 row0\" >knn</th>\n",
       "      <td id=\"T_5efe4_row0_col0\" class=\"data row0 col0\" >K Neighbors Classifier</td>\n",
       "      <td id=\"T_5efe4_row0_col1\" class=\"data row0 col1\" >0.9333</td>\n",
       "      <td id=\"T_5efe4_row0_col2\" class=\"data row0 col2\" >0.9375</td>\n",
       "      <td id=\"T_5efe4_row0_col3\" class=\"data row0 col3\" >1.0000</td>\n",
       "      <td id=\"T_5efe4_row0_col4\" class=\"data row0 col4\" >0.9267</td>\n",
       "      <td id=\"T_5efe4_row0_col5\" class=\"data row0 col5\" >0.9578</td>\n",
       "      <td id=\"T_5efe4_row0_col6\" class=\"data row0 col6\" >0.8143</td>\n",
       "      <td id=\"T_5efe4_row0_col7\" class=\"data row0 col7\" >0.8265</td>\n",
       "      <td id=\"T_5efe4_row0_col8\" class=\"data row0 col8\" >0.0250</td>\n",
       "    </tr>\n",
       "  </tbody>\n",
       "</table>\n"
      ],
      "text/plain": [
       "<pandas.io.formats.style.Styler at 0x27fe5841c90>"
      ]
     },
     "metadata": {},
     "output_type": "display_data"
    },
    {
     "data": {
      "application/vnd.jupyter.widget-view+json": {
       "model_id": "911e2f4ebc0a4367ab40b6dbf6736b88",
       "version_major": 2,
       "version_minor": 0
      },
      "text/plain": [
       "Processing:   0%|          | 0/9 [00:00<?, ?it/s]"
      ]
     },
     "metadata": {},
     "output_type": "display_data"
    },
    {
     "data": {
      "text/html": [],
      "text/plain": [
       "<IPython.core.display.HTML object>"
      ]
     },
     "metadata": {},
     "output_type": "display_data"
    },
    {
     "data": {
      "text/html": [],
      "text/plain": [
       "<IPython.core.display.HTML object>"
      ]
     },
     "metadata": {},
     "output_type": "display_data"
    },
    {
     "data": {
      "text/html": [],
      "text/plain": [
       "<IPython.core.display.HTML object>"
      ]
     },
     "metadata": {},
     "output_type": "display_data"
    },
    {
     "data": {
      "text/html": [
       "<style type=\"text/css\">\n",
       "#T_01c3b th {\n",
       "  text-align: left;\n",
       "}\n",
       "#T_01c3b_row0_col0 {\n",
       "  text-align: left;\n",
       "}\n",
       "#T_01c3b_row0_col1, #T_01c3b_row0_col2, #T_01c3b_row0_col3, #T_01c3b_row0_col4, #T_01c3b_row0_col5, #T_01c3b_row0_col6, #T_01c3b_row0_col7 {\n",
       "  text-align: left;\n",
       "  background-color: yellow;\n",
       "}\n",
       "#T_01c3b_row0_col8 {\n",
       "  text-align: left;\n",
       "  background-color: yellow;\n",
       "  background-color: lightgrey;\n",
       "}\n",
       "</style>\n",
       "<table id=\"T_01c3b\">\n",
       "  <thead>\n",
       "    <tr>\n",
       "      <th class=\"blank level0\" >&nbsp;</th>\n",
       "      <th id=\"T_01c3b_level0_col0\" class=\"col_heading level0 col0\" >Model</th>\n",
       "      <th id=\"T_01c3b_level0_col1\" class=\"col_heading level0 col1\" >Accuracy</th>\n",
       "      <th id=\"T_01c3b_level0_col2\" class=\"col_heading level0 col2\" >AUC</th>\n",
       "      <th id=\"T_01c3b_level0_col3\" class=\"col_heading level0 col3\" >Recall</th>\n",
       "      <th id=\"T_01c3b_level0_col4\" class=\"col_heading level0 col4\" >Prec.</th>\n",
       "      <th id=\"T_01c3b_level0_col5\" class=\"col_heading level0 col5\" >F1</th>\n",
       "      <th id=\"T_01c3b_level0_col6\" class=\"col_heading level0 col6\" >Kappa</th>\n",
       "      <th id=\"T_01c3b_level0_col7\" class=\"col_heading level0 col7\" >MCC</th>\n",
       "      <th id=\"T_01c3b_level0_col8\" class=\"col_heading level0 col8\" >TT (Sec)</th>\n",
       "    </tr>\n",
       "  </thead>\n",
       "  <tbody>\n",
       "    <tr>\n",
       "      <th id=\"T_01c3b_level0_row0\" class=\"row_heading level0 row0\" >ridge</th>\n",
       "      <td id=\"T_01c3b_row0_col0\" class=\"data row0 col0\" >Ridge Classifier</td>\n",
       "      <td id=\"T_01c3b_row0_col1\" class=\"data row0 col1\" >0.9048</td>\n",
       "      <td id=\"T_01c3b_row0_col2\" class=\"data row0 col2\" >0.9792</td>\n",
       "      <td id=\"T_01c3b_row0_col3\" class=\"data row0 col3\" >0.9800</td>\n",
       "      <td id=\"T_01c3b_row0_col4\" class=\"data row0 col4\" >0.9000</td>\n",
       "      <td id=\"T_01c3b_row0_col5\" class=\"data row0 col5\" >0.9333</td>\n",
       "      <td id=\"T_01c3b_row0_col6\" class=\"data row0 col6\" >0.7677</td>\n",
       "      <td id=\"T_01c3b_row0_col7\" class=\"data row0 col7\" >0.7990</td>\n",
       "      <td id=\"T_01c3b_row0_col8\" class=\"data row0 col8\" >0.0280</td>\n",
       "    </tr>\n",
       "  </tbody>\n",
       "</table>\n"
      ],
      "text/plain": [
       "<pandas.io.formats.style.Styler at 0x27fe6ae78d0>"
      ]
     },
     "metadata": {},
     "output_type": "display_data"
    },
    {
     "data": {
      "application/vnd.jupyter.widget-view+json": {
       "model_id": "4aa8eff9482e473abf17a5a0e4c8cff6",
       "version_major": 2,
       "version_minor": 0
      },
      "text/plain": [
       "Processing:   0%|          | 0/9 [00:00<?, ?it/s]"
      ]
     },
     "metadata": {},
     "output_type": "display_data"
    },
    {
     "data": {
      "text/html": [],
      "text/plain": [
       "<IPython.core.display.HTML object>"
      ]
     },
     "metadata": {},
     "output_type": "display_data"
    },
    {
     "data": {
      "text/html": [],
      "text/plain": [
       "<IPython.core.display.HTML object>"
      ]
     },
     "metadata": {},
     "output_type": "display_data"
    },
    {
     "data": {
      "text/html": [],
      "text/plain": [
       "<IPython.core.display.HTML object>"
      ]
     },
     "metadata": {},
     "output_type": "display_data"
    },
    {
     "data": {
      "text/html": [
       "<style type=\"text/css\">\n",
       "#T_ac2a1 th {\n",
       "  text-align: left;\n",
       "}\n",
       "#T_ac2a1_row0_col0 {\n",
       "  text-align: left;\n",
       "}\n",
       "#T_ac2a1_row0_col1, #T_ac2a1_row0_col2, #T_ac2a1_row0_col3, #T_ac2a1_row0_col4, #T_ac2a1_row0_col5, #T_ac2a1_row0_col6, #T_ac2a1_row0_col7 {\n",
       "  text-align: left;\n",
       "  background-color: yellow;\n",
       "}\n",
       "#T_ac2a1_row0_col8 {\n",
       "  text-align: left;\n",
       "  background-color: yellow;\n",
       "  background-color: lightgrey;\n",
       "}\n",
       "</style>\n",
       "<table id=\"T_ac2a1\">\n",
       "  <thead>\n",
       "    <tr>\n",
       "      <th class=\"blank level0\" >&nbsp;</th>\n",
       "      <th id=\"T_ac2a1_level0_col0\" class=\"col_heading level0 col0\" >Model</th>\n",
       "      <th id=\"T_ac2a1_level0_col1\" class=\"col_heading level0 col1\" >Accuracy</th>\n",
       "      <th id=\"T_ac2a1_level0_col2\" class=\"col_heading level0 col2\" >AUC</th>\n",
       "      <th id=\"T_ac2a1_level0_col3\" class=\"col_heading level0 col3\" >Recall</th>\n",
       "      <th id=\"T_ac2a1_level0_col4\" class=\"col_heading level0 col4\" >Prec.</th>\n",
       "      <th id=\"T_ac2a1_level0_col5\" class=\"col_heading level0 col5\" >F1</th>\n",
       "      <th id=\"T_ac2a1_level0_col6\" class=\"col_heading level0 col6\" >Kappa</th>\n",
       "      <th id=\"T_ac2a1_level0_col7\" class=\"col_heading level0 col7\" >MCC</th>\n",
       "      <th id=\"T_ac2a1_level0_col8\" class=\"col_heading level0 col8\" >TT (Sec)</th>\n",
       "    </tr>\n",
       "  </thead>\n",
       "  <tbody>\n",
       "    <tr>\n",
       "      <th id=\"T_ac2a1_level0_row0\" class=\"row_heading level0 row0\" >gbc</th>\n",
       "      <td id=\"T_ac2a1_row0_col0\" class=\"data row0 col0\" >Gradient Boosting Classifier</td>\n",
       "      <td id=\"T_ac2a1_row0_col1\" class=\"data row0 col1\" >0.9048</td>\n",
       "      <td id=\"T_ac2a1_row0_col2\" class=\"data row0 col2\" >0.9317</td>\n",
       "      <td id=\"T_ac2a1_row0_col3\" class=\"data row0 col3\" >0.9050</td>\n",
       "      <td id=\"T_ac2a1_row0_col4\" class=\"data row0 col4\" >0.9500</td>\n",
       "      <td id=\"T_ac2a1_row0_col5\" class=\"data row0 col5\" >0.9246</td>\n",
       "      <td id=\"T_ac2a1_row0_col6\" class=\"data row0 col6\" >0.7916</td>\n",
       "      <td id=\"T_ac2a1_row0_col7\" class=\"data row0 col7\" >0.7980</td>\n",
       "      <td id=\"T_ac2a1_row0_col8\" class=\"data row0 col8\" >0.0520</td>\n",
       "    </tr>\n",
       "  </tbody>\n",
       "</table>\n"
      ],
      "text/plain": [
       "<pandas.io.formats.style.Styler at 0x27fe5852690>"
      ]
     },
     "metadata": {},
     "output_type": "display_data"
    },
    {
     "data": {
      "application/vnd.jupyter.widget-view+json": {
       "model_id": "dfe6c49385644e15a5492f0c1f1eb218",
       "version_major": 2,
       "version_minor": 0
      },
      "text/plain": [
       "Processing:   0%|          | 0/9 [00:00<?, ?it/s]"
      ]
     },
     "metadata": {},
     "output_type": "display_data"
    },
    {
     "data": {
      "text/html": [],
      "text/plain": [
       "<IPython.core.display.HTML object>"
      ]
     },
     "metadata": {},
     "output_type": "display_data"
    },
    {
     "data": {
      "text/html": [],
      "text/plain": [
       "<IPython.core.display.HTML object>"
      ]
     },
     "metadata": {},
     "output_type": "display_data"
    },
    {
     "data": {
      "text/html": [],
      "text/plain": [
       "<IPython.core.display.HTML object>"
      ]
     },
     "metadata": {},
     "output_type": "display_data"
    },
    {
     "data": {
      "text/html": [
       "<style type=\"text/css\">\n",
       "#T_648a8 th {\n",
       "  text-align: left;\n",
       "}\n",
       "#T_648a8_row0_col0 {\n",
       "  text-align: left;\n",
       "}\n",
       "#T_648a8_row0_col1, #T_648a8_row0_col2, #T_648a8_row0_col3, #T_648a8_row0_col4, #T_648a8_row0_col5, #T_648a8_row0_col6, #T_648a8_row0_col7 {\n",
       "  text-align: left;\n",
       "  background-color: yellow;\n",
       "}\n",
       "#T_648a8_row0_col8 {\n",
       "  text-align: left;\n",
       "  background-color: yellow;\n",
       "  background-color: lightgrey;\n",
       "}\n",
       "</style>\n",
       "<table id=\"T_648a8\">\n",
       "  <thead>\n",
       "    <tr>\n",
       "      <th class=\"blank level0\" >&nbsp;</th>\n",
       "      <th id=\"T_648a8_level0_col0\" class=\"col_heading level0 col0\" >Model</th>\n",
       "      <th id=\"T_648a8_level0_col1\" class=\"col_heading level0 col1\" >Accuracy</th>\n",
       "      <th id=\"T_648a8_level0_col2\" class=\"col_heading level0 col2\" >AUC</th>\n",
       "      <th id=\"T_648a8_level0_col3\" class=\"col_heading level0 col3\" >Recall</th>\n",
       "      <th id=\"T_648a8_level0_col4\" class=\"col_heading level0 col4\" >Prec.</th>\n",
       "      <th id=\"T_648a8_level0_col5\" class=\"col_heading level0 col5\" >F1</th>\n",
       "      <th id=\"T_648a8_level0_col6\" class=\"col_heading level0 col6\" >Kappa</th>\n",
       "      <th id=\"T_648a8_level0_col7\" class=\"col_heading level0 col7\" >MCC</th>\n",
       "      <th id=\"T_648a8_level0_col8\" class=\"col_heading level0 col8\" >TT (Sec)</th>\n",
       "    </tr>\n",
       "  </thead>\n",
       "  <tbody>\n",
       "    <tr>\n",
       "      <th id=\"T_648a8_level0_row0\" class=\"row_heading level0 row0\" >lda</th>\n",
       "      <td id=\"T_648a8_row0_col0\" class=\"data row0 col0\" >Linear Discriminant Analysis</td>\n",
       "      <td id=\"T_648a8_row0_col1\" class=\"data row0 col1\" >0.9048</td>\n",
       "      <td id=\"T_648a8_row0_col2\" class=\"data row0 col2\" >0.9792</td>\n",
       "      <td id=\"T_648a8_row0_col3\" class=\"data row0 col3\" >0.9800</td>\n",
       "      <td id=\"T_648a8_row0_col4\" class=\"data row0 col4\" >0.9000</td>\n",
       "      <td id=\"T_648a8_row0_col5\" class=\"data row0 col5\" >0.9333</td>\n",
       "      <td id=\"T_648a8_row0_col6\" class=\"data row0 col6\" >0.7677</td>\n",
       "      <td id=\"T_648a8_row0_col7\" class=\"data row0 col7\" >0.7990</td>\n",
       "      <td id=\"T_648a8_row0_col8\" class=\"data row0 col8\" >0.0200</td>\n",
       "    </tr>\n",
       "  </tbody>\n",
       "</table>\n"
      ],
      "text/plain": [
       "<pandas.io.formats.style.Styler at 0x27fe588cd50>"
      ]
     },
     "metadata": {},
     "output_type": "display_data"
    },
    {
     "data": {
      "application/vnd.jupyter.widget-view+json": {
       "model_id": "56d63969422148739fbe21b90afa6107",
       "version_major": 2,
       "version_minor": 0
      },
      "text/plain": [
       "Processing:   0%|          | 0/9 [00:00<?, ?it/s]"
      ]
     },
     "metadata": {},
     "output_type": "display_data"
    },
    {
     "data": {
      "text/html": [],
      "text/plain": [
       "<IPython.core.display.HTML object>"
      ]
     },
     "metadata": {},
     "output_type": "display_data"
    },
    {
     "data": {
      "text/html": [],
      "text/plain": [
       "<IPython.core.display.HTML object>"
      ]
     },
     "metadata": {},
     "output_type": "display_data"
    },
    {
     "data": {
      "text/html": [],
      "text/plain": [
       "<IPython.core.display.HTML object>"
      ]
     },
     "metadata": {},
     "output_type": "display_data"
    },
    {
     "data": {
      "text/html": [
       "<style type=\"text/css\">\n",
       "#T_cbfb8 th {\n",
       "  text-align: left;\n",
       "}\n",
       "#T_cbfb8_row0_col0 {\n",
       "  text-align: left;\n",
       "}\n",
       "#T_cbfb8_row0_col1, #T_cbfb8_row0_col2, #T_cbfb8_row0_col3, #T_cbfb8_row0_col4, #T_cbfb8_row0_col5, #T_cbfb8_row0_col6, #T_cbfb8_row0_col7 {\n",
       "  text-align: left;\n",
       "  background-color: yellow;\n",
       "}\n",
       "#T_cbfb8_row0_col8 {\n",
       "  text-align: left;\n",
       "  background-color: yellow;\n",
       "  background-color: lightgrey;\n",
       "}\n",
       "</style>\n",
       "<table id=\"T_cbfb8\">\n",
       "  <thead>\n",
       "    <tr>\n",
       "      <th class=\"blank level0\" >&nbsp;</th>\n",
       "      <th id=\"T_cbfb8_level0_col0\" class=\"col_heading level0 col0\" >Model</th>\n",
       "      <th id=\"T_cbfb8_level0_col1\" class=\"col_heading level0 col1\" >Accuracy</th>\n",
       "      <th id=\"T_cbfb8_level0_col2\" class=\"col_heading level0 col2\" >AUC</th>\n",
       "      <th id=\"T_cbfb8_level0_col3\" class=\"col_heading level0 col3\" >Recall</th>\n",
       "      <th id=\"T_cbfb8_level0_col4\" class=\"col_heading level0 col4\" >Prec.</th>\n",
       "      <th id=\"T_cbfb8_level0_col5\" class=\"col_heading level0 col5\" >F1</th>\n",
       "      <th id=\"T_cbfb8_level0_col6\" class=\"col_heading level0 col6\" >Kappa</th>\n",
       "      <th id=\"T_cbfb8_level0_col7\" class=\"col_heading level0 col7\" >MCC</th>\n",
       "      <th id=\"T_cbfb8_level0_col8\" class=\"col_heading level0 col8\" >TT (Sec)</th>\n",
       "    </tr>\n",
       "  </thead>\n",
       "  <tbody>\n",
       "    <tr>\n",
       "      <th id=\"T_cbfb8_level0_row0\" class=\"row_heading level0 row0\" >nb</th>\n",
       "      <td id=\"T_cbfb8_row0_col0\" class=\"data row0 col0\" >Naive Bayes</td>\n",
       "      <td id=\"T_cbfb8_row0_col1\" class=\"data row0 col1\" >0.8905</td>\n",
       "      <td id=\"T_cbfb8_row0_col2\" class=\"data row0 col2\" >0.9192</td>\n",
       "      <td id=\"T_cbfb8_row0_col3\" class=\"data row0 col3\" >0.8850</td>\n",
       "      <td id=\"T_cbfb8_row0_col4\" class=\"data row0 col4\" >0.9550</td>\n",
       "      <td id=\"T_cbfb8_row0_col5\" class=\"data row0 col5\" >0.9103</td>\n",
       "      <td id=\"T_cbfb8_row0_col6\" class=\"data row0 col6\" >0.7670</td>\n",
       "      <td id=\"T_cbfb8_row0_col7\" class=\"data row0 col7\" >0.7887</td>\n",
       "      <td id=\"T_cbfb8_row0_col8\" class=\"data row0 col8\" >0.0160</td>\n",
       "    </tr>\n",
       "  </tbody>\n",
       "</table>\n"
      ],
      "text/plain": [
       "<pandas.io.formats.style.Styler at 0x27fe5604450>"
      ]
     },
     "metadata": {},
     "output_type": "display_data"
    },
    {
     "data": {
      "application/vnd.jupyter.widget-view+json": {
       "model_id": "1f1fcc88461040a092945b1b0f5b65db",
       "version_major": 2,
       "version_minor": 0
      },
      "text/plain": [
       "Processing:   0%|          | 0/9 [00:00<?, ?it/s]"
      ]
     },
     "metadata": {},
     "output_type": "display_data"
    },
    {
     "data": {
      "text/html": [],
      "text/plain": [
       "<IPython.core.display.HTML object>"
      ]
     },
     "metadata": {},
     "output_type": "display_data"
    },
    {
     "data": {
      "text/html": [],
      "text/plain": [
       "<IPython.core.display.HTML object>"
      ]
     },
     "metadata": {},
     "output_type": "display_data"
    },
    {
     "data": {
      "text/html": [],
      "text/plain": [
       "<IPython.core.display.HTML object>"
      ]
     },
     "metadata": {},
     "output_type": "display_data"
    },
    {
     "data": {
      "text/html": [
       "<style type=\"text/css\">\n",
       "#T_2b6e1 th {\n",
       "  text-align: left;\n",
       "}\n",
       "#T_2b6e1_row0_col0 {\n",
       "  text-align: left;\n",
       "}\n",
       "#T_2b6e1_row0_col1, #T_2b6e1_row0_col2, #T_2b6e1_row0_col3, #T_2b6e1_row0_col4, #T_2b6e1_row0_col5, #T_2b6e1_row0_col6, #T_2b6e1_row0_col7 {\n",
       "  text-align: left;\n",
       "  background-color: yellow;\n",
       "}\n",
       "#T_2b6e1_row0_col8 {\n",
       "  text-align: left;\n",
       "  background-color: yellow;\n",
       "  background-color: lightgrey;\n",
       "}\n",
       "</style>\n",
       "<table id=\"T_2b6e1\">\n",
       "  <thead>\n",
       "    <tr>\n",
       "      <th class=\"blank level0\" >&nbsp;</th>\n",
       "      <th id=\"T_2b6e1_level0_col0\" class=\"col_heading level0 col0\" >Model</th>\n",
       "      <th id=\"T_2b6e1_level0_col1\" class=\"col_heading level0 col1\" >Accuracy</th>\n",
       "      <th id=\"T_2b6e1_level0_col2\" class=\"col_heading level0 col2\" >AUC</th>\n",
       "      <th id=\"T_2b6e1_level0_col3\" class=\"col_heading level0 col3\" >Recall</th>\n",
       "      <th id=\"T_2b6e1_level0_col4\" class=\"col_heading level0 col4\" >Prec.</th>\n",
       "      <th id=\"T_2b6e1_level0_col5\" class=\"col_heading level0 col5\" >F1</th>\n",
       "      <th id=\"T_2b6e1_level0_col6\" class=\"col_heading level0 col6\" >Kappa</th>\n",
       "      <th id=\"T_2b6e1_level0_col7\" class=\"col_heading level0 col7\" >MCC</th>\n",
       "      <th id=\"T_2b6e1_level0_col8\" class=\"col_heading level0 col8\" >TT (Sec)</th>\n",
       "    </tr>\n",
       "  </thead>\n",
       "  <tbody>\n",
       "    <tr>\n",
       "      <th id=\"T_2b6e1_level0_row0\" class=\"row_heading level0 row0\" >dt</th>\n",
       "      <td id=\"T_2b6e1_row0_col0\" class=\"data row0 col0\" >Decision Tree Classifier</td>\n",
       "      <td id=\"T_2b6e1_row0_col1\" class=\"data row0 col1\" >0.8881</td>\n",
       "      <td id=\"T_2b6e1_row0_col2\" class=\"data row0 col2\" >0.8775</td>\n",
       "      <td id=\"T_2b6e1_row0_col3\" class=\"data row0 col3\" >0.9050</td>\n",
       "      <td id=\"T_2b6e1_row0_col4\" class=\"data row0 col4\" >0.9300</td>\n",
       "      <td id=\"T_2b6e1_row0_col5\" class=\"data row0 col5\" >0.9135</td>\n",
       "      <td id=\"T_2b6e1_row0_col6\" class=\"data row0 col6\" >0.7487</td>\n",
       "      <td id=\"T_2b6e1_row0_col7\" class=\"data row0 col7\" >0.7613</td>\n",
       "      <td id=\"T_2b6e1_row0_col8\" class=\"data row0 col8\" >0.0200</td>\n",
       "    </tr>\n",
       "  </tbody>\n",
       "</table>\n"
      ],
      "text/plain": [
       "<pandas.io.formats.style.Styler at 0x27fe57d6110>"
      ]
     },
     "metadata": {},
     "output_type": "display_data"
    },
    {
     "data": {
      "application/vnd.jupyter.widget-view+json": {
       "model_id": "d67622d56f514c18b93f210d9f855f98",
       "version_major": 2,
       "version_minor": 0
      },
      "text/plain": [
       "Processing:   0%|          | 0/9 [00:00<?, ?it/s]"
      ]
     },
     "metadata": {},
     "output_type": "display_data"
    },
    {
     "data": {
      "text/html": [],
      "text/plain": [
       "<IPython.core.display.HTML object>"
      ]
     },
     "metadata": {},
     "output_type": "display_data"
    },
    {
     "data": {
      "text/html": [],
      "text/plain": [
       "<IPython.core.display.HTML object>"
      ]
     },
     "metadata": {},
     "output_type": "display_data"
    },
    {
     "data": {
      "text/html": [],
      "text/plain": [
       "<IPython.core.display.HTML object>"
      ]
     },
     "metadata": {},
     "output_type": "display_data"
    },
    {
     "data": {
      "text/html": [
       "<style type=\"text/css\">\n",
       "#T_bc38b th {\n",
       "  text-align: left;\n",
       "}\n",
       "#T_bc38b_row0_col0 {\n",
       "  text-align: left;\n",
       "}\n",
       "#T_bc38b_row0_col1, #T_bc38b_row0_col2, #T_bc38b_row0_col3, #T_bc38b_row0_col4, #T_bc38b_row0_col5, #T_bc38b_row0_col6, #T_bc38b_row0_col7 {\n",
       "  text-align: left;\n",
       "  background-color: yellow;\n",
       "}\n",
       "#T_bc38b_row0_col8 {\n",
       "  text-align: left;\n",
       "  background-color: yellow;\n",
       "  background-color: lightgrey;\n",
       "}\n",
       "</style>\n",
       "<table id=\"T_bc38b\">\n",
       "  <thead>\n",
       "    <tr>\n",
       "      <th class=\"blank level0\" >&nbsp;</th>\n",
       "      <th id=\"T_bc38b_level0_col0\" class=\"col_heading level0 col0\" >Model</th>\n",
       "      <th id=\"T_bc38b_level0_col1\" class=\"col_heading level0 col1\" >Accuracy</th>\n",
       "      <th id=\"T_bc38b_level0_col2\" class=\"col_heading level0 col2\" >AUC</th>\n",
       "      <th id=\"T_bc38b_level0_col3\" class=\"col_heading level0 col3\" >Recall</th>\n",
       "      <th id=\"T_bc38b_level0_col4\" class=\"col_heading level0 col4\" >Prec.</th>\n",
       "      <th id=\"T_bc38b_level0_col5\" class=\"col_heading level0 col5\" >F1</th>\n",
       "      <th id=\"T_bc38b_level0_col6\" class=\"col_heading level0 col6\" >Kappa</th>\n",
       "      <th id=\"T_bc38b_level0_col7\" class=\"col_heading level0 col7\" >MCC</th>\n",
       "      <th id=\"T_bc38b_level0_col8\" class=\"col_heading level0 col8\" >TT (Sec)</th>\n",
       "    </tr>\n",
       "  </thead>\n",
       "  <tbody>\n",
       "    <tr>\n",
       "      <th id=\"T_bc38b_level0_row0\" class=\"row_heading level0 row0\" >xgboost</th>\n",
       "      <td id=\"T_bc38b_row0_col0\" class=\"data row0 col0\" >Extreme Gradient Boosting</td>\n",
       "      <td id=\"T_bc38b_row0_col1\" class=\"data row0 col1\" >0.8738</td>\n",
       "      <td id=\"T_bc38b_row0_col2\" class=\"data row0 col2\" >0.9292</td>\n",
       "      <td id=\"T_bc38b_row0_col3\" class=\"data row0 col3\" >0.9300</td>\n",
       "      <td id=\"T_bc38b_row0_col4\" class=\"data row0 col4\" >0.8900</td>\n",
       "      <td id=\"T_bc38b_row0_col5\" class=\"data row0 col5\" >0.9056</td>\n",
       "      <td id=\"T_bc38b_row0_col6\" class=\"data row0 col6\" >0.7077</td>\n",
       "      <td id=\"T_bc38b_row0_col7\" class=\"data row0 col7\" >0.7294</td>\n",
       "      <td id=\"T_bc38b_row0_col8\" class=\"data row0 col8\" >0.0400</td>\n",
       "    </tr>\n",
       "  </tbody>\n",
       "</table>\n"
      ],
      "text/plain": [
       "<pandas.io.formats.style.Styler at 0x27fe581f650>"
      ]
     },
     "metadata": {},
     "output_type": "display_data"
    },
    {
     "data": {
      "application/vnd.jupyter.widget-view+json": {
       "model_id": "34e855a4cb7c454aab58648b36ef71e4",
       "version_major": 2,
       "version_minor": 0
      },
      "text/plain": [
       "Processing:   0%|          | 0/9 [00:00<?, ?it/s]"
      ]
     },
     "metadata": {},
     "output_type": "display_data"
    },
    {
     "data": {
      "text/html": [],
      "text/plain": [
       "<IPython.core.display.HTML object>"
      ]
     },
     "metadata": {},
     "output_type": "display_data"
    },
    {
     "data": {
      "text/html": [],
      "text/plain": [
       "<IPython.core.display.HTML object>"
      ]
     },
     "metadata": {},
     "output_type": "display_data"
    },
    {
     "data": {
      "text/html": [],
      "text/plain": [
       "<IPython.core.display.HTML object>"
      ]
     },
     "metadata": {},
     "output_type": "display_data"
    },
    {
     "data": {
      "text/html": [
       "<style type=\"text/css\">\n",
       "#T_9e9e0 th {\n",
       "  text-align: left;\n",
       "}\n",
       "#T_9e9e0_row0_col0 {\n",
       "  text-align: left;\n",
       "}\n",
       "#T_9e9e0_row0_col1, #T_9e9e0_row0_col2, #T_9e9e0_row0_col3, #T_9e9e0_row0_col4, #T_9e9e0_row0_col5, #T_9e9e0_row0_col6, #T_9e9e0_row0_col7 {\n",
       "  text-align: left;\n",
       "  background-color: yellow;\n",
       "}\n",
       "#T_9e9e0_row0_col8 {\n",
       "  text-align: left;\n",
       "  background-color: yellow;\n",
       "  background-color: lightgrey;\n",
       "}\n",
       "</style>\n",
       "<table id=\"T_9e9e0\">\n",
       "  <thead>\n",
       "    <tr>\n",
       "      <th class=\"blank level0\" >&nbsp;</th>\n",
       "      <th id=\"T_9e9e0_level0_col0\" class=\"col_heading level0 col0\" >Model</th>\n",
       "      <th id=\"T_9e9e0_level0_col1\" class=\"col_heading level0 col1\" >Accuracy</th>\n",
       "      <th id=\"T_9e9e0_level0_col2\" class=\"col_heading level0 col2\" >AUC</th>\n",
       "      <th id=\"T_9e9e0_level0_col3\" class=\"col_heading level0 col3\" >Recall</th>\n",
       "      <th id=\"T_9e9e0_level0_col4\" class=\"col_heading level0 col4\" >Prec.</th>\n",
       "      <th id=\"T_9e9e0_level0_col5\" class=\"col_heading level0 col5\" >F1</th>\n",
       "      <th id=\"T_9e9e0_level0_col6\" class=\"col_heading level0 col6\" >Kappa</th>\n",
       "      <th id=\"T_9e9e0_level0_col7\" class=\"col_heading level0 col7\" >MCC</th>\n",
       "      <th id=\"T_9e9e0_level0_col8\" class=\"col_heading level0 col8\" >TT (Sec)</th>\n",
       "    </tr>\n",
       "  </thead>\n",
       "  <tbody>\n",
       "    <tr>\n",
       "      <th id=\"T_9e9e0_level0_row0\" class=\"row_heading level0 row0\" >rf</th>\n",
       "      <td id=\"T_9e9e0_row0_col0\" class=\"data row0 col0\" >Random Forest Classifier</td>\n",
       "      <td id=\"T_9e9e0_row0_col1\" class=\"data row0 col1\" >0.8714</td>\n",
       "      <td id=\"T_9e9e0_row0_col2\" class=\"data row0 col2\" >0.9667</td>\n",
       "      <td id=\"T_9e9e0_row0_col3\" class=\"data row0 col3\" >0.9500</td>\n",
       "      <td id=\"T_9e9e0_row0_col4\" class=\"data row0 col4\" >0.8700</td>\n",
       "      <td id=\"T_9e9e0_row0_col5\" class=\"data row0 col5\" >0.9056</td>\n",
       "      <td id=\"T_9e9e0_row0_col6\" class=\"data row0 col6\" >0.6952</td>\n",
       "      <td id=\"T_9e9e0_row0_col7\" class=\"data row0 col7\" >0.7196</td>\n",
       "      <td id=\"T_9e9e0_row0_col8\" class=\"data row0 col8\" >0.1020</td>\n",
       "    </tr>\n",
       "  </tbody>\n",
       "</table>\n"
      ],
      "text/plain": [
       "<pandas.io.formats.style.Styler at 0x27fe27057d0>"
      ]
     },
     "metadata": {},
     "output_type": "display_data"
    },
    {
     "data": {
      "application/vnd.jupyter.widget-view+json": {
       "model_id": "b1e9f761878f459d8354af144f4c9e0f",
       "version_major": 2,
       "version_minor": 0
      },
      "text/plain": [
       "Processing:   0%|          | 0/9 [00:00<?, ?it/s]"
      ]
     },
     "metadata": {},
     "output_type": "display_data"
    },
    {
     "data": {
      "text/html": [],
      "text/plain": [
       "<IPython.core.display.HTML object>"
      ]
     },
     "metadata": {},
     "output_type": "display_data"
    },
    {
     "data": {
      "text/html": [],
      "text/plain": [
       "<IPython.core.display.HTML object>"
      ]
     },
     "metadata": {},
     "output_type": "display_data"
    },
    {
     "data": {
      "text/html": [],
      "text/plain": [
       "<IPython.core.display.HTML object>"
      ]
     },
     "metadata": {},
     "output_type": "display_data"
    },
    {
     "data": {
      "text/html": [
       "<style type=\"text/css\">\n",
       "#T_043a0 th {\n",
       "  text-align: left;\n",
       "}\n",
       "#T_043a0_row0_col0 {\n",
       "  text-align: left;\n",
       "}\n",
       "#T_043a0_row0_col1, #T_043a0_row0_col2, #T_043a0_row0_col3, #T_043a0_row0_col4, #T_043a0_row0_col5, #T_043a0_row0_col6, #T_043a0_row0_col7 {\n",
       "  text-align: left;\n",
       "  background-color: yellow;\n",
       "}\n",
       "#T_043a0_row0_col8 {\n",
       "  text-align: left;\n",
       "  background-color: yellow;\n",
       "  background-color: lightgrey;\n",
       "}\n",
       "</style>\n",
       "<table id=\"T_043a0\">\n",
       "  <thead>\n",
       "    <tr>\n",
       "      <th class=\"blank level0\" >&nbsp;</th>\n",
       "      <th id=\"T_043a0_level0_col0\" class=\"col_heading level0 col0\" >Model</th>\n",
       "      <th id=\"T_043a0_level0_col1\" class=\"col_heading level0 col1\" >Accuracy</th>\n",
       "      <th id=\"T_043a0_level0_col2\" class=\"col_heading level0 col2\" >AUC</th>\n",
       "      <th id=\"T_043a0_level0_col3\" class=\"col_heading level0 col3\" >Recall</th>\n",
       "      <th id=\"T_043a0_level0_col4\" class=\"col_heading level0 col4\" >Prec.</th>\n",
       "      <th id=\"T_043a0_level0_col5\" class=\"col_heading level0 col5\" >F1</th>\n",
       "      <th id=\"T_043a0_level0_col6\" class=\"col_heading level0 col6\" >Kappa</th>\n",
       "      <th id=\"T_043a0_level0_col7\" class=\"col_heading level0 col7\" >MCC</th>\n",
       "      <th id=\"T_043a0_level0_col8\" class=\"col_heading level0 col8\" >TT (Sec)</th>\n",
       "    </tr>\n",
       "  </thead>\n",
       "  <tbody>\n",
       "    <tr>\n",
       "      <th id=\"T_043a0_level0_row0\" class=\"row_heading level0 row0\" >lightgbm</th>\n",
       "      <td id=\"T_043a0_row0_col0\" class=\"data row0 col0\" >Light Gradient Boosting Machine</td>\n",
       "      <td id=\"T_043a0_row0_col1\" class=\"data row0 col1\" >0.8690</td>\n",
       "      <td id=\"T_043a0_row0_col2\" class=\"data row0 col2\" >0.9750</td>\n",
       "      <td id=\"T_043a0_row0_col3\" class=\"data row0 col3\" >0.9800</td>\n",
       "      <td id=\"T_043a0_row0_col4\" class=\"data row0 col4\" >0.8733</td>\n",
       "      <td id=\"T_043a0_row0_col5\" class=\"data row0 col5\" >0.9156</td>\n",
       "      <td id=\"T_043a0_row0_col6\" class=\"data row0 col6\" >0.6410</td>\n",
       "      <td id=\"T_043a0_row0_col7\" class=\"data row0 col7\" >0.6628</td>\n",
       "      <td id=\"T_043a0_row0_col8\" class=\"data row0 col8\" >0.0410</td>\n",
       "    </tr>\n",
       "  </tbody>\n",
       "</table>\n"
      ],
      "text/plain": [
       "<pandas.io.formats.style.Styler at 0x27fe5a94790>"
      ]
     },
     "metadata": {},
     "output_type": "display_data"
    },
    {
     "data": {
      "application/vnd.jupyter.widget-view+json": {
       "model_id": "70077cc151d141a8b0c98cd89d4d0c2a",
       "version_major": 2,
       "version_minor": 0
      },
      "text/plain": [
       "Processing:   0%|          | 0/9 [00:00<?, ?it/s]"
      ]
     },
     "metadata": {},
     "output_type": "display_data"
    },
    {
     "data": {
      "text/html": [],
      "text/plain": [
       "<IPython.core.display.HTML object>"
      ]
     },
     "metadata": {},
     "output_type": "display_data"
    },
    {
     "data": {
      "text/html": [],
      "text/plain": [
       "<IPython.core.display.HTML object>"
      ]
     },
     "metadata": {},
     "output_type": "display_data"
    },
    {
     "data": {
      "text/html": [],
      "text/plain": [
       "<IPython.core.display.HTML object>"
      ]
     },
     "metadata": {},
     "output_type": "display_data"
    },
    {
     "data": {
      "text/html": [
       "<style type=\"text/css\">\n",
       "#T_e11b4 th {\n",
       "  text-align: left;\n",
       "}\n",
       "#T_e11b4_row0_col0 {\n",
       "  text-align: left;\n",
       "}\n",
       "#T_e11b4_row0_col1, #T_e11b4_row0_col2, #T_e11b4_row0_col3, #T_e11b4_row0_col4, #T_e11b4_row0_col5, #T_e11b4_row0_col6, #T_e11b4_row0_col7 {\n",
       "  text-align: left;\n",
       "  background-color: yellow;\n",
       "}\n",
       "#T_e11b4_row0_col8 {\n",
       "  text-align: left;\n",
       "  background-color: yellow;\n",
       "  background-color: lightgrey;\n",
       "}\n",
       "</style>\n",
       "<table id=\"T_e11b4\">\n",
       "  <thead>\n",
       "    <tr>\n",
       "      <th class=\"blank level0\" >&nbsp;</th>\n",
       "      <th id=\"T_e11b4_level0_col0\" class=\"col_heading level0 col0\" >Model</th>\n",
       "      <th id=\"T_e11b4_level0_col1\" class=\"col_heading level0 col1\" >Accuracy</th>\n",
       "      <th id=\"T_e11b4_level0_col2\" class=\"col_heading level0 col2\" >AUC</th>\n",
       "      <th id=\"T_e11b4_level0_col3\" class=\"col_heading level0 col3\" >Recall</th>\n",
       "      <th id=\"T_e11b4_level0_col4\" class=\"col_heading level0 col4\" >Prec.</th>\n",
       "      <th id=\"T_e11b4_level0_col5\" class=\"col_heading level0 col5\" >F1</th>\n",
       "      <th id=\"T_e11b4_level0_col6\" class=\"col_heading level0 col6\" >Kappa</th>\n",
       "      <th id=\"T_e11b4_level0_col7\" class=\"col_heading level0 col7\" >MCC</th>\n",
       "      <th id=\"T_e11b4_level0_col8\" class=\"col_heading level0 col8\" >TT (Sec)</th>\n",
       "    </tr>\n",
       "  </thead>\n",
       "  <tbody>\n",
       "    <tr>\n",
       "      <th id=\"T_e11b4_level0_row0\" class=\"row_heading level0 row0\" >ada</th>\n",
       "      <td id=\"T_e11b4_row0_col0\" class=\"data row0 col0\" >Ada Boost Classifier</td>\n",
       "      <td id=\"T_e11b4_row0_col1\" class=\"data row0 col1\" >0.8571</td>\n",
       "      <td id=\"T_e11b4_row0_col2\" class=\"data row0 col2\" >0.9667</td>\n",
       "      <td id=\"T_e11b4_row0_col3\" class=\"data row0 col3\" >0.9100</td>\n",
       "      <td id=\"T_e11b4_row0_col4\" class=\"data row0 col4\" >0.8950</td>\n",
       "      <td id=\"T_e11b4_row0_col5\" class=\"data row0 col5\" >0.8913</td>\n",
       "      <td id=\"T_e11b4_row0_col6\" class=\"data row0 col6\" >0.6717</td>\n",
       "      <td id=\"T_e11b4_row0_col7\" class=\"data row0 col7\" >0.7078</td>\n",
       "      <td id=\"T_e11b4_row0_col8\" class=\"data row0 col8\" >0.0490</td>\n",
       "    </tr>\n",
       "  </tbody>\n",
       "</table>\n"
      ],
      "text/plain": [
       "<pandas.io.formats.style.Styler at 0x27fe5818c90>"
      ]
     },
     "metadata": {},
     "output_type": "display_data"
    },
    {
     "data": {
      "application/vnd.jupyter.widget-view+json": {
       "model_id": "74e85d573a5b49e9af17d7c07c799c8d",
       "version_major": 2,
       "version_minor": 0
      },
      "text/plain": [
       "Processing:   0%|          | 0/9 [00:00<?, ?it/s]"
      ]
     },
     "metadata": {},
     "output_type": "display_data"
    },
    {
     "data": {
      "text/html": [],
      "text/plain": [
       "<IPython.core.display.HTML object>"
      ]
     },
     "metadata": {},
     "output_type": "display_data"
    },
    {
     "data": {
      "text/html": [],
      "text/plain": [
       "<IPython.core.display.HTML object>"
      ]
     },
     "metadata": {},
     "output_type": "display_data"
    },
    {
     "data": {
      "text/html": [],
      "text/plain": [
       "<IPython.core.display.HTML object>"
      ]
     },
     "metadata": {},
     "output_type": "display_data"
    },
    {
     "data": {
      "text/html": [
       "<style type=\"text/css\">\n",
       "#T_8bfb3 th {\n",
       "  text-align: left;\n",
       "}\n",
       "#T_8bfb3_row0_col0 {\n",
       "  text-align: left;\n",
       "}\n",
       "#T_8bfb3_row0_col1, #T_8bfb3_row0_col2, #T_8bfb3_row0_col3, #T_8bfb3_row0_col4, #T_8bfb3_row0_col5, #T_8bfb3_row0_col6, #T_8bfb3_row0_col7 {\n",
       "  text-align: left;\n",
       "  background-color: yellow;\n",
       "}\n",
       "#T_8bfb3_row0_col8 {\n",
       "  text-align: left;\n",
       "  background-color: yellow;\n",
       "  background-color: lightgrey;\n",
       "}\n",
       "</style>\n",
       "<table id=\"T_8bfb3\">\n",
       "  <thead>\n",
       "    <tr>\n",
       "      <th class=\"blank level0\" >&nbsp;</th>\n",
       "      <th id=\"T_8bfb3_level0_col0\" class=\"col_heading level0 col0\" >Model</th>\n",
       "      <th id=\"T_8bfb3_level0_col1\" class=\"col_heading level0 col1\" >Accuracy</th>\n",
       "      <th id=\"T_8bfb3_level0_col2\" class=\"col_heading level0 col2\" >AUC</th>\n",
       "      <th id=\"T_8bfb3_level0_col3\" class=\"col_heading level0 col3\" >Recall</th>\n",
       "      <th id=\"T_8bfb3_level0_col4\" class=\"col_heading level0 col4\" >Prec.</th>\n",
       "      <th id=\"T_8bfb3_level0_col5\" class=\"col_heading level0 col5\" >F1</th>\n",
       "      <th id=\"T_8bfb3_level0_col6\" class=\"col_heading level0 col6\" >Kappa</th>\n",
       "      <th id=\"T_8bfb3_level0_col7\" class=\"col_heading level0 col7\" >MCC</th>\n",
       "      <th id=\"T_8bfb3_level0_col8\" class=\"col_heading level0 col8\" >TT (Sec)</th>\n",
       "    </tr>\n",
       "  </thead>\n",
       "  <tbody>\n",
       "    <tr>\n",
       "      <th id=\"T_8bfb3_level0_row0\" class=\"row_heading level0 row0\" >et</th>\n",
       "      <td id=\"T_8bfb3_row0_col0\" class=\"data row0 col0\" >Extra Trees Classifier</td>\n",
       "      <td id=\"T_8bfb3_row0_col1\" class=\"data row0 col1\" >0.8571</td>\n",
       "      <td id=\"T_8bfb3_row0_col2\" class=\"data row0 col2\" >0.9417</td>\n",
       "      <td id=\"T_8bfb3_row0_col3\" class=\"data row0 col3\" >0.9300</td>\n",
       "      <td id=\"T_8bfb3_row0_col4\" class=\"data row0 col4\" >0.8700</td>\n",
       "      <td id=\"T_8bfb3_row0_col5\" class=\"data row0 col5\" >0.8944</td>\n",
       "      <td id=\"T_8bfb3_row0_col6\" class=\"data row0 col6\" >0.6648</td>\n",
       "      <td id=\"T_8bfb3_row0_col7\" class=\"data row0 col7\" >0.6927</td>\n",
       "      <td id=\"T_8bfb3_row0_col8\" class=\"data row0 col8\" >0.0650</td>\n",
       "    </tr>\n",
       "  </tbody>\n",
       "</table>\n"
      ],
      "text/plain": [
       "<pandas.io.formats.style.Styler at 0x27fe5a962d0>"
      ]
     },
     "metadata": {},
     "output_type": "display_data"
    },
    {
     "data": {
      "application/vnd.jupyter.widget-view+json": {
       "model_id": "b2b1a3beea7a4257a04a981b551cf1cf",
       "version_major": 2,
       "version_minor": 0
      },
      "text/plain": [
       "Processing:   0%|          | 0/9 [00:00<?, ?it/s]"
      ]
     },
     "metadata": {},
     "output_type": "display_data"
    },
    {
     "data": {
      "text/html": [],
      "text/plain": [
       "<IPython.core.display.HTML object>"
      ]
     },
     "metadata": {},
     "output_type": "display_data"
    },
    {
     "data": {
      "text/html": [],
      "text/plain": [
       "<IPython.core.display.HTML object>"
      ]
     },
     "metadata": {},
     "output_type": "display_data"
    },
    {
     "data": {
      "text/html": [],
      "text/plain": [
       "<IPython.core.display.HTML object>"
      ]
     },
     "metadata": {},
     "output_type": "display_data"
    },
    {
     "data": {
      "text/html": [
       "<style type=\"text/css\">\n",
       "#T_4b6d2 th {\n",
       "  text-align: left;\n",
       "}\n",
       "#T_4b6d2_row0_col0 {\n",
       "  text-align: left;\n",
       "}\n",
       "#T_4b6d2_row0_col1, #T_4b6d2_row0_col2, #T_4b6d2_row0_col3, #T_4b6d2_row0_col4, #T_4b6d2_row0_col5, #T_4b6d2_row0_col6, #T_4b6d2_row0_col7 {\n",
       "  text-align: left;\n",
       "  background-color: yellow;\n",
       "}\n",
       "#T_4b6d2_row0_col8 {\n",
       "  text-align: left;\n",
       "  background-color: yellow;\n",
       "  background-color: lightgrey;\n",
       "}\n",
       "</style>\n",
       "<table id=\"T_4b6d2\">\n",
       "  <thead>\n",
       "    <tr>\n",
       "      <th class=\"blank level0\" >&nbsp;</th>\n",
       "      <th id=\"T_4b6d2_level0_col0\" class=\"col_heading level0 col0\" >Model</th>\n",
       "      <th id=\"T_4b6d2_level0_col1\" class=\"col_heading level0 col1\" >Accuracy</th>\n",
       "      <th id=\"T_4b6d2_level0_col2\" class=\"col_heading level0 col2\" >AUC</th>\n",
       "      <th id=\"T_4b6d2_level0_col3\" class=\"col_heading level0 col3\" >Recall</th>\n",
       "      <th id=\"T_4b6d2_level0_col4\" class=\"col_heading level0 col4\" >Prec.</th>\n",
       "      <th id=\"T_4b6d2_level0_col5\" class=\"col_heading level0 col5\" >F1</th>\n",
       "      <th id=\"T_4b6d2_level0_col6\" class=\"col_heading level0 col6\" >Kappa</th>\n",
       "      <th id=\"T_4b6d2_level0_col7\" class=\"col_heading level0 col7\" >MCC</th>\n",
       "      <th id=\"T_4b6d2_level0_col8\" class=\"col_heading level0 col8\" >TT (Sec)</th>\n",
       "    </tr>\n",
       "  </thead>\n",
       "  <tbody>\n",
       "    <tr>\n",
       "      <th id=\"T_4b6d2_level0_row0\" class=\"row_heading level0 row0\" >svm</th>\n",
       "      <td id=\"T_4b6d2_row0_col0\" class=\"data row0 col0\" >SVM - Linear Kernel</td>\n",
       "      <td id=\"T_4b6d2_row0_col1\" class=\"data row0 col1\" >0.8548</td>\n",
       "      <td id=\"T_4b6d2_row0_col2\" class=\"data row0 col2\" >0.9625</td>\n",
       "      <td id=\"T_4b6d2_row0_col3\" class=\"data row0 col3\" >0.9050</td>\n",
       "      <td id=\"T_4b6d2_row0_col4\" class=\"data row0 col4\" >0.8867</td>\n",
       "      <td id=\"T_4b6d2_row0_col5\" class=\"data row0 col5\" >0.8873</td>\n",
       "      <td id=\"T_4b6d2_row0_col6\" class=\"data row0 col6\" >0.6772</td>\n",
       "      <td id=\"T_4b6d2_row0_col7\" class=\"data row0 col7\" >0.7065</td>\n",
       "      <td id=\"T_4b6d2_row0_col8\" class=\"data row0 col8\" >0.0160</td>\n",
       "    </tr>\n",
       "  </tbody>\n",
       "</table>\n"
      ],
      "text/plain": [
       "<pandas.io.formats.style.Styler at 0x27fe580d210>"
      ]
     },
     "metadata": {},
     "output_type": "display_data"
    },
    {
     "data": {
      "application/vnd.jupyter.widget-view+json": {
       "model_id": "7ba09404e3dd4467a02d9c9b45cbe9dc",
       "version_major": 2,
       "version_minor": 0
      },
      "text/plain": [
       "Processing:   0%|          | 0/9 [00:00<?, ?it/s]"
      ]
     },
     "metadata": {},
     "output_type": "display_data"
    },
    {
     "data": {
      "text/html": [],
      "text/plain": [
       "<IPython.core.display.HTML object>"
      ]
     },
     "metadata": {},
     "output_type": "display_data"
    },
    {
     "data": {
      "text/html": [],
      "text/plain": [
       "<IPython.core.display.HTML object>"
      ]
     },
     "metadata": {},
     "output_type": "display_data"
    },
    {
     "data": {
      "text/html": [],
      "text/plain": [
       "<IPython.core.display.HTML object>"
      ]
     },
     "metadata": {},
     "output_type": "display_data"
    },
    {
     "data": {
      "text/html": [
       "<style type=\"text/css\">\n",
       "#T_61aa6 th {\n",
       "  text-align: left;\n",
       "}\n",
       "#T_61aa6_row0_col0 {\n",
       "  text-align: left;\n",
       "}\n",
       "#T_61aa6_row0_col1, #T_61aa6_row0_col2, #T_61aa6_row0_col3, #T_61aa6_row0_col4, #T_61aa6_row0_col5, #T_61aa6_row0_col6, #T_61aa6_row0_col7 {\n",
       "  text-align: left;\n",
       "  background-color: yellow;\n",
       "}\n",
       "#T_61aa6_row0_col8 {\n",
       "  text-align: left;\n",
       "  background-color: yellow;\n",
       "  background-color: lightgrey;\n",
       "}\n",
       "</style>\n",
       "<table id=\"T_61aa6\">\n",
       "  <thead>\n",
       "    <tr>\n",
       "      <th class=\"blank level0\" >&nbsp;</th>\n",
       "      <th id=\"T_61aa6_level0_col0\" class=\"col_heading level0 col0\" >Model</th>\n",
       "      <th id=\"T_61aa6_level0_col1\" class=\"col_heading level0 col1\" >Accuracy</th>\n",
       "      <th id=\"T_61aa6_level0_col2\" class=\"col_heading level0 col2\" >AUC</th>\n",
       "      <th id=\"T_61aa6_level0_col3\" class=\"col_heading level0 col3\" >Recall</th>\n",
       "      <th id=\"T_61aa6_level0_col4\" class=\"col_heading level0 col4\" >Prec.</th>\n",
       "      <th id=\"T_61aa6_level0_col5\" class=\"col_heading level0 col5\" >F1</th>\n",
       "      <th id=\"T_61aa6_level0_col6\" class=\"col_heading level0 col6\" >Kappa</th>\n",
       "      <th id=\"T_61aa6_level0_col7\" class=\"col_heading level0 col7\" >MCC</th>\n",
       "      <th id=\"T_61aa6_level0_col8\" class=\"col_heading level0 col8\" >TT (Sec)</th>\n",
       "    </tr>\n",
       "  </thead>\n",
       "  <tbody>\n",
       "    <tr>\n",
       "      <th id=\"T_61aa6_level0_row0\" class=\"row_heading level0 row0\" >dummy</th>\n",
       "      <td id=\"T_61aa6_row0_col0\" class=\"data row0 col0\" >Dummy Classifier</td>\n",
       "      <td id=\"T_61aa6_row0_col1\" class=\"data row0 col1\" >0.6667</td>\n",
       "      <td id=\"T_61aa6_row0_col2\" class=\"data row0 col2\" >0.5000</td>\n",
       "      <td id=\"T_61aa6_row0_col3\" class=\"data row0 col3\" >1.0000</td>\n",
       "      <td id=\"T_61aa6_row0_col4\" class=\"data row0 col4\" >0.6667</td>\n",
       "      <td id=\"T_61aa6_row0_col5\" class=\"data row0 col5\" >0.7994</td>\n",
       "      <td id=\"T_61aa6_row0_col6\" class=\"data row0 col6\" >0.0000</td>\n",
       "      <td id=\"T_61aa6_row0_col7\" class=\"data row0 col7\" >0.0000</td>\n",
       "      <td id=\"T_61aa6_row0_col8\" class=\"data row0 col8\" >0.0120</td>\n",
       "    </tr>\n",
       "  </tbody>\n",
       "</table>\n"
      ],
      "text/plain": [
       "<pandas.io.formats.style.Styler at 0x27fe5763150>"
      ]
     },
     "metadata": {},
     "output_type": "display_data"
    },
    {
     "data": {
      "application/vnd.jupyter.widget-view+json": {
       "model_id": "36729705211b40fc9e2d69d854b5a67a",
       "version_major": 2,
       "version_minor": 0
      },
      "text/plain": [
       "Processing:   0%|          | 0/9 [00:00<?, ?it/s]"
      ]
     },
     "metadata": {},
     "output_type": "display_data"
    },
    {
     "data": {
      "text/html": [],
      "text/plain": [
       "<IPython.core.display.HTML object>"
      ]
     },
     "metadata": {},
     "output_type": "display_data"
    },
    {
     "data": {
      "text/html": [],
      "text/plain": [
       "<IPython.core.display.HTML object>"
      ]
     },
     "metadata": {},
     "output_type": "display_data"
    }
   ],
   "source": [
    "import pandas as pd\n",
    "from pycaret.classification import setup, compare_models, predict_model, finalize_model, pull\n",
    "from sklearn.metrics import accuracy_score, f1_score\n",
    "from sklearn.model_selection import train_test_split\n",
    "import joblib\n",
    "\n",
    "# Load the CSV file into a DataFrame\n",
    "df = pd.read_csv('../data/players_df_sin_reco.csv')\n",
    "\n",
    "# Select features (columns 7 to 20, 0-based index: 6 to 19)\n",
    "X = df.iloc[:, 6:20]\n",
    "\n",
    "# Select the 6th column from the end as the target\n",
    "y = df.iloc[:, -6]\n",
    "\n",
    "# Split data into training and testing sets\n",
    "X_train, X_test, y_train, y_test = train_test_split(X, y, test_size=0.2, random_state=42)\n",
    "\n",
    "# Create an empty DataFrame to store results\n",
    "allactionmidfielder_df = pd.DataFrame(columns=['model', 'train_accuracy', 'test_accuracy', 'train_f1', 'test_f1', 'TT'])\n",
    "\n",
    "# Concatenate X_train and y_train into a DataFrame for PyCaret setup\n",
    "df_target = pd.concat([X_train, y_train], axis=1)\n",
    "\n",
    "# Setup PyCaret environment\n",
    "clf = setup(data=df_target, target=y.name, session_id=42)\n",
    "\n",
    "# Compare different models and store the results\n",
    "best_model = compare_models()  # This returns the top model\n",
    "compare_results = pull()  # Pulls all model results as a DataFrame\n",
    "\n",
    "# Define the mapping from model names to PyCaret identifiers\n",
    "model_mapping = {\n",
    "    'K Neighbors Classifier': 'knn',\n",
    "    'Random Forest Classifier': 'rf',\n",
    "    'Logistic Regression': 'lr',\n",
    "    'Decision Tree Classifier': 'dt',\n",
    "    'Ada Boost Classifier': 'ada',\n",
    "    'Gradient Boosting Classifier': 'gbc',\n",
    "    'Naive Bayes': 'nb',\n",
    "    'SVM - Linear Kernel': 'svm',\n",
    "    'Extra Trees Classifier': 'et',\n",
    "    'Light Gradient Boosting Machine': 'lightgbm',\n",
    "    'Ridge Classifier': 'ridge',\n",
    "    'Linear Discriminant Analysis': 'lda',\n",
    "    'Extreme Gradient Boosting': 'xgboost',\n",
    "    'Dummy Classifier': 'dummy'\n",
    "}\n",
    "\n",
    "# Loop over each model in the compare_results DataFrame\n",
    "for idx, row in compare_results.iterrows():\n",
    "    model_name = row['Model']\n",
    "    testing_time = row['TT (Sec)']\n",
    "\n",
    "    # Get the PyCaret identifier for the model\n",
    "    model_identifier = model_mapping.get(model_name)\n",
    "\n",
    "    # Instead of finalizing by the model name, select the model by identifier\n",
    "    if model_identifier:\n",
    "        best_model = compare_models(include=[model_identifier], n_select=1)\n",
    "\n",
    "        # Finalize the model (train it on the entire dataset)\n",
    "        final_model = finalize_model(best_model)\n",
    "\n",
    "        # Predict on train and test sets\n",
    "        predictions_train = predict_model(final_model, data=X_train)\n",
    "        predictions_test = predict_model(final_model, data=X_test)\n",
    "\n",
    "        # Calculate test accuracy and F1 score\n",
    "        y_pred_test = predictions_test['prediction_label']\n",
    "        test_accuracy = accuracy_score(y_test, y_pred_test)\n",
    "        test_f1 = f1_score(y_test, y_pred_test, average='weighted')\n",
    "\n",
    "        # Calculate train accuracy and F1 score\n",
    "        y_pred_train = predictions_train['prediction_label']\n",
    "        train_accuracy = accuracy_score(y_train, y_pred_train)\n",
    "        train_f1 = f1_score(y_train, y_pred_train, average='weighted')\n",
    "\n",
    "        # Append the metrics for each model to the results DataFrame\n",
    "        new_row = pd.DataFrame({\n",
    "            'model': model_name,\n",
    "            'train_accuracy': train_accuracy,\n",
    "            'test_accuracy': test_accuracy,\n",
    "            'train_f1': train_f1,\n",
    "            'test_f1': test_f1,\n",
    "            'TT': testing_time\n",
    "        }, index=[0])\n",
    "\n",
    "        allactionmidfielder_df = pd.concat([allactionmidfielder_df, new_row], ignore_index=True)\n"
   ]
  },
  {
   "cell_type": "code",
   "execution_count": 24,
   "metadata": {},
   "outputs": [
    {
     "data": {
      "text/html": [
       "<div>\n",
       "<style scoped>\n",
       "    .dataframe tbody tr th:only-of-type {\n",
       "        vertical-align: middle;\n",
       "    }\n",
       "\n",
       "    .dataframe tbody tr th {\n",
       "        vertical-align: top;\n",
       "    }\n",
       "\n",
       "    .dataframe thead th {\n",
       "        text-align: right;\n",
       "    }\n",
       "</style>\n",
       "<table border=\"1\" class=\"dataframe\">\n",
       "  <thead>\n",
       "    <tr style=\"text-align: right;\">\n",
       "      <th></th>\n",
       "      <th>model</th>\n",
       "      <th>train_accuracy</th>\n",
       "      <th>test_accuracy</th>\n",
       "      <th>train_f1</th>\n",
       "      <th>test_f1</th>\n",
       "      <th>TT</th>\n",
       "    </tr>\n",
       "  </thead>\n",
       "  <tbody>\n",
       "    <tr>\n",
       "      <th>0</th>\n",
       "      <td>Logistic Regression</td>\n",
       "      <td>1.000000</td>\n",
       "      <td>0.869565</td>\n",
       "      <td>1.000000</td>\n",
       "      <td>0.875049</td>\n",
       "      <td>0.033</td>\n",
       "    </tr>\n",
       "    <tr>\n",
       "      <th>1</th>\n",
       "      <td>K Neighbors Classifier</td>\n",
       "      <td>0.934066</td>\n",
       "      <td>0.869565</td>\n",
       "      <td>0.932758</td>\n",
       "      <td>0.875049</td>\n",
       "      <td>0.023</td>\n",
       "    </tr>\n",
       "    <tr>\n",
       "      <th>2</th>\n",
       "      <td>Ridge Classifier</td>\n",
       "      <td>0.945055</td>\n",
       "      <td>0.869565</td>\n",
       "      <td>0.944268</td>\n",
       "      <td>0.875049</td>\n",
       "      <td>0.017</td>\n",
       "    </tr>\n",
       "    <tr>\n",
       "      <th>3</th>\n",
       "      <td>Gradient Boosting Classifier</td>\n",
       "      <td>1.000000</td>\n",
       "      <td>0.913043</td>\n",
       "      <td>1.000000</td>\n",
       "      <td>0.913043</td>\n",
       "      <td>0.054</td>\n",
       "    </tr>\n",
       "    <tr>\n",
       "      <th>4</th>\n",
       "      <td>Linear Discriminant Analysis</td>\n",
       "      <td>0.956044</td>\n",
       "      <td>0.869565</td>\n",
       "      <td>0.955641</td>\n",
       "      <td>0.875049</td>\n",
       "      <td>0.013</td>\n",
       "    </tr>\n",
       "    <tr>\n",
       "      <th>5</th>\n",
       "      <td>Naive Bayes</td>\n",
       "      <td>0.923077</td>\n",
       "      <td>0.826087</td>\n",
       "      <td>0.923390</td>\n",
       "      <td>0.826087</td>\n",
       "      <td>0.014</td>\n",
       "    </tr>\n",
       "    <tr>\n",
       "      <th>6</th>\n",
       "      <td>Decision Tree Classifier</td>\n",
       "      <td>1.000000</td>\n",
       "      <td>0.782609</td>\n",
       "      <td>1.000000</td>\n",
       "      <td>0.802936</td>\n",
       "      <td>0.015</td>\n",
       "    </tr>\n",
       "    <tr>\n",
       "      <th>7</th>\n",
       "      <td>Extreme Gradient Boosting</td>\n",
       "      <td>1.000000</td>\n",
       "      <td>0.869565</td>\n",
       "      <td>1.000000</td>\n",
       "      <td>0.861921</td>\n",
       "      <td>0.024</td>\n",
       "    </tr>\n",
       "    <tr>\n",
       "      <th>8</th>\n",
       "      <td>Random Forest Classifier</td>\n",
       "      <td>1.000000</td>\n",
       "      <td>0.869565</td>\n",
       "      <td>1.000000</td>\n",
       "      <td>0.861921</td>\n",
       "      <td>0.105</td>\n",
       "    </tr>\n",
       "    <tr>\n",
       "      <th>9</th>\n",
       "      <td>Light Gradient Boosting Machine</td>\n",
       "      <td>1.000000</td>\n",
       "      <td>0.869565</td>\n",
       "      <td>1.000000</td>\n",
       "      <td>0.861921</td>\n",
       "      <td>0.045</td>\n",
       "    </tr>\n",
       "    <tr>\n",
       "      <th>10</th>\n",
       "      <td>Ada Boost Classifier</td>\n",
       "      <td>1.000000</td>\n",
       "      <td>0.913043</td>\n",
       "      <td>1.000000</td>\n",
       "      <td>0.913043</td>\n",
       "      <td>0.045</td>\n",
       "    </tr>\n",
       "    <tr>\n",
       "      <th>11</th>\n",
       "      <td>Extra Trees Classifier</td>\n",
       "      <td>1.000000</td>\n",
       "      <td>0.869565</td>\n",
       "      <td>1.000000</td>\n",
       "      <td>0.861921</td>\n",
       "      <td>0.077</td>\n",
       "    </tr>\n",
       "    <tr>\n",
       "      <th>12</th>\n",
       "      <td>SVM - Linear Kernel</td>\n",
       "      <td>0.868132</td>\n",
       "      <td>0.869565</td>\n",
       "      <td>0.857553</td>\n",
       "      <td>0.861921</td>\n",
       "      <td>0.020</td>\n",
       "    </tr>\n",
       "    <tr>\n",
       "      <th>13</th>\n",
       "      <td>Dummy Classifier</td>\n",
       "      <td>0.670330</td>\n",
       "      <td>0.826087</td>\n",
       "      <td>0.538028</td>\n",
       "      <td>0.747412</td>\n",
       "      <td>0.013</td>\n",
       "    </tr>\n",
       "  </tbody>\n",
       "</table>\n",
       "</div>"
      ],
      "text/plain": [
       "                              model  train_accuracy  test_accuracy  train_f1  \\\n",
       "0               Logistic Regression        1.000000       0.869565  1.000000   \n",
       "1            K Neighbors Classifier        0.934066       0.869565  0.932758   \n",
       "2                  Ridge Classifier        0.945055       0.869565  0.944268   \n",
       "3      Gradient Boosting Classifier        1.000000       0.913043  1.000000   \n",
       "4      Linear Discriminant Analysis        0.956044       0.869565  0.955641   \n",
       "5                       Naive Bayes        0.923077       0.826087  0.923390   \n",
       "6          Decision Tree Classifier        1.000000       0.782609  1.000000   \n",
       "7         Extreme Gradient Boosting        1.000000       0.869565  1.000000   \n",
       "8          Random Forest Classifier        1.000000       0.869565  1.000000   \n",
       "9   Light Gradient Boosting Machine        1.000000       0.869565  1.000000   \n",
       "10             Ada Boost Classifier        1.000000       0.913043  1.000000   \n",
       "11           Extra Trees Classifier        1.000000       0.869565  1.000000   \n",
       "12              SVM - Linear Kernel        0.868132       0.869565  0.857553   \n",
       "13                 Dummy Classifier        0.670330       0.826087  0.538028   \n",
       "\n",
       "     test_f1     TT  \n",
       "0   0.875049  0.033  \n",
       "1   0.875049  0.023  \n",
       "2   0.875049  0.017  \n",
       "3   0.913043  0.054  \n",
       "4   0.875049  0.013  \n",
       "5   0.826087  0.014  \n",
       "6   0.802936  0.015  \n",
       "7   0.861921  0.024  \n",
       "8   0.861921  0.105  \n",
       "9   0.861921  0.045  \n",
       "10  0.913043  0.045  \n",
       "11  0.861921  0.077  \n",
       "12  0.861921  0.020  \n",
       "13  0.747412  0.013  "
      ]
     },
     "execution_count": 24,
     "metadata": {},
     "output_type": "execute_result"
    }
   ],
   "source": [
    "allactionmidfielder_df"
   ]
  },
  {
   "cell_type": "markdown",
   "metadata": {},
   "source": [
    "## Midfield Playmaker"
   ]
  },
  {
   "cell_type": "code",
   "execution_count": 25,
   "metadata": {},
   "outputs": [
    {
     "data": {
      "text/html": [
       "<style type=\"text/css\">\n",
       "#T_67d55_row8_col1 {\n",
       "  background-color: lightgreen;\n",
       "}\n",
       "</style>\n",
       "<table id=\"T_67d55\">\n",
       "  <thead>\n",
       "    <tr>\n",
       "      <th class=\"blank level0\" >&nbsp;</th>\n",
       "      <th id=\"T_67d55_level0_col0\" class=\"col_heading level0 col0\" >Description</th>\n",
       "      <th id=\"T_67d55_level0_col1\" class=\"col_heading level0 col1\" >Value</th>\n",
       "    </tr>\n",
       "  </thead>\n",
       "  <tbody>\n",
       "    <tr>\n",
       "      <th id=\"T_67d55_level0_row0\" class=\"row_heading level0 row0\" >0</th>\n",
       "      <td id=\"T_67d55_row0_col0\" class=\"data row0 col0\" >Session id</td>\n",
       "      <td id=\"T_67d55_row0_col1\" class=\"data row0 col1\" >42</td>\n",
       "    </tr>\n",
       "    <tr>\n",
       "      <th id=\"T_67d55_level0_row1\" class=\"row_heading level0 row1\" >1</th>\n",
       "      <td id=\"T_67d55_row1_col0\" class=\"data row1 col0\" >Target</td>\n",
       "      <td id=\"T_67d55_row1_col1\" class=\"data row1 col1\" >Class_Midfield Playmaker</td>\n",
       "    </tr>\n",
       "    <tr>\n",
       "      <th id=\"T_67d55_level0_row2\" class=\"row_heading level0 row2\" >2</th>\n",
       "      <td id=\"T_67d55_row2_col0\" class=\"data row2 col0\" >Target type</td>\n",
       "      <td id=\"T_67d55_row2_col1\" class=\"data row2 col1\" >Binary</td>\n",
       "    </tr>\n",
       "    <tr>\n",
       "      <th id=\"T_67d55_level0_row3\" class=\"row_heading level0 row3\" >3</th>\n",
       "      <td id=\"T_67d55_row3_col0\" class=\"data row3 col0\" >Original data shape</td>\n",
       "      <td id=\"T_67d55_row3_col1\" class=\"data row3 col1\" >(91, 15)</td>\n",
       "    </tr>\n",
       "    <tr>\n",
       "      <th id=\"T_67d55_level0_row4\" class=\"row_heading level0 row4\" >4</th>\n",
       "      <td id=\"T_67d55_row4_col0\" class=\"data row4 col0\" >Transformed data shape</td>\n",
       "      <td id=\"T_67d55_row4_col1\" class=\"data row4 col1\" >(91, 15)</td>\n",
       "    </tr>\n",
       "    <tr>\n",
       "      <th id=\"T_67d55_level0_row5\" class=\"row_heading level0 row5\" >5</th>\n",
       "      <td id=\"T_67d55_row5_col0\" class=\"data row5 col0\" >Transformed train set shape</td>\n",
       "      <td id=\"T_67d55_row5_col1\" class=\"data row5 col1\" >(63, 15)</td>\n",
       "    </tr>\n",
       "    <tr>\n",
       "      <th id=\"T_67d55_level0_row6\" class=\"row_heading level0 row6\" >6</th>\n",
       "      <td id=\"T_67d55_row6_col0\" class=\"data row6 col0\" >Transformed test set shape</td>\n",
       "      <td id=\"T_67d55_row6_col1\" class=\"data row6 col1\" >(28, 15)</td>\n",
       "    </tr>\n",
       "    <tr>\n",
       "      <th id=\"T_67d55_level0_row7\" class=\"row_heading level0 row7\" >7</th>\n",
       "      <td id=\"T_67d55_row7_col0\" class=\"data row7 col0\" >Numeric features</td>\n",
       "      <td id=\"T_67d55_row7_col1\" class=\"data row7 col1\" >14</td>\n",
       "    </tr>\n",
       "    <tr>\n",
       "      <th id=\"T_67d55_level0_row8\" class=\"row_heading level0 row8\" >8</th>\n",
       "      <td id=\"T_67d55_row8_col0\" class=\"data row8 col0\" >Preprocess</td>\n",
       "      <td id=\"T_67d55_row8_col1\" class=\"data row8 col1\" >True</td>\n",
       "    </tr>\n",
       "    <tr>\n",
       "      <th id=\"T_67d55_level0_row9\" class=\"row_heading level0 row9\" >9</th>\n",
       "      <td id=\"T_67d55_row9_col0\" class=\"data row9 col0\" >Imputation type</td>\n",
       "      <td id=\"T_67d55_row9_col1\" class=\"data row9 col1\" >simple</td>\n",
       "    </tr>\n",
       "    <tr>\n",
       "      <th id=\"T_67d55_level0_row10\" class=\"row_heading level0 row10\" >10</th>\n",
       "      <td id=\"T_67d55_row10_col0\" class=\"data row10 col0\" >Numeric imputation</td>\n",
       "      <td id=\"T_67d55_row10_col1\" class=\"data row10 col1\" >mean</td>\n",
       "    </tr>\n",
       "    <tr>\n",
       "      <th id=\"T_67d55_level0_row11\" class=\"row_heading level0 row11\" >11</th>\n",
       "      <td id=\"T_67d55_row11_col0\" class=\"data row11 col0\" >Categorical imputation</td>\n",
       "      <td id=\"T_67d55_row11_col1\" class=\"data row11 col1\" >mode</td>\n",
       "    </tr>\n",
       "    <tr>\n",
       "      <th id=\"T_67d55_level0_row12\" class=\"row_heading level0 row12\" >12</th>\n",
       "      <td id=\"T_67d55_row12_col0\" class=\"data row12 col0\" >Fold Generator</td>\n",
       "      <td id=\"T_67d55_row12_col1\" class=\"data row12 col1\" >StratifiedKFold</td>\n",
       "    </tr>\n",
       "    <tr>\n",
       "      <th id=\"T_67d55_level0_row13\" class=\"row_heading level0 row13\" >13</th>\n",
       "      <td id=\"T_67d55_row13_col0\" class=\"data row13 col0\" >Fold Number</td>\n",
       "      <td id=\"T_67d55_row13_col1\" class=\"data row13 col1\" >10</td>\n",
       "    </tr>\n",
       "    <tr>\n",
       "      <th id=\"T_67d55_level0_row14\" class=\"row_heading level0 row14\" >14</th>\n",
       "      <td id=\"T_67d55_row14_col0\" class=\"data row14 col0\" >CPU Jobs</td>\n",
       "      <td id=\"T_67d55_row14_col1\" class=\"data row14 col1\" >-1</td>\n",
       "    </tr>\n",
       "    <tr>\n",
       "      <th id=\"T_67d55_level0_row15\" class=\"row_heading level0 row15\" >15</th>\n",
       "      <td id=\"T_67d55_row15_col0\" class=\"data row15 col0\" >Use GPU</td>\n",
       "      <td id=\"T_67d55_row15_col1\" class=\"data row15 col1\" >False</td>\n",
       "    </tr>\n",
       "    <tr>\n",
       "      <th id=\"T_67d55_level0_row16\" class=\"row_heading level0 row16\" >16</th>\n",
       "      <td id=\"T_67d55_row16_col0\" class=\"data row16 col0\" >Log Experiment</td>\n",
       "      <td id=\"T_67d55_row16_col1\" class=\"data row16 col1\" >False</td>\n",
       "    </tr>\n",
       "    <tr>\n",
       "      <th id=\"T_67d55_level0_row17\" class=\"row_heading level0 row17\" >17</th>\n",
       "      <td id=\"T_67d55_row17_col0\" class=\"data row17 col0\" >Experiment Name</td>\n",
       "      <td id=\"T_67d55_row17_col1\" class=\"data row17 col1\" >clf-default-name</td>\n",
       "    </tr>\n",
       "    <tr>\n",
       "      <th id=\"T_67d55_level0_row18\" class=\"row_heading level0 row18\" >18</th>\n",
       "      <td id=\"T_67d55_row18_col0\" class=\"data row18 col0\" >USI</td>\n",
       "      <td id=\"T_67d55_row18_col1\" class=\"data row18 col1\" >2ab2</td>\n",
       "    </tr>\n",
       "  </tbody>\n",
       "</table>\n"
      ],
      "text/plain": [
       "<pandas.io.formats.style.Styler at 0x27fecde62d0>"
      ]
     },
     "metadata": {},
     "output_type": "display_data"
    },
    {
     "data": {
      "text/html": [],
      "text/plain": [
       "<IPython.core.display.HTML object>"
      ]
     },
     "metadata": {},
     "output_type": "display_data"
    },
    {
     "data": {
      "text/html": [
       "<style type=\"text/css\">\n",
       "#T_b8565 th {\n",
       "  text-align: left;\n",
       "}\n",
       "#T_b8565_row0_col0, #T_b8565_row0_col2, #T_b8565_row0_col3, #T_b8565_row0_col5, #T_b8565_row1_col0, #T_b8565_row1_col2, #T_b8565_row1_col3, #T_b8565_row1_col4, #T_b8565_row1_col6, #T_b8565_row1_col7, #T_b8565_row2_col0, #T_b8565_row2_col1, #T_b8565_row2_col2, #T_b8565_row2_col3, #T_b8565_row2_col4, #T_b8565_row2_col5, #T_b8565_row2_col6, #T_b8565_row2_col7, #T_b8565_row3_col0, #T_b8565_row3_col1, #T_b8565_row3_col2, #T_b8565_row3_col3, #T_b8565_row3_col4, #T_b8565_row3_col5, #T_b8565_row3_col6, #T_b8565_row3_col7, #T_b8565_row4_col0, #T_b8565_row4_col1, #T_b8565_row4_col2, #T_b8565_row4_col3, #T_b8565_row4_col4, #T_b8565_row4_col5, #T_b8565_row4_col6, #T_b8565_row4_col7, #T_b8565_row5_col0, #T_b8565_row5_col1, #T_b8565_row5_col2, #T_b8565_row5_col3, #T_b8565_row5_col4, #T_b8565_row5_col5, #T_b8565_row5_col6, #T_b8565_row5_col7, #T_b8565_row6_col0, #T_b8565_row6_col1, #T_b8565_row6_col3, #T_b8565_row6_col4, #T_b8565_row6_col5, #T_b8565_row6_col6, #T_b8565_row6_col7, #T_b8565_row7_col0, #T_b8565_row7_col1, #T_b8565_row7_col2, #T_b8565_row7_col3, #T_b8565_row7_col4, #T_b8565_row7_col5, #T_b8565_row7_col6, #T_b8565_row7_col7, #T_b8565_row8_col0, #T_b8565_row8_col1, #T_b8565_row8_col2, #T_b8565_row8_col3, #T_b8565_row8_col4, #T_b8565_row8_col5, #T_b8565_row8_col6, #T_b8565_row8_col7, #T_b8565_row9_col0, #T_b8565_row9_col1, #T_b8565_row9_col2, #T_b8565_row9_col3, #T_b8565_row9_col4, #T_b8565_row9_col5, #T_b8565_row9_col6, #T_b8565_row9_col7, #T_b8565_row10_col0, #T_b8565_row10_col1, #T_b8565_row10_col3, #T_b8565_row10_col4, #T_b8565_row10_col5, #T_b8565_row10_col6, #T_b8565_row10_col7, #T_b8565_row11_col0, #T_b8565_row11_col1, #T_b8565_row11_col2, #T_b8565_row11_col3, #T_b8565_row11_col4, #T_b8565_row11_col5, #T_b8565_row11_col6, #T_b8565_row11_col7, #T_b8565_row12_col0, #T_b8565_row12_col1, #T_b8565_row12_col2, #T_b8565_row12_col3, #T_b8565_row12_col4, #T_b8565_row12_col5, #T_b8565_row12_col6, #T_b8565_row12_col7, #T_b8565_row13_col0, #T_b8565_row13_col1, #T_b8565_row13_col2, #T_b8565_row13_col4, #T_b8565_row13_col5, #T_b8565_row13_col6, #T_b8565_row13_col7, #T_b8565_row14_col0, #T_b8565_row14_col1, #T_b8565_row14_col2, #T_b8565_row14_col4, #T_b8565_row14_col5, #T_b8565_row14_col6, #T_b8565_row14_col7 {\n",
       "  text-align: left;\n",
       "}\n",
       "#T_b8565_row0_col1, #T_b8565_row0_col4, #T_b8565_row0_col6, #T_b8565_row0_col7, #T_b8565_row1_col1, #T_b8565_row1_col5, #T_b8565_row6_col2, #T_b8565_row10_col2, #T_b8565_row13_col3, #T_b8565_row14_col3 {\n",
       "  text-align: left;\n",
       "  background-color: yellow;\n",
       "}\n",
       "#T_b8565_row0_col8, #T_b8565_row1_col8, #T_b8565_row2_col8, #T_b8565_row3_col8, #T_b8565_row4_col8, #T_b8565_row5_col8, #T_b8565_row6_col8, #T_b8565_row7_col8, #T_b8565_row8_col8, #T_b8565_row9_col8, #T_b8565_row10_col8, #T_b8565_row11_col8, #T_b8565_row12_col8, #T_b8565_row13_col8 {\n",
       "  text-align: left;\n",
       "  background-color: lightgrey;\n",
       "}\n",
       "#T_b8565_row14_col8 {\n",
       "  text-align: left;\n",
       "  background-color: yellow;\n",
       "  background-color: lightgrey;\n",
       "}\n",
       "</style>\n",
       "<table id=\"T_b8565\">\n",
       "  <thead>\n",
       "    <tr>\n",
       "      <th class=\"blank level0\" >&nbsp;</th>\n",
       "      <th id=\"T_b8565_level0_col0\" class=\"col_heading level0 col0\" >Model</th>\n",
       "      <th id=\"T_b8565_level0_col1\" class=\"col_heading level0 col1\" >Accuracy</th>\n",
       "      <th id=\"T_b8565_level0_col2\" class=\"col_heading level0 col2\" >AUC</th>\n",
       "      <th id=\"T_b8565_level0_col3\" class=\"col_heading level0 col3\" >Recall</th>\n",
       "      <th id=\"T_b8565_level0_col4\" class=\"col_heading level0 col4\" >Prec.</th>\n",
       "      <th id=\"T_b8565_level0_col5\" class=\"col_heading level0 col5\" >F1</th>\n",
       "      <th id=\"T_b8565_level0_col6\" class=\"col_heading level0 col6\" >Kappa</th>\n",
       "      <th id=\"T_b8565_level0_col7\" class=\"col_heading level0 col7\" >MCC</th>\n",
       "      <th id=\"T_b8565_level0_col8\" class=\"col_heading level0 col8\" >TT (Sec)</th>\n",
       "    </tr>\n",
       "  </thead>\n",
       "  <tbody>\n",
       "    <tr>\n",
       "      <th id=\"T_b8565_level0_row0\" class=\"row_heading level0 row0\" >lr</th>\n",
       "      <td id=\"T_b8565_row0_col0\" class=\"data row0 col0\" >Logistic Regression</td>\n",
       "      <td id=\"T_b8565_row0_col1\" class=\"data row0 col1\" >0.9571</td>\n",
       "      <td id=\"T_b8565_row0_col2\" class=\"data row0 col2\" >0.9800</td>\n",
       "      <td id=\"T_b8565_row0_col3\" class=\"data row0 col3\" >0.9633</td>\n",
       "      <td id=\"T_b8565_row0_col4\" class=\"data row0 col4\" >0.9833</td>\n",
       "      <td id=\"T_b8565_row0_col5\" class=\"data row0 col5\" >0.9707</td>\n",
       "      <td id=\"T_b8565_row0_col6\" class=\"data row0 col6\" >0.8872</td>\n",
       "      <td id=\"T_b8565_row0_col7\" class=\"data row0 col7\" >0.9021</td>\n",
       "      <td id=\"T_b8565_row0_col8\" class=\"data row0 col8\" >0.0260</td>\n",
       "    </tr>\n",
       "    <tr>\n",
       "      <th id=\"T_b8565_level0_row1\" class=\"row_heading level0 row1\" >et</th>\n",
       "      <td id=\"T_b8565_row1_col0\" class=\"data row1 col0\" >Extra Trees Classifier</td>\n",
       "      <td id=\"T_b8565_row1_col1\" class=\"data row1 col1\" >0.9571</td>\n",
       "      <td id=\"T_b8565_row1_col2\" class=\"data row1 col2\" >0.9733</td>\n",
       "      <td id=\"T_b8565_row1_col3\" class=\"data row1 col3\" >0.9833</td>\n",
       "      <td id=\"T_b8565_row1_col4\" class=\"data row1 col4\" >0.9714</td>\n",
       "      <td id=\"T_b8565_row1_col5\" class=\"data row1 col5\" >0.9742</td>\n",
       "      <td id=\"T_b8565_row1_col6\" class=\"data row1 col6\" >0.8588</td>\n",
       "      <td id=\"T_b8565_row1_col7\" class=\"data row1 col7\" >0.8645</td>\n",
       "      <td id=\"T_b8565_row1_col8\" class=\"data row1 col8\" >0.0850</td>\n",
       "    </tr>\n",
       "    <tr>\n",
       "      <th id=\"T_b8565_level0_row2\" class=\"row_heading level0 row2\" >xgboost</th>\n",
       "      <td id=\"T_b8565_row2_col0\" class=\"data row2 col0\" >Extreme Gradient Boosting</td>\n",
       "      <td id=\"T_b8565_row2_col1\" class=\"data row2 col1\" >0.9429</td>\n",
       "      <td id=\"T_b8565_row2_col2\" class=\"data row2 col2\" >0.9633</td>\n",
       "      <td id=\"T_b8565_row2_col3\" class=\"data row2 col3\" >0.9633</td>\n",
       "      <td id=\"T_b8565_row2_col4\" class=\"data row2 col4\" >0.9714</td>\n",
       "      <td id=\"T_b8565_row2_col5\" class=\"data row2 col5\" >0.9631</td>\n",
       "      <td id=\"T_b8565_row2_col6\" class=\"data row2 col6\" >0.8284</td>\n",
       "      <td id=\"T_b8565_row2_col7\" class=\"data row2 col7\" >0.8376</td>\n",
       "      <td id=\"T_b8565_row2_col8\" class=\"data row2 col8\" >0.0290</td>\n",
       "    </tr>\n",
       "    <tr>\n",
       "      <th id=\"T_b8565_level0_row3\" class=\"row_heading level0 row3\" >lightgbm</th>\n",
       "      <td id=\"T_b8565_row3_col0\" class=\"data row3 col0\" >Light Gradient Boosting Machine</td>\n",
       "      <td id=\"T_b8565_row3_col1\" class=\"data row3 col1\" >0.9405</td>\n",
       "      <td id=\"T_b8565_row3_col2\" class=\"data row3 col2\" >0.9833</td>\n",
       "      <td id=\"T_b8565_row3_col3\" class=\"data row3 col3\" >0.9833</td>\n",
       "      <td id=\"T_b8565_row3_col4\" class=\"data row3 col4\" >0.9548</td>\n",
       "      <td id=\"T_b8565_row3_col5\" class=\"data row3 col5\" >0.9652</td>\n",
       "      <td id=\"T_b8565_row3_col6\" class=\"data row3 col6\" >0.7588</td>\n",
       "      <td id=\"T_b8565_row3_col7\" class=\"data row3 col7\" >0.7645</td>\n",
       "      <td id=\"T_b8565_row3_col8\" class=\"data row3 col8\" >0.0340</td>\n",
       "    </tr>\n",
       "    <tr>\n",
       "      <th id=\"T_b8565_level0_row4\" class=\"row_heading level0 row4\" >ada</th>\n",
       "      <td id=\"T_b8565_row4_col0\" class=\"data row4 col0\" >Ada Boost Classifier</td>\n",
       "      <td id=\"T_b8565_row4_col1\" class=\"data row4 col1\" >0.9381</td>\n",
       "      <td id=\"T_b8565_row4_col2\" class=\"data row4 col2\" >0.9483</td>\n",
       "      <td id=\"T_b8565_row4_col3\" class=\"data row4 col3\" >0.9633</td>\n",
       "      <td id=\"T_b8565_row4_col4\" class=\"data row4 col4\" >0.9667</td>\n",
       "      <td id=\"T_b8565_row4_col5\" class=\"data row4 col5\" >0.9616</td>\n",
       "      <td id=\"T_b8565_row4_col6\" class=\"data row4 col6\" >0.7748</td>\n",
       "      <td id=\"T_b8565_row4_col7\" class=\"data row4 col7\" >0.7923</td>\n",
       "      <td id=\"T_b8565_row4_col8\" class=\"data row4 col8\" >0.0540</td>\n",
       "    </tr>\n",
       "    <tr>\n",
       "      <th id=\"T_b8565_level0_row5\" class=\"row_heading level0 row5\" >nb</th>\n",
       "      <td id=\"T_b8565_row5_col0\" class=\"data row5 col0\" >Naive Bayes</td>\n",
       "      <td id=\"T_b8565_row5_col1\" class=\"data row5 col1\" >0.9262</td>\n",
       "      <td id=\"T_b8565_row5_col2\" class=\"data row5 col2\" >0.9233</td>\n",
       "      <td id=\"T_b8565_row5_col3\" class=\"data row5 col3\" >0.9433</td>\n",
       "      <td id=\"T_b8565_row5_col4\" class=\"data row5 col4\" >0.9667</td>\n",
       "      <td id=\"T_b8565_row5_col5\" class=\"data row5 col5\" >0.9525</td>\n",
       "      <td id=\"T_b8565_row5_col6\" class=\"data row5 col6\" >0.7924</td>\n",
       "      <td id=\"T_b8565_row5_col7\" class=\"data row5 col7\" >0.8020</td>\n",
       "      <td id=\"T_b8565_row5_col8\" class=\"data row5 col8\" >0.0220</td>\n",
       "    </tr>\n",
       "    <tr>\n",
       "      <th id=\"T_b8565_level0_row6\" class=\"row_heading level0 row6\" >lda</th>\n",
       "      <td id=\"T_b8565_row6_col0\" class=\"data row6 col0\" >Linear Discriminant Analysis</td>\n",
       "      <td id=\"T_b8565_row6_col1\" class=\"data row6 col1\" >0.9262</td>\n",
       "      <td id=\"T_b8565_row6_col2\" class=\"data row6 col2\" >0.9900</td>\n",
       "      <td id=\"T_b8565_row6_col3\" class=\"data row6 col3\" >0.9633</td>\n",
       "      <td id=\"T_b8565_row6_col4\" class=\"data row6 col4\" >0.9467</td>\n",
       "      <td id=\"T_b8565_row6_col5\" class=\"data row6 col5\" >0.9527</td>\n",
       "      <td id=\"T_b8565_row6_col6\" class=\"data row6 col6\" >0.7476</td>\n",
       "      <td id=\"T_b8565_row6_col7\" class=\"data row6 col7\" >0.7591</td>\n",
       "      <td id=\"T_b8565_row6_col8\" class=\"data row6 col8\" >0.0150</td>\n",
       "    </tr>\n",
       "    <tr>\n",
       "      <th id=\"T_b8565_level0_row7\" class=\"row_heading level0 row7\" >knn</th>\n",
       "      <td id=\"T_b8565_row7_col0\" class=\"data row7 col0\" >K Neighbors Classifier</td>\n",
       "      <td id=\"T_b8565_row7_col1\" class=\"data row7 col1\" >0.9238</td>\n",
       "      <td id=\"T_b8565_row7_col2\" class=\"data row7 col2\" >0.9533</td>\n",
       "      <td id=\"T_b8565_row7_col3\" class=\"data row7 col3\" >0.9633</td>\n",
       "      <td id=\"T_b8565_row7_col4\" class=\"data row7 col4\" >0.9500</td>\n",
       "      <td id=\"T_b8565_row7_col5\" class=\"data row7 col5\" >0.9540</td>\n",
       "      <td id=\"T_b8565_row7_col6\" class=\"data row7 col6\" >0.6993</td>\n",
       "      <td id=\"T_b8565_row7_col7\" class=\"data row7 col7\" >0.7111</td>\n",
       "      <td id=\"T_b8565_row7_col8\" class=\"data row7 col8\" >0.0250</td>\n",
       "    </tr>\n",
       "    <tr>\n",
       "      <th id=\"T_b8565_level0_row8\" class=\"row_heading level0 row8\" >rf</th>\n",
       "      <td id=\"T_b8565_row8_col0\" class=\"data row8 col0\" >Random Forest Classifier</td>\n",
       "      <td id=\"T_b8565_row8_col1\" class=\"data row8 col1\" >0.9238</td>\n",
       "      <td id=\"T_b8565_row8_col2\" class=\"data row8 col2\" >0.9633</td>\n",
       "      <td id=\"T_b8565_row8_col3\" class=\"data row8 col3\" >0.9633</td>\n",
       "      <td id=\"T_b8565_row8_col4\" class=\"data row8 col4\" >0.9514</td>\n",
       "      <td id=\"T_b8565_row8_col5\" class=\"data row8 col5\" >0.9542</td>\n",
       "      <td id=\"T_b8565_row8_col6\" class=\"data row8 col6\" >0.7388</td>\n",
       "      <td id=\"T_b8565_row8_col7\" class=\"data row8 col7\" >0.7445</td>\n",
       "      <td id=\"T_b8565_row8_col8\" class=\"data row8 col8\" >0.0850</td>\n",
       "    </tr>\n",
       "    <tr>\n",
       "      <th id=\"T_b8565_level0_row9\" class=\"row_heading level0 row9\" >svm</th>\n",
       "      <td id=\"T_b8565_row9_col0\" class=\"data row9 col0\" >SVM - Linear Kernel</td>\n",
       "      <td id=\"T_b8565_row9_col1\" class=\"data row9 col1\" >0.9095</td>\n",
       "      <td id=\"T_b8565_row9_col2\" class=\"data row9 col2\" >0.9633</td>\n",
       "      <td id=\"T_b8565_row9_col3\" class=\"data row9 col3\" >0.9833</td>\n",
       "      <td id=\"T_b8565_row9_col4\" class=\"data row9 col4\" >0.9214</td>\n",
       "      <td id=\"T_b8565_row9_col5\" class=\"data row9 col5\" >0.9470</td>\n",
       "      <td id=\"T_b8565_row9_col6\" class=\"data row9 col6\" >0.6176</td>\n",
       "      <td id=\"T_b8565_row9_col7\" class=\"data row9 col7\" >0.6291</td>\n",
       "      <td id=\"T_b8565_row9_col8\" class=\"data row9 col8\" >0.0160</td>\n",
       "    </tr>\n",
       "    <tr>\n",
       "      <th id=\"T_b8565_level0_row10\" class=\"row_heading level0 row10\" >ridge</th>\n",
       "      <td id=\"T_b8565_row10_col0\" class=\"data row10 col0\" >Ridge Classifier</td>\n",
       "      <td id=\"T_b8565_row10_col1\" class=\"data row10 col1\" >0.9095</td>\n",
       "      <td id=\"T_b8565_row10_col2\" class=\"data row10 col2\" >0.9900</td>\n",
       "      <td id=\"T_b8565_row10_col3\" class=\"data row10 col3\" >0.9633</td>\n",
       "      <td id=\"T_b8565_row10_col4\" class=\"data row10 col4\" >0.9300</td>\n",
       "      <td id=\"T_b8565_row10_col5\" class=\"data row10 col5\" >0.9436</td>\n",
       "      <td id=\"T_b8565_row10_col6\" class=\"data row10 col6\" >0.6476</td>\n",
       "      <td id=\"T_b8565_row10_col7\" class=\"data row10 col7\" >0.6591</td>\n",
       "      <td id=\"T_b8565_row10_col8\" class=\"data row10 col8\" >0.0150</td>\n",
       "    </tr>\n",
       "    <tr>\n",
       "      <th id=\"T_b8565_level0_row11\" class=\"row_heading level0 row11\" >gbc</th>\n",
       "      <td id=\"T_b8565_row11_col0\" class=\"data row11 col0\" >Gradient Boosting Classifier</td>\n",
       "      <td id=\"T_b8565_row11_col1\" class=\"data row11 col1\" >0.9095</td>\n",
       "      <td id=\"T_b8565_row11_col2\" class=\"data row11 col2\" >0.8267</td>\n",
       "      <td id=\"T_b8565_row11_col3\" class=\"data row11 col3\" >0.9633</td>\n",
       "      <td id=\"T_b8565_row11_col4\" class=\"data row11 col4\" >0.9381</td>\n",
       "      <td id=\"T_b8565_row11_col5\" class=\"data row11 col5\" >0.9449</td>\n",
       "      <td id=\"T_b8565_row11_col6\" class=\"data row11 col6\" >0.6284</td>\n",
       "      <td id=\"T_b8565_row11_col7\" class=\"data row11 col7\" >0.6376</td>\n",
       "      <td id=\"T_b8565_row11_col8\" class=\"data row11 col8\" >0.0560</td>\n",
       "    </tr>\n",
       "    <tr>\n",
       "      <th id=\"T_b8565_level0_row12\" class=\"row_heading level0 row12\" >dt</th>\n",
       "      <td id=\"T_b8565_row12_col0\" class=\"data row12 col0\" >Decision Tree Classifier</td>\n",
       "      <td id=\"T_b8565_row12_col1\" class=\"data row12 col1\" >0.8929</td>\n",
       "      <td id=\"T_b8565_row12_col2\" class=\"data row12 col2\" >0.8217</td>\n",
       "      <td id=\"T_b8565_row12_col3\" class=\"data row12 col3\" >0.9433</td>\n",
       "      <td id=\"T_b8565_row12_col4\" class=\"data row12 col4\" >0.9348</td>\n",
       "      <td id=\"T_b8565_row12_col5\" class=\"data row12 col5\" >0.9340</td>\n",
       "      <td id=\"T_b8565_row12_col6\" class=\"data row12 col6\" >0.6084</td>\n",
       "      <td id=\"T_b8565_row12_col7\" class=\"data row12 col7\" >0.6176</td>\n",
       "      <td id=\"T_b8565_row12_col8\" class=\"data row12 col8\" >0.0160</td>\n",
       "    </tr>\n",
       "    <tr>\n",
       "      <th id=\"T_b8565_level0_row13\" class=\"row_heading level0 row13\" >qda</th>\n",
       "      <td id=\"T_b8565_row13_col0\" class=\"data row13 col0\" >Quadratic Discriminant Analysis</td>\n",
       "      <td id=\"T_b8565_row13_col1\" class=\"data row13 col1\" >0.8119</td>\n",
       "      <td id=\"T_b8565_row13_col2\" class=\"data row13 col2\" >0.7967</td>\n",
       "      <td id=\"T_b8565_row13_col3\" class=\"data row13 col3\" >1.0000</td>\n",
       "      <td id=\"T_b8565_row13_col4\" class=\"data row13 col4\" >0.8119</td>\n",
       "      <td id=\"T_b8565_row13_col5\" class=\"data row13 col5\" >0.8953</td>\n",
       "      <td id=\"T_b8565_row13_col6\" class=\"data row13 col6\" >0.0000</td>\n",
       "      <td id=\"T_b8565_row13_col7\" class=\"data row13 col7\" >0.0000</td>\n",
       "      <td id=\"T_b8565_row13_col8\" class=\"data row13 col8\" >0.0160</td>\n",
       "    </tr>\n",
       "    <tr>\n",
       "      <th id=\"T_b8565_level0_row14\" class=\"row_heading level0 row14\" >dummy</th>\n",
       "      <td id=\"T_b8565_row14_col0\" class=\"data row14 col0\" >Dummy Classifier</td>\n",
       "      <td id=\"T_b8565_row14_col1\" class=\"data row14 col1\" >0.8119</td>\n",
       "      <td id=\"T_b8565_row14_col2\" class=\"data row14 col2\" >0.5000</td>\n",
       "      <td id=\"T_b8565_row14_col3\" class=\"data row14 col3\" >1.0000</td>\n",
       "      <td id=\"T_b8565_row14_col4\" class=\"data row14 col4\" >0.8119</td>\n",
       "      <td id=\"T_b8565_row14_col5\" class=\"data row14 col5\" >0.8953</td>\n",
       "      <td id=\"T_b8565_row14_col6\" class=\"data row14 col6\" >0.0000</td>\n",
       "      <td id=\"T_b8565_row14_col7\" class=\"data row14 col7\" >0.0000</td>\n",
       "      <td id=\"T_b8565_row14_col8\" class=\"data row14 col8\" >0.0120</td>\n",
       "    </tr>\n",
       "  </tbody>\n",
       "</table>\n"
      ],
      "text/plain": [
       "<pandas.io.formats.style.Styler at 0x27fe573f510>"
      ]
     },
     "metadata": {},
     "output_type": "display_data"
    },
    {
     "data": {
      "application/vnd.jupyter.widget-view+json": {
       "model_id": "8b0d914ec503423091084119c758c92b",
       "version_major": 2,
       "version_minor": 0
      },
      "text/plain": [
       "Processing:   0%|          | 0/65 [00:00<?, ?it/s]"
      ]
     },
     "metadata": {},
     "output_type": "display_data"
    },
    {
     "data": {
      "text/html": [],
      "text/plain": [
       "<IPython.core.display.HTML object>"
      ]
     },
     "metadata": {},
     "output_type": "display_data"
    },
    {
     "data": {
      "text/html": [
       "<style type=\"text/css\">\n",
       "#T_5543a th {\n",
       "  text-align: left;\n",
       "}\n",
       "#T_5543a_row0_col0 {\n",
       "  text-align: left;\n",
       "}\n",
       "#T_5543a_row0_col1, #T_5543a_row0_col2, #T_5543a_row0_col3, #T_5543a_row0_col4, #T_5543a_row0_col5, #T_5543a_row0_col6, #T_5543a_row0_col7 {\n",
       "  text-align: left;\n",
       "  background-color: yellow;\n",
       "}\n",
       "#T_5543a_row0_col8 {\n",
       "  text-align: left;\n",
       "  background-color: yellow;\n",
       "  background-color: lightgrey;\n",
       "}\n",
       "</style>\n",
       "<table id=\"T_5543a\">\n",
       "  <thead>\n",
       "    <tr>\n",
       "      <th class=\"blank level0\" >&nbsp;</th>\n",
       "      <th id=\"T_5543a_level0_col0\" class=\"col_heading level0 col0\" >Model</th>\n",
       "      <th id=\"T_5543a_level0_col1\" class=\"col_heading level0 col1\" >Accuracy</th>\n",
       "      <th id=\"T_5543a_level0_col2\" class=\"col_heading level0 col2\" >AUC</th>\n",
       "      <th id=\"T_5543a_level0_col3\" class=\"col_heading level0 col3\" >Recall</th>\n",
       "      <th id=\"T_5543a_level0_col4\" class=\"col_heading level0 col4\" >Prec.</th>\n",
       "      <th id=\"T_5543a_level0_col5\" class=\"col_heading level0 col5\" >F1</th>\n",
       "      <th id=\"T_5543a_level0_col6\" class=\"col_heading level0 col6\" >Kappa</th>\n",
       "      <th id=\"T_5543a_level0_col7\" class=\"col_heading level0 col7\" >MCC</th>\n",
       "      <th id=\"T_5543a_level0_col8\" class=\"col_heading level0 col8\" >TT (Sec)</th>\n",
       "    </tr>\n",
       "  </thead>\n",
       "  <tbody>\n",
       "    <tr>\n",
       "      <th id=\"T_5543a_level0_row0\" class=\"row_heading level0 row0\" >lr</th>\n",
       "      <td id=\"T_5543a_row0_col0\" class=\"data row0 col0\" >Logistic Regression</td>\n",
       "      <td id=\"T_5543a_row0_col1\" class=\"data row0 col1\" >0.9571</td>\n",
       "      <td id=\"T_5543a_row0_col2\" class=\"data row0 col2\" >0.9800</td>\n",
       "      <td id=\"T_5543a_row0_col3\" class=\"data row0 col3\" >0.9633</td>\n",
       "      <td id=\"T_5543a_row0_col4\" class=\"data row0 col4\" >0.9833</td>\n",
       "      <td id=\"T_5543a_row0_col5\" class=\"data row0 col5\" >0.9707</td>\n",
       "      <td id=\"T_5543a_row0_col6\" class=\"data row0 col6\" >0.8872</td>\n",
       "      <td id=\"T_5543a_row0_col7\" class=\"data row0 col7\" >0.9021</td>\n",
       "      <td id=\"T_5543a_row0_col8\" class=\"data row0 col8\" >0.0270</td>\n",
       "    </tr>\n",
       "  </tbody>\n",
       "</table>\n"
      ],
      "text/plain": [
       "<pandas.io.formats.style.Styler at 0x27fe586f310>"
      ]
     },
     "metadata": {},
     "output_type": "display_data"
    },
    {
     "data": {
      "application/vnd.jupyter.widget-view+json": {
       "model_id": "84a7e2d1027b41bfb1379bfd856dfb2c",
       "version_major": 2,
       "version_minor": 0
      },
      "text/plain": [
       "Processing:   0%|          | 0/9 [00:00<?, ?it/s]"
      ]
     },
     "metadata": {},
     "output_type": "display_data"
    },
    {
     "data": {
      "text/html": [],
      "text/plain": [
       "<IPython.core.display.HTML object>"
      ]
     },
     "metadata": {},
     "output_type": "display_data"
    },
    {
     "data": {
      "text/html": [],
      "text/plain": [
       "<IPython.core.display.HTML object>"
      ]
     },
     "metadata": {},
     "output_type": "display_data"
    },
    {
     "data": {
      "text/html": [],
      "text/plain": [
       "<IPython.core.display.HTML object>"
      ]
     },
     "metadata": {},
     "output_type": "display_data"
    },
    {
     "data": {
      "text/html": [
       "<style type=\"text/css\">\n",
       "#T_fcacc th {\n",
       "  text-align: left;\n",
       "}\n",
       "#T_fcacc_row0_col0 {\n",
       "  text-align: left;\n",
       "}\n",
       "#T_fcacc_row0_col1, #T_fcacc_row0_col2, #T_fcacc_row0_col3, #T_fcacc_row0_col4, #T_fcacc_row0_col5, #T_fcacc_row0_col6, #T_fcacc_row0_col7 {\n",
       "  text-align: left;\n",
       "  background-color: yellow;\n",
       "}\n",
       "#T_fcacc_row0_col8 {\n",
       "  text-align: left;\n",
       "  background-color: yellow;\n",
       "  background-color: lightgrey;\n",
       "}\n",
       "</style>\n",
       "<table id=\"T_fcacc\">\n",
       "  <thead>\n",
       "    <tr>\n",
       "      <th class=\"blank level0\" >&nbsp;</th>\n",
       "      <th id=\"T_fcacc_level0_col0\" class=\"col_heading level0 col0\" >Model</th>\n",
       "      <th id=\"T_fcacc_level0_col1\" class=\"col_heading level0 col1\" >Accuracy</th>\n",
       "      <th id=\"T_fcacc_level0_col2\" class=\"col_heading level0 col2\" >AUC</th>\n",
       "      <th id=\"T_fcacc_level0_col3\" class=\"col_heading level0 col3\" >Recall</th>\n",
       "      <th id=\"T_fcacc_level0_col4\" class=\"col_heading level0 col4\" >Prec.</th>\n",
       "      <th id=\"T_fcacc_level0_col5\" class=\"col_heading level0 col5\" >F1</th>\n",
       "      <th id=\"T_fcacc_level0_col6\" class=\"col_heading level0 col6\" >Kappa</th>\n",
       "      <th id=\"T_fcacc_level0_col7\" class=\"col_heading level0 col7\" >MCC</th>\n",
       "      <th id=\"T_fcacc_level0_col8\" class=\"col_heading level0 col8\" >TT (Sec)</th>\n",
       "    </tr>\n",
       "  </thead>\n",
       "  <tbody>\n",
       "    <tr>\n",
       "      <th id=\"T_fcacc_level0_row0\" class=\"row_heading level0 row0\" >et</th>\n",
       "      <td id=\"T_fcacc_row0_col0\" class=\"data row0 col0\" >Extra Trees Classifier</td>\n",
       "      <td id=\"T_fcacc_row0_col1\" class=\"data row0 col1\" >0.9571</td>\n",
       "      <td id=\"T_fcacc_row0_col2\" class=\"data row0 col2\" >0.9733</td>\n",
       "      <td id=\"T_fcacc_row0_col3\" class=\"data row0 col3\" >0.9833</td>\n",
       "      <td id=\"T_fcacc_row0_col4\" class=\"data row0 col4\" >0.9714</td>\n",
       "      <td id=\"T_fcacc_row0_col5\" class=\"data row0 col5\" >0.9742</td>\n",
       "      <td id=\"T_fcacc_row0_col6\" class=\"data row0 col6\" >0.8588</td>\n",
       "      <td id=\"T_fcacc_row0_col7\" class=\"data row0 col7\" >0.8645</td>\n",
       "      <td id=\"T_fcacc_row0_col8\" class=\"data row0 col8\" >0.0670</td>\n",
       "    </tr>\n",
       "  </tbody>\n",
       "</table>\n"
      ],
      "text/plain": [
       "<pandas.io.formats.style.Styler at 0x27fecd95d10>"
      ]
     },
     "metadata": {},
     "output_type": "display_data"
    },
    {
     "data": {
      "application/vnd.jupyter.widget-view+json": {
       "model_id": "f749e8bf8ec94c9889f5d9bc899dde54",
       "version_major": 2,
       "version_minor": 0
      },
      "text/plain": [
       "Processing:   0%|          | 0/9 [00:00<?, ?it/s]"
      ]
     },
     "metadata": {},
     "output_type": "display_data"
    },
    {
     "data": {
      "text/html": [],
      "text/plain": [
       "<IPython.core.display.HTML object>"
      ]
     },
     "metadata": {},
     "output_type": "display_data"
    },
    {
     "data": {
      "text/html": [],
      "text/plain": [
       "<IPython.core.display.HTML object>"
      ]
     },
     "metadata": {},
     "output_type": "display_data"
    },
    {
     "data": {
      "text/html": [],
      "text/plain": [
       "<IPython.core.display.HTML object>"
      ]
     },
     "metadata": {},
     "output_type": "display_data"
    },
    {
     "data": {
      "text/html": [
       "<style type=\"text/css\">\n",
       "#T_ad69e th {\n",
       "  text-align: left;\n",
       "}\n",
       "#T_ad69e_row0_col0 {\n",
       "  text-align: left;\n",
       "}\n",
       "#T_ad69e_row0_col1, #T_ad69e_row0_col2, #T_ad69e_row0_col3, #T_ad69e_row0_col4, #T_ad69e_row0_col5, #T_ad69e_row0_col6, #T_ad69e_row0_col7 {\n",
       "  text-align: left;\n",
       "  background-color: yellow;\n",
       "}\n",
       "#T_ad69e_row0_col8 {\n",
       "  text-align: left;\n",
       "  background-color: yellow;\n",
       "  background-color: lightgrey;\n",
       "}\n",
       "</style>\n",
       "<table id=\"T_ad69e\">\n",
       "  <thead>\n",
       "    <tr>\n",
       "      <th class=\"blank level0\" >&nbsp;</th>\n",
       "      <th id=\"T_ad69e_level0_col0\" class=\"col_heading level0 col0\" >Model</th>\n",
       "      <th id=\"T_ad69e_level0_col1\" class=\"col_heading level0 col1\" >Accuracy</th>\n",
       "      <th id=\"T_ad69e_level0_col2\" class=\"col_heading level0 col2\" >AUC</th>\n",
       "      <th id=\"T_ad69e_level0_col3\" class=\"col_heading level0 col3\" >Recall</th>\n",
       "      <th id=\"T_ad69e_level0_col4\" class=\"col_heading level0 col4\" >Prec.</th>\n",
       "      <th id=\"T_ad69e_level0_col5\" class=\"col_heading level0 col5\" >F1</th>\n",
       "      <th id=\"T_ad69e_level0_col6\" class=\"col_heading level0 col6\" >Kappa</th>\n",
       "      <th id=\"T_ad69e_level0_col7\" class=\"col_heading level0 col7\" >MCC</th>\n",
       "      <th id=\"T_ad69e_level0_col8\" class=\"col_heading level0 col8\" >TT (Sec)</th>\n",
       "    </tr>\n",
       "  </thead>\n",
       "  <tbody>\n",
       "    <tr>\n",
       "      <th id=\"T_ad69e_level0_row0\" class=\"row_heading level0 row0\" >xgboost</th>\n",
       "      <td id=\"T_ad69e_row0_col0\" class=\"data row0 col0\" >Extreme Gradient Boosting</td>\n",
       "      <td id=\"T_ad69e_row0_col1\" class=\"data row0 col1\" >0.9429</td>\n",
       "      <td id=\"T_ad69e_row0_col2\" class=\"data row0 col2\" >0.9633</td>\n",
       "      <td id=\"T_ad69e_row0_col3\" class=\"data row0 col3\" >0.9633</td>\n",
       "      <td id=\"T_ad69e_row0_col4\" class=\"data row0 col4\" >0.9714</td>\n",
       "      <td id=\"T_ad69e_row0_col5\" class=\"data row0 col5\" >0.9631</td>\n",
       "      <td id=\"T_ad69e_row0_col6\" class=\"data row0 col6\" >0.8284</td>\n",
       "      <td id=\"T_ad69e_row0_col7\" class=\"data row0 col7\" >0.8376</td>\n",
       "      <td id=\"T_ad69e_row0_col8\" class=\"data row0 col8\" >0.0280</td>\n",
       "    </tr>\n",
       "  </tbody>\n",
       "</table>\n"
      ],
      "text/plain": [
       "<pandas.io.formats.style.Styler at 0x27fe587ee50>"
      ]
     },
     "metadata": {},
     "output_type": "display_data"
    },
    {
     "data": {
      "application/vnd.jupyter.widget-view+json": {
       "model_id": "a4b5b1d6401e493abedc5f5727f5608c",
       "version_major": 2,
       "version_minor": 0
      },
      "text/plain": [
       "Processing:   0%|          | 0/9 [00:00<?, ?it/s]"
      ]
     },
     "metadata": {},
     "output_type": "display_data"
    },
    {
     "data": {
      "text/html": [],
      "text/plain": [
       "<IPython.core.display.HTML object>"
      ]
     },
     "metadata": {},
     "output_type": "display_data"
    },
    {
     "data": {
      "text/html": [],
      "text/plain": [
       "<IPython.core.display.HTML object>"
      ]
     },
     "metadata": {},
     "output_type": "display_data"
    },
    {
     "data": {
      "text/html": [],
      "text/plain": [
       "<IPython.core.display.HTML object>"
      ]
     },
     "metadata": {},
     "output_type": "display_data"
    },
    {
     "data": {
      "text/html": [
       "<style type=\"text/css\">\n",
       "#T_acff6 th {\n",
       "  text-align: left;\n",
       "}\n",
       "#T_acff6_row0_col0 {\n",
       "  text-align: left;\n",
       "}\n",
       "#T_acff6_row0_col1, #T_acff6_row0_col2, #T_acff6_row0_col3, #T_acff6_row0_col4, #T_acff6_row0_col5, #T_acff6_row0_col6, #T_acff6_row0_col7 {\n",
       "  text-align: left;\n",
       "  background-color: yellow;\n",
       "}\n",
       "#T_acff6_row0_col8 {\n",
       "  text-align: left;\n",
       "  background-color: yellow;\n",
       "  background-color: lightgrey;\n",
       "}\n",
       "</style>\n",
       "<table id=\"T_acff6\">\n",
       "  <thead>\n",
       "    <tr>\n",
       "      <th class=\"blank level0\" >&nbsp;</th>\n",
       "      <th id=\"T_acff6_level0_col0\" class=\"col_heading level0 col0\" >Model</th>\n",
       "      <th id=\"T_acff6_level0_col1\" class=\"col_heading level0 col1\" >Accuracy</th>\n",
       "      <th id=\"T_acff6_level0_col2\" class=\"col_heading level0 col2\" >AUC</th>\n",
       "      <th id=\"T_acff6_level0_col3\" class=\"col_heading level0 col3\" >Recall</th>\n",
       "      <th id=\"T_acff6_level0_col4\" class=\"col_heading level0 col4\" >Prec.</th>\n",
       "      <th id=\"T_acff6_level0_col5\" class=\"col_heading level0 col5\" >F1</th>\n",
       "      <th id=\"T_acff6_level0_col6\" class=\"col_heading level0 col6\" >Kappa</th>\n",
       "      <th id=\"T_acff6_level0_col7\" class=\"col_heading level0 col7\" >MCC</th>\n",
       "      <th id=\"T_acff6_level0_col8\" class=\"col_heading level0 col8\" >TT (Sec)</th>\n",
       "    </tr>\n",
       "  </thead>\n",
       "  <tbody>\n",
       "    <tr>\n",
       "      <th id=\"T_acff6_level0_row0\" class=\"row_heading level0 row0\" >lightgbm</th>\n",
       "      <td id=\"T_acff6_row0_col0\" class=\"data row0 col0\" >Light Gradient Boosting Machine</td>\n",
       "      <td id=\"T_acff6_row0_col1\" class=\"data row0 col1\" >0.9405</td>\n",
       "      <td id=\"T_acff6_row0_col2\" class=\"data row0 col2\" >0.9833</td>\n",
       "      <td id=\"T_acff6_row0_col3\" class=\"data row0 col3\" >0.9833</td>\n",
       "      <td id=\"T_acff6_row0_col4\" class=\"data row0 col4\" >0.9548</td>\n",
       "      <td id=\"T_acff6_row0_col5\" class=\"data row0 col5\" >0.9652</td>\n",
       "      <td id=\"T_acff6_row0_col6\" class=\"data row0 col6\" >0.7588</td>\n",
       "      <td id=\"T_acff6_row0_col7\" class=\"data row0 col7\" >0.7645</td>\n",
       "      <td id=\"T_acff6_row0_col8\" class=\"data row0 col8\" >0.0370</td>\n",
       "    </tr>\n",
       "  </tbody>\n",
       "</table>\n"
      ],
      "text/plain": [
       "<pandas.io.formats.style.Styler at 0x27fe5687250>"
      ]
     },
     "metadata": {},
     "output_type": "display_data"
    },
    {
     "data": {
      "application/vnd.jupyter.widget-view+json": {
       "model_id": "1e67aeb822bf404d809c5417fb3e4f32",
       "version_major": 2,
       "version_minor": 0
      },
      "text/plain": [
       "Processing:   0%|          | 0/9 [00:00<?, ?it/s]"
      ]
     },
     "metadata": {},
     "output_type": "display_data"
    },
    {
     "data": {
      "text/html": [],
      "text/plain": [
       "<IPython.core.display.HTML object>"
      ]
     },
     "metadata": {},
     "output_type": "display_data"
    },
    {
     "data": {
      "text/html": [],
      "text/plain": [
       "<IPython.core.display.HTML object>"
      ]
     },
     "metadata": {},
     "output_type": "display_data"
    },
    {
     "data": {
      "text/html": [],
      "text/plain": [
       "<IPython.core.display.HTML object>"
      ]
     },
     "metadata": {},
     "output_type": "display_data"
    },
    {
     "data": {
      "text/html": [
       "<style type=\"text/css\">\n",
       "#T_0f7ba th {\n",
       "  text-align: left;\n",
       "}\n",
       "#T_0f7ba_row0_col0 {\n",
       "  text-align: left;\n",
       "}\n",
       "#T_0f7ba_row0_col1, #T_0f7ba_row0_col2, #T_0f7ba_row0_col3, #T_0f7ba_row0_col4, #T_0f7ba_row0_col5, #T_0f7ba_row0_col6, #T_0f7ba_row0_col7 {\n",
       "  text-align: left;\n",
       "  background-color: yellow;\n",
       "}\n",
       "#T_0f7ba_row0_col8 {\n",
       "  text-align: left;\n",
       "  background-color: yellow;\n",
       "  background-color: lightgrey;\n",
       "}\n",
       "</style>\n",
       "<table id=\"T_0f7ba\">\n",
       "  <thead>\n",
       "    <tr>\n",
       "      <th class=\"blank level0\" >&nbsp;</th>\n",
       "      <th id=\"T_0f7ba_level0_col0\" class=\"col_heading level0 col0\" >Model</th>\n",
       "      <th id=\"T_0f7ba_level0_col1\" class=\"col_heading level0 col1\" >Accuracy</th>\n",
       "      <th id=\"T_0f7ba_level0_col2\" class=\"col_heading level0 col2\" >AUC</th>\n",
       "      <th id=\"T_0f7ba_level0_col3\" class=\"col_heading level0 col3\" >Recall</th>\n",
       "      <th id=\"T_0f7ba_level0_col4\" class=\"col_heading level0 col4\" >Prec.</th>\n",
       "      <th id=\"T_0f7ba_level0_col5\" class=\"col_heading level0 col5\" >F1</th>\n",
       "      <th id=\"T_0f7ba_level0_col6\" class=\"col_heading level0 col6\" >Kappa</th>\n",
       "      <th id=\"T_0f7ba_level0_col7\" class=\"col_heading level0 col7\" >MCC</th>\n",
       "      <th id=\"T_0f7ba_level0_col8\" class=\"col_heading level0 col8\" >TT (Sec)</th>\n",
       "    </tr>\n",
       "  </thead>\n",
       "  <tbody>\n",
       "    <tr>\n",
       "      <th id=\"T_0f7ba_level0_row0\" class=\"row_heading level0 row0\" >ada</th>\n",
       "      <td id=\"T_0f7ba_row0_col0\" class=\"data row0 col0\" >Ada Boost Classifier</td>\n",
       "      <td id=\"T_0f7ba_row0_col1\" class=\"data row0 col1\" >0.9381</td>\n",
       "      <td id=\"T_0f7ba_row0_col2\" class=\"data row0 col2\" >0.9483</td>\n",
       "      <td id=\"T_0f7ba_row0_col3\" class=\"data row0 col3\" >0.9633</td>\n",
       "      <td id=\"T_0f7ba_row0_col4\" class=\"data row0 col4\" >0.9667</td>\n",
       "      <td id=\"T_0f7ba_row0_col5\" class=\"data row0 col5\" >0.9616</td>\n",
       "      <td id=\"T_0f7ba_row0_col6\" class=\"data row0 col6\" >0.7748</td>\n",
       "      <td id=\"T_0f7ba_row0_col7\" class=\"data row0 col7\" >0.7923</td>\n",
       "      <td id=\"T_0f7ba_row0_col8\" class=\"data row0 col8\" >0.0500</td>\n",
       "    </tr>\n",
       "  </tbody>\n",
       "</table>\n"
      ],
      "text/plain": [
       "<pandas.io.formats.style.Styler at 0x27fecd95d10>"
      ]
     },
     "metadata": {},
     "output_type": "display_data"
    },
    {
     "data": {
      "application/vnd.jupyter.widget-view+json": {
       "model_id": "59ac14b8e06b486d9770c69bbd8b8d68",
       "version_major": 2,
       "version_minor": 0
      },
      "text/plain": [
       "Processing:   0%|          | 0/9 [00:00<?, ?it/s]"
      ]
     },
     "metadata": {},
     "output_type": "display_data"
    },
    {
     "data": {
      "text/html": [],
      "text/plain": [
       "<IPython.core.display.HTML object>"
      ]
     },
     "metadata": {},
     "output_type": "display_data"
    },
    {
     "data": {
      "text/html": [],
      "text/plain": [
       "<IPython.core.display.HTML object>"
      ]
     },
     "metadata": {},
     "output_type": "display_data"
    },
    {
     "data": {
      "text/html": [],
      "text/plain": [
       "<IPython.core.display.HTML object>"
      ]
     },
     "metadata": {},
     "output_type": "display_data"
    },
    {
     "data": {
      "text/html": [
       "<style type=\"text/css\">\n",
       "#T_be00c th {\n",
       "  text-align: left;\n",
       "}\n",
       "#T_be00c_row0_col0 {\n",
       "  text-align: left;\n",
       "}\n",
       "#T_be00c_row0_col1, #T_be00c_row0_col2, #T_be00c_row0_col3, #T_be00c_row0_col4, #T_be00c_row0_col5, #T_be00c_row0_col6, #T_be00c_row0_col7 {\n",
       "  text-align: left;\n",
       "  background-color: yellow;\n",
       "}\n",
       "#T_be00c_row0_col8 {\n",
       "  text-align: left;\n",
       "  background-color: yellow;\n",
       "  background-color: lightgrey;\n",
       "}\n",
       "</style>\n",
       "<table id=\"T_be00c\">\n",
       "  <thead>\n",
       "    <tr>\n",
       "      <th class=\"blank level0\" >&nbsp;</th>\n",
       "      <th id=\"T_be00c_level0_col0\" class=\"col_heading level0 col0\" >Model</th>\n",
       "      <th id=\"T_be00c_level0_col1\" class=\"col_heading level0 col1\" >Accuracy</th>\n",
       "      <th id=\"T_be00c_level0_col2\" class=\"col_heading level0 col2\" >AUC</th>\n",
       "      <th id=\"T_be00c_level0_col3\" class=\"col_heading level0 col3\" >Recall</th>\n",
       "      <th id=\"T_be00c_level0_col4\" class=\"col_heading level0 col4\" >Prec.</th>\n",
       "      <th id=\"T_be00c_level0_col5\" class=\"col_heading level0 col5\" >F1</th>\n",
       "      <th id=\"T_be00c_level0_col6\" class=\"col_heading level0 col6\" >Kappa</th>\n",
       "      <th id=\"T_be00c_level0_col7\" class=\"col_heading level0 col7\" >MCC</th>\n",
       "      <th id=\"T_be00c_level0_col8\" class=\"col_heading level0 col8\" >TT (Sec)</th>\n",
       "    </tr>\n",
       "  </thead>\n",
       "  <tbody>\n",
       "    <tr>\n",
       "      <th id=\"T_be00c_level0_row0\" class=\"row_heading level0 row0\" >nb</th>\n",
       "      <td id=\"T_be00c_row0_col0\" class=\"data row0 col0\" >Naive Bayes</td>\n",
       "      <td id=\"T_be00c_row0_col1\" class=\"data row0 col1\" >0.9262</td>\n",
       "      <td id=\"T_be00c_row0_col2\" class=\"data row0 col2\" >0.9233</td>\n",
       "      <td id=\"T_be00c_row0_col3\" class=\"data row0 col3\" >0.9433</td>\n",
       "      <td id=\"T_be00c_row0_col4\" class=\"data row0 col4\" >0.9667</td>\n",
       "      <td id=\"T_be00c_row0_col5\" class=\"data row0 col5\" >0.9525</td>\n",
       "      <td id=\"T_be00c_row0_col6\" class=\"data row0 col6\" >0.7924</td>\n",
       "      <td id=\"T_be00c_row0_col7\" class=\"data row0 col7\" >0.8020</td>\n",
       "      <td id=\"T_be00c_row0_col8\" class=\"data row0 col8\" >0.0160</td>\n",
       "    </tr>\n",
       "  </tbody>\n",
       "</table>\n"
      ],
      "text/plain": [
       "<pandas.io.formats.style.Styler at 0x27fecd86f10>"
      ]
     },
     "metadata": {},
     "output_type": "display_data"
    },
    {
     "data": {
      "application/vnd.jupyter.widget-view+json": {
       "model_id": "f9ea8f90b1f34d2191aada27f79045e2",
       "version_major": 2,
       "version_minor": 0
      },
      "text/plain": [
       "Processing:   0%|          | 0/9 [00:00<?, ?it/s]"
      ]
     },
     "metadata": {},
     "output_type": "display_data"
    },
    {
     "data": {
      "text/html": [],
      "text/plain": [
       "<IPython.core.display.HTML object>"
      ]
     },
     "metadata": {},
     "output_type": "display_data"
    },
    {
     "data": {
      "text/html": [],
      "text/plain": [
       "<IPython.core.display.HTML object>"
      ]
     },
     "metadata": {},
     "output_type": "display_data"
    },
    {
     "data": {
      "text/html": [],
      "text/plain": [
       "<IPython.core.display.HTML object>"
      ]
     },
     "metadata": {},
     "output_type": "display_data"
    },
    {
     "data": {
      "text/html": [
       "<style type=\"text/css\">\n",
       "#T_3263e th {\n",
       "  text-align: left;\n",
       "}\n",
       "#T_3263e_row0_col0 {\n",
       "  text-align: left;\n",
       "}\n",
       "#T_3263e_row0_col1, #T_3263e_row0_col2, #T_3263e_row0_col3, #T_3263e_row0_col4, #T_3263e_row0_col5, #T_3263e_row0_col6, #T_3263e_row0_col7 {\n",
       "  text-align: left;\n",
       "  background-color: yellow;\n",
       "}\n",
       "#T_3263e_row0_col8 {\n",
       "  text-align: left;\n",
       "  background-color: yellow;\n",
       "  background-color: lightgrey;\n",
       "}\n",
       "</style>\n",
       "<table id=\"T_3263e\">\n",
       "  <thead>\n",
       "    <tr>\n",
       "      <th class=\"blank level0\" >&nbsp;</th>\n",
       "      <th id=\"T_3263e_level0_col0\" class=\"col_heading level0 col0\" >Model</th>\n",
       "      <th id=\"T_3263e_level0_col1\" class=\"col_heading level0 col1\" >Accuracy</th>\n",
       "      <th id=\"T_3263e_level0_col2\" class=\"col_heading level0 col2\" >AUC</th>\n",
       "      <th id=\"T_3263e_level0_col3\" class=\"col_heading level0 col3\" >Recall</th>\n",
       "      <th id=\"T_3263e_level0_col4\" class=\"col_heading level0 col4\" >Prec.</th>\n",
       "      <th id=\"T_3263e_level0_col5\" class=\"col_heading level0 col5\" >F1</th>\n",
       "      <th id=\"T_3263e_level0_col6\" class=\"col_heading level0 col6\" >Kappa</th>\n",
       "      <th id=\"T_3263e_level0_col7\" class=\"col_heading level0 col7\" >MCC</th>\n",
       "      <th id=\"T_3263e_level0_col8\" class=\"col_heading level0 col8\" >TT (Sec)</th>\n",
       "    </tr>\n",
       "  </thead>\n",
       "  <tbody>\n",
       "    <tr>\n",
       "      <th id=\"T_3263e_level0_row0\" class=\"row_heading level0 row0\" >lda</th>\n",
       "      <td id=\"T_3263e_row0_col0\" class=\"data row0 col0\" >Linear Discriminant Analysis</td>\n",
       "      <td id=\"T_3263e_row0_col1\" class=\"data row0 col1\" >0.9262</td>\n",
       "      <td id=\"T_3263e_row0_col2\" class=\"data row0 col2\" >0.9900</td>\n",
       "      <td id=\"T_3263e_row0_col3\" class=\"data row0 col3\" >0.9633</td>\n",
       "      <td id=\"T_3263e_row0_col4\" class=\"data row0 col4\" >0.9467</td>\n",
       "      <td id=\"T_3263e_row0_col5\" class=\"data row0 col5\" >0.9527</td>\n",
       "      <td id=\"T_3263e_row0_col6\" class=\"data row0 col6\" >0.7476</td>\n",
       "      <td id=\"T_3263e_row0_col7\" class=\"data row0 col7\" >0.7591</td>\n",
       "      <td id=\"T_3263e_row0_col8\" class=\"data row0 col8\" >0.0200</td>\n",
       "    </tr>\n",
       "  </tbody>\n",
       "</table>\n"
      ],
      "text/plain": [
       "<pandas.io.formats.style.Styler at 0x27fe55abe50>"
      ]
     },
     "metadata": {},
     "output_type": "display_data"
    },
    {
     "data": {
      "application/vnd.jupyter.widget-view+json": {
       "model_id": "4ff2194949cf4dbeaecc9a72c070ed55",
       "version_major": 2,
       "version_minor": 0
      },
      "text/plain": [
       "Processing:   0%|          | 0/9 [00:00<?, ?it/s]"
      ]
     },
     "metadata": {},
     "output_type": "display_data"
    },
    {
     "data": {
      "text/html": [],
      "text/plain": [
       "<IPython.core.display.HTML object>"
      ]
     },
     "metadata": {},
     "output_type": "display_data"
    },
    {
     "data": {
      "text/html": [],
      "text/plain": [
       "<IPython.core.display.HTML object>"
      ]
     },
     "metadata": {},
     "output_type": "display_data"
    },
    {
     "data": {
      "text/html": [],
      "text/plain": [
       "<IPython.core.display.HTML object>"
      ]
     },
     "metadata": {},
     "output_type": "display_data"
    },
    {
     "data": {
      "text/html": [
       "<style type=\"text/css\">\n",
       "#T_ca6db th {\n",
       "  text-align: left;\n",
       "}\n",
       "#T_ca6db_row0_col0 {\n",
       "  text-align: left;\n",
       "}\n",
       "#T_ca6db_row0_col1, #T_ca6db_row0_col2, #T_ca6db_row0_col3, #T_ca6db_row0_col4, #T_ca6db_row0_col5, #T_ca6db_row0_col6, #T_ca6db_row0_col7 {\n",
       "  text-align: left;\n",
       "  background-color: yellow;\n",
       "}\n",
       "#T_ca6db_row0_col8 {\n",
       "  text-align: left;\n",
       "  background-color: yellow;\n",
       "  background-color: lightgrey;\n",
       "}\n",
       "</style>\n",
       "<table id=\"T_ca6db\">\n",
       "  <thead>\n",
       "    <tr>\n",
       "      <th class=\"blank level0\" >&nbsp;</th>\n",
       "      <th id=\"T_ca6db_level0_col0\" class=\"col_heading level0 col0\" >Model</th>\n",
       "      <th id=\"T_ca6db_level0_col1\" class=\"col_heading level0 col1\" >Accuracy</th>\n",
       "      <th id=\"T_ca6db_level0_col2\" class=\"col_heading level0 col2\" >AUC</th>\n",
       "      <th id=\"T_ca6db_level0_col3\" class=\"col_heading level0 col3\" >Recall</th>\n",
       "      <th id=\"T_ca6db_level0_col4\" class=\"col_heading level0 col4\" >Prec.</th>\n",
       "      <th id=\"T_ca6db_level0_col5\" class=\"col_heading level0 col5\" >F1</th>\n",
       "      <th id=\"T_ca6db_level0_col6\" class=\"col_heading level0 col6\" >Kappa</th>\n",
       "      <th id=\"T_ca6db_level0_col7\" class=\"col_heading level0 col7\" >MCC</th>\n",
       "      <th id=\"T_ca6db_level0_col8\" class=\"col_heading level0 col8\" >TT (Sec)</th>\n",
       "    </tr>\n",
       "  </thead>\n",
       "  <tbody>\n",
       "    <tr>\n",
       "      <th id=\"T_ca6db_level0_row0\" class=\"row_heading level0 row0\" >knn</th>\n",
       "      <td id=\"T_ca6db_row0_col0\" class=\"data row0 col0\" >K Neighbors Classifier</td>\n",
       "      <td id=\"T_ca6db_row0_col1\" class=\"data row0 col1\" >0.9238</td>\n",
       "      <td id=\"T_ca6db_row0_col2\" class=\"data row0 col2\" >0.9533</td>\n",
       "      <td id=\"T_ca6db_row0_col3\" class=\"data row0 col3\" >0.9633</td>\n",
       "      <td id=\"T_ca6db_row0_col4\" class=\"data row0 col4\" >0.9500</td>\n",
       "      <td id=\"T_ca6db_row0_col5\" class=\"data row0 col5\" >0.9540</td>\n",
       "      <td id=\"T_ca6db_row0_col6\" class=\"data row0 col6\" >0.6993</td>\n",
       "      <td id=\"T_ca6db_row0_col7\" class=\"data row0 col7\" >0.7111</td>\n",
       "      <td id=\"T_ca6db_row0_col8\" class=\"data row0 col8\" >0.0510</td>\n",
       "    </tr>\n",
       "  </tbody>\n",
       "</table>\n"
      ],
      "text/plain": [
       "<pandas.io.formats.style.Styler at 0x27fe27cca90>"
      ]
     },
     "metadata": {},
     "output_type": "display_data"
    },
    {
     "data": {
      "application/vnd.jupyter.widget-view+json": {
       "model_id": "939800c10e2341938d0608b077949cec",
       "version_major": 2,
       "version_minor": 0
      },
      "text/plain": [
       "Processing:   0%|          | 0/9 [00:00<?, ?it/s]"
      ]
     },
     "metadata": {},
     "output_type": "display_data"
    },
    {
     "data": {
      "text/html": [],
      "text/plain": [
       "<IPython.core.display.HTML object>"
      ]
     },
     "metadata": {},
     "output_type": "display_data"
    },
    {
     "data": {
      "text/html": [],
      "text/plain": [
       "<IPython.core.display.HTML object>"
      ]
     },
     "metadata": {},
     "output_type": "display_data"
    },
    {
     "data": {
      "text/html": [],
      "text/plain": [
       "<IPython.core.display.HTML object>"
      ]
     },
     "metadata": {},
     "output_type": "display_data"
    },
    {
     "data": {
      "text/html": [
       "<style type=\"text/css\">\n",
       "#T_ae395 th {\n",
       "  text-align: left;\n",
       "}\n",
       "#T_ae395_row0_col0 {\n",
       "  text-align: left;\n",
       "}\n",
       "#T_ae395_row0_col1, #T_ae395_row0_col2, #T_ae395_row0_col3, #T_ae395_row0_col4, #T_ae395_row0_col5, #T_ae395_row0_col6, #T_ae395_row0_col7 {\n",
       "  text-align: left;\n",
       "  background-color: yellow;\n",
       "}\n",
       "#T_ae395_row0_col8 {\n",
       "  text-align: left;\n",
       "  background-color: yellow;\n",
       "  background-color: lightgrey;\n",
       "}\n",
       "</style>\n",
       "<table id=\"T_ae395\">\n",
       "  <thead>\n",
       "    <tr>\n",
       "      <th class=\"blank level0\" >&nbsp;</th>\n",
       "      <th id=\"T_ae395_level0_col0\" class=\"col_heading level0 col0\" >Model</th>\n",
       "      <th id=\"T_ae395_level0_col1\" class=\"col_heading level0 col1\" >Accuracy</th>\n",
       "      <th id=\"T_ae395_level0_col2\" class=\"col_heading level0 col2\" >AUC</th>\n",
       "      <th id=\"T_ae395_level0_col3\" class=\"col_heading level0 col3\" >Recall</th>\n",
       "      <th id=\"T_ae395_level0_col4\" class=\"col_heading level0 col4\" >Prec.</th>\n",
       "      <th id=\"T_ae395_level0_col5\" class=\"col_heading level0 col5\" >F1</th>\n",
       "      <th id=\"T_ae395_level0_col6\" class=\"col_heading level0 col6\" >Kappa</th>\n",
       "      <th id=\"T_ae395_level0_col7\" class=\"col_heading level0 col7\" >MCC</th>\n",
       "      <th id=\"T_ae395_level0_col8\" class=\"col_heading level0 col8\" >TT (Sec)</th>\n",
       "    </tr>\n",
       "  </thead>\n",
       "  <tbody>\n",
       "    <tr>\n",
       "      <th id=\"T_ae395_level0_row0\" class=\"row_heading level0 row0\" >rf</th>\n",
       "      <td id=\"T_ae395_row0_col0\" class=\"data row0 col0\" >Random Forest Classifier</td>\n",
       "      <td id=\"T_ae395_row0_col1\" class=\"data row0 col1\" >0.9238</td>\n",
       "      <td id=\"T_ae395_row0_col2\" class=\"data row0 col2\" >0.9633</td>\n",
       "      <td id=\"T_ae395_row0_col3\" class=\"data row0 col3\" >0.9633</td>\n",
       "      <td id=\"T_ae395_row0_col4\" class=\"data row0 col4\" >0.9514</td>\n",
       "      <td id=\"T_ae395_row0_col5\" class=\"data row0 col5\" >0.9542</td>\n",
       "      <td id=\"T_ae395_row0_col6\" class=\"data row0 col6\" >0.7388</td>\n",
       "      <td id=\"T_ae395_row0_col7\" class=\"data row0 col7\" >0.7445</td>\n",
       "      <td id=\"T_ae395_row0_col8\" class=\"data row0 col8\" >0.1030</td>\n",
       "    </tr>\n",
       "  </tbody>\n",
       "</table>\n"
      ],
      "text/plain": [
       "<pandas.io.formats.style.Styler at 0x27fecf08510>"
      ]
     },
     "metadata": {},
     "output_type": "display_data"
    },
    {
     "data": {
      "application/vnd.jupyter.widget-view+json": {
       "model_id": "a2994682b3a14daca32cd3165eadb0d5",
       "version_major": 2,
       "version_minor": 0
      },
      "text/plain": [
       "Processing:   0%|          | 0/9 [00:00<?, ?it/s]"
      ]
     },
     "metadata": {},
     "output_type": "display_data"
    },
    {
     "data": {
      "text/html": [],
      "text/plain": [
       "<IPython.core.display.HTML object>"
      ]
     },
     "metadata": {},
     "output_type": "display_data"
    },
    {
     "data": {
      "text/html": [],
      "text/plain": [
       "<IPython.core.display.HTML object>"
      ]
     },
     "metadata": {},
     "output_type": "display_data"
    },
    {
     "data": {
      "text/html": [],
      "text/plain": [
       "<IPython.core.display.HTML object>"
      ]
     },
     "metadata": {},
     "output_type": "display_data"
    },
    {
     "data": {
      "text/html": [
       "<style type=\"text/css\">\n",
       "#T_b93b6 th {\n",
       "  text-align: left;\n",
       "}\n",
       "#T_b93b6_row0_col0 {\n",
       "  text-align: left;\n",
       "}\n",
       "#T_b93b6_row0_col1, #T_b93b6_row0_col2, #T_b93b6_row0_col3, #T_b93b6_row0_col4, #T_b93b6_row0_col5, #T_b93b6_row0_col6, #T_b93b6_row0_col7 {\n",
       "  text-align: left;\n",
       "  background-color: yellow;\n",
       "}\n",
       "#T_b93b6_row0_col8 {\n",
       "  text-align: left;\n",
       "  background-color: yellow;\n",
       "  background-color: lightgrey;\n",
       "}\n",
       "</style>\n",
       "<table id=\"T_b93b6\">\n",
       "  <thead>\n",
       "    <tr>\n",
       "      <th class=\"blank level0\" >&nbsp;</th>\n",
       "      <th id=\"T_b93b6_level0_col0\" class=\"col_heading level0 col0\" >Model</th>\n",
       "      <th id=\"T_b93b6_level0_col1\" class=\"col_heading level0 col1\" >Accuracy</th>\n",
       "      <th id=\"T_b93b6_level0_col2\" class=\"col_heading level0 col2\" >AUC</th>\n",
       "      <th id=\"T_b93b6_level0_col3\" class=\"col_heading level0 col3\" >Recall</th>\n",
       "      <th id=\"T_b93b6_level0_col4\" class=\"col_heading level0 col4\" >Prec.</th>\n",
       "      <th id=\"T_b93b6_level0_col5\" class=\"col_heading level0 col5\" >F1</th>\n",
       "      <th id=\"T_b93b6_level0_col6\" class=\"col_heading level0 col6\" >Kappa</th>\n",
       "      <th id=\"T_b93b6_level0_col7\" class=\"col_heading level0 col7\" >MCC</th>\n",
       "      <th id=\"T_b93b6_level0_col8\" class=\"col_heading level0 col8\" >TT (Sec)</th>\n",
       "    </tr>\n",
       "  </thead>\n",
       "  <tbody>\n",
       "    <tr>\n",
       "      <th id=\"T_b93b6_level0_row0\" class=\"row_heading level0 row0\" >svm</th>\n",
       "      <td id=\"T_b93b6_row0_col0\" class=\"data row0 col0\" >SVM - Linear Kernel</td>\n",
       "      <td id=\"T_b93b6_row0_col1\" class=\"data row0 col1\" >0.9095</td>\n",
       "      <td id=\"T_b93b6_row0_col2\" class=\"data row0 col2\" >0.9633</td>\n",
       "      <td id=\"T_b93b6_row0_col3\" class=\"data row0 col3\" >0.9833</td>\n",
       "      <td id=\"T_b93b6_row0_col4\" class=\"data row0 col4\" >0.9214</td>\n",
       "      <td id=\"T_b93b6_row0_col5\" class=\"data row0 col5\" >0.9470</td>\n",
       "      <td id=\"T_b93b6_row0_col6\" class=\"data row0 col6\" >0.6176</td>\n",
       "      <td id=\"T_b93b6_row0_col7\" class=\"data row0 col7\" >0.6291</td>\n",
       "      <td id=\"T_b93b6_row0_col8\" class=\"data row0 col8\" >0.0230</td>\n",
       "    </tr>\n",
       "  </tbody>\n",
       "</table>\n"
      ],
      "text/plain": [
       "<pandas.io.formats.style.Styler at 0x27fe5545210>"
      ]
     },
     "metadata": {},
     "output_type": "display_data"
    },
    {
     "data": {
      "application/vnd.jupyter.widget-view+json": {
       "model_id": "24a3b49d673c4c63837184eb1771e206",
       "version_major": 2,
       "version_minor": 0
      },
      "text/plain": [
       "Processing:   0%|          | 0/9 [00:00<?, ?it/s]"
      ]
     },
     "metadata": {},
     "output_type": "display_data"
    },
    {
     "data": {
      "text/html": [],
      "text/plain": [
       "<IPython.core.display.HTML object>"
      ]
     },
     "metadata": {},
     "output_type": "display_data"
    },
    {
     "data": {
      "text/html": [],
      "text/plain": [
       "<IPython.core.display.HTML object>"
      ]
     },
     "metadata": {},
     "output_type": "display_data"
    },
    {
     "data": {
      "text/html": [],
      "text/plain": [
       "<IPython.core.display.HTML object>"
      ]
     },
     "metadata": {},
     "output_type": "display_data"
    },
    {
     "data": {
      "text/html": [
       "<style type=\"text/css\">\n",
       "#T_a712c th {\n",
       "  text-align: left;\n",
       "}\n",
       "#T_a712c_row0_col0 {\n",
       "  text-align: left;\n",
       "}\n",
       "#T_a712c_row0_col1, #T_a712c_row0_col2, #T_a712c_row0_col3, #T_a712c_row0_col4, #T_a712c_row0_col5, #T_a712c_row0_col6, #T_a712c_row0_col7 {\n",
       "  text-align: left;\n",
       "  background-color: yellow;\n",
       "}\n",
       "#T_a712c_row0_col8 {\n",
       "  text-align: left;\n",
       "  background-color: yellow;\n",
       "  background-color: lightgrey;\n",
       "}\n",
       "</style>\n",
       "<table id=\"T_a712c\">\n",
       "  <thead>\n",
       "    <tr>\n",
       "      <th class=\"blank level0\" >&nbsp;</th>\n",
       "      <th id=\"T_a712c_level0_col0\" class=\"col_heading level0 col0\" >Model</th>\n",
       "      <th id=\"T_a712c_level0_col1\" class=\"col_heading level0 col1\" >Accuracy</th>\n",
       "      <th id=\"T_a712c_level0_col2\" class=\"col_heading level0 col2\" >AUC</th>\n",
       "      <th id=\"T_a712c_level0_col3\" class=\"col_heading level0 col3\" >Recall</th>\n",
       "      <th id=\"T_a712c_level0_col4\" class=\"col_heading level0 col4\" >Prec.</th>\n",
       "      <th id=\"T_a712c_level0_col5\" class=\"col_heading level0 col5\" >F1</th>\n",
       "      <th id=\"T_a712c_level0_col6\" class=\"col_heading level0 col6\" >Kappa</th>\n",
       "      <th id=\"T_a712c_level0_col7\" class=\"col_heading level0 col7\" >MCC</th>\n",
       "      <th id=\"T_a712c_level0_col8\" class=\"col_heading level0 col8\" >TT (Sec)</th>\n",
       "    </tr>\n",
       "  </thead>\n",
       "  <tbody>\n",
       "    <tr>\n",
       "      <th id=\"T_a712c_level0_row0\" class=\"row_heading level0 row0\" >ridge</th>\n",
       "      <td id=\"T_a712c_row0_col0\" class=\"data row0 col0\" >Ridge Classifier</td>\n",
       "      <td id=\"T_a712c_row0_col1\" class=\"data row0 col1\" >0.9095</td>\n",
       "      <td id=\"T_a712c_row0_col2\" class=\"data row0 col2\" >0.9900</td>\n",
       "      <td id=\"T_a712c_row0_col3\" class=\"data row0 col3\" >0.9633</td>\n",
       "      <td id=\"T_a712c_row0_col4\" class=\"data row0 col4\" >0.9300</td>\n",
       "      <td id=\"T_a712c_row0_col5\" class=\"data row0 col5\" >0.9436</td>\n",
       "      <td id=\"T_a712c_row0_col6\" class=\"data row0 col6\" >0.6476</td>\n",
       "      <td id=\"T_a712c_row0_col7\" class=\"data row0 col7\" >0.6591</td>\n",
       "      <td id=\"T_a712c_row0_col8\" class=\"data row0 col8\" >0.0180</td>\n",
       "    </tr>\n",
       "  </tbody>\n",
       "</table>\n"
      ],
      "text/plain": [
       "<pandas.io.formats.style.Styler at 0x27fecf028d0>"
      ]
     },
     "metadata": {},
     "output_type": "display_data"
    },
    {
     "data": {
      "application/vnd.jupyter.widget-view+json": {
       "model_id": "33bb0a9d5f0d4b9fa0ebdf15873d4741",
       "version_major": 2,
       "version_minor": 0
      },
      "text/plain": [
       "Processing:   0%|          | 0/9 [00:00<?, ?it/s]"
      ]
     },
     "metadata": {},
     "output_type": "display_data"
    },
    {
     "data": {
      "text/html": [],
      "text/plain": [
       "<IPython.core.display.HTML object>"
      ]
     },
     "metadata": {},
     "output_type": "display_data"
    },
    {
     "data": {
      "text/html": [],
      "text/plain": [
       "<IPython.core.display.HTML object>"
      ]
     },
     "metadata": {},
     "output_type": "display_data"
    },
    {
     "data": {
      "text/html": [],
      "text/plain": [
       "<IPython.core.display.HTML object>"
      ]
     },
     "metadata": {},
     "output_type": "display_data"
    },
    {
     "data": {
      "text/html": [
       "<style type=\"text/css\">\n",
       "#T_b0425 th {\n",
       "  text-align: left;\n",
       "}\n",
       "#T_b0425_row0_col0 {\n",
       "  text-align: left;\n",
       "}\n",
       "#T_b0425_row0_col1, #T_b0425_row0_col2, #T_b0425_row0_col3, #T_b0425_row0_col4, #T_b0425_row0_col5, #T_b0425_row0_col6, #T_b0425_row0_col7 {\n",
       "  text-align: left;\n",
       "  background-color: yellow;\n",
       "}\n",
       "#T_b0425_row0_col8 {\n",
       "  text-align: left;\n",
       "  background-color: yellow;\n",
       "  background-color: lightgrey;\n",
       "}\n",
       "</style>\n",
       "<table id=\"T_b0425\">\n",
       "  <thead>\n",
       "    <tr>\n",
       "      <th class=\"blank level0\" >&nbsp;</th>\n",
       "      <th id=\"T_b0425_level0_col0\" class=\"col_heading level0 col0\" >Model</th>\n",
       "      <th id=\"T_b0425_level0_col1\" class=\"col_heading level0 col1\" >Accuracy</th>\n",
       "      <th id=\"T_b0425_level0_col2\" class=\"col_heading level0 col2\" >AUC</th>\n",
       "      <th id=\"T_b0425_level0_col3\" class=\"col_heading level0 col3\" >Recall</th>\n",
       "      <th id=\"T_b0425_level0_col4\" class=\"col_heading level0 col4\" >Prec.</th>\n",
       "      <th id=\"T_b0425_level0_col5\" class=\"col_heading level0 col5\" >F1</th>\n",
       "      <th id=\"T_b0425_level0_col6\" class=\"col_heading level0 col6\" >Kappa</th>\n",
       "      <th id=\"T_b0425_level0_col7\" class=\"col_heading level0 col7\" >MCC</th>\n",
       "      <th id=\"T_b0425_level0_col8\" class=\"col_heading level0 col8\" >TT (Sec)</th>\n",
       "    </tr>\n",
       "  </thead>\n",
       "  <tbody>\n",
       "    <tr>\n",
       "      <th id=\"T_b0425_level0_row0\" class=\"row_heading level0 row0\" >gbc</th>\n",
       "      <td id=\"T_b0425_row0_col0\" class=\"data row0 col0\" >Gradient Boosting Classifier</td>\n",
       "      <td id=\"T_b0425_row0_col1\" class=\"data row0 col1\" >0.9095</td>\n",
       "      <td id=\"T_b0425_row0_col2\" class=\"data row0 col2\" >0.8267</td>\n",
       "      <td id=\"T_b0425_row0_col3\" class=\"data row0 col3\" >0.9633</td>\n",
       "      <td id=\"T_b0425_row0_col4\" class=\"data row0 col4\" >0.9381</td>\n",
       "      <td id=\"T_b0425_row0_col5\" class=\"data row0 col5\" >0.9449</td>\n",
       "      <td id=\"T_b0425_row0_col6\" class=\"data row0 col6\" >0.6284</td>\n",
       "      <td id=\"T_b0425_row0_col7\" class=\"data row0 col7\" >0.6376</td>\n",
       "      <td id=\"T_b0425_row0_col8\" class=\"data row0 col8\" >0.0640</td>\n",
       "    </tr>\n",
       "  </tbody>\n",
       "</table>\n"
      ],
      "text/plain": [
       "<pandas.io.formats.style.Styler at 0x27fece256d0>"
      ]
     },
     "metadata": {},
     "output_type": "display_data"
    },
    {
     "data": {
      "application/vnd.jupyter.widget-view+json": {
       "model_id": "50f2245a6034483fae8eca513d1707e5",
       "version_major": 2,
       "version_minor": 0
      },
      "text/plain": [
       "Processing:   0%|          | 0/9 [00:00<?, ?it/s]"
      ]
     },
     "metadata": {},
     "output_type": "display_data"
    },
    {
     "data": {
      "text/html": [],
      "text/plain": [
       "<IPython.core.display.HTML object>"
      ]
     },
     "metadata": {},
     "output_type": "display_data"
    },
    {
     "data": {
      "text/html": [],
      "text/plain": [
       "<IPython.core.display.HTML object>"
      ]
     },
     "metadata": {},
     "output_type": "display_data"
    },
    {
     "data": {
      "text/html": [],
      "text/plain": [
       "<IPython.core.display.HTML object>"
      ]
     },
     "metadata": {},
     "output_type": "display_data"
    },
    {
     "data": {
      "text/html": [
       "<style type=\"text/css\">\n",
       "#T_b0d4a th {\n",
       "  text-align: left;\n",
       "}\n",
       "#T_b0d4a_row0_col0 {\n",
       "  text-align: left;\n",
       "}\n",
       "#T_b0d4a_row0_col1, #T_b0d4a_row0_col2, #T_b0d4a_row0_col3, #T_b0d4a_row0_col4, #T_b0d4a_row0_col5, #T_b0d4a_row0_col6, #T_b0d4a_row0_col7 {\n",
       "  text-align: left;\n",
       "  background-color: yellow;\n",
       "}\n",
       "#T_b0d4a_row0_col8 {\n",
       "  text-align: left;\n",
       "  background-color: yellow;\n",
       "  background-color: lightgrey;\n",
       "}\n",
       "</style>\n",
       "<table id=\"T_b0d4a\">\n",
       "  <thead>\n",
       "    <tr>\n",
       "      <th class=\"blank level0\" >&nbsp;</th>\n",
       "      <th id=\"T_b0d4a_level0_col0\" class=\"col_heading level0 col0\" >Model</th>\n",
       "      <th id=\"T_b0d4a_level0_col1\" class=\"col_heading level0 col1\" >Accuracy</th>\n",
       "      <th id=\"T_b0d4a_level0_col2\" class=\"col_heading level0 col2\" >AUC</th>\n",
       "      <th id=\"T_b0d4a_level0_col3\" class=\"col_heading level0 col3\" >Recall</th>\n",
       "      <th id=\"T_b0d4a_level0_col4\" class=\"col_heading level0 col4\" >Prec.</th>\n",
       "      <th id=\"T_b0d4a_level0_col5\" class=\"col_heading level0 col5\" >F1</th>\n",
       "      <th id=\"T_b0d4a_level0_col6\" class=\"col_heading level0 col6\" >Kappa</th>\n",
       "      <th id=\"T_b0d4a_level0_col7\" class=\"col_heading level0 col7\" >MCC</th>\n",
       "      <th id=\"T_b0d4a_level0_col8\" class=\"col_heading level0 col8\" >TT (Sec)</th>\n",
       "    </tr>\n",
       "  </thead>\n",
       "  <tbody>\n",
       "    <tr>\n",
       "      <th id=\"T_b0d4a_level0_row0\" class=\"row_heading level0 row0\" >dt</th>\n",
       "      <td id=\"T_b0d4a_row0_col0\" class=\"data row0 col0\" >Decision Tree Classifier</td>\n",
       "      <td id=\"T_b0d4a_row0_col1\" class=\"data row0 col1\" >0.8929</td>\n",
       "      <td id=\"T_b0d4a_row0_col2\" class=\"data row0 col2\" >0.8217</td>\n",
       "      <td id=\"T_b0d4a_row0_col3\" class=\"data row0 col3\" >0.9433</td>\n",
       "      <td id=\"T_b0d4a_row0_col4\" class=\"data row0 col4\" >0.9348</td>\n",
       "      <td id=\"T_b0d4a_row0_col5\" class=\"data row0 col5\" >0.9340</td>\n",
       "      <td id=\"T_b0d4a_row0_col6\" class=\"data row0 col6\" >0.6084</td>\n",
       "      <td id=\"T_b0d4a_row0_col7\" class=\"data row0 col7\" >0.6176</td>\n",
       "      <td id=\"T_b0d4a_row0_col8\" class=\"data row0 col8\" >0.0230</td>\n",
       "    </tr>\n",
       "  </tbody>\n",
       "</table>\n"
      ],
      "text/plain": [
       "<pandas.io.formats.style.Styler at 0x27fecdb3610>"
      ]
     },
     "metadata": {},
     "output_type": "display_data"
    },
    {
     "data": {
      "application/vnd.jupyter.widget-view+json": {
       "model_id": "531092970a5b4f6b80ae51010774a7f4",
       "version_major": 2,
       "version_minor": 0
      },
      "text/plain": [
       "Processing:   0%|          | 0/9 [00:00<?, ?it/s]"
      ]
     },
     "metadata": {},
     "output_type": "display_data"
    },
    {
     "data": {
      "text/html": [],
      "text/plain": [
       "<IPython.core.display.HTML object>"
      ]
     },
     "metadata": {},
     "output_type": "display_data"
    },
    {
     "data": {
      "text/html": [],
      "text/plain": [
       "<IPython.core.display.HTML object>"
      ]
     },
     "metadata": {},
     "output_type": "display_data"
    },
    {
     "data": {
      "text/html": [],
      "text/plain": [
       "<IPython.core.display.HTML object>"
      ]
     },
     "metadata": {},
     "output_type": "display_data"
    },
    {
     "data": {
      "text/html": [
       "<style type=\"text/css\">\n",
       "#T_e6012 th {\n",
       "  text-align: left;\n",
       "}\n",
       "#T_e6012_row0_col0 {\n",
       "  text-align: left;\n",
       "}\n",
       "#T_e6012_row0_col1, #T_e6012_row0_col2, #T_e6012_row0_col3, #T_e6012_row0_col4, #T_e6012_row0_col5, #T_e6012_row0_col6, #T_e6012_row0_col7 {\n",
       "  text-align: left;\n",
       "  background-color: yellow;\n",
       "}\n",
       "#T_e6012_row0_col8 {\n",
       "  text-align: left;\n",
       "  background-color: yellow;\n",
       "  background-color: lightgrey;\n",
       "}\n",
       "</style>\n",
       "<table id=\"T_e6012\">\n",
       "  <thead>\n",
       "    <tr>\n",
       "      <th class=\"blank level0\" >&nbsp;</th>\n",
       "      <th id=\"T_e6012_level0_col0\" class=\"col_heading level0 col0\" >Model</th>\n",
       "      <th id=\"T_e6012_level0_col1\" class=\"col_heading level0 col1\" >Accuracy</th>\n",
       "      <th id=\"T_e6012_level0_col2\" class=\"col_heading level0 col2\" >AUC</th>\n",
       "      <th id=\"T_e6012_level0_col3\" class=\"col_heading level0 col3\" >Recall</th>\n",
       "      <th id=\"T_e6012_level0_col4\" class=\"col_heading level0 col4\" >Prec.</th>\n",
       "      <th id=\"T_e6012_level0_col5\" class=\"col_heading level0 col5\" >F1</th>\n",
       "      <th id=\"T_e6012_level0_col6\" class=\"col_heading level0 col6\" >Kappa</th>\n",
       "      <th id=\"T_e6012_level0_col7\" class=\"col_heading level0 col7\" >MCC</th>\n",
       "      <th id=\"T_e6012_level0_col8\" class=\"col_heading level0 col8\" >TT (Sec)</th>\n",
       "    </tr>\n",
       "  </thead>\n",
       "  <tbody>\n",
       "    <tr>\n",
       "      <th id=\"T_e6012_level0_row0\" class=\"row_heading level0 row0\" >dummy</th>\n",
       "      <td id=\"T_e6012_row0_col0\" class=\"data row0 col0\" >Dummy Classifier</td>\n",
       "      <td id=\"T_e6012_row0_col1\" class=\"data row0 col1\" >0.8119</td>\n",
       "      <td id=\"T_e6012_row0_col2\" class=\"data row0 col2\" >0.5000</td>\n",
       "      <td id=\"T_e6012_row0_col3\" class=\"data row0 col3\" >1.0000</td>\n",
       "      <td id=\"T_e6012_row0_col4\" class=\"data row0 col4\" >0.8119</td>\n",
       "      <td id=\"T_e6012_row0_col5\" class=\"data row0 col5\" >0.8953</td>\n",
       "      <td id=\"T_e6012_row0_col6\" class=\"data row0 col6\" >0.0000</td>\n",
       "      <td id=\"T_e6012_row0_col7\" class=\"data row0 col7\" >0.0000</td>\n",
       "      <td id=\"T_e6012_row0_col8\" class=\"data row0 col8\" >0.0160</td>\n",
       "    </tr>\n",
       "  </tbody>\n",
       "</table>\n"
      ],
      "text/plain": [
       "<pandas.io.formats.style.Styler at 0x27fecf0f0d0>"
      ]
     },
     "metadata": {},
     "output_type": "display_data"
    },
    {
     "data": {
      "application/vnd.jupyter.widget-view+json": {
       "model_id": "66757d3951e54f4f90220a5eb785dae4",
       "version_major": 2,
       "version_minor": 0
      },
      "text/plain": [
       "Processing:   0%|          | 0/9 [00:00<?, ?it/s]"
      ]
     },
     "metadata": {},
     "output_type": "display_data"
    },
    {
     "data": {
      "text/html": [],
      "text/plain": [
       "<IPython.core.display.HTML object>"
      ]
     },
     "metadata": {},
     "output_type": "display_data"
    },
    {
     "data": {
      "text/html": [],
      "text/plain": [
       "<IPython.core.display.HTML object>"
      ]
     },
     "metadata": {},
     "output_type": "display_data"
    }
   ],
   "source": [
    "import pandas as pd\n",
    "from pycaret.classification import setup, compare_models, predict_model, finalize_model, pull\n",
    "from sklearn.metrics import accuracy_score, f1_score\n",
    "from sklearn.model_selection import train_test_split\n",
    "import joblib\n",
    "\n",
    "# Load the CSV file into a DataFrame\n",
    "df = pd.read_csv('../data/players_df_sin_reco.csv')\n",
    "\n",
    "# Select features (columns 7 to 20, 0-based index: 6 to 19)\n",
    "X = df.iloc[:, 6:20]\n",
    "\n",
    "# Select the 5thth column from the end as the target\n",
    "y = df.iloc[:, -5]\n",
    "\n",
    "# Split data into training and testing sets\n",
    "X_train, X_test, y_train, y_test = train_test_split(X, y, test_size=0.2, random_state=42)\n",
    "\n",
    "# Create an empty DataFrame to store results\n",
    "midfieldplaymaker_df = pd.DataFrame(columns=['model', 'train_accuracy', 'test_accuracy', 'train_f1', 'test_f1', 'TT'])\n",
    "\n",
    "# Concatenate X_train and y_train into a DataFrame for PyCaret setup\n",
    "df_target = pd.concat([X_train, y_train], axis=1)\n",
    "\n",
    "# Setup PyCaret environment\n",
    "clf = setup(data=df_target, target=y.name, session_id=42)\n",
    "\n",
    "# Compare different models and store the results\n",
    "best_model = compare_models()  # This returns the top model\n",
    "compare_results = pull()  # Pulls all model results as a DataFrame\n",
    "\n",
    "# Define the mapping from model names to PyCaret identifiers\n",
    "model_mapping = {\n",
    "    'K Neighbors Classifier': 'knn',\n",
    "    'Random Forest Classifier': 'rf',\n",
    "    'Logistic Regression': 'lr',\n",
    "    'Decision Tree Classifier': 'dt',\n",
    "    'Ada Boost Classifier': 'ada',\n",
    "    'Gradient Boosting Classifier': 'gbc',\n",
    "    'Naive Bayes': 'nb',\n",
    "    'SVM - Linear Kernel': 'svm',\n",
    "    'Extra Trees Classifier': 'et',\n",
    "    'Light Gradient Boosting Machine': 'lightgbm',\n",
    "    'Ridge Classifier': 'ridge',\n",
    "    'Linear Discriminant Analysis': 'lda',\n",
    "    'Extreme Gradient Boosting': 'xgboost',\n",
    "    'Dummy Classifier': 'dummy'\n",
    "}\n",
    "\n",
    "# Loop over each model in the compare_results DataFrame\n",
    "for idx, row in compare_results.iterrows():\n",
    "    model_name = row['Model']\n",
    "    testing_time = row['TT (Sec)']\n",
    "\n",
    "    # Get the PyCaret identifier for the model\n",
    "    model_identifier = model_mapping.get(model_name)\n",
    "\n",
    "    # Instead of finalizing by the model name, select the model by identifier\n",
    "    if model_identifier:\n",
    "        best_model = compare_models(include=[model_identifier], n_select=1)\n",
    "\n",
    "        # Finalize the model (train it on the entire dataset)\n",
    "        final_model = finalize_model(best_model)\n",
    "\n",
    "        # Predict on train and test sets\n",
    "        predictions_train = predict_model(final_model, data=X_train)\n",
    "        predictions_test = predict_model(final_model, data=X_test)\n",
    "\n",
    "        # Calculate test accuracy and F1 score\n",
    "        y_pred_test = predictions_test['prediction_label']\n",
    "        test_accuracy = accuracy_score(y_test, y_pred_test)\n",
    "        test_f1 = f1_score(y_test, y_pred_test, average='weighted')\n",
    "\n",
    "        # Calculate train accuracy and F1 score\n",
    "        y_pred_train = predictions_train['prediction_label']\n",
    "        train_accuracy = accuracy_score(y_train, y_pred_train)\n",
    "        train_f1 = f1_score(y_train, y_pred_train, average='weighted')\n",
    "\n",
    "        # Append the metrics for each model to the results DataFrame\n",
    "        new_row = pd.DataFrame({\n",
    "            'model': model_name,\n",
    "            'train_accuracy': train_accuracy,\n",
    "            'test_accuracy': test_accuracy,\n",
    "            'train_f1': train_f1,\n",
    "            'test_f1': test_f1,\n",
    "            'TT': testing_time\n",
    "        }, index=[0])\n",
    "\n",
    "        midfieldplaymaker_df = pd.concat([midfieldplaymaker_df, new_row], ignore_index=True)\n"
   ]
  },
  {
   "cell_type": "code",
   "execution_count": 26,
   "metadata": {},
   "outputs": [
    {
     "data": {
      "text/html": [
       "<div>\n",
       "<style scoped>\n",
       "    .dataframe tbody tr th:only-of-type {\n",
       "        vertical-align: middle;\n",
       "    }\n",
       "\n",
       "    .dataframe tbody tr th {\n",
       "        vertical-align: top;\n",
       "    }\n",
       "\n",
       "    .dataframe thead th {\n",
       "        text-align: right;\n",
       "    }\n",
       "</style>\n",
       "<table border=\"1\" class=\"dataframe\">\n",
       "  <thead>\n",
       "    <tr style=\"text-align: right;\">\n",
       "      <th></th>\n",
       "      <th>model</th>\n",
       "      <th>train_accuracy</th>\n",
       "      <th>test_accuracy</th>\n",
       "      <th>train_f1</th>\n",
       "      <th>test_f1</th>\n",
       "      <th>TT</th>\n",
       "    </tr>\n",
       "  </thead>\n",
       "  <tbody>\n",
       "    <tr>\n",
       "      <th>0</th>\n",
       "      <td>Logistic Regression</td>\n",
       "      <td>1.000000</td>\n",
       "      <td>1.000000</td>\n",
       "      <td>1.000000</td>\n",
       "      <td>1.000000</td>\n",
       "      <td>0.026</td>\n",
       "    </tr>\n",
       "    <tr>\n",
       "      <th>1</th>\n",
       "      <td>Extra Trees Classifier</td>\n",
       "      <td>1.000000</td>\n",
       "      <td>0.956522</td>\n",
       "      <td>1.000000</td>\n",
       "      <td>0.949781</td>\n",
       "      <td>0.085</td>\n",
       "    </tr>\n",
       "    <tr>\n",
       "      <th>2</th>\n",
       "      <td>Extreme Gradient Boosting</td>\n",
       "      <td>0.989011</td>\n",
       "      <td>0.956522</td>\n",
       "      <td>0.989131</td>\n",
       "      <td>0.949781</td>\n",
       "      <td>0.029</td>\n",
       "    </tr>\n",
       "    <tr>\n",
       "      <th>3</th>\n",
       "      <td>Light Gradient Boosting Machine</td>\n",
       "      <td>1.000000</td>\n",
       "      <td>0.956522</td>\n",
       "      <td>1.000000</td>\n",
       "      <td>0.949781</td>\n",
       "      <td>0.034</td>\n",
       "    </tr>\n",
       "    <tr>\n",
       "      <th>4</th>\n",
       "      <td>Ada Boost Classifier</td>\n",
       "      <td>1.000000</td>\n",
       "      <td>0.956522</td>\n",
       "      <td>1.000000</td>\n",
       "      <td>0.949781</td>\n",
       "      <td>0.054</td>\n",
       "    </tr>\n",
       "    <tr>\n",
       "      <th>5</th>\n",
       "      <td>Naive Bayes</td>\n",
       "      <td>0.945055</td>\n",
       "      <td>1.000000</td>\n",
       "      <td>0.946714</td>\n",
       "      <td>1.000000</td>\n",
       "      <td>0.022</td>\n",
       "    </tr>\n",
       "    <tr>\n",
       "      <th>6</th>\n",
       "      <td>Linear Discriminant Analysis</td>\n",
       "      <td>0.989011</td>\n",
       "      <td>1.000000</td>\n",
       "      <td>0.988881</td>\n",
       "      <td>1.000000</td>\n",
       "      <td>0.015</td>\n",
       "    </tr>\n",
       "    <tr>\n",
       "      <th>7</th>\n",
       "      <td>K Neighbors Classifier</td>\n",
       "      <td>0.934066</td>\n",
       "      <td>0.956522</td>\n",
       "      <td>0.930538</td>\n",
       "      <td>0.949781</td>\n",
       "      <td>0.025</td>\n",
       "    </tr>\n",
       "    <tr>\n",
       "      <th>8</th>\n",
       "      <td>Random Forest Classifier</td>\n",
       "      <td>1.000000</td>\n",
       "      <td>0.956522</td>\n",
       "      <td>1.000000</td>\n",
       "      <td>0.949781</td>\n",
       "      <td>0.085</td>\n",
       "    </tr>\n",
       "    <tr>\n",
       "      <th>9</th>\n",
       "      <td>SVM - Linear Kernel</td>\n",
       "      <td>0.945055</td>\n",
       "      <td>1.000000</td>\n",
       "      <td>0.947616</td>\n",
       "      <td>1.000000</td>\n",
       "      <td>0.016</td>\n",
       "    </tr>\n",
       "    <tr>\n",
       "      <th>10</th>\n",
       "      <td>Ridge Classifier</td>\n",
       "      <td>0.989011</td>\n",
       "      <td>1.000000</td>\n",
       "      <td>0.988881</td>\n",
       "      <td>1.000000</td>\n",
       "      <td>0.015</td>\n",
       "    </tr>\n",
       "    <tr>\n",
       "      <th>11</th>\n",
       "      <td>Gradient Boosting Classifier</td>\n",
       "      <td>1.000000</td>\n",
       "      <td>0.956522</td>\n",
       "      <td>1.000000</td>\n",
       "      <td>0.949781</td>\n",
       "      <td>0.056</td>\n",
       "    </tr>\n",
       "    <tr>\n",
       "      <th>12</th>\n",
       "      <td>Decision Tree Classifier</td>\n",
       "      <td>1.000000</td>\n",
       "      <td>0.956522</td>\n",
       "      <td>1.000000</td>\n",
       "      <td>0.949781</td>\n",
       "      <td>0.016</td>\n",
       "    </tr>\n",
       "    <tr>\n",
       "      <th>13</th>\n",
       "      <td>Dummy Classifier</td>\n",
       "      <td>0.813187</td>\n",
       "      <td>0.913043</td>\n",
       "      <td>0.729404</td>\n",
       "      <td>0.871542</td>\n",
       "      <td>0.012</td>\n",
       "    </tr>\n",
       "  </tbody>\n",
       "</table>\n",
       "</div>"
      ],
      "text/plain": [
       "                              model  train_accuracy  test_accuracy  train_f1  \\\n",
       "0               Logistic Regression        1.000000       1.000000  1.000000   \n",
       "1            Extra Trees Classifier        1.000000       0.956522  1.000000   \n",
       "2         Extreme Gradient Boosting        0.989011       0.956522  0.989131   \n",
       "3   Light Gradient Boosting Machine        1.000000       0.956522  1.000000   \n",
       "4              Ada Boost Classifier        1.000000       0.956522  1.000000   \n",
       "5                       Naive Bayes        0.945055       1.000000  0.946714   \n",
       "6      Linear Discriminant Analysis        0.989011       1.000000  0.988881   \n",
       "7            K Neighbors Classifier        0.934066       0.956522  0.930538   \n",
       "8          Random Forest Classifier        1.000000       0.956522  1.000000   \n",
       "9               SVM - Linear Kernel        0.945055       1.000000  0.947616   \n",
       "10                 Ridge Classifier        0.989011       1.000000  0.988881   \n",
       "11     Gradient Boosting Classifier        1.000000       0.956522  1.000000   \n",
       "12         Decision Tree Classifier        1.000000       0.956522  1.000000   \n",
       "13                 Dummy Classifier        0.813187       0.913043  0.729404   \n",
       "\n",
       "     test_f1     TT  \n",
       "0   1.000000  0.026  \n",
       "1   0.949781  0.085  \n",
       "2   0.949781  0.029  \n",
       "3   0.949781  0.034  \n",
       "4   0.949781  0.054  \n",
       "5   1.000000  0.022  \n",
       "6   1.000000  0.015  \n",
       "7   0.949781  0.025  \n",
       "8   0.949781  0.085  \n",
       "9   1.000000  0.016  \n",
       "10  1.000000  0.015  \n",
       "11  0.949781  0.056  \n",
       "12  0.949781  0.016  \n",
       "13  0.871542  0.012  "
      ]
     },
     "execution_count": 26,
     "metadata": {},
     "output_type": "execute_result"
    }
   ],
   "source": [
    "midfieldplaymaker_df"
   ]
  },
  {
   "cell_type": "markdown",
   "metadata": {},
   "source": [
    "## Traditional Winger"
   ]
  },
  {
   "cell_type": "code",
   "execution_count": 27,
   "metadata": {},
   "outputs": [
    {
     "data": {
      "text/html": [
       "<style type=\"text/css\">\n",
       "#T_80c30_row8_col1 {\n",
       "  background-color: lightgreen;\n",
       "}\n",
       "</style>\n",
       "<table id=\"T_80c30\">\n",
       "  <thead>\n",
       "    <tr>\n",
       "      <th class=\"blank level0\" >&nbsp;</th>\n",
       "      <th id=\"T_80c30_level0_col0\" class=\"col_heading level0 col0\" >Description</th>\n",
       "      <th id=\"T_80c30_level0_col1\" class=\"col_heading level0 col1\" >Value</th>\n",
       "    </tr>\n",
       "  </thead>\n",
       "  <tbody>\n",
       "    <tr>\n",
       "      <th id=\"T_80c30_level0_row0\" class=\"row_heading level0 row0\" >0</th>\n",
       "      <td id=\"T_80c30_row0_col0\" class=\"data row0 col0\" >Session id</td>\n",
       "      <td id=\"T_80c30_row0_col1\" class=\"data row0 col1\" >42</td>\n",
       "    </tr>\n",
       "    <tr>\n",
       "      <th id=\"T_80c30_level0_row1\" class=\"row_heading level0 row1\" >1</th>\n",
       "      <td id=\"T_80c30_row1_col0\" class=\"data row1 col0\" >Target</td>\n",
       "      <td id=\"T_80c30_row1_col1\" class=\"data row1 col1\" >Class_Traditional Winger</td>\n",
       "    </tr>\n",
       "    <tr>\n",
       "      <th id=\"T_80c30_level0_row2\" class=\"row_heading level0 row2\" >2</th>\n",
       "      <td id=\"T_80c30_row2_col0\" class=\"data row2 col0\" >Target type</td>\n",
       "      <td id=\"T_80c30_row2_col1\" class=\"data row2 col1\" >Binary</td>\n",
       "    </tr>\n",
       "    <tr>\n",
       "      <th id=\"T_80c30_level0_row3\" class=\"row_heading level0 row3\" >3</th>\n",
       "      <td id=\"T_80c30_row3_col0\" class=\"data row3 col0\" >Original data shape</td>\n",
       "      <td id=\"T_80c30_row3_col1\" class=\"data row3 col1\" >(91, 15)</td>\n",
       "    </tr>\n",
       "    <tr>\n",
       "      <th id=\"T_80c30_level0_row4\" class=\"row_heading level0 row4\" >4</th>\n",
       "      <td id=\"T_80c30_row4_col0\" class=\"data row4 col0\" >Transformed data shape</td>\n",
       "      <td id=\"T_80c30_row4_col1\" class=\"data row4 col1\" >(91, 15)</td>\n",
       "    </tr>\n",
       "    <tr>\n",
       "      <th id=\"T_80c30_level0_row5\" class=\"row_heading level0 row5\" >5</th>\n",
       "      <td id=\"T_80c30_row5_col0\" class=\"data row5 col0\" >Transformed train set shape</td>\n",
       "      <td id=\"T_80c30_row5_col1\" class=\"data row5 col1\" >(63, 15)</td>\n",
       "    </tr>\n",
       "    <tr>\n",
       "      <th id=\"T_80c30_level0_row6\" class=\"row_heading level0 row6\" >6</th>\n",
       "      <td id=\"T_80c30_row6_col0\" class=\"data row6 col0\" >Transformed test set shape</td>\n",
       "      <td id=\"T_80c30_row6_col1\" class=\"data row6 col1\" >(28, 15)</td>\n",
       "    </tr>\n",
       "    <tr>\n",
       "      <th id=\"T_80c30_level0_row7\" class=\"row_heading level0 row7\" >7</th>\n",
       "      <td id=\"T_80c30_row7_col0\" class=\"data row7 col0\" >Numeric features</td>\n",
       "      <td id=\"T_80c30_row7_col1\" class=\"data row7 col1\" >14</td>\n",
       "    </tr>\n",
       "    <tr>\n",
       "      <th id=\"T_80c30_level0_row8\" class=\"row_heading level0 row8\" >8</th>\n",
       "      <td id=\"T_80c30_row8_col0\" class=\"data row8 col0\" >Preprocess</td>\n",
       "      <td id=\"T_80c30_row8_col1\" class=\"data row8 col1\" >True</td>\n",
       "    </tr>\n",
       "    <tr>\n",
       "      <th id=\"T_80c30_level0_row9\" class=\"row_heading level0 row9\" >9</th>\n",
       "      <td id=\"T_80c30_row9_col0\" class=\"data row9 col0\" >Imputation type</td>\n",
       "      <td id=\"T_80c30_row9_col1\" class=\"data row9 col1\" >simple</td>\n",
       "    </tr>\n",
       "    <tr>\n",
       "      <th id=\"T_80c30_level0_row10\" class=\"row_heading level0 row10\" >10</th>\n",
       "      <td id=\"T_80c30_row10_col0\" class=\"data row10 col0\" >Numeric imputation</td>\n",
       "      <td id=\"T_80c30_row10_col1\" class=\"data row10 col1\" >mean</td>\n",
       "    </tr>\n",
       "    <tr>\n",
       "      <th id=\"T_80c30_level0_row11\" class=\"row_heading level0 row11\" >11</th>\n",
       "      <td id=\"T_80c30_row11_col0\" class=\"data row11 col0\" >Categorical imputation</td>\n",
       "      <td id=\"T_80c30_row11_col1\" class=\"data row11 col1\" >mode</td>\n",
       "    </tr>\n",
       "    <tr>\n",
       "      <th id=\"T_80c30_level0_row12\" class=\"row_heading level0 row12\" >12</th>\n",
       "      <td id=\"T_80c30_row12_col0\" class=\"data row12 col0\" >Fold Generator</td>\n",
       "      <td id=\"T_80c30_row12_col1\" class=\"data row12 col1\" >StratifiedKFold</td>\n",
       "    </tr>\n",
       "    <tr>\n",
       "      <th id=\"T_80c30_level0_row13\" class=\"row_heading level0 row13\" >13</th>\n",
       "      <td id=\"T_80c30_row13_col0\" class=\"data row13 col0\" >Fold Number</td>\n",
       "      <td id=\"T_80c30_row13_col1\" class=\"data row13 col1\" >10</td>\n",
       "    </tr>\n",
       "    <tr>\n",
       "      <th id=\"T_80c30_level0_row14\" class=\"row_heading level0 row14\" >14</th>\n",
       "      <td id=\"T_80c30_row14_col0\" class=\"data row14 col0\" >CPU Jobs</td>\n",
       "      <td id=\"T_80c30_row14_col1\" class=\"data row14 col1\" >-1</td>\n",
       "    </tr>\n",
       "    <tr>\n",
       "      <th id=\"T_80c30_level0_row15\" class=\"row_heading level0 row15\" >15</th>\n",
       "      <td id=\"T_80c30_row15_col0\" class=\"data row15 col0\" >Use GPU</td>\n",
       "      <td id=\"T_80c30_row15_col1\" class=\"data row15 col1\" >False</td>\n",
       "    </tr>\n",
       "    <tr>\n",
       "      <th id=\"T_80c30_level0_row16\" class=\"row_heading level0 row16\" >16</th>\n",
       "      <td id=\"T_80c30_row16_col0\" class=\"data row16 col0\" >Log Experiment</td>\n",
       "      <td id=\"T_80c30_row16_col1\" class=\"data row16 col1\" >False</td>\n",
       "    </tr>\n",
       "    <tr>\n",
       "      <th id=\"T_80c30_level0_row17\" class=\"row_heading level0 row17\" >17</th>\n",
       "      <td id=\"T_80c30_row17_col0\" class=\"data row17 col0\" >Experiment Name</td>\n",
       "      <td id=\"T_80c30_row17_col1\" class=\"data row17 col1\" >clf-default-name</td>\n",
       "    </tr>\n",
       "    <tr>\n",
       "      <th id=\"T_80c30_level0_row18\" class=\"row_heading level0 row18\" >18</th>\n",
       "      <td id=\"T_80c30_row18_col0\" class=\"data row18 col0\" >USI</td>\n",
       "      <td id=\"T_80c30_row18_col1\" class=\"data row18 col1\" >b6e0</td>\n",
       "    </tr>\n",
       "  </tbody>\n",
       "</table>\n"
      ],
      "text/plain": [
       "<pandas.io.formats.style.Styler at 0x27fe5a9ce90>"
      ]
     },
     "metadata": {},
     "output_type": "display_data"
    },
    {
     "data": {
      "text/html": [],
      "text/plain": [
       "<IPython.core.display.HTML object>"
      ]
     },
     "metadata": {},
     "output_type": "display_data"
    },
    {
     "data": {
      "text/html": [
       "<style type=\"text/css\">\n",
       "#T_4c47a th {\n",
       "  text-align: left;\n",
       "}\n",
       "#T_4c47a_row0_col0, #T_4c47a_row1_col0, #T_4c47a_row1_col1, #T_4c47a_row1_col2, #T_4c47a_row1_col3, #T_4c47a_row1_col4, #T_4c47a_row1_col5, #T_4c47a_row1_col6, #T_4c47a_row1_col7, #T_4c47a_row2_col0, #T_4c47a_row2_col1, #T_4c47a_row2_col2, #T_4c47a_row2_col3, #T_4c47a_row2_col4, #T_4c47a_row2_col5, #T_4c47a_row2_col6, #T_4c47a_row2_col7, #T_4c47a_row3_col0, #T_4c47a_row3_col1, #T_4c47a_row3_col2, #T_4c47a_row3_col3, #T_4c47a_row3_col4, #T_4c47a_row3_col5, #T_4c47a_row3_col6, #T_4c47a_row3_col7, #T_4c47a_row4_col0, #T_4c47a_row4_col1, #T_4c47a_row4_col2, #T_4c47a_row4_col3, #T_4c47a_row4_col4, #T_4c47a_row4_col5, #T_4c47a_row4_col6, #T_4c47a_row4_col7, #T_4c47a_row5_col0, #T_4c47a_row5_col1, #T_4c47a_row5_col2, #T_4c47a_row5_col3, #T_4c47a_row5_col4, #T_4c47a_row5_col5, #T_4c47a_row5_col6, #T_4c47a_row5_col7, #T_4c47a_row6_col0, #T_4c47a_row6_col1, #T_4c47a_row6_col2, #T_4c47a_row6_col3, #T_4c47a_row6_col4, #T_4c47a_row6_col5, #T_4c47a_row6_col6, #T_4c47a_row6_col7, #T_4c47a_row7_col0, #T_4c47a_row7_col1, #T_4c47a_row7_col2, #T_4c47a_row7_col3, #T_4c47a_row7_col4, #T_4c47a_row7_col5, #T_4c47a_row7_col6, #T_4c47a_row7_col7, #T_4c47a_row8_col0, #T_4c47a_row8_col1, #T_4c47a_row8_col2, #T_4c47a_row8_col3, #T_4c47a_row8_col4, #T_4c47a_row8_col5, #T_4c47a_row8_col6, #T_4c47a_row8_col7, #T_4c47a_row9_col0, #T_4c47a_row9_col1, #T_4c47a_row9_col2, #T_4c47a_row9_col3, #T_4c47a_row9_col4, #T_4c47a_row9_col5, #T_4c47a_row9_col6, #T_4c47a_row9_col7, #T_4c47a_row10_col0, #T_4c47a_row10_col1, #T_4c47a_row10_col2, #T_4c47a_row10_col3, #T_4c47a_row10_col4, #T_4c47a_row10_col5, #T_4c47a_row10_col6, #T_4c47a_row10_col7, #T_4c47a_row11_col0, #T_4c47a_row11_col1, #T_4c47a_row11_col2, #T_4c47a_row11_col3, #T_4c47a_row11_col4, #T_4c47a_row11_col5, #T_4c47a_row11_col6, #T_4c47a_row11_col7, #T_4c47a_row12_col0, #T_4c47a_row12_col1, #T_4c47a_row12_col2, #T_4c47a_row12_col3, #T_4c47a_row12_col4, #T_4c47a_row12_col5, #T_4c47a_row12_col6, #T_4c47a_row12_col7, #T_4c47a_row13_col0, #T_4c47a_row13_col1, #T_4c47a_row13_col2, #T_4c47a_row13_col3, #T_4c47a_row13_col4, #T_4c47a_row13_col5, #T_4c47a_row13_col6, #T_4c47a_row13_col7, #T_4c47a_row14_col0, #T_4c47a_row14_col1, #T_4c47a_row14_col2, #T_4c47a_row14_col3, #T_4c47a_row14_col4, #T_4c47a_row14_col5, #T_4c47a_row14_col6, #T_4c47a_row14_col7 {\n",
       "  text-align: left;\n",
       "}\n",
       "#T_4c47a_row0_col1, #T_4c47a_row0_col2, #T_4c47a_row0_col3, #T_4c47a_row0_col4, #T_4c47a_row0_col5, #T_4c47a_row0_col6, #T_4c47a_row0_col7 {\n",
       "  text-align: left;\n",
       "  background-color: yellow;\n",
       "}\n",
       "#T_4c47a_row0_col8, #T_4c47a_row2_col8, #T_4c47a_row3_col8, #T_4c47a_row4_col8, #T_4c47a_row5_col8, #T_4c47a_row6_col8, #T_4c47a_row7_col8, #T_4c47a_row8_col8, #T_4c47a_row9_col8, #T_4c47a_row10_col8, #T_4c47a_row11_col8, #T_4c47a_row12_col8, #T_4c47a_row13_col8, #T_4c47a_row14_col8 {\n",
       "  text-align: left;\n",
       "  background-color: lightgrey;\n",
       "}\n",
       "#T_4c47a_row1_col8 {\n",
       "  text-align: left;\n",
       "  background-color: yellow;\n",
       "  background-color: lightgrey;\n",
       "}\n",
       "</style>\n",
       "<table id=\"T_4c47a\">\n",
       "  <thead>\n",
       "    <tr>\n",
       "      <th class=\"blank level0\" >&nbsp;</th>\n",
       "      <th id=\"T_4c47a_level0_col0\" class=\"col_heading level0 col0\" >Model</th>\n",
       "      <th id=\"T_4c47a_level0_col1\" class=\"col_heading level0 col1\" >Accuracy</th>\n",
       "      <th id=\"T_4c47a_level0_col2\" class=\"col_heading level0 col2\" >AUC</th>\n",
       "      <th id=\"T_4c47a_level0_col3\" class=\"col_heading level0 col3\" >Recall</th>\n",
       "      <th id=\"T_4c47a_level0_col4\" class=\"col_heading level0 col4\" >Prec.</th>\n",
       "      <th id=\"T_4c47a_level0_col5\" class=\"col_heading level0 col5\" >F1</th>\n",
       "      <th id=\"T_4c47a_level0_col6\" class=\"col_heading level0 col6\" >Kappa</th>\n",
       "      <th id=\"T_4c47a_level0_col7\" class=\"col_heading level0 col7\" >MCC</th>\n",
       "      <th id=\"T_4c47a_level0_col8\" class=\"col_heading level0 col8\" >TT (Sec)</th>\n",
       "    </tr>\n",
       "  </thead>\n",
       "  <tbody>\n",
       "    <tr>\n",
       "      <th id=\"T_4c47a_level0_row0\" class=\"row_heading level0 row0\" >lr</th>\n",
       "      <td id=\"T_4c47a_row0_col0\" class=\"data row0 col0\" >Logistic Regression</td>\n",
       "      <td id=\"T_4c47a_row0_col1\" class=\"data row0 col1\" >0.9548</td>\n",
       "      <td id=\"T_4c47a_row0_col2\" class=\"data row0 col2\" >1.0000</td>\n",
       "      <td id=\"T_4c47a_row0_col3\" class=\"data row0 col3\" >0.9667</td>\n",
       "      <td id=\"T_4c47a_row0_col4\" class=\"data row0 col4\" >0.9417</td>\n",
       "      <td id=\"T_4c47a_row0_col5\" class=\"data row0 col5\" >0.9457</td>\n",
       "      <td id=\"T_4c47a_row0_col6\" class=\"data row0 col6\" >0.9082</td>\n",
       "      <td id=\"T_4c47a_row0_col7\" class=\"data row0 col7\" >0.9187</td>\n",
       "      <td id=\"T_4c47a_row0_col8\" class=\"data row0 col8\" >0.0390</td>\n",
       "    </tr>\n",
       "    <tr>\n",
       "      <th id=\"T_4c47a_level0_row1\" class=\"row_heading level0 row1\" >ridge</th>\n",
       "      <td id=\"T_4c47a_row1_col0\" class=\"data row1 col0\" >Ridge Classifier</td>\n",
       "      <td id=\"T_4c47a_row1_col1\" class=\"data row1 col1\" >0.8738</td>\n",
       "      <td id=\"T_4c47a_row1_col2\" class=\"data row1 col2\" >0.9583</td>\n",
       "      <td id=\"T_4c47a_row1_col3\" class=\"data row1 col3\" >0.7833</td>\n",
       "      <td id=\"T_4c47a_row1_col4\" class=\"data row1 col4\" >0.9167</td>\n",
       "      <td id=\"T_4c47a_row1_col5\" class=\"data row1 col5\" >0.8133</td>\n",
       "      <td id=\"T_4c47a_row1_col6\" class=\"data row1 col6\" >0.7227</td>\n",
       "      <td id=\"T_4c47a_row1_col7\" class=\"data row1 col7\" >0.7544</td>\n",
       "      <td id=\"T_4c47a_row1_col8\" class=\"data row1 col8\" >0.0130</td>\n",
       "    </tr>\n",
       "    <tr>\n",
       "      <th id=\"T_4c47a_level0_row2\" class=\"row_heading level0 row2\" >lda</th>\n",
       "      <td id=\"T_4c47a_row2_col0\" class=\"data row2 col0\" >Linear Discriminant Analysis</td>\n",
       "      <td id=\"T_4c47a_row2_col1\" class=\"data row2 col1\" >0.8738</td>\n",
       "      <td id=\"T_4c47a_row2_col2\" class=\"data row2 col2\" >0.9583</td>\n",
       "      <td id=\"T_4c47a_row2_col3\" class=\"data row2 col3\" >0.7833</td>\n",
       "      <td id=\"T_4c47a_row2_col4\" class=\"data row2 col4\" >0.9167</td>\n",
       "      <td id=\"T_4c47a_row2_col5\" class=\"data row2 col5\" >0.8133</td>\n",
       "      <td id=\"T_4c47a_row2_col6\" class=\"data row2 col6\" >0.7227</td>\n",
       "      <td id=\"T_4c47a_row2_col7\" class=\"data row2 col7\" >0.7544</td>\n",
       "      <td id=\"T_4c47a_row2_col8\" class=\"data row2 col8\" >0.0140</td>\n",
       "    </tr>\n",
       "    <tr>\n",
       "      <th id=\"T_4c47a_level0_row3\" class=\"row_heading level0 row3\" >xgboost</th>\n",
       "      <td id=\"T_4c47a_row3_col0\" class=\"data row3 col0\" >Extreme Gradient Boosting</td>\n",
       "      <td id=\"T_4c47a_row3_col1\" class=\"data row3 col1\" >0.8714</td>\n",
       "      <td id=\"T_4c47a_row3_col2\" class=\"data row3 col2\" >0.9292</td>\n",
       "      <td id=\"T_4c47a_row3_col3\" class=\"data row3 col3\" >0.8667</td>\n",
       "      <td id=\"T_4c47a_row3_col4\" class=\"data row3 col4\" >0.8333</td>\n",
       "      <td id=\"T_4c47a_row3_col5\" class=\"data row3 col5\" >0.8300</td>\n",
       "      <td id=\"T_4c47a_row3_col6\" class=\"data row3 col6\" >0.7305</td>\n",
       "      <td id=\"T_4c47a_row3_col7\" class=\"data row3 col7\" >0.7506</td>\n",
       "      <td id=\"T_4c47a_row3_col8\" class=\"data row3 col8\" >0.0360</td>\n",
       "    </tr>\n",
       "    <tr>\n",
       "      <th id=\"T_4c47a_level0_row4\" class=\"row_heading level0 row4\" >ada</th>\n",
       "      <td id=\"T_4c47a_row4_col0\" class=\"data row4 col0\" >Ada Boost Classifier</td>\n",
       "      <td id=\"T_4c47a_row4_col1\" class=\"data row4 col1\" >0.8524</td>\n",
       "      <td id=\"T_4c47a_row4_col2\" class=\"data row4 col2\" >0.9625</td>\n",
       "      <td id=\"T_4c47a_row4_col3\" class=\"data row4 col3\" >0.9000</td>\n",
       "      <td id=\"T_4c47a_row4_col4\" class=\"data row4 col4\" >0.7983</td>\n",
       "      <td id=\"T_4c47a_row4_col5\" class=\"data row4 col5\" >0.8195</td>\n",
       "      <td id=\"T_4c47a_row4_col6\" class=\"data row4 col6\" >0.7057</td>\n",
       "      <td id=\"T_4c47a_row4_col7\" class=\"data row4 col7\" >0.7363</td>\n",
       "      <td id=\"T_4c47a_row4_col8\" class=\"data row4 col8\" >0.0470</td>\n",
       "    </tr>\n",
       "    <tr>\n",
       "      <th id=\"T_4c47a_level0_row5\" class=\"row_heading level0 row5\" >gbc</th>\n",
       "      <td id=\"T_4c47a_row5_col0\" class=\"data row5 col0\" >Gradient Boosting Classifier</td>\n",
       "      <td id=\"T_4c47a_row5_col1\" class=\"data row5 col1\" >0.8262</td>\n",
       "      <td id=\"T_4c47a_row5_col2\" class=\"data row5 col2\" >0.9375</td>\n",
       "      <td id=\"T_4c47a_row5_col3\" class=\"data row5 col3\" >0.7000</td>\n",
       "      <td id=\"T_4c47a_row5_col4\" class=\"data row5 col4\" >0.8667</td>\n",
       "      <td id=\"T_4c47a_row5_col5\" class=\"data row5 col5\" >0.7333</td>\n",
       "      <td id=\"T_4c47a_row5_col6\" class=\"data row5 col6\" >0.6145</td>\n",
       "      <td id=\"T_4c47a_row5_col7\" class=\"data row5 col7\" >0.6535</td>\n",
       "      <td id=\"T_4c47a_row5_col8\" class=\"data row5 col8\" >0.0570</td>\n",
       "    </tr>\n",
       "    <tr>\n",
       "      <th id=\"T_4c47a_level0_row6\" class=\"row_heading level0 row6\" >nb</th>\n",
       "      <td id=\"T_4c47a_row6_col0\" class=\"data row6 col0\" >Naive Bayes</td>\n",
       "      <td id=\"T_4c47a_row6_col1\" class=\"data row6 col1\" >0.8238</td>\n",
       "      <td id=\"T_4c47a_row6_col2\" class=\"data row6 col2\" >0.8896</td>\n",
       "      <td id=\"T_4c47a_row6_col3\" class=\"data row6 col3\" >0.8667</td>\n",
       "      <td id=\"T_4c47a_row6_col4\" class=\"data row6 col4\" >0.7733</td>\n",
       "      <td id=\"T_4c47a_row6_col5\" class=\"data row6 col5\" >0.7852</td>\n",
       "      <td id=\"T_4c47a_row6_col6\" class=\"data row6 col6\" >0.6472</td>\n",
       "      <td id=\"T_4c47a_row6_col7\" class=\"data row6 col7\" >0.6843</td>\n",
       "      <td id=\"T_4c47a_row6_col8\" class=\"data row6 col8\" >0.0170</td>\n",
       "    </tr>\n",
       "    <tr>\n",
       "      <th id=\"T_4c47a_level0_row7\" class=\"row_heading level0 row7\" >rf</th>\n",
       "      <td id=\"T_4c47a_row7_col0\" class=\"data row7 col0\" >Random Forest Classifier</td>\n",
       "      <td id=\"T_4c47a_row7_col1\" class=\"data row7 col1\" >0.8119</td>\n",
       "      <td id=\"T_4c47a_row7_col2\" class=\"data row7 col2\" >0.9042</td>\n",
       "      <td id=\"T_4c47a_row7_col3\" class=\"data row7 col3\" >0.7500</td>\n",
       "      <td id=\"T_4c47a_row7_col4\" class=\"data row7 col4\" >0.8233</td>\n",
       "      <td id=\"T_4c47a_row7_col5\" class=\"data row7 col5\" >0.7538</td>\n",
       "      <td id=\"T_4c47a_row7_col6\" class=\"data row7 col6\" >0.6104</td>\n",
       "      <td id=\"T_4c47a_row7_col7\" class=\"data row7 col7\" >0.6395</td>\n",
       "      <td id=\"T_4c47a_row7_col8\" class=\"data row7 col8\" >0.0960</td>\n",
       "    </tr>\n",
       "    <tr>\n",
       "      <th id=\"T_4c47a_level0_row8\" class=\"row_heading level0 row8\" >et</th>\n",
       "      <td id=\"T_4c47a_row8_col0\" class=\"data row8 col0\" >Extra Trees Classifier</td>\n",
       "      <td id=\"T_4c47a_row8_col1\" class=\"data row8 col1\" >0.8095</td>\n",
       "      <td id=\"T_4c47a_row8_col2\" class=\"data row8 col2\" >0.9146</td>\n",
       "      <td id=\"T_4c47a_row8_col3\" class=\"data row8 col3\" >0.7333</td>\n",
       "      <td id=\"T_4c47a_row8_col4\" class=\"data row8 col4\" >0.7817</td>\n",
       "      <td id=\"T_4c47a_row8_col5\" class=\"data row8 col5\" >0.7229</td>\n",
       "      <td id=\"T_4c47a_row8_col6\" class=\"data row8 col6\" >0.5871</td>\n",
       "      <td id=\"T_4c47a_row8_col7\" class=\"data row8 col7\" >0.6162</td>\n",
       "      <td id=\"T_4c47a_row8_col8\" class=\"data row8 col8\" >0.1120</td>\n",
       "    </tr>\n",
       "    <tr>\n",
       "      <th id=\"T_4c47a_level0_row9\" class=\"row_heading level0 row9\" >dt</th>\n",
       "      <td id=\"T_4c47a_row9_col0\" class=\"data row9 col0\" >Decision Tree Classifier</td>\n",
       "      <td id=\"T_4c47a_row9_col1\" class=\"data row9 col1\" >0.8048</td>\n",
       "      <td id=\"T_4c47a_row9_col2\" class=\"data row9 col2\" >0.7833</td>\n",
       "      <td id=\"T_4c47a_row9_col3\" class=\"data row9 col3\" >0.7167</td>\n",
       "      <td id=\"T_4c47a_row9_col4\" class=\"data row9 col4\" >0.7833</td>\n",
       "      <td id=\"T_4c47a_row9_col5\" class=\"data row9 col5\" >0.7133</td>\n",
       "      <td id=\"T_4c47a_row9_col6\" class=\"data row9 col6\" >0.5698</td>\n",
       "      <td id=\"T_4c47a_row9_col7\" class=\"data row9 col7\" >0.6021</td>\n",
       "      <td id=\"T_4c47a_row9_col8\" class=\"data row9 col8\" >0.0160</td>\n",
       "    </tr>\n",
       "    <tr>\n",
       "      <th id=\"T_4c47a_level0_row10\" class=\"row_heading level0 row10\" >svm</th>\n",
       "      <td id=\"T_4c47a_row10_col0\" class=\"data row10 col0\" >SVM - Linear Kernel</td>\n",
       "      <td id=\"T_4c47a_row10_col1\" class=\"data row10 col1\" >0.8048</td>\n",
       "      <td id=\"T_4c47a_row10_col2\" class=\"data row10 col2\" >0.9292</td>\n",
       "      <td id=\"T_4c47a_row10_col3\" class=\"data row10 col3\" >0.9167</td>\n",
       "      <td id=\"T_4c47a_row10_col4\" class=\"data row10 col4\" >0.7150</td>\n",
       "      <td id=\"T_4c47a_row10_col5\" class=\"data row10 col5\" >0.7795</td>\n",
       "      <td id=\"T_4c47a_row10_col6\" class=\"data row10 col6\" >0.6247</td>\n",
       "      <td id=\"T_4c47a_row10_col7\" class=\"data row10 col7\" >0.6668</td>\n",
       "      <td id=\"T_4c47a_row10_col8\" class=\"data row10 col8\" >0.0180</td>\n",
       "    </tr>\n",
       "    <tr>\n",
       "      <th id=\"T_4c47a_level0_row11\" class=\"row_heading level0 row11\" >qda</th>\n",
       "      <td id=\"T_4c47a_row11_col0\" class=\"data row11 col0\" >Quadratic Discriminant Analysis</td>\n",
       "      <td id=\"T_4c47a_row11_col1\" class=\"data row11 col1\" >0.7976</td>\n",
       "      <td id=\"T_4c47a_row11_col2\" class=\"data row11 col2\" >0.7667</td>\n",
       "      <td id=\"T_4c47a_row11_col3\" class=\"data row11 col3\" >0.6167</td>\n",
       "      <td id=\"T_4c47a_row11_col4\" class=\"data row11 col4\" >0.7833</td>\n",
       "      <td id=\"T_4c47a_row11_col5\" class=\"data row11 col5\" >0.6500</td>\n",
       "      <td id=\"T_4c47a_row11_col6\" class=\"data row11 col6\" >0.5311</td>\n",
       "      <td id=\"T_4c47a_row11_col7\" class=\"data row11 col7\" >0.5702</td>\n",
       "      <td id=\"T_4c47a_row11_col8\" class=\"data row11 col8\" >0.0150</td>\n",
       "    </tr>\n",
       "    <tr>\n",
       "      <th id=\"T_4c47a_level0_row12\" class=\"row_heading level0 row12\" >lightgbm</th>\n",
       "      <td id=\"T_4c47a_row12_col0\" class=\"data row12 col0\" >Light Gradient Boosting Machine</td>\n",
       "      <td id=\"T_4c47a_row12_col1\" class=\"data row12 col1\" >0.7476</td>\n",
       "      <td id=\"T_4c47a_row12_col2\" class=\"data row12 col2\" >0.8333</td>\n",
       "      <td id=\"T_4c47a_row12_col3\" class=\"data row12 col3\" >0.6667</td>\n",
       "      <td id=\"T_4c47a_row12_col4\" class=\"data row12 col4\" >0.6667</td>\n",
       "      <td id=\"T_4c47a_row12_col5\" class=\"data row12 col5\" >0.6433</td>\n",
       "      <td id=\"T_4c47a_row12_col6\" class=\"data row12 col6\" >0.4521</td>\n",
       "      <td id=\"T_4c47a_row12_col7\" class=\"data row12 col7\" >0.4742</td>\n",
       "      <td id=\"T_4c47a_row12_col8\" class=\"data row12 col8\" >0.0530</td>\n",
       "    </tr>\n",
       "    <tr>\n",
       "      <th id=\"T_4c47a_level0_row13\" class=\"row_heading level0 row13\" >knn</th>\n",
       "      <td id=\"T_4c47a_row13_col0\" class=\"data row13 col0\" >K Neighbors Classifier</td>\n",
       "      <td id=\"T_4c47a_row13_col1\" class=\"data row13 col1\" >0.7143</td>\n",
       "      <td id=\"T_4c47a_row13_col2\" class=\"data row13 col2\" >0.8646</td>\n",
       "      <td id=\"T_4c47a_row13_col3\" class=\"data row13 col3\" >0.5167</td>\n",
       "      <td id=\"T_4c47a_row13_col4\" class=\"data row13 col4\" >0.6150</td>\n",
       "      <td id=\"T_4c47a_row13_col5\" class=\"data row13 col5\" >0.5162</td>\n",
       "      <td id=\"T_4c47a_row13_col6\" class=\"data row13 col6\" >0.3460</td>\n",
       "      <td id=\"T_4c47a_row13_col7\" class=\"data row13 col7\" >0.3828</td>\n",
       "      <td id=\"T_4c47a_row13_col8\" class=\"data row13 col8\" >0.0290</td>\n",
       "    </tr>\n",
       "    <tr>\n",
       "      <th id=\"T_4c47a_level0_row14\" class=\"row_heading level0 row14\" >dummy</th>\n",
       "      <td id=\"T_4c47a_row14_col0\" class=\"data row14 col0\" >Dummy Classifier</td>\n",
       "      <td id=\"T_4c47a_row14_col1\" class=\"data row14 col1\" >0.6381</td>\n",
       "      <td id=\"T_4c47a_row14_col2\" class=\"data row14 col2\" >0.5000</td>\n",
       "      <td id=\"T_4c47a_row14_col3\" class=\"data row14 col3\" >0.0000</td>\n",
       "      <td id=\"T_4c47a_row14_col4\" class=\"data row14 col4\" >0.0000</td>\n",
       "      <td id=\"T_4c47a_row14_col5\" class=\"data row14 col5\" >0.0000</td>\n",
       "      <td id=\"T_4c47a_row14_col6\" class=\"data row14 col6\" >0.0000</td>\n",
       "      <td id=\"T_4c47a_row14_col7\" class=\"data row14 col7\" >0.0000</td>\n",
       "      <td id=\"T_4c47a_row14_col8\" class=\"data row14 col8\" >0.0140</td>\n",
       "    </tr>\n",
       "  </tbody>\n",
       "</table>\n"
      ],
      "text/plain": [
       "<pandas.io.formats.style.Styler at 0x27fe586fa90>"
      ]
     },
     "metadata": {},
     "output_type": "display_data"
    },
    {
     "data": {
      "application/vnd.jupyter.widget-view+json": {
       "model_id": "a12dfe9ba4ab45468536729485f18004",
       "version_major": 2,
       "version_minor": 0
      },
      "text/plain": [
       "Processing:   0%|          | 0/65 [00:00<?, ?it/s]"
      ]
     },
     "metadata": {},
     "output_type": "display_data"
    },
    {
     "data": {
      "text/html": [],
      "text/plain": [
       "<IPython.core.display.HTML object>"
      ]
     },
     "metadata": {},
     "output_type": "display_data"
    },
    {
     "data": {
      "text/html": [
       "<style type=\"text/css\">\n",
       "#T_2357e th {\n",
       "  text-align: left;\n",
       "}\n",
       "#T_2357e_row0_col0 {\n",
       "  text-align: left;\n",
       "}\n",
       "#T_2357e_row0_col1, #T_2357e_row0_col2, #T_2357e_row0_col3, #T_2357e_row0_col4, #T_2357e_row0_col5, #T_2357e_row0_col6, #T_2357e_row0_col7 {\n",
       "  text-align: left;\n",
       "  background-color: yellow;\n",
       "}\n",
       "#T_2357e_row0_col8 {\n",
       "  text-align: left;\n",
       "  background-color: yellow;\n",
       "  background-color: lightgrey;\n",
       "}\n",
       "</style>\n",
       "<table id=\"T_2357e\">\n",
       "  <thead>\n",
       "    <tr>\n",
       "      <th class=\"blank level0\" >&nbsp;</th>\n",
       "      <th id=\"T_2357e_level0_col0\" class=\"col_heading level0 col0\" >Model</th>\n",
       "      <th id=\"T_2357e_level0_col1\" class=\"col_heading level0 col1\" >Accuracy</th>\n",
       "      <th id=\"T_2357e_level0_col2\" class=\"col_heading level0 col2\" >AUC</th>\n",
       "      <th id=\"T_2357e_level0_col3\" class=\"col_heading level0 col3\" >Recall</th>\n",
       "      <th id=\"T_2357e_level0_col4\" class=\"col_heading level0 col4\" >Prec.</th>\n",
       "      <th id=\"T_2357e_level0_col5\" class=\"col_heading level0 col5\" >F1</th>\n",
       "      <th id=\"T_2357e_level0_col6\" class=\"col_heading level0 col6\" >Kappa</th>\n",
       "      <th id=\"T_2357e_level0_col7\" class=\"col_heading level0 col7\" >MCC</th>\n",
       "      <th id=\"T_2357e_level0_col8\" class=\"col_heading level0 col8\" >TT (Sec)</th>\n",
       "    </tr>\n",
       "  </thead>\n",
       "  <tbody>\n",
       "    <tr>\n",
       "      <th id=\"T_2357e_level0_row0\" class=\"row_heading level0 row0\" >lr</th>\n",
       "      <td id=\"T_2357e_row0_col0\" class=\"data row0 col0\" >Logistic Regression</td>\n",
       "      <td id=\"T_2357e_row0_col1\" class=\"data row0 col1\" >0.9548</td>\n",
       "      <td id=\"T_2357e_row0_col2\" class=\"data row0 col2\" >1.0000</td>\n",
       "      <td id=\"T_2357e_row0_col3\" class=\"data row0 col3\" >0.9667</td>\n",
       "      <td id=\"T_2357e_row0_col4\" class=\"data row0 col4\" >0.9417</td>\n",
       "      <td id=\"T_2357e_row0_col5\" class=\"data row0 col5\" >0.9457</td>\n",
       "      <td id=\"T_2357e_row0_col6\" class=\"data row0 col6\" >0.9082</td>\n",
       "      <td id=\"T_2357e_row0_col7\" class=\"data row0 col7\" >0.9187</td>\n",
       "      <td id=\"T_2357e_row0_col8\" class=\"data row0 col8\" >0.0400</td>\n",
       "    </tr>\n",
       "  </tbody>\n",
       "</table>\n"
      ],
      "text/plain": [
       "<pandas.io.formats.style.Styler at 0x27fe573f590>"
      ]
     },
     "metadata": {},
     "output_type": "display_data"
    },
    {
     "data": {
      "application/vnd.jupyter.widget-view+json": {
       "model_id": "de37304e2d044bcda205285a7c41d315",
       "version_major": 2,
       "version_minor": 0
      },
      "text/plain": [
       "Processing:   0%|          | 0/9 [00:00<?, ?it/s]"
      ]
     },
     "metadata": {},
     "output_type": "display_data"
    },
    {
     "data": {
      "text/html": [],
      "text/plain": [
       "<IPython.core.display.HTML object>"
      ]
     },
     "metadata": {},
     "output_type": "display_data"
    },
    {
     "data": {
      "text/html": [],
      "text/plain": [
       "<IPython.core.display.HTML object>"
      ]
     },
     "metadata": {},
     "output_type": "display_data"
    },
    {
     "data": {
      "text/html": [],
      "text/plain": [
       "<IPython.core.display.HTML object>"
      ]
     },
     "metadata": {},
     "output_type": "display_data"
    },
    {
     "data": {
      "text/html": [
       "<style type=\"text/css\">\n",
       "#T_9ab35 th {\n",
       "  text-align: left;\n",
       "}\n",
       "#T_9ab35_row0_col0 {\n",
       "  text-align: left;\n",
       "}\n",
       "#T_9ab35_row0_col1, #T_9ab35_row0_col2, #T_9ab35_row0_col3, #T_9ab35_row0_col4, #T_9ab35_row0_col5, #T_9ab35_row0_col6, #T_9ab35_row0_col7 {\n",
       "  text-align: left;\n",
       "  background-color: yellow;\n",
       "}\n",
       "#T_9ab35_row0_col8 {\n",
       "  text-align: left;\n",
       "  background-color: yellow;\n",
       "  background-color: lightgrey;\n",
       "}\n",
       "</style>\n",
       "<table id=\"T_9ab35\">\n",
       "  <thead>\n",
       "    <tr>\n",
       "      <th class=\"blank level0\" >&nbsp;</th>\n",
       "      <th id=\"T_9ab35_level0_col0\" class=\"col_heading level0 col0\" >Model</th>\n",
       "      <th id=\"T_9ab35_level0_col1\" class=\"col_heading level0 col1\" >Accuracy</th>\n",
       "      <th id=\"T_9ab35_level0_col2\" class=\"col_heading level0 col2\" >AUC</th>\n",
       "      <th id=\"T_9ab35_level0_col3\" class=\"col_heading level0 col3\" >Recall</th>\n",
       "      <th id=\"T_9ab35_level0_col4\" class=\"col_heading level0 col4\" >Prec.</th>\n",
       "      <th id=\"T_9ab35_level0_col5\" class=\"col_heading level0 col5\" >F1</th>\n",
       "      <th id=\"T_9ab35_level0_col6\" class=\"col_heading level0 col6\" >Kappa</th>\n",
       "      <th id=\"T_9ab35_level0_col7\" class=\"col_heading level0 col7\" >MCC</th>\n",
       "      <th id=\"T_9ab35_level0_col8\" class=\"col_heading level0 col8\" >TT (Sec)</th>\n",
       "    </tr>\n",
       "  </thead>\n",
       "  <tbody>\n",
       "    <tr>\n",
       "      <th id=\"T_9ab35_level0_row0\" class=\"row_heading level0 row0\" >ridge</th>\n",
       "      <td id=\"T_9ab35_row0_col0\" class=\"data row0 col0\" >Ridge Classifier</td>\n",
       "      <td id=\"T_9ab35_row0_col1\" class=\"data row0 col1\" >0.8738</td>\n",
       "      <td id=\"T_9ab35_row0_col2\" class=\"data row0 col2\" >0.9583</td>\n",
       "      <td id=\"T_9ab35_row0_col3\" class=\"data row0 col3\" >0.7833</td>\n",
       "      <td id=\"T_9ab35_row0_col4\" class=\"data row0 col4\" >0.9167</td>\n",
       "      <td id=\"T_9ab35_row0_col5\" class=\"data row0 col5\" >0.8133</td>\n",
       "      <td id=\"T_9ab35_row0_col6\" class=\"data row0 col6\" >0.7227</td>\n",
       "      <td id=\"T_9ab35_row0_col7\" class=\"data row0 col7\" >0.7544</td>\n",
       "      <td id=\"T_9ab35_row0_col8\" class=\"data row0 col8\" >0.0130</td>\n",
       "    </tr>\n",
       "  </tbody>\n",
       "</table>\n"
      ],
      "text/plain": [
       "<pandas.io.formats.style.Styler at 0x27fe57dc6d0>"
      ]
     },
     "metadata": {},
     "output_type": "display_data"
    },
    {
     "data": {
      "application/vnd.jupyter.widget-view+json": {
       "model_id": "6a5a07e7994a4a75a96bd57ee283ddcb",
       "version_major": 2,
       "version_minor": 0
      },
      "text/plain": [
       "Processing:   0%|          | 0/9 [00:00<?, ?it/s]"
      ]
     },
     "metadata": {},
     "output_type": "display_data"
    },
    {
     "data": {
      "text/html": [],
      "text/plain": [
       "<IPython.core.display.HTML object>"
      ]
     },
     "metadata": {},
     "output_type": "display_data"
    },
    {
     "data": {
      "text/html": [],
      "text/plain": [
       "<IPython.core.display.HTML object>"
      ]
     },
     "metadata": {},
     "output_type": "display_data"
    },
    {
     "data": {
      "text/html": [],
      "text/plain": [
       "<IPython.core.display.HTML object>"
      ]
     },
     "metadata": {},
     "output_type": "display_data"
    },
    {
     "data": {
      "text/html": [
       "<style type=\"text/css\">\n",
       "#T_d1218 th {\n",
       "  text-align: left;\n",
       "}\n",
       "#T_d1218_row0_col0 {\n",
       "  text-align: left;\n",
       "}\n",
       "#T_d1218_row0_col1, #T_d1218_row0_col2, #T_d1218_row0_col3, #T_d1218_row0_col4, #T_d1218_row0_col5, #T_d1218_row0_col6, #T_d1218_row0_col7 {\n",
       "  text-align: left;\n",
       "  background-color: yellow;\n",
       "}\n",
       "#T_d1218_row0_col8 {\n",
       "  text-align: left;\n",
       "  background-color: yellow;\n",
       "  background-color: lightgrey;\n",
       "}\n",
       "</style>\n",
       "<table id=\"T_d1218\">\n",
       "  <thead>\n",
       "    <tr>\n",
       "      <th class=\"blank level0\" >&nbsp;</th>\n",
       "      <th id=\"T_d1218_level0_col0\" class=\"col_heading level0 col0\" >Model</th>\n",
       "      <th id=\"T_d1218_level0_col1\" class=\"col_heading level0 col1\" >Accuracy</th>\n",
       "      <th id=\"T_d1218_level0_col2\" class=\"col_heading level0 col2\" >AUC</th>\n",
       "      <th id=\"T_d1218_level0_col3\" class=\"col_heading level0 col3\" >Recall</th>\n",
       "      <th id=\"T_d1218_level0_col4\" class=\"col_heading level0 col4\" >Prec.</th>\n",
       "      <th id=\"T_d1218_level0_col5\" class=\"col_heading level0 col5\" >F1</th>\n",
       "      <th id=\"T_d1218_level0_col6\" class=\"col_heading level0 col6\" >Kappa</th>\n",
       "      <th id=\"T_d1218_level0_col7\" class=\"col_heading level0 col7\" >MCC</th>\n",
       "      <th id=\"T_d1218_level0_col8\" class=\"col_heading level0 col8\" >TT (Sec)</th>\n",
       "    </tr>\n",
       "  </thead>\n",
       "  <tbody>\n",
       "    <tr>\n",
       "      <th id=\"T_d1218_level0_row0\" class=\"row_heading level0 row0\" >lda</th>\n",
       "      <td id=\"T_d1218_row0_col0\" class=\"data row0 col0\" >Linear Discriminant Analysis</td>\n",
       "      <td id=\"T_d1218_row0_col1\" class=\"data row0 col1\" >0.8738</td>\n",
       "      <td id=\"T_d1218_row0_col2\" class=\"data row0 col2\" >0.9583</td>\n",
       "      <td id=\"T_d1218_row0_col3\" class=\"data row0 col3\" >0.7833</td>\n",
       "      <td id=\"T_d1218_row0_col4\" class=\"data row0 col4\" >0.9167</td>\n",
       "      <td id=\"T_d1218_row0_col5\" class=\"data row0 col5\" >0.8133</td>\n",
       "      <td id=\"T_d1218_row0_col6\" class=\"data row0 col6\" >0.7227</td>\n",
       "      <td id=\"T_d1218_row0_col7\" class=\"data row0 col7\" >0.7544</td>\n",
       "      <td id=\"T_d1218_row0_col8\" class=\"data row0 col8\" >0.0130</td>\n",
       "    </tr>\n",
       "  </tbody>\n",
       "</table>\n"
      ],
      "text/plain": [
       "<pandas.io.formats.style.Styler at 0x27fe54c9950>"
      ]
     },
     "metadata": {},
     "output_type": "display_data"
    },
    {
     "data": {
      "application/vnd.jupyter.widget-view+json": {
       "model_id": "da058c8a35da478890c4aa2b598990c5",
       "version_major": 2,
       "version_minor": 0
      },
      "text/plain": [
       "Processing:   0%|          | 0/9 [00:00<?, ?it/s]"
      ]
     },
     "metadata": {},
     "output_type": "display_data"
    },
    {
     "data": {
      "text/html": [],
      "text/plain": [
       "<IPython.core.display.HTML object>"
      ]
     },
     "metadata": {},
     "output_type": "display_data"
    },
    {
     "data": {
      "text/html": [],
      "text/plain": [
       "<IPython.core.display.HTML object>"
      ]
     },
     "metadata": {},
     "output_type": "display_data"
    },
    {
     "data": {
      "text/html": [],
      "text/plain": [
       "<IPython.core.display.HTML object>"
      ]
     },
     "metadata": {},
     "output_type": "display_data"
    },
    {
     "data": {
      "text/html": [
       "<style type=\"text/css\">\n",
       "#T_08436 th {\n",
       "  text-align: left;\n",
       "}\n",
       "#T_08436_row0_col0 {\n",
       "  text-align: left;\n",
       "}\n",
       "#T_08436_row0_col1, #T_08436_row0_col2, #T_08436_row0_col3, #T_08436_row0_col4, #T_08436_row0_col5, #T_08436_row0_col6, #T_08436_row0_col7 {\n",
       "  text-align: left;\n",
       "  background-color: yellow;\n",
       "}\n",
       "#T_08436_row0_col8 {\n",
       "  text-align: left;\n",
       "  background-color: yellow;\n",
       "  background-color: lightgrey;\n",
       "}\n",
       "</style>\n",
       "<table id=\"T_08436\">\n",
       "  <thead>\n",
       "    <tr>\n",
       "      <th class=\"blank level0\" >&nbsp;</th>\n",
       "      <th id=\"T_08436_level0_col0\" class=\"col_heading level0 col0\" >Model</th>\n",
       "      <th id=\"T_08436_level0_col1\" class=\"col_heading level0 col1\" >Accuracy</th>\n",
       "      <th id=\"T_08436_level0_col2\" class=\"col_heading level0 col2\" >AUC</th>\n",
       "      <th id=\"T_08436_level0_col3\" class=\"col_heading level0 col3\" >Recall</th>\n",
       "      <th id=\"T_08436_level0_col4\" class=\"col_heading level0 col4\" >Prec.</th>\n",
       "      <th id=\"T_08436_level0_col5\" class=\"col_heading level0 col5\" >F1</th>\n",
       "      <th id=\"T_08436_level0_col6\" class=\"col_heading level0 col6\" >Kappa</th>\n",
       "      <th id=\"T_08436_level0_col7\" class=\"col_heading level0 col7\" >MCC</th>\n",
       "      <th id=\"T_08436_level0_col8\" class=\"col_heading level0 col8\" >TT (Sec)</th>\n",
       "    </tr>\n",
       "  </thead>\n",
       "  <tbody>\n",
       "    <tr>\n",
       "      <th id=\"T_08436_level0_row0\" class=\"row_heading level0 row0\" >xgboost</th>\n",
       "      <td id=\"T_08436_row0_col0\" class=\"data row0 col0\" >Extreme Gradient Boosting</td>\n",
       "      <td id=\"T_08436_row0_col1\" class=\"data row0 col1\" >0.8714</td>\n",
       "      <td id=\"T_08436_row0_col2\" class=\"data row0 col2\" >0.9292</td>\n",
       "      <td id=\"T_08436_row0_col3\" class=\"data row0 col3\" >0.8667</td>\n",
       "      <td id=\"T_08436_row0_col4\" class=\"data row0 col4\" >0.8333</td>\n",
       "      <td id=\"T_08436_row0_col5\" class=\"data row0 col5\" >0.8300</td>\n",
       "      <td id=\"T_08436_row0_col6\" class=\"data row0 col6\" >0.7305</td>\n",
       "      <td id=\"T_08436_row0_col7\" class=\"data row0 col7\" >0.7506</td>\n",
       "      <td id=\"T_08436_row0_col8\" class=\"data row0 col8\" >0.0250</td>\n",
       "    </tr>\n",
       "  </tbody>\n",
       "</table>\n"
      ],
      "text/plain": [
       "<pandas.io.formats.style.Styler at 0x27fe57d5dd0>"
      ]
     },
     "metadata": {},
     "output_type": "display_data"
    },
    {
     "data": {
      "application/vnd.jupyter.widget-view+json": {
       "model_id": "c5c0fffe2b0f4048ba6791403176ec7c",
       "version_major": 2,
       "version_minor": 0
      },
      "text/plain": [
       "Processing:   0%|          | 0/9 [00:00<?, ?it/s]"
      ]
     },
     "metadata": {},
     "output_type": "display_data"
    },
    {
     "data": {
      "text/html": [],
      "text/plain": [
       "<IPython.core.display.HTML object>"
      ]
     },
     "metadata": {},
     "output_type": "display_data"
    },
    {
     "data": {
      "text/html": [],
      "text/plain": [
       "<IPython.core.display.HTML object>"
      ]
     },
     "metadata": {},
     "output_type": "display_data"
    },
    {
     "data": {
      "text/html": [],
      "text/plain": [
       "<IPython.core.display.HTML object>"
      ]
     },
     "metadata": {},
     "output_type": "display_data"
    },
    {
     "data": {
      "text/html": [
       "<style type=\"text/css\">\n",
       "#T_396be th {\n",
       "  text-align: left;\n",
       "}\n",
       "#T_396be_row0_col0 {\n",
       "  text-align: left;\n",
       "}\n",
       "#T_396be_row0_col1, #T_396be_row0_col2, #T_396be_row0_col3, #T_396be_row0_col4, #T_396be_row0_col5, #T_396be_row0_col6, #T_396be_row0_col7 {\n",
       "  text-align: left;\n",
       "  background-color: yellow;\n",
       "}\n",
       "#T_396be_row0_col8 {\n",
       "  text-align: left;\n",
       "  background-color: yellow;\n",
       "  background-color: lightgrey;\n",
       "}\n",
       "</style>\n",
       "<table id=\"T_396be\">\n",
       "  <thead>\n",
       "    <tr>\n",
       "      <th class=\"blank level0\" >&nbsp;</th>\n",
       "      <th id=\"T_396be_level0_col0\" class=\"col_heading level0 col0\" >Model</th>\n",
       "      <th id=\"T_396be_level0_col1\" class=\"col_heading level0 col1\" >Accuracy</th>\n",
       "      <th id=\"T_396be_level0_col2\" class=\"col_heading level0 col2\" >AUC</th>\n",
       "      <th id=\"T_396be_level0_col3\" class=\"col_heading level0 col3\" >Recall</th>\n",
       "      <th id=\"T_396be_level0_col4\" class=\"col_heading level0 col4\" >Prec.</th>\n",
       "      <th id=\"T_396be_level0_col5\" class=\"col_heading level0 col5\" >F1</th>\n",
       "      <th id=\"T_396be_level0_col6\" class=\"col_heading level0 col6\" >Kappa</th>\n",
       "      <th id=\"T_396be_level0_col7\" class=\"col_heading level0 col7\" >MCC</th>\n",
       "      <th id=\"T_396be_level0_col8\" class=\"col_heading level0 col8\" >TT (Sec)</th>\n",
       "    </tr>\n",
       "  </thead>\n",
       "  <tbody>\n",
       "    <tr>\n",
       "      <th id=\"T_396be_level0_row0\" class=\"row_heading level0 row0\" >ada</th>\n",
       "      <td id=\"T_396be_row0_col0\" class=\"data row0 col0\" >Ada Boost Classifier</td>\n",
       "      <td id=\"T_396be_row0_col1\" class=\"data row0 col1\" >0.8524</td>\n",
       "      <td id=\"T_396be_row0_col2\" class=\"data row0 col2\" >0.9625</td>\n",
       "      <td id=\"T_396be_row0_col3\" class=\"data row0 col3\" >0.9000</td>\n",
       "      <td id=\"T_396be_row0_col4\" class=\"data row0 col4\" >0.7983</td>\n",
       "      <td id=\"T_396be_row0_col5\" class=\"data row0 col5\" >0.8195</td>\n",
       "      <td id=\"T_396be_row0_col6\" class=\"data row0 col6\" >0.7057</td>\n",
       "      <td id=\"T_396be_row0_col7\" class=\"data row0 col7\" >0.7363</td>\n",
       "      <td id=\"T_396be_row0_col8\" class=\"data row0 col8\" >0.0660</td>\n",
       "    </tr>\n",
       "  </tbody>\n",
       "</table>\n"
      ],
      "text/plain": [
       "<pandas.io.formats.style.Styler at 0x27fece15290>"
      ]
     },
     "metadata": {},
     "output_type": "display_data"
    },
    {
     "data": {
      "application/vnd.jupyter.widget-view+json": {
       "model_id": "07d123441c6944e3bb3f183d3e257306",
       "version_major": 2,
       "version_minor": 0
      },
      "text/plain": [
       "Processing:   0%|          | 0/9 [00:00<?, ?it/s]"
      ]
     },
     "metadata": {},
     "output_type": "display_data"
    },
    {
     "data": {
      "text/html": [],
      "text/plain": [
       "<IPython.core.display.HTML object>"
      ]
     },
     "metadata": {},
     "output_type": "display_data"
    },
    {
     "data": {
      "text/html": [],
      "text/plain": [
       "<IPython.core.display.HTML object>"
      ]
     },
     "metadata": {},
     "output_type": "display_data"
    },
    {
     "data": {
      "text/html": [],
      "text/plain": [
       "<IPython.core.display.HTML object>"
      ]
     },
     "metadata": {},
     "output_type": "display_data"
    },
    {
     "data": {
      "text/html": [
       "<style type=\"text/css\">\n",
       "#T_39518 th {\n",
       "  text-align: left;\n",
       "}\n",
       "#T_39518_row0_col0 {\n",
       "  text-align: left;\n",
       "}\n",
       "#T_39518_row0_col1, #T_39518_row0_col2, #T_39518_row0_col3, #T_39518_row0_col4, #T_39518_row0_col5, #T_39518_row0_col6, #T_39518_row0_col7 {\n",
       "  text-align: left;\n",
       "  background-color: yellow;\n",
       "}\n",
       "#T_39518_row0_col8 {\n",
       "  text-align: left;\n",
       "  background-color: yellow;\n",
       "  background-color: lightgrey;\n",
       "}\n",
       "</style>\n",
       "<table id=\"T_39518\">\n",
       "  <thead>\n",
       "    <tr>\n",
       "      <th class=\"blank level0\" >&nbsp;</th>\n",
       "      <th id=\"T_39518_level0_col0\" class=\"col_heading level0 col0\" >Model</th>\n",
       "      <th id=\"T_39518_level0_col1\" class=\"col_heading level0 col1\" >Accuracy</th>\n",
       "      <th id=\"T_39518_level0_col2\" class=\"col_heading level0 col2\" >AUC</th>\n",
       "      <th id=\"T_39518_level0_col3\" class=\"col_heading level0 col3\" >Recall</th>\n",
       "      <th id=\"T_39518_level0_col4\" class=\"col_heading level0 col4\" >Prec.</th>\n",
       "      <th id=\"T_39518_level0_col5\" class=\"col_heading level0 col5\" >F1</th>\n",
       "      <th id=\"T_39518_level0_col6\" class=\"col_heading level0 col6\" >Kappa</th>\n",
       "      <th id=\"T_39518_level0_col7\" class=\"col_heading level0 col7\" >MCC</th>\n",
       "      <th id=\"T_39518_level0_col8\" class=\"col_heading level0 col8\" >TT (Sec)</th>\n",
       "    </tr>\n",
       "  </thead>\n",
       "  <tbody>\n",
       "    <tr>\n",
       "      <th id=\"T_39518_level0_row0\" class=\"row_heading level0 row0\" >gbc</th>\n",
       "      <td id=\"T_39518_row0_col0\" class=\"data row0 col0\" >Gradient Boosting Classifier</td>\n",
       "      <td id=\"T_39518_row0_col1\" class=\"data row0 col1\" >0.8262</td>\n",
       "      <td id=\"T_39518_row0_col2\" class=\"data row0 col2\" >0.9375</td>\n",
       "      <td id=\"T_39518_row0_col3\" class=\"data row0 col3\" >0.7000</td>\n",
       "      <td id=\"T_39518_row0_col4\" class=\"data row0 col4\" >0.8667</td>\n",
       "      <td id=\"T_39518_row0_col5\" class=\"data row0 col5\" >0.7333</td>\n",
       "      <td id=\"T_39518_row0_col6\" class=\"data row0 col6\" >0.6145</td>\n",
       "      <td id=\"T_39518_row0_col7\" class=\"data row0 col7\" >0.6535</td>\n",
       "      <td id=\"T_39518_row0_col8\" class=\"data row0 col8\" >0.0700</td>\n",
       "    </tr>\n",
       "  </tbody>\n",
       "</table>\n"
      ],
      "text/plain": [
       "<pandas.io.formats.style.Styler at 0x27fe27b16d0>"
      ]
     },
     "metadata": {},
     "output_type": "display_data"
    },
    {
     "data": {
      "application/vnd.jupyter.widget-view+json": {
       "model_id": "5072048042254bd4810953299cac5f59",
       "version_major": 2,
       "version_minor": 0
      },
      "text/plain": [
       "Processing:   0%|          | 0/9 [00:00<?, ?it/s]"
      ]
     },
     "metadata": {},
     "output_type": "display_data"
    },
    {
     "data": {
      "text/html": [],
      "text/plain": [
       "<IPython.core.display.HTML object>"
      ]
     },
     "metadata": {},
     "output_type": "display_data"
    },
    {
     "data": {
      "text/html": [],
      "text/plain": [
       "<IPython.core.display.HTML object>"
      ]
     },
     "metadata": {},
     "output_type": "display_data"
    },
    {
     "data": {
      "text/html": [],
      "text/plain": [
       "<IPython.core.display.HTML object>"
      ]
     },
     "metadata": {},
     "output_type": "display_data"
    },
    {
     "data": {
      "text/html": [
       "<style type=\"text/css\">\n",
       "#T_a2122 th {\n",
       "  text-align: left;\n",
       "}\n",
       "#T_a2122_row0_col0 {\n",
       "  text-align: left;\n",
       "}\n",
       "#T_a2122_row0_col1, #T_a2122_row0_col2, #T_a2122_row0_col3, #T_a2122_row0_col4, #T_a2122_row0_col5, #T_a2122_row0_col6, #T_a2122_row0_col7 {\n",
       "  text-align: left;\n",
       "  background-color: yellow;\n",
       "}\n",
       "#T_a2122_row0_col8 {\n",
       "  text-align: left;\n",
       "  background-color: yellow;\n",
       "  background-color: lightgrey;\n",
       "}\n",
       "</style>\n",
       "<table id=\"T_a2122\">\n",
       "  <thead>\n",
       "    <tr>\n",
       "      <th class=\"blank level0\" >&nbsp;</th>\n",
       "      <th id=\"T_a2122_level0_col0\" class=\"col_heading level0 col0\" >Model</th>\n",
       "      <th id=\"T_a2122_level0_col1\" class=\"col_heading level0 col1\" >Accuracy</th>\n",
       "      <th id=\"T_a2122_level0_col2\" class=\"col_heading level0 col2\" >AUC</th>\n",
       "      <th id=\"T_a2122_level0_col3\" class=\"col_heading level0 col3\" >Recall</th>\n",
       "      <th id=\"T_a2122_level0_col4\" class=\"col_heading level0 col4\" >Prec.</th>\n",
       "      <th id=\"T_a2122_level0_col5\" class=\"col_heading level0 col5\" >F1</th>\n",
       "      <th id=\"T_a2122_level0_col6\" class=\"col_heading level0 col6\" >Kappa</th>\n",
       "      <th id=\"T_a2122_level0_col7\" class=\"col_heading level0 col7\" >MCC</th>\n",
       "      <th id=\"T_a2122_level0_col8\" class=\"col_heading level0 col8\" >TT (Sec)</th>\n",
       "    </tr>\n",
       "  </thead>\n",
       "  <tbody>\n",
       "    <tr>\n",
       "      <th id=\"T_a2122_level0_row0\" class=\"row_heading level0 row0\" >nb</th>\n",
       "      <td id=\"T_a2122_row0_col0\" class=\"data row0 col0\" >Naive Bayes</td>\n",
       "      <td id=\"T_a2122_row0_col1\" class=\"data row0 col1\" >0.8238</td>\n",
       "      <td id=\"T_a2122_row0_col2\" class=\"data row0 col2\" >0.8896</td>\n",
       "      <td id=\"T_a2122_row0_col3\" class=\"data row0 col3\" >0.8667</td>\n",
       "      <td id=\"T_a2122_row0_col4\" class=\"data row0 col4\" >0.7733</td>\n",
       "      <td id=\"T_a2122_row0_col5\" class=\"data row0 col5\" >0.7852</td>\n",
       "      <td id=\"T_a2122_row0_col6\" class=\"data row0 col6\" >0.6472</td>\n",
       "      <td id=\"T_a2122_row0_col7\" class=\"data row0 col7\" >0.6843</td>\n",
       "      <td id=\"T_a2122_row0_col8\" class=\"data row0 col8\" >0.0180</td>\n",
       "    </tr>\n",
       "  </tbody>\n",
       "</table>\n"
      ],
      "text/plain": [
       "<pandas.io.formats.style.Styler at 0x27fe569bdd0>"
      ]
     },
     "metadata": {},
     "output_type": "display_data"
    },
    {
     "data": {
      "application/vnd.jupyter.widget-view+json": {
       "model_id": "a99a3555335e491fa40ad5ead3d9c6d0",
       "version_major": 2,
       "version_minor": 0
      },
      "text/plain": [
       "Processing:   0%|          | 0/9 [00:00<?, ?it/s]"
      ]
     },
     "metadata": {},
     "output_type": "display_data"
    },
    {
     "data": {
      "text/html": [],
      "text/plain": [
       "<IPython.core.display.HTML object>"
      ]
     },
     "metadata": {},
     "output_type": "display_data"
    },
    {
     "data": {
      "text/html": [],
      "text/plain": [
       "<IPython.core.display.HTML object>"
      ]
     },
     "metadata": {},
     "output_type": "display_data"
    },
    {
     "data": {
      "text/html": [],
      "text/plain": [
       "<IPython.core.display.HTML object>"
      ]
     },
     "metadata": {},
     "output_type": "display_data"
    },
    {
     "data": {
      "text/html": [
       "<style type=\"text/css\">\n",
       "#T_f666f th {\n",
       "  text-align: left;\n",
       "}\n",
       "#T_f666f_row0_col0 {\n",
       "  text-align: left;\n",
       "}\n",
       "#T_f666f_row0_col1, #T_f666f_row0_col2, #T_f666f_row0_col3, #T_f666f_row0_col4, #T_f666f_row0_col5, #T_f666f_row0_col6, #T_f666f_row0_col7 {\n",
       "  text-align: left;\n",
       "  background-color: yellow;\n",
       "}\n",
       "#T_f666f_row0_col8 {\n",
       "  text-align: left;\n",
       "  background-color: yellow;\n",
       "  background-color: lightgrey;\n",
       "}\n",
       "</style>\n",
       "<table id=\"T_f666f\">\n",
       "  <thead>\n",
       "    <tr>\n",
       "      <th class=\"blank level0\" >&nbsp;</th>\n",
       "      <th id=\"T_f666f_level0_col0\" class=\"col_heading level0 col0\" >Model</th>\n",
       "      <th id=\"T_f666f_level0_col1\" class=\"col_heading level0 col1\" >Accuracy</th>\n",
       "      <th id=\"T_f666f_level0_col2\" class=\"col_heading level0 col2\" >AUC</th>\n",
       "      <th id=\"T_f666f_level0_col3\" class=\"col_heading level0 col3\" >Recall</th>\n",
       "      <th id=\"T_f666f_level0_col4\" class=\"col_heading level0 col4\" >Prec.</th>\n",
       "      <th id=\"T_f666f_level0_col5\" class=\"col_heading level0 col5\" >F1</th>\n",
       "      <th id=\"T_f666f_level0_col6\" class=\"col_heading level0 col6\" >Kappa</th>\n",
       "      <th id=\"T_f666f_level0_col7\" class=\"col_heading level0 col7\" >MCC</th>\n",
       "      <th id=\"T_f666f_level0_col8\" class=\"col_heading level0 col8\" >TT (Sec)</th>\n",
       "    </tr>\n",
       "  </thead>\n",
       "  <tbody>\n",
       "    <tr>\n",
       "      <th id=\"T_f666f_level0_row0\" class=\"row_heading level0 row0\" >rf</th>\n",
       "      <td id=\"T_f666f_row0_col0\" class=\"data row0 col0\" >Random Forest Classifier</td>\n",
       "      <td id=\"T_f666f_row0_col1\" class=\"data row0 col1\" >0.8119</td>\n",
       "      <td id=\"T_f666f_row0_col2\" class=\"data row0 col2\" >0.9042</td>\n",
       "      <td id=\"T_f666f_row0_col3\" class=\"data row0 col3\" >0.7500</td>\n",
       "      <td id=\"T_f666f_row0_col4\" class=\"data row0 col4\" >0.8233</td>\n",
       "      <td id=\"T_f666f_row0_col5\" class=\"data row0 col5\" >0.7538</td>\n",
       "      <td id=\"T_f666f_row0_col6\" class=\"data row0 col6\" >0.6104</td>\n",
       "      <td id=\"T_f666f_row0_col7\" class=\"data row0 col7\" >0.6395</td>\n",
       "      <td id=\"T_f666f_row0_col8\" class=\"data row0 col8\" >0.1190</td>\n",
       "    </tr>\n",
       "  </tbody>\n",
       "</table>\n"
      ],
      "text/plain": [
       "<pandas.io.formats.style.Styler at 0x27fe58cc310>"
      ]
     },
     "metadata": {},
     "output_type": "display_data"
    },
    {
     "data": {
      "application/vnd.jupyter.widget-view+json": {
       "model_id": "ff375dc42a5c4bdab5f341c9bc6493e4",
       "version_major": 2,
       "version_minor": 0
      },
      "text/plain": [
       "Processing:   0%|          | 0/9 [00:00<?, ?it/s]"
      ]
     },
     "metadata": {},
     "output_type": "display_data"
    },
    {
     "data": {
      "text/html": [],
      "text/plain": [
       "<IPython.core.display.HTML object>"
      ]
     },
     "metadata": {},
     "output_type": "display_data"
    },
    {
     "data": {
      "text/html": [],
      "text/plain": [
       "<IPython.core.display.HTML object>"
      ]
     },
     "metadata": {},
     "output_type": "display_data"
    },
    {
     "data": {
      "text/html": [],
      "text/plain": [
       "<IPython.core.display.HTML object>"
      ]
     },
     "metadata": {},
     "output_type": "display_data"
    },
    {
     "data": {
      "text/html": [
       "<style type=\"text/css\">\n",
       "#T_0eb6f th {\n",
       "  text-align: left;\n",
       "}\n",
       "#T_0eb6f_row0_col0 {\n",
       "  text-align: left;\n",
       "}\n",
       "#T_0eb6f_row0_col1, #T_0eb6f_row0_col2, #T_0eb6f_row0_col3, #T_0eb6f_row0_col4, #T_0eb6f_row0_col5, #T_0eb6f_row0_col6, #T_0eb6f_row0_col7 {\n",
       "  text-align: left;\n",
       "  background-color: yellow;\n",
       "}\n",
       "#T_0eb6f_row0_col8 {\n",
       "  text-align: left;\n",
       "  background-color: yellow;\n",
       "  background-color: lightgrey;\n",
       "}\n",
       "</style>\n",
       "<table id=\"T_0eb6f\">\n",
       "  <thead>\n",
       "    <tr>\n",
       "      <th class=\"blank level0\" >&nbsp;</th>\n",
       "      <th id=\"T_0eb6f_level0_col0\" class=\"col_heading level0 col0\" >Model</th>\n",
       "      <th id=\"T_0eb6f_level0_col1\" class=\"col_heading level0 col1\" >Accuracy</th>\n",
       "      <th id=\"T_0eb6f_level0_col2\" class=\"col_heading level0 col2\" >AUC</th>\n",
       "      <th id=\"T_0eb6f_level0_col3\" class=\"col_heading level0 col3\" >Recall</th>\n",
       "      <th id=\"T_0eb6f_level0_col4\" class=\"col_heading level0 col4\" >Prec.</th>\n",
       "      <th id=\"T_0eb6f_level0_col5\" class=\"col_heading level0 col5\" >F1</th>\n",
       "      <th id=\"T_0eb6f_level0_col6\" class=\"col_heading level0 col6\" >Kappa</th>\n",
       "      <th id=\"T_0eb6f_level0_col7\" class=\"col_heading level0 col7\" >MCC</th>\n",
       "      <th id=\"T_0eb6f_level0_col8\" class=\"col_heading level0 col8\" >TT (Sec)</th>\n",
       "    </tr>\n",
       "  </thead>\n",
       "  <tbody>\n",
       "    <tr>\n",
       "      <th id=\"T_0eb6f_level0_row0\" class=\"row_heading level0 row0\" >et</th>\n",
       "      <td id=\"T_0eb6f_row0_col0\" class=\"data row0 col0\" >Extra Trees Classifier</td>\n",
       "      <td id=\"T_0eb6f_row0_col1\" class=\"data row0 col1\" >0.8095</td>\n",
       "      <td id=\"T_0eb6f_row0_col2\" class=\"data row0 col2\" >0.9146</td>\n",
       "      <td id=\"T_0eb6f_row0_col3\" class=\"data row0 col3\" >0.7333</td>\n",
       "      <td id=\"T_0eb6f_row0_col4\" class=\"data row0 col4\" >0.7817</td>\n",
       "      <td id=\"T_0eb6f_row0_col5\" class=\"data row0 col5\" >0.7229</td>\n",
       "      <td id=\"T_0eb6f_row0_col6\" class=\"data row0 col6\" >0.5871</td>\n",
       "      <td id=\"T_0eb6f_row0_col7\" class=\"data row0 col7\" >0.6162</td>\n",
       "      <td id=\"T_0eb6f_row0_col8\" class=\"data row0 col8\" >0.1150</td>\n",
       "    </tr>\n",
       "  </tbody>\n",
       "</table>\n"
      ],
      "text/plain": [
       "<pandas.io.formats.style.Styler at 0x27fe580f850>"
      ]
     },
     "metadata": {},
     "output_type": "display_data"
    },
    {
     "data": {
      "application/vnd.jupyter.widget-view+json": {
       "model_id": "60e36358a20f41748df5ad75ef863318",
       "version_major": 2,
       "version_minor": 0
      },
      "text/plain": [
       "Processing:   0%|          | 0/9 [00:00<?, ?it/s]"
      ]
     },
     "metadata": {},
     "output_type": "display_data"
    },
    {
     "data": {
      "text/html": [],
      "text/plain": [
       "<IPython.core.display.HTML object>"
      ]
     },
     "metadata": {},
     "output_type": "display_data"
    },
    {
     "data": {
      "text/html": [],
      "text/plain": [
       "<IPython.core.display.HTML object>"
      ]
     },
     "metadata": {},
     "output_type": "display_data"
    },
    {
     "data": {
      "text/html": [],
      "text/plain": [
       "<IPython.core.display.HTML object>"
      ]
     },
     "metadata": {},
     "output_type": "display_data"
    },
    {
     "data": {
      "text/html": [
       "<style type=\"text/css\">\n",
       "#T_53485 th {\n",
       "  text-align: left;\n",
       "}\n",
       "#T_53485_row0_col0 {\n",
       "  text-align: left;\n",
       "}\n",
       "#T_53485_row0_col1, #T_53485_row0_col2, #T_53485_row0_col3, #T_53485_row0_col4, #T_53485_row0_col5, #T_53485_row0_col6, #T_53485_row0_col7 {\n",
       "  text-align: left;\n",
       "  background-color: yellow;\n",
       "}\n",
       "#T_53485_row0_col8 {\n",
       "  text-align: left;\n",
       "  background-color: yellow;\n",
       "  background-color: lightgrey;\n",
       "}\n",
       "</style>\n",
       "<table id=\"T_53485\">\n",
       "  <thead>\n",
       "    <tr>\n",
       "      <th class=\"blank level0\" >&nbsp;</th>\n",
       "      <th id=\"T_53485_level0_col0\" class=\"col_heading level0 col0\" >Model</th>\n",
       "      <th id=\"T_53485_level0_col1\" class=\"col_heading level0 col1\" >Accuracy</th>\n",
       "      <th id=\"T_53485_level0_col2\" class=\"col_heading level0 col2\" >AUC</th>\n",
       "      <th id=\"T_53485_level0_col3\" class=\"col_heading level0 col3\" >Recall</th>\n",
       "      <th id=\"T_53485_level0_col4\" class=\"col_heading level0 col4\" >Prec.</th>\n",
       "      <th id=\"T_53485_level0_col5\" class=\"col_heading level0 col5\" >F1</th>\n",
       "      <th id=\"T_53485_level0_col6\" class=\"col_heading level0 col6\" >Kappa</th>\n",
       "      <th id=\"T_53485_level0_col7\" class=\"col_heading level0 col7\" >MCC</th>\n",
       "      <th id=\"T_53485_level0_col8\" class=\"col_heading level0 col8\" >TT (Sec)</th>\n",
       "    </tr>\n",
       "  </thead>\n",
       "  <tbody>\n",
       "    <tr>\n",
       "      <th id=\"T_53485_level0_row0\" class=\"row_heading level0 row0\" >dt</th>\n",
       "      <td id=\"T_53485_row0_col0\" class=\"data row0 col0\" >Decision Tree Classifier</td>\n",
       "      <td id=\"T_53485_row0_col1\" class=\"data row0 col1\" >0.8048</td>\n",
       "      <td id=\"T_53485_row0_col2\" class=\"data row0 col2\" >0.7833</td>\n",
       "      <td id=\"T_53485_row0_col3\" class=\"data row0 col3\" >0.7167</td>\n",
       "      <td id=\"T_53485_row0_col4\" class=\"data row0 col4\" >0.7833</td>\n",
       "      <td id=\"T_53485_row0_col5\" class=\"data row0 col5\" >0.7133</td>\n",
       "      <td id=\"T_53485_row0_col6\" class=\"data row0 col6\" >0.5698</td>\n",
       "      <td id=\"T_53485_row0_col7\" class=\"data row0 col7\" >0.6021</td>\n",
       "      <td id=\"T_53485_row0_col8\" class=\"data row0 col8\" >0.0160</td>\n",
       "    </tr>\n",
       "  </tbody>\n",
       "</table>\n"
      ],
      "text/plain": [
       "<pandas.io.formats.style.Styler at 0x27fecf00310>"
      ]
     },
     "metadata": {},
     "output_type": "display_data"
    },
    {
     "data": {
      "application/vnd.jupyter.widget-view+json": {
       "model_id": "13ccd2cedf254c9b9b6a38dbdd806799",
       "version_major": 2,
       "version_minor": 0
      },
      "text/plain": [
       "Processing:   0%|          | 0/9 [00:00<?, ?it/s]"
      ]
     },
     "metadata": {},
     "output_type": "display_data"
    },
    {
     "data": {
      "text/html": [],
      "text/plain": [
       "<IPython.core.display.HTML object>"
      ]
     },
     "metadata": {},
     "output_type": "display_data"
    },
    {
     "data": {
      "text/html": [],
      "text/plain": [
       "<IPython.core.display.HTML object>"
      ]
     },
     "metadata": {},
     "output_type": "display_data"
    },
    {
     "data": {
      "text/html": [],
      "text/plain": [
       "<IPython.core.display.HTML object>"
      ]
     },
     "metadata": {},
     "output_type": "display_data"
    },
    {
     "data": {
      "text/html": [
       "<style type=\"text/css\">\n",
       "#T_6d95f th {\n",
       "  text-align: left;\n",
       "}\n",
       "#T_6d95f_row0_col0 {\n",
       "  text-align: left;\n",
       "}\n",
       "#T_6d95f_row0_col1, #T_6d95f_row0_col2, #T_6d95f_row0_col3, #T_6d95f_row0_col4, #T_6d95f_row0_col5, #T_6d95f_row0_col6, #T_6d95f_row0_col7 {\n",
       "  text-align: left;\n",
       "  background-color: yellow;\n",
       "}\n",
       "#T_6d95f_row0_col8 {\n",
       "  text-align: left;\n",
       "  background-color: yellow;\n",
       "  background-color: lightgrey;\n",
       "}\n",
       "</style>\n",
       "<table id=\"T_6d95f\">\n",
       "  <thead>\n",
       "    <tr>\n",
       "      <th class=\"blank level0\" >&nbsp;</th>\n",
       "      <th id=\"T_6d95f_level0_col0\" class=\"col_heading level0 col0\" >Model</th>\n",
       "      <th id=\"T_6d95f_level0_col1\" class=\"col_heading level0 col1\" >Accuracy</th>\n",
       "      <th id=\"T_6d95f_level0_col2\" class=\"col_heading level0 col2\" >AUC</th>\n",
       "      <th id=\"T_6d95f_level0_col3\" class=\"col_heading level0 col3\" >Recall</th>\n",
       "      <th id=\"T_6d95f_level0_col4\" class=\"col_heading level0 col4\" >Prec.</th>\n",
       "      <th id=\"T_6d95f_level0_col5\" class=\"col_heading level0 col5\" >F1</th>\n",
       "      <th id=\"T_6d95f_level0_col6\" class=\"col_heading level0 col6\" >Kappa</th>\n",
       "      <th id=\"T_6d95f_level0_col7\" class=\"col_heading level0 col7\" >MCC</th>\n",
       "      <th id=\"T_6d95f_level0_col8\" class=\"col_heading level0 col8\" >TT (Sec)</th>\n",
       "    </tr>\n",
       "  </thead>\n",
       "  <tbody>\n",
       "    <tr>\n",
       "      <th id=\"T_6d95f_level0_row0\" class=\"row_heading level0 row0\" >svm</th>\n",
       "      <td id=\"T_6d95f_row0_col0\" class=\"data row0 col0\" >SVM - Linear Kernel</td>\n",
       "      <td id=\"T_6d95f_row0_col1\" class=\"data row0 col1\" >0.8048</td>\n",
       "      <td id=\"T_6d95f_row0_col2\" class=\"data row0 col2\" >0.9292</td>\n",
       "      <td id=\"T_6d95f_row0_col3\" class=\"data row0 col3\" >0.9167</td>\n",
       "      <td id=\"T_6d95f_row0_col4\" class=\"data row0 col4\" >0.7150</td>\n",
       "      <td id=\"T_6d95f_row0_col5\" class=\"data row0 col5\" >0.7795</td>\n",
       "      <td id=\"T_6d95f_row0_col6\" class=\"data row0 col6\" >0.6247</td>\n",
       "      <td id=\"T_6d95f_row0_col7\" class=\"data row0 col7\" >0.6668</td>\n",
       "      <td id=\"T_6d95f_row0_col8\" class=\"data row0 col8\" >0.0160</td>\n",
       "    </tr>\n",
       "  </tbody>\n",
       "</table>\n"
      ],
      "text/plain": [
       "<pandas.io.formats.style.Styler at 0x27fecde6290>"
      ]
     },
     "metadata": {},
     "output_type": "display_data"
    },
    {
     "data": {
      "application/vnd.jupyter.widget-view+json": {
       "model_id": "f437500ad5824dfe850363d560f7c205",
       "version_major": 2,
       "version_minor": 0
      },
      "text/plain": [
       "Processing:   0%|          | 0/9 [00:00<?, ?it/s]"
      ]
     },
     "metadata": {},
     "output_type": "display_data"
    },
    {
     "data": {
      "text/html": [],
      "text/plain": [
       "<IPython.core.display.HTML object>"
      ]
     },
     "metadata": {},
     "output_type": "display_data"
    },
    {
     "data": {
      "text/html": [],
      "text/plain": [
       "<IPython.core.display.HTML object>"
      ]
     },
     "metadata": {},
     "output_type": "display_data"
    },
    {
     "data": {
      "text/html": [],
      "text/plain": [
       "<IPython.core.display.HTML object>"
      ]
     },
     "metadata": {},
     "output_type": "display_data"
    },
    {
     "data": {
      "text/html": [
       "<style type=\"text/css\">\n",
       "#T_f8c07 th {\n",
       "  text-align: left;\n",
       "}\n",
       "#T_f8c07_row0_col0 {\n",
       "  text-align: left;\n",
       "}\n",
       "#T_f8c07_row0_col1, #T_f8c07_row0_col2, #T_f8c07_row0_col3, #T_f8c07_row0_col4, #T_f8c07_row0_col5, #T_f8c07_row0_col6, #T_f8c07_row0_col7 {\n",
       "  text-align: left;\n",
       "  background-color: yellow;\n",
       "}\n",
       "#T_f8c07_row0_col8 {\n",
       "  text-align: left;\n",
       "  background-color: yellow;\n",
       "  background-color: lightgrey;\n",
       "}\n",
       "</style>\n",
       "<table id=\"T_f8c07\">\n",
       "  <thead>\n",
       "    <tr>\n",
       "      <th class=\"blank level0\" >&nbsp;</th>\n",
       "      <th id=\"T_f8c07_level0_col0\" class=\"col_heading level0 col0\" >Model</th>\n",
       "      <th id=\"T_f8c07_level0_col1\" class=\"col_heading level0 col1\" >Accuracy</th>\n",
       "      <th id=\"T_f8c07_level0_col2\" class=\"col_heading level0 col2\" >AUC</th>\n",
       "      <th id=\"T_f8c07_level0_col3\" class=\"col_heading level0 col3\" >Recall</th>\n",
       "      <th id=\"T_f8c07_level0_col4\" class=\"col_heading level0 col4\" >Prec.</th>\n",
       "      <th id=\"T_f8c07_level0_col5\" class=\"col_heading level0 col5\" >F1</th>\n",
       "      <th id=\"T_f8c07_level0_col6\" class=\"col_heading level0 col6\" >Kappa</th>\n",
       "      <th id=\"T_f8c07_level0_col7\" class=\"col_heading level0 col7\" >MCC</th>\n",
       "      <th id=\"T_f8c07_level0_col8\" class=\"col_heading level0 col8\" >TT (Sec)</th>\n",
       "    </tr>\n",
       "  </thead>\n",
       "  <tbody>\n",
       "    <tr>\n",
       "      <th id=\"T_f8c07_level0_row0\" class=\"row_heading level0 row0\" >lightgbm</th>\n",
       "      <td id=\"T_f8c07_row0_col0\" class=\"data row0 col0\" >Light Gradient Boosting Machine</td>\n",
       "      <td id=\"T_f8c07_row0_col1\" class=\"data row0 col1\" >0.7476</td>\n",
       "      <td id=\"T_f8c07_row0_col2\" class=\"data row0 col2\" >0.8333</td>\n",
       "      <td id=\"T_f8c07_row0_col3\" class=\"data row0 col3\" >0.6667</td>\n",
       "      <td id=\"T_f8c07_row0_col4\" class=\"data row0 col4\" >0.6667</td>\n",
       "      <td id=\"T_f8c07_row0_col5\" class=\"data row0 col5\" >0.6433</td>\n",
       "      <td id=\"T_f8c07_row0_col6\" class=\"data row0 col6\" >0.4521</td>\n",
       "      <td id=\"T_f8c07_row0_col7\" class=\"data row0 col7\" >0.4742</td>\n",
       "      <td id=\"T_f8c07_row0_col8\" class=\"data row0 col8\" >0.0330</td>\n",
       "    </tr>\n",
       "  </tbody>\n",
       "</table>\n"
      ],
      "text/plain": [
       "<pandas.io.formats.style.Styler at 0x27fecd55690>"
      ]
     },
     "metadata": {},
     "output_type": "display_data"
    },
    {
     "data": {
      "application/vnd.jupyter.widget-view+json": {
       "model_id": "219a40fd2a92466f9af42cdd5493f650",
       "version_major": 2,
       "version_minor": 0
      },
      "text/plain": [
       "Processing:   0%|          | 0/9 [00:00<?, ?it/s]"
      ]
     },
     "metadata": {},
     "output_type": "display_data"
    },
    {
     "data": {
      "text/html": [],
      "text/plain": [
       "<IPython.core.display.HTML object>"
      ]
     },
     "metadata": {},
     "output_type": "display_data"
    },
    {
     "data": {
      "text/html": [],
      "text/plain": [
       "<IPython.core.display.HTML object>"
      ]
     },
     "metadata": {},
     "output_type": "display_data"
    },
    {
     "data": {
      "text/html": [],
      "text/plain": [
       "<IPython.core.display.HTML object>"
      ]
     },
     "metadata": {},
     "output_type": "display_data"
    },
    {
     "data": {
      "text/html": [
       "<style type=\"text/css\">\n",
       "#T_caa15 th {\n",
       "  text-align: left;\n",
       "}\n",
       "#T_caa15_row0_col0 {\n",
       "  text-align: left;\n",
       "}\n",
       "#T_caa15_row0_col1, #T_caa15_row0_col2, #T_caa15_row0_col3, #T_caa15_row0_col4, #T_caa15_row0_col5, #T_caa15_row0_col6, #T_caa15_row0_col7 {\n",
       "  text-align: left;\n",
       "  background-color: yellow;\n",
       "}\n",
       "#T_caa15_row0_col8 {\n",
       "  text-align: left;\n",
       "  background-color: yellow;\n",
       "  background-color: lightgrey;\n",
       "}\n",
       "</style>\n",
       "<table id=\"T_caa15\">\n",
       "  <thead>\n",
       "    <tr>\n",
       "      <th class=\"blank level0\" >&nbsp;</th>\n",
       "      <th id=\"T_caa15_level0_col0\" class=\"col_heading level0 col0\" >Model</th>\n",
       "      <th id=\"T_caa15_level0_col1\" class=\"col_heading level0 col1\" >Accuracy</th>\n",
       "      <th id=\"T_caa15_level0_col2\" class=\"col_heading level0 col2\" >AUC</th>\n",
       "      <th id=\"T_caa15_level0_col3\" class=\"col_heading level0 col3\" >Recall</th>\n",
       "      <th id=\"T_caa15_level0_col4\" class=\"col_heading level0 col4\" >Prec.</th>\n",
       "      <th id=\"T_caa15_level0_col5\" class=\"col_heading level0 col5\" >F1</th>\n",
       "      <th id=\"T_caa15_level0_col6\" class=\"col_heading level0 col6\" >Kappa</th>\n",
       "      <th id=\"T_caa15_level0_col7\" class=\"col_heading level0 col7\" >MCC</th>\n",
       "      <th id=\"T_caa15_level0_col8\" class=\"col_heading level0 col8\" >TT (Sec)</th>\n",
       "    </tr>\n",
       "  </thead>\n",
       "  <tbody>\n",
       "    <tr>\n",
       "      <th id=\"T_caa15_level0_row0\" class=\"row_heading level0 row0\" >knn</th>\n",
       "      <td id=\"T_caa15_row0_col0\" class=\"data row0 col0\" >K Neighbors Classifier</td>\n",
       "      <td id=\"T_caa15_row0_col1\" class=\"data row0 col1\" >0.7143</td>\n",
       "      <td id=\"T_caa15_row0_col2\" class=\"data row0 col2\" >0.8646</td>\n",
       "      <td id=\"T_caa15_row0_col3\" class=\"data row0 col3\" >0.5167</td>\n",
       "      <td id=\"T_caa15_row0_col4\" class=\"data row0 col4\" >0.6150</td>\n",
       "      <td id=\"T_caa15_row0_col5\" class=\"data row0 col5\" >0.5162</td>\n",
       "      <td id=\"T_caa15_row0_col6\" class=\"data row0 col6\" >0.3460</td>\n",
       "      <td id=\"T_caa15_row0_col7\" class=\"data row0 col7\" >0.3828</td>\n",
       "      <td id=\"T_caa15_row0_col8\" class=\"data row0 col8\" >0.0280</td>\n",
       "    </tr>\n",
       "  </tbody>\n",
       "</table>\n"
      ],
      "text/plain": [
       "<pandas.io.formats.style.Styler at 0x27fecf0db10>"
      ]
     },
     "metadata": {},
     "output_type": "display_data"
    },
    {
     "data": {
      "application/vnd.jupyter.widget-view+json": {
       "model_id": "648fc1b25e6c4f1c9a2228f539735032",
       "version_major": 2,
       "version_minor": 0
      },
      "text/plain": [
       "Processing:   0%|          | 0/9 [00:00<?, ?it/s]"
      ]
     },
     "metadata": {},
     "output_type": "display_data"
    },
    {
     "data": {
      "text/html": [],
      "text/plain": [
       "<IPython.core.display.HTML object>"
      ]
     },
     "metadata": {},
     "output_type": "display_data"
    },
    {
     "data": {
      "text/html": [],
      "text/plain": [
       "<IPython.core.display.HTML object>"
      ]
     },
     "metadata": {},
     "output_type": "display_data"
    },
    {
     "data": {
      "text/html": [],
      "text/plain": [
       "<IPython.core.display.HTML object>"
      ]
     },
     "metadata": {},
     "output_type": "display_data"
    },
    {
     "data": {
      "text/html": [
       "<style type=\"text/css\">\n",
       "#T_eadd8 th {\n",
       "  text-align: left;\n",
       "}\n",
       "#T_eadd8_row0_col0 {\n",
       "  text-align: left;\n",
       "}\n",
       "#T_eadd8_row0_col1, #T_eadd8_row0_col2, #T_eadd8_row0_col3, #T_eadd8_row0_col4, #T_eadd8_row0_col5, #T_eadd8_row0_col6, #T_eadd8_row0_col7 {\n",
       "  text-align: left;\n",
       "  background-color: yellow;\n",
       "}\n",
       "#T_eadd8_row0_col8 {\n",
       "  text-align: left;\n",
       "  background-color: yellow;\n",
       "  background-color: lightgrey;\n",
       "}\n",
       "</style>\n",
       "<table id=\"T_eadd8\">\n",
       "  <thead>\n",
       "    <tr>\n",
       "      <th class=\"blank level0\" >&nbsp;</th>\n",
       "      <th id=\"T_eadd8_level0_col0\" class=\"col_heading level0 col0\" >Model</th>\n",
       "      <th id=\"T_eadd8_level0_col1\" class=\"col_heading level0 col1\" >Accuracy</th>\n",
       "      <th id=\"T_eadd8_level0_col2\" class=\"col_heading level0 col2\" >AUC</th>\n",
       "      <th id=\"T_eadd8_level0_col3\" class=\"col_heading level0 col3\" >Recall</th>\n",
       "      <th id=\"T_eadd8_level0_col4\" class=\"col_heading level0 col4\" >Prec.</th>\n",
       "      <th id=\"T_eadd8_level0_col5\" class=\"col_heading level0 col5\" >F1</th>\n",
       "      <th id=\"T_eadd8_level0_col6\" class=\"col_heading level0 col6\" >Kappa</th>\n",
       "      <th id=\"T_eadd8_level0_col7\" class=\"col_heading level0 col7\" >MCC</th>\n",
       "      <th id=\"T_eadd8_level0_col8\" class=\"col_heading level0 col8\" >TT (Sec)</th>\n",
       "    </tr>\n",
       "  </thead>\n",
       "  <tbody>\n",
       "    <tr>\n",
       "      <th id=\"T_eadd8_level0_row0\" class=\"row_heading level0 row0\" >dummy</th>\n",
       "      <td id=\"T_eadd8_row0_col0\" class=\"data row0 col0\" >Dummy Classifier</td>\n",
       "      <td id=\"T_eadd8_row0_col1\" class=\"data row0 col1\" >0.6381</td>\n",
       "      <td id=\"T_eadd8_row0_col2\" class=\"data row0 col2\" >0.5000</td>\n",
       "      <td id=\"T_eadd8_row0_col3\" class=\"data row0 col3\" >0.0000</td>\n",
       "      <td id=\"T_eadd8_row0_col4\" class=\"data row0 col4\" >0.0000</td>\n",
       "      <td id=\"T_eadd8_row0_col5\" class=\"data row0 col5\" >0.0000</td>\n",
       "      <td id=\"T_eadd8_row0_col6\" class=\"data row0 col6\" >0.0000</td>\n",
       "      <td id=\"T_eadd8_row0_col7\" class=\"data row0 col7\" >0.0000</td>\n",
       "      <td id=\"T_eadd8_row0_col8\" class=\"data row0 col8\" >0.0150</td>\n",
       "    </tr>\n",
       "  </tbody>\n",
       "</table>\n"
      ],
      "text/plain": [
       "<pandas.io.formats.style.Styler at 0x27fe59d8110>"
      ]
     },
     "metadata": {},
     "output_type": "display_data"
    },
    {
     "data": {
      "application/vnd.jupyter.widget-view+json": {
       "model_id": "b567828f0f4e462f93737616f8c0dee3",
       "version_major": 2,
       "version_minor": 0
      },
      "text/plain": [
       "Processing:   0%|          | 0/9 [00:00<?, ?it/s]"
      ]
     },
     "metadata": {},
     "output_type": "display_data"
    },
    {
     "data": {
      "text/html": [],
      "text/plain": [
       "<IPython.core.display.HTML object>"
      ]
     },
     "metadata": {},
     "output_type": "display_data"
    },
    {
     "data": {
      "text/html": [],
      "text/plain": [
       "<IPython.core.display.HTML object>"
      ]
     },
     "metadata": {},
     "output_type": "display_data"
    }
   ],
   "source": [
    "import pandas as pd\n",
    "from pycaret.classification import setup, compare_models, predict_model, finalize_model, pull\n",
    "from sklearn.metrics import accuracy_score, f1_score\n",
    "from sklearn.model_selection import train_test_split\n",
    "import joblib\n",
    "\n",
    "# Load the CSV file into a DataFrame\n",
    "df = pd.read_csv('../data/players_df_sin_reco.csv')\n",
    "\n",
    "# Select features (columns 7 to 20, 0-based index: 6 to 19)\n",
    "X = df.iloc[:, 6:20]\n",
    "\n",
    "# Select the 4th column from the end as the target\n",
    "y = df.iloc[:, -4]\n",
    "\n",
    "# Split data into training and testing sets\n",
    "X_train, X_test, y_train, y_test = train_test_split(X, y, test_size=0.2, random_state=42)\n",
    "\n",
    "# Create an empty DataFrame to store results\n",
    "traditionalwinger_df = pd.DataFrame(columns=['model', 'train_accuracy', 'test_accuracy', 'train_f1', 'test_f1', 'TT'])\n",
    "\n",
    "# Concatenate X_train and y_train into a DataFrame for PyCaret setup\n",
    "df_target = pd.concat([X_train, y_train], axis=1)\n",
    "\n",
    "# Setup PyCaret environment\n",
    "clf = setup(data=df_target, target=y.name, session_id=42)\n",
    "\n",
    "# Compare different models and store the results\n",
    "best_model = compare_models()  # This returns the top model\n",
    "compare_results = pull()  # Pulls all model results as a DataFrame\n",
    "\n",
    "# Define the mapping from model names to PyCaret identifiers\n",
    "model_mapping = {\n",
    "    'K Neighbors Classifier': 'knn',\n",
    "    'Random Forest Classifier': 'rf',\n",
    "    'Logistic Regression': 'lr',\n",
    "    'Decision Tree Classifier': 'dt',\n",
    "    'Ada Boost Classifier': 'ada',\n",
    "    'Gradient Boosting Classifier': 'gbc',\n",
    "    'Naive Bayes': 'nb',\n",
    "    'SVM - Linear Kernel': 'svm',\n",
    "    'Extra Trees Classifier': 'et',\n",
    "    'Light Gradient Boosting Machine': 'lightgbm',\n",
    "    'Ridge Classifier': 'ridge',\n",
    "    'Linear Discriminant Analysis': 'lda',\n",
    "    'Extreme Gradient Boosting': 'xgboost',\n",
    "    'Dummy Classifier': 'dummy'\n",
    "}\n",
    "\n",
    "# Loop over each model in the compare_results DataFrame\n",
    "for idx, row in compare_results.iterrows():\n",
    "    model_name = row['Model']\n",
    "    testing_time = row['TT (Sec)']\n",
    "\n",
    "    # Get the PyCaret identifier for the model\n",
    "    model_identifier = model_mapping.get(model_name)\n",
    "\n",
    "    # Instead of finalizing by the model name, select the model by identifier\n",
    "    if model_identifier:\n",
    "        best_model = compare_models(include=[model_identifier], n_select=1)\n",
    "\n",
    "        # Finalize the model (train it on the entire dataset)\n",
    "        final_model = finalize_model(best_model)\n",
    "\n",
    "        # Predict on train and test sets\n",
    "        predictions_train = predict_model(final_model, data=X_train)\n",
    "        predictions_test = predict_model(final_model, data=X_test)\n",
    "\n",
    "        # Calculate test accuracy and F1 score\n",
    "        y_pred_test = predictions_test['prediction_label']\n",
    "        test_accuracy = accuracy_score(y_test, y_pred_test)\n",
    "        test_f1 = f1_score(y_test, y_pred_test, average='weighted')\n",
    "\n",
    "        # Calculate train accuracy and F1 score\n",
    "        y_pred_train = predictions_train['prediction_label']\n",
    "        train_accuracy = accuracy_score(y_train, y_pred_train)\n",
    "        train_f1 = f1_score(y_train, y_pred_train, average='weighted')\n",
    "\n",
    "        # Append the metrics for each model to the results DataFrame\n",
    "        new_row = pd.DataFrame({\n",
    "            'model': model_name,\n",
    "            'train_accuracy': train_accuracy,\n",
    "            'test_accuracy': test_accuracy,\n",
    "            'train_f1': train_f1,\n",
    "            'test_f1': test_f1,\n",
    "            'TT': testing_time\n",
    "        }, index=[0])\n",
    "\n",
    "        traditionalwinger_df = pd.concat([traditionalwinger_df, new_row], ignore_index=True)\n"
   ]
  },
  {
   "cell_type": "code",
   "execution_count": 28,
   "metadata": {},
   "outputs": [
    {
     "data": {
      "text/html": [
       "<div>\n",
       "<style scoped>\n",
       "    .dataframe tbody tr th:only-of-type {\n",
       "        vertical-align: middle;\n",
       "    }\n",
       "\n",
       "    .dataframe tbody tr th {\n",
       "        vertical-align: top;\n",
       "    }\n",
       "\n",
       "    .dataframe thead th {\n",
       "        text-align: right;\n",
       "    }\n",
       "</style>\n",
       "<table border=\"1\" class=\"dataframe\">\n",
       "  <thead>\n",
       "    <tr style=\"text-align: right;\">\n",
       "      <th></th>\n",
       "      <th>model</th>\n",
       "      <th>train_accuracy</th>\n",
       "      <th>test_accuracy</th>\n",
       "      <th>train_f1</th>\n",
       "      <th>test_f1</th>\n",
       "      <th>TT</th>\n",
       "    </tr>\n",
       "  </thead>\n",
       "  <tbody>\n",
       "    <tr>\n",
       "      <th>0</th>\n",
       "      <td>Logistic Regression</td>\n",
       "      <td>1.000000</td>\n",
       "      <td>1.000000</td>\n",
       "      <td>1.000000</td>\n",
       "      <td>1.000000</td>\n",
       "      <td>0.039</td>\n",
       "    </tr>\n",
       "    <tr>\n",
       "      <th>1</th>\n",
       "      <td>Ridge Classifier</td>\n",
       "      <td>0.967033</td>\n",
       "      <td>1.000000</td>\n",
       "      <td>0.966920</td>\n",
       "      <td>1.000000</td>\n",
       "      <td>0.013</td>\n",
       "    </tr>\n",
       "    <tr>\n",
       "      <th>2</th>\n",
       "      <td>Linear Discriminant Analysis</td>\n",
       "      <td>0.967033</td>\n",
       "      <td>1.000000</td>\n",
       "      <td>0.966920</td>\n",
       "      <td>1.000000</td>\n",
       "      <td>0.014</td>\n",
       "    </tr>\n",
       "    <tr>\n",
       "      <th>3</th>\n",
       "      <td>Extreme Gradient Boosting</td>\n",
       "      <td>1.000000</td>\n",
       "      <td>0.956522</td>\n",
       "      <td>1.000000</td>\n",
       "      <td>0.956356</td>\n",
       "      <td>0.036</td>\n",
       "    </tr>\n",
       "    <tr>\n",
       "      <th>4</th>\n",
       "      <td>Ada Boost Classifier</td>\n",
       "      <td>1.000000</td>\n",
       "      <td>0.956522</td>\n",
       "      <td>1.000000</td>\n",
       "      <td>0.956356</td>\n",
       "      <td>0.047</td>\n",
       "    </tr>\n",
       "    <tr>\n",
       "      <th>5</th>\n",
       "      <td>Gradient Boosting Classifier</td>\n",
       "      <td>1.000000</td>\n",
       "      <td>0.913043</td>\n",
       "      <td>1.000000</td>\n",
       "      <td>0.913043</td>\n",
       "      <td>0.057</td>\n",
       "    </tr>\n",
       "    <tr>\n",
       "      <th>6</th>\n",
       "      <td>Naive Bayes</td>\n",
       "      <td>0.835165</td>\n",
       "      <td>0.913043</td>\n",
       "      <td>0.838123</td>\n",
       "      <td>0.912040</td>\n",
       "      <td>0.017</td>\n",
       "    </tr>\n",
       "    <tr>\n",
       "      <th>7</th>\n",
       "      <td>Random Forest Classifier</td>\n",
       "      <td>1.000000</td>\n",
       "      <td>0.956522</td>\n",
       "      <td>1.000000</td>\n",
       "      <td>0.956522</td>\n",
       "      <td>0.096</td>\n",
       "    </tr>\n",
       "    <tr>\n",
       "      <th>8</th>\n",
       "      <td>Extra Trees Classifier</td>\n",
       "      <td>1.000000</td>\n",
       "      <td>0.913043</td>\n",
       "      <td>1.000000</td>\n",
       "      <td>0.912714</td>\n",
       "      <td>0.112</td>\n",
       "    </tr>\n",
       "    <tr>\n",
       "      <th>9</th>\n",
       "      <td>Decision Tree Classifier</td>\n",
       "      <td>1.000000</td>\n",
       "      <td>0.869565</td>\n",
       "      <td>1.000000</td>\n",
       "      <td>0.869068</td>\n",
       "      <td>0.016</td>\n",
       "    </tr>\n",
       "    <tr>\n",
       "      <th>10</th>\n",
       "      <td>SVM - Linear Kernel</td>\n",
       "      <td>0.923077</td>\n",
       "      <td>0.913043</td>\n",
       "      <td>0.923728</td>\n",
       "      <td>0.912040</td>\n",
       "      <td>0.018</td>\n",
       "    </tr>\n",
       "    <tr>\n",
       "      <th>11</th>\n",
       "      <td>Light Gradient Boosting Machine</td>\n",
       "      <td>1.000000</td>\n",
       "      <td>0.956522</td>\n",
       "      <td>1.000000</td>\n",
       "      <td>0.956356</td>\n",
       "      <td>0.053</td>\n",
       "    </tr>\n",
       "    <tr>\n",
       "      <th>12</th>\n",
       "      <td>K Neighbors Classifier</td>\n",
       "      <td>0.879121</td>\n",
       "      <td>1.000000</td>\n",
       "      <td>0.878708</td>\n",
       "      <td>1.000000</td>\n",
       "      <td>0.029</td>\n",
       "    </tr>\n",
       "    <tr>\n",
       "      <th>13</th>\n",
       "      <td>Dummy Classifier</td>\n",
       "      <td>0.637363</td>\n",
       "      <td>0.478261</td>\n",
       "      <td>0.496202</td>\n",
       "      <td>0.309463</td>\n",
       "      <td>0.014</td>\n",
       "    </tr>\n",
       "  </tbody>\n",
       "</table>\n",
       "</div>"
      ],
      "text/plain": [
       "                              model  train_accuracy  test_accuracy  train_f1  \\\n",
       "0               Logistic Regression        1.000000       1.000000  1.000000   \n",
       "1                  Ridge Classifier        0.967033       1.000000  0.966920   \n",
       "2      Linear Discriminant Analysis        0.967033       1.000000  0.966920   \n",
       "3         Extreme Gradient Boosting        1.000000       0.956522  1.000000   \n",
       "4              Ada Boost Classifier        1.000000       0.956522  1.000000   \n",
       "5      Gradient Boosting Classifier        1.000000       0.913043  1.000000   \n",
       "6                       Naive Bayes        0.835165       0.913043  0.838123   \n",
       "7          Random Forest Classifier        1.000000       0.956522  1.000000   \n",
       "8            Extra Trees Classifier        1.000000       0.913043  1.000000   \n",
       "9          Decision Tree Classifier        1.000000       0.869565  1.000000   \n",
       "10              SVM - Linear Kernel        0.923077       0.913043  0.923728   \n",
       "11  Light Gradient Boosting Machine        1.000000       0.956522  1.000000   \n",
       "12           K Neighbors Classifier        0.879121       1.000000  0.878708   \n",
       "13                 Dummy Classifier        0.637363       0.478261  0.496202   \n",
       "\n",
       "     test_f1     TT  \n",
       "0   1.000000  0.039  \n",
       "1   1.000000  0.013  \n",
       "2   1.000000  0.014  \n",
       "3   0.956356  0.036  \n",
       "4   0.956356  0.047  \n",
       "5   0.913043  0.057  \n",
       "6   0.912040  0.017  \n",
       "7   0.956522  0.096  \n",
       "8   0.912714  0.112  \n",
       "9   0.869068  0.016  \n",
       "10  0.912040  0.018  \n",
       "11  0.956356  0.053  \n",
       "12  1.000000  0.029  \n",
       "13  0.309463  0.014  "
      ]
     },
     "execution_count": 28,
     "metadata": {},
     "output_type": "execute_result"
    }
   ],
   "source": [
    "traditionalwinger_df"
   ]
  },
  {
   "cell_type": "markdown",
   "metadata": {},
   "source": [
    "## Inverted Winger"
   ]
  },
  {
   "cell_type": "code",
   "execution_count": 29,
   "metadata": {},
   "outputs": [
    {
     "data": {
      "text/html": [
       "<style type=\"text/css\">\n",
       "#T_92ec9_row8_col1 {\n",
       "  background-color: lightgreen;\n",
       "}\n",
       "</style>\n",
       "<table id=\"T_92ec9\">\n",
       "  <thead>\n",
       "    <tr>\n",
       "      <th class=\"blank level0\" >&nbsp;</th>\n",
       "      <th id=\"T_92ec9_level0_col0\" class=\"col_heading level0 col0\" >Description</th>\n",
       "      <th id=\"T_92ec9_level0_col1\" class=\"col_heading level0 col1\" >Value</th>\n",
       "    </tr>\n",
       "  </thead>\n",
       "  <tbody>\n",
       "    <tr>\n",
       "      <th id=\"T_92ec9_level0_row0\" class=\"row_heading level0 row0\" >0</th>\n",
       "      <td id=\"T_92ec9_row0_col0\" class=\"data row0 col0\" >Session id</td>\n",
       "      <td id=\"T_92ec9_row0_col1\" class=\"data row0 col1\" >42</td>\n",
       "    </tr>\n",
       "    <tr>\n",
       "      <th id=\"T_92ec9_level0_row1\" class=\"row_heading level0 row1\" >1</th>\n",
       "      <td id=\"T_92ec9_row1_col0\" class=\"data row1 col0\" >Target</td>\n",
       "      <td id=\"T_92ec9_row1_col1\" class=\"data row1 col1\" >Class_Inverted Winger</td>\n",
       "    </tr>\n",
       "    <tr>\n",
       "      <th id=\"T_92ec9_level0_row2\" class=\"row_heading level0 row2\" >2</th>\n",
       "      <td id=\"T_92ec9_row2_col0\" class=\"data row2 col0\" >Target type</td>\n",
       "      <td id=\"T_92ec9_row2_col1\" class=\"data row2 col1\" >Binary</td>\n",
       "    </tr>\n",
       "    <tr>\n",
       "      <th id=\"T_92ec9_level0_row3\" class=\"row_heading level0 row3\" >3</th>\n",
       "      <td id=\"T_92ec9_row3_col0\" class=\"data row3 col0\" >Original data shape</td>\n",
       "      <td id=\"T_92ec9_row3_col1\" class=\"data row3 col1\" >(91, 15)</td>\n",
       "    </tr>\n",
       "    <tr>\n",
       "      <th id=\"T_92ec9_level0_row4\" class=\"row_heading level0 row4\" >4</th>\n",
       "      <td id=\"T_92ec9_row4_col0\" class=\"data row4 col0\" >Transformed data shape</td>\n",
       "      <td id=\"T_92ec9_row4_col1\" class=\"data row4 col1\" >(91, 15)</td>\n",
       "    </tr>\n",
       "    <tr>\n",
       "      <th id=\"T_92ec9_level0_row5\" class=\"row_heading level0 row5\" >5</th>\n",
       "      <td id=\"T_92ec9_row5_col0\" class=\"data row5 col0\" >Transformed train set shape</td>\n",
       "      <td id=\"T_92ec9_row5_col1\" class=\"data row5 col1\" >(63, 15)</td>\n",
       "    </tr>\n",
       "    <tr>\n",
       "      <th id=\"T_92ec9_level0_row6\" class=\"row_heading level0 row6\" >6</th>\n",
       "      <td id=\"T_92ec9_row6_col0\" class=\"data row6 col0\" >Transformed test set shape</td>\n",
       "      <td id=\"T_92ec9_row6_col1\" class=\"data row6 col1\" >(28, 15)</td>\n",
       "    </tr>\n",
       "    <tr>\n",
       "      <th id=\"T_92ec9_level0_row7\" class=\"row_heading level0 row7\" >7</th>\n",
       "      <td id=\"T_92ec9_row7_col0\" class=\"data row7 col0\" >Numeric features</td>\n",
       "      <td id=\"T_92ec9_row7_col1\" class=\"data row7 col1\" >14</td>\n",
       "    </tr>\n",
       "    <tr>\n",
       "      <th id=\"T_92ec9_level0_row8\" class=\"row_heading level0 row8\" >8</th>\n",
       "      <td id=\"T_92ec9_row8_col0\" class=\"data row8 col0\" >Preprocess</td>\n",
       "      <td id=\"T_92ec9_row8_col1\" class=\"data row8 col1\" >True</td>\n",
       "    </tr>\n",
       "    <tr>\n",
       "      <th id=\"T_92ec9_level0_row9\" class=\"row_heading level0 row9\" >9</th>\n",
       "      <td id=\"T_92ec9_row9_col0\" class=\"data row9 col0\" >Imputation type</td>\n",
       "      <td id=\"T_92ec9_row9_col1\" class=\"data row9 col1\" >simple</td>\n",
       "    </tr>\n",
       "    <tr>\n",
       "      <th id=\"T_92ec9_level0_row10\" class=\"row_heading level0 row10\" >10</th>\n",
       "      <td id=\"T_92ec9_row10_col0\" class=\"data row10 col0\" >Numeric imputation</td>\n",
       "      <td id=\"T_92ec9_row10_col1\" class=\"data row10 col1\" >mean</td>\n",
       "    </tr>\n",
       "    <tr>\n",
       "      <th id=\"T_92ec9_level0_row11\" class=\"row_heading level0 row11\" >11</th>\n",
       "      <td id=\"T_92ec9_row11_col0\" class=\"data row11 col0\" >Categorical imputation</td>\n",
       "      <td id=\"T_92ec9_row11_col1\" class=\"data row11 col1\" >mode</td>\n",
       "    </tr>\n",
       "    <tr>\n",
       "      <th id=\"T_92ec9_level0_row12\" class=\"row_heading level0 row12\" >12</th>\n",
       "      <td id=\"T_92ec9_row12_col0\" class=\"data row12 col0\" >Fold Generator</td>\n",
       "      <td id=\"T_92ec9_row12_col1\" class=\"data row12 col1\" >StratifiedKFold</td>\n",
       "    </tr>\n",
       "    <tr>\n",
       "      <th id=\"T_92ec9_level0_row13\" class=\"row_heading level0 row13\" >13</th>\n",
       "      <td id=\"T_92ec9_row13_col0\" class=\"data row13 col0\" >Fold Number</td>\n",
       "      <td id=\"T_92ec9_row13_col1\" class=\"data row13 col1\" >10</td>\n",
       "    </tr>\n",
       "    <tr>\n",
       "      <th id=\"T_92ec9_level0_row14\" class=\"row_heading level0 row14\" >14</th>\n",
       "      <td id=\"T_92ec9_row14_col0\" class=\"data row14 col0\" >CPU Jobs</td>\n",
       "      <td id=\"T_92ec9_row14_col1\" class=\"data row14 col1\" >-1</td>\n",
       "    </tr>\n",
       "    <tr>\n",
       "      <th id=\"T_92ec9_level0_row15\" class=\"row_heading level0 row15\" >15</th>\n",
       "      <td id=\"T_92ec9_row15_col0\" class=\"data row15 col0\" >Use GPU</td>\n",
       "      <td id=\"T_92ec9_row15_col1\" class=\"data row15 col1\" >False</td>\n",
       "    </tr>\n",
       "    <tr>\n",
       "      <th id=\"T_92ec9_level0_row16\" class=\"row_heading level0 row16\" >16</th>\n",
       "      <td id=\"T_92ec9_row16_col0\" class=\"data row16 col0\" >Log Experiment</td>\n",
       "      <td id=\"T_92ec9_row16_col1\" class=\"data row16 col1\" >False</td>\n",
       "    </tr>\n",
       "    <tr>\n",
       "      <th id=\"T_92ec9_level0_row17\" class=\"row_heading level0 row17\" >17</th>\n",
       "      <td id=\"T_92ec9_row17_col0\" class=\"data row17 col0\" >Experiment Name</td>\n",
       "      <td id=\"T_92ec9_row17_col1\" class=\"data row17 col1\" >clf-default-name</td>\n",
       "    </tr>\n",
       "    <tr>\n",
       "      <th id=\"T_92ec9_level0_row18\" class=\"row_heading level0 row18\" >18</th>\n",
       "      <td id=\"T_92ec9_row18_col0\" class=\"data row18 col0\" >USI</td>\n",
       "      <td id=\"T_92ec9_row18_col1\" class=\"data row18 col1\" >cefd</td>\n",
       "    </tr>\n",
       "  </tbody>\n",
       "</table>\n"
      ],
      "text/plain": [
       "<pandas.io.formats.style.Styler at 0x27fe27b1e90>"
      ]
     },
     "metadata": {},
     "output_type": "display_data"
    },
    {
     "data": {
      "text/html": [],
      "text/plain": [
       "<IPython.core.display.HTML object>"
      ]
     },
     "metadata": {},
     "output_type": "display_data"
    },
    {
     "data": {
      "text/html": [
       "<style type=\"text/css\">\n",
       "#T_75d2d th {\n",
       "  text-align: left;\n",
       "}\n",
       "#T_75d2d_row0_col0, #T_75d2d_row0_col4, #T_75d2d_row1_col0, #T_75d2d_row1_col1, #T_75d2d_row1_col4, #T_75d2d_row1_col5, #T_75d2d_row1_col6, #T_75d2d_row1_col7, #T_75d2d_row2_col0, #T_75d2d_row2_col1, #T_75d2d_row2_col4, #T_75d2d_row2_col5, #T_75d2d_row2_col6, #T_75d2d_row2_col7, #T_75d2d_row3_col0, #T_75d2d_row3_col1, #T_75d2d_row3_col2, #T_75d2d_row3_col3, #T_75d2d_row3_col5, #T_75d2d_row3_col6, #T_75d2d_row3_col7, #T_75d2d_row4_col0, #T_75d2d_row4_col1, #T_75d2d_row4_col2, #T_75d2d_row4_col3, #T_75d2d_row4_col4, #T_75d2d_row4_col5, #T_75d2d_row4_col6, #T_75d2d_row4_col7, #T_75d2d_row5_col0, #T_75d2d_row5_col1, #T_75d2d_row5_col2, #T_75d2d_row5_col3, #T_75d2d_row5_col4, #T_75d2d_row5_col5, #T_75d2d_row5_col6, #T_75d2d_row5_col7, #T_75d2d_row6_col0, #T_75d2d_row6_col1, #T_75d2d_row6_col2, #T_75d2d_row6_col3, #T_75d2d_row6_col4, #T_75d2d_row6_col5, #T_75d2d_row6_col6, #T_75d2d_row6_col7, #T_75d2d_row7_col0, #T_75d2d_row7_col1, #T_75d2d_row7_col2, #T_75d2d_row7_col3, #T_75d2d_row7_col4, #T_75d2d_row7_col5, #T_75d2d_row7_col6, #T_75d2d_row7_col7, #T_75d2d_row8_col0, #T_75d2d_row8_col1, #T_75d2d_row8_col2, #T_75d2d_row8_col3, #T_75d2d_row8_col4, #T_75d2d_row8_col5, #T_75d2d_row8_col6, #T_75d2d_row8_col7, #T_75d2d_row9_col0, #T_75d2d_row9_col1, #T_75d2d_row9_col2, #T_75d2d_row9_col3, #T_75d2d_row9_col4, #T_75d2d_row9_col5, #T_75d2d_row9_col6, #T_75d2d_row9_col7, #T_75d2d_row10_col0, #T_75d2d_row10_col1, #T_75d2d_row10_col2, #T_75d2d_row10_col3, #T_75d2d_row10_col4, #T_75d2d_row10_col5, #T_75d2d_row10_col6, #T_75d2d_row10_col7, #T_75d2d_row11_col0, #T_75d2d_row11_col1, #T_75d2d_row11_col2, #T_75d2d_row11_col3, #T_75d2d_row11_col4, #T_75d2d_row11_col5, #T_75d2d_row11_col6, #T_75d2d_row11_col7, #T_75d2d_row12_col0, #T_75d2d_row12_col1, #T_75d2d_row12_col2, #T_75d2d_row12_col3, #T_75d2d_row12_col4, #T_75d2d_row12_col5, #T_75d2d_row12_col6, #T_75d2d_row12_col7, #T_75d2d_row13_col0, #T_75d2d_row13_col1, #T_75d2d_row13_col2, #T_75d2d_row13_col3, #T_75d2d_row13_col4, #T_75d2d_row13_col5, #T_75d2d_row13_col6, #T_75d2d_row13_col7, #T_75d2d_row14_col0, #T_75d2d_row14_col1, #T_75d2d_row14_col2, #T_75d2d_row14_col3, #T_75d2d_row14_col4, #T_75d2d_row14_col5, #T_75d2d_row14_col6, #T_75d2d_row14_col7 {\n",
       "  text-align: left;\n",
       "}\n",
       "#T_75d2d_row0_col1, #T_75d2d_row0_col2, #T_75d2d_row0_col3, #T_75d2d_row0_col5, #T_75d2d_row0_col6, #T_75d2d_row0_col7, #T_75d2d_row1_col2, #T_75d2d_row1_col3, #T_75d2d_row2_col2, #T_75d2d_row2_col3, #T_75d2d_row3_col4 {\n",
       "  text-align: left;\n",
       "  background-color: yellow;\n",
       "}\n",
       "#T_75d2d_row0_col8, #T_75d2d_row3_col8, #T_75d2d_row4_col8, #T_75d2d_row5_col8, #T_75d2d_row6_col8, #T_75d2d_row7_col8, #T_75d2d_row8_col8, #T_75d2d_row9_col8, #T_75d2d_row10_col8, #T_75d2d_row11_col8, #T_75d2d_row12_col8, #T_75d2d_row13_col8, #T_75d2d_row14_col8 {\n",
       "  text-align: left;\n",
       "  background-color: lightgrey;\n",
       "}\n",
       "#T_75d2d_row1_col8, #T_75d2d_row2_col8 {\n",
       "  text-align: left;\n",
       "  background-color: yellow;\n",
       "  background-color: lightgrey;\n",
       "}\n",
       "</style>\n",
       "<table id=\"T_75d2d\">\n",
       "  <thead>\n",
       "    <tr>\n",
       "      <th class=\"blank level0\" >&nbsp;</th>\n",
       "      <th id=\"T_75d2d_level0_col0\" class=\"col_heading level0 col0\" >Model</th>\n",
       "      <th id=\"T_75d2d_level0_col1\" class=\"col_heading level0 col1\" >Accuracy</th>\n",
       "      <th id=\"T_75d2d_level0_col2\" class=\"col_heading level0 col2\" >AUC</th>\n",
       "      <th id=\"T_75d2d_level0_col3\" class=\"col_heading level0 col3\" >Recall</th>\n",
       "      <th id=\"T_75d2d_level0_col4\" class=\"col_heading level0 col4\" >Prec.</th>\n",
       "      <th id=\"T_75d2d_level0_col5\" class=\"col_heading level0 col5\" >F1</th>\n",
       "      <th id=\"T_75d2d_level0_col6\" class=\"col_heading level0 col6\" >Kappa</th>\n",
       "      <th id=\"T_75d2d_level0_col7\" class=\"col_heading level0 col7\" >MCC</th>\n",
       "      <th id=\"T_75d2d_level0_col8\" class=\"col_heading level0 col8\" >TT (Sec)</th>\n",
       "    </tr>\n",
       "  </thead>\n",
       "  <tbody>\n",
       "    <tr>\n",
       "      <th id=\"T_75d2d_level0_row0\" class=\"row_heading level0 row0\" >lr</th>\n",
       "      <td id=\"T_75d2d_row0_col0\" class=\"data row0 col0\" >Logistic Regression</td>\n",
       "      <td id=\"T_75d2d_row0_col1\" class=\"data row0 col1\" >0.9690</td>\n",
       "      <td id=\"T_75d2d_row0_col2\" class=\"data row0 col2\" >0.9889</td>\n",
       "      <td id=\"T_75d2d_row0_col3\" class=\"data row0 col3\" >0.9667</td>\n",
       "      <td id=\"T_75d2d_row0_col4\" class=\"data row0 col4\" >0.9750</td>\n",
       "      <td id=\"T_75d2d_row0_col5\" class=\"data row0 col5\" >0.9657</td>\n",
       "      <td id=\"T_75d2d_row0_col6\" class=\"data row0 col6\" >0.9387</td>\n",
       "      <td id=\"T_75d2d_row0_col7\" class=\"data row0 col7\" >0.9457</td>\n",
       "      <td id=\"T_75d2d_row0_col8\" class=\"data row0 col8\" >0.0310</td>\n",
       "    </tr>\n",
       "    <tr>\n",
       "      <th id=\"T_75d2d_level0_row1\" class=\"row_heading level0 row1\" >ridge</th>\n",
       "      <td id=\"T_75d2d_row1_col0\" class=\"data row1 col0\" >Ridge Classifier</td>\n",
       "      <td id=\"T_75d2d_row1_col1\" class=\"data row1 col1\" >0.9524</td>\n",
       "      <td id=\"T_75d2d_row1_col2\" class=\"data row1 col2\" >0.9889</td>\n",
       "      <td id=\"T_75d2d_row1_col3\" class=\"data row1 col3\" >0.9667</td>\n",
       "      <td id=\"T_75d2d_row1_col4\" class=\"data row1 col4\" >0.9417</td>\n",
       "      <td id=\"T_75d2d_row1_col5\" class=\"data row1 col5\" >0.9524</td>\n",
       "      <td id=\"T_75d2d_row1_col6\" class=\"data row1 col6\" >0.9053</td>\n",
       "      <td id=\"T_75d2d_row1_col7\" class=\"data row1 col7\" >0.9083</td>\n",
       "      <td id=\"T_75d2d_row1_col8\" class=\"data row1 col8\" >0.0150</td>\n",
       "    </tr>\n",
       "    <tr>\n",
       "      <th id=\"T_75d2d_level0_row2\" class=\"row_heading level0 row2\" >lda</th>\n",
       "      <td id=\"T_75d2d_row2_col0\" class=\"data row2 col0\" >Linear Discriminant Analysis</td>\n",
       "      <td id=\"T_75d2d_row2_col1\" class=\"data row2 col1\" >0.9524</td>\n",
       "      <td id=\"T_75d2d_row2_col2\" class=\"data row2 col2\" >0.9889</td>\n",
       "      <td id=\"T_75d2d_row2_col3\" class=\"data row2 col3\" >0.9667</td>\n",
       "      <td id=\"T_75d2d_row2_col4\" class=\"data row2 col4\" >0.9417</td>\n",
       "      <td id=\"T_75d2d_row2_col5\" class=\"data row2 col5\" >0.9524</td>\n",
       "      <td id=\"T_75d2d_row2_col6\" class=\"data row2 col6\" >0.9053</td>\n",
       "      <td id=\"T_75d2d_row2_col7\" class=\"data row2 col7\" >0.9083</td>\n",
       "      <td id=\"T_75d2d_row2_col8\" class=\"data row2 col8\" >0.0150</td>\n",
       "    </tr>\n",
       "    <tr>\n",
       "      <th id=\"T_75d2d_level0_row3\" class=\"row_heading level0 row3\" >et</th>\n",
       "      <td id=\"T_75d2d_row3_col0\" class=\"data row3 col0\" >Extra Trees Classifier</td>\n",
       "      <td id=\"T_75d2d_row3_col1\" class=\"data row3 col1\" >0.9500</td>\n",
       "      <td id=\"T_75d2d_row3_col2\" class=\"data row3 col2\" >0.9833</td>\n",
       "      <td id=\"T_75d2d_row3_col3\" class=\"data row3 col3\" >0.9000</td>\n",
       "      <td id=\"T_75d2d_row3_col4\" class=\"data row3 col4\" >1.0000</td>\n",
       "      <td id=\"T_75d2d_row3_col5\" class=\"data row3 col5\" >0.9400</td>\n",
       "      <td id=\"T_75d2d_row3_col6\" class=\"data row3 col6\" >0.9000</td>\n",
       "      <td id=\"T_75d2d_row3_col7\" class=\"data row3 col7\" >0.9121</td>\n",
       "      <td id=\"T_75d2d_row3_col8\" class=\"data row3 col8\" >0.0760</td>\n",
       "    </tr>\n",
       "    <tr>\n",
       "      <th id=\"T_75d2d_level0_row4\" class=\"row_heading level0 row4\" >rf</th>\n",
       "      <td id=\"T_75d2d_row4_col0\" class=\"data row4 col0\" >Random Forest Classifier</td>\n",
       "      <td id=\"T_75d2d_row4_col1\" class=\"data row4 col1\" >0.9190</td>\n",
       "      <td id=\"T_75d2d_row4_col2\" class=\"data row4 col2\" >0.9444</td>\n",
       "      <td id=\"T_75d2d_row4_col3\" class=\"data row4 col3\" >0.9000</td>\n",
       "      <td id=\"T_75d2d_row4_col4\" class=\"data row4 col4\" >0.9500</td>\n",
       "      <td id=\"T_75d2d_row4_col5\" class=\"data row4 col5\" >0.9114</td>\n",
       "      <td id=\"T_75d2d_row4_col6\" class=\"data row4 col6\" >0.8387</td>\n",
       "      <td id=\"T_75d2d_row4_col7\" class=\"data row4 col7\" >0.8578</td>\n",
       "      <td id=\"T_75d2d_row4_col8\" class=\"data row4 col8\" >0.0890</td>\n",
       "    </tr>\n",
       "    <tr>\n",
       "      <th id=\"T_75d2d_level0_row5\" class=\"row_heading level0 row5\" >gbc</th>\n",
       "      <td id=\"T_75d2d_row5_col0\" class=\"data row5 col0\" >Gradient Boosting Classifier</td>\n",
       "      <td id=\"T_75d2d_row5_col1\" class=\"data row5 col1\" >0.9190</td>\n",
       "      <td id=\"T_75d2d_row5_col2\" class=\"data row5 col2\" >0.9556</td>\n",
       "      <td id=\"T_75d2d_row5_col3\" class=\"data row5 col3\" >0.9000</td>\n",
       "      <td id=\"T_75d2d_row5_col4\" class=\"data row5 col4\" >0.9250</td>\n",
       "      <td id=\"T_75d2d_row5_col5\" class=\"data row5 col5\" >0.9057</td>\n",
       "      <td id=\"T_75d2d_row5_col6\" class=\"data row5 col6\" >0.8362</td>\n",
       "      <td id=\"T_75d2d_row5_col7\" class=\"data row5 col7\" >0.8437</td>\n",
       "      <td id=\"T_75d2d_row5_col8\" class=\"data row5 col8\" >0.0650</td>\n",
       "    </tr>\n",
       "    <tr>\n",
       "      <th id=\"T_75d2d_level0_row6\" class=\"row_heading level0 row6\" >knn</th>\n",
       "      <td id=\"T_75d2d_row6_col0\" class=\"data row6 col0\" >K Neighbors Classifier</td>\n",
       "      <td id=\"T_75d2d_row6_col1\" class=\"data row6 col1\" >0.9167</td>\n",
       "      <td id=\"T_75d2d_row6_col2\" class=\"data row6 col2\" >0.9556</td>\n",
       "      <td id=\"T_75d2d_row6_col3\" class=\"data row6 col3\" >0.8667</td>\n",
       "      <td id=\"T_75d2d_row6_col4\" class=\"data row6 col4\" >0.9750</td>\n",
       "      <td id=\"T_75d2d_row6_col5\" class=\"data row6 col5\" >0.8957</td>\n",
       "      <td id=\"T_75d2d_row6_col6\" class=\"data row6 col6\" >0.8333</td>\n",
       "      <td id=\"T_75d2d_row6_col7\" class=\"data row6 col7\" >0.8569</td>\n",
       "      <td id=\"T_75d2d_row6_col8\" class=\"data row6 col8\" >0.0300</td>\n",
       "    </tr>\n",
       "    <tr>\n",
       "      <th id=\"T_75d2d_level0_row7\" class=\"row_heading level0 row7\" >ada</th>\n",
       "      <td id=\"T_75d2d_row7_col0\" class=\"data row7 col0\" >Ada Boost Classifier</td>\n",
       "      <td id=\"T_75d2d_row7_col1\" class=\"data row7 col1\" >0.9048</td>\n",
       "      <td id=\"T_75d2d_row7_col2\" class=\"data row7 col2\" >0.9778</td>\n",
       "      <td id=\"T_75d2d_row7_col3\" class=\"data row7 col3\" >0.9333</td>\n",
       "      <td id=\"T_75d2d_row7_col4\" class=\"data row7 col4\" >0.8917</td>\n",
       "      <td id=\"T_75d2d_row7_col5\" class=\"data row7 col5\" >0.9038</td>\n",
       "      <td id=\"T_75d2d_row7_col6\" class=\"data row7 col6\" >0.8082</td>\n",
       "      <td id=\"T_75d2d_row7_col7\" class=\"data row7 col7\" >0.8228</td>\n",
       "      <td id=\"T_75d2d_row7_col8\" class=\"data row7 col8\" >0.0490</td>\n",
       "    </tr>\n",
       "    <tr>\n",
       "      <th id=\"T_75d2d_level0_row8\" class=\"row_heading level0 row8\" >xgboost</th>\n",
       "      <td id=\"T_75d2d_row8_col0\" class=\"data row8 col0\" >Extreme Gradient Boosting</td>\n",
       "      <td id=\"T_75d2d_row8_col1\" class=\"data row8 col1\" >0.8762</td>\n",
       "      <td id=\"T_75d2d_row8_col2\" class=\"data row8 col2\" >0.9500</td>\n",
       "      <td id=\"T_75d2d_row8_col3\" class=\"data row8 col3\" >0.9000</td>\n",
       "      <td id=\"T_75d2d_row8_col4\" class=\"data row8 col4\" >0.8517</td>\n",
       "      <td id=\"T_75d2d_row8_col5\" class=\"data row8 col5\" >0.8674</td>\n",
       "      <td id=\"T_75d2d_row8_col6\" class=\"data row8 col6\" >0.7545</td>\n",
       "      <td id=\"T_75d2d_row8_col7\" class=\"data row8 col7\" >0.7671</td>\n",
       "      <td id=\"T_75d2d_row8_col8\" class=\"data row8 col8\" >0.0280</td>\n",
       "    </tr>\n",
       "    <tr>\n",
       "      <th id=\"T_75d2d_level0_row9\" class=\"row_heading level0 row9\" >nb</th>\n",
       "      <td id=\"T_75d2d_row9_col0\" class=\"data row9 col0\" >Naive Bayes</td>\n",
       "      <td id=\"T_75d2d_row9_col1\" class=\"data row9 col1\" >0.8690</td>\n",
       "      <td id=\"T_75d2d_row9_col2\" class=\"data row9 col2\" >0.9000</td>\n",
       "      <td id=\"T_75d2d_row9_col3\" class=\"data row9 col3\" >0.8333</td>\n",
       "      <td id=\"T_75d2d_row9_col4\" class=\"data row9 col4\" >0.8917</td>\n",
       "      <td id=\"T_75d2d_row9_col5\" class=\"data row9 col5\" >0.8524</td>\n",
       "      <td id=\"T_75d2d_row9_col6\" class=\"data row9 col6\" >0.7362</td>\n",
       "      <td id=\"T_75d2d_row9_col7\" class=\"data row9 col7\" >0.7478</td>\n",
       "      <td id=\"T_75d2d_row9_col8\" class=\"data row9 col8\" >0.0160</td>\n",
       "    </tr>\n",
       "    <tr>\n",
       "      <th id=\"T_75d2d_level0_row10\" class=\"row_heading level0 row10\" >svm</th>\n",
       "      <td id=\"T_75d2d_row10_col0\" class=\"data row10 col0\" >SVM - Linear Kernel</td>\n",
       "      <td id=\"T_75d2d_row10_col1\" class=\"data row10 col1\" >0.8548</td>\n",
       "      <td id=\"T_75d2d_row10_col2\" class=\"data row10 col2\" >0.9667</td>\n",
       "      <td id=\"T_75d2d_row10_col3\" class=\"data row10 col3\" >0.8333</td>\n",
       "      <td id=\"T_75d2d_row10_col4\" class=\"data row10 col4\" >0.8917</td>\n",
       "      <td id=\"T_75d2d_row10_col5\" class=\"data row10 col5\" >0.8238</td>\n",
       "      <td id=\"T_75d2d_row10_col6\" class=\"data row10 col6\" >0.7107</td>\n",
       "      <td id=\"T_75d2d_row10_col7\" class=\"data row10 col7\" >0.7435</td>\n",
       "      <td id=\"T_75d2d_row10_col8\" class=\"data row10 col8\" >0.0190</td>\n",
       "    </tr>\n",
       "    <tr>\n",
       "      <th id=\"T_75d2d_level0_row11\" class=\"row_heading level0 row11\" >qda</th>\n",
       "      <td id=\"T_75d2d_row11_col0\" class=\"data row11 col0\" >Quadratic Discriminant Analysis</td>\n",
       "      <td id=\"T_75d2d_row11_col1\" class=\"data row11 col1\" >0.8524</td>\n",
       "      <td id=\"T_75d2d_row11_col2\" class=\"data row11 col2\" >0.8667</td>\n",
       "      <td id=\"T_75d2d_row11_col3\" class=\"data row11 col3\" >0.7667</td>\n",
       "      <td id=\"T_75d2d_row11_col4\" class=\"data row11 col4\" >0.8500</td>\n",
       "      <td id=\"T_75d2d_row11_col5\" class=\"data row11 col5\" >0.7914</td>\n",
       "      <td id=\"T_75d2d_row11_col6\" class=\"data row11 col6\" >0.7053</td>\n",
       "      <td id=\"T_75d2d_row11_col7\" class=\"data row11 col7\" >0.7286</td>\n",
       "      <td id=\"T_75d2d_row11_col8\" class=\"data row11 col8\" >0.0230</td>\n",
       "    </tr>\n",
       "    <tr>\n",
       "      <th id=\"T_75d2d_level0_row12\" class=\"row_heading level0 row12\" >lightgbm</th>\n",
       "      <td id=\"T_75d2d_row12_col0\" class=\"data row12 col0\" >Light Gradient Boosting Machine</td>\n",
       "      <td id=\"T_75d2d_row12_col1\" class=\"data row12 col1\" >0.7952</td>\n",
       "      <td id=\"T_75d2d_row12_col2\" class=\"data row12 col2\" >0.8917</td>\n",
       "      <td id=\"T_75d2d_row12_col3\" class=\"data row12 col3\" >0.8000</td>\n",
       "      <td id=\"T_75d2d_row12_col4\" class=\"data row12 col4\" >0.7433</td>\n",
       "      <td id=\"T_75d2d_row12_col5\" class=\"data row12 col5\" >0.7598</td>\n",
       "      <td id=\"T_75d2d_row12_col6\" class=\"data row12 col6\" >0.5907</td>\n",
       "      <td id=\"T_75d2d_row12_col7\" class=\"data row12 col7\" >0.5995</td>\n",
       "      <td id=\"T_75d2d_row12_col8\" class=\"data row12 col8\" >0.0630</td>\n",
       "    </tr>\n",
       "    <tr>\n",
       "      <th id=\"T_75d2d_level0_row13\" class=\"row_heading level0 row13\" >dt</th>\n",
       "      <td id=\"T_75d2d_row13_col0\" class=\"data row13 col0\" >Decision Tree Classifier</td>\n",
       "      <td id=\"T_75d2d_row13_col1\" class=\"data row13 col1\" >0.7762</td>\n",
       "      <td id=\"T_75d2d_row13_col2\" class=\"data row13 col2\" >0.7750</td>\n",
       "      <td id=\"T_75d2d_row13_col3\" class=\"data row13 col3\" >0.7333</td>\n",
       "      <td id=\"T_75d2d_row13_col4\" class=\"data row13 col4\" >0.7833</td>\n",
       "      <td id=\"T_75d2d_row13_col5\" class=\"data row13 col5\" >0.7448</td>\n",
       "      <td id=\"T_75d2d_row13_col6\" class=\"data row13 col6\" >0.5474</td>\n",
       "      <td id=\"T_75d2d_row13_col7\" class=\"data row13 col7\" >0.5629</td>\n",
       "      <td id=\"T_75d2d_row13_col8\" class=\"data row13 col8\" >0.0230</td>\n",
       "    </tr>\n",
       "    <tr>\n",
       "      <th id=\"T_75d2d_level0_row14\" class=\"row_heading level0 row14\" >dummy</th>\n",
       "      <td id=\"T_75d2d_row14_col0\" class=\"data row14 col0\" >Dummy Classifier</td>\n",
       "      <td id=\"T_75d2d_row14_col1\" class=\"data row14 col1\" >0.5214</td>\n",
       "      <td id=\"T_75d2d_row14_col2\" class=\"data row14 col2\" >0.5000</td>\n",
       "      <td id=\"T_75d2d_row14_col3\" class=\"data row14 col3\" >0.0000</td>\n",
       "      <td id=\"T_75d2d_row14_col4\" class=\"data row14 col4\" >0.0000</td>\n",
       "      <td id=\"T_75d2d_row14_col5\" class=\"data row14 col5\" >0.0000</td>\n",
       "      <td id=\"T_75d2d_row14_col6\" class=\"data row14 col6\" >0.0000</td>\n",
       "      <td id=\"T_75d2d_row14_col7\" class=\"data row14 col7\" >0.0000</td>\n",
       "      <td id=\"T_75d2d_row14_col8\" class=\"data row14 col8\" >0.0200</td>\n",
       "    </tr>\n",
       "  </tbody>\n",
       "</table>\n"
      ],
      "text/plain": [
       "<pandas.io.formats.style.Styler at 0x27fe581df50>"
      ]
     },
     "metadata": {},
     "output_type": "display_data"
    },
    {
     "data": {
      "application/vnd.jupyter.widget-view+json": {
       "model_id": "d992c5227cb143b8987fff6046803964",
       "version_major": 2,
       "version_minor": 0
      },
      "text/plain": [
       "Processing:   0%|          | 0/65 [00:00<?, ?it/s]"
      ]
     },
     "metadata": {},
     "output_type": "display_data"
    },
    {
     "data": {
      "text/html": [],
      "text/plain": [
       "<IPython.core.display.HTML object>"
      ]
     },
     "metadata": {},
     "output_type": "display_data"
    },
    {
     "data": {
      "text/html": [
       "<style type=\"text/css\">\n",
       "#T_b84e9 th {\n",
       "  text-align: left;\n",
       "}\n",
       "#T_b84e9_row0_col0 {\n",
       "  text-align: left;\n",
       "}\n",
       "#T_b84e9_row0_col1, #T_b84e9_row0_col2, #T_b84e9_row0_col3, #T_b84e9_row0_col4, #T_b84e9_row0_col5, #T_b84e9_row0_col6, #T_b84e9_row0_col7 {\n",
       "  text-align: left;\n",
       "  background-color: yellow;\n",
       "}\n",
       "#T_b84e9_row0_col8 {\n",
       "  text-align: left;\n",
       "  background-color: yellow;\n",
       "  background-color: lightgrey;\n",
       "}\n",
       "</style>\n",
       "<table id=\"T_b84e9\">\n",
       "  <thead>\n",
       "    <tr>\n",
       "      <th class=\"blank level0\" >&nbsp;</th>\n",
       "      <th id=\"T_b84e9_level0_col0\" class=\"col_heading level0 col0\" >Model</th>\n",
       "      <th id=\"T_b84e9_level0_col1\" class=\"col_heading level0 col1\" >Accuracy</th>\n",
       "      <th id=\"T_b84e9_level0_col2\" class=\"col_heading level0 col2\" >AUC</th>\n",
       "      <th id=\"T_b84e9_level0_col3\" class=\"col_heading level0 col3\" >Recall</th>\n",
       "      <th id=\"T_b84e9_level0_col4\" class=\"col_heading level0 col4\" >Prec.</th>\n",
       "      <th id=\"T_b84e9_level0_col5\" class=\"col_heading level0 col5\" >F1</th>\n",
       "      <th id=\"T_b84e9_level0_col6\" class=\"col_heading level0 col6\" >Kappa</th>\n",
       "      <th id=\"T_b84e9_level0_col7\" class=\"col_heading level0 col7\" >MCC</th>\n",
       "      <th id=\"T_b84e9_level0_col8\" class=\"col_heading level0 col8\" >TT (Sec)</th>\n",
       "    </tr>\n",
       "  </thead>\n",
       "  <tbody>\n",
       "    <tr>\n",
       "      <th id=\"T_b84e9_level0_row0\" class=\"row_heading level0 row0\" >lr</th>\n",
       "      <td id=\"T_b84e9_row0_col0\" class=\"data row0 col0\" >Logistic Regression</td>\n",
       "      <td id=\"T_b84e9_row0_col1\" class=\"data row0 col1\" >0.9690</td>\n",
       "      <td id=\"T_b84e9_row0_col2\" class=\"data row0 col2\" >0.9889</td>\n",
       "      <td id=\"T_b84e9_row0_col3\" class=\"data row0 col3\" >0.9667</td>\n",
       "      <td id=\"T_b84e9_row0_col4\" class=\"data row0 col4\" >0.9750</td>\n",
       "      <td id=\"T_b84e9_row0_col5\" class=\"data row0 col5\" >0.9657</td>\n",
       "      <td id=\"T_b84e9_row0_col6\" class=\"data row0 col6\" >0.9387</td>\n",
       "      <td id=\"T_b84e9_row0_col7\" class=\"data row0 col7\" >0.9457</td>\n",
       "      <td id=\"T_b84e9_row0_col8\" class=\"data row0 col8\" >0.0440</td>\n",
       "    </tr>\n",
       "  </tbody>\n",
       "</table>\n"
      ],
      "text/plain": [
       "<pandas.io.formats.style.Styler at 0x27fe27b3e10>"
      ]
     },
     "metadata": {},
     "output_type": "display_data"
    },
    {
     "data": {
      "application/vnd.jupyter.widget-view+json": {
       "model_id": "5595b76b073d48ffaff643e340aecad1",
       "version_major": 2,
       "version_minor": 0
      },
      "text/plain": [
       "Processing:   0%|          | 0/9 [00:00<?, ?it/s]"
      ]
     },
     "metadata": {},
     "output_type": "display_data"
    },
    {
     "data": {
      "text/html": [],
      "text/plain": [
       "<IPython.core.display.HTML object>"
      ]
     },
     "metadata": {},
     "output_type": "display_data"
    },
    {
     "data": {
      "text/html": [],
      "text/plain": [
       "<IPython.core.display.HTML object>"
      ]
     },
     "metadata": {},
     "output_type": "display_data"
    },
    {
     "data": {
      "text/html": [],
      "text/plain": [
       "<IPython.core.display.HTML object>"
      ]
     },
     "metadata": {},
     "output_type": "display_data"
    },
    {
     "data": {
      "text/html": [
       "<style type=\"text/css\">\n",
       "#T_55fac th {\n",
       "  text-align: left;\n",
       "}\n",
       "#T_55fac_row0_col0 {\n",
       "  text-align: left;\n",
       "}\n",
       "#T_55fac_row0_col1, #T_55fac_row0_col2, #T_55fac_row0_col3, #T_55fac_row0_col4, #T_55fac_row0_col5, #T_55fac_row0_col6, #T_55fac_row0_col7 {\n",
       "  text-align: left;\n",
       "  background-color: yellow;\n",
       "}\n",
       "#T_55fac_row0_col8 {\n",
       "  text-align: left;\n",
       "  background-color: yellow;\n",
       "  background-color: lightgrey;\n",
       "}\n",
       "</style>\n",
       "<table id=\"T_55fac\">\n",
       "  <thead>\n",
       "    <tr>\n",
       "      <th class=\"blank level0\" >&nbsp;</th>\n",
       "      <th id=\"T_55fac_level0_col0\" class=\"col_heading level0 col0\" >Model</th>\n",
       "      <th id=\"T_55fac_level0_col1\" class=\"col_heading level0 col1\" >Accuracy</th>\n",
       "      <th id=\"T_55fac_level0_col2\" class=\"col_heading level0 col2\" >AUC</th>\n",
       "      <th id=\"T_55fac_level0_col3\" class=\"col_heading level0 col3\" >Recall</th>\n",
       "      <th id=\"T_55fac_level0_col4\" class=\"col_heading level0 col4\" >Prec.</th>\n",
       "      <th id=\"T_55fac_level0_col5\" class=\"col_heading level0 col5\" >F1</th>\n",
       "      <th id=\"T_55fac_level0_col6\" class=\"col_heading level0 col6\" >Kappa</th>\n",
       "      <th id=\"T_55fac_level0_col7\" class=\"col_heading level0 col7\" >MCC</th>\n",
       "      <th id=\"T_55fac_level0_col8\" class=\"col_heading level0 col8\" >TT (Sec)</th>\n",
       "    </tr>\n",
       "  </thead>\n",
       "  <tbody>\n",
       "    <tr>\n",
       "      <th id=\"T_55fac_level0_row0\" class=\"row_heading level0 row0\" >ridge</th>\n",
       "      <td id=\"T_55fac_row0_col0\" class=\"data row0 col0\" >Ridge Classifier</td>\n",
       "      <td id=\"T_55fac_row0_col1\" class=\"data row0 col1\" >0.9524</td>\n",
       "      <td id=\"T_55fac_row0_col2\" class=\"data row0 col2\" >0.9889</td>\n",
       "      <td id=\"T_55fac_row0_col3\" class=\"data row0 col3\" >0.9667</td>\n",
       "      <td id=\"T_55fac_row0_col4\" class=\"data row0 col4\" >0.9417</td>\n",
       "      <td id=\"T_55fac_row0_col5\" class=\"data row0 col5\" >0.9524</td>\n",
       "      <td id=\"T_55fac_row0_col6\" class=\"data row0 col6\" >0.9053</td>\n",
       "      <td id=\"T_55fac_row0_col7\" class=\"data row0 col7\" >0.9083</td>\n",
       "      <td id=\"T_55fac_row0_col8\" class=\"data row0 col8\" >0.0220</td>\n",
       "    </tr>\n",
       "  </tbody>\n",
       "</table>\n"
      ],
      "text/plain": [
       "<pandas.io.formats.style.Styler at 0x27fe5954250>"
      ]
     },
     "metadata": {},
     "output_type": "display_data"
    },
    {
     "data": {
      "application/vnd.jupyter.widget-view+json": {
       "model_id": "6a2507d1cb1a4accb48979f251fcb09e",
       "version_major": 2,
       "version_minor": 0
      },
      "text/plain": [
       "Processing:   0%|          | 0/9 [00:00<?, ?it/s]"
      ]
     },
     "metadata": {},
     "output_type": "display_data"
    },
    {
     "data": {
      "text/html": [],
      "text/plain": [
       "<IPython.core.display.HTML object>"
      ]
     },
     "metadata": {},
     "output_type": "display_data"
    },
    {
     "data": {
      "text/html": [],
      "text/plain": [
       "<IPython.core.display.HTML object>"
      ]
     },
     "metadata": {},
     "output_type": "display_data"
    },
    {
     "data": {
      "text/html": [],
      "text/plain": [
       "<IPython.core.display.HTML object>"
      ]
     },
     "metadata": {},
     "output_type": "display_data"
    },
    {
     "data": {
      "text/html": [
       "<style type=\"text/css\">\n",
       "#T_5086b th {\n",
       "  text-align: left;\n",
       "}\n",
       "#T_5086b_row0_col0 {\n",
       "  text-align: left;\n",
       "}\n",
       "#T_5086b_row0_col1, #T_5086b_row0_col2, #T_5086b_row0_col3, #T_5086b_row0_col4, #T_5086b_row0_col5, #T_5086b_row0_col6, #T_5086b_row0_col7 {\n",
       "  text-align: left;\n",
       "  background-color: yellow;\n",
       "}\n",
       "#T_5086b_row0_col8 {\n",
       "  text-align: left;\n",
       "  background-color: yellow;\n",
       "  background-color: lightgrey;\n",
       "}\n",
       "</style>\n",
       "<table id=\"T_5086b\">\n",
       "  <thead>\n",
       "    <tr>\n",
       "      <th class=\"blank level0\" >&nbsp;</th>\n",
       "      <th id=\"T_5086b_level0_col0\" class=\"col_heading level0 col0\" >Model</th>\n",
       "      <th id=\"T_5086b_level0_col1\" class=\"col_heading level0 col1\" >Accuracy</th>\n",
       "      <th id=\"T_5086b_level0_col2\" class=\"col_heading level0 col2\" >AUC</th>\n",
       "      <th id=\"T_5086b_level0_col3\" class=\"col_heading level0 col3\" >Recall</th>\n",
       "      <th id=\"T_5086b_level0_col4\" class=\"col_heading level0 col4\" >Prec.</th>\n",
       "      <th id=\"T_5086b_level0_col5\" class=\"col_heading level0 col5\" >F1</th>\n",
       "      <th id=\"T_5086b_level0_col6\" class=\"col_heading level0 col6\" >Kappa</th>\n",
       "      <th id=\"T_5086b_level0_col7\" class=\"col_heading level0 col7\" >MCC</th>\n",
       "      <th id=\"T_5086b_level0_col8\" class=\"col_heading level0 col8\" >TT (Sec)</th>\n",
       "    </tr>\n",
       "  </thead>\n",
       "  <tbody>\n",
       "    <tr>\n",
       "      <th id=\"T_5086b_level0_row0\" class=\"row_heading level0 row0\" >lda</th>\n",
       "      <td id=\"T_5086b_row0_col0\" class=\"data row0 col0\" >Linear Discriminant Analysis</td>\n",
       "      <td id=\"T_5086b_row0_col1\" class=\"data row0 col1\" >0.9524</td>\n",
       "      <td id=\"T_5086b_row0_col2\" class=\"data row0 col2\" >0.9889</td>\n",
       "      <td id=\"T_5086b_row0_col3\" class=\"data row0 col3\" >0.9667</td>\n",
       "      <td id=\"T_5086b_row0_col4\" class=\"data row0 col4\" >0.9417</td>\n",
       "      <td id=\"T_5086b_row0_col5\" class=\"data row0 col5\" >0.9524</td>\n",
       "      <td id=\"T_5086b_row0_col6\" class=\"data row0 col6\" >0.9053</td>\n",
       "      <td id=\"T_5086b_row0_col7\" class=\"data row0 col7\" >0.9083</td>\n",
       "      <td id=\"T_5086b_row0_col8\" class=\"data row0 col8\" >0.0220</td>\n",
       "    </tr>\n",
       "  </tbody>\n",
       "</table>\n"
      ],
      "text/plain": [
       "<pandas.io.formats.style.Styler at 0x27fece12890>"
      ]
     },
     "metadata": {},
     "output_type": "display_data"
    },
    {
     "data": {
      "application/vnd.jupyter.widget-view+json": {
       "model_id": "665e56245b33467890779a6caee5d5b2",
       "version_major": 2,
       "version_minor": 0
      },
      "text/plain": [
       "Processing:   0%|          | 0/9 [00:00<?, ?it/s]"
      ]
     },
     "metadata": {},
     "output_type": "display_data"
    },
    {
     "data": {
      "text/html": [],
      "text/plain": [
       "<IPython.core.display.HTML object>"
      ]
     },
     "metadata": {},
     "output_type": "display_data"
    },
    {
     "data": {
      "text/html": [],
      "text/plain": [
       "<IPython.core.display.HTML object>"
      ]
     },
     "metadata": {},
     "output_type": "display_data"
    },
    {
     "data": {
      "text/html": [],
      "text/plain": [
       "<IPython.core.display.HTML object>"
      ]
     },
     "metadata": {},
     "output_type": "display_data"
    },
    {
     "data": {
      "text/html": [
       "<style type=\"text/css\">\n",
       "#T_b15ca th {\n",
       "  text-align: left;\n",
       "}\n",
       "#T_b15ca_row0_col0 {\n",
       "  text-align: left;\n",
       "}\n",
       "#T_b15ca_row0_col1, #T_b15ca_row0_col2, #T_b15ca_row0_col3, #T_b15ca_row0_col4, #T_b15ca_row0_col5, #T_b15ca_row0_col6, #T_b15ca_row0_col7 {\n",
       "  text-align: left;\n",
       "  background-color: yellow;\n",
       "}\n",
       "#T_b15ca_row0_col8 {\n",
       "  text-align: left;\n",
       "  background-color: yellow;\n",
       "  background-color: lightgrey;\n",
       "}\n",
       "</style>\n",
       "<table id=\"T_b15ca\">\n",
       "  <thead>\n",
       "    <tr>\n",
       "      <th class=\"blank level0\" >&nbsp;</th>\n",
       "      <th id=\"T_b15ca_level0_col0\" class=\"col_heading level0 col0\" >Model</th>\n",
       "      <th id=\"T_b15ca_level0_col1\" class=\"col_heading level0 col1\" >Accuracy</th>\n",
       "      <th id=\"T_b15ca_level0_col2\" class=\"col_heading level0 col2\" >AUC</th>\n",
       "      <th id=\"T_b15ca_level0_col3\" class=\"col_heading level0 col3\" >Recall</th>\n",
       "      <th id=\"T_b15ca_level0_col4\" class=\"col_heading level0 col4\" >Prec.</th>\n",
       "      <th id=\"T_b15ca_level0_col5\" class=\"col_heading level0 col5\" >F1</th>\n",
       "      <th id=\"T_b15ca_level0_col6\" class=\"col_heading level0 col6\" >Kappa</th>\n",
       "      <th id=\"T_b15ca_level0_col7\" class=\"col_heading level0 col7\" >MCC</th>\n",
       "      <th id=\"T_b15ca_level0_col8\" class=\"col_heading level0 col8\" >TT (Sec)</th>\n",
       "    </tr>\n",
       "  </thead>\n",
       "  <tbody>\n",
       "    <tr>\n",
       "      <th id=\"T_b15ca_level0_row0\" class=\"row_heading level0 row0\" >et</th>\n",
       "      <td id=\"T_b15ca_row0_col0\" class=\"data row0 col0\" >Extra Trees Classifier</td>\n",
       "      <td id=\"T_b15ca_row0_col1\" class=\"data row0 col1\" >0.9500</td>\n",
       "      <td id=\"T_b15ca_row0_col2\" class=\"data row0 col2\" >0.9833</td>\n",
       "      <td id=\"T_b15ca_row0_col3\" class=\"data row0 col3\" >0.9000</td>\n",
       "      <td id=\"T_b15ca_row0_col4\" class=\"data row0 col4\" >1.0000</td>\n",
       "      <td id=\"T_b15ca_row0_col5\" class=\"data row0 col5\" >0.9400</td>\n",
       "      <td id=\"T_b15ca_row0_col6\" class=\"data row0 col6\" >0.9000</td>\n",
       "      <td id=\"T_b15ca_row0_col7\" class=\"data row0 col7\" >0.9121</td>\n",
       "      <td id=\"T_b15ca_row0_col8\" class=\"data row0 col8\" >0.0960</td>\n",
       "    </tr>\n",
       "  </tbody>\n",
       "</table>\n"
      ],
      "text/plain": [
       "<pandas.io.formats.style.Styler at 0x27fecdfd750>"
      ]
     },
     "metadata": {},
     "output_type": "display_data"
    },
    {
     "data": {
      "application/vnd.jupyter.widget-view+json": {
       "model_id": "b6be4457172e45bea6fbed101c3ad880",
       "version_major": 2,
       "version_minor": 0
      },
      "text/plain": [
       "Processing:   0%|          | 0/9 [00:00<?, ?it/s]"
      ]
     },
     "metadata": {},
     "output_type": "display_data"
    },
    {
     "data": {
      "text/html": [],
      "text/plain": [
       "<IPython.core.display.HTML object>"
      ]
     },
     "metadata": {},
     "output_type": "display_data"
    },
    {
     "data": {
      "text/html": [],
      "text/plain": [
       "<IPython.core.display.HTML object>"
      ]
     },
     "metadata": {},
     "output_type": "display_data"
    },
    {
     "data": {
      "text/html": [],
      "text/plain": [
       "<IPython.core.display.HTML object>"
      ]
     },
     "metadata": {},
     "output_type": "display_data"
    },
    {
     "data": {
      "text/html": [
       "<style type=\"text/css\">\n",
       "#T_86f22 th {\n",
       "  text-align: left;\n",
       "}\n",
       "#T_86f22_row0_col0 {\n",
       "  text-align: left;\n",
       "}\n",
       "#T_86f22_row0_col1, #T_86f22_row0_col2, #T_86f22_row0_col3, #T_86f22_row0_col4, #T_86f22_row0_col5, #T_86f22_row0_col6, #T_86f22_row0_col7 {\n",
       "  text-align: left;\n",
       "  background-color: yellow;\n",
       "}\n",
       "#T_86f22_row0_col8 {\n",
       "  text-align: left;\n",
       "  background-color: yellow;\n",
       "  background-color: lightgrey;\n",
       "}\n",
       "</style>\n",
       "<table id=\"T_86f22\">\n",
       "  <thead>\n",
       "    <tr>\n",
       "      <th class=\"blank level0\" >&nbsp;</th>\n",
       "      <th id=\"T_86f22_level0_col0\" class=\"col_heading level0 col0\" >Model</th>\n",
       "      <th id=\"T_86f22_level0_col1\" class=\"col_heading level0 col1\" >Accuracy</th>\n",
       "      <th id=\"T_86f22_level0_col2\" class=\"col_heading level0 col2\" >AUC</th>\n",
       "      <th id=\"T_86f22_level0_col3\" class=\"col_heading level0 col3\" >Recall</th>\n",
       "      <th id=\"T_86f22_level0_col4\" class=\"col_heading level0 col4\" >Prec.</th>\n",
       "      <th id=\"T_86f22_level0_col5\" class=\"col_heading level0 col5\" >F1</th>\n",
       "      <th id=\"T_86f22_level0_col6\" class=\"col_heading level0 col6\" >Kappa</th>\n",
       "      <th id=\"T_86f22_level0_col7\" class=\"col_heading level0 col7\" >MCC</th>\n",
       "      <th id=\"T_86f22_level0_col8\" class=\"col_heading level0 col8\" >TT (Sec)</th>\n",
       "    </tr>\n",
       "  </thead>\n",
       "  <tbody>\n",
       "    <tr>\n",
       "      <th id=\"T_86f22_level0_row0\" class=\"row_heading level0 row0\" >rf</th>\n",
       "      <td id=\"T_86f22_row0_col0\" class=\"data row0 col0\" >Random Forest Classifier</td>\n",
       "      <td id=\"T_86f22_row0_col1\" class=\"data row0 col1\" >0.9190</td>\n",
       "      <td id=\"T_86f22_row0_col2\" class=\"data row0 col2\" >0.9444</td>\n",
       "      <td id=\"T_86f22_row0_col3\" class=\"data row0 col3\" >0.9000</td>\n",
       "      <td id=\"T_86f22_row0_col4\" class=\"data row0 col4\" >0.9500</td>\n",
       "      <td id=\"T_86f22_row0_col5\" class=\"data row0 col5\" >0.9114</td>\n",
       "      <td id=\"T_86f22_row0_col6\" class=\"data row0 col6\" >0.8387</td>\n",
       "      <td id=\"T_86f22_row0_col7\" class=\"data row0 col7\" >0.8578</td>\n",
       "      <td id=\"T_86f22_row0_col8\" class=\"data row0 col8\" >0.1360</td>\n",
       "    </tr>\n",
       "  </tbody>\n",
       "</table>\n"
      ],
      "text/plain": [
       "<pandas.io.formats.style.Styler at 0x27fecf0fbd0>"
      ]
     },
     "metadata": {},
     "output_type": "display_data"
    },
    {
     "data": {
      "application/vnd.jupyter.widget-view+json": {
       "model_id": "d86ec49b55c84342bc893131a05d6a5a",
       "version_major": 2,
       "version_minor": 0
      },
      "text/plain": [
       "Processing:   0%|          | 0/9 [00:00<?, ?it/s]"
      ]
     },
     "metadata": {},
     "output_type": "display_data"
    },
    {
     "data": {
      "text/html": [],
      "text/plain": [
       "<IPython.core.display.HTML object>"
      ]
     },
     "metadata": {},
     "output_type": "display_data"
    },
    {
     "data": {
      "text/html": [],
      "text/plain": [
       "<IPython.core.display.HTML object>"
      ]
     },
     "metadata": {},
     "output_type": "display_data"
    },
    {
     "data": {
      "text/html": [],
      "text/plain": [
       "<IPython.core.display.HTML object>"
      ]
     },
     "metadata": {},
     "output_type": "display_data"
    },
    {
     "data": {
      "text/html": [
       "<style type=\"text/css\">\n",
       "#T_045ff th {\n",
       "  text-align: left;\n",
       "}\n",
       "#T_045ff_row0_col0 {\n",
       "  text-align: left;\n",
       "}\n",
       "#T_045ff_row0_col1, #T_045ff_row0_col2, #T_045ff_row0_col3, #T_045ff_row0_col4, #T_045ff_row0_col5, #T_045ff_row0_col6, #T_045ff_row0_col7 {\n",
       "  text-align: left;\n",
       "  background-color: yellow;\n",
       "}\n",
       "#T_045ff_row0_col8 {\n",
       "  text-align: left;\n",
       "  background-color: yellow;\n",
       "  background-color: lightgrey;\n",
       "}\n",
       "</style>\n",
       "<table id=\"T_045ff\">\n",
       "  <thead>\n",
       "    <tr>\n",
       "      <th class=\"blank level0\" >&nbsp;</th>\n",
       "      <th id=\"T_045ff_level0_col0\" class=\"col_heading level0 col0\" >Model</th>\n",
       "      <th id=\"T_045ff_level0_col1\" class=\"col_heading level0 col1\" >Accuracy</th>\n",
       "      <th id=\"T_045ff_level0_col2\" class=\"col_heading level0 col2\" >AUC</th>\n",
       "      <th id=\"T_045ff_level0_col3\" class=\"col_heading level0 col3\" >Recall</th>\n",
       "      <th id=\"T_045ff_level0_col4\" class=\"col_heading level0 col4\" >Prec.</th>\n",
       "      <th id=\"T_045ff_level0_col5\" class=\"col_heading level0 col5\" >F1</th>\n",
       "      <th id=\"T_045ff_level0_col6\" class=\"col_heading level0 col6\" >Kappa</th>\n",
       "      <th id=\"T_045ff_level0_col7\" class=\"col_heading level0 col7\" >MCC</th>\n",
       "      <th id=\"T_045ff_level0_col8\" class=\"col_heading level0 col8\" >TT (Sec)</th>\n",
       "    </tr>\n",
       "  </thead>\n",
       "  <tbody>\n",
       "    <tr>\n",
       "      <th id=\"T_045ff_level0_row0\" class=\"row_heading level0 row0\" >gbc</th>\n",
       "      <td id=\"T_045ff_row0_col0\" class=\"data row0 col0\" >Gradient Boosting Classifier</td>\n",
       "      <td id=\"T_045ff_row0_col1\" class=\"data row0 col1\" >0.9190</td>\n",
       "      <td id=\"T_045ff_row0_col2\" class=\"data row0 col2\" >0.9556</td>\n",
       "      <td id=\"T_045ff_row0_col3\" class=\"data row0 col3\" >0.9000</td>\n",
       "      <td id=\"T_045ff_row0_col4\" class=\"data row0 col4\" >0.9250</td>\n",
       "      <td id=\"T_045ff_row0_col5\" class=\"data row0 col5\" >0.9057</td>\n",
       "      <td id=\"T_045ff_row0_col6\" class=\"data row0 col6\" >0.8362</td>\n",
       "      <td id=\"T_045ff_row0_col7\" class=\"data row0 col7\" >0.8437</td>\n",
       "      <td id=\"T_045ff_row0_col8\" class=\"data row0 col8\" >0.0740</td>\n",
       "    </tr>\n",
       "  </tbody>\n",
       "</table>\n"
      ],
      "text/plain": [
       "<pandas.io.formats.style.Styler at 0x27fe5a63710>"
      ]
     },
     "metadata": {},
     "output_type": "display_data"
    },
    {
     "data": {
      "application/vnd.jupyter.widget-view+json": {
       "model_id": "3ce3f1c005f345e39bbf62b492d3bc24",
       "version_major": 2,
       "version_minor": 0
      },
      "text/plain": [
       "Processing:   0%|          | 0/9 [00:00<?, ?it/s]"
      ]
     },
     "metadata": {},
     "output_type": "display_data"
    },
    {
     "data": {
      "text/html": [],
      "text/plain": [
       "<IPython.core.display.HTML object>"
      ]
     },
     "metadata": {},
     "output_type": "display_data"
    },
    {
     "data": {
      "text/html": [],
      "text/plain": [
       "<IPython.core.display.HTML object>"
      ]
     },
     "metadata": {},
     "output_type": "display_data"
    },
    {
     "data": {
      "text/html": [],
      "text/plain": [
       "<IPython.core.display.HTML object>"
      ]
     },
     "metadata": {},
     "output_type": "display_data"
    },
    {
     "data": {
      "text/html": [
       "<style type=\"text/css\">\n",
       "#T_460b0 th {\n",
       "  text-align: left;\n",
       "}\n",
       "#T_460b0_row0_col0 {\n",
       "  text-align: left;\n",
       "}\n",
       "#T_460b0_row0_col1, #T_460b0_row0_col2, #T_460b0_row0_col3, #T_460b0_row0_col4, #T_460b0_row0_col5, #T_460b0_row0_col6, #T_460b0_row0_col7 {\n",
       "  text-align: left;\n",
       "  background-color: yellow;\n",
       "}\n",
       "#T_460b0_row0_col8 {\n",
       "  text-align: left;\n",
       "  background-color: yellow;\n",
       "  background-color: lightgrey;\n",
       "}\n",
       "</style>\n",
       "<table id=\"T_460b0\">\n",
       "  <thead>\n",
       "    <tr>\n",
       "      <th class=\"blank level0\" >&nbsp;</th>\n",
       "      <th id=\"T_460b0_level0_col0\" class=\"col_heading level0 col0\" >Model</th>\n",
       "      <th id=\"T_460b0_level0_col1\" class=\"col_heading level0 col1\" >Accuracy</th>\n",
       "      <th id=\"T_460b0_level0_col2\" class=\"col_heading level0 col2\" >AUC</th>\n",
       "      <th id=\"T_460b0_level0_col3\" class=\"col_heading level0 col3\" >Recall</th>\n",
       "      <th id=\"T_460b0_level0_col4\" class=\"col_heading level0 col4\" >Prec.</th>\n",
       "      <th id=\"T_460b0_level0_col5\" class=\"col_heading level0 col5\" >F1</th>\n",
       "      <th id=\"T_460b0_level0_col6\" class=\"col_heading level0 col6\" >Kappa</th>\n",
       "      <th id=\"T_460b0_level0_col7\" class=\"col_heading level0 col7\" >MCC</th>\n",
       "      <th id=\"T_460b0_level0_col8\" class=\"col_heading level0 col8\" >TT (Sec)</th>\n",
       "    </tr>\n",
       "  </thead>\n",
       "  <tbody>\n",
       "    <tr>\n",
       "      <th id=\"T_460b0_level0_row0\" class=\"row_heading level0 row0\" >knn</th>\n",
       "      <td id=\"T_460b0_row0_col0\" class=\"data row0 col0\" >K Neighbors Classifier</td>\n",
       "      <td id=\"T_460b0_row0_col1\" class=\"data row0 col1\" >0.9167</td>\n",
       "      <td id=\"T_460b0_row0_col2\" class=\"data row0 col2\" >0.9556</td>\n",
       "      <td id=\"T_460b0_row0_col3\" class=\"data row0 col3\" >0.8667</td>\n",
       "      <td id=\"T_460b0_row0_col4\" class=\"data row0 col4\" >0.9750</td>\n",
       "      <td id=\"T_460b0_row0_col5\" class=\"data row0 col5\" >0.8957</td>\n",
       "      <td id=\"T_460b0_row0_col6\" class=\"data row0 col6\" >0.8333</td>\n",
       "      <td id=\"T_460b0_row0_col7\" class=\"data row0 col7\" >0.8569</td>\n",
       "      <td id=\"T_460b0_row0_col8\" class=\"data row0 col8\" >0.0250</td>\n",
       "    </tr>\n",
       "  </tbody>\n",
       "</table>\n"
      ],
      "text/plain": [
       "<pandas.io.formats.style.Styler at 0x27fe58ccc90>"
      ]
     },
     "metadata": {},
     "output_type": "display_data"
    },
    {
     "data": {
      "application/vnd.jupyter.widget-view+json": {
       "model_id": "6b1687fe89f440de85971b402ca7721a",
       "version_major": 2,
       "version_minor": 0
      },
      "text/plain": [
       "Processing:   0%|          | 0/9 [00:00<?, ?it/s]"
      ]
     },
     "metadata": {},
     "output_type": "display_data"
    },
    {
     "data": {
      "text/html": [],
      "text/plain": [
       "<IPython.core.display.HTML object>"
      ]
     },
     "metadata": {},
     "output_type": "display_data"
    },
    {
     "data": {
      "text/html": [],
      "text/plain": [
       "<IPython.core.display.HTML object>"
      ]
     },
     "metadata": {},
     "output_type": "display_data"
    },
    {
     "data": {
      "text/html": [],
      "text/plain": [
       "<IPython.core.display.HTML object>"
      ]
     },
     "metadata": {},
     "output_type": "display_data"
    },
    {
     "data": {
      "text/html": [
       "<style type=\"text/css\">\n",
       "#T_02650 th {\n",
       "  text-align: left;\n",
       "}\n",
       "#T_02650_row0_col0 {\n",
       "  text-align: left;\n",
       "}\n",
       "#T_02650_row0_col1, #T_02650_row0_col2, #T_02650_row0_col3, #T_02650_row0_col4, #T_02650_row0_col5, #T_02650_row0_col6, #T_02650_row0_col7 {\n",
       "  text-align: left;\n",
       "  background-color: yellow;\n",
       "}\n",
       "#T_02650_row0_col8 {\n",
       "  text-align: left;\n",
       "  background-color: yellow;\n",
       "  background-color: lightgrey;\n",
       "}\n",
       "</style>\n",
       "<table id=\"T_02650\">\n",
       "  <thead>\n",
       "    <tr>\n",
       "      <th class=\"blank level0\" >&nbsp;</th>\n",
       "      <th id=\"T_02650_level0_col0\" class=\"col_heading level0 col0\" >Model</th>\n",
       "      <th id=\"T_02650_level0_col1\" class=\"col_heading level0 col1\" >Accuracy</th>\n",
       "      <th id=\"T_02650_level0_col2\" class=\"col_heading level0 col2\" >AUC</th>\n",
       "      <th id=\"T_02650_level0_col3\" class=\"col_heading level0 col3\" >Recall</th>\n",
       "      <th id=\"T_02650_level0_col4\" class=\"col_heading level0 col4\" >Prec.</th>\n",
       "      <th id=\"T_02650_level0_col5\" class=\"col_heading level0 col5\" >F1</th>\n",
       "      <th id=\"T_02650_level0_col6\" class=\"col_heading level0 col6\" >Kappa</th>\n",
       "      <th id=\"T_02650_level0_col7\" class=\"col_heading level0 col7\" >MCC</th>\n",
       "      <th id=\"T_02650_level0_col8\" class=\"col_heading level0 col8\" >TT (Sec)</th>\n",
       "    </tr>\n",
       "  </thead>\n",
       "  <tbody>\n",
       "    <tr>\n",
       "      <th id=\"T_02650_level0_row0\" class=\"row_heading level0 row0\" >ada</th>\n",
       "      <td id=\"T_02650_row0_col0\" class=\"data row0 col0\" >Ada Boost Classifier</td>\n",
       "      <td id=\"T_02650_row0_col1\" class=\"data row0 col1\" >0.9048</td>\n",
       "      <td id=\"T_02650_row0_col2\" class=\"data row0 col2\" >0.9778</td>\n",
       "      <td id=\"T_02650_row0_col3\" class=\"data row0 col3\" >0.9333</td>\n",
       "      <td id=\"T_02650_row0_col4\" class=\"data row0 col4\" >0.8917</td>\n",
       "      <td id=\"T_02650_row0_col5\" class=\"data row0 col5\" >0.9038</td>\n",
       "      <td id=\"T_02650_row0_col6\" class=\"data row0 col6\" >0.8082</td>\n",
       "      <td id=\"T_02650_row0_col7\" class=\"data row0 col7\" >0.8228</td>\n",
       "      <td id=\"T_02650_row0_col8\" class=\"data row0 col8\" >0.0740</td>\n",
       "    </tr>\n",
       "  </tbody>\n",
       "</table>\n"
      ],
      "text/plain": [
       "<pandas.io.formats.style.Styler at 0x27fecde5dd0>"
      ]
     },
     "metadata": {},
     "output_type": "display_data"
    },
    {
     "data": {
      "application/vnd.jupyter.widget-view+json": {
       "model_id": "59cf869cc80d4f1d91486aab812af52e",
       "version_major": 2,
       "version_minor": 0
      },
      "text/plain": [
       "Processing:   0%|          | 0/9 [00:00<?, ?it/s]"
      ]
     },
     "metadata": {},
     "output_type": "display_data"
    },
    {
     "data": {
      "text/html": [],
      "text/plain": [
       "<IPython.core.display.HTML object>"
      ]
     },
     "metadata": {},
     "output_type": "display_data"
    },
    {
     "data": {
      "text/html": [],
      "text/plain": [
       "<IPython.core.display.HTML object>"
      ]
     },
     "metadata": {},
     "output_type": "display_data"
    },
    {
     "data": {
      "text/html": [],
      "text/plain": [
       "<IPython.core.display.HTML object>"
      ]
     },
     "metadata": {},
     "output_type": "display_data"
    },
    {
     "data": {
      "text/html": [
       "<style type=\"text/css\">\n",
       "#T_8a616 th {\n",
       "  text-align: left;\n",
       "}\n",
       "#T_8a616_row0_col0 {\n",
       "  text-align: left;\n",
       "}\n",
       "#T_8a616_row0_col1, #T_8a616_row0_col2, #T_8a616_row0_col3, #T_8a616_row0_col4, #T_8a616_row0_col5, #T_8a616_row0_col6, #T_8a616_row0_col7 {\n",
       "  text-align: left;\n",
       "  background-color: yellow;\n",
       "}\n",
       "#T_8a616_row0_col8 {\n",
       "  text-align: left;\n",
       "  background-color: yellow;\n",
       "  background-color: lightgrey;\n",
       "}\n",
       "</style>\n",
       "<table id=\"T_8a616\">\n",
       "  <thead>\n",
       "    <tr>\n",
       "      <th class=\"blank level0\" >&nbsp;</th>\n",
       "      <th id=\"T_8a616_level0_col0\" class=\"col_heading level0 col0\" >Model</th>\n",
       "      <th id=\"T_8a616_level0_col1\" class=\"col_heading level0 col1\" >Accuracy</th>\n",
       "      <th id=\"T_8a616_level0_col2\" class=\"col_heading level0 col2\" >AUC</th>\n",
       "      <th id=\"T_8a616_level0_col3\" class=\"col_heading level0 col3\" >Recall</th>\n",
       "      <th id=\"T_8a616_level0_col4\" class=\"col_heading level0 col4\" >Prec.</th>\n",
       "      <th id=\"T_8a616_level0_col5\" class=\"col_heading level0 col5\" >F1</th>\n",
       "      <th id=\"T_8a616_level0_col6\" class=\"col_heading level0 col6\" >Kappa</th>\n",
       "      <th id=\"T_8a616_level0_col7\" class=\"col_heading level0 col7\" >MCC</th>\n",
       "      <th id=\"T_8a616_level0_col8\" class=\"col_heading level0 col8\" >TT (Sec)</th>\n",
       "    </tr>\n",
       "  </thead>\n",
       "  <tbody>\n",
       "    <tr>\n",
       "      <th id=\"T_8a616_level0_row0\" class=\"row_heading level0 row0\" >xgboost</th>\n",
       "      <td id=\"T_8a616_row0_col0\" class=\"data row0 col0\" >Extreme Gradient Boosting</td>\n",
       "      <td id=\"T_8a616_row0_col1\" class=\"data row0 col1\" >0.8762</td>\n",
       "      <td id=\"T_8a616_row0_col2\" class=\"data row0 col2\" >0.9500</td>\n",
       "      <td id=\"T_8a616_row0_col3\" class=\"data row0 col3\" >0.9000</td>\n",
       "      <td id=\"T_8a616_row0_col4\" class=\"data row0 col4\" >0.8517</td>\n",
       "      <td id=\"T_8a616_row0_col5\" class=\"data row0 col5\" >0.8674</td>\n",
       "      <td id=\"T_8a616_row0_col6\" class=\"data row0 col6\" >0.7545</td>\n",
       "      <td id=\"T_8a616_row0_col7\" class=\"data row0 col7\" >0.7671</td>\n",
       "      <td id=\"T_8a616_row0_col8\" class=\"data row0 col8\" >0.0310</td>\n",
       "    </tr>\n",
       "  </tbody>\n",
       "</table>\n"
      ],
      "text/plain": [
       "<pandas.io.formats.style.Styler at 0x27fed00c050>"
      ]
     },
     "metadata": {},
     "output_type": "display_data"
    },
    {
     "data": {
      "application/vnd.jupyter.widget-view+json": {
       "model_id": "437696e963f94072b442126901918618",
       "version_major": 2,
       "version_minor": 0
      },
      "text/plain": [
       "Processing:   0%|          | 0/9 [00:00<?, ?it/s]"
      ]
     },
     "metadata": {},
     "output_type": "display_data"
    },
    {
     "data": {
      "text/html": [],
      "text/plain": [
       "<IPython.core.display.HTML object>"
      ]
     },
     "metadata": {},
     "output_type": "display_data"
    },
    {
     "data": {
      "text/html": [],
      "text/plain": [
       "<IPython.core.display.HTML object>"
      ]
     },
     "metadata": {},
     "output_type": "display_data"
    },
    {
     "data": {
      "text/html": [],
      "text/plain": [
       "<IPython.core.display.HTML object>"
      ]
     },
     "metadata": {},
     "output_type": "display_data"
    },
    {
     "data": {
      "text/html": [
       "<style type=\"text/css\">\n",
       "#T_c7394 th {\n",
       "  text-align: left;\n",
       "}\n",
       "#T_c7394_row0_col0 {\n",
       "  text-align: left;\n",
       "}\n",
       "#T_c7394_row0_col1, #T_c7394_row0_col2, #T_c7394_row0_col3, #T_c7394_row0_col4, #T_c7394_row0_col5, #T_c7394_row0_col6, #T_c7394_row0_col7 {\n",
       "  text-align: left;\n",
       "  background-color: yellow;\n",
       "}\n",
       "#T_c7394_row0_col8 {\n",
       "  text-align: left;\n",
       "  background-color: yellow;\n",
       "  background-color: lightgrey;\n",
       "}\n",
       "</style>\n",
       "<table id=\"T_c7394\">\n",
       "  <thead>\n",
       "    <tr>\n",
       "      <th class=\"blank level0\" >&nbsp;</th>\n",
       "      <th id=\"T_c7394_level0_col0\" class=\"col_heading level0 col0\" >Model</th>\n",
       "      <th id=\"T_c7394_level0_col1\" class=\"col_heading level0 col1\" >Accuracy</th>\n",
       "      <th id=\"T_c7394_level0_col2\" class=\"col_heading level0 col2\" >AUC</th>\n",
       "      <th id=\"T_c7394_level0_col3\" class=\"col_heading level0 col3\" >Recall</th>\n",
       "      <th id=\"T_c7394_level0_col4\" class=\"col_heading level0 col4\" >Prec.</th>\n",
       "      <th id=\"T_c7394_level0_col5\" class=\"col_heading level0 col5\" >F1</th>\n",
       "      <th id=\"T_c7394_level0_col6\" class=\"col_heading level0 col6\" >Kappa</th>\n",
       "      <th id=\"T_c7394_level0_col7\" class=\"col_heading level0 col7\" >MCC</th>\n",
       "      <th id=\"T_c7394_level0_col8\" class=\"col_heading level0 col8\" >TT (Sec)</th>\n",
       "    </tr>\n",
       "  </thead>\n",
       "  <tbody>\n",
       "    <tr>\n",
       "      <th id=\"T_c7394_level0_row0\" class=\"row_heading level0 row0\" >nb</th>\n",
       "      <td id=\"T_c7394_row0_col0\" class=\"data row0 col0\" >Naive Bayes</td>\n",
       "      <td id=\"T_c7394_row0_col1\" class=\"data row0 col1\" >0.8690</td>\n",
       "      <td id=\"T_c7394_row0_col2\" class=\"data row0 col2\" >0.9000</td>\n",
       "      <td id=\"T_c7394_row0_col3\" class=\"data row0 col3\" >0.8333</td>\n",
       "      <td id=\"T_c7394_row0_col4\" class=\"data row0 col4\" >0.8917</td>\n",
       "      <td id=\"T_c7394_row0_col5\" class=\"data row0 col5\" >0.8524</td>\n",
       "      <td id=\"T_c7394_row0_col6\" class=\"data row0 col6\" >0.7362</td>\n",
       "      <td id=\"T_c7394_row0_col7\" class=\"data row0 col7\" >0.7478</td>\n",
       "      <td id=\"T_c7394_row0_col8\" class=\"data row0 col8\" >0.0220</td>\n",
       "    </tr>\n",
       "  </tbody>\n",
       "</table>\n"
      ],
      "text/plain": [
       "<pandas.io.formats.style.Styler at 0x27fe5898950>"
      ]
     },
     "metadata": {},
     "output_type": "display_data"
    },
    {
     "data": {
      "application/vnd.jupyter.widget-view+json": {
       "model_id": "e616dfb038e84102a0bbe9ba6e28d725",
       "version_major": 2,
       "version_minor": 0
      },
      "text/plain": [
       "Processing:   0%|          | 0/9 [00:00<?, ?it/s]"
      ]
     },
     "metadata": {},
     "output_type": "display_data"
    },
    {
     "data": {
      "text/html": [],
      "text/plain": [
       "<IPython.core.display.HTML object>"
      ]
     },
     "metadata": {},
     "output_type": "display_data"
    },
    {
     "data": {
      "text/html": [],
      "text/plain": [
       "<IPython.core.display.HTML object>"
      ]
     },
     "metadata": {},
     "output_type": "display_data"
    },
    {
     "data": {
      "text/html": [],
      "text/plain": [
       "<IPython.core.display.HTML object>"
      ]
     },
     "metadata": {},
     "output_type": "display_data"
    },
    {
     "data": {
      "text/html": [
       "<style type=\"text/css\">\n",
       "#T_394f7 th {\n",
       "  text-align: left;\n",
       "}\n",
       "#T_394f7_row0_col0 {\n",
       "  text-align: left;\n",
       "}\n",
       "#T_394f7_row0_col1, #T_394f7_row0_col2, #T_394f7_row0_col3, #T_394f7_row0_col4, #T_394f7_row0_col5, #T_394f7_row0_col6, #T_394f7_row0_col7 {\n",
       "  text-align: left;\n",
       "  background-color: yellow;\n",
       "}\n",
       "#T_394f7_row0_col8 {\n",
       "  text-align: left;\n",
       "  background-color: yellow;\n",
       "  background-color: lightgrey;\n",
       "}\n",
       "</style>\n",
       "<table id=\"T_394f7\">\n",
       "  <thead>\n",
       "    <tr>\n",
       "      <th class=\"blank level0\" >&nbsp;</th>\n",
       "      <th id=\"T_394f7_level0_col0\" class=\"col_heading level0 col0\" >Model</th>\n",
       "      <th id=\"T_394f7_level0_col1\" class=\"col_heading level0 col1\" >Accuracy</th>\n",
       "      <th id=\"T_394f7_level0_col2\" class=\"col_heading level0 col2\" >AUC</th>\n",
       "      <th id=\"T_394f7_level0_col3\" class=\"col_heading level0 col3\" >Recall</th>\n",
       "      <th id=\"T_394f7_level0_col4\" class=\"col_heading level0 col4\" >Prec.</th>\n",
       "      <th id=\"T_394f7_level0_col5\" class=\"col_heading level0 col5\" >F1</th>\n",
       "      <th id=\"T_394f7_level0_col6\" class=\"col_heading level0 col6\" >Kappa</th>\n",
       "      <th id=\"T_394f7_level0_col7\" class=\"col_heading level0 col7\" >MCC</th>\n",
       "      <th id=\"T_394f7_level0_col8\" class=\"col_heading level0 col8\" >TT (Sec)</th>\n",
       "    </tr>\n",
       "  </thead>\n",
       "  <tbody>\n",
       "    <tr>\n",
       "      <th id=\"T_394f7_level0_row0\" class=\"row_heading level0 row0\" >svm</th>\n",
       "      <td id=\"T_394f7_row0_col0\" class=\"data row0 col0\" >SVM - Linear Kernel</td>\n",
       "      <td id=\"T_394f7_row0_col1\" class=\"data row0 col1\" >0.8548</td>\n",
       "      <td id=\"T_394f7_row0_col2\" class=\"data row0 col2\" >0.9667</td>\n",
       "      <td id=\"T_394f7_row0_col3\" class=\"data row0 col3\" >0.8333</td>\n",
       "      <td id=\"T_394f7_row0_col4\" class=\"data row0 col4\" >0.8917</td>\n",
       "      <td id=\"T_394f7_row0_col5\" class=\"data row0 col5\" >0.8238</td>\n",
       "      <td id=\"T_394f7_row0_col6\" class=\"data row0 col6\" >0.7107</td>\n",
       "      <td id=\"T_394f7_row0_col7\" class=\"data row0 col7\" >0.7435</td>\n",
       "      <td id=\"T_394f7_row0_col8\" class=\"data row0 col8\" >0.0160</td>\n",
       "    </tr>\n",
       "  </tbody>\n",
       "</table>\n"
      ],
      "text/plain": [
       "<pandas.io.formats.style.Styler at 0x27fe58cf5d0>"
      ]
     },
     "metadata": {},
     "output_type": "display_data"
    },
    {
     "data": {
      "application/vnd.jupyter.widget-view+json": {
       "model_id": "261215df90eb4dda9057019912d0be24",
       "version_major": 2,
       "version_minor": 0
      },
      "text/plain": [
       "Processing:   0%|          | 0/9 [00:00<?, ?it/s]"
      ]
     },
     "metadata": {},
     "output_type": "display_data"
    },
    {
     "data": {
      "text/html": [],
      "text/plain": [
       "<IPython.core.display.HTML object>"
      ]
     },
     "metadata": {},
     "output_type": "display_data"
    },
    {
     "data": {
      "text/html": [],
      "text/plain": [
       "<IPython.core.display.HTML object>"
      ]
     },
     "metadata": {},
     "output_type": "display_data"
    },
    {
     "data": {
      "text/html": [],
      "text/plain": [
       "<IPython.core.display.HTML object>"
      ]
     },
     "metadata": {},
     "output_type": "display_data"
    },
    {
     "data": {
      "text/html": [
       "<style type=\"text/css\">\n",
       "#T_54ff0 th {\n",
       "  text-align: left;\n",
       "}\n",
       "#T_54ff0_row0_col0 {\n",
       "  text-align: left;\n",
       "}\n",
       "#T_54ff0_row0_col1, #T_54ff0_row0_col2, #T_54ff0_row0_col3, #T_54ff0_row0_col4, #T_54ff0_row0_col5, #T_54ff0_row0_col6, #T_54ff0_row0_col7 {\n",
       "  text-align: left;\n",
       "  background-color: yellow;\n",
       "}\n",
       "#T_54ff0_row0_col8 {\n",
       "  text-align: left;\n",
       "  background-color: yellow;\n",
       "  background-color: lightgrey;\n",
       "}\n",
       "</style>\n",
       "<table id=\"T_54ff0\">\n",
       "  <thead>\n",
       "    <tr>\n",
       "      <th class=\"blank level0\" >&nbsp;</th>\n",
       "      <th id=\"T_54ff0_level0_col0\" class=\"col_heading level0 col0\" >Model</th>\n",
       "      <th id=\"T_54ff0_level0_col1\" class=\"col_heading level0 col1\" >Accuracy</th>\n",
       "      <th id=\"T_54ff0_level0_col2\" class=\"col_heading level0 col2\" >AUC</th>\n",
       "      <th id=\"T_54ff0_level0_col3\" class=\"col_heading level0 col3\" >Recall</th>\n",
       "      <th id=\"T_54ff0_level0_col4\" class=\"col_heading level0 col4\" >Prec.</th>\n",
       "      <th id=\"T_54ff0_level0_col5\" class=\"col_heading level0 col5\" >F1</th>\n",
       "      <th id=\"T_54ff0_level0_col6\" class=\"col_heading level0 col6\" >Kappa</th>\n",
       "      <th id=\"T_54ff0_level0_col7\" class=\"col_heading level0 col7\" >MCC</th>\n",
       "      <th id=\"T_54ff0_level0_col8\" class=\"col_heading level0 col8\" >TT (Sec)</th>\n",
       "    </tr>\n",
       "  </thead>\n",
       "  <tbody>\n",
       "    <tr>\n",
       "      <th id=\"T_54ff0_level0_row0\" class=\"row_heading level0 row0\" >lightgbm</th>\n",
       "      <td id=\"T_54ff0_row0_col0\" class=\"data row0 col0\" >Light Gradient Boosting Machine</td>\n",
       "      <td id=\"T_54ff0_row0_col1\" class=\"data row0 col1\" >0.7952</td>\n",
       "      <td id=\"T_54ff0_row0_col2\" class=\"data row0 col2\" >0.8917</td>\n",
       "      <td id=\"T_54ff0_row0_col3\" class=\"data row0 col3\" >0.8000</td>\n",
       "      <td id=\"T_54ff0_row0_col4\" class=\"data row0 col4\" >0.7433</td>\n",
       "      <td id=\"T_54ff0_row0_col5\" class=\"data row0 col5\" >0.7598</td>\n",
       "      <td id=\"T_54ff0_row0_col6\" class=\"data row0 col6\" >0.5907</td>\n",
       "      <td id=\"T_54ff0_row0_col7\" class=\"data row0 col7\" >0.5995</td>\n",
       "      <td id=\"T_54ff0_row0_col8\" class=\"data row0 col8\" >0.0400</td>\n",
       "    </tr>\n",
       "  </tbody>\n",
       "</table>\n"
      ],
      "text/plain": [
       "<pandas.io.formats.style.Styler at 0x27fe5954bd0>"
      ]
     },
     "metadata": {},
     "output_type": "display_data"
    },
    {
     "data": {
      "application/vnd.jupyter.widget-view+json": {
       "model_id": "9b3080de3cb54fd38694e900b291fabd",
       "version_major": 2,
       "version_minor": 0
      },
      "text/plain": [
       "Processing:   0%|          | 0/9 [00:00<?, ?it/s]"
      ]
     },
     "metadata": {},
     "output_type": "display_data"
    },
    {
     "data": {
      "text/html": [],
      "text/plain": [
       "<IPython.core.display.HTML object>"
      ]
     },
     "metadata": {},
     "output_type": "display_data"
    },
    {
     "data": {
      "text/html": [],
      "text/plain": [
       "<IPython.core.display.HTML object>"
      ]
     },
     "metadata": {},
     "output_type": "display_data"
    },
    {
     "data": {
      "text/html": [],
      "text/plain": [
       "<IPython.core.display.HTML object>"
      ]
     },
     "metadata": {},
     "output_type": "display_data"
    },
    {
     "data": {
      "text/html": [
       "<style type=\"text/css\">\n",
       "#T_0b4d7 th {\n",
       "  text-align: left;\n",
       "}\n",
       "#T_0b4d7_row0_col0 {\n",
       "  text-align: left;\n",
       "}\n",
       "#T_0b4d7_row0_col1, #T_0b4d7_row0_col2, #T_0b4d7_row0_col3, #T_0b4d7_row0_col4, #T_0b4d7_row0_col5, #T_0b4d7_row0_col6, #T_0b4d7_row0_col7 {\n",
       "  text-align: left;\n",
       "  background-color: yellow;\n",
       "}\n",
       "#T_0b4d7_row0_col8 {\n",
       "  text-align: left;\n",
       "  background-color: yellow;\n",
       "  background-color: lightgrey;\n",
       "}\n",
       "</style>\n",
       "<table id=\"T_0b4d7\">\n",
       "  <thead>\n",
       "    <tr>\n",
       "      <th class=\"blank level0\" >&nbsp;</th>\n",
       "      <th id=\"T_0b4d7_level0_col0\" class=\"col_heading level0 col0\" >Model</th>\n",
       "      <th id=\"T_0b4d7_level0_col1\" class=\"col_heading level0 col1\" >Accuracy</th>\n",
       "      <th id=\"T_0b4d7_level0_col2\" class=\"col_heading level0 col2\" >AUC</th>\n",
       "      <th id=\"T_0b4d7_level0_col3\" class=\"col_heading level0 col3\" >Recall</th>\n",
       "      <th id=\"T_0b4d7_level0_col4\" class=\"col_heading level0 col4\" >Prec.</th>\n",
       "      <th id=\"T_0b4d7_level0_col5\" class=\"col_heading level0 col5\" >F1</th>\n",
       "      <th id=\"T_0b4d7_level0_col6\" class=\"col_heading level0 col6\" >Kappa</th>\n",
       "      <th id=\"T_0b4d7_level0_col7\" class=\"col_heading level0 col7\" >MCC</th>\n",
       "      <th id=\"T_0b4d7_level0_col8\" class=\"col_heading level0 col8\" >TT (Sec)</th>\n",
       "    </tr>\n",
       "  </thead>\n",
       "  <tbody>\n",
       "    <tr>\n",
       "      <th id=\"T_0b4d7_level0_row0\" class=\"row_heading level0 row0\" >dt</th>\n",
       "      <td id=\"T_0b4d7_row0_col0\" class=\"data row0 col0\" >Decision Tree Classifier</td>\n",
       "      <td id=\"T_0b4d7_row0_col1\" class=\"data row0 col1\" >0.7762</td>\n",
       "      <td id=\"T_0b4d7_row0_col2\" class=\"data row0 col2\" >0.7750</td>\n",
       "      <td id=\"T_0b4d7_row0_col3\" class=\"data row0 col3\" >0.7333</td>\n",
       "      <td id=\"T_0b4d7_row0_col4\" class=\"data row0 col4\" >0.7833</td>\n",
       "      <td id=\"T_0b4d7_row0_col5\" class=\"data row0 col5\" >0.7448</td>\n",
       "      <td id=\"T_0b4d7_row0_col6\" class=\"data row0 col6\" >0.5474</td>\n",
       "      <td id=\"T_0b4d7_row0_col7\" class=\"data row0 col7\" >0.5629</td>\n",
       "      <td id=\"T_0b4d7_row0_col8\" class=\"data row0 col8\" >0.0220</td>\n",
       "    </tr>\n",
       "  </tbody>\n",
       "</table>\n"
      ],
      "text/plain": [
       "<pandas.io.formats.style.Styler at 0x27fe593c710>"
      ]
     },
     "metadata": {},
     "output_type": "display_data"
    },
    {
     "data": {
      "application/vnd.jupyter.widget-view+json": {
       "model_id": "5fd8a53d3ba6422eab9a18076831877f",
       "version_major": 2,
       "version_minor": 0
      },
      "text/plain": [
       "Processing:   0%|          | 0/9 [00:00<?, ?it/s]"
      ]
     },
     "metadata": {},
     "output_type": "display_data"
    },
    {
     "data": {
      "text/html": [],
      "text/plain": [
       "<IPython.core.display.HTML object>"
      ]
     },
     "metadata": {},
     "output_type": "display_data"
    },
    {
     "data": {
      "text/html": [],
      "text/plain": [
       "<IPython.core.display.HTML object>"
      ]
     },
     "metadata": {},
     "output_type": "display_data"
    },
    {
     "data": {
      "text/html": [],
      "text/plain": [
       "<IPython.core.display.HTML object>"
      ]
     },
     "metadata": {},
     "output_type": "display_data"
    },
    {
     "data": {
      "text/html": [
       "<style type=\"text/css\">\n",
       "#T_16d63 th {\n",
       "  text-align: left;\n",
       "}\n",
       "#T_16d63_row0_col0 {\n",
       "  text-align: left;\n",
       "}\n",
       "#T_16d63_row0_col1, #T_16d63_row0_col2, #T_16d63_row0_col3, #T_16d63_row0_col4, #T_16d63_row0_col5, #T_16d63_row0_col6, #T_16d63_row0_col7 {\n",
       "  text-align: left;\n",
       "  background-color: yellow;\n",
       "}\n",
       "#T_16d63_row0_col8 {\n",
       "  text-align: left;\n",
       "  background-color: yellow;\n",
       "  background-color: lightgrey;\n",
       "}\n",
       "</style>\n",
       "<table id=\"T_16d63\">\n",
       "  <thead>\n",
       "    <tr>\n",
       "      <th class=\"blank level0\" >&nbsp;</th>\n",
       "      <th id=\"T_16d63_level0_col0\" class=\"col_heading level0 col0\" >Model</th>\n",
       "      <th id=\"T_16d63_level0_col1\" class=\"col_heading level0 col1\" >Accuracy</th>\n",
       "      <th id=\"T_16d63_level0_col2\" class=\"col_heading level0 col2\" >AUC</th>\n",
       "      <th id=\"T_16d63_level0_col3\" class=\"col_heading level0 col3\" >Recall</th>\n",
       "      <th id=\"T_16d63_level0_col4\" class=\"col_heading level0 col4\" >Prec.</th>\n",
       "      <th id=\"T_16d63_level0_col5\" class=\"col_heading level0 col5\" >F1</th>\n",
       "      <th id=\"T_16d63_level0_col6\" class=\"col_heading level0 col6\" >Kappa</th>\n",
       "      <th id=\"T_16d63_level0_col7\" class=\"col_heading level0 col7\" >MCC</th>\n",
       "      <th id=\"T_16d63_level0_col8\" class=\"col_heading level0 col8\" >TT (Sec)</th>\n",
       "    </tr>\n",
       "  </thead>\n",
       "  <tbody>\n",
       "    <tr>\n",
       "      <th id=\"T_16d63_level0_row0\" class=\"row_heading level0 row0\" >dummy</th>\n",
       "      <td id=\"T_16d63_row0_col0\" class=\"data row0 col0\" >Dummy Classifier</td>\n",
       "      <td id=\"T_16d63_row0_col1\" class=\"data row0 col1\" >0.5214</td>\n",
       "      <td id=\"T_16d63_row0_col2\" class=\"data row0 col2\" >0.5000</td>\n",
       "      <td id=\"T_16d63_row0_col3\" class=\"data row0 col3\" >0.0000</td>\n",
       "      <td id=\"T_16d63_row0_col4\" class=\"data row0 col4\" >0.0000</td>\n",
       "      <td id=\"T_16d63_row0_col5\" class=\"data row0 col5\" >0.0000</td>\n",
       "      <td id=\"T_16d63_row0_col6\" class=\"data row0 col6\" >0.0000</td>\n",
       "      <td id=\"T_16d63_row0_col7\" class=\"data row0 col7\" >0.0000</td>\n",
       "      <td id=\"T_16d63_row0_col8\" class=\"data row0 col8\" >0.0210</td>\n",
       "    </tr>\n",
       "  </tbody>\n",
       "</table>\n"
      ],
      "text/plain": [
       "<pandas.io.formats.style.Styler at 0x27fecd55650>"
      ]
     },
     "metadata": {},
     "output_type": "display_data"
    },
    {
     "data": {
      "application/vnd.jupyter.widget-view+json": {
       "model_id": "d72d806b694d4ef6ba83c98c55d3c581",
       "version_major": 2,
       "version_minor": 0
      },
      "text/plain": [
       "Processing:   0%|          | 0/9 [00:00<?, ?it/s]"
      ]
     },
     "metadata": {},
     "output_type": "display_data"
    },
    {
     "data": {
      "text/html": [],
      "text/plain": [
       "<IPython.core.display.HTML object>"
      ]
     },
     "metadata": {},
     "output_type": "display_data"
    },
    {
     "data": {
      "text/html": [],
      "text/plain": [
       "<IPython.core.display.HTML object>"
      ]
     },
     "metadata": {},
     "output_type": "display_data"
    }
   ],
   "source": [
    "import pandas as pd\n",
    "from pycaret.classification import setup, compare_models, predict_model, finalize_model, pull\n",
    "from sklearn.metrics import accuracy_score, f1_score\n",
    "from sklearn.model_selection import train_test_split\n",
    "import joblib\n",
    "\n",
    "# Load the CSV file into a DataFrame\n",
    "df = pd.read_csv('../data/players_df_sin_reco.csv')\n",
    "\n",
    "# Select features (columns 7 to 20, 0-based index: 6 to 19)\n",
    "X = df.iloc[:, 6:20]\n",
    "\n",
    "# Select the 3rd column from the end as the target\n",
    "y = df.iloc[:, -3]\n",
    "\n",
    "# Split data into training and testing sets\n",
    "X_train, X_test, y_train, y_test = train_test_split(X, y, test_size=0.2, random_state=42)\n",
    "\n",
    "# Create an empty DataFrame to store results\n",
    "invertedwinger_df = pd.DataFrame(columns=['model', 'train_accuracy', 'test_accuracy', 'train_f1', 'test_f1', 'TT'])\n",
    "\n",
    "# Concatenate X_train and y_train into a DataFrame for PyCaret setup\n",
    "df_target = pd.concat([X_train, y_train], axis=1)\n",
    "\n",
    "# Setup PyCaret environment\n",
    "clf = setup(data=df_target, target=y.name, session_id=42)\n",
    "\n",
    "# Compare different models and store the results\n",
    "best_model = compare_models()  # This returns the top model\n",
    "compare_results = pull()  # Pulls all model results as a DataFrame\n",
    "\n",
    "# Define the mapping from model names to PyCaret identifiers\n",
    "model_mapping = {\n",
    "    'K Neighbors Classifier': 'knn',\n",
    "    'Random Forest Classifier': 'rf',\n",
    "    'Logistic Regression': 'lr',\n",
    "    'Decision Tree Classifier': 'dt',\n",
    "    'Ada Boost Classifier': 'ada',\n",
    "    'Gradient Boosting Classifier': 'gbc',\n",
    "    'Naive Bayes': 'nb',\n",
    "    'SVM - Linear Kernel': 'svm',\n",
    "    'Extra Trees Classifier': 'et',\n",
    "    'Light Gradient Boosting Machine': 'lightgbm',\n",
    "    'Ridge Classifier': 'ridge',\n",
    "    'Linear Discriminant Analysis': 'lda',\n",
    "    'Extreme Gradient Boosting': 'xgboost',\n",
    "    'Dummy Classifier': 'dummy'\n",
    "}\n",
    "\n",
    "# Loop over each model in the compare_results DataFrame\n",
    "for idx, row in compare_results.iterrows():\n",
    "    model_name = row['Model']\n",
    "    testing_time = row['TT (Sec)']\n",
    "\n",
    "    # Get the PyCaret identifier for the model\n",
    "    model_identifier = model_mapping.get(model_name)\n",
    "\n",
    "    # Instead of finalizing by the model name, select the model by identifier\n",
    "    if model_identifier:\n",
    "        best_model = compare_models(include=[model_identifier], n_select=1)\n",
    "\n",
    "        # Finalize the model (train it on the entire dataset)\n",
    "        final_model = finalize_model(best_model)\n",
    "\n",
    "        # Predict on train and test sets\n",
    "        predictions_train = predict_model(final_model, data=X_train)\n",
    "        predictions_test = predict_model(final_model, data=X_test)\n",
    "\n",
    "        # Calculate test accuracy and F1 score\n",
    "        y_pred_test = predictions_test['prediction_label']\n",
    "        test_accuracy = accuracy_score(y_test, y_pred_test)\n",
    "        test_f1 = f1_score(y_test, y_pred_test, average='weighted')\n",
    "\n",
    "        # Calculate train accuracy and F1 score\n",
    "        y_pred_train = predictions_train['prediction_label']\n",
    "        train_accuracy = accuracy_score(y_train, y_pred_train)\n",
    "        train_f1 = f1_score(y_train, y_pred_train, average='weighted')\n",
    "\n",
    "        # Append the metrics for each model to the results DataFrame\n",
    "        new_row = pd.DataFrame({\n",
    "            'model': model_name,\n",
    "            'train_accuracy': train_accuracy,\n",
    "            'test_accuracy': test_accuracy,\n",
    "            'train_f1': train_f1,\n",
    "            'test_f1': test_f1,\n",
    "            'TT': testing_time\n",
    "        }, index=[0])\n",
    "\n",
    "        invertedwinger_df = pd.concat([invertedwinger_df, new_row], ignore_index=True)\n"
   ]
  },
  {
   "cell_type": "code",
   "execution_count": 30,
   "metadata": {},
   "outputs": [
    {
     "data": {
      "text/html": [
       "<div>\n",
       "<style scoped>\n",
       "    .dataframe tbody tr th:only-of-type {\n",
       "        vertical-align: middle;\n",
       "    }\n",
       "\n",
       "    .dataframe tbody tr th {\n",
       "        vertical-align: top;\n",
       "    }\n",
       "\n",
       "    .dataframe thead th {\n",
       "        text-align: right;\n",
       "    }\n",
       "</style>\n",
       "<table border=\"1\" class=\"dataframe\">\n",
       "  <thead>\n",
       "    <tr style=\"text-align: right;\">\n",
       "      <th></th>\n",
       "      <th>model</th>\n",
       "      <th>train_accuracy</th>\n",
       "      <th>test_accuracy</th>\n",
       "      <th>train_f1</th>\n",
       "      <th>test_f1</th>\n",
       "      <th>TT</th>\n",
       "    </tr>\n",
       "  </thead>\n",
       "  <tbody>\n",
       "    <tr>\n",
       "      <th>0</th>\n",
       "      <td>Logistic Regression</td>\n",
       "      <td>1.000000</td>\n",
       "      <td>0.869565</td>\n",
       "      <td>1.000000</td>\n",
       "      <td>0.870062</td>\n",
       "      <td>0.031</td>\n",
       "    </tr>\n",
       "    <tr>\n",
       "      <th>1</th>\n",
       "      <td>Ridge Classifier</td>\n",
       "      <td>0.978022</td>\n",
       "      <td>0.869565</td>\n",
       "      <td>0.978038</td>\n",
       "      <td>0.868548</td>\n",
       "      <td>0.015</td>\n",
       "    </tr>\n",
       "    <tr>\n",
       "      <th>2</th>\n",
       "      <td>Linear Discriminant Analysis</td>\n",
       "      <td>0.978022</td>\n",
       "      <td>0.869565</td>\n",
       "      <td>0.978038</td>\n",
       "      <td>0.868548</td>\n",
       "      <td>0.015</td>\n",
       "    </tr>\n",
       "    <tr>\n",
       "      <th>3</th>\n",
       "      <td>Extra Trees Classifier</td>\n",
       "      <td>1.000000</td>\n",
       "      <td>0.869565</td>\n",
       "      <td>1.000000</td>\n",
       "      <td>0.870062</td>\n",
       "      <td>0.076</td>\n",
       "    </tr>\n",
       "    <tr>\n",
       "      <th>4</th>\n",
       "      <td>Random Forest Classifier</td>\n",
       "      <td>1.000000</td>\n",
       "      <td>0.826087</td>\n",
       "      <td>1.000000</td>\n",
       "      <td>0.826087</td>\n",
       "      <td>0.089</td>\n",
       "    </tr>\n",
       "    <tr>\n",
       "      <th>5</th>\n",
       "      <td>Gradient Boosting Classifier</td>\n",
       "      <td>1.000000</td>\n",
       "      <td>0.869565</td>\n",
       "      <td>1.000000</td>\n",
       "      <td>0.869565</td>\n",
       "      <td>0.065</td>\n",
       "    </tr>\n",
       "    <tr>\n",
       "      <th>6</th>\n",
       "      <td>K Neighbors Classifier</td>\n",
       "      <td>0.934066</td>\n",
       "      <td>0.826087</td>\n",
       "      <td>0.934114</td>\n",
       "      <td>0.826087</td>\n",
       "      <td>0.030</td>\n",
       "    </tr>\n",
       "    <tr>\n",
       "      <th>7</th>\n",
       "      <td>Ada Boost Classifier</td>\n",
       "      <td>1.000000</td>\n",
       "      <td>0.913043</td>\n",
       "      <td>1.000000</td>\n",
       "      <td>0.913373</td>\n",
       "      <td>0.049</td>\n",
       "    </tr>\n",
       "    <tr>\n",
       "      <th>8</th>\n",
       "      <td>Extreme Gradient Boosting</td>\n",
       "      <td>1.000000</td>\n",
       "      <td>0.869565</td>\n",
       "      <td>1.000000</td>\n",
       "      <td>0.870062</td>\n",
       "      <td>0.028</td>\n",
       "    </tr>\n",
       "    <tr>\n",
       "      <th>9</th>\n",
       "      <td>Naive Bayes</td>\n",
       "      <td>0.879121</td>\n",
       "      <td>0.782609</td>\n",
       "      <td>0.879033</td>\n",
       "      <td>0.780914</td>\n",
       "      <td>0.016</td>\n",
       "    </tr>\n",
       "    <tr>\n",
       "      <th>10</th>\n",
       "      <td>SVM - Linear Kernel</td>\n",
       "      <td>0.824176</td>\n",
       "      <td>0.608696</td>\n",
       "      <td>0.820384</td>\n",
       "      <td>0.575035</td>\n",
       "      <td>0.019</td>\n",
       "    </tr>\n",
       "    <tr>\n",
       "      <th>11</th>\n",
       "      <td>Light Gradient Boosting Machine</td>\n",
       "      <td>1.000000</td>\n",
       "      <td>0.826087</td>\n",
       "      <td>1.000000</td>\n",
       "      <td>0.826087</td>\n",
       "      <td>0.063</td>\n",
       "    </tr>\n",
       "    <tr>\n",
       "      <th>12</th>\n",
       "      <td>Decision Tree Classifier</td>\n",
       "      <td>1.000000</td>\n",
       "      <td>0.826087</td>\n",
       "      <td>1.000000</td>\n",
       "      <td>0.826746</td>\n",
       "      <td>0.023</td>\n",
       "    </tr>\n",
       "    <tr>\n",
       "      <th>13</th>\n",
       "      <td>Dummy Classifier</td>\n",
       "      <td>0.527473</td>\n",
       "      <td>0.434783</td>\n",
       "      <td>0.364298</td>\n",
       "      <td>0.263505</td>\n",
       "      <td>0.020</td>\n",
       "    </tr>\n",
       "  </tbody>\n",
       "</table>\n",
       "</div>"
      ],
      "text/plain": [
       "                              model  train_accuracy  test_accuracy  train_f1  \\\n",
       "0               Logistic Regression        1.000000       0.869565  1.000000   \n",
       "1                  Ridge Classifier        0.978022       0.869565  0.978038   \n",
       "2      Linear Discriminant Analysis        0.978022       0.869565  0.978038   \n",
       "3            Extra Trees Classifier        1.000000       0.869565  1.000000   \n",
       "4          Random Forest Classifier        1.000000       0.826087  1.000000   \n",
       "5      Gradient Boosting Classifier        1.000000       0.869565  1.000000   \n",
       "6            K Neighbors Classifier        0.934066       0.826087  0.934114   \n",
       "7              Ada Boost Classifier        1.000000       0.913043  1.000000   \n",
       "8         Extreme Gradient Boosting        1.000000       0.869565  1.000000   \n",
       "9                       Naive Bayes        0.879121       0.782609  0.879033   \n",
       "10              SVM - Linear Kernel        0.824176       0.608696  0.820384   \n",
       "11  Light Gradient Boosting Machine        1.000000       0.826087  1.000000   \n",
       "12         Decision Tree Classifier        1.000000       0.826087  1.000000   \n",
       "13                 Dummy Classifier        0.527473       0.434783  0.364298   \n",
       "\n",
       "     test_f1     TT  \n",
       "0   0.870062  0.031  \n",
       "1   0.868548  0.015  \n",
       "2   0.868548  0.015  \n",
       "3   0.870062  0.076  \n",
       "4   0.826087  0.089  \n",
       "5   0.869565  0.065  \n",
       "6   0.826087  0.030  \n",
       "7   0.913373  0.049  \n",
       "8   0.870062  0.028  \n",
       "9   0.780914  0.016  \n",
       "10  0.575035  0.019  \n",
       "11  0.826087  0.063  \n",
       "12  0.826746  0.023  \n",
       "13  0.263505  0.020  "
      ]
     },
     "execution_count": 30,
     "metadata": {},
     "output_type": "execute_result"
    }
   ],
   "source": [
    "invertedwinger_df"
   ]
  },
  {
   "cell_type": "markdown",
   "metadata": {},
   "source": [
    "## Goal Poacher"
   ]
  },
  {
   "cell_type": "code",
   "execution_count": 31,
   "metadata": {},
   "outputs": [
    {
     "data": {
      "text/html": [
       "<style type=\"text/css\">\n",
       "#T_e4bcd_row8_col1 {\n",
       "  background-color: lightgreen;\n",
       "}\n",
       "</style>\n",
       "<table id=\"T_e4bcd\">\n",
       "  <thead>\n",
       "    <tr>\n",
       "      <th class=\"blank level0\" >&nbsp;</th>\n",
       "      <th id=\"T_e4bcd_level0_col0\" class=\"col_heading level0 col0\" >Description</th>\n",
       "      <th id=\"T_e4bcd_level0_col1\" class=\"col_heading level0 col1\" >Value</th>\n",
       "    </tr>\n",
       "  </thead>\n",
       "  <tbody>\n",
       "    <tr>\n",
       "      <th id=\"T_e4bcd_level0_row0\" class=\"row_heading level0 row0\" >0</th>\n",
       "      <td id=\"T_e4bcd_row0_col0\" class=\"data row0 col0\" >Session id</td>\n",
       "      <td id=\"T_e4bcd_row0_col1\" class=\"data row0 col1\" >42</td>\n",
       "    </tr>\n",
       "    <tr>\n",
       "      <th id=\"T_e4bcd_level0_row1\" class=\"row_heading level0 row1\" >1</th>\n",
       "      <td id=\"T_e4bcd_row1_col0\" class=\"data row1 col0\" >Target</td>\n",
       "      <td id=\"T_e4bcd_row1_col1\" class=\"data row1 col1\" >Class_Goal Poacher</td>\n",
       "    </tr>\n",
       "    <tr>\n",
       "      <th id=\"T_e4bcd_level0_row2\" class=\"row_heading level0 row2\" >2</th>\n",
       "      <td id=\"T_e4bcd_row2_col0\" class=\"data row2 col0\" >Target type</td>\n",
       "      <td id=\"T_e4bcd_row2_col1\" class=\"data row2 col1\" >Binary</td>\n",
       "    </tr>\n",
       "    <tr>\n",
       "      <th id=\"T_e4bcd_level0_row3\" class=\"row_heading level0 row3\" >3</th>\n",
       "      <td id=\"T_e4bcd_row3_col0\" class=\"data row3 col0\" >Original data shape</td>\n",
       "      <td id=\"T_e4bcd_row3_col1\" class=\"data row3 col1\" >(91, 15)</td>\n",
       "    </tr>\n",
       "    <tr>\n",
       "      <th id=\"T_e4bcd_level0_row4\" class=\"row_heading level0 row4\" >4</th>\n",
       "      <td id=\"T_e4bcd_row4_col0\" class=\"data row4 col0\" >Transformed data shape</td>\n",
       "      <td id=\"T_e4bcd_row4_col1\" class=\"data row4 col1\" >(91, 15)</td>\n",
       "    </tr>\n",
       "    <tr>\n",
       "      <th id=\"T_e4bcd_level0_row5\" class=\"row_heading level0 row5\" >5</th>\n",
       "      <td id=\"T_e4bcd_row5_col0\" class=\"data row5 col0\" >Transformed train set shape</td>\n",
       "      <td id=\"T_e4bcd_row5_col1\" class=\"data row5 col1\" >(63, 15)</td>\n",
       "    </tr>\n",
       "    <tr>\n",
       "      <th id=\"T_e4bcd_level0_row6\" class=\"row_heading level0 row6\" >6</th>\n",
       "      <td id=\"T_e4bcd_row6_col0\" class=\"data row6 col0\" >Transformed test set shape</td>\n",
       "      <td id=\"T_e4bcd_row6_col1\" class=\"data row6 col1\" >(28, 15)</td>\n",
       "    </tr>\n",
       "    <tr>\n",
       "      <th id=\"T_e4bcd_level0_row7\" class=\"row_heading level0 row7\" >7</th>\n",
       "      <td id=\"T_e4bcd_row7_col0\" class=\"data row7 col0\" >Numeric features</td>\n",
       "      <td id=\"T_e4bcd_row7_col1\" class=\"data row7 col1\" >14</td>\n",
       "    </tr>\n",
       "    <tr>\n",
       "      <th id=\"T_e4bcd_level0_row8\" class=\"row_heading level0 row8\" >8</th>\n",
       "      <td id=\"T_e4bcd_row8_col0\" class=\"data row8 col0\" >Preprocess</td>\n",
       "      <td id=\"T_e4bcd_row8_col1\" class=\"data row8 col1\" >True</td>\n",
       "    </tr>\n",
       "    <tr>\n",
       "      <th id=\"T_e4bcd_level0_row9\" class=\"row_heading level0 row9\" >9</th>\n",
       "      <td id=\"T_e4bcd_row9_col0\" class=\"data row9 col0\" >Imputation type</td>\n",
       "      <td id=\"T_e4bcd_row9_col1\" class=\"data row9 col1\" >simple</td>\n",
       "    </tr>\n",
       "    <tr>\n",
       "      <th id=\"T_e4bcd_level0_row10\" class=\"row_heading level0 row10\" >10</th>\n",
       "      <td id=\"T_e4bcd_row10_col0\" class=\"data row10 col0\" >Numeric imputation</td>\n",
       "      <td id=\"T_e4bcd_row10_col1\" class=\"data row10 col1\" >mean</td>\n",
       "    </tr>\n",
       "    <tr>\n",
       "      <th id=\"T_e4bcd_level0_row11\" class=\"row_heading level0 row11\" >11</th>\n",
       "      <td id=\"T_e4bcd_row11_col0\" class=\"data row11 col0\" >Categorical imputation</td>\n",
       "      <td id=\"T_e4bcd_row11_col1\" class=\"data row11 col1\" >mode</td>\n",
       "    </tr>\n",
       "    <tr>\n",
       "      <th id=\"T_e4bcd_level0_row12\" class=\"row_heading level0 row12\" >12</th>\n",
       "      <td id=\"T_e4bcd_row12_col0\" class=\"data row12 col0\" >Fold Generator</td>\n",
       "      <td id=\"T_e4bcd_row12_col1\" class=\"data row12 col1\" >StratifiedKFold</td>\n",
       "    </tr>\n",
       "    <tr>\n",
       "      <th id=\"T_e4bcd_level0_row13\" class=\"row_heading level0 row13\" >13</th>\n",
       "      <td id=\"T_e4bcd_row13_col0\" class=\"data row13 col0\" >Fold Number</td>\n",
       "      <td id=\"T_e4bcd_row13_col1\" class=\"data row13 col1\" >10</td>\n",
       "    </tr>\n",
       "    <tr>\n",
       "      <th id=\"T_e4bcd_level0_row14\" class=\"row_heading level0 row14\" >14</th>\n",
       "      <td id=\"T_e4bcd_row14_col0\" class=\"data row14 col0\" >CPU Jobs</td>\n",
       "      <td id=\"T_e4bcd_row14_col1\" class=\"data row14 col1\" >-1</td>\n",
       "    </tr>\n",
       "    <tr>\n",
       "      <th id=\"T_e4bcd_level0_row15\" class=\"row_heading level0 row15\" >15</th>\n",
       "      <td id=\"T_e4bcd_row15_col0\" class=\"data row15 col0\" >Use GPU</td>\n",
       "      <td id=\"T_e4bcd_row15_col1\" class=\"data row15 col1\" >False</td>\n",
       "    </tr>\n",
       "    <tr>\n",
       "      <th id=\"T_e4bcd_level0_row16\" class=\"row_heading level0 row16\" >16</th>\n",
       "      <td id=\"T_e4bcd_row16_col0\" class=\"data row16 col0\" >Log Experiment</td>\n",
       "      <td id=\"T_e4bcd_row16_col1\" class=\"data row16 col1\" >False</td>\n",
       "    </tr>\n",
       "    <tr>\n",
       "      <th id=\"T_e4bcd_level0_row17\" class=\"row_heading level0 row17\" >17</th>\n",
       "      <td id=\"T_e4bcd_row17_col0\" class=\"data row17 col0\" >Experiment Name</td>\n",
       "      <td id=\"T_e4bcd_row17_col1\" class=\"data row17 col1\" >clf-default-name</td>\n",
       "    </tr>\n",
       "    <tr>\n",
       "      <th id=\"T_e4bcd_level0_row18\" class=\"row_heading level0 row18\" >18</th>\n",
       "      <td id=\"T_e4bcd_row18_col0\" class=\"data row18 col0\" >USI</td>\n",
       "      <td id=\"T_e4bcd_row18_col1\" class=\"data row18 col1\" >72ab</td>\n",
       "    </tr>\n",
       "  </tbody>\n",
       "</table>\n"
      ],
      "text/plain": [
       "<pandas.io.formats.style.Styler at 0x27fed01f850>"
      ]
     },
     "metadata": {},
     "output_type": "display_data"
    },
    {
     "data": {
      "text/html": [],
      "text/plain": [
       "<IPython.core.display.HTML object>"
      ]
     },
     "metadata": {},
     "output_type": "display_data"
    },
    {
     "data": {
      "text/html": [
       "<style type=\"text/css\">\n",
       "#T_c71fc th {\n",
       "  text-align: left;\n",
       "}\n",
       "#T_c71fc_row0_col0, #T_c71fc_row0_col2, #T_c71fc_row0_col4, #T_c71fc_row1_col0, #T_c71fc_row1_col3, #T_c71fc_row1_col5, #T_c71fc_row1_col6, #T_c71fc_row1_col7, #T_c71fc_row2_col0, #T_c71fc_row2_col1, #T_c71fc_row2_col2, #T_c71fc_row2_col3, #T_c71fc_row2_col4, #T_c71fc_row2_col6, #T_c71fc_row2_col7, #T_c71fc_row3_col0, #T_c71fc_row3_col1, #T_c71fc_row3_col2, #T_c71fc_row3_col3, #T_c71fc_row3_col4, #T_c71fc_row3_col5, #T_c71fc_row3_col6, #T_c71fc_row3_col7, #T_c71fc_row4_col0, #T_c71fc_row4_col1, #T_c71fc_row4_col2, #T_c71fc_row4_col3, #T_c71fc_row4_col4, #T_c71fc_row4_col5, #T_c71fc_row4_col6, #T_c71fc_row4_col7, #T_c71fc_row5_col0, #T_c71fc_row5_col1, #T_c71fc_row5_col2, #T_c71fc_row5_col3, #T_c71fc_row5_col4, #T_c71fc_row5_col5, #T_c71fc_row5_col6, #T_c71fc_row5_col7, #T_c71fc_row6_col0, #T_c71fc_row6_col1, #T_c71fc_row6_col2, #T_c71fc_row6_col3, #T_c71fc_row6_col4, #T_c71fc_row6_col5, #T_c71fc_row6_col6, #T_c71fc_row6_col7, #T_c71fc_row7_col0, #T_c71fc_row7_col1, #T_c71fc_row7_col2, #T_c71fc_row7_col3, #T_c71fc_row7_col4, #T_c71fc_row7_col5, #T_c71fc_row7_col6, #T_c71fc_row7_col7, #T_c71fc_row8_col0, #T_c71fc_row8_col1, #T_c71fc_row8_col2, #T_c71fc_row8_col3, #T_c71fc_row8_col4, #T_c71fc_row8_col5, #T_c71fc_row8_col6, #T_c71fc_row8_col7, #T_c71fc_row9_col0, #T_c71fc_row9_col1, #T_c71fc_row9_col2, #T_c71fc_row9_col3, #T_c71fc_row9_col4, #T_c71fc_row9_col5, #T_c71fc_row9_col6, #T_c71fc_row9_col7, #T_c71fc_row10_col0, #T_c71fc_row10_col1, #T_c71fc_row10_col2, #T_c71fc_row10_col3, #T_c71fc_row10_col4, #T_c71fc_row10_col5, #T_c71fc_row10_col6, #T_c71fc_row10_col7, #T_c71fc_row11_col0, #T_c71fc_row11_col1, #T_c71fc_row11_col2, #T_c71fc_row11_col3, #T_c71fc_row11_col4, #T_c71fc_row11_col5, #T_c71fc_row11_col6, #T_c71fc_row11_col7, #T_c71fc_row12_col0, #T_c71fc_row12_col1, #T_c71fc_row12_col2, #T_c71fc_row12_col3, #T_c71fc_row12_col4, #T_c71fc_row12_col5, #T_c71fc_row12_col6, #T_c71fc_row12_col7, #T_c71fc_row13_col0, #T_c71fc_row13_col1, #T_c71fc_row13_col2, #T_c71fc_row13_col3, #T_c71fc_row13_col4, #T_c71fc_row13_col5, #T_c71fc_row13_col6, #T_c71fc_row13_col7, #T_c71fc_row14_col0, #T_c71fc_row14_col1, #T_c71fc_row14_col2, #T_c71fc_row14_col3, #T_c71fc_row14_col4, #T_c71fc_row14_col5, #T_c71fc_row14_col6, #T_c71fc_row14_col7 {\n",
       "  text-align: left;\n",
       "}\n",
       "#T_c71fc_row0_col1, #T_c71fc_row0_col3, #T_c71fc_row0_col5, #T_c71fc_row0_col6, #T_c71fc_row0_col7, #T_c71fc_row1_col1, #T_c71fc_row1_col2, #T_c71fc_row1_col4, #T_c71fc_row2_col5 {\n",
       "  text-align: left;\n",
       "  background-color: yellow;\n",
       "}\n",
       "#T_c71fc_row0_col8, #T_c71fc_row1_col8, #T_c71fc_row2_col8, #T_c71fc_row4_col8, #T_c71fc_row5_col8, #T_c71fc_row6_col8, #T_c71fc_row7_col8, #T_c71fc_row8_col8, #T_c71fc_row9_col8, #T_c71fc_row10_col8, #T_c71fc_row11_col8, #T_c71fc_row13_col8, #T_c71fc_row14_col8 {\n",
       "  text-align: left;\n",
       "  background-color: lightgrey;\n",
       "}\n",
       "#T_c71fc_row3_col8, #T_c71fc_row12_col8 {\n",
       "  text-align: left;\n",
       "  background-color: yellow;\n",
       "  background-color: lightgrey;\n",
       "}\n",
       "</style>\n",
       "<table id=\"T_c71fc\">\n",
       "  <thead>\n",
       "    <tr>\n",
       "      <th class=\"blank level0\" >&nbsp;</th>\n",
       "      <th id=\"T_c71fc_level0_col0\" class=\"col_heading level0 col0\" >Model</th>\n",
       "      <th id=\"T_c71fc_level0_col1\" class=\"col_heading level0 col1\" >Accuracy</th>\n",
       "      <th id=\"T_c71fc_level0_col2\" class=\"col_heading level0 col2\" >AUC</th>\n",
       "      <th id=\"T_c71fc_level0_col3\" class=\"col_heading level0 col3\" >Recall</th>\n",
       "      <th id=\"T_c71fc_level0_col4\" class=\"col_heading level0 col4\" >Prec.</th>\n",
       "      <th id=\"T_c71fc_level0_col5\" class=\"col_heading level0 col5\" >F1</th>\n",
       "      <th id=\"T_c71fc_level0_col6\" class=\"col_heading level0 col6\" >Kappa</th>\n",
       "      <th id=\"T_c71fc_level0_col7\" class=\"col_heading level0 col7\" >MCC</th>\n",
       "      <th id=\"T_c71fc_level0_col8\" class=\"col_heading level0 col8\" >TT (Sec)</th>\n",
       "    </tr>\n",
       "  </thead>\n",
       "  <tbody>\n",
       "    <tr>\n",
       "      <th id=\"T_c71fc_level0_row0\" class=\"row_heading level0 row0\" >knn</th>\n",
       "      <td id=\"T_c71fc_row0_col0\" class=\"data row0 col0\" >K Neighbors Classifier</td>\n",
       "      <td id=\"T_c71fc_row0_col1\" class=\"data row0 col1\" >0.8905</td>\n",
       "      <td id=\"T_c71fc_row0_col2\" class=\"data row0 col2\" >0.9346</td>\n",
       "      <td id=\"T_c71fc_row0_col3\" class=\"data row0 col3\" >0.7833</td>\n",
       "      <td id=\"T_c71fc_row0_col4\" class=\"data row0 col4\" >0.8333</td>\n",
       "      <td id=\"T_c71fc_row0_col5\" class=\"data row0 col5\" >0.7767</td>\n",
       "      <td id=\"T_c71fc_row0_col6\" class=\"data row0 col6\" >0.7285</td>\n",
       "      <td id=\"T_c71fc_row0_col7\" class=\"data row0 col7\" >0.7531</td>\n",
       "      <td id=\"T_c71fc_row0_col8\" class=\"data row0 col8\" >0.0310</td>\n",
       "    </tr>\n",
       "    <tr>\n",
       "      <th id=\"T_c71fc_level0_row1\" class=\"row_heading level0 row1\" >et</th>\n",
       "      <td id=\"T_c71fc_row1_col0\" class=\"data row1 col0\" >Extra Trees Classifier</td>\n",
       "      <td id=\"T_c71fc_row1_col1\" class=\"data row1 col1\" >0.8905</td>\n",
       "      <td id=\"T_c71fc_row1_col2\" class=\"data row1 col2\" >0.9383</td>\n",
       "      <td id=\"T_c71fc_row1_col3\" class=\"data row1 col3\" >0.7333</td>\n",
       "      <td id=\"T_c71fc_row1_col4\" class=\"data row1 col4\" >0.8667</td>\n",
       "      <td id=\"T_c71fc_row1_col5\" class=\"data row1 col5\" >0.7733</td>\n",
       "      <td id=\"T_c71fc_row1_col6\" class=\"data row1 col6\" >0.7218</td>\n",
       "      <td id=\"T_c71fc_row1_col7\" class=\"data row1 col7\" >0.7446</td>\n",
       "      <td id=\"T_c71fc_row1_col8\" class=\"data row1 col8\" >0.1070</td>\n",
       "    </tr>\n",
       "    <tr>\n",
       "      <th id=\"T_c71fc_level0_row2\" class=\"row_heading level0 row2\" >lr</th>\n",
       "      <td id=\"T_c71fc_row2_col0\" class=\"data row2 col0\" >Logistic Regression</td>\n",
       "      <td id=\"T_c71fc_row2_col1\" class=\"data row2 col1\" >0.8571</td>\n",
       "      <td id=\"T_c71fc_row2_col2\" class=\"data row2 col2\" >0.9358</td>\n",
       "      <td id=\"T_c71fc_row2_col3\" class=\"data row2 col3\" >0.7667</td>\n",
       "      <td id=\"T_c71fc_row2_col4\" class=\"data row2 col4\" >0.8167</td>\n",
       "      <td id=\"T_c71fc_row2_col5\" class=\"data row2 col5\" >0.7767</td>\n",
       "      <td id=\"T_c71fc_row2_col6\" class=\"data row2 col6\" >0.6734</td>\n",
       "      <td id=\"T_c71fc_row2_col7\" class=\"data row2 col7\" >0.6870</td>\n",
       "      <td id=\"T_c71fc_row2_col8\" class=\"data row2 col8\" >0.0380</td>\n",
       "    </tr>\n",
       "    <tr>\n",
       "      <th id=\"T_c71fc_level0_row3\" class=\"row_heading level0 row3\" >ridge</th>\n",
       "      <td id=\"T_c71fc_row3_col0\" class=\"data row3 col0\" >Ridge Classifier</td>\n",
       "      <td id=\"T_c71fc_row3_col1\" class=\"data row3 col1\" >0.8571</td>\n",
       "      <td id=\"T_c71fc_row3_col2\" class=\"data row3 col2\" >0.9167</td>\n",
       "      <td id=\"T_c71fc_row3_col3\" class=\"data row3 col3\" >0.7167</td>\n",
       "      <td id=\"T_c71fc_row3_col4\" class=\"data row3 col4\" >0.7833</td>\n",
       "      <td id=\"T_c71fc_row3_col5\" class=\"data row3 col5\" >0.7300</td>\n",
       "      <td id=\"T_c71fc_row3_col6\" class=\"data row3 col6\" >0.6493</td>\n",
       "      <td id=\"T_c71fc_row3_col7\" class=\"data row3 col7\" >0.6652</td>\n",
       "      <td id=\"T_c71fc_row3_col8\" class=\"data row3 col8\" >0.0160</td>\n",
       "    </tr>\n",
       "    <tr>\n",
       "      <th id=\"T_c71fc_level0_row4\" class=\"row_heading level0 row4\" >lda</th>\n",
       "      <td id=\"T_c71fc_row4_col0\" class=\"data row4 col0\" >Linear Discriminant Analysis</td>\n",
       "      <td id=\"T_c71fc_row4_col1\" class=\"data row4 col1\" >0.8571</td>\n",
       "      <td id=\"T_c71fc_row4_col2\" class=\"data row4 col2\" >0.9167</td>\n",
       "      <td id=\"T_c71fc_row4_col3\" class=\"data row4 col3\" >0.7167</td>\n",
       "      <td id=\"T_c71fc_row4_col4\" class=\"data row4 col4\" >0.7833</td>\n",
       "      <td id=\"T_c71fc_row4_col5\" class=\"data row4 col5\" >0.7300</td>\n",
       "      <td id=\"T_c71fc_row4_col6\" class=\"data row4 col6\" >0.6493</td>\n",
       "      <td id=\"T_c71fc_row4_col7\" class=\"data row4 col7\" >0.6652</td>\n",
       "      <td id=\"T_c71fc_row4_col8\" class=\"data row4 col8\" >0.0190</td>\n",
       "    </tr>\n",
       "    <tr>\n",
       "      <th id=\"T_c71fc_level0_row5\" class=\"row_heading level0 row5\" >qda</th>\n",
       "      <td id=\"T_c71fc_row5_col0\" class=\"data row5 col0\" >Quadratic Discriminant Analysis</td>\n",
       "      <td id=\"T_c71fc_row5_col1\" class=\"data row5 col1\" >0.8286</td>\n",
       "      <td id=\"T_c71fc_row5_col2\" class=\"data row5 col2\" >0.8333</td>\n",
       "      <td id=\"T_c71fc_row5_col3\" class=\"data row5 col3\" >0.5833</td>\n",
       "      <td id=\"T_c71fc_row5_col4\" class=\"data row5 col4\" >0.7500</td>\n",
       "      <td id=\"T_c71fc_row5_col5\" class=\"data row5 col5\" >0.6371</td>\n",
       "      <td id=\"T_c71fc_row5_col6\" class=\"data row5 col6\" >0.5587</td>\n",
       "      <td id=\"T_c71fc_row5_col7\" class=\"data row5 col7\" >0.5807</td>\n",
       "      <td id=\"T_c71fc_row5_col8\" class=\"data row5 col8\" >0.0220</td>\n",
       "    </tr>\n",
       "    <tr>\n",
       "      <th id=\"T_c71fc_level0_row6\" class=\"row_heading level0 row6\" >rf</th>\n",
       "      <td id=\"T_c71fc_row6_col0\" class=\"data row6 col0\" >Random Forest Classifier</td>\n",
       "      <td id=\"T_c71fc_row6_col1\" class=\"data row6 col1\" >0.8071</td>\n",
       "      <td id=\"T_c71fc_row6_col2\" class=\"data row6 col2\" >0.9058</td>\n",
       "      <td id=\"T_c71fc_row6_col3\" class=\"data row6 col3\" >0.6167</td>\n",
       "      <td id=\"T_c71fc_row6_col4\" class=\"data row6 col4\" >0.7583</td>\n",
       "      <td id=\"T_c71fc_row6_col5\" class=\"data row6 col5\" >0.6557</td>\n",
       "      <td id=\"T_c71fc_row6_col6\" class=\"data row6 col6\" >0.5397</td>\n",
       "      <td id=\"T_c71fc_row6_col7\" class=\"data row6 col7\" >0.5641</td>\n",
       "      <td id=\"T_c71fc_row6_col8\" class=\"data row6 col8\" >0.0860</td>\n",
       "    </tr>\n",
       "    <tr>\n",
       "      <th id=\"T_c71fc_level0_row7\" class=\"row_heading level0 row7\" >svm</th>\n",
       "      <td id=\"T_c71fc_row7_col0\" class=\"data row7 col0\" >SVM - Linear Kernel</td>\n",
       "      <td id=\"T_c71fc_row7_col1\" class=\"data row7 col1\" >0.7952</td>\n",
       "      <td id=\"T_c71fc_row7_col2\" class=\"data row7 col2\" >0.8742</td>\n",
       "      <td id=\"T_c71fc_row7_col3\" class=\"data row7 col3\" >0.6500</td>\n",
       "      <td id=\"T_c71fc_row7_col4\" class=\"data row7 col4\" >0.6817</td>\n",
       "      <td id=\"T_c71fc_row7_col5\" class=\"data row7 col5\" >0.6229</td>\n",
       "      <td id=\"T_c71fc_row7_col6\" class=\"data row7 col6\" >0.5300</td>\n",
       "      <td id=\"T_c71fc_row7_col7\" class=\"data row7 col7\" >0.5684</td>\n",
       "      <td id=\"T_c71fc_row7_col8\" class=\"data row7 col8\" >0.0170</td>\n",
       "    </tr>\n",
       "    <tr>\n",
       "      <th id=\"T_c71fc_level0_row8\" class=\"row_heading level0 row8\" >ada</th>\n",
       "      <td id=\"T_c71fc_row8_col0\" class=\"data row8 col0\" >Ada Boost Classifier</td>\n",
       "      <td id=\"T_c71fc_row8_col1\" class=\"data row8 col1\" >0.7762</td>\n",
       "      <td id=\"T_c71fc_row8_col2\" class=\"data row8 col2\" >0.8667</td>\n",
       "      <td id=\"T_c71fc_row8_col3\" class=\"data row8 col3\" >0.7167</td>\n",
       "      <td id=\"T_c71fc_row8_col4\" class=\"data row8 col4\" >0.6083</td>\n",
       "      <td id=\"T_c71fc_row8_col5\" class=\"data row8 col5\" >0.6424</td>\n",
       "      <td id=\"T_c71fc_row8_col6\" class=\"data row8 col6\" >0.4949</td>\n",
       "      <td id=\"T_c71fc_row8_col7\" class=\"data row8 col7\" >0.5195</td>\n",
       "      <td id=\"T_c71fc_row8_col8\" class=\"data row8 col8\" >0.0670</td>\n",
       "    </tr>\n",
       "    <tr>\n",
       "      <th id=\"T_c71fc_level0_row9\" class=\"row_heading level0 row9\" >xgboost</th>\n",
       "      <td id=\"T_c71fc_row9_col0\" class=\"data row9 col0\" >Extreme Gradient Boosting</td>\n",
       "      <td id=\"T_c71fc_row9_col1\" class=\"data row9 col1\" >0.7500</td>\n",
       "      <td id=\"T_c71fc_row9_col2\" class=\"data row9 col2\" >0.8550</td>\n",
       "      <td id=\"T_c71fc_row9_col3\" class=\"data row9 col3\" >0.6333</td>\n",
       "      <td id=\"T_c71fc_row9_col4\" class=\"data row9 col4\" >0.6250</td>\n",
       "      <td id=\"T_c71fc_row9_col5\" class=\"data row9 col5\" >0.6090</td>\n",
       "      <td id=\"T_c71fc_row9_col6\" class=\"data row9 col6\" >0.4293</td>\n",
       "      <td id=\"T_c71fc_row9_col7\" class=\"data row9 col7\" >0.4466</td>\n",
       "      <td id=\"T_c71fc_row9_col8\" class=\"data row9 col8\" >0.0340</td>\n",
       "    </tr>\n",
       "    <tr>\n",
       "      <th id=\"T_c71fc_level0_row10\" class=\"row_heading level0 row10\" >gbc</th>\n",
       "      <td id=\"T_c71fc_row10_col0\" class=\"data row10 col0\" >Gradient Boosting Classifier</td>\n",
       "      <td id=\"T_c71fc_row10_col1\" class=\"data row10 col1\" >0.7452</td>\n",
       "      <td id=\"T_c71fc_row10_col2\" class=\"data row10 col2\" >0.8717</td>\n",
       "      <td id=\"T_c71fc_row10_col3\" class=\"data row10 col3\" >0.7167</td>\n",
       "      <td id=\"T_c71fc_row10_col4\" class=\"data row10 col4\" >0.5917</td>\n",
       "      <td id=\"T_c71fc_row10_col5\" class=\"data row10 col5\" >0.6390</td>\n",
       "      <td id=\"T_c71fc_row10_col6\" class=\"data row10 col6\" >0.4468</td>\n",
       "      <td id=\"T_c71fc_row10_col7\" class=\"data row10 col7\" >0.4608</td>\n",
       "      <td id=\"T_c71fc_row10_col8\" class=\"data row10 col8\" >0.0700</td>\n",
       "    </tr>\n",
       "    <tr>\n",
       "      <th id=\"T_c71fc_level0_row11\" class=\"row_heading level0 row11\" >lightgbm</th>\n",
       "      <td id=\"T_c71fc_row11_col0\" class=\"data row11 col0\" >Light Gradient Boosting Machine</td>\n",
       "      <td id=\"T_c71fc_row11_col1\" class=\"data row11 col1\" >0.7452</td>\n",
       "      <td id=\"T_c71fc_row11_col2\" class=\"data row11 col2\" >0.7808</td>\n",
       "      <td id=\"T_c71fc_row11_col3\" class=\"data row11 col3\" >0.5333</td>\n",
       "      <td id=\"T_c71fc_row11_col4\" class=\"data row11 col4\" >0.7000</td>\n",
       "      <td id=\"T_c71fc_row11_col5\" class=\"data row11 col5\" >0.5700</td>\n",
       "      <td id=\"T_c71fc_row11_col6\" class=\"data row11 col6\" >0.4009</td>\n",
       "      <td id=\"T_c71fc_row11_col7\" class=\"data row11 col7\" >0.4318</td>\n",
       "      <td id=\"T_c71fc_row11_col8\" class=\"data row11 col8\" >0.0570</td>\n",
       "    </tr>\n",
       "    <tr>\n",
       "      <th id=\"T_c71fc_level0_row12\" class=\"row_heading level0 row12\" >nb</th>\n",
       "      <td id=\"T_c71fc_row12_col0\" class=\"data row12 col0\" >Naive Bayes</td>\n",
       "      <td id=\"T_c71fc_row12_col1\" class=\"data row12 col1\" >0.7310</td>\n",
       "      <td id=\"T_c71fc_row12_col2\" class=\"data row12 col2\" >0.8633</td>\n",
       "      <td id=\"T_c71fc_row12_col3\" class=\"data row12 col3\" >0.7000</td>\n",
       "      <td id=\"T_c71fc_row12_col4\" class=\"data row12 col4\" >0.6733</td>\n",
       "      <td id=\"T_c71fc_row12_col5\" class=\"data row12 col5\" >0.6371</td>\n",
       "      <td id=\"T_c71fc_row12_col6\" class=\"data row12 col6\" >0.4400</td>\n",
       "      <td id=\"T_c71fc_row12_col7\" class=\"data row12 col7\" >0.4844</td>\n",
       "      <td id=\"T_c71fc_row12_col8\" class=\"data row12 col8\" >0.0160</td>\n",
       "    </tr>\n",
       "    <tr>\n",
       "      <th id=\"T_c71fc_level0_row13\" class=\"row_heading level0 row13\" >dt</th>\n",
       "      <td id=\"T_c71fc_row13_col0\" class=\"data row13 col0\" >Decision Tree Classifier</td>\n",
       "      <td id=\"T_c71fc_row13_col1\" class=\"data row13 col1\" >0.6833</td>\n",
       "      <td id=\"T_c71fc_row13_col2\" class=\"data row13 col2\" >0.6658</td>\n",
       "      <td id=\"T_c71fc_row13_col3\" class=\"data row13 col3\" >0.6167</td>\n",
       "      <td id=\"T_c71fc_row13_col4\" class=\"data row13 col4\" >0.5833</td>\n",
       "      <td id=\"T_c71fc_row13_col5\" class=\"data row13 col5\" >0.5657</td>\n",
       "      <td id=\"T_c71fc_row13_col6\" class=\"data row13 col6\" >0.3317</td>\n",
       "      <td id=\"T_c71fc_row13_col7\" class=\"data row13 col7\" >0.3524</td>\n",
       "      <td id=\"T_c71fc_row13_col8\" class=\"data row13 col8\" >0.0190</td>\n",
       "    </tr>\n",
       "    <tr>\n",
       "      <th id=\"T_c71fc_level0_row14\" class=\"row_heading level0 row14\" >dummy</th>\n",
       "      <td id=\"T_c71fc_row14_col0\" class=\"data row14 col0\" >Dummy Classifier</td>\n",
       "      <td id=\"T_c71fc_row14_col1\" class=\"data row14 col1\" >0.6524</td>\n",
       "      <td id=\"T_c71fc_row14_col2\" class=\"data row14 col2\" >0.5000</td>\n",
       "      <td id=\"T_c71fc_row14_col3\" class=\"data row14 col3\" >0.0000</td>\n",
       "      <td id=\"T_c71fc_row14_col4\" class=\"data row14 col4\" >0.0000</td>\n",
       "      <td id=\"T_c71fc_row14_col5\" class=\"data row14 col5\" >0.0000</td>\n",
       "      <td id=\"T_c71fc_row14_col6\" class=\"data row14 col6\" >0.0000</td>\n",
       "      <td id=\"T_c71fc_row14_col7\" class=\"data row14 col7\" >0.0000</td>\n",
       "      <td id=\"T_c71fc_row14_col8\" class=\"data row14 col8\" >0.0190</td>\n",
       "    </tr>\n",
       "  </tbody>\n",
       "</table>\n"
      ],
      "text/plain": [
       "<pandas.io.formats.style.Styler at 0x27fe5699850>"
      ]
     },
     "metadata": {},
     "output_type": "display_data"
    },
    {
     "data": {
      "application/vnd.jupyter.widget-view+json": {
       "model_id": "d40f3e5303c847f3b187539964dfbed5",
       "version_major": 2,
       "version_minor": 0
      },
      "text/plain": [
       "Processing:   0%|          | 0/65 [00:00<?, ?it/s]"
      ]
     },
     "metadata": {},
     "output_type": "display_data"
    },
    {
     "data": {
      "text/html": [],
      "text/plain": [
       "<IPython.core.display.HTML object>"
      ]
     },
     "metadata": {},
     "output_type": "display_data"
    },
    {
     "data": {
      "text/html": [
       "<style type=\"text/css\">\n",
       "#T_61b3e th {\n",
       "  text-align: left;\n",
       "}\n",
       "#T_61b3e_row0_col0 {\n",
       "  text-align: left;\n",
       "}\n",
       "#T_61b3e_row0_col1, #T_61b3e_row0_col2, #T_61b3e_row0_col3, #T_61b3e_row0_col4, #T_61b3e_row0_col5, #T_61b3e_row0_col6, #T_61b3e_row0_col7 {\n",
       "  text-align: left;\n",
       "  background-color: yellow;\n",
       "}\n",
       "#T_61b3e_row0_col8 {\n",
       "  text-align: left;\n",
       "  background-color: yellow;\n",
       "  background-color: lightgrey;\n",
       "}\n",
       "</style>\n",
       "<table id=\"T_61b3e\">\n",
       "  <thead>\n",
       "    <tr>\n",
       "      <th class=\"blank level0\" >&nbsp;</th>\n",
       "      <th id=\"T_61b3e_level0_col0\" class=\"col_heading level0 col0\" >Model</th>\n",
       "      <th id=\"T_61b3e_level0_col1\" class=\"col_heading level0 col1\" >Accuracy</th>\n",
       "      <th id=\"T_61b3e_level0_col2\" class=\"col_heading level0 col2\" >AUC</th>\n",
       "      <th id=\"T_61b3e_level0_col3\" class=\"col_heading level0 col3\" >Recall</th>\n",
       "      <th id=\"T_61b3e_level0_col4\" class=\"col_heading level0 col4\" >Prec.</th>\n",
       "      <th id=\"T_61b3e_level0_col5\" class=\"col_heading level0 col5\" >F1</th>\n",
       "      <th id=\"T_61b3e_level0_col6\" class=\"col_heading level0 col6\" >Kappa</th>\n",
       "      <th id=\"T_61b3e_level0_col7\" class=\"col_heading level0 col7\" >MCC</th>\n",
       "      <th id=\"T_61b3e_level0_col8\" class=\"col_heading level0 col8\" >TT (Sec)</th>\n",
       "    </tr>\n",
       "  </thead>\n",
       "  <tbody>\n",
       "    <tr>\n",
       "      <th id=\"T_61b3e_level0_row0\" class=\"row_heading level0 row0\" >knn</th>\n",
       "      <td id=\"T_61b3e_row0_col0\" class=\"data row0 col0\" >K Neighbors Classifier</td>\n",
       "      <td id=\"T_61b3e_row0_col1\" class=\"data row0 col1\" >0.8905</td>\n",
       "      <td id=\"T_61b3e_row0_col2\" class=\"data row0 col2\" >0.9346</td>\n",
       "      <td id=\"T_61b3e_row0_col3\" class=\"data row0 col3\" >0.7833</td>\n",
       "      <td id=\"T_61b3e_row0_col4\" class=\"data row0 col4\" >0.8333</td>\n",
       "      <td id=\"T_61b3e_row0_col5\" class=\"data row0 col5\" >0.7767</td>\n",
       "      <td id=\"T_61b3e_row0_col6\" class=\"data row0 col6\" >0.7285</td>\n",
       "      <td id=\"T_61b3e_row0_col7\" class=\"data row0 col7\" >0.7531</td>\n",
       "      <td id=\"T_61b3e_row0_col8\" class=\"data row0 col8\" >0.0290</td>\n",
       "    </tr>\n",
       "  </tbody>\n",
       "</table>\n"
      ],
      "text/plain": [
       "<pandas.io.formats.style.Styler at 0x27fe55e7e50>"
      ]
     },
     "metadata": {},
     "output_type": "display_data"
    },
    {
     "data": {
      "application/vnd.jupyter.widget-view+json": {
       "model_id": "d5d55cd152c64980845820350716f0cf",
       "version_major": 2,
       "version_minor": 0
      },
      "text/plain": [
       "Processing:   0%|          | 0/9 [00:00<?, ?it/s]"
      ]
     },
     "metadata": {},
     "output_type": "display_data"
    },
    {
     "data": {
      "text/html": [],
      "text/plain": [
       "<IPython.core.display.HTML object>"
      ]
     },
     "metadata": {},
     "output_type": "display_data"
    },
    {
     "data": {
      "text/html": [],
      "text/plain": [
       "<IPython.core.display.HTML object>"
      ]
     },
     "metadata": {},
     "output_type": "display_data"
    },
    {
     "data": {
      "text/html": [],
      "text/plain": [
       "<IPython.core.display.HTML object>"
      ]
     },
     "metadata": {},
     "output_type": "display_data"
    },
    {
     "data": {
      "text/html": [
       "<style type=\"text/css\">\n",
       "#T_1ed3b th {\n",
       "  text-align: left;\n",
       "}\n",
       "#T_1ed3b_row0_col0 {\n",
       "  text-align: left;\n",
       "}\n",
       "#T_1ed3b_row0_col1, #T_1ed3b_row0_col2, #T_1ed3b_row0_col3, #T_1ed3b_row0_col4, #T_1ed3b_row0_col5, #T_1ed3b_row0_col6, #T_1ed3b_row0_col7 {\n",
       "  text-align: left;\n",
       "  background-color: yellow;\n",
       "}\n",
       "#T_1ed3b_row0_col8 {\n",
       "  text-align: left;\n",
       "  background-color: yellow;\n",
       "  background-color: lightgrey;\n",
       "}\n",
       "</style>\n",
       "<table id=\"T_1ed3b\">\n",
       "  <thead>\n",
       "    <tr>\n",
       "      <th class=\"blank level0\" >&nbsp;</th>\n",
       "      <th id=\"T_1ed3b_level0_col0\" class=\"col_heading level0 col0\" >Model</th>\n",
       "      <th id=\"T_1ed3b_level0_col1\" class=\"col_heading level0 col1\" >Accuracy</th>\n",
       "      <th id=\"T_1ed3b_level0_col2\" class=\"col_heading level0 col2\" >AUC</th>\n",
       "      <th id=\"T_1ed3b_level0_col3\" class=\"col_heading level0 col3\" >Recall</th>\n",
       "      <th id=\"T_1ed3b_level0_col4\" class=\"col_heading level0 col4\" >Prec.</th>\n",
       "      <th id=\"T_1ed3b_level0_col5\" class=\"col_heading level0 col5\" >F1</th>\n",
       "      <th id=\"T_1ed3b_level0_col6\" class=\"col_heading level0 col6\" >Kappa</th>\n",
       "      <th id=\"T_1ed3b_level0_col7\" class=\"col_heading level0 col7\" >MCC</th>\n",
       "      <th id=\"T_1ed3b_level0_col8\" class=\"col_heading level0 col8\" >TT (Sec)</th>\n",
       "    </tr>\n",
       "  </thead>\n",
       "  <tbody>\n",
       "    <tr>\n",
       "      <th id=\"T_1ed3b_level0_row0\" class=\"row_heading level0 row0\" >et</th>\n",
       "      <td id=\"T_1ed3b_row0_col0\" class=\"data row0 col0\" >Extra Trees Classifier</td>\n",
       "      <td id=\"T_1ed3b_row0_col1\" class=\"data row0 col1\" >0.8905</td>\n",
       "      <td id=\"T_1ed3b_row0_col2\" class=\"data row0 col2\" >0.9383</td>\n",
       "      <td id=\"T_1ed3b_row0_col3\" class=\"data row0 col3\" >0.7333</td>\n",
       "      <td id=\"T_1ed3b_row0_col4\" class=\"data row0 col4\" >0.8667</td>\n",
       "      <td id=\"T_1ed3b_row0_col5\" class=\"data row0 col5\" >0.7733</td>\n",
       "      <td id=\"T_1ed3b_row0_col6\" class=\"data row0 col6\" >0.7218</td>\n",
       "      <td id=\"T_1ed3b_row0_col7\" class=\"data row0 col7\" >0.7446</td>\n",
       "      <td id=\"T_1ed3b_row0_col8\" class=\"data row0 col8\" >0.1020</td>\n",
       "    </tr>\n",
       "  </tbody>\n",
       "</table>\n"
      ],
      "text/plain": [
       "<pandas.io.formats.style.Styler at 0x27fe56add10>"
      ]
     },
     "metadata": {},
     "output_type": "display_data"
    },
    {
     "data": {
      "application/vnd.jupyter.widget-view+json": {
       "model_id": "855f7c30cff7435e99751a89b8d115f5",
       "version_major": 2,
       "version_minor": 0
      },
      "text/plain": [
       "Processing:   0%|          | 0/9 [00:00<?, ?it/s]"
      ]
     },
     "metadata": {},
     "output_type": "display_data"
    },
    {
     "data": {
      "text/html": [],
      "text/plain": [
       "<IPython.core.display.HTML object>"
      ]
     },
     "metadata": {},
     "output_type": "display_data"
    },
    {
     "data": {
      "text/html": [],
      "text/plain": [
       "<IPython.core.display.HTML object>"
      ]
     },
     "metadata": {},
     "output_type": "display_data"
    },
    {
     "data": {
      "text/html": [],
      "text/plain": [
       "<IPython.core.display.HTML object>"
      ]
     },
     "metadata": {},
     "output_type": "display_data"
    },
    {
     "data": {
      "text/html": [
       "<style type=\"text/css\">\n",
       "#T_72101 th {\n",
       "  text-align: left;\n",
       "}\n",
       "#T_72101_row0_col0 {\n",
       "  text-align: left;\n",
       "}\n",
       "#T_72101_row0_col1, #T_72101_row0_col2, #T_72101_row0_col3, #T_72101_row0_col4, #T_72101_row0_col5, #T_72101_row0_col6, #T_72101_row0_col7 {\n",
       "  text-align: left;\n",
       "  background-color: yellow;\n",
       "}\n",
       "#T_72101_row0_col8 {\n",
       "  text-align: left;\n",
       "  background-color: yellow;\n",
       "  background-color: lightgrey;\n",
       "}\n",
       "</style>\n",
       "<table id=\"T_72101\">\n",
       "  <thead>\n",
       "    <tr>\n",
       "      <th class=\"blank level0\" >&nbsp;</th>\n",
       "      <th id=\"T_72101_level0_col0\" class=\"col_heading level0 col0\" >Model</th>\n",
       "      <th id=\"T_72101_level0_col1\" class=\"col_heading level0 col1\" >Accuracy</th>\n",
       "      <th id=\"T_72101_level0_col2\" class=\"col_heading level0 col2\" >AUC</th>\n",
       "      <th id=\"T_72101_level0_col3\" class=\"col_heading level0 col3\" >Recall</th>\n",
       "      <th id=\"T_72101_level0_col4\" class=\"col_heading level0 col4\" >Prec.</th>\n",
       "      <th id=\"T_72101_level0_col5\" class=\"col_heading level0 col5\" >F1</th>\n",
       "      <th id=\"T_72101_level0_col6\" class=\"col_heading level0 col6\" >Kappa</th>\n",
       "      <th id=\"T_72101_level0_col7\" class=\"col_heading level0 col7\" >MCC</th>\n",
       "      <th id=\"T_72101_level0_col8\" class=\"col_heading level0 col8\" >TT (Sec)</th>\n",
       "    </tr>\n",
       "  </thead>\n",
       "  <tbody>\n",
       "    <tr>\n",
       "      <th id=\"T_72101_level0_row0\" class=\"row_heading level0 row0\" >lr</th>\n",
       "      <td id=\"T_72101_row0_col0\" class=\"data row0 col0\" >Logistic Regression</td>\n",
       "      <td id=\"T_72101_row0_col1\" class=\"data row0 col1\" >0.8571</td>\n",
       "      <td id=\"T_72101_row0_col2\" class=\"data row0 col2\" >0.9358</td>\n",
       "      <td id=\"T_72101_row0_col3\" class=\"data row0 col3\" >0.7667</td>\n",
       "      <td id=\"T_72101_row0_col4\" class=\"data row0 col4\" >0.8167</td>\n",
       "      <td id=\"T_72101_row0_col5\" class=\"data row0 col5\" >0.7767</td>\n",
       "      <td id=\"T_72101_row0_col6\" class=\"data row0 col6\" >0.6734</td>\n",
       "      <td id=\"T_72101_row0_col7\" class=\"data row0 col7\" >0.6870</td>\n",
       "      <td id=\"T_72101_row0_col8\" class=\"data row0 col8\" >0.0290</td>\n",
       "    </tr>\n",
       "  </tbody>\n",
       "</table>\n"
      ],
      "text/plain": [
       "<pandas.io.formats.style.Styler at 0x27fe5a1b8d0>"
      ]
     },
     "metadata": {},
     "output_type": "display_data"
    },
    {
     "data": {
      "application/vnd.jupyter.widget-view+json": {
       "model_id": "d8d4b809dbac4a088755bc77cb7ce562",
       "version_major": 2,
       "version_minor": 0
      },
      "text/plain": [
       "Processing:   0%|          | 0/9 [00:00<?, ?it/s]"
      ]
     },
     "metadata": {},
     "output_type": "display_data"
    },
    {
     "data": {
      "text/html": [],
      "text/plain": [
       "<IPython.core.display.HTML object>"
      ]
     },
     "metadata": {},
     "output_type": "display_data"
    },
    {
     "data": {
      "text/html": [],
      "text/plain": [
       "<IPython.core.display.HTML object>"
      ]
     },
     "metadata": {},
     "output_type": "display_data"
    },
    {
     "data": {
      "text/html": [],
      "text/plain": [
       "<IPython.core.display.HTML object>"
      ]
     },
     "metadata": {},
     "output_type": "display_data"
    },
    {
     "data": {
      "text/html": [
       "<style type=\"text/css\">\n",
       "#T_9c349 th {\n",
       "  text-align: left;\n",
       "}\n",
       "#T_9c349_row0_col0 {\n",
       "  text-align: left;\n",
       "}\n",
       "#T_9c349_row0_col1, #T_9c349_row0_col2, #T_9c349_row0_col3, #T_9c349_row0_col4, #T_9c349_row0_col5, #T_9c349_row0_col6, #T_9c349_row0_col7 {\n",
       "  text-align: left;\n",
       "  background-color: yellow;\n",
       "}\n",
       "#T_9c349_row0_col8 {\n",
       "  text-align: left;\n",
       "  background-color: yellow;\n",
       "  background-color: lightgrey;\n",
       "}\n",
       "</style>\n",
       "<table id=\"T_9c349\">\n",
       "  <thead>\n",
       "    <tr>\n",
       "      <th class=\"blank level0\" >&nbsp;</th>\n",
       "      <th id=\"T_9c349_level0_col0\" class=\"col_heading level0 col0\" >Model</th>\n",
       "      <th id=\"T_9c349_level0_col1\" class=\"col_heading level0 col1\" >Accuracy</th>\n",
       "      <th id=\"T_9c349_level0_col2\" class=\"col_heading level0 col2\" >AUC</th>\n",
       "      <th id=\"T_9c349_level0_col3\" class=\"col_heading level0 col3\" >Recall</th>\n",
       "      <th id=\"T_9c349_level0_col4\" class=\"col_heading level0 col4\" >Prec.</th>\n",
       "      <th id=\"T_9c349_level0_col5\" class=\"col_heading level0 col5\" >F1</th>\n",
       "      <th id=\"T_9c349_level0_col6\" class=\"col_heading level0 col6\" >Kappa</th>\n",
       "      <th id=\"T_9c349_level0_col7\" class=\"col_heading level0 col7\" >MCC</th>\n",
       "      <th id=\"T_9c349_level0_col8\" class=\"col_heading level0 col8\" >TT (Sec)</th>\n",
       "    </tr>\n",
       "  </thead>\n",
       "  <tbody>\n",
       "    <tr>\n",
       "      <th id=\"T_9c349_level0_row0\" class=\"row_heading level0 row0\" >ridge</th>\n",
       "      <td id=\"T_9c349_row0_col0\" class=\"data row0 col0\" >Ridge Classifier</td>\n",
       "      <td id=\"T_9c349_row0_col1\" class=\"data row0 col1\" >0.8571</td>\n",
       "      <td id=\"T_9c349_row0_col2\" class=\"data row0 col2\" >0.9167</td>\n",
       "      <td id=\"T_9c349_row0_col3\" class=\"data row0 col3\" >0.7167</td>\n",
       "      <td id=\"T_9c349_row0_col4\" class=\"data row0 col4\" >0.7833</td>\n",
       "      <td id=\"T_9c349_row0_col5\" class=\"data row0 col5\" >0.7300</td>\n",
       "      <td id=\"T_9c349_row0_col6\" class=\"data row0 col6\" >0.6493</td>\n",
       "      <td id=\"T_9c349_row0_col7\" class=\"data row0 col7\" >0.6652</td>\n",
       "      <td id=\"T_9c349_row0_col8\" class=\"data row0 col8\" >0.0270</td>\n",
       "    </tr>\n",
       "  </tbody>\n",
       "</table>\n"
      ],
      "text/plain": [
       "<pandas.io.formats.style.Styler at 0x27fe55c9410>"
      ]
     },
     "metadata": {},
     "output_type": "display_data"
    },
    {
     "data": {
      "application/vnd.jupyter.widget-view+json": {
       "model_id": "f5d3d7a97d4b443aa57cc61c814fbba3",
       "version_major": 2,
       "version_minor": 0
      },
      "text/plain": [
       "Processing:   0%|          | 0/9 [00:00<?, ?it/s]"
      ]
     },
     "metadata": {},
     "output_type": "display_data"
    },
    {
     "data": {
      "text/html": [],
      "text/plain": [
       "<IPython.core.display.HTML object>"
      ]
     },
     "metadata": {},
     "output_type": "display_data"
    },
    {
     "data": {
      "text/html": [],
      "text/plain": [
       "<IPython.core.display.HTML object>"
      ]
     },
     "metadata": {},
     "output_type": "display_data"
    },
    {
     "data": {
      "text/html": [],
      "text/plain": [
       "<IPython.core.display.HTML object>"
      ]
     },
     "metadata": {},
     "output_type": "display_data"
    },
    {
     "data": {
      "text/html": [
       "<style type=\"text/css\">\n",
       "#T_812d8 th {\n",
       "  text-align: left;\n",
       "}\n",
       "#T_812d8_row0_col0 {\n",
       "  text-align: left;\n",
       "}\n",
       "#T_812d8_row0_col1, #T_812d8_row0_col2, #T_812d8_row0_col3, #T_812d8_row0_col4, #T_812d8_row0_col5, #T_812d8_row0_col6, #T_812d8_row0_col7 {\n",
       "  text-align: left;\n",
       "  background-color: yellow;\n",
       "}\n",
       "#T_812d8_row0_col8 {\n",
       "  text-align: left;\n",
       "  background-color: yellow;\n",
       "  background-color: lightgrey;\n",
       "}\n",
       "</style>\n",
       "<table id=\"T_812d8\">\n",
       "  <thead>\n",
       "    <tr>\n",
       "      <th class=\"blank level0\" >&nbsp;</th>\n",
       "      <th id=\"T_812d8_level0_col0\" class=\"col_heading level0 col0\" >Model</th>\n",
       "      <th id=\"T_812d8_level0_col1\" class=\"col_heading level0 col1\" >Accuracy</th>\n",
       "      <th id=\"T_812d8_level0_col2\" class=\"col_heading level0 col2\" >AUC</th>\n",
       "      <th id=\"T_812d8_level0_col3\" class=\"col_heading level0 col3\" >Recall</th>\n",
       "      <th id=\"T_812d8_level0_col4\" class=\"col_heading level0 col4\" >Prec.</th>\n",
       "      <th id=\"T_812d8_level0_col5\" class=\"col_heading level0 col5\" >F1</th>\n",
       "      <th id=\"T_812d8_level0_col6\" class=\"col_heading level0 col6\" >Kappa</th>\n",
       "      <th id=\"T_812d8_level0_col7\" class=\"col_heading level0 col7\" >MCC</th>\n",
       "      <th id=\"T_812d8_level0_col8\" class=\"col_heading level0 col8\" >TT (Sec)</th>\n",
       "    </tr>\n",
       "  </thead>\n",
       "  <tbody>\n",
       "    <tr>\n",
       "      <th id=\"T_812d8_level0_row0\" class=\"row_heading level0 row0\" >lda</th>\n",
       "      <td id=\"T_812d8_row0_col0\" class=\"data row0 col0\" >Linear Discriminant Analysis</td>\n",
       "      <td id=\"T_812d8_row0_col1\" class=\"data row0 col1\" >0.8571</td>\n",
       "      <td id=\"T_812d8_row0_col2\" class=\"data row0 col2\" >0.9167</td>\n",
       "      <td id=\"T_812d8_row0_col3\" class=\"data row0 col3\" >0.7167</td>\n",
       "      <td id=\"T_812d8_row0_col4\" class=\"data row0 col4\" >0.7833</td>\n",
       "      <td id=\"T_812d8_row0_col5\" class=\"data row0 col5\" >0.7300</td>\n",
       "      <td id=\"T_812d8_row0_col6\" class=\"data row0 col6\" >0.6493</td>\n",
       "      <td id=\"T_812d8_row0_col7\" class=\"data row0 col7\" >0.6652</td>\n",
       "      <td id=\"T_812d8_row0_col8\" class=\"data row0 col8\" >0.0180</td>\n",
       "    </tr>\n",
       "  </tbody>\n",
       "</table>\n"
      ],
      "text/plain": [
       "<pandas.io.formats.style.Styler at 0x27fe562db10>"
      ]
     },
     "metadata": {},
     "output_type": "display_data"
    },
    {
     "data": {
      "application/vnd.jupyter.widget-view+json": {
       "model_id": "cda7fcd0cd034600a602fe52caffba67",
       "version_major": 2,
       "version_minor": 0
      },
      "text/plain": [
       "Processing:   0%|          | 0/9 [00:00<?, ?it/s]"
      ]
     },
     "metadata": {},
     "output_type": "display_data"
    },
    {
     "data": {
      "text/html": [],
      "text/plain": [
       "<IPython.core.display.HTML object>"
      ]
     },
     "metadata": {},
     "output_type": "display_data"
    },
    {
     "data": {
      "text/html": [],
      "text/plain": [
       "<IPython.core.display.HTML object>"
      ]
     },
     "metadata": {},
     "output_type": "display_data"
    },
    {
     "data": {
      "text/html": [],
      "text/plain": [
       "<IPython.core.display.HTML object>"
      ]
     },
     "metadata": {},
     "output_type": "display_data"
    },
    {
     "data": {
      "text/html": [
       "<style type=\"text/css\">\n",
       "#T_4283f th {\n",
       "  text-align: left;\n",
       "}\n",
       "#T_4283f_row0_col0 {\n",
       "  text-align: left;\n",
       "}\n",
       "#T_4283f_row0_col1, #T_4283f_row0_col2, #T_4283f_row0_col3, #T_4283f_row0_col4, #T_4283f_row0_col5, #T_4283f_row0_col6, #T_4283f_row0_col7 {\n",
       "  text-align: left;\n",
       "  background-color: yellow;\n",
       "}\n",
       "#T_4283f_row0_col8 {\n",
       "  text-align: left;\n",
       "  background-color: yellow;\n",
       "  background-color: lightgrey;\n",
       "}\n",
       "</style>\n",
       "<table id=\"T_4283f\">\n",
       "  <thead>\n",
       "    <tr>\n",
       "      <th class=\"blank level0\" >&nbsp;</th>\n",
       "      <th id=\"T_4283f_level0_col0\" class=\"col_heading level0 col0\" >Model</th>\n",
       "      <th id=\"T_4283f_level0_col1\" class=\"col_heading level0 col1\" >Accuracy</th>\n",
       "      <th id=\"T_4283f_level0_col2\" class=\"col_heading level0 col2\" >AUC</th>\n",
       "      <th id=\"T_4283f_level0_col3\" class=\"col_heading level0 col3\" >Recall</th>\n",
       "      <th id=\"T_4283f_level0_col4\" class=\"col_heading level0 col4\" >Prec.</th>\n",
       "      <th id=\"T_4283f_level0_col5\" class=\"col_heading level0 col5\" >F1</th>\n",
       "      <th id=\"T_4283f_level0_col6\" class=\"col_heading level0 col6\" >Kappa</th>\n",
       "      <th id=\"T_4283f_level0_col7\" class=\"col_heading level0 col7\" >MCC</th>\n",
       "      <th id=\"T_4283f_level0_col8\" class=\"col_heading level0 col8\" >TT (Sec)</th>\n",
       "    </tr>\n",
       "  </thead>\n",
       "  <tbody>\n",
       "    <tr>\n",
       "      <th id=\"T_4283f_level0_row0\" class=\"row_heading level0 row0\" >rf</th>\n",
       "      <td id=\"T_4283f_row0_col0\" class=\"data row0 col0\" >Random Forest Classifier</td>\n",
       "      <td id=\"T_4283f_row0_col1\" class=\"data row0 col1\" >0.8071</td>\n",
       "      <td id=\"T_4283f_row0_col2\" class=\"data row0 col2\" >0.9058</td>\n",
       "      <td id=\"T_4283f_row0_col3\" class=\"data row0 col3\" >0.6167</td>\n",
       "      <td id=\"T_4283f_row0_col4\" class=\"data row0 col4\" >0.7583</td>\n",
       "      <td id=\"T_4283f_row0_col5\" class=\"data row0 col5\" >0.6557</td>\n",
       "      <td id=\"T_4283f_row0_col6\" class=\"data row0 col6\" >0.5397</td>\n",
       "      <td id=\"T_4283f_row0_col7\" class=\"data row0 col7\" >0.5641</td>\n",
       "      <td id=\"T_4283f_row0_col8\" class=\"data row0 col8\" >0.1030</td>\n",
       "    </tr>\n",
       "  </tbody>\n",
       "</table>\n"
      ],
      "text/plain": [
       "<pandas.io.formats.style.Styler at 0x27fe56f4510>"
      ]
     },
     "metadata": {},
     "output_type": "display_data"
    },
    {
     "data": {
      "application/vnd.jupyter.widget-view+json": {
       "model_id": "ee1226af559e416e99a89467b94301e3",
       "version_major": 2,
       "version_minor": 0
      },
      "text/plain": [
       "Processing:   0%|          | 0/9 [00:00<?, ?it/s]"
      ]
     },
     "metadata": {},
     "output_type": "display_data"
    },
    {
     "data": {
      "text/html": [],
      "text/plain": [
       "<IPython.core.display.HTML object>"
      ]
     },
     "metadata": {},
     "output_type": "display_data"
    },
    {
     "data": {
      "text/html": [],
      "text/plain": [
       "<IPython.core.display.HTML object>"
      ]
     },
     "metadata": {},
     "output_type": "display_data"
    },
    {
     "data": {
      "text/html": [],
      "text/plain": [
       "<IPython.core.display.HTML object>"
      ]
     },
     "metadata": {},
     "output_type": "display_data"
    },
    {
     "data": {
      "text/html": [
       "<style type=\"text/css\">\n",
       "#T_32513 th {\n",
       "  text-align: left;\n",
       "}\n",
       "#T_32513_row0_col0 {\n",
       "  text-align: left;\n",
       "}\n",
       "#T_32513_row0_col1, #T_32513_row0_col2, #T_32513_row0_col3, #T_32513_row0_col4, #T_32513_row0_col5, #T_32513_row0_col6, #T_32513_row0_col7 {\n",
       "  text-align: left;\n",
       "  background-color: yellow;\n",
       "}\n",
       "#T_32513_row0_col8 {\n",
       "  text-align: left;\n",
       "  background-color: yellow;\n",
       "  background-color: lightgrey;\n",
       "}\n",
       "</style>\n",
       "<table id=\"T_32513\">\n",
       "  <thead>\n",
       "    <tr>\n",
       "      <th class=\"blank level0\" >&nbsp;</th>\n",
       "      <th id=\"T_32513_level0_col0\" class=\"col_heading level0 col0\" >Model</th>\n",
       "      <th id=\"T_32513_level0_col1\" class=\"col_heading level0 col1\" >Accuracy</th>\n",
       "      <th id=\"T_32513_level0_col2\" class=\"col_heading level0 col2\" >AUC</th>\n",
       "      <th id=\"T_32513_level0_col3\" class=\"col_heading level0 col3\" >Recall</th>\n",
       "      <th id=\"T_32513_level0_col4\" class=\"col_heading level0 col4\" >Prec.</th>\n",
       "      <th id=\"T_32513_level0_col5\" class=\"col_heading level0 col5\" >F1</th>\n",
       "      <th id=\"T_32513_level0_col6\" class=\"col_heading level0 col6\" >Kappa</th>\n",
       "      <th id=\"T_32513_level0_col7\" class=\"col_heading level0 col7\" >MCC</th>\n",
       "      <th id=\"T_32513_level0_col8\" class=\"col_heading level0 col8\" >TT (Sec)</th>\n",
       "    </tr>\n",
       "  </thead>\n",
       "  <tbody>\n",
       "    <tr>\n",
       "      <th id=\"T_32513_level0_row0\" class=\"row_heading level0 row0\" >svm</th>\n",
       "      <td id=\"T_32513_row0_col0\" class=\"data row0 col0\" >SVM - Linear Kernel</td>\n",
       "      <td id=\"T_32513_row0_col1\" class=\"data row0 col1\" >0.7952</td>\n",
       "      <td id=\"T_32513_row0_col2\" class=\"data row0 col2\" >0.8742</td>\n",
       "      <td id=\"T_32513_row0_col3\" class=\"data row0 col3\" >0.6500</td>\n",
       "      <td id=\"T_32513_row0_col4\" class=\"data row0 col4\" >0.6817</td>\n",
       "      <td id=\"T_32513_row0_col5\" class=\"data row0 col5\" >0.6229</td>\n",
       "      <td id=\"T_32513_row0_col6\" class=\"data row0 col6\" >0.5300</td>\n",
       "      <td id=\"T_32513_row0_col7\" class=\"data row0 col7\" >0.5684</td>\n",
       "      <td id=\"T_32513_row0_col8\" class=\"data row0 col8\" >0.0170</td>\n",
       "    </tr>\n",
       "  </tbody>\n",
       "</table>\n"
      ],
      "text/plain": [
       "<pandas.io.formats.style.Styler at 0x27fe2778d90>"
      ]
     },
     "metadata": {},
     "output_type": "display_data"
    },
    {
     "data": {
      "application/vnd.jupyter.widget-view+json": {
       "model_id": "905e6db7f2134549a3f77a3668048d6e",
       "version_major": 2,
       "version_minor": 0
      },
      "text/plain": [
       "Processing:   0%|          | 0/9 [00:00<?, ?it/s]"
      ]
     },
     "metadata": {},
     "output_type": "display_data"
    },
    {
     "data": {
      "text/html": [],
      "text/plain": [
       "<IPython.core.display.HTML object>"
      ]
     },
     "metadata": {},
     "output_type": "display_data"
    },
    {
     "data": {
      "text/html": [],
      "text/plain": [
       "<IPython.core.display.HTML object>"
      ]
     },
     "metadata": {},
     "output_type": "display_data"
    },
    {
     "data": {
      "text/html": [],
      "text/plain": [
       "<IPython.core.display.HTML object>"
      ]
     },
     "metadata": {},
     "output_type": "display_data"
    },
    {
     "data": {
      "text/html": [
       "<style type=\"text/css\">\n",
       "#T_ebcec th {\n",
       "  text-align: left;\n",
       "}\n",
       "#T_ebcec_row0_col0 {\n",
       "  text-align: left;\n",
       "}\n",
       "#T_ebcec_row0_col1, #T_ebcec_row0_col2, #T_ebcec_row0_col3, #T_ebcec_row0_col4, #T_ebcec_row0_col5, #T_ebcec_row0_col6, #T_ebcec_row0_col7 {\n",
       "  text-align: left;\n",
       "  background-color: yellow;\n",
       "}\n",
       "#T_ebcec_row0_col8 {\n",
       "  text-align: left;\n",
       "  background-color: yellow;\n",
       "  background-color: lightgrey;\n",
       "}\n",
       "</style>\n",
       "<table id=\"T_ebcec\">\n",
       "  <thead>\n",
       "    <tr>\n",
       "      <th class=\"blank level0\" >&nbsp;</th>\n",
       "      <th id=\"T_ebcec_level0_col0\" class=\"col_heading level0 col0\" >Model</th>\n",
       "      <th id=\"T_ebcec_level0_col1\" class=\"col_heading level0 col1\" >Accuracy</th>\n",
       "      <th id=\"T_ebcec_level0_col2\" class=\"col_heading level0 col2\" >AUC</th>\n",
       "      <th id=\"T_ebcec_level0_col3\" class=\"col_heading level0 col3\" >Recall</th>\n",
       "      <th id=\"T_ebcec_level0_col4\" class=\"col_heading level0 col4\" >Prec.</th>\n",
       "      <th id=\"T_ebcec_level0_col5\" class=\"col_heading level0 col5\" >F1</th>\n",
       "      <th id=\"T_ebcec_level0_col6\" class=\"col_heading level0 col6\" >Kappa</th>\n",
       "      <th id=\"T_ebcec_level0_col7\" class=\"col_heading level0 col7\" >MCC</th>\n",
       "      <th id=\"T_ebcec_level0_col8\" class=\"col_heading level0 col8\" >TT (Sec)</th>\n",
       "    </tr>\n",
       "  </thead>\n",
       "  <tbody>\n",
       "    <tr>\n",
       "      <th id=\"T_ebcec_level0_row0\" class=\"row_heading level0 row0\" >ada</th>\n",
       "      <td id=\"T_ebcec_row0_col0\" class=\"data row0 col0\" >Ada Boost Classifier</td>\n",
       "      <td id=\"T_ebcec_row0_col1\" class=\"data row0 col1\" >0.7762</td>\n",
       "      <td id=\"T_ebcec_row0_col2\" class=\"data row0 col2\" >0.8667</td>\n",
       "      <td id=\"T_ebcec_row0_col3\" class=\"data row0 col3\" >0.7167</td>\n",
       "      <td id=\"T_ebcec_row0_col4\" class=\"data row0 col4\" >0.6083</td>\n",
       "      <td id=\"T_ebcec_row0_col5\" class=\"data row0 col5\" >0.6424</td>\n",
       "      <td id=\"T_ebcec_row0_col6\" class=\"data row0 col6\" >0.4949</td>\n",
       "      <td id=\"T_ebcec_row0_col7\" class=\"data row0 col7\" >0.5195</td>\n",
       "      <td id=\"T_ebcec_row0_col8\" class=\"data row0 col8\" >0.0830</td>\n",
       "    </tr>\n",
       "  </tbody>\n",
       "</table>\n"
      ],
      "text/plain": [
       "<pandas.io.formats.style.Styler at 0x27fe566aed0>"
      ]
     },
     "metadata": {},
     "output_type": "display_data"
    },
    {
     "data": {
      "application/vnd.jupyter.widget-view+json": {
       "model_id": "b43e8f16026844548e8146cb83a62bbc",
       "version_major": 2,
       "version_minor": 0
      },
      "text/plain": [
       "Processing:   0%|          | 0/9 [00:00<?, ?it/s]"
      ]
     },
     "metadata": {},
     "output_type": "display_data"
    },
    {
     "data": {
      "text/html": [],
      "text/plain": [
       "<IPython.core.display.HTML object>"
      ]
     },
     "metadata": {},
     "output_type": "display_data"
    },
    {
     "data": {
      "text/html": [],
      "text/plain": [
       "<IPython.core.display.HTML object>"
      ]
     },
     "metadata": {},
     "output_type": "display_data"
    },
    {
     "data": {
      "text/html": [],
      "text/plain": [
       "<IPython.core.display.HTML object>"
      ]
     },
     "metadata": {},
     "output_type": "display_data"
    },
    {
     "data": {
      "text/html": [
       "<style type=\"text/css\">\n",
       "#T_57327 th {\n",
       "  text-align: left;\n",
       "}\n",
       "#T_57327_row0_col0 {\n",
       "  text-align: left;\n",
       "}\n",
       "#T_57327_row0_col1, #T_57327_row0_col2, #T_57327_row0_col3, #T_57327_row0_col4, #T_57327_row0_col5, #T_57327_row0_col6, #T_57327_row0_col7 {\n",
       "  text-align: left;\n",
       "  background-color: yellow;\n",
       "}\n",
       "#T_57327_row0_col8 {\n",
       "  text-align: left;\n",
       "  background-color: yellow;\n",
       "  background-color: lightgrey;\n",
       "}\n",
       "</style>\n",
       "<table id=\"T_57327\">\n",
       "  <thead>\n",
       "    <tr>\n",
       "      <th class=\"blank level0\" >&nbsp;</th>\n",
       "      <th id=\"T_57327_level0_col0\" class=\"col_heading level0 col0\" >Model</th>\n",
       "      <th id=\"T_57327_level0_col1\" class=\"col_heading level0 col1\" >Accuracy</th>\n",
       "      <th id=\"T_57327_level0_col2\" class=\"col_heading level0 col2\" >AUC</th>\n",
       "      <th id=\"T_57327_level0_col3\" class=\"col_heading level0 col3\" >Recall</th>\n",
       "      <th id=\"T_57327_level0_col4\" class=\"col_heading level0 col4\" >Prec.</th>\n",
       "      <th id=\"T_57327_level0_col5\" class=\"col_heading level0 col5\" >F1</th>\n",
       "      <th id=\"T_57327_level0_col6\" class=\"col_heading level0 col6\" >Kappa</th>\n",
       "      <th id=\"T_57327_level0_col7\" class=\"col_heading level0 col7\" >MCC</th>\n",
       "      <th id=\"T_57327_level0_col8\" class=\"col_heading level0 col8\" >TT (Sec)</th>\n",
       "    </tr>\n",
       "  </thead>\n",
       "  <tbody>\n",
       "    <tr>\n",
       "      <th id=\"T_57327_level0_row0\" class=\"row_heading level0 row0\" >xgboost</th>\n",
       "      <td id=\"T_57327_row0_col0\" class=\"data row0 col0\" >Extreme Gradient Boosting</td>\n",
       "      <td id=\"T_57327_row0_col1\" class=\"data row0 col1\" >0.7500</td>\n",
       "      <td id=\"T_57327_row0_col2\" class=\"data row0 col2\" >0.8550</td>\n",
       "      <td id=\"T_57327_row0_col3\" class=\"data row0 col3\" >0.6333</td>\n",
       "      <td id=\"T_57327_row0_col4\" class=\"data row0 col4\" >0.6250</td>\n",
       "      <td id=\"T_57327_row0_col5\" class=\"data row0 col5\" >0.6090</td>\n",
       "      <td id=\"T_57327_row0_col6\" class=\"data row0 col6\" >0.4293</td>\n",
       "      <td id=\"T_57327_row0_col7\" class=\"data row0 col7\" >0.4466</td>\n",
       "      <td id=\"T_57327_row0_col8\" class=\"data row0 col8\" >0.0250</td>\n",
       "    </tr>\n",
       "  </tbody>\n",
       "</table>\n"
      ],
      "text/plain": [
       "<pandas.io.formats.style.Styler at 0x27fecde4c10>"
      ]
     },
     "metadata": {},
     "output_type": "display_data"
    },
    {
     "data": {
      "application/vnd.jupyter.widget-view+json": {
       "model_id": "b3e431a27cdb4a7391c73df52185fb12",
       "version_major": 2,
       "version_minor": 0
      },
      "text/plain": [
       "Processing:   0%|          | 0/9 [00:00<?, ?it/s]"
      ]
     },
     "metadata": {},
     "output_type": "display_data"
    },
    {
     "data": {
      "text/html": [],
      "text/plain": [
       "<IPython.core.display.HTML object>"
      ]
     },
     "metadata": {},
     "output_type": "display_data"
    },
    {
     "data": {
      "text/html": [],
      "text/plain": [
       "<IPython.core.display.HTML object>"
      ]
     },
     "metadata": {},
     "output_type": "display_data"
    },
    {
     "data": {
      "text/html": [],
      "text/plain": [
       "<IPython.core.display.HTML object>"
      ]
     },
     "metadata": {},
     "output_type": "display_data"
    },
    {
     "data": {
      "text/html": [
       "<style type=\"text/css\">\n",
       "#T_7ce31 th {\n",
       "  text-align: left;\n",
       "}\n",
       "#T_7ce31_row0_col0 {\n",
       "  text-align: left;\n",
       "}\n",
       "#T_7ce31_row0_col1, #T_7ce31_row0_col2, #T_7ce31_row0_col3, #T_7ce31_row0_col4, #T_7ce31_row0_col5, #T_7ce31_row0_col6, #T_7ce31_row0_col7 {\n",
       "  text-align: left;\n",
       "  background-color: yellow;\n",
       "}\n",
       "#T_7ce31_row0_col8 {\n",
       "  text-align: left;\n",
       "  background-color: yellow;\n",
       "  background-color: lightgrey;\n",
       "}\n",
       "</style>\n",
       "<table id=\"T_7ce31\">\n",
       "  <thead>\n",
       "    <tr>\n",
       "      <th class=\"blank level0\" >&nbsp;</th>\n",
       "      <th id=\"T_7ce31_level0_col0\" class=\"col_heading level0 col0\" >Model</th>\n",
       "      <th id=\"T_7ce31_level0_col1\" class=\"col_heading level0 col1\" >Accuracy</th>\n",
       "      <th id=\"T_7ce31_level0_col2\" class=\"col_heading level0 col2\" >AUC</th>\n",
       "      <th id=\"T_7ce31_level0_col3\" class=\"col_heading level0 col3\" >Recall</th>\n",
       "      <th id=\"T_7ce31_level0_col4\" class=\"col_heading level0 col4\" >Prec.</th>\n",
       "      <th id=\"T_7ce31_level0_col5\" class=\"col_heading level0 col5\" >F1</th>\n",
       "      <th id=\"T_7ce31_level0_col6\" class=\"col_heading level0 col6\" >Kappa</th>\n",
       "      <th id=\"T_7ce31_level0_col7\" class=\"col_heading level0 col7\" >MCC</th>\n",
       "      <th id=\"T_7ce31_level0_col8\" class=\"col_heading level0 col8\" >TT (Sec)</th>\n",
       "    </tr>\n",
       "  </thead>\n",
       "  <tbody>\n",
       "    <tr>\n",
       "      <th id=\"T_7ce31_level0_row0\" class=\"row_heading level0 row0\" >gbc</th>\n",
       "      <td id=\"T_7ce31_row0_col0\" class=\"data row0 col0\" >Gradient Boosting Classifier</td>\n",
       "      <td id=\"T_7ce31_row0_col1\" class=\"data row0 col1\" >0.7452</td>\n",
       "      <td id=\"T_7ce31_row0_col2\" class=\"data row0 col2\" >0.8717</td>\n",
       "      <td id=\"T_7ce31_row0_col3\" class=\"data row0 col3\" >0.7167</td>\n",
       "      <td id=\"T_7ce31_row0_col4\" class=\"data row0 col4\" >0.5917</td>\n",
       "      <td id=\"T_7ce31_row0_col5\" class=\"data row0 col5\" >0.6390</td>\n",
       "      <td id=\"T_7ce31_row0_col6\" class=\"data row0 col6\" >0.4468</td>\n",
       "      <td id=\"T_7ce31_row0_col7\" class=\"data row0 col7\" >0.4608</td>\n",
       "      <td id=\"T_7ce31_row0_col8\" class=\"data row0 col8\" >0.0530</td>\n",
       "    </tr>\n",
       "  </tbody>\n",
       "</table>\n"
      ],
      "text/plain": [
       "<pandas.io.formats.style.Styler at 0x27fecd4d590>"
      ]
     },
     "metadata": {},
     "output_type": "display_data"
    },
    {
     "data": {
      "application/vnd.jupyter.widget-view+json": {
       "model_id": "2387a56a97424361828a9cb89761280d",
       "version_major": 2,
       "version_minor": 0
      },
      "text/plain": [
       "Processing:   0%|          | 0/9 [00:00<?, ?it/s]"
      ]
     },
     "metadata": {},
     "output_type": "display_data"
    },
    {
     "data": {
      "text/html": [],
      "text/plain": [
       "<IPython.core.display.HTML object>"
      ]
     },
     "metadata": {},
     "output_type": "display_data"
    },
    {
     "data": {
      "text/html": [],
      "text/plain": [
       "<IPython.core.display.HTML object>"
      ]
     },
     "metadata": {},
     "output_type": "display_data"
    },
    {
     "data": {
      "text/html": [],
      "text/plain": [
       "<IPython.core.display.HTML object>"
      ]
     },
     "metadata": {},
     "output_type": "display_data"
    },
    {
     "data": {
      "text/html": [
       "<style type=\"text/css\">\n",
       "#T_c977c th {\n",
       "  text-align: left;\n",
       "}\n",
       "#T_c977c_row0_col0 {\n",
       "  text-align: left;\n",
       "}\n",
       "#T_c977c_row0_col1, #T_c977c_row0_col2, #T_c977c_row0_col3, #T_c977c_row0_col4, #T_c977c_row0_col5, #T_c977c_row0_col6, #T_c977c_row0_col7 {\n",
       "  text-align: left;\n",
       "  background-color: yellow;\n",
       "}\n",
       "#T_c977c_row0_col8 {\n",
       "  text-align: left;\n",
       "  background-color: yellow;\n",
       "  background-color: lightgrey;\n",
       "}\n",
       "</style>\n",
       "<table id=\"T_c977c\">\n",
       "  <thead>\n",
       "    <tr>\n",
       "      <th class=\"blank level0\" >&nbsp;</th>\n",
       "      <th id=\"T_c977c_level0_col0\" class=\"col_heading level0 col0\" >Model</th>\n",
       "      <th id=\"T_c977c_level0_col1\" class=\"col_heading level0 col1\" >Accuracy</th>\n",
       "      <th id=\"T_c977c_level0_col2\" class=\"col_heading level0 col2\" >AUC</th>\n",
       "      <th id=\"T_c977c_level0_col3\" class=\"col_heading level0 col3\" >Recall</th>\n",
       "      <th id=\"T_c977c_level0_col4\" class=\"col_heading level0 col4\" >Prec.</th>\n",
       "      <th id=\"T_c977c_level0_col5\" class=\"col_heading level0 col5\" >F1</th>\n",
       "      <th id=\"T_c977c_level0_col6\" class=\"col_heading level0 col6\" >Kappa</th>\n",
       "      <th id=\"T_c977c_level0_col7\" class=\"col_heading level0 col7\" >MCC</th>\n",
       "      <th id=\"T_c977c_level0_col8\" class=\"col_heading level0 col8\" >TT (Sec)</th>\n",
       "    </tr>\n",
       "  </thead>\n",
       "  <tbody>\n",
       "    <tr>\n",
       "      <th id=\"T_c977c_level0_row0\" class=\"row_heading level0 row0\" >lightgbm</th>\n",
       "      <td id=\"T_c977c_row0_col0\" class=\"data row0 col0\" >Light Gradient Boosting Machine</td>\n",
       "      <td id=\"T_c977c_row0_col1\" class=\"data row0 col1\" >0.7452</td>\n",
       "      <td id=\"T_c977c_row0_col2\" class=\"data row0 col2\" >0.7808</td>\n",
       "      <td id=\"T_c977c_row0_col3\" class=\"data row0 col3\" >0.5333</td>\n",
       "      <td id=\"T_c977c_row0_col4\" class=\"data row0 col4\" >0.7000</td>\n",
       "      <td id=\"T_c977c_row0_col5\" class=\"data row0 col5\" >0.5700</td>\n",
       "      <td id=\"T_c977c_row0_col6\" class=\"data row0 col6\" >0.4009</td>\n",
       "      <td id=\"T_c977c_row0_col7\" class=\"data row0 col7\" >0.4318</td>\n",
       "      <td id=\"T_c977c_row0_col8\" class=\"data row0 col8\" >0.0310</td>\n",
       "    </tr>\n",
       "  </tbody>\n",
       "</table>\n"
      ],
      "text/plain": [
       "<pandas.io.formats.style.Styler at 0x27fe5a4e910>"
      ]
     },
     "metadata": {},
     "output_type": "display_data"
    },
    {
     "data": {
      "application/vnd.jupyter.widget-view+json": {
       "model_id": "62bce852e27e4c00ba06bdb873a745dc",
       "version_major": 2,
       "version_minor": 0
      },
      "text/plain": [
       "Processing:   0%|          | 0/9 [00:00<?, ?it/s]"
      ]
     },
     "metadata": {},
     "output_type": "display_data"
    },
    {
     "data": {
      "text/html": [],
      "text/plain": [
       "<IPython.core.display.HTML object>"
      ]
     },
     "metadata": {},
     "output_type": "display_data"
    },
    {
     "data": {
      "text/html": [],
      "text/plain": [
       "<IPython.core.display.HTML object>"
      ]
     },
     "metadata": {},
     "output_type": "display_data"
    },
    {
     "data": {
      "text/html": [],
      "text/plain": [
       "<IPython.core.display.HTML object>"
      ]
     },
     "metadata": {},
     "output_type": "display_data"
    },
    {
     "data": {
      "text/html": [
       "<style type=\"text/css\">\n",
       "#T_ac80c th {\n",
       "  text-align: left;\n",
       "}\n",
       "#T_ac80c_row0_col0 {\n",
       "  text-align: left;\n",
       "}\n",
       "#T_ac80c_row0_col1, #T_ac80c_row0_col2, #T_ac80c_row0_col3, #T_ac80c_row0_col4, #T_ac80c_row0_col5, #T_ac80c_row0_col6, #T_ac80c_row0_col7 {\n",
       "  text-align: left;\n",
       "  background-color: yellow;\n",
       "}\n",
       "#T_ac80c_row0_col8 {\n",
       "  text-align: left;\n",
       "  background-color: yellow;\n",
       "  background-color: lightgrey;\n",
       "}\n",
       "</style>\n",
       "<table id=\"T_ac80c\">\n",
       "  <thead>\n",
       "    <tr>\n",
       "      <th class=\"blank level0\" >&nbsp;</th>\n",
       "      <th id=\"T_ac80c_level0_col0\" class=\"col_heading level0 col0\" >Model</th>\n",
       "      <th id=\"T_ac80c_level0_col1\" class=\"col_heading level0 col1\" >Accuracy</th>\n",
       "      <th id=\"T_ac80c_level0_col2\" class=\"col_heading level0 col2\" >AUC</th>\n",
       "      <th id=\"T_ac80c_level0_col3\" class=\"col_heading level0 col3\" >Recall</th>\n",
       "      <th id=\"T_ac80c_level0_col4\" class=\"col_heading level0 col4\" >Prec.</th>\n",
       "      <th id=\"T_ac80c_level0_col5\" class=\"col_heading level0 col5\" >F1</th>\n",
       "      <th id=\"T_ac80c_level0_col6\" class=\"col_heading level0 col6\" >Kappa</th>\n",
       "      <th id=\"T_ac80c_level0_col7\" class=\"col_heading level0 col7\" >MCC</th>\n",
       "      <th id=\"T_ac80c_level0_col8\" class=\"col_heading level0 col8\" >TT (Sec)</th>\n",
       "    </tr>\n",
       "  </thead>\n",
       "  <tbody>\n",
       "    <tr>\n",
       "      <th id=\"T_ac80c_level0_row0\" class=\"row_heading level0 row0\" >nb</th>\n",
       "      <td id=\"T_ac80c_row0_col0\" class=\"data row0 col0\" >Naive Bayes</td>\n",
       "      <td id=\"T_ac80c_row0_col1\" class=\"data row0 col1\" >0.7310</td>\n",
       "      <td id=\"T_ac80c_row0_col2\" class=\"data row0 col2\" >0.8633</td>\n",
       "      <td id=\"T_ac80c_row0_col3\" class=\"data row0 col3\" >0.7000</td>\n",
       "      <td id=\"T_ac80c_row0_col4\" class=\"data row0 col4\" >0.6733</td>\n",
       "      <td id=\"T_ac80c_row0_col5\" class=\"data row0 col5\" >0.6371</td>\n",
       "      <td id=\"T_ac80c_row0_col6\" class=\"data row0 col6\" >0.4400</td>\n",
       "      <td id=\"T_ac80c_row0_col7\" class=\"data row0 col7\" >0.4844</td>\n",
       "      <td id=\"T_ac80c_row0_col8\" class=\"data row0 col8\" >0.0130</td>\n",
       "    </tr>\n",
       "  </tbody>\n",
       "</table>\n"
      ],
      "text/plain": [
       "<pandas.io.formats.style.Styler at 0x27fe5627590>"
      ]
     },
     "metadata": {},
     "output_type": "display_data"
    },
    {
     "data": {
      "application/vnd.jupyter.widget-view+json": {
       "model_id": "6e98a875dcaa43fdb9244ce772ff6629",
       "version_major": 2,
       "version_minor": 0
      },
      "text/plain": [
       "Processing:   0%|          | 0/9 [00:00<?, ?it/s]"
      ]
     },
     "metadata": {},
     "output_type": "display_data"
    },
    {
     "data": {
      "text/html": [],
      "text/plain": [
       "<IPython.core.display.HTML object>"
      ]
     },
     "metadata": {},
     "output_type": "display_data"
    },
    {
     "data": {
      "text/html": [],
      "text/plain": [
       "<IPython.core.display.HTML object>"
      ]
     },
     "metadata": {},
     "output_type": "display_data"
    },
    {
     "data": {
      "text/html": [],
      "text/plain": [
       "<IPython.core.display.HTML object>"
      ]
     },
     "metadata": {},
     "output_type": "display_data"
    },
    {
     "data": {
      "text/html": [
       "<style type=\"text/css\">\n",
       "#T_a736d th {\n",
       "  text-align: left;\n",
       "}\n",
       "#T_a736d_row0_col0 {\n",
       "  text-align: left;\n",
       "}\n",
       "#T_a736d_row0_col1, #T_a736d_row0_col2, #T_a736d_row0_col3, #T_a736d_row0_col4, #T_a736d_row0_col5, #T_a736d_row0_col6, #T_a736d_row0_col7 {\n",
       "  text-align: left;\n",
       "  background-color: yellow;\n",
       "}\n",
       "#T_a736d_row0_col8 {\n",
       "  text-align: left;\n",
       "  background-color: yellow;\n",
       "  background-color: lightgrey;\n",
       "}\n",
       "</style>\n",
       "<table id=\"T_a736d\">\n",
       "  <thead>\n",
       "    <tr>\n",
       "      <th class=\"blank level0\" >&nbsp;</th>\n",
       "      <th id=\"T_a736d_level0_col0\" class=\"col_heading level0 col0\" >Model</th>\n",
       "      <th id=\"T_a736d_level0_col1\" class=\"col_heading level0 col1\" >Accuracy</th>\n",
       "      <th id=\"T_a736d_level0_col2\" class=\"col_heading level0 col2\" >AUC</th>\n",
       "      <th id=\"T_a736d_level0_col3\" class=\"col_heading level0 col3\" >Recall</th>\n",
       "      <th id=\"T_a736d_level0_col4\" class=\"col_heading level0 col4\" >Prec.</th>\n",
       "      <th id=\"T_a736d_level0_col5\" class=\"col_heading level0 col5\" >F1</th>\n",
       "      <th id=\"T_a736d_level0_col6\" class=\"col_heading level0 col6\" >Kappa</th>\n",
       "      <th id=\"T_a736d_level0_col7\" class=\"col_heading level0 col7\" >MCC</th>\n",
       "      <th id=\"T_a736d_level0_col8\" class=\"col_heading level0 col8\" >TT (Sec)</th>\n",
       "    </tr>\n",
       "  </thead>\n",
       "  <tbody>\n",
       "    <tr>\n",
       "      <th id=\"T_a736d_level0_row0\" class=\"row_heading level0 row0\" >dt</th>\n",
       "      <td id=\"T_a736d_row0_col0\" class=\"data row0 col0\" >Decision Tree Classifier</td>\n",
       "      <td id=\"T_a736d_row0_col1\" class=\"data row0 col1\" >0.6833</td>\n",
       "      <td id=\"T_a736d_row0_col2\" class=\"data row0 col2\" >0.6658</td>\n",
       "      <td id=\"T_a736d_row0_col3\" class=\"data row0 col3\" >0.6167</td>\n",
       "      <td id=\"T_a736d_row0_col4\" class=\"data row0 col4\" >0.5833</td>\n",
       "      <td id=\"T_a736d_row0_col5\" class=\"data row0 col5\" >0.5657</td>\n",
       "      <td id=\"T_a736d_row0_col6\" class=\"data row0 col6\" >0.3317</td>\n",
       "      <td id=\"T_a736d_row0_col7\" class=\"data row0 col7\" >0.3524</td>\n",
       "      <td id=\"T_a736d_row0_col8\" class=\"data row0 col8\" >0.0130</td>\n",
       "    </tr>\n",
       "  </tbody>\n",
       "</table>\n"
      ],
      "text/plain": [
       "<pandas.io.formats.style.Styler at 0x27fed011ad0>"
      ]
     },
     "metadata": {},
     "output_type": "display_data"
    },
    {
     "data": {
      "application/vnd.jupyter.widget-view+json": {
       "model_id": "3711a59d289a4332b547668c1d4e8f0e",
       "version_major": 2,
       "version_minor": 0
      },
      "text/plain": [
       "Processing:   0%|          | 0/9 [00:00<?, ?it/s]"
      ]
     },
     "metadata": {},
     "output_type": "display_data"
    },
    {
     "data": {
      "text/html": [],
      "text/plain": [
       "<IPython.core.display.HTML object>"
      ]
     },
     "metadata": {},
     "output_type": "display_data"
    },
    {
     "data": {
      "text/html": [],
      "text/plain": [
       "<IPython.core.display.HTML object>"
      ]
     },
     "metadata": {},
     "output_type": "display_data"
    },
    {
     "data": {
      "text/html": [],
      "text/plain": [
       "<IPython.core.display.HTML object>"
      ]
     },
     "metadata": {},
     "output_type": "display_data"
    },
    {
     "data": {
      "text/html": [
       "<style type=\"text/css\">\n",
       "#T_541eb th {\n",
       "  text-align: left;\n",
       "}\n",
       "#T_541eb_row0_col0 {\n",
       "  text-align: left;\n",
       "}\n",
       "#T_541eb_row0_col1, #T_541eb_row0_col2, #T_541eb_row0_col3, #T_541eb_row0_col4, #T_541eb_row0_col5, #T_541eb_row0_col6, #T_541eb_row0_col7 {\n",
       "  text-align: left;\n",
       "  background-color: yellow;\n",
       "}\n",
       "#T_541eb_row0_col8 {\n",
       "  text-align: left;\n",
       "  background-color: yellow;\n",
       "  background-color: lightgrey;\n",
       "}\n",
       "</style>\n",
       "<table id=\"T_541eb\">\n",
       "  <thead>\n",
       "    <tr>\n",
       "      <th class=\"blank level0\" >&nbsp;</th>\n",
       "      <th id=\"T_541eb_level0_col0\" class=\"col_heading level0 col0\" >Model</th>\n",
       "      <th id=\"T_541eb_level0_col1\" class=\"col_heading level0 col1\" >Accuracy</th>\n",
       "      <th id=\"T_541eb_level0_col2\" class=\"col_heading level0 col2\" >AUC</th>\n",
       "      <th id=\"T_541eb_level0_col3\" class=\"col_heading level0 col3\" >Recall</th>\n",
       "      <th id=\"T_541eb_level0_col4\" class=\"col_heading level0 col4\" >Prec.</th>\n",
       "      <th id=\"T_541eb_level0_col5\" class=\"col_heading level0 col5\" >F1</th>\n",
       "      <th id=\"T_541eb_level0_col6\" class=\"col_heading level0 col6\" >Kappa</th>\n",
       "      <th id=\"T_541eb_level0_col7\" class=\"col_heading level0 col7\" >MCC</th>\n",
       "      <th id=\"T_541eb_level0_col8\" class=\"col_heading level0 col8\" >TT (Sec)</th>\n",
       "    </tr>\n",
       "  </thead>\n",
       "  <tbody>\n",
       "    <tr>\n",
       "      <th id=\"T_541eb_level0_row0\" class=\"row_heading level0 row0\" >dummy</th>\n",
       "      <td id=\"T_541eb_row0_col0\" class=\"data row0 col0\" >Dummy Classifier</td>\n",
       "      <td id=\"T_541eb_row0_col1\" class=\"data row0 col1\" >0.6524</td>\n",
       "      <td id=\"T_541eb_row0_col2\" class=\"data row0 col2\" >0.5000</td>\n",
       "      <td id=\"T_541eb_row0_col3\" class=\"data row0 col3\" >0.0000</td>\n",
       "      <td id=\"T_541eb_row0_col4\" class=\"data row0 col4\" >0.0000</td>\n",
       "      <td id=\"T_541eb_row0_col5\" class=\"data row0 col5\" >0.0000</td>\n",
       "      <td id=\"T_541eb_row0_col6\" class=\"data row0 col6\" >0.0000</td>\n",
       "      <td id=\"T_541eb_row0_col7\" class=\"data row0 col7\" >0.0000</td>\n",
       "      <td id=\"T_541eb_row0_col8\" class=\"data row0 col8\" >0.0120</td>\n",
       "    </tr>\n",
       "  </tbody>\n",
       "</table>\n"
      ],
      "text/plain": [
       "<pandas.io.formats.style.Styler at 0x27fe5a5f110>"
      ]
     },
     "metadata": {},
     "output_type": "display_data"
    },
    {
     "data": {
      "application/vnd.jupyter.widget-view+json": {
       "model_id": "d001acbab0284d2d80f22bc8086ee689",
       "version_major": 2,
       "version_minor": 0
      },
      "text/plain": [
       "Processing:   0%|          | 0/9 [00:00<?, ?it/s]"
      ]
     },
     "metadata": {},
     "output_type": "display_data"
    },
    {
     "data": {
      "text/html": [],
      "text/plain": [
       "<IPython.core.display.HTML object>"
      ]
     },
     "metadata": {},
     "output_type": "display_data"
    },
    {
     "data": {
      "text/html": [],
      "text/plain": [
       "<IPython.core.display.HTML object>"
      ]
     },
     "metadata": {},
     "output_type": "display_data"
    }
   ],
   "source": [
    "import pandas as pd\n",
    "from pycaret.classification import setup, compare_models, predict_model, finalize_model, pull\n",
    "from sklearn.metrics import accuracy_score, f1_score\n",
    "from sklearn.model_selection import train_test_split\n",
    "import joblib\n",
    "\n",
    "# Load the CSV file into a DataFrame\n",
    "df = pd.read_csv('../data/players_df_sin_reco.csv')\n",
    "\n",
    "# Select features (columns 7 to 20, 0-based index: 6 to 19)\n",
    "X = df.iloc[:, 6:20]\n",
    "\n",
    "# Select the 2nd column from the end as the target\n",
    "y = df.iloc[:, -2]\n",
    "\n",
    "# Split data into training and testing sets\n",
    "X_train, X_test, y_train, y_test = train_test_split(X, y, test_size=0.2, random_state=42)\n",
    "\n",
    "# Create an empty DataFrame to store results\n",
    "goalpoacher_df = pd.DataFrame(columns=['model', 'train_accuracy', 'test_accuracy', 'train_f1', 'test_f1', 'TT'])\n",
    "\n",
    "# Concatenate X_train and y_train into a DataFrame for PyCaret setup\n",
    "df_target = pd.concat([X_train, y_train], axis=1)\n",
    "\n",
    "# Setup PyCaret environment\n",
    "clf = setup(data=df_target, target=y.name, session_id=42)\n",
    "\n",
    "# Compare different models and store the results\n",
    "best_model = compare_models()  # This returns the top model\n",
    "compare_results = pull()  # Pulls all model results as a DataFrame\n",
    "\n",
    "# Define the mapping from model names to PyCaret identifiers\n",
    "model_mapping = {\n",
    "    'K Neighbors Classifier': 'knn',\n",
    "    'Random Forest Classifier': 'rf',\n",
    "    'Logistic Regression': 'lr',\n",
    "    'Decision Tree Classifier': 'dt',\n",
    "    'Ada Boost Classifier': 'ada',\n",
    "    'Gradient Boosting Classifier': 'gbc',\n",
    "    'Naive Bayes': 'nb',\n",
    "    'SVM - Linear Kernel': 'svm',\n",
    "    'Extra Trees Classifier': 'et',\n",
    "    'Light Gradient Boosting Machine': 'lightgbm',\n",
    "    'Ridge Classifier': 'ridge',\n",
    "    'Linear Discriminant Analysis': 'lda',\n",
    "    'Extreme Gradient Boosting': 'xgboost',\n",
    "    'Dummy Classifier': 'dummy'\n",
    "}\n",
    "\n",
    "# Loop over each model in the compare_results DataFrame\n",
    "for idx, row in compare_results.iterrows():\n",
    "    model_name = row['Model']\n",
    "    testing_time = row['TT (Sec)']\n",
    "\n",
    "    # Get the PyCaret identifier for the model\n",
    "    model_identifier = model_mapping.get(model_name)\n",
    "\n",
    "    # Instead of finalizing by the model name, select the model by identifier\n",
    "    if model_identifier:\n",
    "        best_model = compare_models(include=[model_identifier], n_select=1)\n",
    "\n",
    "        # Finalize the model (train it on the entire dataset)\n",
    "        final_model = finalize_model(best_model)\n",
    "\n",
    "        # Predict on train and test sets\n",
    "        predictions_train = predict_model(final_model, data=X_train)\n",
    "        predictions_test = predict_model(final_model, data=X_test)\n",
    "\n",
    "        # Calculate test accuracy and F1 score\n",
    "        y_pred_test = predictions_test['prediction_label']\n",
    "        test_accuracy = accuracy_score(y_test, y_pred_test)\n",
    "        test_f1 = f1_score(y_test, y_pred_test, average='weighted')\n",
    "\n",
    "        # Calculate train accuracy and F1 score\n",
    "        y_pred_train = predictions_train['prediction_label']\n",
    "        train_accuracy = accuracy_score(y_train, y_pred_train)\n",
    "        train_f1 = f1_score(y_train, y_pred_train, average='weighted')\n",
    "\n",
    "        # Append the metrics for each model to the results DataFrame\n",
    "        new_row = pd.DataFrame({\n",
    "            'model': model_name,\n",
    "            'train_accuracy': train_accuracy,\n",
    "            'test_accuracy': test_accuracy,\n",
    "            'train_f1': train_f1,\n",
    "            'test_f1': test_f1,\n",
    "            'TT': testing_time\n",
    "        }, index=[0])\n",
    "\n",
    "        goalpoacher_df = pd.concat([goalpoacher_df, new_row], ignore_index=True)\n"
   ]
  },
  {
   "cell_type": "code",
   "execution_count": 32,
   "metadata": {},
   "outputs": [
    {
     "data": {
      "text/html": [
       "<div>\n",
       "<style scoped>\n",
       "    .dataframe tbody tr th:only-of-type {\n",
       "        vertical-align: middle;\n",
       "    }\n",
       "\n",
       "    .dataframe tbody tr th {\n",
       "        vertical-align: top;\n",
       "    }\n",
       "\n",
       "    .dataframe thead th {\n",
       "        text-align: right;\n",
       "    }\n",
       "</style>\n",
       "<table border=\"1\" class=\"dataframe\">\n",
       "  <thead>\n",
       "    <tr style=\"text-align: right;\">\n",
       "      <th></th>\n",
       "      <th>model</th>\n",
       "      <th>train_accuracy</th>\n",
       "      <th>test_accuracy</th>\n",
       "      <th>train_f1</th>\n",
       "      <th>test_f1</th>\n",
       "      <th>TT</th>\n",
       "    </tr>\n",
       "  </thead>\n",
       "  <tbody>\n",
       "    <tr>\n",
       "      <th>0</th>\n",
       "      <td>K Neighbors Classifier</td>\n",
       "      <td>0.923077</td>\n",
       "      <td>0.869565</td>\n",
       "      <td>0.922790</td>\n",
       "      <td>0.864803</td>\n",
       "      <td>0.031</td>\n",
       "    </tr>\n",
       "    <tr>\n",
       "      <th>1</th>\n",
       "      <td>Extra Trees Classifier</td>\n",
       "      <td>1.000000</td>\n",
       "      <td>0.913043</td>\n",
       "      <td>1.000000</td>\n",
       "      <td>0.913043</td>\n",
       "      <td>0.107</td>\n",
       "    </tr>\n",
       "    <tr>\n",
       "      <th>2</th>\n",
       "      <td>Logistic Regression</td>\n",
       "      <td>1.000000</td>\n",
       "      <td>0.956522</td>\n",
       "      <td>1.000000</td>\n",
       "      <td>0.956687</td>\n",
       "      <td>0.038</td>\n",
       "    </tr>\n",
       "    <tr>\n",
       "      <th>3</th>\n",
       "      <td>Ridge Classifier</td>\n",
       "      <td>0.890110</td>\n",
       "      <td>0.869565</td>\n",
       "      <td>0.890110</td>\n",
       "      <td>0.870062</td>\n",
       "      <td>0.016</td>\n",
       "    </tr>\n",
       "    <tr>\n",
       "      <th>4</th>\n",
       "      <td>Linear Discriminant Analysis</td>\n",
       "      <td>0.890110</td>\n",
       "      <td>0.869565</td>\n",
       "      <td>0.890110</td>\n",
       "      <td>0.870062</td>\n",
       "      <td>0.019</td>\n",
       "    </tr>\n",
       "    <tr>\n",
       "      <th>5</th>\n",
       "      <td>Random Forest Classifier</td>\n",
       "      <td>1.000000</td>\n",
       "      <td>0.826087</td>\n",
       "      <td>1.000000</td>\n",
       "      <td>0.822636</td>\n",
       "      <td>0.086</td>\n",
       "    </tr>\n",
       "    <tr>\n",
       "      <th>6</th>\n",
       "      <td>SVM - Linear Kernel</td>\n",
       "      <td>0.912088</td>\n",
       "      <td>0.956522</td>\n",
       "      <td>0.910599</td>\n",
       "      <td>0.956183</td>\n",
       "      <td>0.017</td>\n",
       "    </tr>\n",
       "    <tr>\n",
       "      <th>7</th>\n",
       "      <td>Ada Boost Classifier</td>\n",
       "      <td>1.000000</td>\n",
       "      <td>0.826087</td>\n",
       "      <td>1.000000</td>\n",
       "      <td>0.826087</td>\n",
       "      <td>0.067</td>\n",
       "    </tr>\n",
       "    <tr>\n",
       "      <th>8</th>\n",
       "      <td>Extreme Gradient Boosting</td>\n",
       "      <td>1.000000</td>\n",
       "      <td>0.913043</td>\n",
       "      <td>1.000000</td>\n",
       "      <td>0.913043</td>\n",
       "      <td>0.034</td>\n",
       "    </tr>\n",
       "    <tr>\n",
       "      <th>9</th>\n",
       "      <td>Gradient Boosting Classifier</td>\n",
       "      <td>1.000000</td>\n",
       "      <td>0.913043</td>\n",
       "      <td>1.000000</td>\n",
       "      <td>0.913043</td>\n",
       "      <td>0.070</td>\n",
       "    </tr>\n",
       "    <tr>\n",
       "      <th>10</th>\n",
       "      <td>Light Gradient Boosting Machine</td>\n",
       "      <td>1.000000</td>\n",
       "      <td>0.869565</td>\n",
       "      <td>1.000000</td>\n",
       "      <td>0.868548</td>\n",
       "      <td>0.057</td>\n",
       "    </tr>\n",
       "    <tr>\n",
       "      <th>11</th>\n",
       "      <td>Naive Bayes</td>\n",
       "      <td>0.835165</td>\n",
       "      <td>0.826087</td>\n",
       "      <td>0.835728</td>\n",
       "      <td>0.822636</td>\n",
       "      <td>0.016</td>\n",
       "    </tr>\n",
       "    <tr>\n",
       "      <th>12</th>\n",
       "      <td>Decision Tree Classifier</td>\n",
       "      <td>1.000000</td>\n",
       "      <td>0.869565</td>\n",
       "      <td>1.000000</td>\n",
       "      <td>0.870062</td>\n",
       "      <td>0.019</td>\n",
       "    </tr>\n",
       "    <tr>\n",
       "      <th>13</th>\n",
       "      <td>Dummy Classifier</td>\n",
       "      <td>0.648352</td>\n",
       "      <td>0.565217</td>\n",
       "      <td>0.510037</td>\n",
       "      <td>0.408213</td>\n",
       "      <td>0.019</td>\n",
       "    </tr>\n",
       "  </tbody>\n",
       "</table>\n",
       "</div>"
      ],
      "text/plain": [
       "                              model  train_accuracy  test_accuracy  train_f1  \\\n",
       "0            K Neighbors Classifier        0.923077       0.869565  0.922790   \n",
       "1            Extra Trees Classifier        1.000000       0.913043  1.000000   \n",
       "2               Logistic Regression        1.000000       0.956522  1.000000   \n",
       "3                  Ridge Classifier        0.890110       0.869565  0.890110   \n",
       "4      Linear Discriminant Analysis        0.890110       0.869565  0.890110   \n",
       "5          Random Forest Classifier        1.000000       0.826087  1.000000   \n",
       "6               SVM - Linear Kernel        0.912088       0.956522  0.910599   \n",
       "7              Ada Boost Classifier        1.000000       0.826087  1.000000   \n",
       "8         Extreme Gradient Boosting        1.000000       0.913043  1.000000   \n",
       "9      Gradient Boosting Classifier        1.000000       0.913043  1.000000   \n",
       "10  Light Gradient Boosting Machine        1.000000       0.869565  1.000000   \n",
       "11                      Naive Bayes        0.835165       0.826087  0.835728   \n",
       "12         Decision Tree Classifier        1.000000       0.869565  1.000000   \n",
       "13                 Dummy Classifier        0.648352       0.565217  0.510037   \n",
       "\n",
       "     test_f1     TT  \n",
       "0   0.864803  0.031  \n",
       "1   0.913043  0.107  \n",
       "2   0.956687  0.038  \n",
       "3   0.870062  0.016  \n",
       "4   0.870062  0.019  \n",
       "5   0.822636  0.086  \n",
       "6   0.956183  0.017  \n",
       "7   0.826087  0.067  \n",
       "8   0.913043  0.034  \n",
       "9   0.913043  0.070  \n",
       "10  0.868548  0.057  \n",
       "11  0.822636  0.016  \n",
       "12  0.870062  0.019  \n",
       "13  0.408213  0.019  "
      ]
     },
     "execution_count": 32,
     "metadata": {},
     "output_type": "execute_result"
    }
   ],
   "source": [
    "goalpoacher_df"
   ]
  },
  {
   "cell_type": "markdown",
   "metadata": {},
   "source": [
    "## Target Man"
   ]
  },
  {
   "cell_type": "code",
   "execution_count": 33,
   "metadata": {},
   "outputs": [
    {
     "data": {
      "text/html": [
       "<style type=\"text/css\">\n",
       "#T_89218_row8_col1 {\n",
       "  background-color: lightgreen;\n",
       "}\n",
       "</style>\n",
       "<table id=\"T_89218\">\n",
       "  <thead>\n",
       "    <tr>\n",
       "      <th class=\"blank level0\" >&nbsp;</th>\n",
       "      <th id=\"T_89218_level0_col0\" class=\"col_heading level0 col0\" >Description</th>\n",
       "      <th id=\"T_89218_level0_col1\" class=\"col_heading level0 col1\" >Value</th>\n",
       "    </tr>\n",
       "  </thead>\n",
       "  <tbody>\n",
       "    <tr>\n",
       "      <th id=\"T_89218_level0_row0\" class=\"row_heading level0 row0\" >0</th>\n",
       "      <td id=\"T_89218_row0_col0\" class=\"data row0 col0\" >Session id</td>\n",
       "      <td id=\"T_89218_row0_col1\" class=\"data row0 col1\" >42</td>\n",
       "    </tr>\n",
       "    <tr>\n",
       "      <th id=\"T_89218_level0_row1\" class=\"row_heading level0 row1\" >1</th>\n",
       "      <td id=\"T_89218_row1_col0\" class=\"data row1 col0\" >Target</td>\n",
       "      <td id=\"T_89218_row1_col1\" class=\"data row1 col1\" >Class_Target Man</td>\n",
       "    </tr>\n",
       "    <tr>\n",
       "      <th id=\"T_89218_level0_row2\" class=\"row_heading level0 row2\" >2</th>\n",
       "      <td id=\"T_89218_row2_col0\" class=\"data row2 col0\" >Target type</td>\n",
       "      <td id=\"T_89218_row2_col1\" class=\"data row2 col1\" >Binary</td>\n",
       "    </tr>\n",
       "    <tr>\n",
       "      <th id=\"T_89218_level0_row3\" class=\"row_heading level0 row3\" >3</th>\n",
       "      <td id=\"T_89218_row3_col0\" class=\"data row3 col0\" >Original data shape</td>\n",
       "      <td id=\"T_89218_row3_col1\" class=\"data row3 col1\" >(91, 15)</td>\n",
       "    </tr>\n",
       "    <tr>\n",
       "      <th id=\"T_89218_level0_row4\" class=\"row_heading level0 row4\" >4</th>\n",
       "      <td id=\"T_89218_row4_col0\" class=\"data row4 col0\" >Transformed data shape</td>\n",
       "      <td id=\"T_89218_row4_col1\" class=\"data row4 col1\" >(91, 15)</td>\n",
       "    </tr>\n",
       "    <tr>\n",
       "      <th id=\"T_89218_level0_row5\" class=\"row_heading level0 row5\" >5</th>\n",
       "      <td id=\"T_89218_row5_col0\" class=\"data row5 col0\" >Transformed train set shape</td>\n",
       "      <td id=\"T_89218_row5_col1\" class=\"data row5 col1\" >(63, 15)</td>\n",
       "    </tr>\n",
       "    <tr>\n",
       "      <th id=\"T_89218_level0_row6\" class=\"row_heading level0 row6\" >6</th>\n",
       "      <td id=\"T_89218_row6_col0\" class=\"data row6 col0\" >Transformed test set shape</td>\n",
       "      <td id=\"T_89218_row6_col1\" class=\"data row6 col1\" >(28, 15)</td>\n",
       "    </tr>\n",
       "    <tr>\n",
       "      <th id=\"T_89218_level0_row7\" class=\"row_heading level0 row7\" >7</th>\n",
       "      <td id=\"T_89218_row7_col0\" class=\"data row7 col0\" >Numeric features</td>\n",
       "      <td id=\"T_89218_row7_col1\" class=\"data row7 col1\" >14</td>\n",
       "    </tr>\n",
       "    <tr>\n",
       "      <th id=\"T_89218_level0_row8\" class=\"row_heading level0 row8\" >8</th>\n",
       "      <td id=\"T_89218_row8_col0\" class=\"data row8 col0\" >Preprocess</td>\n",
       "      <td id=\"T_89218_row8_col1\" class=\"data row8 col1\" >True</td>\n",
       "    </tr>\n",
       "    <tr>\n",
       "      <th id=\"T_89218_level0_row9\" class=\"row_heading level0 row9\" >9</th>\n",
       "      <td id=\"T_89218_row9_col0\" class=\"data row9 col0\" >Imputation type</td>\n",
       "      <td id=\"T_89218_row9_col1\" class=\"data row9 col1\" >simple</td>\n",
       "    </tr>\n",
       "    <tr>\n",
       "      <th id=\"T_89218_level0_row10\" class=\"row_heading level0 row10\" >10</th>\n",
       "      <td id=\"T_89218_row10_col0\" class=\"data row10 col0\" >Numeric imputation</td>\n",
       "      <td id=\"T_89218_row10_col1\" class=\"data row10 col1\" >mean</td>\n",
       "    </tr>\n",
       "    <tr>\n",
       "      <th id=\"T_89218_level0_row11\" class=\"row_heading level0 row11\" >11</th>\n",
       "      <td id=\"T_89218_row11_col0\" class=\"data row11 col0\" >Categorical imputation</td>\n",
       "      <td id=\"T_89218_row11_col1\" class=\"data row11 col1\" >mode</td>\n",
       "    </tr>\n",
       "    <tr>\n",
       "      <th id=\"T_89218_level0_row12\" class=\"row_heading level0 row12\" >12</th>\n",
       "      <td id=\"T_89218_row12_col0\" class=\"data row12 col0\" >Fold Generator</td>\n",
       "      <td id=\"T_89218_row12_col1\" class=\"data row12 col1\" >StratifiedKFold</td>\n",
       "    </tr>\n",
       "    <tr>\n",
       "      <th id=\"T_89218_level0_row13\" class=\"row_heading level0 row13\" >13</th>\n",
       "      <td id=\"T_89218_row13_col0\" class=\"data row13 col0\" >Fold Number</td>\n",
       "      <td id=\"T_89218_row13_col1\" class=\"data row13 col1\" >10</td>\n",
       "    </tr>\n",
       "    <tr>\n",
       "      <th id=\"T_89218_level0_row14\" class=\"row_heading level0 row14\" >14</th>\n",
       "      <td id=\"T_89218_row14_col0\" class=\"data row14 col0\" >CPU Jobs</td>\n",
       "      <td id=\"T_89218_row14_col1\" class=\"data row14 col1\" >-1</td>\n",
       "    </tr>\n",
       "    <tr>\n",
       "      <th id=\"T_89218_level0_row15\" class=\"row_heading level0 row15\" >15</th>\n",
       "      <td id=\"T_89218_row15_col0\" class=\"data row15 col0\" >Use GPU</td>\n",
       "      <td id=\"T_89218_row15_col1\" class=\"data row15 col1\" >False</td>\n",
       "    </tr>\n",
       "    <tr>\n",
       "      <th id=\"T_89218_level0_row16\" class=\"row_heading level0 row16\" >16</th>\n",
       "      <td id=\"T_89218_row16_col0\" class=\"data row16 col0\" >Log Experiment</td>\n",
       "      <td id=\"T_89218_row16_col1\" class=\"data row16 col1\" >False</td>\n",
       "    </tr>\n",
       "    <tr>\n",
       "      <th id=\"T_89218_level0_row17\" class=\"row_heading level0 row17\" >17</th>\n",
       "      <td id=\"T_89218_row17_col0\" class=\"data row17 col0\" >Experiment Name</td>\n",
       "      <td id=\"T_89218_row17_col1\" class=\"data row17 col1\" >clf-default-name</td>\n",
       "    </tr>\n",
       "    <tr>\n",
       "      <th id=\"T_89218_level0_row18\" class=\"row_heading level0 row18\" >18</th>\n",
       "      <td id=\"T_89218_row18_col0\" class=\"data row18 col0\" >USI</td>\n",
       "      <td id=\"T_89218_row18_col1\" class=\"data row18 col1\" >30b1</td>\n",
       "    </tr>\n",
       "  </tbody>\n",
       "</table>\n"
      ],
      "text/plain": [
       "<pandas.io.formats.style.Styler at 0x27fe562e950>"
      ]
     },
     "metadata": {},
     "output_type": "display_data"
    },
    {
     "data": {
      "text/html": [],
      "text/plain": [
       "<IPython.core.display.HTML object>"
      ]
     },
     "metadata": {},
     "output_type": "display_data"
    },
    {
     "data": {
      "text/html": [
       "<style type=\"text/css\">\n",
       "#T_c065c th {\n",
       "  text-align: left;\n",
       "}\n",
       "#T_c065c_row0_col0, #T_c065c_row1_col0, #T_c065c_row1_col2, #T_c065c_row2_col0, #T_c065c_row2_col1, #T_c065c_row2_col4, #T_c065c_row2_col5, #T_c065c_row2_col6, #T_c065c_row2_col7, #T_c065c_row3_col0, #T_c065c_row3_col1, #T_c065c_row3_col2, #T_c065c_row3_col4, #T_c065c_row3_col5, #T_c065c_row3_col6, #T_c065c_row3_col7, #T_c065c_row4_col0, #T_c065c_row4_col1, #T_c065c_row4_col2, #T_c065c_row4_col3, #T_c065c_row4_col4, #T_c065c_row4_col5, #T_c065c_row4_col6, #T_c065c_row4_col7, #T_c065c_row5_col0, #T_c065c_row5_col1, #T_c065c_row5_col2, #T_c065c_row5_col3, #T_c065c_row5_col4, #T_c065c_row5_col5, #T_c065c_row5_col6, #T_c065c_row5_col7, #T_c065c_row6_col0, #T_c065c_row6_col1, #T_c065c_row6_col2, #T_c065c_row6_col3, #T_c065c_row6_col4, #T_c065c_row6_col5, #T_c065c_row6_col6, #T_c065c_row6_col7, #T_c065c_row7_col0, #T_c065c_row7_col1, #T_c065c_row7_col2, #T_c065c_row7_col3, #T_c065c_row7_col4, #T_c065c_row7_col5, #T_c065c_row7_col6, #T_c065c_row7_col7, #T_c065c_row8_col0, #T_c065c_row8_col1, #T_c065c_row8_col2, #T_c065c_row8_col3, #T_c065c_row8_col4, #T_c065c_row8_col5, #T_c065c_row8_col6, #T_c065c_row8_col7, #T_c065c_row9_col0, #T_c065c_row9_col1, #T_c065c_row9_col2, #T_c065c_row9_col3, #T_c065c_row9_col4, #T_c065c_row9_col5, #T_c065c_row9_col6, #T_c065c_row9_col7, #T_c065c_row10_col0, #T_c065c_row10_col1, #T_c065c_row10_col2, #T_c065c_row10_col3, #T_c065c_row10_col4, #T_c065c_row10_col5, #T_c065c_row10_col6, #T_c065c_row10_col7, #T_c065c_row11_col0, #T_c065c_row11_col1, #T_c065c_row11_col2, #T_c065c_row11_col3, #T_c065c_row11_col4, #T_c065c_row11_col5, #T_c065c_row11_col6, #T_c065c_row11_col7, #T_c065c_row12_col0, #T_c065c_row12_col1, #T_c065c_row12_col2, #T_c065c_row12_col3, #T_c065c_row12_col4, #T_c065c_row12_col5, #T_c065c_row12_col6, #T_c065c_row12_col7, #T_c065c_row13_col0, #T_c065c_row13_col1, #T_c065c_row13_col2, #T_c065c_row13_col3, #T_c065c_row13_col4, #T_c065c_row13_col5, #T_c065c_row13_col6, #T_c065c_row13_col7, #T_c065c_row14_col0, #T_c065c_row14_col1, #T_c065c_row14_col2, #T_c065c_row14_col4, #T_c065c_row14_col5, #T_c065c_row14_col6, #T_c065c_row14_col7 {\n",
       "  text-align: left;\n",
       "}\n",
       "#T_c065c_row0_col1, #T_c065c_row0_col2, #T_c065c_row0_col3, #T_c065c_row0_col4, #T_c065c_row0_col5, #T_c065c_row0_col6, #T_c065c_row0_col7, #T_c065c_row1_col1, #T_c065c_row1_col3, #T_c065c_row1_col4, #T_c065c_row1_col5, #T_c065c_row1_col6, #T_c065c_row1_col7, #T_c065c_row2_col2, #T_c065c_row2_col3, #T_c065c_row3_col3, #T_c065c_row14_col3 {\n",
       "  text-align: left;\n",
       "  background-color: yellow;\n",
       "}\n",
       "#T_c065c_row0_col8, #T_c065c_row1_col8, #T_c065c_row2_col8, #T_c065c_row3_col8, #T_c065c_row4_col8, #T_c065c_row5_col8, #T_c065c_row6_col8, #T_c065c_row7_col8, #T_c065c_row8_col8, #T_c065c_row9_col8, #T_c065c_row10_col8, #T_c065c_row11_col8, #T_c065c_row12_col8, #T_c065c_row13_col8 {\n",
       "  text-align: left;\n",
       "  background-color: lightgrey;\n",
       "}\n",
       "#T_c065c_row14_col8 {\n",
       "  text-align: left;\n",
       "  background-color: yellow;\n",
       "  background-color: lightgrey;\n",
       "}\n",
       "</style>\n",
       "<table id=\"T_c065c\">\n",
       "  <thead>\n",
       "    <tr>\n",
       "      <th class=\"blank level0\" >&nbsp;</th>\n",
       "      <th id=\"T_c065c_level0_col0\" class=\"col_heading level0 col0\" >Model</th>\n",
       "      <th id=\"T_c065c_level0_col1\" class=\"col_heading level0 col1\" >Accuracy</th>\n",
       "      <th id=\"T_c065c_level0_col2\" class=\"col_heading level0 col2\" >AUC</th>\n",
       "      <th id=\"T_c065c_level0_col3\" class=\"col_heading level0 col3\" >Recall</th>\n",
       "      <th id=\"T_c065c_level0_col4\" class=\"col_heading level0 col4\" >Prec.</th>\n",
       "      <th id=\"T_c065c_level0_col5\" class=\"col_heading level0 col5\" >F1</th>\n",
       "      <th id=\"T_c065c_level0_col6\" class=\"col_heading level0 col6\" >Kappa</th>\n",
       "      <th id=\"T_c065c_level0_col7\" class=\"col_heading level0 col7\" >MCC</th>\n",
       "      <th id=\"T_c065c_level0_col8\" class=\"col_heading level0 col8\" >TT (Sec)</th>\n",
       "    </tr>\n",
       "  </thead>\n",
       "  <tbody>\n",
       "    <tr>\n",
       "      <th id=\"T_c065c_level0_row0\" class=\"row_heading level0 row0\" >rf</th>\n",
       "      <td id=\"T_c065c_row0_col0\" class=\"data row0 col0\" >Random Forest Classifier</td>\n",
       "      <td id=\"T_c065c_row0_col1\" class=\"data row0 col1\" >0.9690</td>\n",
       "      <td id=\"T_c065c_row0_col2\" class=\"data row0 col2\" >1.0000</td>\n",
       "      <td id=\"T_c065c_row0_col3\" class=\"data row0 col3\" >1.0000</td>\n",
       "      <td id=\"T_c065c_row0_col4\" class=\"data row0 col4\" >0.9550</td>\n",
       "      <td id=\"T_c065c_row0_col5\" class=\"data row0 col5\" >0.9746</td>\n",
       "      <td id=\"T_c065c_row0_col6\" class=\"data row0 col6\" >0.9362</td>\n",
       "      <td id=\"T_c065c_row0_col7\" class=\"data row0 col7\" >0.9437</td>\n",
       "      <td id=\"T_c065c_row0_col8\" class=\"data row0 col8\" >0.0800</td>\n",
       "    </tr>\n",
       "    <tr>\n",
       "      <th id=\"T_c065c_level0_row1\" class=\"row_heading level0 row1\" >xgboost</th>\n",
       "      <td id=\"T_c065c_row1_col0\" class=\"data row1 col0\" >Extreme Gradient Boosting</td>\n",
       "      <td id=\"T_c065c_row1_col1\" class=\"data row1 col1\" >0.9690</td>\n",
       "      <td id=\"T_c065c_row1_col2\" class=\"data row1 col2\" >0.9889</td>\n",
       "      <td id=\"T_c065c_row1_col3\" class=\"data row1 col3\" >1.0000</td>\n",
       "      <td id=\"T_c065c_row1_col4\" class=\"data row1 col4\" >0.9550</td>\n",
       "      <td id=\"T_c065c_row1_col5\" class=\"data row1 col5\" >0.9746</td>\n",
       "      <td id=\"T_c065c_row1_col6\" class=\"data row1 col6\" >0.9362</td>\n",
       "      <td id=\"T_c065c_row1_col7\" class=\"data row1 col7\" >0.9437</td>\n",
       "      <td id=\"T_c065c_row1_col8\" class=\"data row1 col8\" >0.0310</td>\n",
       "    </tr>\n",
       "    <tr>\n",
       "      <th id=\"T_c065c_level0_row2\" class=\"row_heading level0 row2\" >et</th>\n",
       "      <td id=\"T_c065c_row2_col0\" class=\"data row2 col0\" >Extra Trees Classifier</td>\n",
       "      <td id=\"T_c065c_row2_col1\" class=\"data row2 col1\" >0.9548</td>\n",
       "      <td id=\"T_c065c_row2_col2\" class=\"data row2 col2\" >1.0000</td>\n",
       "      <td id=\"T_c065c_row2_col3\" class=\"data row2 col3\" >1.0000</td>\n",
       "      <td id=\"T_c065c_row2_col4\" class=\"data row2 col4\" >0.9350</td>\n",
       "      <td id=\"T_c065c_row2_col5\" class=\"data row2 col5\" >0.9635</td>\n",
       "      <td id=\"T_c065c_row2_col6\" class=\"data row2 col6\" >0.9058</td>\n",
       "      <td id=\"T_c065c_row2_col7\" class=\"data row2 col7\" >0.9168</td>\n",
       "      <td id=\"T_c065c_row2_col8\" class=\"data row2 col8\" >0.0700</td>\n",
       "    </tr>\n",
       "    <tr>\n",
       "      <th id=\"T_c065c_level0_row3\" class=\"row_heading level0 row3\" >knn</th>\n",
       "      <td id=\"T_c065c_row3_col0\" class=\"data row3 col0\" >K Neighbors Classifier</td>\n",
       "      <td id=\"T_c065c_row3_col1\" class=\"data row3 col1\" >0.9381</td>\n",
       "      <td id=\"T_c065c_row3_col2\" class=\"data row3 col2\" >0.9681</td>\n",
       "      <td id=\"T_c065c_row3_col3\" class=\"data row3 col3\" >1.0000</td>\n",
       "      <td id=\"T_c065c_row3_col4\" class=\"data row3 col4\" >0.9100</td>\n",
       "      <td id=\"T_c065c_row3_col5\" class=\"data row3 col5\" >0.9492</td>\n",
       "      <td id=\"T_c065c_row3_col6\" class=\"data row3 col6\" >0.8725</td>\n",
       "      <td id=\"T_c065c_row3_col7\" class=\"data row3 col7\" >0.8875</td>\n",
       "      <td id=\"T_c065c_row3_col8\" class=\"data row3 col8\" >0.0210</td>\n",
       "    </tr>\n",
       "    <tr>\n",
       "      <th id=\"T_c065c_level0_row4\" class=\"row_heading level0 row4\" >ada</th>\n",
       "      <td id=\"T_c065c_row4_col0\" class=\"data row4 col0\" >Ada Boost Classifier</td>\n",
       "      <td id=\"T_c065c_row4_col1\" class=\"data row4 col1\" >0.9214</td>\n",
       "      <td id=\"T_c065c_row4_col2\" class=\"data row4 col2\" >0.9889</td>\n",
       "      <td id=\"T_c065c_row4_col3\" class=\"data row4 col3\" >0.9500</td>\n",
       "      <td id=\"T_c065c_row4_col4\" class=\"data row4 col4\" >0.9350</td>\n",
       "      <td id=\"T_c065c_row4_col5\" class=\"data row4 col5\" >0.9349</td>\n",
       "      <td id=\"T_c065c_row4_col6\" class=\"data row4 col6\" >0.8320</td>\n",
       "      <td id=\"T_c065c_row4_col7\" class=\"data row4 col7\" >0.8527</td>\n",
       "      <td id=\"T_c065c_row4_col8\" class=\"data row4 col8\" >0.0520</td>\n",
       "    </tr>\n",
       "    <tr>\n",
       "      <th id=\"T_c065c_level0_row5\" class=\"row_heading level0 row5\" >lr</th>\n",
       "      <td id=\"T_c065c_row5_col0\" class=\"data row5 col0\" >Logistic Regression</td>\n",
       "      <td id=\"T_c065c_row5_col1\" class=\"data row5 col1\" >0.9190</td>\n",
       "      <td id=\"T_c065c_row5_col2\" class=\"data row5 col2\" >0.9556</td>\n",
       "      <td id=\"T_c065c_row5_col3\" class=\"data row5 col3\" >0.9750</td>\n",
       "      <td id=\"T_c065c_row5_col4\" class=\"data row5 col4\" >0.9150</td>\n",
       "      <td id=\"T_c065c_row5_col5\" class=\"data row5 col5\" >0.9353</td>\n",
       "      <td id=\"T_c065c_row5_col6\" class=\"data row5 col6\" >0.8362</td>\n",
       "      <td id=\"T_c065c_row5_col7\" class=\"data row5 col7\" >0.8592</td>\n",
       "      <td id=\"T_c065c_row5_col8\" class=\"data row5 col8\" >0.0220</td>\n",
       "    </tr>\n",
       "    <tr>\n",
       "      <th id=\"T_c065c_level0_row6\" class=\"row_heading level0 row6\" >gbc</th>\n",
       "      <td id=\"T_c065c_row6_col0\" class=\"data row6 col0\" >Gradient Boosting Classifier</td>\n",
       "      <td id=\"T_c065c_row6_col1\" class=\"data row6 col1\" >0.9048</td>\n",
       "      <td id=\"T_c065c_row6_col2\" class=\"data row6 col2\" >0.9167</td>\n",
       "      <td id=\"T_c065c_row6_col3\" class=\"data row6 col3\" >0.9500</td>\n",
       "      <td id=\"T_c065c_row6_col4\" class=\"data row6 col4\" >0.9100</td>\n",
       "      <td id=\"T_c065c_row6_col5\" class=\"data row6 col5\" >0.9206</td>\n",
       "      <td id=\"T_c065c_row6_col6\" class=\"data row6 col6\" >0.8058</td>\n",
       "      <td id=\"T_c065c_row6_col7\" class=\"data row6 col7\" >0.8289</td>\n",
       "      <td id=\"T_c065c_row6_col8\" class=\"data row6 col8\" >0.0490</td>\n",
       "    </tr>\n",
       "    <tr>\n",
       "      <th id=\"T_c065c_level0_row7\" class=\"row_heading level0 row7\" >lightgbm</th>\n",
       "      <td id=\"T_c065c_row7_col0\" class=\"data row7 col0\" >Light Gradient Boosting Machine</td>\n",
       "      <td id=\"T_c065c_row7_col1\" class=\"data row7 col1\" >0.8929</td>\n",
       "      <td id=\"T_c065c_row7_col2\" class=\"data row7 col2\" >0.9722</td>\n",
       "      <td id=\"T_c065c_row7_col3\" class=\"data row7 col3\" >0.9167</td>\n",
       "      <td id=\"T_c065c_row7_col4\" class=\"data row7 col4\" >0.9017</td>\n",
       "      <td id=\"T_c065c_row7_col5\" class=\"data row7 col5\" >0.9052</td>\n",
       "      <td id=\"T_c065c_row7_col6\" class=\"data row7 col6\" >0.7808</td>\n",
       "      <td id=\"T_c065c_row7_col7\" class=\"data row7 col7\" >0.7918</td>\n",
       "      <td id=\"T_c065c_row7_col8\" class=\"data row7 col8\" >0.0370</td>\n",
       "    </tr>\n",
       "    <tr>\n",
       "      <th id=\"T_c065c_level0_row8\" class=\"row_heading level0 row8\" >ridge</th>\n",
       "      <td id=\"T_c065c_row8_col0\" class=\"data row8 col0\" >Ridge Classifier</td>\n",
       "      <td id=\"T_c065c_row8_col1\" class=\"data row8 col1\" >0.8857</td>\n",
       "      <td id=\"T_c065c_row8_col2\" class=\"data row8 col2\" >0.9556</td>\n",
       "      <td id=\"T_c065c_row8_col3\" class=\"data row8 col3\" >0.9083</td>\n",
       "      <td id=\"T_c065c_row8_col4\" class=\"data row8 col4\" >0.8967</td>\n",
       "      <td id=\"T_c065c_row8_col5\" class=\"data row8 col5\" >0.8984</td>\n",
       "      <td id=\"T_c065c_row8_col6\" class=\"data row8 col6\" >0.7625</td>\n",
       "      <td id=\"T_c065c_row8_col7\" class=\"data row8 col7\" >0.7716</td>\n",
       "      <td id=\"T_c065c_row8_col8\" class=\"data row8 col8\" >0.0150</td>\n",
       "    </tr>\n",
       "    <tr>\n",
       "      <th id=\"T_c065c_level0_row9\" class=\"row_heading level0 row9\" >lda</th>\n",
       "      <td id=\"T_c065c_row9_col0\" class=\"data row9 col0\" >Linear Discriminant Analysis</td>\n",
       "      <td id=\"T_c065c_row9_col1\" class=\"data row9 col1\" >0.8857</td>\n",
       "      <td id=\"T_c065c_row9_col2\" class=\"data row9 col2\" >0.9556</td>\n",
       "      <td id=\"T_c065c_row9_col3\" class=\"data row9 col3\" >0.9083</td>\n",
       "      <td id=\"T_c065c_row9_col4\" class=\"data row9 col4\" >0.8967</td>\n",
       "      <td id=\"T_c065c_row9_col5\" class=\"data row9 col5\" >0.8984</td>\n",
       "      <td id=\"T_c065c_row9_col6\" class=\"data row9 col6\" >0.7625</td>\n",
       "      <td id=\"T_c065c_row9_col7\" class=\"data row9 col7\" >0.7716</td>\n",
       "      <td id=\"T_c065c_row9_col8\" class=\"data row9 col8\" >0.0150</td>\n",
       "    </tr>\n",
       "    <tr>\n",
       "      <th id=\"T_c065c_level0_row10\" class=\"row_heading level0 row10\" >dt</th>\n",
       "      <td id=\"T_c065c_row10_col0\" class=\"data row10 col0\" >Decision Tree Classifier</td>\n",
       "      <td id=\"T_c065c_row10_col1\" class=\"data row10 col1\" >0.8762</td>\n",
       "      <td id=\"T_c065c_row10_col2\" class=\"data row10 col2\" >0.8750</td>\n",
       "      <td id=\"T_c065c_row10_col3\" class=\"data row10 col3\" >0.9500</td>\n",
       "      <td id=\"T_c065c_row10_col4\" class=\"data row10 col4\" >0.8767</td>\n",
       "      <td id=\"T_c065c_row10_col5\" class=\"data row10 col5\" >0.9006</td>\n",
       "      <td id=\"T_c065c_row10_col6\" class=\"data row10 col6\" >0.7422</td>\n",
       "      <td id=\"T_c065c_row10_col7\" class=\"data row10 col7\" >0.7760</td>\n",
       "      <td id=\"T_c065c_row10_col8\" class=\"data row10 col8\" >0.0190</td>\n",
       "    </tr>\n",
       "    <tr>\n",
       "      <th id=\"T_c065c_level0_row11\" class=\"row_heading level0 row11\" >nb</th>\n",
       "      <td id=\"T_c065c_row11_col0\" class=\"data row11 col0\" >Naive Bayes</td>\n",
       "      <td id=\"T_c065c_row11_col1\" class=\"data row11 col1\" >0.8714</td>\n",
       "      <td id=\"T_c065c_row11_col2\" class=\"data row11 col2\" >0.8729</td>\n",
       "      <td id=\"T_c065c_row11_col3\" class=\"data row11 col3\" >0.9083</td>\n",
       "      <td id=\"T_c065c_row11_col4\" class=\"data row11 col4\" >0.8683</td>\n",
       "      <td id=\"T_c065c_row11_col5\" class=\"data row11 col5\" >0.8861</td>\n",
       "      <td id=\"T_c065c_row11_col6\" class=\"data row11 col6\" >0.7226</td>\n",
       "      <td id=\"T_c065c_row11_col7\" class=\"data row11 col7\" >0.7348</td>\n",
       "      <td id=\"T_c065c_row11_col8\" class=\"data row11 col8\" >0.0150</td>\n",
       "    </tr>\n",
       "    <tr>\n",
       "      <th id=\"T_c065c_level0_row12\" class=\"row_heading level0 row12\" >svm</th>\n",
       "      <td id=\"T_c065c_row12_col0\" class=\"data row12 col0\" >SVM - Linear Kernel</td>\n",
       "      <td id=\"T_c065c_row12_col1\" class=\"data row12 col1\" >0.8690</td>\n",
       "      <td id=\"T_c065c_row12_col2\" class=\"data row12 col2\" >0.9667</td>\n",
       "      <td id=\"T_c065c_row12_col3\" class=\"data row12 col3\" >0.8583</td>\n",
       "      <td id=\"T_c065c_row12_col4\" class=\"data row12 col4\" >0.9350</td>\n",
       "      <td id=\"T_c065c_row12_col5\" class=\"data row12 col5\" >0.8659</td>\n",
       "      <td id=\"T_c065c_row12_col6\" class=\"data row12 col6\" >0.7334</td>\n",
       "      <td id=\"T_c065c_row12_col7\" class=\"data row12 col7\" >0.7724</td>\n",
       "      <td id=\"T_c065c_row12_col8\" class=\"data row12 col8\" >0.0200</td>\n",
       "    </tr>\n",
       "    <tr>\n",
       "      <th id=\"T_c065c_level0_row13\" class=\"row_heading level0 row13\" >qda</th>\n",
       "      <td id=\"T_c065c_row13_col0\" class=\"data row13 col0\" >Quadratic Discriminant Analysis</td>\n",
       "      <td id=\"T_c065c_row13_col1\" class=\"data row13 col1\" >0.8048</td>\n",
       "      <td id=\"T_c065c_row13_col2\" class=\"data row13 col2\" >0.8486</td>\n",
       "      <td id=\"T_c065c_row13_col3\" class=\"data row13 col3\" >0.8167</td>\n",
       "      <td id=\"T_c065c_row13_col4\" class=\"data row13 col4\" >0.7833</td>\n",
       "      <td id=\"T_c065c_row13_col5\" class=\"data row13 col5\" >0.7931</td>\n",
       "      <td id=\"T_c065c_row13_col6\" class=\"data row13 col6\" >0.6083</td>\n",
       "      <td id=\"T_c065c_row13_col7\" class=\"data row13 col7\" >0.6164</td>\n",
       "      <td id=\"T_c065c_row13_col8\" class=\"data row13 col8\" >0.0160</td>\n",
       "    </tr>\n",
       "    <tr>\n",
       "      <th id=\"T_c065c_level0_row14\" class=\"row_heading level0 row14\" >dummy</th>\n",
       "      <td id=\"T_c065c_row14_col0\" class=\"data row14 col0\" >Dummy Classifier</td>\n",
       "      <td id=\"T_c065c_row14_col1\" class=\"data row14 col1\" >0.5881</td>\n",
       "      <td id=\"T_c065c_row14_col2\" class=\"data row14 col2\" >0.5000</td>\n",
       "      <td id=\"T_c065c_row14_col3\" class=\"data row14 col3\" >1.0000</td>\n",
       "      <td id=\"T_c065c_row14_col4\" class=\"data row14 col4\" >0.5881</td>\n",
       "      <td id=\"T_c065c_row14_col5\" class=\"data row14 col5\" >0.7382</td>\n",
       "      <td id=\"T_c065c_row14_col6\" class=\"data row14 col6\" >0.0000</td>\n",
       "      <td id=\"T_c065c_row14_col7\" class=\"data row14 col7\" >0.0000</td>\n",
       "      <td id=\"T_c065c_row14_col8\" class=\"data row14 col8\" >0.0140</td>\n",
       "    </tr>\n",
       "  </tbody>\n",
       "</table>\n"
      ],
      "text/plain": [
       "<pandas.io.formats.style.Styler at 0x27fe592ddd0>"
      ]
     },
     "metadata": {},
     "output_type": "display_data"
    },
    {
     "data": {
      "application/vnd.jupyter.widget-view+json": {
       "model_id": "10f156fdef0241b4b1f71b52f82cb06a",
       "version_major": 2,
       "version_minor": 0
      },
      "text/plain": [
       "Processing:   0%|          | 0/65 [00:00<?, ?it/s]"
      ]
     },
     "metadata": {},
     "output_type": "display_data"
    },
    {
     "data": {
      "text/html": [],
      "text/plain": [
       "<IPython.core.display.HTML object>"
      ]
     },
     "metadata": {},
     "output_type": "display_data"
    },
    {
     "data": {
      "text/html": [
       "<style type=\"text/css\">\n",
       "#T_2838f th {\n",
       "  text-align: left;\n",
       "}\n",
       "#T_2838f_row0_col0 {\n",
       "  text-align: left;\n",
       "}\n",
       "#T_2838f_row0_col1, #T_2838f_row0_col2, #T_2838f_row0_col3, #T_2838f_row0_col4, #T_2838f_row0_col5, #T_2838f_row0_col6, #T_2838f_row0_col7 {\n",
       "  text-align: left;\n",
       "  background-color: yellow;\n",
       "}\n",
       "#T_2838f_row0_col8 {\n",
       "  text-align: left;\n",
       "  background-color: yellow;\n",
       "  background-color: lightgrey;\n",
       "}\n",
       "</style>\n",
       "<table id=\"T_2838f\">\n",
       "  <thead>\n",
       "    <tr>\n",
       "      <th class=\"blank level0\" >&nbsp;</th>\n",
       "      <th id=\"T_2838f_level0_col0\" class=\"col_heading level0 col0\" >Model</th>\n",
       "      <th id=\"T_2838f_level0_col1\" class=\"col_heading level0 col1\" >Accuracy</th>\n",
       "      <th id=\"T_2838f_level0_col2\" class=\"col_heading level0 col2\" >AUC</th>\n",
       "      <th id=\"T_2838f_level0_col3\" class=\"col_heading level0 col3\" >Recall</th>\n",
       "      <th id=\"T_2838f_level0_col4\" class=\"col_heading level0 col4\" >Prec.</th>\n",
       "      <th id=\"T_2838f_level0_col5\" class=\"col_heading level0 col5\" >F1</th>\n",
       "      <th id=\"T_2838f_level0_col6\" class=\"col_heading level0 col6\" >Kappa</th>\n",
       "      <th id=\"T_2838f_level0_col7\" class=\"col_heading level0 col7\" >MCC</th>\n",
       "      <th id=\"T_2838f_level0_col8\" class=\"col_heading level0 col8\" >TT (Sec)</th>\n",
       "    </tr>\n",
       "  </thead>\n",
       "  <tbody>\n",
       "    <tr>\n",
       "      <th id=\"T_2838f_level0_row0\" class=\"row_heading level0 row0\" >rf</th>\n",
       "      <td id=\"T_2838f_row0_col0\" class=\"data row0 col0\" >Random Forest Classifier</td>\n",
       "      <td id=\"T_2838f_row0_col1\" class=\"data row0 col1\" >0.9690</td>\n",
       "      <td id=\"T_2838f_row0_col2\" class=\"data row0 col2\" >1.0000</td>\n",
       "      <td id=\"T_2838f_row0_col3\" class=\"data row0 col3\" >1.0000</td>\n",
       "      <td id=\"T_2838f_row0_col4\" class=\"data row0 col4\" >0.9550</td>\n",
       "      <td id=\"T_2838f_row0_col5\" class=\"data row0 col5\" >0.9746</td>\n",
       "      <td id=\"T_2838f_row0_col6\" class=\"data row0 col6\" >0.9362</td>\n",
       "      <td id=\"T_2838f_row0_col7\" class=\"data row0 col7\" >0.9437</td>\n",
       "      <td id=\"T_2838f_row0_col8\" class=\"data row0 col8\" >0.0880</td>\n",
       "    </tr>\n",
       "  </tbody>\n",
       "</table>\n"
      ],
      "text/plain": [
       "<pandas.io.formats.style.Styler at 0x27fe5a71e90>"
      ]
     },
     "metadata": {},
     "output_type": "display_data"
    },
    {
     "data": {
      "application/vnd.jupyter.widget-view+json": {
       "model_id": "afdb47cb3ef746229851ca073685de5a",
       "version_major": 2,
       "version_minor": 0
      },
      "text/plain": [
       "Processing:   0%|          | 0/9 [00:00<?, ?it/s]"
      ]
     },
     "metadata": {},
     "output_type": "display_data"
    },
    {
     "data": {
      "text/html": [],
      "text/plain": [
       "<IPython.core.display.HTML object>"
      ]
     },
     "metadata": {},
     "output_type": "display_data"
    },
    {
     "data": {
      "text/html": [],
      "text/plain": [
       "<IPython.core.display.HTML object>"
      ]
     },
     "metadata": {},
     "output_type": "display_data"
    },
    {
     "data": {
      "text/html": [],
      "text/plain": [
       "<IPython.core.display.HTML object>"
      ]
     },
     "metadata": {},
     "output_type": "display_data"
    },
    {
     "data": {
      "text/html": [
       "<style type=\"text/css\">\n",
       "#T_9c826 th {\n",
       "  text-align: left;\n",
       "}\n",
       "#T_9c826_row0_col0 {\n",
       "  text-align: left;\n",
       "}\n",
       "#T_9c826_row0_col1, #T_9c826_row0_col2, #T_9c826_row0_col3, #T_9c826_row0_col4, #T_9c826_row0_col5, #T_9c826_row0_col6, #T_9c826_row0_col7 {\n",
       "  text-align: left;\n",
       "  background-color: yellow;\n",
       "}\n",
       "#T_9c826_row0_col8 {\n",
       "  text-align: left;\n",
       "  background-color: yellow;\n",
       "  background-color: lightgrey;\n",
       "}\n",
       "</style>\n",
       "<table id=\"T_9c826\">\n",
       "  <thead>\n",
       "    <tr>\n",
       "      <th class=\"blank level0\" >&nbsp;</th>\n",
       "      <th id=\"T_9c826_level0_col0\" class=\"col_heading level0 col0\" >Model</th>\n",
       "      <th id=\"T_9c826_level0_col1\" class=\"col_heading level0 col1\" >Accuracy</th>\n",
       "      <th id=\"T_9c826_level0_col2\" class=\"col_heading level0 col2\" >AUC</th>\n",
       "      <th id=\"T_9c826_level0_col3\" class=\"col_heading level0 col3\" >Recall</th>\n",
       "      <th id=\"T_9c826_level0_col4\" class=\"col_heading level0 col4\" >Prec.</th>\n",
       "      <th id=\"T_9c826_level0_col5\" class=\"col_heading level0 col5\" >F1</th>\n",
       "      <th id=\"T_9c826_level0_col6\" class=\"col_heading level0 col6\" >Kappa</th>\n",
       "      <th id=\"T_9c826_level0_col7\" class=\"col_heading level0 col7\" >MCC</th>\n",
       "      <th id=\"T_9c826_level0_col8\" class=\"col_heading level0 col8\" >TT (Sec)</th>\n",
       "    </tr>\n",
       "  </thead>\n",
       "  <tbody>\n",
       "    <tr>\n",
       "      <th id=\"T_9c826_level0_row0\" class=\"row_heading level0 row0\" >xgboost</th>\n",
       "      <td id=\"T_9c826_row0_col0\" class=\"data row0 col0\" >Extreme Gradient Boosting</td>\n",
       "      <td id=\"T_9c826_row0_col1\" class=\"data row0 col1\" >0.9690</td>\n",
       "      <td id=\"T_9c826_row0_col2\" class=\"data row0 col2\" >0.9889</td>\n",
       "      <td id=\"T_9c826_row0_col3\" class=\"data row0 col3\" >1.0000</td>\n",
       "      <td id=\"T_9c826_row0_col4\" class=\"data row0 col4\" >0.9550</td>\n",
       "      <td id=\"T_9c826_row0_col5\" class=\"data row0 col5\" >0.9746</td>\n",
       "      <td id=\"T_9c826_row0_col6\" class=\"data row0 col6\" >0.9362</td>\n",
       "      <td id=\"T_9c826_row0_col7\" class=\"data row0 col7\" >0.9437</td>\n",
       "      <td id=\"T_9c826_row0_col8\" class=\"data row0 col8\" >0.0300</td>\n",
       "    </tr>\n",
       "  </tbody>\n",
       "</table>\n"
      ],
      "text/plain": [
       "<pandas.io.formats.style.Styler at 0x27fece99550>"
      ]
     },
     "metadata": {},
     "output_type": "display_data"
    },
    {
     "data": {
      "application/vnd.jupyter.widget-view+json": {
       "model_id": "1cb7a048e0164dddb48ad6c4c6178573",
       "version_major": 2,
       "version_minor": 0
      },
      "text/plain": [
       "Processing:   0%|          | 0/9 [00:00<?, ?it/s]"
      ]
     },
     "metadata": {},
     "output_type": "display_data"
    },
    {
     "data": {
      "text/html": [],
      "text/plain": [
       "<IPython.core.display.HTML object>"
      ]
     },
     "metadata": {},
     "output_type": "display_data"
    },
    {
     "data": {
      "text/html": [],
      "text/plain": [
       "<IPython.core.display.HTML object>"
      ]
     },
     "metadata": {},
     "output_type": "display_data"
    },
    {
     "data": {
      "text/html": [],
      "text/plain": [
       "<IPython.core.display.HTML object>"
      ]
     },
     "metadata": {},
     "output_type": "display_data"
    },
    {
     "data": {
      "text/html": [
       "<style type=\"text/css\">\n",
       "#T_7f643 th {\n",
       "  text-align: left;\n",
       "}\n",
       "#T_7f643_row0_col0 {\n",
       "  text-align: left;\n",
       "}\n",
       "#T_7f643_row0_col1, #T_7f643_row0_col2, #T_7f643_row0_col3, #T_7f643_row0_col4, #T_7f643_row0_col5, #T_7f643_row0_col6, #T_7f643_row0_col7 {\n",
       "  text-align: left;\n",
       "  background-color: yellow;\n",
       "}\n",
       "#T_7f643_row0_col8 {\n",
       "  text-align: left;\n",
       "  background-color: yellow;\n",
       "  background-color: lightgrey;\n",
       "}\n",
       "</style>\n",
       "<table id=\"T_7f643\">\n",
       "  <thead>\n",
       "    <tr>\n",
       "      <th class=\"blank level0\" >&nbsp;</th>\n",
       "      <th id=\"T_7f643_level0_col0\" class=\"col_heading level0 col0\" >Model</th>\n",
       "      <th id=\"T_7f643_level0_col1\" class=\"col_heading level0 col1\" >Accuracy</th>\n",
       "      <th id=\"T_7f643_level0_col2\" class=\"col_heading level0 col2\" >AUC</th>\n",
       "      <th id=\"T_7f643_level0_col3\" class=\"col_heading level0 col3\" >Recall</th>\n",
       "      <th id=\"T_7f643_level0_col4\" class=\"col_heading level0 col4\" >Prec.</th>\n",
       "      <th id=\"T_7f643_level0_col5\" class=\"col_heading level0 col5\" >F1</th>\n",
       "      <th id=\"T_7f643_level0_col6\" class=\"col_heading level0 col6\" >Kappa</th>\n",
       "      <th id=\"T_7f643_level0_col7\" class=\"col_heading level0 col7\" >MCC</th>\n",
       "      <th id=\"T_7f643_level0_col8\" class=\"col_heading level0 col8\" >TT (Sec)</th>\n",
       "    </tr>\n",
       "  </thead>\n",
       "  <tbody>\n",
       "    <tr>\n",
       "      <th id=\"T_7f643_level0_row0\" class=\"row_heading level0 row0\" >et</th>\n",
       "      <td id=\"T_7f643_row0_col0\" class=\"data row0 col0\" >Extra Trees Classifier</td>\n",
       "      <td id=\"T_7f643_row0_col1\" class=\"data row0 col1\" >0.9548</td>\n",
       "      <td id=\"T_7f643_row0_col2\" class=\"data row0 col2\" >1.0000</td>\n",
       "      <td id=\"T_7f643_row0_col3\" class=\"data row0 col3\" >1.0000</td>\n",
       "      <td id=\"T_7f643_row0_col4\" class=\"data row0 col4\" >0.9350</td>\n",
       "      <td id=\"T_7f643_row0_col5\" class=\"data row0 col5\" >0.9635</td>\n",
       "      <td id=\"T_7f643_row0_col6\" class=\"data row0 col6\" >0.9058</td>\n",
       "      <td id=\"T_7f643_row0_col7\" class=\"data row0 col7\" >0.9168</td>\n",
       "      <td id=\"T_7f643_row0_col8\" class=\"data row0 col8\" >0.0730</td>\n",
       "    </tr>\n",
       "  </tbody>\n",
       "</table>\n"
      ],
      "text/plain": [
       "<pandas.io.formats.style.Styler at 0x27fecee8b50>"
      ]
     },
     "metadata": {},
     "output_type": "display_data"
    },
    {
     "data": {
      "application/vnd.jupyter.widget-view+json": {
       "model_id": "f214d07682e1415c98c2beafe8962536",
       "version_major": 2,
       "version_minor": 0
      },
      "text/plain": [
       "Processing:   0%|          | 0/9 [00:00<?, ?it/s]"
      ]
     },
     "metadata": {},
     "output_type": "display_data"
    },
    {
     "data": {
      "text/html": [],
      "text/plain": [
       "<IPython.core.display.HTML object>"
      ]
     },
     "metadata": {},
     "output_type": "display_data"
    },
    {
     "data": {
      "text/html": [],
      "text/plain": [
       "<IPython.core.display.HTML object>"
      ]
     },
     "metadata": {},
     "output_type": "display_data"
    },
    {
     "data": {
      "text/html": [],
      "text/plain": [
       "<IPython.core.display.HTML object>"
      ]
     },
     "metadata": {},
     "output_type": "display_data"
    },
    {
     "data": {
      "text/html": [
       "<style type=\"text/css\">\n",
       "#T_301fd th {\n",
       "  text-align: left;\n",
       "}\n",
       "#T_301fd_row0_col0 {\n",
       "  text-align: left;\n",
       "}\n",
       "#T_301fd_row0_col1, #T_301fd_row0_col2, #T_301fd_row0_col3, #T_301fd_row0_col4, #T_301fd_row0_col5, #T_301fd_row0_col6, #T_301fd_row0_col7 {\n",
       "  text-align: left;\n",
       "  background-color: yellow;\n",
       "}\n",
       "#T_301fd_row0_col8 {\n",
       "  text-align: left;\n",
       "  background-color: yellow;\n",
       "  background-color: lightgrey;\n",
       "}\n",
       "</style>\n",
       "<table id=\"T_301fd\">\n",
       "  <thead>\n",
       "    <tr>\n",
       "      <th class=\"blank level0\" >&nbsp;</th>\n",
       "      <th id=\"T_301fd_level0_col0\" class=\"col_heading level0 col0\" >Model</th>\n",
       "      <th id=\"T_301fd_level0_col1\" class=\"col_heading level0 col1\" >Accuracy</th>\n",
       "      <th id=\"T_301fd_level0_col2\" class=\"col_heading level0 col2\" >AUC</th>\n",
       "      <th id=\"T_301fd_level0_col3\" class=\"col_heading level0 col3\" >Recall</th>\n",
       "      <th id=\"T_301fd_level0_col4\" class=\"col_heading level0 col4\" >Prec.</th>\n",
       "      <th id=\"T_301fd_level0_col5\" class=\"col_heading level0 col5\" >F1</th>\n",
       "      <th id=\"T_301fd_level0_col6\" class=\"col_heading level0 col6\" >Kappa</th>\n",
       "      <th id=\"T_301fd_level0_col7\" class=\"col_heading level0 col7\" >MCC</th>\n",
       "      <th id=\"T_301fd_level0_col8\" class=\"col_heading level0 col8\" >TT (Sec)</th>\n",
       "    </tr>\n",
       "  </thead>\n",
       "  <tbody>\n",
       "    <tr>\n",
       "      <th id=\"T_301fd_level0_row0\" class=\"row_heading level0 row0\" >knn</th>\n",
       "      <td id=\"T_301fd_row0_col0\" class=\"data row0 col0\" >K Neighbors Classifier</td>\n",
       "      <td id=\"T_301fd_row0_col1\" class=\"data row0 col1\" >0.9381</td>\n",
       "      <td id=\"T_301fd_row0_col2\" class=\"data row0 col2\" >0.9681</td>\n",
       "      <td id=\"T_301fd_row0_col3\" class=\"data row0 col3\" >1.0000</td>\n",
       "      <td id=\"T_301fd_row0_col4\" class=\"data row0 col4\" >0.9100</td>\n",
       "      <td id=\"T_301fd_row0_col5\" class=\"data row0 col5\" >0.9492</td>\n",
       "      <td id=\"T_301fd_row0_col6\" class=\"data row0 col6\" >0.8725</td>\n",
       "      <td id=\"T_301fd_row0_col7\" class=\"data row0 col7\" >0.8875</td>\n",
       "      <td id=\"T_301fd_row0_col8\" class=\"data row0 col8\" >0.0360</td>\n",
       "    </tr>\n",
       "  </tbody>\n",
       "</table>\n"
      ],
      "text/plain": [
       "<pandas.io.formats.style.Styler at 0x27fece0b210>"
      ]
     },
     "metadata": {},
     "output_type": "display_data"
    },
    {
     "data": {
      "application/vnd.jupyter.widget-view+json": {
       "model_id": "351b1c075812438198a7609170b0a72a",
       "version_major": 2,
       "version_minor": 0
      },
      "text/plain": [
       "Processing:   0%|          | 0/9 [00:00<?, ?it/s]"
      ]
     },
     "metadata": {},
     "output_type": "display_data"
    },
    {
     "data": {
      "text/html": [],
      "text/plain": [
       "<IPython.core.display.HTML object>"
      ]
     },
     "metadata": {},
     "output_type": "display_data"
    },
    {
     "data": {
      "text/html": [],
      "text/plain": [
       "<IPython.core.display.HTML object>"
      ]
     },
     "metadata": {},
     "output_type": "display_data"
    },
    {
     "data": {
      "text/html": [],
      "text/plain": [
       "<IPython.core.display.HTML object>"
      ]
     },
     "metadata": {},
     "output_type": "display_data"
    },
    {
     "data": {
      "text/html": [
       "<style type=\"text/css\">\n",
       "#T_35cc3 th {\n",
       "  text-align: left;\n",
       "}\n",
       "#T_35cc3_row0_col0 {\n",
       "  text-align: left;\n",
       "}\n",
       "#T_35cc3_row0_col1, #T_35cc3_row0_col2, #T_35cc3_row0_col3, #T_35cc3_row0_col4, #T_35cc3_row0_col5, #T_35cc3_row0_col6, #T_35cc3_row0_col7 {\n",
       "  text-align: left;\n",
       "  background-color: yellow;\n",
       "}\n",
       "#T_35cc3_row0_col8 {\n",
       "  text-align: left;\n",
       "  background-color: yellow;\n",
       "  background-color: lightgrey;\n",
       "}\n",
       "</style>\n",
       "<table id=\"T_35cc3\">\n",
       "  <thead>\n",
       "    <tr>\n",
       "      <th class=\"blank level0\" >&nbsp;</th>\n",
       "      <th id=\"T_35cc3_level0_col0\" class=\"col_heading level0 col0\" >Model</th>\n",
       "      <th id=\"T_35cc3_level0_col1\" class=\"col_heading level0 col1\" >Accuracy</th>\n",
       "      <th id=\"T_35cc3_level0_col2\" class=\"col_heading level0 col2\" >AUC</th>\n",
       "      <th id=\"T_35cc3_level0_col3\" class=\"col_heading level0 col3\" >Recall</th>\n",
       "      <th id=\"T_35cc3_level0_col4\" class=\"col_heading level0 col4\" >Prec.</th>\n",
       "      <th id=\"T_35cc3_level0_col5\" class=\"col_heading level0 col5\" >F1</th>\n",
       "      <th id=\"T_35cc3_level0_col6\" class=\"col_heading level0 col6\" >Kappa</th>\n",
       "      <th id=\"T_35cc3_level0_col7\" class=\"col_heading level0 col7\" >MCC</th>\n",
       "      <th id=\"T_35cc3_level0_col8\" class=\"col_heading level0 col8\" >TT (Sec)</th>\n",
       "    </tr>\n",
       "  </thead>\n",
       "  <tbody>\n",
       "    <tr>\n",
       "      <th id=\"T_35cc3_level0_row0\" class=\"row_heading level0 row0\" >ada</th>\n",
       "      <td id=\"T_35cc3_row0_col0\" class=\"data row0 col0\" >Ada Boost Classifier</td>\n",
       "      <td id=\"T_35cc3_row0_col1\" class=\"data row0 col1\" >0.9214</td>\n",
       "      <td id=\"T_35cc3_row0_col2\" class=\"data row0 col2\" >0.9889</td>\n",
       "      <td id=\"T_35cc3_row0_col3\" class=\"data row0 col3\" >0.9500</td>\n",
       "      <td id=\"T_35cc3_row0_col4\" class=\"data row0 col4\" >0.9350</td>\n",
       "      <td id=\"T_35cc3_row0_col5\" class=\"data row0 col5\" >0.9349</td>\n",
       "      <td id=\"T_35cc3_row0_col6\" class=\"data row0 col6\" >0.8320</td>\n",
       "      <td id=\"T_35cc3_row0_col7\" class=\"data row0 col7\" >0.8527</td>\n",
       "      <td id=\"T_35cc3_row0_col8\" class=\"data row0 col8\" >0.0520</td>\n",
       "    </tr>\n",
       "  </tbody>\n",
       "</table>\n"
      ],
      "text/plain": [
       "<pandas.io.formats.style.Styler at 0x27fe5780d10>"
      ]
     },
     "metadata": {},
     "output_type": "display_data"
    },
    {
     "data": {
      "application/vnd.jupyter.widget-view+json": {
       "model_id": "627562898a444d32b68b2a13c8810ae7",
       "version_major": 2,
       "version_minor": 0
      },
      "text/plain": [
       "Processing:   0%|          | 0/9 [00:00<?, ?it/s]"
      ]
     },
     "metadata": {},
     "output_type": "display_data"
    },
    {
     "data": {
      "text/html": [],
      "text/plain": [
       "<IPython.core.display.HTML object>"
      ]
     },
     "metadata": {},
     "output_type": "display_data"
    },
    {
     "data": {
      "text/html": [],
      "text/plain": [
       "<IPython.core.display.HTML object>"
      ]
     },
     "metadata": {},
     "output_type": "display_data"
    },
    {
     "data": {
      "text/html": [],
      "text/plain": [
       "<IPython.core.display.HTML object>"
      ]
     },
     "metadata": {},
     "output_type": "display_data"
    },
    {
     "data": {
      "text/html": [
       "<style type=\"text/css\">\n",
       "#T_ed44a th {\n",
       "  text-align: left;\n",
       "}\n",
       "#T_ed44a_row0_col0 {\n",
       "  text-align: left;\n",
       "}\n",
       "#T_ed44a_row0_col1, #T_ed44a_row0_col2, #T_ed44a_row0_col3, #T_ed44a_row0_col4, #T_ed44a_row0_col5, #T_ed44a_row0_col6, #T_ed44a_row0_col7 {\n",
       "  text-align: left;\n",
       "  background-color: yellow;\n",
       "}\n",
       "#T_ed44a_row0_col8 {\n",
       "  text-align: left;\n",
       "  background-color: yellow;\n",
       "  background-color: lightgrey;\n",
       "}\n",
       "</style>\n",
       "<table id=\"T_ed44a\">\n",
       "  <thead>\n",
       "    <tr>\n",
       "      <th class=\"blank level0\" >&nbsp;</th>\n",
       "      <th id=\"T_ed44a_level0_col0\" class=\"col_heading level0 col0\" >Model</th>\n",
       "      <th id=\"T_ed44a_level0_col1\" class=\"col_heading level0 col1\" >Accuracy</th>\n",
       "      <th id=\"T_ed44a_level0_col2\" class=\"col_heading level0 col2\" >AUC</th>\n",
       "      <th id=\"T_ed44a_level0_col3\" class=\"col_heading level0 col3\" >Recall</th>\n",
       "      <th id=\"T_ed44a_level0_col4\" class=\"col_heading level0 col4\" >Prec.</th>\n",
       "      <th id=\"T_ed44a_level0_col5\" class=\"col_heading level0 col5\" >F1</th>\n",
       "      <th id=\"T_ed44a_level0_col6\" class=\"col_heading level0 col6\" >Kappa</th>\n",
       "      <th id=\"T_ed44a_level0_col7\" class=\"col_heading level0 col7\" >MCC</th>\n",
       "      <th id=\"T_ed44a_level0_col8\" class=\"col_heading level0 col8\" >TT (Sec)</th>\n",
       "    </tr>\n",
       "  </thead>\n",
       "  <tbody>\n",
       "    <tr>\n",
       "      <th id=\"T_ed44a_level0_row0\" class=\"row_heading level0 row0\" >lr</th>\n",
       "      <td id=\"T_ed44a_row0_col0\" class=\"data row0 col0\" >Logistic Regression</td>\n",
       "      <td id=\"T_ed44a_row0_col1\" class=\"data row0 col1\" >0.9190</td>\n",
       "      <td id=\"T_ed44a_row0_col2\" class=\"data row0 col2\" >0.9556</td>\n",
       "      <td id=\"T_ed44a_row0_col3\" class=\"data row0 col3\" >0.9750</td>\n",
       "      <td id=\"T_ed44a_row0_col4\" class=\"data row0 col4\" >0.9150</td>\n",
       "      <td id=\"T_ed44a_row0_col5\" class=\"data row0 col5\" >0.9353</td>\n",
       "      <td id=\"T_ed44a_row0_col6\" class=\"data row0 col6\" >0.8362</td>\n",
       "      <td id=\"T_ed44a_row0_col7\" class=\"data row0 col7\" >0.8592</td>\n",
       "      <td id=\"T_ed44a_row0_col8\" class=\"data row0 col8\" >0.0220</td>\n",
       "    </tr>\n",
       "  </tbody>\n",
       "</table>\n"
      ],
      "text/plain": [
       "<pandas.io.formats.style.Styler at 0x27fe5a19590>"
      ]
     },
     "metadata": {},
     "output_type": "display_data"
    },
    {
     "data": {
      "application/vnd.jupyter.widget-view+json": {
       "model_id": "9953d8ea49b74784a19b9b44732f7508",
       "version_major": 2,
       "version_minor": 0
      },
      "text/plain": [
       "Processing:   0%|          | 0/9 [00:00<?, ?it/s]"
      ]
     },
     "metadata": {},
     "output_type": "display_data"
    },
    {
     "data": {
      "text/html": [],
      "text/plain": [
       "<IPython.core.display.HTML object>"
      ]
     },
     "metadata": {},
     "output_type": "display_data"
    },
    {
     "data": {
      "text/html": [],
      "text/plain": [
       "<IPython.core.display.HTML object>"
      ]
     },
     "metadata": {},
     "output_type": "display_data"
    },
    {
     "data": {
      "text/html": [],
      "text/plain": [
       "<IPython.core.display.HTML object>"
      ]
     },
     "metadata": {},
     "output_type": "display_data"
    },
    {
     "data": {
      "text/html": [
       "<style type=\"text/css\">\n",
       "#T_086d7 th {\n",
       "  text-align: left;\n",
       "}\n",
       "#T_086d7_row0_col0 {\n",
       "  text-align: left;\n",
       "}\n",
       "#T_086d7_row0_col1, #T_086d7_row0_col2, #T_086d7_row0_col3, #T_086d7_row0_col4, #T_086d7_row0_col5, #T_086d7_row0_col6, #T_086d7_row0_col7 {\n",
       "  text-align: left;\n",
       "  background-color: yellow;\n",
       "}\n",
       "#T_086d7_row0_col8 {\n",
       "  text-align: left;\n",
       "  background-color: yellow;\n",
       "  background-color: lightgrey;\n",
       "}\n",
       "</style>\n",
       "<table id=\"T_086d7\">\n",
       "  <thead>\n",
       "    <tr>\n",
       "      <th class=\"blank level0\" >&nbsp;</th>\n",
       "      <th id=\"T_086d7_level0_col0\" class=\"col_heading level0 col0\" >Model</th>\n",
       "      <th id=\"T_086d7_level0_col1\" class=\"col_heading level0 col1\" >Accuracy</th>\n",
       "      <th id=\"T_086d7_level0_col2\" class=\"col_heading level0 col2\" >AUC</th>\n",
       "      <th id=\"T_086d7_level0_col3\" class=\"col_heading level0 col3\" >Recall</th>\n",
       "      <th id=\"T_086d7_level0_col4\" class=\"col_heading level0 col4\" >Prec.</th>\n",
       "      <th id=\"T_086d7_level0_col5\" class=\"col_heading level0 col5\" >F1</th>\n",
       "      <th id=\"T_086d7_level0_col6\" class=\"col_heading level0 col6\" >Kappa</th>\n",
       "      <th id=\"T_086d7_level0_col7\" class=\"col_heading level0 col7\" >MCC</th>\n",
       "      <th id=\"T_086d7_level0_col8\" class=\"col_heading level0 col8\" >TT (Sec)</th>\n",
       "    </tr>\n",
       "  </thead>\n",
       "  <tbody>\n",
       "    <tr>\n",
       "      <th id=\"T_086d7_level0_row0\" class=\"row_heading level0 row0\" >gbc</th>\n",
       "      <td id=\"T_086d7_row0_col0\" class=\"data row0 col0\" >Gradient Boosting Classifier</td>\n",
       "      <td id=\"T_086d7_row0_col1\" class=\"data row0 col1\" >0.9048</td>\n",
       "      <td id=\"T_086d7_row0_col2\" class=\"data row0 col2\" >0.9167</td>\n",
       "      <td id=\"T_086d7_row0_col3\" class=\"data row0 col3\" >0.9500</td>\n",
       "      <td id=\"T_086d7_row0_col4\" class=\"data row0 col4\" >0.9100</td>\n",
       "      <td id=\"T_086d7_row0_col5\" class=\"data row0 col5\" >0.9206</td>\n",
       "      <td id=\"T_086d7_row0_col6\" class=\"data row0 col6\" >0.8058</td>\n",
       "      <td id=\"T_086d7_row0_col7\" class=\"data row0 col7\" >0.8289</td>\n",
       "      <td id=\"T_086d7_row0_col8\" class=\"data row0 col8\" >0.0550</td>\n",
       "    </tr>\n",
       "  </tbody>\n",
       "</table>\n"
      ],
      "text/plain": [
       "<pandas.io.formats.style.Styler at 0x27fed0be150>"
      ]
     },
     "metadata": {},
     "output_type": "display_data"
    },
    {
     "data": {
      "application/vnd.jupyter.widget-view+json": {
       "model_id": "87e0c4eea77d46e38d411e15409e1d23",
       "version_major": 2,
       "version_minor": 0
      },
      "text/plain": [
       "Processing:   0%|          | 0/9 [00:00<?, ?it/s]"
      ]
     },
     "metadata": {},
     "output_type": "display_data"
    },
    {
     "data": {
      "text/html": [],
      "text/plain": [
       "<IPython.core.display.HTML object>"
      ]
     },
     "metadata": {},
     "output_type": "display_data"
    },
    {
     "data": {
      "text/html": [],
      "text/plain": [
       "<IPython.core.display.HTML object>"
      ]
     },
     "metadata": {},
     "output_type": "display_data"
    },
    {
     "data": {
      "text/html": [],
      "text/plain": [
       "<IPython.core.display.HTML object>"
      ]
     },
     "metadata": {},
     "output_type": "display_data"
    },
    {
     "data": {
      "text/html": [
       "<style type=\"text/css\">\n",
       "#T_a571c th {\n",
       "  text-align: left;\n",
       "}\n",
       "#T_a571c_row0_col0 {\n",
       "  text-align: left;\n",
       "}\n",
       "#T_a571c_row0_col1, #T_a571c_row0_col2, #T_a571c_row0_col3, #T_a571c_row0_col4, #T_a571c_row0_col5, #T_a571c_row0_col6, #T_a571c_row0_col7 {\n",
       "  text-align: left;\n",
       "  background-color: yellow;\n",
       "}\n",
       "#T_a571c_row0_col8 {\n",
       "  text-align: left;\n",
       "  background-color: yellow;\n",
       "  background-color: lightgrey;\n",
       "}\n",
       "</style>\n",
       "<table id=\"T_a571c\">\n",
       "  <thead>\n",
       "    <tr>\n",
       "      <th class=\"blank level0\" >&nbsp;</th>\n",
       "      <th id=\"T_a571c_level0_col0\" class=\"col_heading level0 col0\" >Model</th>\n",
       "      <th id=\"T_a571c_level0_col1\" class=\"col_heading level0 col1\" >Accuracy</th>\n",
       "      <th id=\"T_a571c_level0_col2\" class=\"col_heading level0 col2\" >AUC</th>\n",
       "      <th id=\"T_a571c_level0_col3\" class=\"col_heading level0 col3\" >Recall</th>\n",
       "      <th id=\"T_a571c_level0_col4\" class=\"col_heading level0 col4\" >Prec.</th>\n",
       "      <th id=\"T_a571c_level0_col5\" class=\"col_heading level0 col5\" >F1</th>\n",
       "      <th id=\"T_a571c_level0_col6\" class=\"col_heading level0 col6\" >Kappa</th>\n",
       "      <th id=\"T_a571c_level0_col7\" class=\"col_heading level0 col7\" >MCC</th>\n",
       "      <th id=\"T_a571c_level0_col8\" class=\"col_heading level0 col8\" >TT (Sec)</th>\n",
       "    </tr>\n",
       "  </thead>\n",
       "  <tbody>\n",
       "    <tr>\n",
       "      <th id=\"T_a571c_level0_row0\" class=\"row_heading level0 row0\" >lightgbm</th>\n",
       "      <td id=\"T_a571c_row0_col0\" class=\"data row0 col0\" >Light Gradient Boosting Machine</td>\n",
       "      <td id=\"T_a571c_row0_col1\" class=\"data row0 col1\" >0.8929</td>\n",
       "      <td id=\"T_a571c_row0_col2\" class=\"data row0 col2\" >0.9722</td>\n",
       "      <td id=\"T_a571c_row0_col3\" class=\"data row0 col3\" >0.9167</td>\n",
       "      <td id=\"T_a571c_row0_col4\" class=\"data row0 col4\" >0.9017</td>\n",
       "      <td id=\"T_a571c_row0_col5\" class=\"data row0 col5\" >0.9052</td>\n",
       "      <td id=\"T_a571c_row0_col6\" class=\"data row0 col6\" >0.7808</td>\n",
       "      <td id=\"T_a571c_row0_col7\" class=\"data row0 col7\" >0.7918</td>\n",
       "      <td id=\"T_a571c_row0_col8\" class=\"data row0 col8\" >0.0390</td>\n",
       "    </tr>\n",
       "  </tbody>\n",
       "</table>\n"
      ],
      "text/plain": [
       "<pandas.io.formats.style.Styler at 0x27fe58e1b10>"
      ]
     },
     "metadata": {},
     "output_type": "display_data"
    },
    {
     "data": {
      "application/vnd.jupyter.widget-view+json": {
       "model_id": "bf9c0b9a99aa41fab2626d9ad7b0fbcc",
       "version_major": 2,
       "version_minor": 0
      },
      "text/plain": [
       "Processing:   0%|          | 0/9 [00:00<?, ?it/s]"
      ]
     },
     "metadata": {},
     "output_type": "display_data"
    },
    {
     "data": {
      "text/html": [],
      "text/plain": [
       "<IPython.core.display.HTML object>"
      ]
     },
     "metadata": {},
     "output_type": "display_data"
    },
    {
     "data": {
      "text/html": [],
      "text/plain": [
       "<IPython.core.display.HTML object>"
      ]
     },
     "metadata": {},
     "output_type": "display_data"
    },
    {
     "data": {
      "text/html": [],
      "text/plain": [
       "<IPython.core.display.HTML object>"
      ]
     },
     "metadata": {},
     "output_type": "display_data"
    },
    {
     "data": {
      "text/html": [
       "<style type=\"text/css\">\n",
       "#T_31c2e th {\n",
       "  text-align: left;\n",
       "}\n",
       "#T_31c2e_row0_col0 {\n",
       "  text-align: left;\n",
       "}\n",
       "#T_31c2e_row0_col1, #T_31c2e_row0_col2, #T_31c2e_row0_col3, #T_31c2e_row0_col4, #T_31c2e_row0_col5, #T_31c2e_row0_col6, #T_31c2e_row0_col7 {\n",
       "  text-align: left;\n",
       "  background-color: yellow;\n",
       "}\n",
       "#T_31c2e_row0_col8 {\n",
       "  text-align: left;\n",
       "  background-color: yellow;\n",
       "  background-color: lightgrey;\n",
       "}\n",
       "</style>\n",
       "<table id=\"T_31c2e\">\n",
       "  <thead>\n",
       "    <tr>\n",
       "      <th class=\"blank level0\" >&nbsp;</th>\n",
       "      <th id=\"T_31c2e_level0_col0\" class=\"col_heading level0 col0\" >Model</th>\n",
       "      <th id=\"T_31c2e_level0_col1\" class=\"col_heading level0 col1\" >Accuracy</th>\n",
       "      <th id=\"T_31c2e_level0_col2\" class=\"col_heading level0 col2\" >AUC</th>\n",
       "      <th id=\"T_31c2e_level0_col3\" class=\"col_heading level0 col3\" >Recall</th>\n",
       "      <th id=\"T_31c2e_level0_col4\" class=\"col_heading level0 col4\" >Prec.</th>\n",
       "      <th id=\"T_31c2e_level0_col5\" class=\"col_heading level0 col5\" >F1</th>\n",
       "      <th id=\"T_31c2e_level0_col6\" class=\"col_heading level0 col6\" >Kappa</th>\n",
       "      <th id=\"T_31c2e_level0_col7\" class=\"col_heading level0 col7\" >MCC</th>\n",
       "      <th id=\"T_31c2e_level0_col8\" class=\"col_heading level0 col8\" >TT (Sec)</th>\n",
       "    </tr>\n",
       "  </thead>\n",
       "  <tbody>\n",
       "    <tr>\n",
       "      <th id=\"T_31c2e_level0_row0\" class=\"row_heading level0 row0\" >ridge</th>\n",
       "      <td id=\"T_31c2e_row0_col0\" class=\"data row0 col0\" >Ridge Classifier</td>\n",
       "      <td id=\"T_31c2e_row0_col1\" class=\"data row0 col1\" >0.8857</td>\n",
       "      <td id=\"T_31c2e_row0_col2\" class=\"data row0 col2\" >0.9556</td>\n",
       "      <td id=\"T_31c2e_row0_col3\" class=\"data row0 col3\" >0.9083</td>\n",
       "      <td id=\"T_31c2e_row0_col4\" class=\"data row0 col4\" >0.8967</td>\n",
       "      <td id=\"T_31c2e_row0_col5\" class=\"data row0 col5\" >0.8984</td>\n",
       "      <td id=\"T_31c2e_row0_col6\" class=\"data row0 col6\" >0.7625</td>\n",
       "      <td id=\"T_31c2e_row0_col7\" class=\"data row0 col7\" >0.7716</td>\n",
       "      <td id=\"T_31c2e_row0_col8\" class=\"data row0 col8\" >0.0180</td>\n",
       "    </tr>\n",
       "  </tbody>\n",
       "</table>\n"
      ],
      "text/plain": [
       "<pandas.io.formats.style.Styler at 0x27fecf48690>"
      ]
     },
     "metadata": {},
     "output_type": "display_data"
    },
    {
     "data": {
      "application/vnd.jupyter.widget-view+json": {
       "model_id": "59ca34e4ee2b4a9f91daa941f1c3875f",
       "version_major": 2,
       "version_minor": 0
      },
      "text/plain": [
       "Processing:   0%|          | 0/9 [00:00<?, ?it/s]"
      ]
     },
     "metadata": {},
     "output_type": "display_data"
    },
    {
     "data": {
      "text/html": [],
      "text/plain": [
       "<IPython.core.display.HTML object>"
      ]
     },
     "metadata": {},
     "output_type": "display_data"
    },
    {
     "data": {
      "text/html": [],
      "text/plain": [
       "<IPython.core.display.HTML object>"
      ]
     },
     "metadata": {},
     "output_type": "display_data"
    },
    {
     "data": {
      "text/html": [],
      "text/plain": [
       "<IPython.core.display.HTML object>"
      ]
     },
     "metadata": {},
     "output_type": "display_data"
    },
    {
     "data": {
      "text/html": [
       "<style type=\"text/css\">\n",
       "#T_78433 th {\n",
       "  text-align: left;\n",
       "}\n",
       "#T_78433_row0_col0 {\n",
       "  text-align: left;\n",
       "}\n",
       "#T_78433_row0_col1, #T_78433_row0_col2, #T_78433_row0_col3, #T_78433_row0_col4, #T_78433_row0_col5, #T_78433_row0_col6, #T_78433_row0_col7 {\n",
       "  text-align: left;\n",
       "  background-color: yellow;\n",
       "}\n",
       "#T_78433_row0_col8 {\n",
       "  text-align: left;\n",
       "  background-color: yellow;\n",
       "  background-color: lightgrey;\n",
       "}\n",
       "</style>\n",
       "<table id=\"T_78433\">\n",
       "  <thead>\n",
       "    <tr>\n",
       "      <th class=\"blank level0\" >&nbsp;</th>\n",
       "      <th id=\"T_78433_level0_col0\" class=\"col_heading level0 col0\" >Model</th>\n",
       "      <th id=\"T_78433_level0_col1\" class=\"col_heading level0 col1\" >Accuracy</th>\n",
       "      <th id=\"T_78433_level0_col2\" class=\"col_heading level0 col2\" >AUC</th>\n",
       "      <th id=\"T_78433_level0_col3\" class=\"col_heading level0 col3\" >Recall</th>\n",
       "      <th id=\"T_78433_level0_col4\" class=\"col_heading level0 col4\" >Prec.</th>\n",
       "      <th id=\"T_78433_level0_col5\" class=\"col_heading level0 col5\" >F1</th>\n",
       "      <th id=\"T_78433_level0_col6\" class=\"col_heading level0 col6\" >Kappa</th>\n",
       "      <th id=\"T_78433_level0_col7\" class=\"col_heading level0 col7\" >MCC</th>\n",
       "      <th id=\"T_78433_level0_col8\" class=\"col_heading level0 col8\" >TT (Sec)</th>\n",
       "    </tr>\n",
       "  </thead>\n",
       "  <tbody>\n",
       "    <tr>\n",
       "      <th id=\"T_78433_level0_row0\" class=\"row_heading level0 row0\" >lda</th>\n",
       "      <td id=\"T_78433_row0_col0\" class=\"data row0 col0\" >Linear Discriminant Analysis</td>\n",
       "      <td id=\"T_78433_row0_col1\" class=\"data row0 col1\" >0.8857</td>\n",
       "      <td id=\"T_78433_row0_col2\" class=\"data row0 col2\" >0.9556</td>\n",
       "      <td id=\"T_78433_row0_col3\" class=\"data row0 col3\" >0.9083</td>\n",
       "      <td id=\"T_78433_row0_col4\" class=\"data row0 col4\" >0.8967</td>\n",
       "      <td id=\"T_78433_row0_col5\" class=\"data row0 col5\" >0.8984</td>\n",
       "      <td id=\"T_78433_row0_col6\" class=\"data row0 col6\" >0.7625</td>\n",
       "      <td id=\"T_78433_row0_col7\" class=\"data row0 col7\" >0.7716</td>\n",
       "      <td id=\"T_78433_row0_col8\" class=\"data row0 col8\" >0.0210</td>\n",
       "    </tr>\n",
       "  </tbody>\n",
       "</table>\n"
      ],
      "text/plain": [
       "<pandas.io.formats.style.Styler at 0x27fed012b50>"
      ]
     },
     "metadata": {},
     "output_type": "display_data"
    },
    {
     "data": {
      "application/vnd.jupyter.widget-view+json": {
       "model_id": "589670e93373447f824d165431987a50",
       "version_major": 2,
       "version_minor": 0
      },
      "text/plain": [
       "Processing:   0%|          | 0/9 [00:00<?, ?it/s]"
      ]
     },
     "metadata": {},
     "output_type": "display_data"
    },
    {
     "data": {
      "text/html": [],
      "text/plain": [
       "<IPython.core.display.HTML object>"
      ]
     },
     "metadata": {},
     "output_type": "display_data"
    },
    {
     "data": {
      "text/html": [],
      "text/plain": [
       "<IPython.core.display.HTML object>"
      ]
     },
     "metadata": {},
     "output_type": "display_data"
    },
    {
     "data": {
      "text/html": [],
      "text/plain": [
       "<IPython.core.display.HTML object>"
      ]
     },
     "metadata": {},
     "output_type": "display_data"
    },
    {
     "data": {
      "text/html": [
       "<style type=\"text/css\">\n",
       "#T_28058 th {\n",
       "  text-align: left;\n",
       "}\n",
       "#T_28058_row0_col0 {\n",
       "  text-align: left;\n",
       "}\n",
       "#T_28058_row0_col1, #T_28058_row0_col2, #T_28058_row0_col3, #T_28058_row0_col4, #T_28058_row0_col5, #T_28058_row0_col6, #T_28058_row0_col7 {\n",
       "  text-align: left;\n",
       "  background-color: yellow;\n",
       "}\n",
       "#T_28058_row0_col8 {\n",
       "  text-align: left;\n",
       "  background-color: yellow;\n",
       "  background-color: lightgrey;\n",
       "}\n",
       "</style>\n",
       "<table id=\"T_28058\">\n",
       "  <thead>\n",
       "    <tr>\n",
       "      <th class=\"blank level0\" >&nbsp;</th>\n",
       "      <th id=\"T_28058_level0_col0\" class=\"col_heading level0 col0\" >Model</th>\n",
       "      <th id=\"T_28058_level0_col1\" class=\"col_heading level0 col1\" >Accuracy</th>\n",
       "      <th id=\"T_28058_level0_col2\" class=\"col_heading level0 col2\" >AUC</th>\n",
       "      <th id=\"T_28058_level0_col3\" class=\"col_heading level0 col3\" >Recall</th>\n",
       "      <th id=\"T_28058_level0_col4\" class=\"col_heading level0 col4\" >Prec.</th>\n",
       "      <th id=\"T_28058_level0_col5\" class=\"col_heading level0 col5\" >F1</th>\n",
       "      <th id=\"T_28058_level0_col6\" class=\"col_heading level0 col6\" >Kappa</th>\n",
       "      <th id=\"T_28058_level0_col7\" class=\"col_heading level0 col7\" >MCC</th>\n",
       "      <th id=\"T_28058_level0_col8\" class=\"col_heading level0 col8\" >TT (Sec)</th>\n",
       "    </tr>\n",
       "  </thead>\n",
       "  <tbody>\n",
       "    <tr>\n",
       "      <th id=\"T_28058_level0_row0\" class=\"row_heading level0 row0\" >dt</th>\n",
       "      <td id=\"T_28058_row0_col0\" class=\"data row0 col0\" >Decision Tree Classifier</td>\n",
       "      <td id=\"T_28058_row0_col1\" class=\"data row0 col1\" >0.8762</td>\n",
       "      <td id=\"T_28058_row0_col2\" class=\"data row0 col2\" >0.8750</td>\n",
       "      <td id=\"T_28058_row0_col3\" class=\"data row0 col3\" >0.9500</td>\n",
       "      <td id=\"T_28058_row0_col4\" class=\"data row0 col4\" >0.8767</td>\n",
       "      <td id=\"T_28058_row0_col5\" class=\"data row0 col5\" >0.9006</td>\n",
       "      <td id=\"T_28058_row0_col6\" class=\"data row0 col6\" >0.7422</td>\n",
       "      <td id=\"T_28058_row0_col7\" class=\"data row0 col7\" >0.7760</td>\n",
       "      <td id=\"T_28058_row0_col8\" class=\"data row0 col8\" >0.0170</td>\n",
       "    </tr>\n",
       "  </tbody>\n",
       "</table>\n"
      ],
      "text/plain": [
       "<pandas.io.formats.style.Styler at 0x27fe5a5eb10>"
      ]
     },
     "metadata": {},
     "output_type": "display_data"
    },
    {
     "data": {
      "application/vnd.jupyter.widget-view+json": {
       "model_id": "59c98bb55a6947018ff98786075fd9a9",
       "version_major": 2,
       "version_minor": 0
      },
      "text/plain": [
       "Processing:   0%|          | 0/9 [00:00<?, ?it/s]"
      ]
     },
     "metadata": {},
     "output_type": "display_data"
    },
    {
     "data": {
      "text/html": [],
      "text/plain": [
       "<IPython.core.display.HTML object>"
      ]
     },
     "metadata": {},
     "output_type": "display_data"
    },
    {
     "data": {
      "text/html": [],
      "text/plain": [
       "<IPython.core.display.HTML object>"
      ]
     },
     "metadata": {},
     "output_type": "display_data"
    },
    {
     "data": {
      "text/html": [],
      "text/plain": [
       "<IPython.core.display.HTML object>"
      ]
     },
     "metadata": {},
     "output_type": "display_data"
    },
    {
     "data": {
      "text/html": [
       "<style type=\"text/css\">\n",
       "#T_9b0a0 th {\n",
       "  text-align: left;\n",
       "}\n",
       "#T_9b0a0_row0_col0 {\n",
       "  text-align: left;\n",
       "}\n",
       "#T_9b0a0_row0_col1, #T_9b0a0_row0_col2, #T_9b0a0_row0_col3, #T_9b0a0_row0_col4, #T_9b0a0_row0_col5, #T_9b0a0_row0_col6, #T_9b0a0_row0_col7 {\n",
       "  text-align: left;\n",
       "  background-color: yellow;\n",
       "}\n",
       "#T_9b0a0_row0_col8 {\n",
       "  text-align: left;\n",
       "  background-color: yellow;\n",
       "  background-color: lightgrey;\n",
       "}\n",
       "</style>\n",
       "<table id=\"T_9b0a0\">\n",
       "  <thead>\n",
       "    <tr>\n",
       "      <th class=\"blank level0\" >&nbsp;</th>\n",
       "      <th id=\"T_9b0a0_level0_col0\" class=\"col_heading level0 col0\" >Model</th>\n",
       "      <th id=\"T_9b0a0_level0_col1\" class=\"col_heading level0 col1\" >Accuracy</th>\n",
       "      <th id=\"T_9b0a0_level0_col2\" class=\"col_heading level0 col2\" >AUC</th>\n",
       "      <th id=\"T_9b0a0_level0_col3\" class=\"col_heading level0 col3\" >Recall</th>\n",
       "      <th id=\"T_9b0a0_level0_col4\" class=\"col_heading level0 col4\" >Prec.</th>\n",
       "      <th id=\"T_9b0a0_level0_col5\" class=\"col_heading level0 col5\" >F1</th>\n",
       "      <th id=\"T_9b0a0_level0_col6\" class=\"col_heading level0 col6\" >Kappa</th>\n",
       "      <th id=\"T_9b0a0_level0_col7\" class=\"col_heading level0 col7\" >MCC</th>\n",
       "      <th id=\"T_9b0a0_level0_col8\" class=\"col_heading level0 col8\" >TT (Sec)</th>\n",
       "    </tr>\n",
       "  </thead>\n",
       "  <tbody>\n",
       "    <tr>\n",
       "      <th id=\"T_9b0a0_level0_row0\" class=\"row_heading level0 row0\" >nb</th>\n",
       "      <td id=\"T_9b0a0_row0_col0\" class=\"data row0 col0\" >Naive Bayes</td>\n",
       "      <td id=\"T_9b0a0_row0_col1\" class=\"data row0 col1\" >0.8714</td>\n",
       "      <td id=\"T_9b0a0_row0_col2\" class=\"data row0 col2\" >0.8729</td>\n",
       "      <td id=\"T_9b0a0_row0_col3\" class=\"data row0 col3\" >0.9083</td>\n",
       "      <td id=\"T_9b0a0_row0_col4\" class=\"data row0 col4\" >0.8683</td>\n",
       "      <td id=\"T_9b0a0_row0_col5\" class=\"data row0 col5\" >0.8861</td>\n",
       "      <td id=\"T_9b0a0_row0_col6\" class=\"data row0 col6\" >0.7226</td>\n",
       "      <td id=\"T_9b0a0_row0_col7\" class=\"data row0 col7\" >0.7348</td>\n",
       "      <td id=\"T_9b0a0_row0_col8\" class=\"data row0 col8\" >0.0170</td>\n",
       "    </tr>\n",
       "  </tbody>\n",
       "</table>\n"
      ],
      "text/plain": [
       "<pandas.io.formats.style.Styler at 0x27fe5a5ea90>"
      ]
     },
     "metadata": {},
     "output_type": "display_data"
    },
    {
     "data": {
      "application/vnd.jupyter.widget-view+json": {
       "model_id": "3d1a966980eb44a6a97f02098aef67c9",
       "version_major": 2,
       "version_minor": 0
      },
      "text/plain": [
       "Processing:   0%|          | 0/9 [00:00<?, ?it/s]"
      ]
     },
     "metadata": {},
     "output_type": "display_data"
    },
    {
     "data": {
      "text/html": [],
      "text/plain": [
       "<IPython.core.display.HTML object>"
      ]
     },
     "metadata": {},
     "output_type": "display_data"
    },
    {
     "data": {
      "text/html": [],
      "text/plain": [
       "<IPython.core.display.HTML object>"
      ]
     },
     "metadata": {},
     "output_type": "display_data"
    },
    {
     "data": {
      "text/html": [],
      "text/plain": [
       "<IPython.core.display.HTML object>"
      ]
     },
     "metadata": {},
     "output_type": "display_data"
    },
    {
     "data": {
      "text/html": [
       "<style type=\"text/css\">\n",
       "#T_5b9c9 th {\n",
       "  text-align: left;\n",
       "}\n",
       "#T_5b9c9_row0_col0 {\n",
       "  text-align: left;\n",
       "}\n",
       "#T_5b9c9_row0_col1, #T_5b9c9_row0_col2, #T_5b9c9_row0_col3, #T_5b9c9_row0_col4, #T_5b9c9_row0_col5, #T_5b9c9_row0_col6, #T_5b9c9_row0_col7 {\n",
       "  text-align: left;\n",
       "  background-color: yellow;\n",
       "}\n",
       "#T_5b9c9_row0_col8 {\n",
       "  text-align: left;\n",
       "  background-color: yellow;\n",
       "  background-color: lightgrey;\n",
       "}\n",
       "</style>\n",
       "<table id=\"T_5b9c9\">\n",
       "  <thead>\n",
       "    <tr>\n",
       "      <th class=\"blank level0\" >&nbsp;</th>\n",
       "      <th id=\"T_5b9c9_level0_col0\" class=\"col_heading level0 col0\" >Model</th>\n",
       "      <th id=\"T_5b9c9_level0_col1\" class=\"col_heading level0 col1\" >Accuracy</th>\n",
       "      <th id=\"T_5b9c9_level0_col2\" class=\"col_heading level0 col2\" >AUC</th>\n",
       "      <th id=\"T_5b9c9_level0_col3\" class=\"col_heading level0 col3\" >Recall</th>\n",
       "      <th id=\"T_5b9c9_level0_col4\" class=\"col_heading level0 col4\" >Prec.</th>\n",
       "      <th id=\"T_5b9c9_level0_col5\" class=\"col_heading level0 col5\" >F1</th>\n",
       "      <th id=\"T_5b9c9_level0_col6\" class=\"col_heading level0 col6\" >Kappa</th>\n",
       "      <th id=\"T_5b9c9_level0_col7\" class=\"col_heading level0 col7\" >MCC</th>\n",
       "      <th id=\"T_5b9c9_level0_col8\" class=\"col_heading level0 col8\" >TT (Sec)</th>\n",
       "    </tr>\n",
       "  </thead>\n",
       "  <tbody>\n",
       "    <tr>\n",
       "      <th id=\"T_5b9c9_level0_row0\" class=\"row_heading level0 row0\" >svm</th>\n",
       "      <td id=\"T_5b9c9_row0_col0\" class=\"data row0 col0\" >SVM - Linear Kernel</td>\n",
       "      <td id=\"T_5b9c9_row0_col1\" class=\"data row0 col1\" >0.8690</td>\n",
       "      <td id=\"T_5b9c9_row0_col2\" class=\"data row0 col2\" >0.9667</td>\n",
       "      <td id=\"T_5b9c9_row0_col3\" class=\"data row0 col3\" >0.8583</td>\n",
       "      <td id=\"T_5b9c9_row0_col4\" class=\"data row0 col4\" >0.9350</td>\n",
       "      <td id=\"T_5b9c9_row0_col5\" class=\"data row0 col5\" >0.8659</td>\n",
       "      <td id=\"T_5b9c9_row0_col6\" class=\"data row0 col6\" >0.7334</td>\n",
       "      <td id=\"T_5b9c9_row0_col7\" class=\"data row0 col7\" >0.7724</td>\n",
       "      <td id=\"T_5b9c9_row0_col8\" class=\"data row0 col8\" >0.0200</td>\n",
       "    </tr>\n",
       "  </tbody>\n",
       "</table>\n"
      ],
      "text/plain": [
       "<pandas.io.formats.style.Styler at 0x27fed0a4590>"
      ]
     },
     "metadata": {},
     "output_type": "display_data"
    },
    {
     "data": {
      "application/vnd.jupyter.widget-view+json": {
       "model_id": "ee4ec517fe3340c8b4611010b0986127",
       "version_major": 2,
       "version_minor": 0
      },
      "text/plain": [
       "Processing:   0%|          | 0/9 [00:00<?, ?it/s]"
      ]
     },
     "metadata": {},
     "output_type": "display_data"
    },
    {
     "data": {
      "text/html": [],
      "text/plain": [
       "<IPython.core.display.HTML object>"
      ]
     },
     "metadata": {},
     "output_type": "display_data"
    },
    {
     "data": {
      "text/html": [],
      "text/plain": [
       "<IPython.core.display.HTML object>"
      ]
     },
     "metadata": {},
     "output_type": "display_data"
    },
    {
     "data": {
      "text/html": [],
      "text/plain": [
       "<IPython.core.display.HTML object>"
      ]
     },
     "metadata": {},
     "output_type": "display_data"
    },
    {
     "data": {
      "text/html": [
       "<style type=\"text/css\">\n",
       "#T_2c9f0 th {\n",
       "  text-align: left;\n",
       "}\n",
       "#T_2c9f0_row0_col0 {\n",
       "  text-align: left;\n",
       "}\n",
       "#T_2c9f0_row0_col1, #T_2c9f0_row0_col2, #T_2c9f0_row0_col3, #T_2c9f0_row0_col4, #T_2c9f0_row0_col5, #T_2c9f0_row0_col6, #T_2c9f0_row0_col7 {\n",
       "  text-align: left;\n",
       "  background-color: yellow;\n",
       "}\n",
       "#T_2c9f0_row0_col8 {\n",
       "  text-align: left;\n",
       "  background-color: yellow;\n",
       "  background-color: lightgrey;\n",
       "}\n",
       "</style>\n",
       "<table id=\"T_2c9f0\">\n",
       "  <thead>\n",
       "    <tr>\n",
       "      <th class=\"blank level0\" >&nbsp;</th>\n",
       "      <th id=\"T_2c9f0_level0_col0\" class=\"col_heading level0 col0\" >Model</th>\n",
       "      <th id=\"T_2c9f0_level0_col1\" class=\"col_heading level0 col1\" >Accuracy</th>\n",
       "      <th id=\"T_2c9f0_level0_col2\" class=\"col_heading level0 col2\" >AUC</th>\n",
       "      <th id=\"T_2c9f0_level0_col3\" class=\"col_heading level0 col3\" >Recall</th>\n",
       "      <th id=\"T_2c9f0_level0_col4\" class=\"col_heading level0 col4\" >Prec.</th>\n",
       "      <th id=\"T_2c9f0_level0_col5\" class=\"col_heading level0 col5\" >F1</th>\n",
       "      <th id=\"T_2c9f0_level0_col6\" class=\"col_heading level0 col6\" >Kappa</th>\n",
       "      <th id=\"T_2c9f0_level0_col7\" class=\"col_heading level0 col7\" >MCC</th>\n",
       "      <th id=\"T_2c9f0_level0_col8\" class=\"col_heading level0 col8\" >TT (Sec)</th>\n",
       "    </tr>\n",
       "  </thead>\n",
       "  <tbody>\n",
       "    <tr>\n",
       "      <th id=\"T_2c9f0_level0_row0\" class=\"row_heading level0 row0\" >dummy</th>\n",
       "      <td id=\"T_2c9f0_row0_col0\" class=\"data row0 col0\" >Dummy Classifier</td>\n",
       "      <td id=\"T_2c9f0_row0_col1\" class=\"data row0 col1\" >0.5881</td>\n",
       "      <td id=\"T_2c9f0_row0_col2\" class=\"data row0 col2\" >0.5000</td>\n",
       "      <td id=\"T_2c9f0_row0_col3\" class=\"data row0 col3\" >1.0000</td>\n",
       "      <td id=\"T_2c9f0_row0_col4\" class=\"data row0 col4\" >0.5881</td>\n",
       "      <td id=\"T_2c9f0_row0_col5\" class=\"data row0 col5\" >0.7382</td>\n",
       "      <td id=\"T_2c9f0_row0_col6\" class=\"data row0 col6\" >0.0000</td>\n",
       "      <td id=\"T_2c9f0_row0_col7\" class=\"data row0 col7\" >0.0000</td>\n",
       "      <td id=\"T_2c9f0_row0_col8\" class=\"data row0 col8\" >0.0160</td>\n",
       "    </tr>\n",
       "  </tbody>\n",
       "</table>\n"
      ],
      "text/plain": [
       "<pandas.io.formats.style.Styler at 0x27fe5a4de10>"
      ]
     },
     "metadata": {},
     "output_type": "display_data"
    },
    {
     "data": {
      "application/vnd.jupyter.widget-view+json": {
       "model_id": "8025988137504b8691766bf2d6263a50",
       "version_major": 2,
       "version_minor": 0
      },
      "text/plain": [
       "Processing:   0%|          | 0/9 [00:00<?, ?it/s]"
      ]
     },
     "metadata": {},
     "output_type": "display_data"
    },
    {
     "data": {
      "text/html": [],
      "text/plain": [
       "<IPython.core.display.HTML object>"
      ]
     },
     "metadata": {},
     "output_type": "display_data"
    },
    {
     "data": {
      "text/html": [],
      "text/plain": [
       "<IPython.core.display.HTML object>"
      ]
     },
     "metadata": {},
     "output_type": "display_data"
    }
   ],
   "source": [
    "import pandas as pd\n",
    "from pycaret.classification import setup, compare_models, predict_model, finalize_model, pull\n",
    "from sklearn.metrics import accuracy_score, f1_score\n",
    "from sklearn.model_selection import train_test_split\n",
    "import joblib\n",
    "\n",
    "# Load the CSV file into a DataFrame\n",
    "df = pd.read_csv('../data/players_df_sin_reco.csv')\n",
    "\n",
    "# Select features (columns 7 to 20, 0-based index: 6 to 19)\n",
    "X = df.iloc[:, 6:20]\n",
    "\n",
    "# Select the last column from the end as the target\n",
    "y = df.iloc[:, -1]\n",
    "\n",
    "# Split data into training and testing sets\n",
    "X_train, X_test, y_train, y_test = train_test_split(X, y, test_size=0.2, random_state=42)\n",
    "\n",
    "# Create an empty DataFrame to store results\n",
    "targetman_df = pd.DataFrame(columns=['model', 'train_accuracy', 'test_accuracy', 'train_f1', 'test_f1', 'TT'])\n",
    "\n",
    "# Concatenate X_train and y_train into a DataFrame for PyCaret setup\n",
    "df_target = pd.concat([X_train, y_train], axis=1)\n",
    "\n",
    "# Setup PyCaret environment\n",
    "clf = setup(data=df_target, target=y.name, session_id=42)\n",
    "\n",
    "# Compare different models and store the results\n",
    "best_model = compare_models()  # This returns the top model\n",
    "compare_results = pull()  # Pulls all model results as a DataFrame\n",
    "\n",
    "# Define the mapping from model names to PyCaret identifiers\n",
    "model_mapping = {\n",
    "    'K Neighbors Classifier': 'knn',\n",
    "    'Random Forest Classifier': 'rf',\n",
    "    'Logistic Regression': 'lr',\n",
    "    'Decision Tree Classifier': 'dt',\n",
    "    'Ada Boost Classifier': 'ada',\n",
    "    'Gradient Boosting Classifier': 'gbc',\n",
    "    'Naive Bayes': 'nb',\n",
    "    'SVM - Linear Kernel': 'svm',\n",
    "    'Extra Trees Classifier': 'et',\n",
    "    'Light Gradient Boosting Machine': 'lightgbm',\n",
    "    'Ridge Classifier': 'ridge',\n",
    "    'Linear Discriminant Analysis': 'lda',\n",
    "    'Extreme Gradient Boosting': 'xgboost',\n",
    "    'Dummy Classifier': 'dummy'\n",
    "}\n",
    "\n",
    "# Loop over each model in the compare_results DataFrame\n",
    "for idx, row in compare_results.iterrows():\n",
    "    model_name = row['Model']\n",
    "    testing_time = row['TT (Sec)']\n",
    "\n",
    "    # Get the PyCaret identifier for the model\n",
    "    model_identifier = model_mapping.get(model_name)\n",
    "\n",
    "    # Instead of finalizing by the model name, select the model by identifier\n",
    "    if model_identifier:\n",
    "        best_model = compare_models(include=[model_identifier], n_select=1)\n",
    "\n",
    "        # Finalize the model (train it on the entire dataset)\n",
    "        final_model = finalize_model(best_model)\n",
    "\n",
    "        # Predict on train and test sets\n",
    "        predictions_train = predict_model(final_model, data=X_train)\n",
    "        predictions_test = predict_model(final_model, data=X_test)\n",
    "\n",
    "        # Calculate test accuracy and F1 score\n",
    "        y_pred_test = predictions_test['prediction_label']\n",
    "        test_accuracy = accuracy_score(y_test, y_pred_test)\n",
    "        test_f1 = f1_score(y_test, y_pred_test, average='weighted')\n",
    "\n",
    "        # Calculate train accuracy and F1 score\n",
    "        y_pred_train = predictions_train['prediction_label']\n",
    "        train_accuracy = accuracy_score(y_train, y_pred_train)\n",
    "        train_f1 = f1_score(y_train, y_pred_train, average='weighted')\n",
    "\n",
    "        # Append the metrics for each model to the results DataFrame\n",
    "        new_row = pd.DataFrame({\n",
    "            'model': model_name,\n",
    "            'train_accuracy': train_accuracy,\n",
    "            'test_accuracy': test_accuracy,\n",
    "            'train_f1': train_f1,\n",
    "            'test_f1': test_f1,\n",
    "            'TT': testing_time\n",
    "        }, index=[0])\n",
    "\n",
    "        targetman_df = pd.concat([targetman_df, new_row], ignore_index=True)\n"
   ]
  },
  {
   "cell_type": "code",
   "execution_count": 34,
   "metadata": {},
   "outputs": [
    {
     "data": {
      "text/html": [
       "<div>\n",
       "<style scoped>\n",
       "    .dataframe tbody tr th:only-of-type {\n",
       "        vertical-align: middle;\n",
       "    }\n",
       "\n",
       "    .dataframe tbody tr th {\n",
       "        vertical-align: top;\n",
       "    }\n",
       "\n",
       "    .dataframe thead th {\n",
       "        text-align: right;\n",
       "    }\n",
       "</style>\n",
       "<table border=\"1\" class=\"dataframe\">\n",
       "  <thead>\n",
       "    <tr style=\"text-align: right;\">\n",
       "      <th></th>\n",
       "      <th>model</th>\n",
       "      <th>train_accuracy</th>\n",
       "      <th>test_accuracy</th>\n",
       "      <th>train_f1</th>\n",
       "      <th>test_f1</th>\n",
       "      <th>TT</th>\n",
       "    </tr>\n",
       "  </thead>\n",
       "  <tbody>\n",
       "    <tr>\n",
       "      <th>0</th>\n",
       "      <td>Random Forest Classifier</td>\n",
       "      <td>1.000000</td>\n",
       "      <td>0.739130</td>\n",
       "      <td>1.000000</td>\n",
       "      <td>0.725064</td>\n",
       "      <td>0.080</td>\n",
       "    </tr>\n",
       "    <tr>\n",
       "      <th>1</th>\n",
       "      <td>Extreme Gradient Boosting</td>\n",
       "      <td>1.000000</td>\n",
       "      <td>0.869565</td>\n",
       "      <td>1.000000</td>\n",
       "      <td>0.857369</td>\n",
       "      <td>0.031</td>\n",
       "    </tr>\n",
       "    <tr>\n",
       "      <th>2</th>\n",
       "      <td>Extra Trees Classifier</td>\n",
       "      <td>1.000000</td>\n",
       "      <td>0.782609</td>\n",
       "      <td>1.000000</td>\n",
       "      <td>0.762281</td>\n",
       "      <td>0.070</td>\n",
       "    </tr>\n",
       "    <tr>\n",
       "      <th>3</th>\n",
       "      <td>K Neighbors Classifier</td>\n",
       "      <td>0.956044</td>\n",
       "      <td>0.869565</td>\n",
       "      <td>0.955833</td>\n",
       "      <td>0.857369</td>\n",
       "      <td>0.021</td>\n",
       "    </tr>\n",
       "    <tr>\n",
       "      <th>4</th>\n",
       "      <td>Ada Boost Classifier</td>\n",
       "      <td>1.000000</td>\n",
       "      <td>0.826087</td>\n",
       "      <td>1.000000</td>\n",
       "      <td>0.816709</td>\n",
       "      <td>0.052</td>\n",
       "    </tr>\n",
       "    <tr>\n",
       "      <th>5</th>\n",
       "      <td>Logistic Regression</td>\n",
       "      <td>1.000000</td>\n",
       "      <td>0.869565</td>\n",
       "      <td>1.000000</td>\n",
       "      <td>0.866525</td>\n",
       "      <td>0.022</td>\n",
       "    </tr>\n",
       "    <tr>\n",
       "      <th>6</th>\n",
       "      <td>Gradient Boosting Classifier</td>\n",
       "      <td>1.000000</td>\n",
       "      <td>0.826087</td>\n",
       "      <td>1.000000</td>\n",
       "      <td>0.826087</td>\n",
       "      <td>0.049</td>\n",
       "    </tr>\n",
       "    <tr>\n",
       "      <th>7</th>\n",
       "      <td>Light Gradient Boosting Machine</td>\n",
       "      <td>1.000000</td>\n",
       "      <td>0.782609</td>\n",
       "      <td>1.000000</td>\n",
       "      <td>0.762281</td>\n",
       "      <td>0.037</td>\n",
       "    </tr>\n",
       "    <tr>\n",
       "      <th>8</th>\n",
       "      <td>Ridge Classifier</td>\n",
       "      <td>0.934066</td>\n",
       "      <td>0.739130</td>\n",
       "      <td>0.934066</td>\n",
       "      <td>0.701449</td>\n",
       "      <td>0.015</td>\n",
       "    </tr>\n",
       "    <tr>\n",
       "      <th>9</th>\n",
       "      <td>Linear Discriminant Analysis</td>\n",
       "      <td>0.934066</td>\n",
       "      <td>0.739130</td>\n",
       "      <td>0.934066</td>\n",
       "      <td>0.701449</td>\n",
       "      <td>0.015</td>\n",
       "    </tr>\n",
       "    <tr>\n",
       "      <th>10</th>\n",
       "      <td>Decision Tree Classifier</td>\n",
       "      <td>1.000000</td>\n",
       "      <td>0.869565</td>\n",
       "      <td>1.000000</td>\n",
       "      <td>0.866525</td>\n",
       "      <td>0.019</td>\n",
       "    </tr>\n",
       "    <tr>\n",
       "      <th>11</th>\n",
       "      <td>Naive Bayes</td>\n",
       "      <td>0.879121</td>\n",
       "      <td>0.739130</td>\n",
       "      <td>0.879362</td>\n",
       "      <td>0.725064</td>\n",
       "      <td>0.015</td>\n",
       "    </tr>\n",
       "    <tr>\n",
       "      <th>12</th>\n",
       "      <td>SVM - Linear Kernel</td>\n",
       "      <td>0.868132</td>\n",
       "      <td>0.739130</td>\n",
       "      <td>0.861964</td>\n",
       "      <td>0.661899</td>\n",
       "      <td>0.020</td>\n",
       "    </tr>\n",
       "    <tr>\n",
       "      <th>13</th>\n",
       "      <td>Dummy Classifier</td>\n",
       "      <td>0.593407</td>\n",
       "      <td>0.695652</td>\n",
       "      <td>0.441986</td>\n",
       "      <td>0.570792</td>\n",
       "      <td>0.014</td>\n",
       "    </tr>\n",
       "  </tbody>\n",
       "</table>\n",
       "</div>"
      ],
      "text/plain": [
       "                              model  train_accuracy  test_accuracy  train_f1  \\\n",
       "0          Random Forest Classifier        1.000000       0.739130  1.000000   \n",
       "1         Extreme Gradient Boosting        1.000000       0.869565  1.000000   \n",
       "2            Extra Trees Classifier        1.000000       0.782609  1.000000   \n",
       "3            K Neighbors Classifier        0.956044       0.869565  0.955833   \n",
       "4              Ada Boost Classifier        1.000000       0.826087  1.000000   \n",
       "5               Logistic Regression        1.000000       0.869565  1.000000   \n",
       "6      Gradient Boosting Classifier        1.000000       0.826087  1.000000   \n",
       "7   Light Gradient Boosting Machine        1.000000       0.782609  1.000000   \n",
       "8                  Ridge Classifier        0.934066       0.739130  0.934066   \n",
       "9      Linear Discriminant Analysis        0.934066       0.739130  0.934066   \n",
       "10         Decision Tree Classifier        1.000000       0.869565  1.000000   \n",
       "11                      Naive Bayes        0.879121       0.739130  0.879362   \n",
       "12              SVM - Linear Kernel        0.868132       0.739130  0.861964   \n",
       "13                 Dummy Classifier        0.593407       0.695652  0.441986   \n",
       "\n",
       "     test_f1     TT  \n",
       "0   0.725064  0.080  \n",
       "1   0.857369  0.031  \n",
       "2   0.762281  0.070  \n",
       "3   0.857369  0.021  \n",
       "4   0.816709  0.052  \n",
       "5   0.866525  0.022  \n",
       "6   0.826087  0.049  \n",
       "7   0.762281  0.037  \n",
       "8   0.701449  0.015  \n",
       "9   0.701449  0.015  \n",
       "10  0.866525  0.019  \n",
       "11  0.725064  0.015  \n",
       "12  0.661899  0.020  \n",
       "13  0.570792  0.014  "
      ]
     },
     "execution_count": 34,
     "metadata": {},
     "output_type": "execute_result"
    }
   ],
   "source": [
    "targetman_df"
   ]
  }
 ],
 "metadata": {
  "kernelspec": {
   "display_name": "base",
   "language": "python",
   "name": "python3"
  },
  "language_info": {
   "codemirror_mode": {
    "name": "ipython",
    "version": 3
   },
   "file_extension": ".py",
   "mimetype": "text/x-python",
   "name": "python",
   "nbconvert_exporter": "python",
   "pygments_lexer": "ipython3",
   "version": "3.11.7"
  }
 },
 "nbformat": 4,
 "nbformat_minor": 2
}
